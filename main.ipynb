{
 "cells": [
  {
   "cell_type": "markdown",
   "metadata": {},
   "source": [
    "# Personal Financial Report\n",
    ">version 3.0\n",
    "\n",
    "this jupyter notebook allows me to keep track of my finances.\n",
    "\n",
    "\n",
    "\n",
    "\n",
    "\n",
    "\n",
    "\n"
   ]
  },
  {
   "cell_type": "markdown",
   "metadata": {},
   "source": [
    "# SET UP"
   ]
  },
  {
   "cell_type": "code",
   "execution_count": 1,
   "metadata": {
    "ExecuteTime": {
     "end_time": "2022-09-23T06:28:48.262117Z",
     "start_time": "2022-09-23T06:28:47.618991Z"
    }
   },
   "outputs": [],
   "source": [
    "## import the Libraries\n",
    "\n",
    "# standard Libraries\n",
    "import os\n",
    "import re\n",
    "import time\n",
    "import json5 as json \n",
    "from datetime import datetime, timedelta\n",
    "import pandas as pd\n",
    "import numpy as np\n",
    "\n",
    "import functions as f\n",
    "\n",
    "# used for displaying data and stuff\n",
    "from IPython.display import display, HTML, FileLink, FileLinks\n",
    "\n",
    "# used for charts and Graphs\n",
    "import plotly\n",
    "import plotly.express as px\n",
    "import seaborn as sns\n",
    "import calmap\n",
    "from plotly_calplot import calplot\n",
    "\n",
    "import matplotlib.pyplot as plt\n",
    "import matplotlib.colors as mcolors\n",
    "\n",
    "# plotly Theme\n",
    "plotly_theme = 'plotly_dark'\n",
    "\n",
    "# disable plotly warnings\n",
    "import warnings\n",
    "warnings.filterwarnings(\"ignore\")\n",
    "\n",
    "## Pandas Options\n",
    "\n",
    "# show all the columns and rows\n",
    "pd.set_option('display.max_columns', None)\n",
    "pd.set_option('display.max_rows', None)\n",
    "pd.set_option('display.width', 1000)\n",
    "\n",
    "# turn off a warning\n",
    "pd.options.mode.chained_assignment = None  # default='warn'\n",
    "\n",
    "## Variables\n",
    "DIR = os.getcwd()\n",
    "data_DIR = os.path.join(DIR,'data')\n",
    "old_data_DIR = os.path.join(DIR,'old_data')\n",
    "\n",
    "if os.path.exists(data_DIR) == False:\n",
    "    os.mkdir(data_DIR)\n"
   ]
  },
  {
   "cell_type": "code",
   "execution_count": 32,
   "metadata": {},
   "outputs": [],
   "source": [
    "this_year = int(datetime.now().strftime(\"%Y\"))\n",
    "this_month = int(datetime.now().strftime(\"%m\"))\n",
    "\n",
    "this_year = 2022"
   ]
  },
  {
   "cell_type": "markdown",
   "metadata": {},
   "source": [
    "# incorporated new data"
   ]
  },
  {
   "cell_type": "code",
   "execution_count": 11,
   "metadata": {
    "ExecuteTime": {
     "end_time": "2022-09-23T06:28:48.738822Z",
     "start_time": "2022-09-23T06:28:48.589223Z"
    }
   },
   "outputs": [
    {
     "name": "stdout",
     "output_type": "stream",
     "text": [
      "Happy New Years!\n",
      "[Errno 2] No such file or directory: 'C:\\\\Users\\\\JGarza\\\\Downloads\\\\stmt.csv'\n",
      "error loading new data\n"
     ]
    }
   ],
   "source": [
    "# merges the old data with the new data...\n",
    "# and opens the file so the user can fill in the spots that are not automatically filled\n",
    "\n",
    "\n",
    "f.incorporated_data(autofillcat= False)\n",
    "f.open_year_in_excel(this_year)\n",
    "\n",
    "# f.open_year_in_scalc(this_year)"
   ]
  },
  {
   "cell_type": "markdown",
   "metadata": {},
   "source": [
    "# create dataframes\n",
    "\n",
    "df_year  \n",
    "df_90days  \n",
    "df_30days  \n",
    "df_07days  \n",
    "~~df_all~~  \n"
   ]
  },
  {
   "cell_type": "code",
   "execution_count": 33,
   "metadata": {},
   "outputs": [],
   "source": [
    "# df_year = f.load_last_x_years(2)\n",
    "df_year = f.load_year(this_year)\n",
    "\n",
    "df_year.Date = pd.to_datetime(df_year.Date)\n",
    "\n",
    "ninety_days = ( df_year.Date.max() - timedelta(days=90)) \n",
    "df_90days = df_year[ df_year['Date'] >= ninety_days]\n",
    "# display(df_90days)\n",
    "\n",
    "thirty_days = ( df_year.Date.max() - timedelta(days=30)) \n",
    "df_30days = df_year[ df_year['Date'] >= thirty_days]\n",
    "# display(df_30days)\n",
    "\n",
    "seven_days = ( df_year.Date.max() - timedelta(days=7)) \n",
    "df_07days = df_year[ df_year['Date'] >= seven_days]\n",
    "# display(df_07days)\n",
    "\n",
    "# df_all = f.get_all_data()\n"
   ]
  },
  {
   "cell_type": "code",
   "execution_count": 34,
   "metadata": {
    "jupyter": {
     "source_hidden": true
    }
   },
   "outputs": [
    {
     "data": {
      "text/html": [
       "<h2>Date Range</h2>"
      ],
      "text/plain": [
       "<IPython.core.display.HTML object>"
      ]
     },
     "metadata": {},
     "output_type": "display_data"
    },
    {
     "data": {
      "text/html": [
       "<p>2022-01-03 00:00:00 to 2022-09-22 00:00:00</p>"
      ],
      "text/plain": [
       "<IPython.core.display.HTML object>"
      ]
     },
     "metadata": {},
     "output_type": "display_data"
    }
   ],
   "source": [
    "display(HTML('<h2>Date Range</h2>'))\n",
    "display(HTML(f'<p>{df_year[\"Date\"].min()} to {df_year[\"Date\"].max()}</p>'))\n"
   ]
  },
  {
   "cell_type": "markdown",
   "metadata": {},
   "source": [
    "# 🌞 SunBurst"
   ]
  },
  {
   "cell_type": "code",
   "execution_count": 35,
   "metadata": {},
   "outputs": [],
   "source": [
    "# print(*px.colors.named_colorscales())"
   ]
  },
  {
   "cell_type": "code",
   "execution_count": 36,
   "metadata": {
    "jupyter": {
     "source_hidden": true
    }
   },
   "outputs": [],
   "source": [
    "def make_sunburst(df,title):\n",
    "    display(HTML('<h2> 🌞 SunBurst: ' + title + '</h2>'))\n",
    "    display(HTML('from {0}'.format(df.Date.min())))\n",
    "    display(HTML('to {0}'.format(df.Date.max())))\n",
    "    # display(HTML('total {0}'.format(df['Delta'].sum())))\n",
    "\n",
    "    temp = df.copy() # for 3 weeks\n",
    "    temp = temp[temp['Delta'] < 0.0]\n",
    "    temp['Delta'] = abs(temp['Delta'])\n",
    "    temp = temp[temp['Delta'] != 0.0]\n",
    "\n",
    "    display(HTML('total {0}'.format(temp['Delta'].sum())))\n",
    "\n",
    "    fig = px.sunburst(\n",
    "        temp,\n",
    "        # path=['YYYYMM','Category','Location'],\n",
    "        path=['Category','Location'],\n",
    "        values='Delta',\n",
    "        color='Delta', \n",
    "        hover_data=['Category','Location','Delta','YYYYMMDD'],\n",
    "        color_continuous_scale='rdylgn_r',\n",
    "        color_continuous_midpoint=np.average(temp['Delta'], weights=temp['Delta']),\n",
    "        template = plotly_theme,\n",
    "        height=600\n",
    "    )\n",
    "    fig.show()\n"
   ]
  },
  {
   "cell_type": "code",
   "execution_count": 37,
   "metadata": {
    "jupyter": {
     "source_hidden": true
    },
    "toc-hr-collapsed": true
   },
   "outputs": [
    {
     "data": {
      "text/html": [
       "<h2> 🌞 SunBurst: 7 days</h2>"
      ],
      "text/plain": [
       "<IPython.core.display.HTML object>"
      ]
     },
     "metadata": {},
     "output_type": "display_data"
    },
    {
     "data": {
      "text/html": [
       "from 2022-09-15 00:00:00"
      ],
      "text/plain": [
       "<IPython.core.display.HTML object>"
      ]
     },
     "metadata": {},
     "output_type": "display_data"
    },
    {
     "data": {
      "text/html": [
       "to 2022-09-22 00:00:00"
      ],
      "text/plain": [
       "<IPython.core.display.HTML object>"
      ]
     },
     "metadata": {},
     "output_type": "display_data"
    },
    {
     "data": {
      "text/html": [
       "total 9613"
      ],
      "text/plain": [
       "<IPython.core.display.HTML object>"
      ]
     },
     "metadata": {},
     "output_type": "display_data"
    },
    {
     "data": {
      "application/vnd.plotly.v1+json": {
       "config": {
        "plotlyServerURL": "https://plot.ly"
       },
       "data": [
        {
         "branchvalues": "total",
         "customdata": [
          [
           "travel",
           "Cognizant Technology Solutions",
           910,
           20220919,
           910
          ],
          [
           "misc",
           "Delta Air Lines",
           3,
           20220919,
           3
          ],
          [
           "invest",
           "Hershey",
           435,
           20220919,
           435
          ],
          [
           "health",
           "Hewlett Packard Enterprise",
           582.3001745200698,
           20220922,
           582.3001745200698
          ],
          [
           "utility",
           "Hewlett Packard Enterprise",
           881,
           20220915,
           881
          ],
          [
           "grocery",
           "Travelers",
           278,
           20220919,
           278
          ],
          [
           "invest",
           "Travelers",
           904,
           20220922,
           904
          ],
          [
           "health",
           "United Continental Holdings",
           573,
           20220915,
           573
          ],
          [
           "clothing",
           "Voya Financial",
           818,
           20220920,
           818
          ],
          [
           "unk",
           "Voya Financial",
           570,
           20220922,
           570
          ],
          [
           "health",
           "Walmart",
           214,
           20220916,
           214
          ],
          [
           "travel",
           "Walmart",
           801.6268801552644,
           "(?)",
           801.6268801552644
          ],
          [
           "unk",
           "Walmart",
           820,
           20220919,
           820
          ],
          [
           "clothing",
           "Voya Financial",
           818,
           20220920,
           818
          ],
          [
           "grocery",
           "Travelers",
           278,
           20220919,
           278
          ],
          [
           "health",
           "(?)",
           538.7692705638904,
           "(?)",
           538.7692705638904
          ],
          [
           "invest",
           "(?)",
           751.6362957430919,
           "(?)",
           751.6362957430919
          ],
          [
           "misc",
           "Delta Air Lines",
           3,
           20220919,
           3
          ],
          [
           "travel",
           "(?)",
           834.8209357118815,
           "(?)",
           834.8209357118815
          ],
          [
           "unk",
           "(?)",
           717.4820143884892,
           "(?)",
           717.4820143884892
          ],
          [
           "utility",
           "Hewlett Packard Enterprise",
           881,
           20220915,
           881
          ]
         ],
         "domain": {
          "x": [
           0,
           1
          ],
          "y": [
           0,
           1
          ]
         },
         "hovertemplate": "labels=%{label}<br>Delta_sum=%{value}<br>parent=%{parent}<br>id=%{id}<br>Category=%{customdata[0]}<br>Location=%{customdata[1]}<br>Delta=%{color}<br>YYYYMMDD=%{customdata[3]}<extra></extra>",
         "ids": [
          "travel/Cognizant Technology Solutions",
          "misc/Delta Air Lines",
          "invest/Hershey",
          "health/Hewlett Packard Enterprise",
          "utility/Hewlett Packard Enterprise",
          "grocery/Travelers",
          "invest/Travelers",
          "health/United Continental Holdings",
          "clothing/Voya Financial",
          "unk/Voya Financial",
          "health/Walmart",
          "travel/Walmart",
          "unk/Walmart",
          "clothing",
          "grocery",
          "health",
          "invest",
          "misc",
          "travel",
          "unk",
          "utility"
         ],
         "labels": [
          "Cognizant Technology Solutions",
          "Delta Air Lines",
          "Hershey",
          "Hewlett Packard Enterprise",
          "Hewlett Packard Enterprise",
          "Travelers",
          "Travelers",
          "United Continental Holdings",
          "Voya Financial",
          "Voya Financial",
          "Walmart",
          "Walmart",
          "Walmart",
          "clothing",
          "grocery",
          "health",
          "invest",
          "misc",
          "travel",
          "unk",
          "utility"
         ],
         "marker": {
          "coloraxis": "coloraxis",
          "colors": [
           910,
           3,
           435,
           582.3001745200698,
           881,
           278,
           904,
           573,
           818,
           570,
           214,
           801.6268801552644,
           820,
           818,
           278,
           538.7692705638904,
           751.6362957430919,
           3,
           834.8209357118815,
           717.4820143884892,
           881
          ]
         },
         "name": "",
         "parents": [
          "travel",
          "misc",
          "invest",
          "health",
          "utility",
          "grocery",
          "invest",
          "health",
          "clothing",
          "unk",
          "health",
          "travel",
          "unk",
          "",
          "",
          "",
          "",
          "",
          "",
          "",
          ""
         ],
         "type": "sunburst",
         "values": [
          910,
          3,
          435,
          1146,
          881,
          278,
          904,
          573,
          818,
          570,
          214,
          2061,
          820,
          818,
          278,
          1933,
          1339,
          3,
          2971,
          1390,
          881
         ]
        }
       ],
       "layout": {
        "coloraxis": {
         "cmid": 733.1751794445022,
         "colorbar": {
          "title": {
           "text": "Delta"
          }
         },
         "colorscale": [
          [
           0,
           "rgb(0,104,55)"
          ],
          [
           0.1,
           "rgb(26,152,80)"
          ],
          [
           0.2,
           "rgb(102,189,99)"
          ],
          [
           0.3,
           "rgb(166,217,106)"
          ],
          [
           0.4,
           "rgb(217,239,139)"
          ],
          [
           0.5,
           "rgb(255,255,191)"
          ],
          [
           0.6,
           "rgb(254,224,139)"
          ],
          [
           0.7,
           "rgb(253,174,97)"
          ],
          [
           0.8,
           "rgb(244,109,67)"
          ],
          [
           0.9,
           "rgb(215,48,39)"
          ],
          [
           1,
           "rgb(165,0,38)"
          ]
         ]
        },
        "height": 600,
        "legend": {
         "tracegroupgap": 0
        },
        "margin": {
         "t": 60
        },
        "template": {
         "data": {
          "bar": [
           {
            "error_x": {
             "color": "#f2f5fa"
            },
            "error_y": {
             "color": "#f2f5fa"
            },
            "marker": {
             "line": {
              "color": "rgb(17,17,17)",
              "width": 0.5
             },
             "pattern": {
              "fillmode": "overlay",
              "size": 10,
              "solidity": 0.2
             }
            },
            "type": "bar"
           }
          ],
          "barpolar": [
           {
            "marker": {
             "line": {
              "color": "rgb(17,17,17)",
              "width": 0.5
             },
             "pattern": {
              "fillmode": "overlay",
              "size": 10,
              "solidity": 0.2
             }
            },
            "type": "barpolar"
           }
          ],
          "carpet": [
           {
            "aaxis": {
             "endlinecolor": "#A2B1C6",
             "gridcolor": "#506784",
             "linecolor": "#506784",
             "minorgridcolor": "#506784",
             "startlinecolor": "#A2B1C6"
            },
            "baxis": {
             "endlinecolor": "#A2B1C6",
             "gridcolor": "#506784",
             "linecolor": "#506784",
             "minorgridcolor": "#506784",
             "startlinecolor": "#A2B1C6"
            },
            "type": "carpet"
           }
          ],
          "choropleth": [
           {
            "colorbar": {
             "outlinewidth": 0,
             "ticks": ""
            },
            "type": "choropleth"
           }
          ],
          "contour": [
           {
            "colorbar": {
             "outlinewidth": 0,
             "ticks": ""
            },
            "colorscale": [
             [
              0,
              "#0d0887"
             ],
             [
              0.1111111111111111,
              "#46039f"
             ],
             [
              0.2222222222222222,
              "#7201a8"
             ],
             [
              0.3333333333333333,
              "#9c179e"
             ],
             [
              0.4444444444444444,
              "#bd3786"
             ],
             [
              0.5555555555555556,
              "#d8576b"
             ],
             [
              0.6666666666666666,
              "#ed7953"
             ],
             [
              0.7777777777777778,
              "#fb9f3a"
             ],
             [
              0.8888888888888888,
              "#fdca26"
             ],
             [
              1,
              "#f0f921"
             ]
            ],
            "type": "contour"
           }
          ],
          "contourcarpet": [
           {
            "colorbar": {
             "outlinewidth": 0,
             "ticks": ""
            },
            "type": "contourcarpet"
           }
          ],
          "heatmap": [
           {
            "colorbar": {
             "outlinewidth": 0,
             "ticks": ""
            },
            "colorscale": [
             [
              0,
              "#0d0887"
             ],
             [
              0.1111111111111111,
              "#46039f"
             ],
             [
              0.2222222222222222,
              "#7201a8"
             ],
             [
              0.3333333333333333,
              "#9c179e"
             ],
             [
              0.4444444444444444,
              "#bd3786"
             ],
             [
              0.5555555555555556,
              "#d8576b"
             ],
             [
              0.6666666666666666,
              "#ed7953"
             ],
             [
              0.7777777777777778,
              "#fb9f3a"
             ],
             [
              0.8888888888888888,
              "#fdca26"
             ],
             [
              1,
              "#f0f921"
             ]
            ],
            "type": "heatmap"
           }
          ],
          "heatmapgl": [
           {
            "colorbar": {
             "outlinewidth": 0,
             "ticks": ""
            },
            "colorscale": [
             [
              0,
              "#0d0887"
             ],
             [
              0.1111111111111111,
              "#46039f"
             ],
             [
              0.2222222222222222,
              "#7201a8"
             ],
             [
              0.3333333333333333,
              "#9c179e"
             ],
             [
              0.4444444444444444,
              "#bd3786"
             ],
             [
              0.5555555555555556,
              "#d8576b"
             ],
             [
              0.6666666666666666,
              "#ed7953"
             ],
             [
              0.7777777777777778,
              "#fb9f3a"
             ],
             [
              0.8888888888888888,
              "#fdca26"
             ],
             [
              1,
              "#f0f921"
             ]
            ],
            "type": "heatmapgl"
           }
          ],
          "histogram": [
           {
            "marker": {
             "pattern": {
              "fillmode": "overlay",
              "size": 10,
              "solidity": 0.2
             }
            },
            "type": "histogram"
           }
          ],
          "histogram2d": [
           {
            "colorbar": {
             "outlinewidth": 0,
             "ticks": ""
            },
            "colorscale": [
             [
              0,
              "#0d0887"
             ],
             [
              0.1111111111111111,
              "#46039f"
             ],
             [
              0.2222222222222222,
              "#7201a8"
             ],
             [
              0.3333333333333333,
              "#9c179e"
             ],
             [
              0.4444444444444444,
              "#bd3786"
             ],
             [
              0.5555555555555556,
              "#d8576b"
             ],
             [
              0.6666666666666666,
              "#ed7953"
             ],
             [
              0.7777777777777778,
              "#fb9f3a"
             ],
             [
              0.8888888888888888,
              "#fdca26"
             ],
             [
              1,
              "#f0f921"
             ]
            ],
            "type": "histogram2d"
           }
          ],
          "histogram2dcontour": [
           {
            "colorbar": {
             "outlinewidth": 0,
             "ticks": ""
            },
            "colorscale": [
             [
              0,
              "#0d0887"
             ],
             [
              0.1111111111111111,
              "#46039f"
             ],
             [
              0.2222222222222222,
              "#7201a8"
             ],
             [
              0.3333333333333333,
              "#9c179e"
             ],
             [
              0.4444444444444444,
              "#bd3786"
             ],
             [
              0.5555555555555556,
              "#d8576b"
             ],
             [
              0.6666666666666666,
              "#ed7953"
             ],
             [
              0.7777777777777778,
              "#fb9f3a"
             ],
             [
              0.8888888888888888,
              "#fdca26"
             ],
             [
              1,
              "#f0f921"
             ]
            ],
            "type": "histogram2dcontour"
           }
          ],
          "mesh3d": [
           {
            "colorbar": {
             "outlinewidth": 0,
             "ticks": ""
            },
            "type": "mesh3d"
           }
          ],
          "parcoords": [
           {
            "line": {
             "colorbar": {
              "outlinewidth": 0,
              "ticks": ""
             }
            },
            "type": "parcoords"
           }
          ],
          "pie": [
           {
            "automargin": true,
            "type": "pie"
           }
          ],
          "scatter": [
           {
            "marker": {
             "line": {
              "color": "#283442"
             }
            },
            "type": "scatter"
           }
          ],
          "scatter3d": [
           {
            "line": {
             "colorbar": {
              "outlinewidth": 0,
              "ticks": ""
             }
            },
            "marker": {
             "colorbar": {
              "outlinewidth": 0,
              "ticks": ""
             }
            },
            "type": "scatter3d"
           }
          ],
          "scattercarpet": [
           {
            "marker": {
             "colorbar": {
              "outlinewidth": 0,
              "ticks": ""
             }
            },
            "type": "scattercarpet"
           }
          ],
          "scattergeo": [
           {
            "marker": {
             "colorbar": {
              "outlinewidth": 0,
              "ticks": ""
             }
            },
            "type": "scattergeo"
           }
          ],
          "scattergl": [
           {
            "marker": {
             "line": {
              "color": "#283442"
             }
            },
            "type": "scattergl"
           }
          ],
          "scattermapbox": [
           {
            "marker": {
             "colorbar": {
              "outlinewidth": 0,
              "ticks": ""
             }
            },
            "type": "scattermapbox"
           }
          ],
          "scatterpolar": [
           {
            "marker": {
             "colorbar": {
              "outlinewidth": 0,
              "ticks": ""
             }
            },
            "type": "scatterpolar"
           }
          ],
          "scatterpolargl": [
           {
            "marker": {
             "colorbar": {
              "outlinewidth": 0,
              "ticks": ""
             }
            },
            "type": "scatterpolargl"
           }
          ],
          "scatterternary": [
           {
            "marker": {
             "colorbar": {
              "outlinewidth": 0,
              "ticks": ""
             }
            },
            "type": "scatterternary"
           }
          ],
          "surface": [
           {
            "colorbar": {
             "outlinewidth": 0,
             "ticks": ""
            },
            "colorscale": [
             [
              0,
              "#0d0887"
             ],
             [
              0.1111111111111111,
              "#46039f"
             ],
             [
              0.2222222222222222,
              "#7201a8"
             ],
             [
              0.3333333333333333,
              "#9c179e"
             ],
             [
              0.4444444444444444,
              "#bd3786"
             ],
             [
              0.5555555555555556,
              "#d8576b"
             ],
             [
              0.6666666666666666,
              "#ed7953"
             ],
             [
              0.7777777777777778,
              "#fb9f3a"
             ],
             [
              0.8888888888888888,
              "#fdca26"
             ],
             [
              1,
              "#f0f921"
             ]
            ],
            "type": "surface"
           }
          ],
          "table": [
           {
            "cells": {
             "fill": {
              "color": "#506784"
             },
             "line": {
              "color": "rgb(17,17,17)"
             }
            },
            "header": {
             "fill": {
              "color": "#2a3f5f"
             },
             "line": {
              "color": "rgb(17,17,17)"
             }
            },
            "type": "table"
           }
          ]
         },
         "layout": {
          "annotationdefaults": {
           "arrowcolor": "#f2f5fa",
           "arrowhead": 0,
           "arrowwidth": 1
          },
          "autotypenumbers": "strict",
          "coloraxis": {
           "colorbar": {
            "outlinewidth": 0,
            "ticks": ""
           }
          },
          "colorscale": {
           "diverging": [
            [
             0,
             "#8e0152"
            ],
            [
             0.1,
             "#c51b7d"
            ],
            [
             0.2,
             "#de77ae"
            ],
            [
             0.3,
             "#f1b6da"
            ],
            [
             0.4,
             "#fde0ef"
            ],
            [
             0.5,
             "#f7f7f7"
            ],
            [
             0.6,
             "#e6f5d0"
            ],
            [
             0.7,
             "#b8e186"
            ],
            [
             0.8,
             "#7fbc41"
            ],
            [
             0.9,
             "#4d9221"
            ],
            [
             1,
             "#276419"
            ]
           ],
           "sequential": [
            [
             0,
             "#0d0887"
            ],
            [
             0.1111111111111111,
             "#46039f"
            ],
            [
             0.2222222222222222,
             "#7201a8"
            ],
            [
             0.3333333333333333,
             "#9c179e"
            ],
            [
             0.4444444444444444,
             "#bd3786"
            ],
            [
             0.5555555555555556,
             "#d8576b"
            ],
            [
             0.6666666666666666,
             "#ed7953"
            ],
            [
             0.7777777777777778,
             "#fb9f3a"
            ],
            [
             0.8888888888888888,
             "#fdca26"
            ],
            [
             1,
             "#f0f921"
            ]
           ],
           "sequentialminus": [
            [
             0,
             "#0d0887"
            ],
            [
             0.1111111111111111,
             "#46039f"
            ],
            [
             0.2222222222222222,
             "#7201a8"
            ],
            [
             0.3333333333333333,
             "#9c179e"
            ],
            [
             0.4444444444444444,
             "#bd3786"
            ],
            [
             0.5555555555555556,
             "#d8576b"
            ],
            [
             0.6666666666666666,
             "#ed7953"
            ],
            [
             0.7777777777777778,
             "#fb9f3a"
            ],
            [
             0.8888888888888888,
             "#fdca26"
            ],
            [
             1,
             "#f0f921"
            ]
           ]
          },
          "colorway": [
           "#636efa",
           "#EF553B",
           "#00cc96",
           "#ab63fa",
           "#FFA15A",
           "#19d3f3",
           "#FF6692",
           "#B6E880",
           "#FF97FF",
           "#FECB52"
          ],
          "font": {
           "color": "#f2f5fa"
          },
          "geo": {
           "bgcolor": "rgb(17,17,17)",
           "lakecolor": "rgb(17,17,17)",
           "landcolor": "rgb(17,17,17)",
           "showlakes": true,
           "showland": true,
           "subunitcolor": "#506784"
          },
          "hoverlabel": {
           "align": "left"
          },
          "hovermode": "closest",
          "mapbox": {
           "style": "dark"
          },
          "paper_bgcolor": "rgb(17,17,17)",
          "plot_bgcolor": "rgb(17,17,17)",
          "polar": {
           "angularaxis": {
            "gridcolor": "#506784",
            "linecolor": "#506784",
            "ticks": ""
           },
           "bgcolor": "rgb(17,17,17)",
           "radialaxis": {
            "gridcolor": "#506784",
            "linecolor": "#506784",
            "ticks": ""
           }
          },
          "scene": {
           "xaxis": {
            "backgroundcolor": "rgb(17,17,17)",
            "gridcolor": "#506784",
            "gridwidth": 2,
            "linecolor": "#506784",
            "showbackground": true,
            "ticks": "",
            "zerolinecolor": "#C8D4E3"
           },
           "yaxis": {
            "backgroundcolor": "rgb(17,17,17)",
            "gridcolor": "#506784",
            "gridwidth": 2,
            "linecolor": "#506784",
            "showbackground": true,
            "ticks": "",
            "zerolinecolor": "#C8D4E3"
           },
           "zaxis": {
            "backgroundcolor": "rgb(17,17,17)",
            "gridcolor": "#506784",
            "gridwidth": 2,
            "linecolor": "#506784",
            "showbackground": true,
            "ticks": "",
            "zerolinecolor": "#C8D4E3"
           }
          },
          "shapedefaults": {
           "line": {
            "color": "#f2f5fa"
           }
          },
          "sliderdefaults": {
           "bgcolor": "#C8D4E3",
           "bordercolor": "rgb(17,17,17)",
           "borderwidth": 1,
           "tickwidth": 0
          },
          "ternary": {
           "aaxis": {
            "gridcolor": "#506784",
            "linecolor": "#506784",
            "ticks": ""
           },
           "baxis": {
            "gridcolor": "#506784",
            "linecolor": "#506784",
            "ticks": ""
           },
           "bgcolor": "rgb(17,17,17)",
           "caxis": {
            "gridcolor": "#506784",
            "linecolor": "#506784",
            "ticks": ""
           }
          },
          "title": {
           "x": 0.05
          },
          "updatemenudefaults": {
           "bgcolor": "#506784",
           "borderwidth": 0
          },
          "xaxis": {
           "automargin": true,
           "gridcolor": "#283442",
           "linecolor": "#506784",
           "ticks": "",
           "title": {
            "standoff": 15
           },
           "zerolinecolor": "#283442",
           "zerolinewidth": 2
          },
          "yaxis": {
           "automargin": true,
           "gridcolor": "#283442",
           "linecolor": "#506784",
           "ticks": "",
           "title": {
            "standoff": 15
           },
           "zerolinecolor": "#283442",
           "zerolinewidth": 2
          }
         }
        }
       }
      }
     },
     "metadata": {},
     "output_type": "display_data"
    },
    {
     "data": {
      "text/html": [
       "<h2> 🌞 SunBurst: 30 days</h2>"
      ],
      "text/plain": [
       "<IPython.core.display.HTML object>"
      ]
     },
     "metadata": {},
     "output_type": "display_data"
    },
    {
     "data": {
      "text/html": [
       "from 2022-08-23 00:00:00"
      ],
      "text/plain": [
       "<IPython.core.display.HTML object>"
      ]
     },
     "metadata": {},
     "output_type": "display_data"
    },
    {
     "data": {
      "text/html": [
       "to 2022-09-22 00:00:00"
      ],
      "text/plain": [
       "<IPython.core.display.HTML object>"
      ]
     },
     "metadata": {},
     "output_type": "display_data"
    },
    {
     "data": {
      "text/html": [
       "total 31991"
      ],
      "text/plain": [
       "<IPython.core.display.HTML object>"
      ]
     },
     "metadata": {},
     "output_type": "display_data"
    },
    {
     "data": {
      "application/vnd.plotly.v1+json": {
       "config": {
        "plotlyServerURL": "https://plot.ly"
       },
       "data": [
        {
         "branchvalues": "total",
         "customdata": [
          [
           "clothing",
           "Amazon.com",
           646,
           20220829,
           646
          ],
          [
           "health",
           "Amazon.com",
           318,
           20220823,
           318
          ],
          [
           "invest",
           "Amazon.com",
           340.013698630137,
           "(?)",
           340.013698630137
          ],
          [
           "tech",
           "Amazon.com",
           910,
           20220907,
           910
          ],
          [
           "unk",
           "Amazon.com",
           783,
           20220909,
           783
          ],
          [
           "misc",
           "CBRE Group",
           38,
           20220902,
           38
          ],
          [
           "travel",
           "CBRE Group",
           307,
           20220906,
           307
          ],
          [
           "travel",
           "Cognizant Technology Solutions",
           910,
           20220919,
           910
          ],
          [
           "misc",
           "Delta Air Lines",
           3,
           20220919,
           3
          ],
          [
           "invest",
           "Hanesbrands",
           862.1650165016501,
           "(?)",
           862.1650165016501
          ],
          [
           "paypal",
           "Hanesbrands",
           349.8770053475936,
           "(?)",
           349.8770053475936
          ],
          [
           "tech",
           "Hanesbrands",
           413,
           20220913,
           413
          ],
          [
           "travel",
           "Hanesbrands",
           782,
           20220830,
           782
          ],
          [
           "invest",
           "Hershey",
           374.47310847766636,
           "(?)",
           374.47310847766636
          ],
          [
           "health",
           "Hewlett Packard Enterprise",
           582.3001745200698,
           20220922,
           582.3001745200698
          ],
          [
           "tech",
           "Hewlett Packard Enterprise",
           368,
           20220824,
           368
          ],
          [
           "utility",
           "Hewlett Packard Enterprise",
           881,
           20220915,
           881
          ],
          [
           "debt",
           "Omnicom Group",
           231,
           20220829,
           231
          ],
          [
           "unk",
           "Omnicom Group",
           19,
           20220909,
           19
          ],
          [
           "invest",
           "PPL",
           960,
           20220912,
           960
          ],
          [
           "paypal",
           "PPL",
           616.5508543531326,
           "(?)",
           616.5508543531326
          ],
          [
           "tech",
           "Quest Diagnostics",
           252,
           20220908,
           252
          ],
          [
           "grocery",
           "Sysco",
           944,
           20220906,
           944
          ],
          [
           "misc",
           "Sysco",
           873,
           20220906,
           873
          ],
          [
           "tech",
           "Sysco",
           464,
           20220906,
           464
          ],
          [
           "grocery",
           "TIAA",
           820.8319672131148,
           "(?)",
           820.8319672131148
          ],
          [
           "paypal",
           "TIAA",
           37,
           20220824,
           37
          ],
          [
           "unk",
           "Tapestry",
           600,
           20220912,
           600
          ],
          [
           "grocery",
           "Travelers",
           273.1766784452297,
           "(?)",
           273.1766784452297
          ],
          [
           "health",
           "Travelers",
           801,
           20220912,
           801
          ],
          [
           "invest",
           "Travelers",
           904,
           20220922,
           904
          ],
          [
           "unk",
           "Travelers",
           371,
           20220914,
           371
          ],
          [
           "grocery",
           "Ulta Beauty",
           651,
           20220907,
           651
          ],
          [
           "paypal",
           "Ulta Beauty",
           536,
           20220906,
           536
          ],
          [
           "unk",
           "Ulta Beauty",
           461,
           20220906,
           461
          ],
          [
           "health",
           "United Continental Holdings",
           573,
           20220915,
           573
          ],
          [
           "paypal",
           "United Continental Holdings",
           822,
           20220909,
           822
          ],
          [
           "invest",
           "Visa",
           951,
           20220831,
           951
          ],
          [
           "unk",
           "Visa",
           313,
           20220829,
           313
          ],
          [
           "clothing",
           "Voya Financial",
           915.7331863285557,
           "(?)",
           915.7331863285557
          ],
          [
           "unk",
           "Voya Financial",
           570,
           20220922,
           570
          ],
          [
           "debt",
           "Walmart",
           30,
           20220825,
           30
          ],
          [
           "grocery",
           "Walmart",
           673,
           20220906,
           673
          ],
          [
           "health",
           "Walmart",
           214,
           20220916,
           214
          ],
          [
           "invest",
           "Walmart",
           883.5953757225434,
           20220831,
           883.5953757225434
          ],
          [
           "travel",
           "Walmart",
           801.6268801552644,
           "(?)",
           801.6268801552644
          ],
          [
           "unk",
           "Walmart",
           820,
           20220919,
           820
          ],
          [
           "clothing",
           "(?)",
           844.9008130081301,
           "(?)",
           844.9008130081301
          ],
          [
           "debt",
           "(?)",
           207.89655172413794,
           "(?)",
           207.89655172413794
          ],
          [
           "grocery",
           "(?)",
           758.8724782067247,
           "(?)",
           758.8724782067247
          ],
          [
           "health",
           "(?)",
           584.589121887287,
           "(?)",
           584.589121887287
          ],
          [
           "invest",
           "(?)",
           768.3705821968031,
           "(?)",
           768.3705821968031
          ],
          [
           "misc",
           "(?)",
           835.4288840262582,
           "(?)",
           835.4288840262582
          ],
          [
           "paypal",
           "(?)",
           602.3142857142857,
           "(?)",
           602.3142857142857
          ],
          [
           "tech",
           "(?)",
           586.9933527212297,
           "(?)",
           586.9933527212297
          ],
          [
           "travel",
           "(?)",
           784.7354679802955,
           "(?)",
           784.7354679802955
          ],
          [
           "unk",
           "(?)",
           614.3970027940056,
           "(?)",
           614.3970027940056
          ],
          [
           "utility",
           "Hewlett Packard Enterprise",
           881,
           20220915,
           881
          ]
         ],
         "domain": {
          "x": [
           0,
           1
          ],
          "y": [
           0,
           1
          ]
         },
         "hovertemplate": "labels=%{label}<br>Delta_sum=%{value}<br>parent=%{parent}<br>id=%{id}<br>Category=%{customdata[0]}<br>Location=%{customdata[1]}<br>Delta=%{color}<br>YYYYMMDD=%{customdata[3]}<extra></extra>",
         "ids": [
          "clothing/Amazon.com",
          "health/Amazon.com",
          "invest/Amazon.com",
          "tech/Amazon.com",
          "unk/Amazon.com",
          "misc/CBRE Group",
          "travel/CBRE Group",
          "travel/Cognizant Technology Solutions",
          "misc/Delta Air Lines",
          "invest/Hanesbrands",
          "paypal/Hanesbrands",
          "tech/Hanesbrands",
          "travel/Hanesbrands",
          "invest/Hershey",
          "health/Hewlett Packard Enterprise",
          "tech/Hewlett Packard Enterprise",
          "utility/Hewlett Packard Enterprise",
          "debt/Omnicom Group",
          "unk/Omnicom Group",
          "invest/PPL",
          "paypal/PPL",
          "tech/Quest Diagnostics",
          "grocery/Sysco",
          "misc/Sysco",
          "tech/Sysco",
          "grocery/TIAA",
          "paypal/TIAA",
          "unk/Tapestry",
          "grocery/Travelers",
          "health/Travelers",
          "invest/Travelers",
          "unk/Travelers",
          "grocery/Ulta Beauty",
          "paypal/Ulta Beauty",
          "unk/Ulta Beauty",
          "health/United Continental Holdings",
          "paypal/United Continental Holdings",
          "invest/Visa",
          "unk/Visa",
          "clothing/Voya Financial",
          "unk/Voya Financial",
          "debt/Walmart",
          "grocery/Walmart",
          "health/Walmart",
          "invest/Walmart",
          "travel/Walmart",
          "unk/Walmart",
          "clothing",
          "debt",
          "grocery",
          "health",
          "invest",
          "misc",
          "paypal",
          "tech",
          "travel",
          "unk",
          "utility"
         ],
         "labels": [
          "Amazon.com",
          "Amazon.com",
          "Amazon.com",
          "Amazon.com",
          "Amazon.com",
          "CBRE Group",
          "CBRE Group",
          "Cognizant Technology Solutions",
          "Delta Air Lines",
          "Hanesbrands",
          "Hanesbrands",
          "Hanesbrands",
          "Hanesbrands",
          "Hershey",
          "Hewlett Packard Enterprise",
          "Hewlett Packard Enterprise",
          "Hewlett Packard Enterprise",
          "Omnicom Group",
          "Omnicom Group",
          "PPL",
          "PPL",
          "Quest Diagnostics",
          "Sysco",
          "Sysco",
          "Sysco",
          "TIAA",
          "TIAA",
          "Tapestry",
          "Travelers",
          "Travelers",
          "Travelers",
          "Travelers",
          "Ulta Beauty",
          "Ulta Beauty",
          "Ulta Beauty",
          "United Continental Holdings",
          "United Continental Holdings",
          "Visa",
          "Visa",
          "Voya Financial",
          "Voya Financial",
          "Walmart",
          "Walmart",
          "Walmart",
          "Walmart",
          "Walmart",
          "Walmart",
          "clothing",
          "debt",
          "grocery",
          "health",
          "invest",
          "misc",
          "paypal",
          "tech",
          "travel",
          "unk",
          "utility"
         ],
         "marker": {
          "coloraxis": "coloraxis",
          "colors": [
           646,
           318,
           340.013698630137,
           910,
           783,
           38,
           307,
           910,
           3,
           862.1650165016501,
           349.8770053475936,
           413,
           782,
           374.47310847766636,
           582.3001745200698,
           368,
           881,
           231,
           19,
           960,
           616.5508543531326,
           252,
           944,
           873,
           464,
           820.8319672131148,
           37,
           600,
           273.1766784452297,
           801,
           904,
           371,
           651,
           536,
           461,
           573,
           822,
           951,
           313,
           915.7331863285557,
           570,
           30,
           673,
           214,
           883.5953757225434,
           801.6268801552644,
           820,
           844.9008130081301,
           207.89655172413794,
           758.8724782067247,
           584.589121887287,
           768.3705821968031,
           835.4288840262582,
           602.3142857142857,
           586.9933527212297,
           784.7354679802955,
           614.3970027940056,
           881
          ]
         },
         "name": "",
         "parents": [
          "clothing",
          "health",
          "invest",
          "tech",
          "unk",
          "misc",
          "travel",
          "travel",
          "misc",
          "invest",
          "paypal",
          "tech",
          "travel",
          "invest",
          "health",
          "tech",
          "utility",
          "debt",
          "unk",
          "invest",
          "paypal",
          "tech",
          "grocery",
          "misc",
          "tech",
          "grocery",
          "paypal",
          "unk",
          "grocery",
          "health",
          "invest",
          "unk",
          "grocery",
          "paypal",
          "unk",
          "health",
          "paypal",
          "invest",
          "unk",
          "clothing",
          "unk",
          "debt",
          "grocery",
          "health",
          "invest",
          "travel",
          "unk",
          "",
          "",
          "",
          "",
          "",
          "",
          "",
          "",
          "",
          "",
          ""
         ],
         "type": "sunburst",
         "values": [
          646,
          318,
          657,
          910,
          783,
          38,
          307,
          910,
          3,
          1212,
          561,
          413,
          782,
          1097,
          1146,
          368,
          881,
          231,
          19,
          960,
          1229,
          252,
          944,
          873,
          464,
          1464,
          37,
          600,
          283,
          801,
          904,
          371,
          651,
          536,
          461,
          573,
          822,
          951,
          313,
          1814,
          570,
          30,
          673,
          214,
          1038,
          2061,
          820,
          2460,
          261,
          4015,
          3052,
          6819,
          914,
          3185,
          2407,
          4060,
          3937,
          881
         ]
        }
       ],
       "layout": {
        "coloraxis": {
         "cmid": 708.9240411365697,
         "colorbar": {
          "title": {
           "text": "Delta"
          }
         },
         "colorscale": [
          [
           0,
           "rgb(0,104,55)"
          ],
          [
           0.1,
           "rgb(26,152,80)"
          ],
          [
           0.2,
           "rgb(102,189,99)"
          ],
          [
           0.3,
           "rgb(166,217,106)"
          ],
          [
           0.4,
           "rgb(217,239,139)"
          ],
          [
           0.5,
           "rgb(255,255,191)"
          ],
          [
           0.6,
           "rgb(254,224,139)"
          ],
          [
           0.7,
           "rgb(253,174,97)"
          ],
          [
           0.8,
           "rgb(244,109,67)"
          ],
          [
           0.9,
           "rgb(215,48,39)"
          ],
          [
           1,
           "rgb(165,0,38)"
          ]
         ]
        },
        "height": 600,
        "legend": {
         "tracegroupgap": 0
        },
        "margin": {
         "t": 60
        },
        "template": {
         "data": {
          "bar": [
           {
            "error_x": {
             "color": "#f2f5fa"
            },
            "error_y": {
             "color": "#f2f5fa"
            },
            "marker": {
             "line": {
              "color": "rgb(17,17,17)",
              "width": 0.5
             },
             "pattern": {
              "fillmode": "overlay",
              "size": 10,
              "solidity": 0.2
             }
            },
            "type": "bar"
           }
          ],
          "barpolar": [
           {
            "marker": {
             "line": {
              "color": "rgb(17,17,17)",
              "width": 0.5
             },
             "pattern": {
              "fillmode": "overlay",
              "size": 10,
              "solidity": 0.2
             }
            },
            "type": "barpolar"
           }
          ],
          "carpet": [
           {
            "aaxis": {
             "endlinecolor": "#A2B1C6",
             "gridcolor": "#506784",
             "linecolor": "#506784",
             "minorgridcolor": "#506784",
             "startlinecolor": "#A2B1C6"
            },
            "baxis": {
             "endlinecolor": "#A2B1C6",
             "gridcolor": "#506784",
             "linecolor": "#506784",
             "minorgridcolor": "#506784",
             "startlinecolor": "#A2B1C6"
            },
            "type": "carpet"
           }
          ],
          "choropleth": [
           {
            "colorbar": {
             "outlinewidth": 0,
             "ticks": ""
            },
            "type": "choropleth"
           }
          ],
          "contour": [
           {
            "colorbar": {
             "outlinewidth": 0,
             "ticks": ""
            },
            "colorscale": [
             [
              0,
              "#0d0887"
             ],
             [
              0.1111111111111111,
              "#46039f"
             ],
             [
              0.2222222222222222,
              "#7201a8"
             ],
             [
              0.3333333333333333,
              "#9c179e"
             ],
             [
              0.4444444444444444,
              "#bd3786"
             ],
             [
              0.5555555555555556,
              "#d8576b"
             ],
             [
              0.6666666666666666,
              "#ed7953"
             ],
             [
              0.7777777777777778,
              "#fb9f3a"
             ],
             [
              0.8888888888888888,
              "#fdca26"
             ],
             [
              1,
              "#f0f921"
             ]
            ],
            "type": "contour"
           }
          ],
          "contourcarpet": [
           {
            "colorbar": {
             "outlinewidth": 0,
             "ticks": ""
            },
            "type": "contourcarpet"
           }
          ],
          "heatmap": [
           {
            "colorbar": {
             "outlinewidth": 0,
             "ticks": ""
            },
            "colorscale": [
             [
              0,
              "#0d0887"
             ],
             [
              0.1111111111111111,
              "#46039f"
             ],
             [
              0.2222222222222222,
              "#7201a8"
             ],
             [
              0.3333333333333333,
              "#9c179e"
             ],
             [
              0.4444444444444444,
              "#bd3786"
             ],
             [
              0.5555555555555556,
              "#d8576b"
             ],
             [
              0.6666666666666666,
              "#ed7953"
             ],
             [
              0.7777777777777778,
              "#fb9f3a"
             ],
             [
              0.8888888888888888,
              "#fdca26"
             ],
             [
              1,
              "#f0f921"
             ]
            ],
            "type": "heatmap"
           }
          ],
          "heatmapgl": [
           {
            "colorbar": {
             "outlinewidth": 0,
             "ticks": ""
            },
            "colorscale": [
             [
              0,
              "#0d0887"
             ],
             [
              0.1111111111111111,
              "#46039f"
             ],
             [
              0.2222222222222222,
              "#7201a8"
             ],
             [
              0.3333333333333333,
              "#9c179e"
             ],
             [
              0.4444444444444444,
              "#bd3786"
             ],
             [
              0.5555555555555556,
              "#d8576b"
             ],
             [
              0.6666666666666666,
              "#ed7953"
             ],
             [
              0.7777777777777778,
              "#fb9f3a"
             ],
             [
              0.8888888888888888,
              "#fdca26"
             ],
             [
              1,
              "#f0f921"
             ]
            ],
            "type": "heatmapgl"
           }
          ],
          "histogram": [
           {
            "marker": {
             "pattern": {
              "fillmode": "overlay",
              "size": 10,
              "solidity": 0.2
             }
            },
            "type": "histogram"
           }
          ],
          "histogram2d": [
           {
            "colorbar": {
             "outlinewidth": 0,
             "ticks": ""
            },
            "colorscale": [
             [
              0,
              "#0d0887"
             ],
             [
              0.1111111111111111,
              "#46039f"
             ],
             [
              0.2222222222222222,
              "#7201a8"
             ],
             [
              0.3333333333333333,
              "#9c179e"
             ],
             [
              0.4444444444444444,
              "#bd3786"
             ],
             [
              0.5555555555555556,
              "#d8576b"
             ],
             [
              0.6666666666666666,
              "#ed7953"
             ],
             [
              0.7777777777777778,
              "#fb9f3a"
             ],
             [
              0.8888888888888888,
              "#fdca26"
             ],
             [
              1,
              "#f0f921"
             ]
            ],
            "type": "histogram2d"
           }
          ],
          "histogram2dcontour": [
           {
            "colorbar": {
             "outlinewidth": 0,
             "ticks": ""
            },
            "colorscale": [
             [
              0,
              "#0d0887"
             ],
             [
              0.1111111111111111,
              "#46039f"
             ],
             [
              0.2222222222222222,
              "#7201a8"
             ],
             [
              0.3333333333333333,
              "#9c179e"
             ],
             [
              0.4444444444444444,
              "#bd3786"
             ],
             [
              0.5555555555555556,
              "#d8576b"
             ],
             [
              0.6666666666666666,
              "#ed7953"
             ],
             [
              0.7777777777777778,
              "#fb9f3a"
             ],
             [
              0.8888888888888888,
              "#fdca26"
             ],
             [
              1,
              "#f0f921"
             ]
            ],
            "type": "histogram2dcontour"
           }
          ],
          "mesh3d": [
           {
            "colorbar": {
             "outlinewidth": 0,
             "ticks": ""
            },
            "type": "mesh3d"
           }
          ],
          "parcoords": [
           {
            "line": {
             "colorbar": {
              "outlinewidth": 0,
              "ticks": ""
             }
            },
            "type": "parcoords"
           }
          ],
          "pie": [
           {
            "automargin": true,
            "type": "pie"
           }
          ],
          "scatter": [
           {
            "marker": {
             "line": {
              "color": "#283442"
             }
            },
            "type": "scatter"
           }
          ],
          "scatter3d": [
           {
            "line": {
             "colorbar": {
              "outlinewidth": 0,
              "ticks": ""
             }
            },
            "marker": {
             "colorbar": {
              "outlinewidth": 0,
              "ticks": ""
             }
            },
            "type": "scatter3d"
           }
          ],
          "scattercarpet": [
           {
            "marker": {
             "colorbar": {
              "outlinewidth": 0,
              "ticks": ""
             }
            },
            "type": "scattercarpet"
           }
          ],
          "scattergeo": [
           {
            "marker": {
             "colorbar": {
              "outlinewidth": 0,
              "ticks": ""
             }
            },
            "type": "scattergeo"
           }
          ],
          "scattergl": [
           {
            "marker": {
             "line": {
              "color": "#283442"
             }
            },
            "type": "scattergl"
           }
          ],
          "scattermapbox": [
           {
            "marker": {
             "colorbar": {
              "outlinewidth": 0,
              "ticks": ""
             }
            },
            "type": "scattermapbox"
           }
          ],
          "scatterpolar": [
           {
            "marker": {
             "colorbar": {
              "outlinewidth": 0,
              "ticks": ""
             }
            },
            "type": "scatterpolar"
           }
          ],
          "scatterpolargl": [
           {
            "marker": {
             "colorbar": {
              "outlinewidth": 0,
              "ticks": ""
             }
            },
            "type": "scatterpolargl"
           }
          ],
          "scatterternary": [
           {
            "marker": {
             "colorbar": {
              "outlinewidth": 0,
              "ticks": ""
             }
            },
            "type": "scatterternary"
           }
          ],
          "surface": [
           {
            "colorbar": {
             "outlinewidth": 0,
             "ticks": ""
            },
            "colorscale": [
             [
              0,
              "#0d0887"
             ],
             [
              0.1111111111111111,
              "#46039f"
             ],
             [
              0.2222222222222222,
              "#7201a8"
             ],
             [
              0.3333333333333333,
              "#9c179e"
             ],
             [
              0.4444444444444444,
              "#bd3786"
             ],
             [
              0.5555555555555556,
              "#d8576b"
             ],
             [
              0.6666666666666666,
              "#ed7953"
             ],
             [
              0.7777777777777778,
              "#fb9f3a"
             ],
             [
              0.8888888888888888,
              "#fdca26"
             ],
             [
              1,
              "#f0f921"
             ]
            ],
            "type": "surface"
           }
          ],
          "table": [
           {
            "cells": {
             "fill": {
              "color": "#506784"
             },
             "line": {
              "color": "rgb(17,17,17)"
             }
            },
            "header": {
             "fill": {
              "color": "#2a3f5f"
             },
             "line": {
              "color": "rgb(17,17,17)"
             }
            },
            "type": "table"
           }
          ]
         },
         "layout": {
          "annotationdefaults": {
           "arrowcolor": "#f2f5fa",
           "arrowhead": 0,
           "arrowwidth": 1
          },
          "autotypenumbers": "strict",
          "coloraxis": {
           "colorbar": {
            "outlinewidth": 0,
            "ticks": ""
           }
          },
          "colorscale": {
           "diverging": [
            [
             0,
             "#8e0152"
            ],
            [
             0.1,
             "#c51b7d"
            ],
            [
             0.2,
             "#de77ae"
            ],
            [
             0.3,
             "#f1b6da"
            ],
            [
             0.4,
             "#fde0ef"
            ],
            [
             0.5,
             "#f7f7f7"
            ],
            [
             0.6,
             "#e6f5d0"
            ],
            [
             0.7,
             "#b8e186"
            ],
            [
             0.8,
             "#7fbc41"
            ],
            [
             0.9,
             "#4d9221"
            ],
            [
             1,
             "#276419"
            ]
           ],
           "sequential": [
            [
             0,
             "#0d0887"
            ],
            [
             0.1111111111111111,
             "#46039f"
            ],
            [
             0.2222222222222222,
             "#7201a8"
            ],
            [
             0.3333333333333333,
             "#9c179e"
            ],
            [
             0.4444444444444444,
             "#bd3786"
            ],
            [
             0.5555555555555556,
             "#d8576b"
            ],
            [
             0.6666666666666666,
             "#ed7953"
            ],
            [
             0.7777777777777778,
             "#fb9f3a"
            ],
            [
             0.8888888888888888,
             "#fdca26"
            ],
            [
             1,
             "#f0f921"
            ]
           ],
           "sequentialminus": [
            [
             0,
             "#0d0887"
            ],
            [
             0.1111111111111111,
             "#46039f"
            ],
            [
             0.2222222222222222,
             "#7201a8"
            ],
            [
             0.3333333333333333,
             "#9c179e"
            ],
            [
             0.4444444444444444,
             "#bd3786"
            ],
            [
             0.5555555555555556,
             "#d8576b"
            ],
            [
             0.6666666666666666,
             "#ed7953"
            ],
            [
             0.7777777777777778,
             "#fb9f3a"
            ],
            [
             0.8888888888888888,
             "#fdca26"
            ],
            [
             1,
             "#f0f921"
            ]
           ]
          },
          "colorway": [
           "#636efa",
           "#EF553B",
           "#00cc96",
           "#ab63fa",
           "#FFA15A",
           "#19d3f3",
           "#FF6692",
           "#B6E880",
           "#FF97FF",
           "#FECB52"
          ],
          "font": {
           "color": "#f2f5fa"
          },
          "geo": {
           "bgcolor": "rgb(17,17,17)",
           "lakecolor": "rgb(17,17,17)",
           "landcolor": "rgb(17,17,17)",
           "showlakes": true,
           "showland": true,
           "subunitcolor": "#506784"
          },
          "hoverlabel": {
           "align": "left"
          },
          "hovermode": "closest",
          "mapbox": {
           "style": "dark"
          },
          "paper_bgcolor": "rgb(17,17,17)",
          "plot_bgcolor": "rgb(17,17,17)",
          "polar": {
           "angularaxis": {
            "gridcolor": "#506784",
            "linecolor": "#506784",
            "ticks": ""
           },
           "bgcolor": "rgb(17,17,17)",
           "radialaxis": {
            "gridcolor": "#506784",
            "linecolor": "#506784",
            "ticks": ""
           }
          },
          "scene": {
           "xaxis": {
            "backgroundcolor": "rgb(17,17,17)",
            "gridcolor": "#506784",
            "gridwidth": 2,
            "linecolor": "#506784",
            "showbackground": true,
            "ticks": "",
            "zerolinecolor": "#C8D4E3"
           },
           "yaxis": {
            "backgroundcolor": "rgb(17,17,17)",
            "gridcolor": "#506784",
            "gridwidth": 2,
            "linecolor": "#506784",
            "showbackground": true,
            "ticks": "",
            "zerolinecolor": "#C8D4E3"
           },
           "zaxis": {
            "backgroundcolor": "rgb(17,17,17)",
            "gridcolor": "#506784",
            "gridwidth": 2,
            "linecolor": "#506784",
            "showbackground": true,
            "ticks": "",
            "zerolinecolor": "#C8D4E3"
           }
          },
          "shapedefaults": {
           "line": {
            "color": "#f2f5fa"
           }
          },
          "sliderdefaults": {
           "bgcolor": "#C8D4E3",
           "bordercolor": "rgb(17,17,17)",
           "borderwidth": 1,
           "tickwidth": 0
          },
          "ternary": {
           "aaxis": {
            "gridcolor": "#506784",
            "linecolor": "#506784",
            "ticks": ""
           },
           "baxis": {
            "gridcolor": "#506784",
            "linecolor": "#506784",
            "ticks": ""
           },
           "bgcolor": "rgb(17,17,17)",
           "caxis": {
            "gridcolor": "#506784",
            "linecolor": "#506784",
            "ticks": ""
           }
          },
          "title": {
           "x": 0.05
          },
          "updatemenudefaults": {
           "bgcolor": "#506784",
           "borderwidth": 0
          },
          "xaxis": {
           "automargin": true,
           "gridcolor": "#283442",
           "linecolor": "#506784",
           "ticks": "",
           "title": {
            "standoff": 15
           },
           "zerolinecolor": "#283442",
           "zerolinewidth": 2
          },
          "yaxis": {
           "automargin": true,
           "gridcolor": "#283442",
           "linecolor": "#506784",
           "ticks": "",
           "title": {
            "standoff": 15
           },
           "zerolinecolor": "#283442",
           "zerolinewidth": 2
          }
         }
        }
       }
      }
     },
     "metadata": {},
     "output_type": "display_data"
    },
    {
     "data": {
      "text/html": [
       "<h2> 🌞 SunBurst: 90 days</h2>"
      ],
      "text/plain": [
       "<IPython.core.display.HTML object>"
      ]
     },
     "metadata": {},
     "output_type": "display_data"
    },
    {
     "data": {
      "text/html": [
       "from 2022-06-24 00:00:00"
      ],
      "text/plain": [
       "<IPython.core.display.HTML object>"
      ]
     },
     "metadata": {},
     "output_type": "display_data"
    },
    {
     "data": {
      "text/html": [
       "to 2022-09-22 00:00:00"
      ],
      "text/plain": [
       "<IPython.core.display.HTML object>"
      ]
     },
     "metadata": {},
     "output_type": "display_data"
    },
    {
     "data": {
      "text/html": [
       "total 75920"
      ],
      "text/plain": [
       "<IPython.core.display.HTML object>"
      ]
     },
     "metadata": {},
     "output_type": "display_data"
    },
    {
     "data": {
      "application/vnd.plotly.v1+json": {
       "config": {
        "plotlyServerURL": "https://plot.ly"
       },
       "data": [
        {
         "branchvalues": "total",
         "customdata": [
          [
           "clothing",
           "Amazon.com",
           646,
           20220829,
           646
          ],
          [
           "health",
           "Amazon.com",
           318,
           20220823,
           318
          ],
          [
           "invest",
           "Amazon.com",
           340.013698630137,
           "(?)",
           340.013698630137
          ],
          [
           "tech",
           "Amazon.com",
           869.5821325648415,
           "(?)",
           869.5821325648415
          ],
          [
           "travel",
           "Amazon.com",
           794,
           "(?)",
           794
          ],
          [
           "unk",
           "Amazon.com",
           783,
           20220909,
           783
          ],
          [
           "clothing",
           "CBRE Group",
           983,
           20220801,
           983
          ],
          [
           "debt",
           "CBRE Group",
           420,
           20220718,
           420
          ],
          [
           "health",
           "CBRE Group",
           843,
           20220718,
           843
          ],
          [
           "misc",
           "CBRE Group",
           38,
           20220902,
           38
          ],
          [
           "travel",
           "CBRE Group",
           310.5394524959742,
           "(?)",
           310.5394524959742
          ],
          [
           "unk",
           "CBRE Group",
           947,
           20220627,
           947
          ],
          [
           "clothing",
           "Cognizant Technology Solutions",
           711,
           20220711,
           711
          ],
          [
           "debt",
           "Cognizant Technology Solutions",
           657,
           20220810,
           657
          ],
          [
           "health",
           "Cognizant Technology Solutions",
           880,
           20220718,
           880
          ],
          [
           "invest",
           "Cognizant Technology Solutions",
           460,
           20220818,
           460
          ],
          [
           "misc",
           "Cognizant Technology Solutions",
           830,
           20220708,
           830
          ],
          [
           "travel",
           "Cognizant Technology Solutions",
           755.2631578947369,
           "(?)",
           755.2631578947369
          ],
          [
           "grocery",
           "Delta Air Lines",
           738.7770095073466,
           "(?)",
           738.7770095073466
          ],
          [
           "health",
           "Delta Air Lines",
           605,
           20220725,
           605
          ],
          [
           "invest",
           "Delta Air Lines",
           817,
           20220629,
           817
          ],
          [
           "misc",
           "Delta Air Lines",
           3,
           20220919,
           3
          ],
          [
           "travel",
           "Delta Air Lines",
           480,
           20220801,
           480
          ],
          [
           "invest",
           "Entergy",
           657,
           20220819,
           657
          ],
          [
           "travel",
           "Entergy",
           710,
           20220810,
           710
          ],
          [
           "utility",
           "Entergy",
           864.3469827586207,
           "(?)",
           864.3469827586207
          ],
          [
           "grocery",
           "Hanesbrands",
           90,
           20220728,
           90
          ],
          [
           "invest",
           "Hanesbrands",
           819.9837067209776,
           "(?)",
           819.9837067209776
          ],
          [
           "paypal",
           "Hanesbrands",
           349.8770053475936,
           "(?)",
           349.8770053475936
          ],
          [
           "tech",
           "Hanesbrands",
           413,
           20220913,
           413
          ],
          [
           "travel",
           "Hanesbrands",
           782,
           20220830,
           782
          ],
          [
           "unk",
           "Hanesbrands",
           34,
           20220808,
           34
          ],
          [
           "health",
           "Hershey",
           836,
           20220627,
           836
          ],
          [
           "invest",
           "Hershey",
           428.28195718654433,
           "(?)",
           428.28195718654433
          ],
          [
           "travel",
           "Hershey",
           552,
           20220705,
           552
          ],
          [
           "grocery",
           "Hewlett Packard Enterprise",
           168,
           20220822,
           168
          ],
          [
           "health",
           "Hewlett Packard Enterprise",
           536.7183279742766,
           "(?)",
           536.7183279742766
          ],
          [
           "invest",
           "Hewlett Packard Enterprise",
           911,
           20220711,
           911
          ],
          [
           "tech",
           "Hewlett Packard Enterprise",
           318.28641571194765,
           "(?)",
           318.28641571194765
          ],
          [
           "utility",
           "Hewlett Packard Enterprise",
           881,
           20220915,
           881
          ],
          [
           "debt",
           "Omnicom Group",
           231,
           20220829,
           231
          ],
          [
           "grocery",
           "Omnicom Group",
           171,
           20220802,
           171
          ],
          [
           "health",
           "Omnicom Group",
           813,
           20220816,
           813
          ],
          [
           "misc",
           "Omnicom Group",
           153,
           20220810,
           153
          ],
          [
           "paypal",
           "Omnicom Group",
           590,
           20220817,
           590
          ],
          [
           "unk",
           "Omnicom Group",
           19,
           20220909,
           19
          ],
          [
           "grocery",
           "PPL",
           902,
           20220627,
           902
          ],
          [
           "health",
           "PPL",
           227,
           20220627,
           227
          ],
          [
           "invest",
           "PPL",
           960,
           20220912,
           960
          ],
          [
           "misc",
           "PPL",
           91,
           20220708,
           91
          ],
          [
           "paypal",
           "PPL",
           616.5508543531326,
           "(?)",
           616.5508543531326
          ],
          [
           "tech",
           "Quest Diagnostics",
           252,
           20220908,
           252
          ],
          [
           "unk",
           "Quest Diagnostics",
           855.7046204620463,
           "(?)",
           855.7046204620463
          ],
          [
           "clothing",
           "Sysco",
           823,
           20220808,
           823
          ],
          [
           "debt",
           "Sysco",
           365,
           20220726,
           365
          ],
          [
           "grocery",
           "Sysco",
           924.9113034072471,
           "(?)",
           924.9113034072471
          ],
          [
           "misc",
           "Sysco",
           736.5970802919708,
           "(?)",
           736.5970802919708
          ],
          [
           "tech",
           "Sysco",
           464,
           20220906,
           464
          ],
          [
           "unk",
           "Sysco",
           241,
           20220708,
           241
          ],
          [
           "clothing",
           "TIAA",
           507.6263871763255,
           "(?)",
           507.6263871763255
          ],
          [
           "debt",
           "TIAA",
           940,
           20220801,
           940
          ],
          [
           "grocery",
           "TIAA",
           820.8319672131148,
           "(?)",
           820.8319672131148
          ],
          [
           "invest",
           "TIAA",
           601.7558620689655,
           "(?)",
           601.7558620689655
          ],
          [
           "paypal",
           "TIAA",
           37,
           20220824,
           37
          ],
          [
           "tech",
           "TIAA",
           339,
           20220711,
           339
          ],
          [
           "unk",
           "TIAA",
           484,
           20220801,
           484
          ],
          [
           "health",
           "Tapestry",
           896,
           20220805,
           896
          ],
          [
           "invest",
           "Tapestry",
           179,
           20220808,
           179
          ],
          [
           "unk",
           "Tapestry",
           600,
           20220912,
           600
          ],
          [
           "grocery",
           "Travelers",
           234.90751445086704,
           "(?)",
           234.90751445086704
          ],
          [
           "health",
           "Travelers",
           668.4975206611571,
           "(?)",
           668.4975206611571
          ],
          [
           "invest",
           "Travelers",
           681.163407821229,
           "(?)",
           681.163407821229
          ],
          [
           "tech",
           "Travelers",
           410,
           20220822,
           410
          ],
          [
           "unk",
           "Travelers",
           371,
           20220914,
           371
          ],
          [
           "clothing",
           "Ulta Beauty",
           832,
           20220711,
           832
          ],
          [
           "debt",
           "Ulta Beauty",
           286,
           20220817,
           286
          ],
          [
           "grocery",
           "Ulta Beauty",
           543.2969837587007,
           "(?)",
           543.2969837587007
          ],
          [
           "health",
           "Ulta Beauty",
           674,
           20220718,
           674
          ],
          [
           "paypal",
           "Ulta Beauty",
           645.9422011084719,
           "(?)",
           645.9422011084719
          ],
          [
           "travel",
           "Ulta Beauty",
           775,
           20220629,
           775
          ],
          [
           "unk",
           "Ulta Beauty",
           461,
           20220906,
           461
          ],
          [
           "health",
           "United Continental Holdings",
           573,
           20220915,
           573
          ],
          [
           "invest",
           "United Continental Holdings",
           238,
           20220628,
           238
          ],
          [
           "misc",
           "United Continental Holdings",
           887,
           20220810,
           887
          ],
          [
           "paypal",
           "United Continental Holdings",
           822,
           20220909,
           822
          ],
          [
           "tech",
           "United Continental Holdings",
           500.2634560906516,
           "(?)",
           500.2634560906516
          ],
          [
           "utility",
           "United Continental Holdings",
           652,
           20220715,
           652
          ],
          [
           "grocery",
           "Visa",
           945,
           20220822,
           945
          ],
          [
           "invest",
           "Visa",
           951,
           20220831,
           951
          ],
          [
           "misc",
           "Visa",
           681.1004255319149,
           "(?)",
           681.1004255319149
          ],
          [
           "unk",
           "Visa",
           313,
           20220829,
           313
          ],
          [
           "utility",
           "Visa",
           680.8419497784342,
           "(?)",
           680.8419497784342
          ],
          [
           "clothing",
           "Voya Financial",
           915.7331863285557,
           "(?)",
           915.7331863285557
          ],
          [
           "invest",
           "Voya Financial",
           137,
           20220822,
           137
          ],
          [
           "tech",
           "Voya Financial",
           634,
           20220628,
           634
          ],
          [
           "travel",
           "Voya Financial",
           363,
           20220729,
           363
          ],
          [
           "unk",
           "Voya Financial",
           478.90033975084935,
           "(?)",
           478.90033975084935
          ],
          [
           "debt",
           "Walmart",
           30,
           20220825,
           30
          ],
          [
           "grocery",
           "Walmart",
           673,
           20220906,
           673
          ],
          [
           "health",
           "Walmart",
           214,
           20220916,
           214
          ],
          [
           "invest",
           "Walmart",
           883.5953757225434,
           20220831,
           883.5953757225434
          ],
          [
           "travel",
           "Walmart",
           748.5637168141593,
           "(?)",
           748.5637168141593
          ],
          [
           "unk",
           "Walmart",
           685.2937399678973,
           "(?)",
           685.2937399678973
          ],
          [
           "clothing",
           "(?)",
           805.3631419939577,
           "(?)",
           805.3631419939577
          ],
          [
           "debt",
           "(?)",
           601.2055308979174,
           "(?)",
           601.2055308979174
          ],
          [
           "grocery",
           "(?)",
           758.2412194273792,
           "(?)",
           758.2412194273792
          ],
          [
           "health",
           "(?)",
           688.3334715885525,
           "(?)",
           688.3334715885525
          ],
          [
           "invest",
           "(?)",
           700.3419011049291,
           "(?)",
           700.3419011049291
          ],
          [
           "misc",
           "(?)",
           729.7653397844733,
           "(?)",
           729.7653397844733
          ],
          [
           "paypal",
           "(?)",
           620.8351843625055,
           "(?)",
           620.8351843625055
          ],
          [
           "tech",
           "(?)",
           573.4597411933861,
           "(?)",
           573.4597411933861
          ],
          [
           "travel",
           "(?)",
           688.929591070087,
           "(?)",
           688.929591070087
          ],
          [
           "unk",
           "(?)",
           648.636028443508,
           "(?)",
           648.636028443508
          ],
          [
           "utility",
           "(?)",
           766.773001310616,
           "(?)",
           766.773001310616
          ]
         ],
         "domain": {
          "x": [
           0,
           1
          ],
          "y": [
           0,
           1
          ]
         },
         "hovertemplate": "labels=%{label}<br>Delta_sum=%{value}<br>parent=%{parent}<br>id=%{id}<br>Category=%{customdata[0]}<br>Location=%{customdata[1]}<br>Delta=%{color}<br>YYYYMMDD=%{customdata[3]}<extra></extra>",
         "ids": [
          "clothing/Amazon.com",
          "health/Amazon.com",
          "invest/Amazon.com",
          "tech/Amazon.com",
          "travel/Amazon.com",
          "unk/Amazon.com",
          "clothing/CBRE Group",
          "debt/CBRE Group",
          "health/CBRE Group",
          "misc/CBRE Group",
          "travel/CBRE Group",
          "unk/CBRE Group",
          "clothing/Cognizant Technology Solutions",
          "debt/Cognizant Technology Solutions",
          "health/Cognizant Technology Solutions",
          "invest/Cognizant Technology Solutions",
          "misc/Cognizant Technology Solutions",
          "travel/Cognizant Technology Solutions",
          "grocery/Delta Air Lines",
          "health/Delta Air Lines",
          "invest/Delta Air Lines",
          "misc/Delta Air Lines",
          "travel/Delta Air Lines",
          "invest/Entergy",
          "travel/Entergy",
          "utility/Entergy",
          "grocery/Hanesbrands",
          "invest/Hanesbrands",
          "paypal/Hanesbrands",
          "tech/Hanesbrands",
          "travel/Hanesbrands",
          "unk/Hanesbrands",
          "health/Hershey",
          "invest/Hershey",
          "travel/Hershey",
          "grocery/Hewlett Packard Enterprise",
          "health/Hewlett Packard Enterprise",
          "invest/Hewlett Packard Enterprise",
          "tech/Hewlett Packard Enterprise",
          "utility/Hewlett Packard Enterprise",
          "debt/Omnicom Group",
          "grocery/Omnicom Group",
          "health/Omnicom Group",
          "misc/Omnicom Group",
          "paypal/Omnicom Group",
          "unk/Omnicom Group",
          "grocery/PPL",
          "health/PPL",
          "invest/PPL",
          "misc/PPL",
          "paypal/PPL",
          "tech/Quest Diagnostics",
          "unk/Quest Diagnostics",
          "clothing/Sysco",
          "debt/Sysco",
          "grocery/Sysco",
          "misc/Sysco",
          "tech/Sysco",
          "unk/Sysco",
          "clothing/TIAA",
          "debt/TIAA",
          "grocery/TIAA",
          "invest/TIAA",
          "paypal/TIAA",
          "tech/TIAA",
          "unk/TIAA",
          "health/Tapestry",
          "invest/Tapestry",
          "unk/Tapestry",
          "grocery/Travelers",
          "health/Travelers",
          "invest/Travelers",
          "tech/Travelers",
          "unk/Travelers",
          "clothing/Ulta Beauty",
          "debt/Ulta Beauty",
          "grocery/Ulta Beauty",
          "health/Ulta Beauty",
          "paypal/Ulta Beauty",
          "travel/Ulta Beauty",
          "unk/Ulta Beauty",
          "health/United Continental Holdings",
          "invest/United Continental Holdings",
          "misc/United Continental Holdings",
          "paypal/United Continental Holdings",
          "tech/United Continental Holdings",
          "utility/United Continental Holdings",
          "grocery/Visa",
          "invest/Visa",
          "misc/Visa",
          "unk/Visa",
          "utility/Visa",
          "clothing/Voya Financial",
          "invest/Voya Financial",
          "tech/Voya Financial",
          "travel/Voya Financial",
          "unk/Voya Financial",
          "debt/Walmart",
          "grocery/Walmart",
          "health/Walmart",
          "invest/Walmart",
          "travel/Walmart",
          "unk/Walmart",
          "clothing",
          "debt",
          "grocery",
          "health",
          "invest",
          "misc",
          "paypal",
          "tech",
          "travel",
          "unk",
          "utility"
         ],
         "labels": [
          "Amazon.com",
          "Amazon.com",
          "Amazon.com",
          "Amazon.com",
          "Amazon.com",
          "Amazon.com",
          "CBRE Group",
          "CBRE Group",
          "CBRE Group",
          "CBRE Group",
          "CBRE Group",
          "CBRE Group",
          "Cognizant Technology Solutions",
          "Cognizant Technology Solutions",
          "Cognizant Technology Solutions",
          "Cognizant Technology Solutions",
          "Cognizant Technology Solutions",
          "Cognizant Technology Solutions",
          "Delta Air Lines",
          "Delta Air Lines",
          "Delta Air Lines",
          "Delta Air Lines",
          "Delta Air Lines",
          "Entergy",
          "Entergy",
          "Entergy",
          "Hanesbrands",
          "Hanesbrands",
          "Hanesbrands",
          "Hanesbrands",
          "Hanesbrands",
          "Hanesbrands",
          "Hershey",
          "Hershey",
          "Hershey",
          "Hewlett Packard Enterprise",
          "Hewlett Packard Enterprise",
          "Hewlett Packard Enterprise",
          "Hewlett Packard Enterprise",
          "Hewlett Packard Enterprise",
          "Omnicom Group",
          "Omnicom Group",
          "Omnicom Group",
          "Omnicom Group",
          "Omnicom Group",
          "Omnicom Group",
          "PPL",
          "PPL",
          "PPL",
          "PPL",
          "PPL",
          "Quest Diagnostics",
          "Quest Diagnostics",
          "Sysco",
          "Sysco",
          "Sysco",
          "Sysco",
          "Sysco",
          "Sysco",
          "TIAA",
          "TIAA",
          "TIAA",
          "TIAA",
          "TIAA",
          "TIAA",
          "TIAA",
          "Tapestry",
          "Tapestry",
          "Tapestry",
          "Travelers",
          "Travelers",
          "Travelers",
          "Travelers",
          "Travelers",
          "Ulta Beauty",
          "Ulta Beauty",
          "Ulta Beauty",
          "Ulta Beauty",
          "Ulta Beauty",
          "Ulta Beauty",
          "Ulta Beauty",
          "United Continental Holdings",
          "United Continental Holdings",
          "United Continental Holdings",
          "United Continental Holdings",
          "United Continental Holdings",
          "United Continental Holdings",
          "Visa",
          "Visa",
          "Visa",
          "Visa",
          "Visa",
          "Voya Financial",
          "Voya Financial",
          "Voya Financial",
          "Voya Financial",
          "Voya Financial",
          "Walmart",
          "Walmart",
          "Walmart",
          "Walmart",
          "Walmart",
          "Walmart",
          "clothing",
          "debt",
          "grocery",
          "health",
          "invest",
          "misc",
          "paypal",
          "tech",
          "travel",
          "unk",
          "utility"
         ],
         "marker": {
          "coloraxis": "coloraxis",
          "colors": [
           646,
           318,
           340.013698630137,
           869.5821325648415,
           794,
           783,
           983,
           420,
           843,
           38,
           310.5394524959742,
           947,
           711,
           657,
           880,
           460,
           830,
           755.2631578947369,
           738.7770095073466,
           605,
           817,
           3,
           480,
           657,
           710,
           864.3469827586207,
           90,
           819.9837067209776,
           349.8770053475936,
           413,
           782,
           34,
           836,
           428.28195718654433,
           552,
           168,
           536.7183279742766,
           911,
           318.28641571194765,
           881,
           231,
           171,
           813,
           153,
           590,
           19,
           902,
           227,
           960,
           91,
           616.5508543531326,
           252,
           855.7046204620463,
           823,
           365,
           924.9113034072471,
           736.5970802919708,
           464,
           241,
           507.6263871763255,
           940,
           820.8319672131148,
           601.7558620689655,
           37,
           339,
           484,
           896,
           179,
           600,
           234.90751445086704,
           668.4975206611571,
           681.163407821229,
           410,
           371,
           832,
           286,
           543.2969837587007,
           674,
           645.9422011084719,
           775,
           461,
           573,
           238,
           887,
           822,
           500.2634560906516,
           652,
           945,
           951,
           681.1004255319149,
           313,
           680.8419497784342,
           915.7331863285557,
           137,
           634,
           363,
           478.90033975084935,
           30,
           673,
           214,
           883.5953757225434,
           748.5637168141593,
           685.2937399678973,
           805.3631419939577,
           601.2055308979174,
           758.2412194273792,
           688.3334715885525,
           700.3419011049291,
           729.7653397844733,
           620.8351843625055,
           573.4597411933861,
           688.929591070087,
           648.636028443508,
           766.773001310616
          ]
         },
         "name": "",
         "parents": [
          "clothing",
          "health",
          "invest",
          "tech",
          "travel",
          "unk",
          "clothing",
          "debt",
          "health",
          "misc",
          "travel",
          "unk",
          "clothing",
          "debt",
          "health",
          "invest",
          "misc",
          "travel",
          "grocery",
          "health",
          "invest",
          "misc",
          "travel",
          "invest",
          "travel",
          "utility",
          "grocery",
          "invest",
          "paypal",
          "tech",
          "travel",
          "unk",
          "health",
          "invest",
          "travel",
          "grocery",
          "health",
          "invest",
          "tech",
          "utility",
          "debt",
          "grocery",
          "health",
          "misc",
          "paypal",
          "unk",
          "grocery",
          "health",
          "invest",
          "misc",
          "paypal",
          "tech",
          "unk",
          "clothing",
          "debt",
          "grocery",
          "misc",
          "tech",
          "unk",
          "clothing",
          "debt",
          "grocery",
          "invest",
          "paypal",
          "tech",
          "unk",
          "health",
          "invest",
          "unk",
          "grocery",
          "health",
          "invest",
          "tech",
          "unk",
          "clothing",
          "debt",
          "grocery",
          "health",
          "paypal",
          "travel",
          "unk",
          "health",
          "invest",
          "misc",
          "paypal",
          "tech",
          "utility",
          "grocery",
          "invest",
          "misc",
          "unk",
          "utility",
          "clothing",
          "invest",
          "tech",
          "travel",
          "unk",
          "debt",
          "grocery",
          "health",
          "invest",
          "travel",
          "unk",
          "",
          "",
          "",
          "",
          "",
          "",
          "",
          "",
          "",
          "",
          ""
         ],
         "type": "sunburst",
         "values": [
          646,
          318,
          657,
          1735,
          1444,
          783,
          983,
          420,
          843,
          38,
          621,
          947,
          711,
          657,
          880,
          460,
          830,
          1330,
          1157,
          605,
          817,
          3,
          480,
          657,
          710,
          928,
          90,
          1964,
          561,
          413,
          782,
          34,
          836,
          1635,
          552,
          168,
          1555,
          911,
          611,
          881,
          231,
          171,
          813,
          153,
          590,
          19,
          902,
          227,
          960,
          91,
          1229,
          252,
          1212,
          823,
          365,
          1849,
          1370,
          464,
          241,
          811,
          940,
          1464,
          725,
          37,
          339,
          484,
          896,
          179,
          600,
          346,
          1210,
          1432,
          410,
          371,
          832,
          286,
          862,
          674,
          1263,
          775,
          461,
          573,
          238,
          887,
          822,
          706,
          652,
          945,
          951,
          1175,
          313,
          1354,
          1814,
          137,
          634,
          363,
          883,
          30,
          673,
          214,
          1038,
          2260,
          1246,
          6620,
          2929,
          8627,
          9644,
          12761,
          4547,
          4502,
          5564,
          9317,
          7594,
          3815
         ]
        }
       ],
       "layout": {
        "coloraxis": {
         "cmid": 695.2429399367755,
         "colorbar": {
          "title": {
           "text": "Delta"
          }
         },
         "colorscale": [
          [
           0,
           "rgb(0,104,55)"
          ],
          [
           0.1,
           "rgb(26,152,80)"
          ],
          [
           0.2,
           "rgb(102,189,99)"
          ],
          [
           0.3,
           "rgb(166,217,106)"
          ],
          [
           0.4,
           "rgb(217,239,139)"
          ],
          [
           0.5,
           "rgb(255,255,191)"
          ],
          [
           0.6,
           "rgb(254,224,139)"
          ],
          [
           0.7,
           "rgb(253,174,97)"
          ],
          [
           0.8,
           "rgb(244,109,67)"
          ],
          [
           0.9,
           "rgb(215,48,39)"
          ],
          [
           1,
           "rgb(165,0,38)"
          ]
         ]
        },
        "height": 600,
        "legend": {
         "tracegroupgap": 0
        },
        "margin": {
         "t": 60
        },
        "template": {
         "data": {
          "bar": [
           {
            "error_x": {
             "color": "#f2f5fa"
            },
            "error_y": {
             "color": "#f2f5fa"
            },
            "marker": {
             "line": {
              "color": "rgb(17,17,17)",
              "width": 0.5
             },
             "pattern": {
              "fillmode": "overlay",
              "size": 10,
              "solidity": 0.2
             }
            },
            "type": "bar"
           }
          ],
          "barpolar": [
           {
            "marker": {
             "line": {
              "color": "rgb(17,17,17)",
              "width": 0.5
             },
             "pattern": {
              "fillmode": "overlay",
              "size": 10,
              "solidity": 0.2
             }
            },
            "type": "barpolar"
           }
          ],
          "carpet": [
           {
            "aaxis": {
             "endlinecolor": "#A2B1C6",
             "gridcolor": "#506784",
             "linecolor": "#506784",
             "minorgridcolor": "#506784",
             "startlinecolor": "#A2B1C6"
            },
            "baxis": {
             "endlinecolor": "#A2B1C6",
             "gridcolor": "#506784",
             "linecolor": "#506784",
             "minorgridcolor": "#506784",
             "startlinecolor": "#A2B1C6"
            },
            "type": "carpet"
           }
          ],
          "choropleth": [
           {
            "colorbar": {
             "outlinewidth": 0,
             "ticks": ""
            },
            "type": "choropleth"
           }
          ],
          "contour": [
           {
            "colorbar": {
             "outlinewidth": 0,
             "ticks": ""
            },
            "colorscale": [
             [
              0,
              "#0d0887"
             ],
             [
              0.1111111111111111,
              "#46039f"
             ],
             [
              0.2222222222222222,
              "#7201a8"
             ],
             [
              0.3333333333333333,
              "#9c179e"
             ],
             [
              0.4444444444444444,
              "#bd3786"
             ],
             [
              0.5555555555555556,
              "#d8576b"
             ],
             [
              0.6666666666666666,
              "#ed7953"
             ],
             [
              0.7777777777777778,
              "#fb9f3a"
             ],
             [
              0.8888888888888888,
              "#fdca26"
             ],
             [
              1,
              "#f0f921"
             ]
            ],
            "type": "contour"
           }
          ],
          "contourcarpet": [
           {
            "colorbar": {
             "outlinewidth": 0,
             "ticks": ""
            },
            "type": "contourcarpet"
           }
          ],
          "heatmap": [
           {
            "colorbar": {
             "outlinewidth": 0,
             "ticks": ""
            },
            "colorscale": [
             [
              0,
              "#0d0887"
             ],
             [
              0.1111111111111111,
              "#46039f"
             ],
             [
              0.2222222222222222,
              "#7201a8"
             ],
             [
              0.3333333333333333,
              "#9c179e"
             ],
             [
              0.4444444444444444,
              "#bd3786"
             ],
             [
              0.5555555555555556,
              "#d8576b"
             ],
             [
              0.6666666666666666,
              "#ed7953"
             ],
             [
              0.7777777777777778,
              "#fb9f3a"
             ],
             [
              0.8888888888888888,
              "#fdca26"
             ],
             [
              1,
              "#f0f921"
             ]
            ],
            "type": "heatmap"
           }
          ],
          "heatmapgl": [
           {
            "colorbar": {
             "outlinewidth": 0,
             "ticks": ""
            },
            "colorscale": [
             [
              0,
              "#0d0887"
             ],
             [
              0.1111111111111111,
              "#46039f"
             ],
             [
              0.2222222222222222,
              "#7201a8"
             ],
             [
              0.3333333333333333,
              "#9c179e"
             ],
             [
              0.4444444444444444,
              "#bd3786"
             ],
             [
              0.5555555555555556,
              "#d8576b"
             ],
             [
              0.6666666666666666,
              "#ed7953"
             ],
             [
              0.7777777777777778,
              "#fb9f3a"
             ],
             [
              0.8888888888888888,
              "#fdca26"
             ],
             [
              1,
              "#f0f921"
             ]
            ],
            "type": "heatmapgl"
           }
          ],
          "histogram": [
           {
            "marker": {
             "pattern": {
              "fillmode": "overlay",
              "size": 10,
              "solidity": 0.2
             }
            },
            "type": "histogram"
           }
          ],
          "histogram2d": [
           {
            "colorbar": {
             "outlinewidth": 0,
             "ticks": ""
            },
            "colorscale": [
             [
              0,
              "#0d0887"
             ],
             [
              0.1111111111111111,
              "#46039f"
             ],
             [
              0.2222222222222222,
              "#7201a8"
             ],
             [
              0.3333333333333333,
              "#9c179e"
             ],
             [
              0.4444444444444444,
              "#bd3786"
             ],
             [
              0.5555555555555556,
              "#d8576b"
             ],
             [
              0.6666666666666666,
              "#ed7953"
             ],
             [
              0.7777777777777778,
              "#fb9f3a"
             ],
             [
              0.8888888888888888,
              "#fdca26"
             ],
             [
              1,
              "#f0f921"
             ]
            ],
            "type": "histogram2d"
           }
          ],
          "histogram2dcontour": [
           {
            "colorbar": {
             "outlinewidth": 0,
             "ticks": ""
            },
            "colorscale": [
             [
              0,
              "#0d0887"
             ],
             [
              0.1111111111111111,
              "#46039f"
             ],
             [
              0.2222222222222222,
              "#7201a8"
             ],
             [
              0.3333333333333333,
              "#9c179e"
             ],
             [
              0.4444444444444444,
              "#bd3786"
             ],
             [
              0.5555555555555556,
              "#d8576b"
             ],
             [
              0.6666666666666666,
              "#ed7953"
             ],
             [
              0.7777777777777778,
              "#fb9f3a"
             ],
             [
              0.8888888888888888,
              "#fdca26"
             ],
             [
              1,
              "#f0f921"
             ]
            ],
            "type": "histogram2dcontour"
           }
          ],
          "mesh3d": [
           {
            "colorbar": {
             "outlinewidth": 0,
             "ticks": ""
            },
            "type": "mesh3d"
           }
          ],
          "parcoords": [
           {
            "line": {
             "colorbar": {
              "outlinewidth": 0,
              "ticks": ""
             }
            },
            "type": "parcoords"
           }
          ],
          "pie": [
           {
            "automargin": true,
            "type": "pie"
           }
          ],
          "scatter": [
           {
            "marker": {
             "line": {
              "color": "#283442"
             }
            },
            "type": "scatter"
           }
          ],
          "scatter3d": [
           {
            "line": {
             "colorbar": {
              "outlinewidth": 0,
              "ticks": ""
             }
            },
            "marker": {
             "colorbar": {
              "outlinewidth": 0,
              "ticks": ""
             }
            },
            "type": "scatter3d"
           }
          ],
          "scattercarpet": [
           {
            "marker": {
             "colorbar": {
              "outlinewidth": 0,
              "ticks": ""
             }
            },
            "type": "scattercarpet"
           }
          ],
          "scattergeo": [
           {
            "marker": {
             "colorbar": {
              "outlinewidth": 0,
              "ticks": ""
             }
            },
            "type": "scattergeo"
           }
          ],
          "scattergl": [
           {
            "marker": {
             "line": {
              "color": "#283442"
             }
            },
            "type": "scattergl"
           }
          ],
          "scattermapbox": [
           {
            "marker": {
             "colorbar": {
              "outlinewidth": 0,
              "ticks": ""
             }
            },
            "type": "scattermapbox"
           }
          ],
          "scatterpolar": [
           {
            "marker": {
             "colorbar": {
              "outlinewidth": 0,
              "ticks": ""
             }
            },
            "type": "scatterpolar"
           }
          ],
          "scatterpolargl": [
           {
            "marker": {
             "colorbar": {
              "outlinewidth": 0,
              "ticks": ""
             }
            },
            "type": "scatterpolargl"
           }
          ],
          "scatterternary": [
           {
            "marker": {
             "colorbar": {
              "outlinewidth": 0,
              "ticks": ""
             }
            },
            "type": "scatterternary"
           }
          ],
          "surface": [
           {
            "colorbar": {
             "outlinewidth": 0,
             "ticks": ""
            },
            "colorscale": [
             [
              0,
              "#0d0887"
             ],
             [
              0.1111111111111111,
              "#46039f"
             ],
             [
              0.2222222222222222,
              "#7201a8"
             ],
             [
              0.3333333333333333,
              "#9c179e"
             ],
             [
              0.4444444444444444,
              "#bd3786"
             ],
             [
              0.5555555555555556,
              "#d8576b"
             ],
             [
              0.6666666666666666,
              "#ed7953"
             ],
             [
              0.7777777777777778,
              "#fb9f3a"
             ],
             [
              0.8888888888888888,
              "#fdca26"
             ],
             [
              1,
              "#f0f921"
             ]
            ],
            "type": "surface"
           }
          ],
          "table": [
           {
            "cells": {
             "fill": {
              "color": "#506784"
             },
             "line": {
              "color": "rgb(17,17,17)"
             }
            },
            "header": {
             "fill": {
              "color": "#2a3f5f"
             },
             "line": {
              "color": "rgb(17,17,17)"
             }
            },
            "type": "table"
           }
          ]
         },
         "layout": {
          "annotationdefaults": {
           "arrowcolor": "#f2f5fa",
           "arrowhead": 0,
           "arrowwidth": 1
          },
          "autotypenumbers": "strict",
          "coloraxis": {
           "colorbar": {
            "outlinewidth": 0,
            "ticks": ""
           }
          },
          "colorscale": {
           "diverging": [
            [
             0,
             "#8e0152"
            ],
            [
             0.1,
             "#c51b7d"
            ],
            [
             0.2,
             "#de77ae"
            ],
            [
             0.3,
             "#f1b6da"
            ],
            [
             0.4,
             "#fde0ef"
            ],
            [
             0.5,
             "#f7f7f7"
            ],
            [
             0.6,
             "#e6f5d0"
            ],
            [
             0.7,
             "#b8e186"
            ],
            [
             0.8,
             "#7fbc41"
            ],
            [
             0.9,
             "#4d9221"
            ],
            [
             1,
             "#276419"
            ]
           ],
           "sequential": [
            [
             0,
             "#0d0887"
            ],
            [
             0.1111111111111111,
             "#46039f"
            ],
            [
             0.2222222222222222,
             "#7201a8"
            ],
            [
             0.3333333333333333,
             "#9c179e"
            ],
            [
             0.4444444444444444,
             "#bd3786"
            ],
            [
             0.5555555555555556,
             "#d8576b"
            ],
            [
             0.6666666666666666,
             "#ed7953"
            ],
            [
             0.7777777777777778,
             "#fb9f3a"
            ],
            [
             0.8888888888888888,
             "#fdca26"
            ],
            [
             1,
             "#f0f921"
            ]
           ],
           "sequentialminus": [
            [
             0,
             "#0d0887"
            ],
            [
             0.1111111111111111,
             "#46039f"
            ],
            [
             0.2222222222222222,
             "#7201a8"
            ],
            [
             0.3333333333333333,
             "#9c179e"
            ],
            [
             0.4444444444444444,
             "#bd3786"
            ],
            [
             0.5555555555555556,
             "#d8576b"
            ],
            [
             0.6666666666666666,
             "#ed7953"
            ],
            [
             0.7777777777777778,
             "#fb9f3a"
            ],
            [
             0.8888888888888888,
             "#fdca26"
            ],
            [
             1,
             "#f0f921"
            ]
           ]
          },
          "colorway": [
           "#636efa",
           "#EF553B",
           "#00cc96",
           "#ab63fa",
           "#FFA15A",
           "#19d3f3",
           "#FF6692",
           "#B6E880",
           "#FF97FF",
           "#FECB52"
          ],
          "font": {
           "color": "#f2f5fa"
          },
          "geo": {
           "bgcolor": "rgb(17,17,17)",
           "lakecolor": "rgb(17,17,17)",
           "landcolor": "rgb(17,17,17)",
           "showlakes": true,
           "showland": true,
           "subunitcolor": "#506784"
          },
          "hoverlabel": {
           "align": "left"
          },
          "hovermode": "closest",
          "mapbox": {
           "style": "dark"
          },
          "paper_bgcolor": "rgb(17,17,17)",
          "plot_bgcolor": "rgb(17,17,17)",
          "polar": {
           "angularaxis": {
            "gridcolor": "#506784",
            "linecolor": "#506784",
            "ticks": ""
           },
           "bgcolor": "rgb(17,17,17)",
           "radialaxis": {
            "gridcolor": "#506784",
            "linecolor": "#506784",
            "ticks": ""
           }
          },
          "scene": {
           "xaxis": {
            "backgroundcolor": "rgb(17,17,17)",
            "gridcolor": "#506784",
            "gridwidth": 2,
            "linecolor": "#506784",
            "showbackground": true,
            "ticks": "",
            "zerolinecolor": "#C8D4E3"
           },
           "yaxis": {
            "backgroundcolor": "rgb(17,17,17)",
            "gridcolor": "#506784",
            "gridwidth": 2,
            "linecolor": "#506784",
            "showbackground": true,
            "ticks": "",
            "zerolinecolor": "#C8D4E3"
           },
           "zaxis": {
            "backgroundcolor": "rgb(17,17,17)",
            "gridcolor": "#506784",
            "gridwidth": 2,
            "linecolor": "#506784",
            "showbackground": true,
            "ticks": "",
            "zerolinecolor": "#C8D4E3"
           }
          },
          "shapedefaults": {
           "line": {
            "color": "#f2f5fa"
           }
          },
          "sliderdefaults": {
           "bgcolor": "#C8D4E3",
           "bordercolor": "rgb(17,17,17)",
           "borderwidth": 1,
           "tickwidth": 0
          },
          "ternary": {
           "aaxis": {
            "gridcolor": "#506784",
            "linecolor": "#506784",
            "ticks": ""
           },
           "baxis": {
            "gridcolor": "#506784",
            "linecolor": "#506784",
            "ticks": ""
           },
           "bgcolor": "rgb(17,17,17)",
           "caxis": {
            "gridcolor": "#506784",
            "linecolor": "#506784",
            "ticks": ""
           }
          },
          "title": {
           "x": 0.05
          },
          "updatemenudefaults": {
           "bgcolor": "#506784",
           "borderwidth": 0
          },
          "xaxis": {
           "automargin": true,
           "gridcolor": "#283442",
           "linecolor": "#506784",
           "ticks": "",
           "title": {
            "standoff": 15
           },
           "zerolinecolor": "#283442",
           "zerolinewidth": 2
          },
          "yaxis": {
           "automargin": true,
           "gridcolor": "#283442",
           "linecolor": "#506784",
           "ticks": "",
           "title": {
            "standoff": 15
           },
           "zerolinecolor": "#283442",
           "zerolinewidth": 2
          }
         }
        }
       }
      }
     },
     "metadata": {},
     "output_type": "display_data"
    },
    {
     "data": {
      "text/html": [
       "<h2> 🌞 SunBurst: Year</h2>"
      ],
      "text/plain": [
       "<IPython.core.display.HTML object>"
      ]
     },
     "metadata": {},
     "output_type": "display_data"
    },
    {
     "data": {
      "text/html": [
       "from 2022-01-03 00:00:00"
      ],
      "text/plain": [
       "<IPython.core.display.HTML object>"
      ]
     },
     "metadata": {},
     "output_type": "display_data"
    },
    {
     "data": {
      "text/html": [
       "to 2022-09-22 00:00:00"
      ],
      "text/plain": [
       "<IPython.core.display.HTML object>"
      ]
     },
     "metadata": {},
     "output_type": "display_data"
    },
    {
     "data": {
      "text/html": [
       "total 168642"
      ],
      "text/plain": [
       "<IPython.core.display.HTML object>"
      ]
     },
     "metadata": {},
     "output_type": "display_data"
    },
    {
     "data": {
      "application/vnd.plotly.v1+json": {
       "config": {
        "plotlyServerURL": "https://plot.ly"
       },
       "data": [
        {
         "branchvalues": "total",
         "customdata": [
          [
           "clothing",
           "Amazon.com",
           646,
           20220829,
           646
          ],
          [
           "grocery",
           "Amazon.com",
           75,
           20220429,
           75
          ],
          [
           "health",
           "Amazon.com",
           829.8667287977632,
           "(?)",
           829.8667287977632
          ],
          [
           "invest",
           "Amazon.com",
           340.013698630137,
           "(?)",
           340.013698630137
          ],
          [
           "misc",
           "Amazon.com",
           959,
           20220225,
           959
          ],
          [
           "paypal",
           "Amazon.com",
           322,
           20220119,
           322
          ],
          [
           "tech",
           "Amazon.com",
           834.8393574297189,
           "(?)",
           834.8393574297189
          ],
          [
           "travel",
           "Amazon.com",
           794,
           "(?)",
           794
          ],
          [
           "unk",
           "Amazon.com",
           717.8319814600231,
           "(?)",
           717.8319814600231
          ],
          [
           "clothing",
           "CBRE Group",
           983,
           20220801,
           983
          ],
          [
           "debt",
           "CBRE Group",
           367.81065918653576,
           "(?)",
           367.81065918653576
          ],
          [
           "health",
           "CBRE Group",
           924.7060424605335,
           "(?)",
           924.7060424605335
          ],
          [
           "invest",
           "CBRE Group",
           527,
           20220124,
           527
          ],
          [
           "misc",
           "CBRE Group",
           301.8054054054054,
           "(?)",
           301.8054054054054
          ],
          [
           "paypal",
           "CBRE Group",
           266,
           20220523,
           266
          ],
          [
           "tech",
           "CBRE Group",
           78,
           20220322,
           78
          ],
          [
           "travel",
           "CBRE Group",
           501.13094571908226,
           "(?)",
           501.13094571908226
          ],
          [
           "unk",
           "CBRE Group",
           818.1599745060548,
           "(?)",
           818.1599745060548
          ],
          [
           "clothing",
           "Cognizant Technology Solutions",
           678.4698795180723,
           "(?)",
           678.4698795180723
          ],
          [
           "debt",
           "Cognizant Technology Solutions",
           589.152117545376,
           "(?)",
           589.152117545376
          ],
          [
           "grocery",
           "Cognizant Technology Solutions",
           291.4512428298279,
           "(?)",
           291.4512428298279
          ],
          [
           "health",
           "Cognizant Technology Solutions",
           805.051993067591,
           "(?)",
           805.051993067591
          ],
          [
           "invest",
           "Cognizant Technology Solutions",
           460,
           20220818,
           460
          ],
          [
           "misc",
           "Cognizant Technology Solutions",
           830,
           20220708,
           830
          ],
          [
           "paypal",
           "Cognizant Technology Solutions",
           198,
           20220531,
           198
          ],
          [
           "tech",
           "Cognizant Technology Solutions",
           487,
           20220301,
           487
          ],
          [
           "travel",
           "Cognizant Technology Solutions",
           632.3285318559557,
           "(?)",
           632.3285318559557
          ],
          [
           "utility",
           "Cognizant Technology Solutions",
           632,
           20220503,
           632
          ],
          [
           "clothing",
           "Delta Air Lines",
           55,
           20220228,
           55
          ],
          [
           "grocery",
           "Delta Air Lines",
           738.7770095073466,
           "(?)",
           738.7770095073466
          ],
          [
           "health",
           "Delta Air Lines",
           539.9187145557656,
           "(?)",
           539.9187145557656
          ],
          [
           "invest",
           "Delta Air Lines",
           681.3944700460829,
           "(?)",
           681.3944700460829
          ],
          [
           "misc",
           "Delta Air Lines",
           3,
           20220919,
           3
          ],
          [
           "travel",
           "Delta Air Lines",
           480,
           20220801,
           480
          ],
          [
           "clothing",
           "Entergy",
           814,
           20220503,
           814
          ],
          [
           "debt",
           "Entergy",
           750,
           20220513,
           750
          ],
          [
           "invest",
           "Entergy",
           863.3152173913044,
           "(?)",
           863.3152173913044
          ],
          [
           "misc",
           "Entergy",
           804.048632218845,
           "(?)",
           804.048632218845
          ],
          [
           "paypal",
           "Entergy",
           271,
           20220621,
           271
          ],
          [
           "travel",
           "Entergy",
           866.5680473372781,
           "(?)",
           866.5680473372781
          ],
          [
           "utility",
           "Entergy",
           864.3469827586207,
           "(?)",
           864.3469827586207
          ],
          [
           "clothing",
           "Hanesbrands",
           975,
           20220103,
           975
          ],
          [
           "debt",
           "Hanesbrands",
           671.8819875776397,
           "(?)",
           671.8819875776397
          ],
          [
           "grocery",
           "Hanesbrands",
           90,
           20220728,
           90
          ],
          [
           "health",
           "Hanesbrands",
           734,
           20220315,
           734
          ],
          [
           "invest",
           "Hanesbrands",
           819.9837067209776,
           "(?)",
           819.9837067209776
          ],
          [
           "misc",
           "Hanesbrands",
           895,
           20220606,
           895
          ],
          [
           "paypal",
           "Hanesbrands",
           349.8770053475936,
           "(?)",
           349.8770053475936
          ],
          [
           "tech",
           "Hanesbrands",
           356.64328657314627,
           "(?)",
           356.64328657314627
          ],
          [
           "travel",
           "Hanesbrands",
           814.719729563614,
           "(?)",
           814.719729563614
          ],
          [
           "unk",
           "Hanesbrands",
           149.2233009708738,
           "(?)",
           149.2233009708738
          ],
          [
           "clothing",
           "Hershey",
           691,
           20220502,
           691
          ],
          [
           "debt",
           "Hershey",
           63,
           20220427,
           63
          ],
          [
           "health",
           "Hershey",
           836,
           20220627,
           836
          ],
          [
           "invest",
           "Hershey",
           428.28195718654433,
           "(?)",
           428.28195718654433
          ],
          [
           "misc",
           "Hershey",
           737,
           20220111,
           737
          ],
          [
           "tech",
           "Hershey",
           304.05555555555554,
           "(?)",
           304.05555555555554
          ],
          [
           "travel",
           "Hershey",
           505.01801801801804,
           "(?)",
           505.01801801801804
          ],
          [
           "unk",
           "Hershey",
           817.6847360912982,
           20220428,
           817.6847360912982
          ],
          [
           "grocery",
           "Hewlett Packard Enterprise",
           168,
           20220822,
           168
          ],
          [
           "health",
           "Hewlett Packard Enterprise",
           741.2258350576411,
           "(?)",
           741.2258350576411
          ],
          [
           "invest",
           "Hewlett Packard Enterprise",
           867.0011567379988,
           "(?)",
           867.0011567379988
          ],
          [
           "tech",
           "Hewlett Packard Enterprise",
           347.0864779874214,
           "(?)",
           347.0864779874214
          ],
          [
           "travel",
           "Hewlett Packard Enterprise",
           998,
           20220621,
           998
          ],
          [
           "utility",
           "Hewlett Packard Enterprise",
           881,
           20220915,
           881
          ],
          [
           "clothing",
           "Omnicom Group",
           870,
           20220428,
           870
          ],
          [
           "debt",
           "Omnicom Group",
           392.02564102564105,
           "(?)",
           392.02564102564105
          ],
          [
           "grocery",
           "Omnicom Group",
           171,
           20220802,
           171
          ],
          [
           "health",
           "Omnicom Group",
           679.4584584584585,
           "(?)",
           679.4584584584585
          ],
          [
           "misc",
           "Omnicom Group",
           153,
           20220810,
           153
          ],
          [
           "paypal",
           "Omnicom Group",
           590,
           20220817,
           590
          ],
          [
           "travel",
           "Omnicom Group",
           471,
           20220606,
           471
          ],
          [
           "unk",
           "Omnicom Group",
           19,
           20220909,
           19
          ],
          [
           "grocery",
           "PPL",
           850.2445369406868,
           "(?)",
           850.2445369406868
          ],
          [
           "health",
           "PPL",
           377.5558823529412,
           "(?)",
           377.5558823529412
          ],
          [
           "invest",
           "PPL",
           796.8205128205128,
           "(?)",
           796.8205128205128
          ],
          [
           "misc",
           "PPL",
           91,
           20220708,
           91
          ],
          [
           "paypal",
           "PPL",
           577.9754098360655,
           "(?)",
           577.9754098360655
          ],
          [
           "tech",
           "PPL",
           71.05633802816901,
           "(?)",
           71.05633802816901
          ],
          [
           "unk",
           "PPL",
           743.4603174603175,
           "(?)",
           743.4603174603175
          ],
          [
           "invest",
           "Quest Diagnostics",
           706.8129907209136,
           "(?)",
           706.8129907209136
          ],
          [
           "misc",
           "Quest Diagnostics",
           287.25347222222223,
           "(?)",
           287.25347222222223
          ],
          [
           "paypal",
           "Quest Diagnostics",
           413,
           20220415,
           413
          ],
          [
           "tech",
           "Quest Diagnostics",
           252,
           20220908,
           252
          ],
          [
           "unk",
           "Quest Diagnostics",
           855.7046204620463,
           "(?)",
           855.7046204620463
          ],
          [
           "utility",
           "Quest Diagnostics",
           287,
           20220330,
           287
          ],
          [
           "clothing",
           "Sysco",
           823,
           20220808,
           823
          ],
          [
           "debt",
           "Sysco",
           365,
           20220726,
           365
          ],
          [
           "grocery",
           "Sysco",
           924.9113034072471,
           "(?)",
           924.9113034072471
          ],
          [
           "invest",
           "Sysco",
           711.0921282798834,
           "(?)",
           711.0921282798834
          ],
          [
           "misc",
           "Sysco",
           736.5970802919708,
           "(?)",
           736.5970802919708
          ],
          [
           "paypal",
           "Sysco",
           836.4243542435424,
           "(?)",
           836.4243542435424
          ],
          [
           "tech",
           "Sysco",
           458.9859484777518,
           "(?)",
           458.9859484777518
          ],
          [
           "travel",
           "Sysco",
           222,
           20220428,
           222
          ],
          [
           "unk",
           "Sysco",
           775.5633952254642,
           "(?)",
           775.5633952254642
          ],
          [
           "clothing",
           "TIAA",
           507.6263871763255,
           "(?)",
           507.6263871763255
          ],
          [
           "debt",
           "TIAA",
           940,
           20220801,
           940
          ],
          [
           "grocery",
           "TIAA",
           820.8319672131148,
           "(?)",
           820.8319672131148
          ],
          [
           "health",
           "TIAA",
           403,
           20220606,
           403
          ],
          [
           "invest",
           "TIAA",
           665.5529573590096,
           "(?)",
           665.5529573590096
          ],
          [
           "misc",
           "TIAA",
           592.9061371841156,
           "(?)",
           592.9061371841156
          ],
          [
           "paypal",
           "TIAA",
           37,
           20220824,
           37
          ],
          [
           "tech",
           "TIAA",
           779.0335154826959,
           "(?)",
           779.0335154826959
          ],
          [
           "unk",
           "TIAA",
           484,
           20220801,
           484
          ],
          [
           "utility",
           "TIAA",
           684,
           20220103,
           684
          ],
          [
           "debt",
           "Tapestry",
           638,
           20220419,
           638
          ],
          [
           "health",
           "Tapestry",
           765.746835443038,
           "(?)",
           765.746835443038
          ],
          [
           "invest",
           "Tapestry",
           230.32882882882882,
           "(?)",
           230.32882882882882
          ],
          [
           "tech",
           "Tapestry",
           787.2902609802674,
           "(?)",
           787.2902609802674
          ],
          [
           "unk",
           "Tapestry",
           643.554191137213,
           "(?)",
           643.554191137213
          ],
          [
           "utility",
           "Tapestry",
           805.1508828250402,
           "(?)",
           805.1508828250402
          ],
          [
           "clothing",
           "Travelers",
           345,
           20220601,
           345
          ],
          [
           "debt",
           "Travelers",
           304,
           20220502,
           304
          ],
          [
           "grocery",
           "Travelers",
           657.5683890577508,
           "(?)",
           657.5683890577508
          ],
          [
           "health",
           "Travelers",
           595.6697127937337,
           "(?)",
           595.6697127937337
          ],
          [
           "invest",
           "Travelers",
           681.163407821229,
           "(?)",
           681.163407821229
          ],
          [
           "misc",
           "Travelers",
           533.5154185022027,
           "(?)",
           533.5154185022027
          ],
          [
           "tech",
           "Travelers",
           410,
           20220822,
           410
          ],
          [
           "unk",
           "Travelers",
           515.3405128205128,
           "(?)",
           515.3405128205128
          ],
          [
           "utility",
           "Travelers",
           198,
           20220124,
           198
          ],
          [
           "clothing",
           "Ulta Beauty",
           832,
           20220711,
           832
          ],
          [
           "debt",
           "Ulta Beauty",
           286,
           20220817,
           286
          ],
          [
           "grocery",
           "Ulta Beauty",
           543.2969837587007,
           "(?)",
           543.2969837587007
          ],
          [
           "health",
           "Ulta Beauty",
           732.9954379562043,
           "(?)",
           732.9954379562043
          ],
          [
           "invest",
           "Ulta Beauty",
           647,
           20220411,
           647
          ],
          [
           "paypal",
           "Ulta Beauty",
           645.9422011084719,
           "(?)",
           645.9422011084719
          ],
          [
           "tech",
           "Ulta Beauty",
           809,
           20220425,
           809
          ],
          [
           "travel",
           "Ulta Beauty",
           742.1960542540074,
           "(?)",
           742.1960542540074
          ],
          [
           "unk",
           "Ulta Beauty",
           711.9694881889764,
           "(?)",
           711.9694881889764
          ],
          [
           "utility",
           "Ulta Beauty",
           267,
           20220425,
           267
          ],
          [
           "debt",
           "United Continental Holdings",
           578,
           20220121,
           578
          ],
          [
           "grocery",
           "United Continental Holdings",
           333,
           20220610,
           333
          ],
          [
           "health",
           "United Continental Holdings",
           752.0613008890969,
           "(?)",
           752.0613008890969
          ],
          [
           "invest",
           "United Continental Holdings",
           328.13504823151123,
           "(?)",
           328.13504823151123
          ],
          [
           "misc",
           "United Continental Holdings",
           814.5786758383491,
           "(?)",
           814.5786758383491
          ],
          [
           "paypal",
           "United Continental Holdings",
           822,
           20220909,
           822
          ],
          [
           "tech",
           "United Continental Holdings",
           410.00465983224603,
           "(?)",
           410.00465983224603
          ],
          [
           "travel",
           "United Continental Holdings",
           301,
           20220617,
           301
          ],
          [
           "unk",
           "United Continental Holdings",
           817.2820292347377,
           "(?)",
           817.2820292347377
          ],
          [
           "utility",
           "United Continental Holdings",
           728.1947331947332,
           "(?)",
           728.1947331947332
          ],
          [
           "grocery",
           "Visa",
           720.9585062240664,
           "(?)",
           720.9585062240664
          ],
          [
           "health",
           "Visa",
           793.672607879925,
           "(?)",
           793.672607879925
          ],
          [
           "invest",
           "Visa",
           750.087992221682,
           "(?)",
           750.087992221682
          ],
          [
           "misc",
           "Visa",
           681.1004255319149,
           "(?)",
           681.1004255319149
          ],
          [
           "paypal",
           "Visa",
           661.5304182509506,
           "(?)",
           661.5304182509506
          ],
          [
           "tech",
           "Visa",
           980,
           20220527,
           980
          ],
          [
           "travel",
           "Visa",
           715.0267000417189,
           "(?)",
           715.0267000417189
          ],
          [
           "unk",
           "Visa",
           313,
           20220829,
           313
          ],
          [
           "utility",
           "Visa",
           614.5872832369943,
           "(?)",
           614.5872832369943
          ],
          [
           "clothing",
           "Voya Financial",
           915.7331863285557,
           "(?)",
           915.7331863285557
          ],
          [
           "health",
           "Voya Financial",
           710.0421155729676,
           "(?)",
           710.0421155729676
          ],
          [
           "invest",
           "Voya Financial",
           692.9322774440196,
           "(?)",
           692.9322774440196
          ],
          [
           "paypal",
           "Voya Financial",
           646,
           20220316,
           646
          ],
          [
           "tech",
           "Voya Financial",
           610.0262725779967,
           "(?)",
           610.0262725779967
          ],
          [
           "travel",
           "Voya Financial",
           701.8,
           "(?)",
           701.8
          ],
          [
           "unk",
           "Voya Financial",
           478.90033975084935,
           "(?)",
           478.90033975084935
          ],
          [
           "debt",
           "Walmart",
           30,
           20220825,
           30
          ],
          [
           "grocery",
           "Walmart",
           673,
           20220906,
           673
          ],
          [
           "health",
           "Walmart",
           872.0764845605701,
           "(?)",
           872.0764845605701
          ],
          [
           "invest",
           "Walmart",
           801.399299474606,
           "(?)",
           801.399299474606
          ],
          [
           "misc",
           "Walmart",
           524,
           20220303,
           524
          ],
          [
           "paypal",
           "Walmart",
           986,
           20220527,
           986
          ],
          [
           "travel",
           "Walmart",
           696.7164234942013,
           "(?)",
           696.7164234942013
          ],
          [
           "unk",
           "Walmart",
           637.2272889205558,
           "(?)",
           637.2272889205558
          ],
          [
           "clothing",
           "(?)",
           797.8523928502786,
           "(?)",
           797.8523928502786
          ],
          [
           "debt",
           "(?)",
           586.6416687995904,
           "(?)",
           586.6416687995904
          ],
          [
           "grocery",
           "(?)",
           698.7133838383838,
           "(?)",
           698.7133838383838
          ],
          [
           "health",
           "(?)",
           749.6024124154886,
           "(?)",
           749.6024124154886
          ],
          [
           "invest",
           "(?)",
           691.9092856050175,
           "(?)",
           691.9092856050175
          ],
          [
           "misc",
           "(?)",
           710.0108695652174,
           "(?)",
           710.0108695652174
          ],
          [
           "paypal",
           "(?)",
           643.7657280921848,
           "(?)",
           643.7657280921848
          ],
          [
           "tech",
           "(?)",
           637.1189951520494,
           "(?)",
           637.1189951520494
          ],
          [
           "travel",
           "(?)",
           692.2253766851705,
           "(?)",
           692.2253766851705
          ],
          [
           "unk",
           "(?)",
           702.224314306894,
           "(?)",
           702.224314306894
          ],
          [
           "utility",
           "(?)",
           693.7868852459017,
           "(?)",
           693.7868852459017
          ]
         ],
         "domain": {
          "x": [
           0,
           1
          ],
          "y": [
           0,
           1
          ]
         },
         "hovertemplate": "labels=%{label}<br>Delta_sum=%{value}<br>parent=%{parent}<br>id=%{id}<br>Category=%{customdata[0]}<br>Location=%{customdata[1]}<br>Delta=%{color}<br>YYYYMMDD=%{customdata[3]}<extra></extra>",
         "ids": [
          "clothing/Amazon.com",
          "grocery/Amazon.com",
          "health/Amazon.com",
          "invest/Amazon.com",
          "misc/Amazon.com",
          "paypal/Amazon.com",
          "tech/Amazon.com",
          "travel/Amazon.com",
          "unk/Amazon.com",
          "clothing/CBRE Group",
          "debt/CBRE Group",
          "health/CBRE Group",
          "invest/CBRE Group",
          "misc/CBRE Group",
          "paypal/CBRE Group",
          "tech/CBRE Group",
          "travel/CBRE Group",
          "unk/CBRE Group",
          "clothing/Cognizant Technology Solutions",
          "debt/Cognizant Technology Solutions",
          "grocery/Cognizant Technology Solutions",
          "health/Cognizant Technology Solutions",
          "invest/Cognizant Technology Solutions",
          "misc/Cognizant Technology Solutions",
          "paypal/Cognizant Technology Solutions",
          "tech/Cognizant Technology Solutions",
          "travel/Cognizant Technology Solutions",
          "utility/Cognizant Technology Solutions",
          "clothing/Delta Air Lines",
          "grocery/Delta Air Lines",
          "health/Delta Air Lines",
          "invest/Delta Air Lines",
          "misc/Delta Air Lines",
          "travel/Delta Air Lines",
          "clothing/Entergy",
          "debt/Entergy",
          "invest/Entergy",
          "misc/Entergy",
          "paypal/Entergy",
          "travel/Entergy",
          "utility/Entergy",
          "clothing/Hanesbrands",
          "debt/Hanesbrands",
          "grocery/Hanesbrands",
          "health/Hanesbrands",
          "invest/Hanesbrands",
          "misc/Hanesbrands",
          "paypal/Hanesbrands",
          "tech/Hanesbrands",
          "travel/Hanesbrands",
          "unk/Hanesbrands",
          "clothing/Hershey",
          "debt/Hershey",
          "health/Hershey",
          "invest/Hershey",
          "misc/Hershey",
          "tech/Hershey",
          "travel/Hershey",
          "unk/Hershey",
          "grocery/Hewlett Packard Enterprise",
          "health/Hewlett Packard Enterprise",
          "invest/Hewlett Packard Enterprise",
          "tech/Hewlett Packard Enterprise",
          "travel/Hewlett Packard Enterprise",
          "utility/Hewlett Packard Enterprise",
          "clothing/Omnicom Group",
          "debt/Omnicom Group",
          "grocery/Omnicom Group",
          "health/Omnicom Group",
          "misc/Omnicom Group",
          "paypal/Omnicom Group",
          "travel/Omnicom Group",
          "unk/Omnicom Group",
          "grocery/PPL",
          "health/PPL",
          "invest/PPL",
          "misc/PPL",
          "paypal/PPL",
          "tech/PPL",
          "unk/PPL",
          "invest/Quest Diagnostics",
          "misc/Quest Diagnostics",
          "paypal/Quest Diagnostics",
          "tech/Quest Diagnostics",
          "unk/Quest Diagnostics",
          "utility/Quest Diagnostics",
          "clothing/Sysco",
          "debt/Sysco",
          "grocery/Sysco",
          "invest/Sysco",
          "misc/Sysco",
          "paypal/Sysco",
          "tech/Sysco",
          "travel/Sysco",
          "unk/Sysco",
          "clothing/TIAA",
          "debt/TIAA",
          "grocery/TIAA",
          "health/TIAA",
          "invest/TIAA",
          "misc/TIAA",
          "paypal/TIAA",
          "tech/TIAA",
          "unk/TIAA",
          "utility/TIAA",
          "debt/Tapestry",
          "health/Tapestry",
          "invest/Tapestry",
          "tech/Tapestry",
          "unk/Tapestry",
          "utility/Tapestry",
          "clothing/Travelers",
          "debt/Travelers",
          "grocery/Travelers",
          "health/Travelers",
          "invest/Travelers",
          "misc/Travelers",
          "tech/Travelers",
          "unk/Travelers",
          "utility/Travelers",
          "clothing/Ulta Beauty",
          "debt/Ulta Beauty",
          "grocery/Ulta Beauty",
          "health/Ulta Beauty",
          "invest/Ulta Beauty",
          "paypal/Ulta Beauty",
          "tech/Ulta Beauty",
          "travel/Ulta Beauty",
          "unk/Ulta Beauty",
          "utility/Ulta Beauty",
          "debt/United Continental Holdings",
          "grocery/United Continental Holdings",
          "health/United Continental Holdings",
          "invest/United Continental Holdings",
          "misc/United Continental Holdings",
          "paypal/United Continental Holdings",
          "tech/United Continental Holdings",
          "travel/United Continental Holdings",
          "unk/United Continental Holdings",
          "utility/United Continental Holdings",
          "grocery/Visa",
          "health/Visa",
          "invest/Visa",
          "misc/Visa",
          "paypal/Visa",
          "tech/Visa",
          "travel/Visa",
          "unk/Visa",
          "utility/Visa",
          "clothing/Voya Financial",
          "health/Voya Financial",
          "invest/Voya Financial",
          "paypal/Voya Financial",
          "tech/Voya Financial",
          "travel/Voya Financial",
          "unk/Voya Financial",
          "debt/Walmart",
          "grocery/Walmart",
          "health/Walmart",
          "invest/Walmart",
          "misc/Walmart",
          "paypal/Walmart",
          "travel/Walmart",
          "unk/Walmart",
          "clothing",
          "debt",
          "grocery",
          "health",
          "invest",
          "misc",
          "paypal",
          "tech",
          "travel",
          "unk",
          "utility"
         ],
         "labels": [
          "Amazon.com",
          "Amazon.com",
          "Amazon.com",
          "Amazon.com",
          "Amazon.com",
          "Amazon.com",
          "Amazon.com",
          "Amazon.com",
          "Amazon.com",
          "CBRE Group",
          "CBRE Group",
          "CBRE Group",
          "CBRE Group",
          "CBRE Group",
          "CBRE Group",
          "CBRE Group",
          "CBRE Group",
          "CBRE Group",
          "Cognizant Technology Solutions",
          "Cognizant Technology Solutions",
          "Cognizant Technology Solutions",
          "Cognizant Technology Solutions",
          "Cognizant Technology Solutions",
          "Cognizant Technology Solutions",
          "Cognizant Technology Solutions",
          "Cognizant Technology Solutions",
          "Cognizant Technology Solutions",
          "Cognizant Technology Solutions",
          "Delta Air Lines",
          "Delta Air Lines",
          "Delta Air Lines",
          "Delta Air Lines",
          "Delta Air Lines",
          "Delta Air Lines",
          "Entergy",
          "Entergy",
          "Entergy",
          "Entergy",
          "Entergy",
          "Entergy",
          "Entergy",
          "Hanesbrands",
          "Hanesbrands",
          "Hanesbrands",
          "Hanesbrands",
          "Hanesbrands",
          "Hanesbrands",
          "Hanesbrands",
          "Hanesbrands",
          "Hanesbrands",
          "Hanesbrands",
          "Hershey",
          "Hershey",
          "Hershey",
          "Hershey",
          "Hershey",
          "Hershey",
          "Hershey",
          "Hershey",
          "Hewlett Packard Enterprise",
          "Hewlett Packard Enterprise",
          "Hewlett Packard Enterprise",
          "Hewlett Packard Enterprise",
          "Hewlett Packard Enterprise",
          "Hewlett Packard Enterprise",
          "Omnicom Group",
          "Omnicom Group",
          "Omnicom Group",
          "Omnicom Group",
          "Omnicom Group",
          "Omnicom Group",
          "Omnicom Group",
          "Omnicom Group",
          "PPL",
          "PPL",
          "PPL",
          "PPL",
          "PPL",
          "PPL",
          "PPL",
          "Quest Diagnostics",
          "Quest Diagnostics",
          "Quest Diagnostics",
          "Quest Diagnostics",
          "Quest Diagnostics",
          "Quest Diagnostics",
          "Sysco",
          "Sysco",
          "Sysco",
          "Sysco",
          "Sysco",
          "Sysco",
          "Sysco",
          "Sysco",
          "Sysco",
          "TIAA",
          "TIAA",
          "TIAA",
          "TIAA",
          "TIAA",
          "TIAA",
          "TIAA",
          "TIAA",
          "TIAA",
          "TIAA",
          "Tapestry",
          "Tapestry",
          "Tapestry",
          "Tapestry",
          "Tapestry",
          "Tapestry",
          "Travelers",
          "Travelers",
          "Travelers",
          "Travelers",
          "Travelers",
          "Travelers",
          "Travelers",
          "Travelers",
          "Travelers",
          "Ulta Beauty",
          "Ulta Beauty",
          "Ulta Beauty",
          "Ulta Beauty",
          "Ulta Beauty",
          "Ulta Beauty",
          "Ulta Beauty",
          "Ulta Beauty",
          "Ulta Beauty",
          "Ulta Beauty",
          "United Continental Holdings",
          "United Continental Holdings",
          "United Continental Holdings",
          "United Continental Holdings",
          "United Continental Holdings",
          "United Continental Holdings",
          "United Continental Holdings",
          "United Continental Holdings",
          "United Continental Holdings",
          "United Continental Holdings",
          "Visa",
          "Visa",
          "Visa",
          "Visa",
          "Visa",
          "Visa",
          "Visa",
          "Visa",
          "Visa",
          "Voya Financial",
          "Voya Financial",
          "Voya Financial",
          "Voya Financial",
          "Voya Financial",
          "Voya Financial",
          "Voya Financial",
          "Walmart",
          "Walmart",
          "Walmart",
          "Walmart",
          "Walmart",
          "Walmart",
          "Walmart",
          "Walmart",
          "clothing",
          "debt",
          "grocery",
          "health",
          "invest",
          "misc",
          "paypal",
          "tech",
          "travel",
          "unk",
          "utility"
         ],
         "marker": {
          "coloraxis": "coloraxis",
          "colors": [
           646,
           75,
           829.8667287977632,
           340.013698630137,
           959,
           322,
           834.8393574297189,
           794,
           717.8319814600231,
           983,
           367.81065918653576,
           924.7060424605335,
           527,
           301.8054054054054,
           266,
           78,
           501.13094571908226,
           818.1599745060548,
           678.4698795180723,
           589.152117545376,
           291.4512428298279,
           805.051993067591,
           460,
           830,
           198,
           487,
           632.3285318559557,
           632,
           55,
           738.7770095073466,
           539.9187145557656,
           681.3944700460829,
           3,
           480,
           814,
           750,
           863.3152173913044,
           804.048632218845,
           271,
           866.5680473372781,
           864.3469827586207,
           975,
           671.8819875776397,
           90,
           734,
           819.9837067209776,
           895,
           349.8770053475936,
           356.64328657314627,
           814.719729563614,
           149.2233009708738,
           691,
           63,
           836,
           428.28195718654433,
           737,
           304.05555555555554,
           505.01801801801804,
           817.6847360912982,
           168,
           741.2258350576411,
           867.0011567379988,
           347.0864779874214,
           998,
           881,
           870,
           392.02564102564105,
           171,
           679.4584584584585,
           153,
           590,
           471,
           19,
           850.2445369406868,
           377.5558823529412,
           796.8205128205128,
           91,
           577.9754098360655,
           71.05633802816901,
           743.4603174603175,
           706.8129907209136,
           287.25347222222223,
           413,
           252,
           855.7046204620463,
           287,
           823,
           365,
           924.9113034072471,
           711.0921282798834,
           736.5970802919708,
           836.4243542435424,
           458.9859484777518,
           222,
           775.5633952254642,
           507.6263871763255,
           940,
           820.8319672131148,
           403,
           665.5529573590096,
           592.9061371841156,
           37,
           779.0335154826959,
           484,
           684,
           638,
           765.746835443038,
           230.32882882882882,
           787.2902609802674,
           643.554191137213,
           805.1508828250402,
           345,
           304,
           657.5683890577508,
           595.6697127937337,
           681.163407821229,
           533.5154185022027,
           410,
           515.3405128205128,
           198,
           832,
           286,
           543.2969837587007,
           732.9954379562043,
           647,
           645.9422011084719,
           809,
           742.1960542540074,
           711.9694881889764,
           267,
           578,
           333,
           752.0613008890969,
           328.13504823151123,
           814.5786758383491,
           822,
           410.00465983224603,
           301,
           817.2820292347377,
           728.1947331947332,
           720.9585062240664,
           793.672607879925,
           750.087992221682,
           681.1004255319149,
           661.5304182509506,
           980,
           715.0267000417189,
           313,
           614.5872832369943,
           915.7331863285557,
           710.0421155729676,
           692.9322774440196,
           646,
           610.0262725779967,
           701.8,
           478.90033975084935,
           30,
           673,
           872.0764845605701,
           801.399299474606,
           524,
           986,
           696.7164234942013,
           637.2272889205558,
           797.8523928502786,
           586.6416687995904,
           698.7133838383838,
           749.6024124154886,
           691.9092856050175,
           710.0108695652174,
           643.7657280921848,
           637.1189951520494,
           692.2253766851705,
           702.224314306894,
           693.7868852459017
          ]
         },
         "name": "",
         "parents": [
          "clothing",
          "grocery",
          "health",
          "invest",
          "misc",
          "paypal",
          "tech",
          "travel",
          "unk",
          "clothing",
          "debt",
          "health",
          "invest",
          "misc",
          "paypal",
          "tech",
          "travel",
          "unk",
          "clothing",
          "debt",
          "grocery",
          "health",
          "invest",
          "misc",
          "paypal",
          "tech",
          "travel",
          "utility",
          "clothing",
          "grocery",
          "health",
          "invest",
          "misc",
          "travel",
          "clothing",
          "debt",
          "invest",
          "misc",
          "paypal",
          "travel",
          "utility",
          "clothing",
          "debt",
          "grocery",
          "health",
          "invest",
          "misc",
          "paypal",
          "tech",
          "travel",
          "unk",
          "clothing",
          "debt",
          "health",
          "invest",
          "misc",
          "tech",
          "travel",
          "unk",
          "grocery",
          "health",
          "invest",
          "tech",
          "travel",
          "utility",
          "clothing",
          "debt",
          "grocery",
          "health",
          "misc",
          "paypal",
          "travel",
          "unk",
          "grocery",
          "health",
          "invest",
          "misc",
          "paypal",
          "tech",
          "unk",
          "invest",
          "misc",
          "paypal",
          "tech",
          "unk",
          "utility",
          "clothing",
          "debt",
          "grocery",
          "invest",
          "misc",
          "paypal",
          "tech",
          "travel",
          "unk",
          "clothing",
          "debt",
          "grocery",
          "health",
          "invest",
          "misc",
          "paypal",
          "tech",
          "unk",
          "utility",
          "debt",
          "health",
          "invest",
          "tech",
          "unk",
          "utility",
          "clothing",
          "debt",
          "grocery",
          "health",
          "invest",
          "misc",
          "tech",
          "unk",
          "utility",
          "clothing",
          "debt",
          "grocery",
          "health",
          "invest",
          "paypal",
          "tech",
          "travel",
          "unk",
          "utility",
          "debt",
          "grocery",
          "health",
          "invest",
          "misc",
          "paypal",
          "tech",
          "travel",
          "unk",
          "utility",
          "grocery",
          "health",
          "invest",
          "misc",
          "paypal",
          "tech",
          "travel",
          "unk",
          "utility",
          "clothing",
          "health",
          "invest",
          "paypal",
          "tech",
          "travel",
          "unk",
          "debt",
          "grocery",
          "health",
          "invest",
          "misc",
          "paypal",
          "travel",
          "unk",
          "",
          "",
          "",
          "",
          "",
          "",
          "",
          "",
          "",
          "",
          ""
         ],
         "type": "sunburst",
         "values": [
          646,
          75,
          2146,
          657,
          959,
          322,
          2490,
          1444,
          863,
          983,
          713,
          1837,
          527,
          370,
          266,
          78,
          1787,
          1569,
          747,
          1157,
          523,
          1731,
          460,
          830,
          198,
          487,
          1805,
          632,
          55,
          1157,
          1058,
          1085,
          3,
          480,
          814,
          750,
          1656,
          1316,
          271,
          1690,
          928,
          975,
          1288,
          90,
          734,
          1964,
          895,
          561,
          499,
          1627,
          206,
          691,
          63,
          836,
          1635,
          737,
          576,
          999,
          1402,
          168,
          3383,
          1729,
          1272,
          998,
          881,
          870,
          702,
          171,
          999,
          153,
          590,
          471,
          19,
          961,
          680,
          1404,
          91,
          1708,
          142,
          1386,
          1401,
          576,
          413,
          252,
          1212,
          287,
          823,
          365,
          1849,
          3430,
          1370,
          1626,
          1281,
          222,
          1885,
          811,
          940,
          1464,
          403,
          1454,
          831,
          37,
          2745,
          484,
          684,
          638,
          1106,
          444,
          1571,
          1873,
          1246,
          345,
          304,
          1316,
          1532,
          1432,
          908,
          410,
          975,
          198,
          832,
          286,
          862,
          2192,
          647,
          1263,
          809,
          811,
          2032,
          267,
          578,
          333,
          2137,
          622,
          2326,
          822,
          1073,
          301,
          2326,
          1443,
          1446,
          2132,
          2057,
          1175,
          1052,
          980,
          2397,
          313,
          1730,
          1814,
          1021,
          1831,
          646,
          1218,
          1210,
          883,
          30,
          673,
          2105,
          1713,
          524,
          986,
          2673,
          2807,
          10406,
          7814,
          11088,
          26032,
          26148,
          13064,
          10761,
          15883,
          18915,
          20235,
          8296
         ]
        }
       ],
       "layout": {
        "coloraxis": {
         "cmid": 697.4574068144353,
         "colorbar": {
          "title": {
           "text": "Delta"
          }
         },
         "colorscale": [
          [
           0,
           "rgb(0,104,55)"
          ],
          [
           0.1,
           "rgb(26,152,80)"
          ],
          [
           0.2,
           "rgb(102,189,99)"
          ],
          [
           0.3,
           "rgb(166,217,106)"
          ],
          [
           0.4,
           "rgb(217,239,139)"
          ],
          [
           0.5,
           "rgb(255,255,191)"
          ],
          [
           0.6,
           "rgb(254,224,139)"
          ],
          [
           0.7,
           "rgb(253,174,97)"
          ],
          [
           0.8,
           "rgb(244,109,67)"
          ],
          [
           0.9,
           "rgb(215,48,39)"
          ],
          [
           1,
           "rgb(165,0,38)"
          ]
         ]
        },
        "height": 600,
        "legend": {
         "tracegroupgap": 0
        },
        "margin": {
         "t": 60
        },
        "template": {
         "data": {
          "bar": [
           {
            "error_x": {
             "color": "#f2f5fa"
            },
            "error_y": {
             "color": "#f2f5fa"
            },
            "marker": {
             "line": {
              "color": "rgb(17,17,17)",
              "width": 0.5
             },
             "pattern": {
              "fillmode": "overlay",
              "size": 10,
              "solidity": 0.2
             }
            },
            "type": "bar"
           }
          ],
          "barpolar": [
           {
            "marker": {
             "line": {
              "color": "rgb(17,17,17)",
              "width": 0.5
             },
             "pattern": {
              "fillmode": "overlay",
              "size": 10,
              "solidity": 0.2
             }
            },
            "type": "barpolar"
           }
          ],
          "carpet": [
           {
            "aaxis": {
             "endlinecolor": "#A2B1C6",
             "gridcolor": "#506784",
             "linecolor": "#506784",
             "minorgridcolor": "#506784",
             "startlinecolor": "#A2B1C6"
            },
            "baxis": {
             "endlinecolor": "#A2B1C6",
             "gridcolor": "#506784",
             "linecolor": "#506784",
             "minorgridcolor": "#506784",
             "startlinecolor": "#A2B1C6"
            },
            "type": "carpet"
           }
          ],
          "choropleth": [
           {
            "colorbar": {
             "outlinewidth": 0,
             "ticks": ""
            },
            "type": "choropleth"
           }
          ],
          "contour": [
           {
            "colorbar": {
             "outlinewidth": 0,
             "ticks": ""
            },
            "colorscale": [
             [
              0,
              "#0d0887"
             ],
             [
              0.1111111111111111,
              "#46039f"
             ],
             [
              0.2222222222222222,
              "#7201a8"
             ],
             [
              0.3333333333333333,
              "#9c179e"
             ],
             [
              0.4444444444444444,
              "#bd3786"
             ],
             [
              0.5555555555555556,
              "#d8576b"
             ],
             [
              0.6666666666666666,
              "#ed7953"
             ],
             [
              0.7777777777777778,
              "#fb9f3a"
             ],
             [
              0.8888888888888888,
              "#fdca26"
             ],
             [
              1,
              "#f0f921"
             ]
            ],
            "type": "contour"
           }
          ],
          "contourcarpet": [
           {
            "colorbar": {
             "outlinewidth": 0,
             "ticks": ""
            },
            "type": "contourcarpet"
           }
          ],
          "heatmap": [
           {
            "colorbar": {
             "outlinewidth": 0,
             "ticks": ""
            },
            "colorscale": [
             [
              0,
              "#0d0887"
             ],
             [
              0.1111111111111111,
              "#46039f"
             ],
             [
              0.2222222222222222,
              "#7201a8"
             ],
             [
              0.3333333333333333,
              "#9c179e"
             ],
             [
              0.4444444444444444,
              "#bd3786"
             ],
             [
              0.5555555555555556,
              "#d8576b"
             ],
             [
              0.6666666666666666,
              "#ed7953"
             ],
             [
              0.7777777777777778,
              "#fb9f3a"
             ],
             [
              0.8888888888888888,
              "#fdca26"
             ],
             [
              1,
              "#f0f921"
             ]
            ],
            "type": "heatmap"
           }
          ],
          "heatmapgl": [
           {
            "colorbar": {
             "outlinewidth": 0,
             "ticks": ""
            },
            "colorscale": [
             [
              0,
              "#0d0887"
             ],
             [
              0.1111111111111111,
              "#46039f"
             ],
             [
              0.2222222222222222,
              "#7201a8"
             ],
             [
              0.3333333333333333,
              "#9c179e"
             ],
             [
              0.4444444444444444,
              "#bd3786"
             ],
             [
              0.5555555555555556,
              "#d8576b"
             ],
             [
              0.6666666666666666,
              "#ed7953"
             ],
             [
              0.7777777777777778,
              "#fb9f3a"
             ],
             [
              0.8888888888888888,
              "#fdca26"
             ],
             [
              1,
              "#f0f921"
             ]
            ],
            "type": "heatmapgl"
           }
          ],
          "histogram": [
           {
            "marker": {
             "pattern": {
              "fillmode": "overlay",
              "size": 10,
              "solidity": 0.2
             }
            },
            "type": "histogram"
           }
          ],
          "histogram2d": [
           {
            "colorbar": {
             "outlinewidth": 0,
             "ticks": ""
            },
            "colorscale": [
             [
              0,
              "#0d0887"
             ],
             [
              0.1111111111111111,
              "#46039f"
             ],
             [
              0.2222222222222222,
              "#7201a8"
             ],
             [
              0.3333333333333333,
              "#9c179e"
             ],
             [
              0.4444444444444444,
              "#bd3786"
             ],
             [
              0.5555555555555556,
              "#d8576b"
             ],
             [
              0.6666666666666666,
              "#ed7953"
             ],
             [
              0.7777777777777778,
              "#fb9f3a"
             ],
             [
              0.8888888888888888,
              "#fdca26"
             ],
             [
              1,
              "#f0f921"
             ]
            ],
            "type": "histogram2d"
           }
          ],
          "histogram2dcontour": [
           {
            "colorbar": {
             "outlinewidth": 0,
             "ticks": ""
            },
            "colorscale": [
             [
              0,
              "#0d0887"
             ],
             [
              0.1111111111111111,
              "#46039f"
             ],
             [
              0.2222222222222222,
              "#7201a8"
             ],
             [
              0.3333333333333333,
              "#9c179e"
             ],
             [
              0.4444444444444444,
              "#bd3786"
             ],
             [
              0.5555555555555556,
              "#d8576b"
             ],
             [
              0.6666666666666666,
              "#ed7953"
             ],
             [
              0.7777777777777778,
              "#fb9f3a"
             ],
             [
              0.8888888888888888,
              "#fdca26"
             ],
             [
              1,
              "#f0f921"
             ]
            ],
            "type": "histogram2dcontour"
           }
          ],
          "mesh3d": [
           {
            "colorbar": {
             "outlinewidth": 0,
             "ticks": ""
            },
            "type": "mesh3d"
           }
          ],
          "parcoords": [
           {
            "line": {
             "colorbar": {
              "outlinewidth": 0,
              "ticks": ""
             }
            },
            "type": "parcoords"
           }
          ],
          "pie": [
           {
            "automargin": true,
            "type": "pie"
           }
          ],
          "scatter": [
           {
            "marker": {
             "line": {
              "color": "#283442"
             }
            },
            "type": "scatter"
           }
          ],
          "scatter3d": [
           {
            "line": {
             "colorbar": {
              "outlinewidth": 0,
              "ticks": ""
             }
            },
            "marker": {
             "colorbar": {
              "outlinewidth": 0,
              "ticks": ""
             }
            },
            "type": "scatter3d"
           }
          ],
          "scattercarpet": [
           {
            "marker": {
             "colorbar": {
              "outlinewidth": 0,
              "ticks": ""
             }
            },
            "type": "scattercarpet"
           }
          ],
          "scattergeo": [
           {
            "marker": {
             "colorbar": {
              "outlinewidth": 0,
              "ticks": ""
             }
            },
            "type": "scattergeo"
           }
          ],
          "scattergl": [
           {
            "marker": {
             "line": {
              "color": "#283442"
             }
            },
            "type": "scattergl"
           }
          ],
          "scattermapbox": [
           {
            "marker": {
             "colorbar": {
              "outlinewidth": 0,
              "ticks": ""
             }
            },
            "type": "scattermapbox"
           }
          ],
          "scatterpolar": [
           {
            "marker": {
             "colorbar": {
              "outlinewidth": 0,
              "ticks": ""
             }
            },
            "type": "scatterpolar"
           }
          ],
          "scatterpolargl": [
           {
            "marker": {
             "colorbar": {
              "outlinewidth": 0,
              "ticks": ""
             }
            },
            "type": "scatterpolargl"
           }
          ],
          "scatterternary": [
           {
            "marker": {
             "colorbar": {
              "outlinewidth": 0,
              "ticks": ""
             }
            },
            "type": "scatterternary"
           }
          ],
          "surface": [
           {
            "colorbar": {
             "outlinewidth": 0,
             "ticks": ""
            },
            "colorscale": [
             [
              0,
              "#0d0887"
             ],
             [
              0.1111111111111111,
              "#46039f"
             ],
             [
              0.2222222222222222,
              "#7201a8"
             ],
             [
              0.3333333333333333,
              "#9c179e"
             ],
             [
              0.4444444444444444,
              "#bd3786"
             ],
             [
              0.5555555555555556,
              "#d8576b"
             ],
             [
              0.6666666666666666,
              "#ed7953"
             ],
             [
              0.7777777777777778,
              "#fb9f3a"
             ],
             [
              0.8888888888888888,
              "#fdca26"
             ],
             [
              1,
              "#f0f921"
             ]
            ],
            "type": "surface"
           }
          ],
          "table": [
           {
            "cells": {
             "fill": {
              "color": "#506784"
             },
             "line": {
              "color": "rgb(17,17,17)"
             }
            },
            "header": {
             "fill": {
              "color": "#2a3f5f"
             },
             "line": {
              "color": "rgb(17,17,17)"
             }
            },
            "type": "table"
           }
          ]
         },
         "layout": {
          "annotationdefaults": {
           "arrowcolor": "#f2f5fa",
           "arrowhead": 0,
           "arrowwidth": 1
          },
          "autotypenumbers": "strict",
          "coloraxis": {
           "colorbar": {
            "outlinewidth": 0,
            "ticks": ""
           }
          },
          "colorscale": {
           "diverging": [
            [
             0,
             "#8e0152"
            ],
            [
             0.1,
             "#c51b7d"
            ],
            [
             0.2,
             "#de77ae"
            ],
            [
             0.3,
             "#f1b6da"
            ],
            [
             0.4,
             "#fde0ef"
            ],
            [
             0.5,
             "#f7f7f7"
            ],
            [
             0.6,
             "#e6f5d0"
            ],
            [
             0.7,
             "#b8e186"
            ],
            [
             0.8,
             "#7fbc41"
            ],
            [
             0.9,
             "#4d9221"
            ],
            [
             1,
             "#276419"
            ]
           ],
           "sequential": [
            [
             0,
             "#0d0887"
            ],
            [
             0.1111111111111111,
             "#46039f"
            ],
            [
             0.2222222222222222,
             "#7201a8"
            ],
            [
             0.3333333333333333,
             "#9c179e"
            ],
            [
             0.4444444444444444,
             "#bd3786"
            ],
            [
             0.5555555555555556,
             "#d8576b"
            ],
            [
             0.6666666666666666,
             "#ed7953"
            ],
            [
             0.7777777777777778,
             "#fb9f3a"
            ],
            [
             0.8888888888888888,
             "#fdca26"
            ],
            [
             1,
             "#f0f921"
            ]
           ],
           "sequentialminus": [
            [
             0,
             "#0d0887"
            ],
            [
             0.1111111111111111,
             "#46039f"
            ],
            [
             0.2222222222222222,
             "#7201a8"
            ],
            [
             0.3333333333333333,
             "#9c179e"
            ],
            [
             0.4444444444444444,
             "#bd3786"
            ],
            [
             0.5555555555555556,
             "#d8576b"
            ],
            [
             0.6666666666666666,
             "#ed7953"
            ],
            [
             0.7777777777777778,
             "#fb9f3a"
            ],
            [
             0.8888888888888888,
             "#fdca26"
            ],
            [
             1,
             "#f0f921"
            ]
           ]
          },
          "colorway": [
           "#636efa",
           "#EF553B",
           "#00cc96",
           "#ab63fa",
           "#FFA15A",
           "#19d3f3",
           "#FF6692",
           "#B6E880",
           "#FF97FF",
           "#FECB52"
          ],
          "font": {
           "color": "#f2f5fa"
          },
          "geo": {
           "bgcolor": "rgb(17,17,17)",
           "lakecolor": "rgb(17,17,17)",
           "landcolor": "rgb(17,17,17)",
           "showlakes": true,
           "showland": true,
           "subunitcolor": "#506784"
          },
          "hoverlabel": {
           "align": "left"
          },
          "hovermode": "closest",
          "mapbox": {
           "style": "dark"
          },
          "paper_bgcolor": "rgb(17,17,17)",
          "plot_bgcolor": "rgb(17,17,17)",
          "polar": {
           "angularaxis": {
            "gridcolor": "#506784",
            "linecolor": "#506784",
            "ticks": ""
           },
           "bgcolor": "rgb(17,17,17)",
           "radialaxis": {
            "gridcolor": "#506784",
            "linecolor": "#506784",
            "ticks": ""
           }
          },
          "scene": {
           "xaxis": {
            "backgroundcolor": "rgb(17,17,17)",
            "gridcolor": "#506784",
            "gridwidth": 2,
            "linecolor": "#506784",
            "showbackground": true,
            "ticks": "",
            "zerolinecolor": "#C8D4E3"
           },
           "yaxis": {
            "backgroundcolor": "rgb(17,17,17)",
            "gridcolor": "#506784",
            "gridwidth": 2,
            "linecolor": "#506784",
            "showbackground": true,
            "ticks": "",
            "zerolinecolor": "#C8D4E3"
           },
           "zaxis": {
            "backgroundcolor": "rgb(17,17,17)",
            "gridcolor": "#506784",
            "gridwidth": 2,
            "linecolor": "#506784",
            "showbackground": true,
            "ticks": "",
            "zerolinecolor": "#C8D4E3"
           }
          },
          "shapedefaults": {
           "line": {
            "color": "#f2f5fa"
           }
          },
          "sliderdefaults": {
           "bgcolor": "#C8D4E3",
           "bordercolor": "rgb(17,17,17)",
           "borderwidth": 1,
           "tickwidth": 0
          },
          "ternary": {
           "aaxis": {
            "gridcolor": "#506784",
            "linecolor": "#506784",
            "ticks": ""
           },
           "baxis": {
            "gridcolor": "#506784",
            "linecolor": "#506784",
            "ticks": ""
           },
           "bgcolor": "rgb(17,17,17)",
           "caxis": {
            "gridcolor": "#506784",
            "linecolor": "#506784",
            "ticks": ""
           }
          },
          "title": {
           "x": 0.05
          },
          "updatemenudefaults": {
           "bgcolor": "#506784",
           "borderwidth": 0
          },
          "xaxis": {
           "automargin": true,
           "gridcolor": "#283442",
           "linecolor": "#506784",
           "ticks": "",
           "title": {
            "standoff": 15
           },
           "zerolinecolor": "#283442",
           "zerolinewidth": 2
          },
          "yaxis": {
           "automargin": true,
           "gridcolor": "#283442",
           "linecolor": "#506784",
           "ticks": "",
           "title": {
            "standoff": 15
           },
           "zerolinecolor": "#283442",
           "zerolinewidth": 2
          }
         }
        }
       }
      }
     },
     "metadata": {},
     "output_type": "display_data"
    }
   ],
   "source": [
    "make_sunburst(df_07days,'7 days')\n",
    "make_sunburst(df_30days,'30 days')\n",
    "make_sunburst(df_90days,'90 days')\n",
    "make_sunburst(df_year,'Year')"
   ]
  },
  {
   "cell_type": "markdown",
   "metadata": {},
   "source": [
    "# 🔥 HeatMaps"
   ]
  },
  {
   "cell_type": "code",
   "execution_count": 38,
   "metadata": {
    "jupyter": {
     "source_hidden": true
    }
   },
   "outputs": [],
   "source": [
    "## run this for a list of the colorscales\n",
    "# print(*px.colors.named_colorscales())\n",
    "\n",
    "def heatmap_time_cat(df, time_column, max_value = None, title = '',colorscale = 'RdYlGn'):\n",
    "    \"\"\"\n",
    "    creates a heatmap with time and category \n",
    "    df: dataframe\n",
    "    time_column: the column to use for the columns\n",
    "    max_value: the value that will reprement the max color in the color scale \n",
    "        * min_value = max_value * -1\n",
    "    title: the title to display \n",
    "    colorscale: the columns to use\n",
    "    \"\"\"\n",
    "    display(HTML('<h2> 🔥 HeatMap: ' + title + '</h2'))\n",
    "    display(HTML('from {0}'.format(df.Date.min())))\n",
    "    display(HTML('to {0}'.format(df.Date.max())))\n",
    "    display(HTML('total {0}'.format(df['Delta'].sum())))\n",
    "    \n",
    "    temp = df.copy()\n",
    "    temp[time_column] = temp[time_column].astype(float).astype(str)\n",
    "    \n",
    "    temp = pd.pivot_table(\n",
    "        temp,\n",
    "        values = 'Delta',\n",
    "        index = 'Category',\n",
    "        columns = time_column,\n",
    "        aggfunc= {'Delta':sum,}\n",
    "        )\n",
    "    \n",
    "    temp = temp.fillna(0)\n",
    "    temp = temp.reset_index()\n",
    "    temp = temp[temp.columns.tolist()]\n",
    "    \n",
    "    if 'nan' in temp.columns.tolist():\n",
    "        temp = temp.drop(columns=['nan'])\n",
    "    \n",
    "    cols = temp.columns.tolist()\n",
    "    cols = [c for c in cols if c != 'Category']\n",
    "    \n",
    "    \n",
    "    # Sum of Rows\n",
    "    temp['Σ'] = temp[cols].sum(axis=1)\n",
    "\n",
    "    # sort by row sum\n",
    "    temp = temp.sort_values(by='Σ',ascending=False)\n",
    "    \n",
    "    # Sum of Cols\n",
    "    sums = {}\n",
    "    absminmax = 0\n",
    "    for c in temp.columns:\n",
    "        if c == 'Category':\n",
    "            sums['Category'] = 'GrandTotal'\n",
    "        else:\n",
    "            sums[c] = temp[c].sum()\n",
    "            absminmax = max([absminmax,abs(sums[c])])\n",
    "    # print(sums)\n",
    "    sums = pd.DataFrame(sums,index=[99])\n",
    "\n",
    "    temp = pd.concat([temp,sums])\n",
    "    temp = temp.reset_index(drop=True)\n",
    "    \n",
    "    cm = sns.color_palette(colorscale, as_cmap=True)\n",
    "    \n",
    "    if max_value == None:\n",
    "        display(temp.style.background_gradient(cmap=cm, vmin=absminmax*-1, vmax=absminmax).format(precision=2,thousands=','))\n",
    "    else:\n",
    "        display(temp.style.background_gradient(cmap=cm, vmin=max_value*-1, vmax=max_value).format(precision=2,thousands=','))\n",
    "    \n",
    "\n",
    "def heatmap2_year_view(df, title = ''):\n",
    "    \"\"\"\n",
    "    creates a heatmap with a year view\n",
    "    df: dataframe\n",
    "    title: the title to display \n",
    "    \"\"\"\n",
    "    display(HTML('<h2> 🔥 HeatMap: ' + title + '</h2'))\n",
    "    \n",
    "    temp = df.copy()\n",
    "\n",
    "    temp = pd.pivot_table(\n",
    "        temp,\n",
    "        values = 'Delta',\n",
    "        index = 'Date',\n",
    "        aggfunc= {'Delta':sum,}\n",
    "        )\n",
    "    temp = temp.reset_index(drop=False)\n",
    "    \n",
    "    events = pd.Series(  list(temp['Delta']) , list(temp['Date']) )\n",
    "    calmap.calendarplot(events,cmap='RdYlGn', daylabels='MTWTFSS')\n",
    "    \n",
    "def heatmap3_year_view(df,title = ''):\n",
    "    \"\"\"\n",
    "    creates a heatmap with a year view\n",
    "    df: dataframe\n",
    "    title: the title to display \n",
    "    \"\"\"\n",
    "    display(HTML('<h2> 🔥 HeatMap: ' + title + '</h2>'))\n",
    "    \n",
    "    temp = df.copy()\n",
    "    \n",
    "    # get the day of the week\n",
    "    temp['DOW_'] = pd.to_datetime(temp['Date']).dt.strftime(\"%w\")\n",
    "    temp['DOW'] = pd.to_datetime(temp['Date']).dt.strftime(\"%a\")\n",
    "    temp['M.W'] = pd.to_datetime(temp['Date']).dt.strftime(\"%m.%W\")\n",
    "\n",
    "    temp = pd.pivot_table(\n",
    "        temp,\n",
    "        values = 'Delta',\n",
    "        index = ['DOW_','DOW'],\n",
    "        columns = 'M.W',\n",
    "        aggfunc= {\n",
    "            'Delta':sum,\n",
    "            }\n",
    "        )\n",
    "    \n",
    "    temp = temp.reset_index()\n",
    "    temp = temp.drop(columns=['DOW_'])\n",
    "    temp.set_index(\"DOW\", inplace=True)\n",
    "    \n",
    "    temp = temp.fillna(0)\n",
    "    \n",
    "    fig = px.imshow(\n",
    "        temp, \n",
    "        text_auto=True, \n",
    "        # aspect=\"auto\",\n",
    "        color_continuous_scale='rdylgn',\n",
    "        color_continuous_midpoint = 0.0,\n",
    "        template = plotly_theme,\n",
    "        height=500,\n",
    "        )\n",
    "    fig.update_xaxes(side=\"top\")\n",
    "    fig.show()\n",
    "\n",
    "def heatmap4_year_view(df,title = ''):\n",
    "    \"\"\"\n",
    "    creates a heatmap with a year view\n",
    "    df: dataframe\n",
    "    title: the title to display \n",
    "\n",
    "    --this doesn't work as well as the other one\n",
    "    \"\"\"\n",
    "    display(HTML('<h2> 🔥 HeatMap: ' + title + '</h2>'))\n",
    "\n",
    "    temp = df.copy()\n",
    "    temp = temp.fillna(0.0)\n",
    "\n",
    "    fig = calplot(\n",
    "        temp,\n",
    "        x=\"Date\",\n",
    "        y=\"Delta\",\n",
    "        dark_theme=True,\n",
    "        colorscale=\"rdylgn\",\n",
    "        total_height=600\n",
    "    )\n",
    "    fig.show()\n",
    "\n",
    "    "
   ]
  },
  {
   "cell_type": "code",
   "execution_count": 39,
   "metadata": {},
   "outputs": [
    {
     "data": {
      "text/html": [
       "<h2> 🔥 HeatMap: 7 days</h2"
      ],
      "text/plain": [
       "<IPython.core.display.HTML object>"
      ]
     },
     "metadata": {},
     "output_type": "display_data"
    },
    {
     "data": {
      "text/html": [
       "from 2022-09-15 00:00:00"
      ],
      "text/plain": [
       "<IPython.core.display.HTML object>"
      ]
     },
     "metadata": {},
     "output_type": "display_data"
    },
    {
     "data": {
      "text/html": [
       "to 2022-09-22 00:00:00"
      ],
      "text/plain": [
       "<IPython.core.display.HTML object>"
      ]
     },
     "metadata": {},
     "output_type": "display_data"
    },
    {
     "data": {
      "text/html": [
       "total -2138"
      ],
      "text/plain": [
       "<IPython.core.display.HTML object>"
      ]
     },
     "metadata": {},
     "output_type": "display_data"
    },
    {
     "data": {
      "text/html": [
       "<style type=\"text/css\">\n",
       "#T_24cdf_row0_col1, #T_24cdf_row0_col2, #T_24cdf_row0_col5, #T_24cdf_row1_col1, #T_24cdf_row1_col3, #T_24cdf_row1_col4, #T_24cdf_row1_col5, #T_24cdf_row1_col6, #T_24cdf_row2_col1, #T_24cdf_row2_col2, #T_24cdf_row2_col4, #T_24cdf_row2_col5, #T_24cdf_row2_col6, #T_24cdf_row3_col1, #T_24cdf_row3_col3, #T_24cdf_row3_col4, #T_24cdf_row3_col6, #T_24cdf_row4_col1, #T_24cdf_row4_col2, #T_24cdf_row4_col5, #T_24cdf_row4_col6, #T_24cdf_row5_col1, #T_24cdf_row5_col2, #T_24cdf_row5_col4, #T_24cdf_row5_col5, #T_24cdf_row5_col6, #T_24cdf_row6_col1, #T_24cdf_row6_col2, #T_24cdf_row6_col4, #T_24cdf_row6_col5, #T_24cdf_row6_col6, #T_24cdf_row7_col1, #T_24cdf_row7_col2, #T_24cdf_row7_col4, #T_24cdf_row7_col5, #T_24cdf_row8_col2, #T_24cdf_row8_col3, #T_24cdf_row8_col4, #T_24cdf_row8_col5, #T_24cdf_row8_col6, #T_24cdf_row9_col3, #T_24cdf_row9_col5, #T_24cdf_row10_col4, #T_24cdf_row10_col5, #T_24cdf_row10_col6 {\n",
       "  background-color: #feffbe;\n",
       "  color: #000000;\n",
       "}\n",
       "#T_24cdf_row0_col3, #T_24cdf_row0_col7, #T_24cdf_row11_col3 {\n",
       "  background-color: #006837;\n",
       "  color: #f1f1f1;\n",
       "}\n",
       "#T_24cdf_row0_col4 {\n",
       "  background-color: #128a49;\n",
       "  color: #f1f1f1;\n",
       "}\n",
       "#T_24cdf_row0_col6 {\n",
       "  background-color: #bd1726;\n",
       "  color: #f1f1f1;\n",
       "}\n",
       "#T_24cdf_row1_col2, #T_24cdf_row1_col7 {\n",
       "  background-color: #07753e;\n",
       "  color: #f1f1f1;\n",
       "}\n",
       "#T_24cdf_row2_col3, #T_24cdf_row2_col7 {\n",
       "  background-color: #15904c;\n",
       "  color: #f1f1f1;\n",
       "}\n",
       "#T_24cdf_row3_col2 {\n",
       "  background-color: #e0f295;\n",
       "  color: #000000;\n",
       "}\n",
       "#T_24cdf_row3_col5, #T_24cdf_row11_col5 {\n",
       "  background-color: #89cc67;\n",
       "  color: #000000;\n",
       "}\n",
       "#T_24cdf_row3_col7 {\n",
       "  background-color: #54b45f;\n",
       "  color: #f1f1f1;\n",
       "}\n",
       "#T_24cdf_row4_col3 {\n",
       "  background-color: #06733d;\n",
       "  color: #f1f1f1;\n",
       "}\n",
       "#T_24cdf_row4_col4 {\n",
       "  background-color: #d22b27;\n",
       "  color: #f1f1f1;\n",
       "}\n",
       "#T_24cdf_row4_col7 {\n",
       "  background-color: #e6f59d;\n",
       "  color: #000000;\n",
       "}\n",
       "#T_24cdf_row5_col3, #T_24cdf_row5_col7 {\n",
       "  background-color: #fffebe;\n",
       "  color: #000000;\n",
       "}\n",
       "#T_24cdf_row6_col3, #T_24cdf_row6_col7 {\n",
       "  background-color: #fee593;\n",
       "  color: #000000;\n",
       "}\n",
       "#T_24cdf_row7_col3 {\n",
       "  background-color: #fbfdba;\n",
       "  color: #000000;\n",
       "}\n",
       "#T_24cdf_row7_col6 {\n",
       "  background-color: #f57748;\n",
       "  color: #f1f1f1;\n",
       "}\n",
       "#T_24cdf_row7_col7 {\n",
       "  background-color: #f67c4a;\n",
       "  color: #f1f1f1;\n",
       "}\n",
       "#T_24cdf_row8_col1, #T_24cdf_row8_col7 {\n",
       "  background-color: #c21c27;\n",
       "  color: #f1f1f1;\n",
       "}\n",
       "#T_24cdf_row9_col1 {\n",
       "  background-color: #f57547;\n",
       "  color: #f1f1f1;\n",
       "}\n",
       "#T_24cdf_row9_col2 {\n",
       "  background-color: #fff1a8;\n",
       "  color: #000000;\n",
       "}\n",
       "#T_24cdf_row9_col4 {\n",
       "  background-color: #a9da6c;\n",
       "  color: #000000;\n",
       "}\n",
       "#T_24cdf_row9_col6, #T_24cdf_row9_col7, #T_24cdf_row10_col1, #T_24cdf_row10_col3, #T_24cdf_row10_col7, #T_24cdf_row11_col1, #T_24cdf_row11_col6, #T_24cdf_row11_col7 {\n",
       "  background-color: #a50026;\n",
       "  color: #f1f1f1;\n",
       "}\n",
       "#T_24cdf_row10_col2 {\n",
       "  background-color: #fdc372;\n",
       "  color: #000000;\n",
       "}\n",
       "#T_24cdf_row11_col2 {\n",
       "  background-color: #3faa59;\n",
       "  color: #f1f1f1;\n",
       "}\n",
       "#T_24cdf_row11_col4 {\n",
       "  background-color: #9dd569;\n",
       "  color: #000000;\n",
       "}\n",
       "</style>\n",
       "<table id=\"T_24cdf\">\n",
       "  <thead>\n",
       "    <tr>\n",
       "      <th class=\"blank level0\" >&nbsp;</th>\n",
       "      <th id=\"T_24cdf_level0_col0\" class=\"col_heading level0 col0\" >Category</th>\n",
       "      <th id=\"T_24cdf_level0_col1\" class=\"col_heading level0 col1\" >20220915.0</th>\n",
       "      <th id=\"T_24cdf_level0_col2\" class=\"col_heading level0 col2\" >20220916.0</th>\n",
       "      <th id=\"T_24cdf_level0_col3\" class=\"col_heading level0 col3\" >20220919.0</th>\n",
       "      <th id=\"T_24cdf_level0_col4\" class=\"col_heading level0 col4\" >20220920.0</th>\n",
       "      <th id=\"T_24cdf_level0_col5\" class=\"col_heading level0 col5\" >20220921.0</th>\n",
       "      <th id=\"T_24cdf_level0_col6\" class=\"col_heading level0 col6\" >20220922.0</th>\n",
       "      <th id=\"T_24cdf_level0_col7\" class=\"col_heading level0 col7\" >Σ</th>\n",
       "    </tr>\n",
       "  </thead>\n",
       "  <tbody>\n",
       "    <tr>\n",
       "      <th id=\"T_24cdf_level0_row0\" class=\"row_heading level0 row0\" >0</th>\n",
       "      <td id=\"T_24cdf_row0_col0\" class=\"data row0 col0\" >invest</td>\n",
       "      <td id=\"T_24cdf_row0_col1\" class=\"data row0 col1\" >0.00</td>\n",
       "      <td id=\"T_24cdf_row0_col2\" class=\"data row0 col2\" >0.00</td>\n",
       "      <td id=\"T_24cdf_row0_col3\" class=\"data row0 col3\" >1,261.00</td>\n",
       "      <td id=\"T_24cdf_row0_col4\" class=\"data row0 col4\" >853.00</td>\n",
       "      <td id=\"T_24cdf_row0_col5\" class=\"data row0 col5\" >0.00</td>\n",
       "      <td id=\"T_24cdf_row0_col6\" class=\"data row0 col6\" >-904.00</td>\n",
       "      <td id=\"T_24cdf_row0_col7\" class=\"data row0 col7\" >1,210.00</td>\n",
       "    </tr>\n",
       "    <tr>\n",
       "      <th id=\"T_24cdf_level0_row1\" class=\"row_heading level0 row1\" >1</th>\n",
       "      <td id=\"T_24cdf_row1_col0\" class=\"data row1 col0\" >paypal</td>\n",
       "      <td id=\"T_24cdf_row1_col1\" class=\"data row1 col1\" >0.00</td>\n",
       "      <td id=\"T_24cdf_row1_col2\" class=\"data row1 col2\" >943.00</td>\n",
       "      <td id=\"T_24cdf_row1_col3\" class=\"data row1 col3\" >0.00</td>\n",
       "      <td id=\"T_24cdf_row1_col4\" class=\"data row1 col4\" >0.00</td>\n",
       "      <td id=\"T_24cdf_row1_col5\" class=\"data row1 col5\" >0.00</td>\n",
       "      <td id=\"T_24cdf_row1_col6\" class=\"data row1 col6\" >0.00</td>\n",
       "      <td id=\"T_24cdf_row1_col7\" class=\"data row1 col7\" >943.00</td>\n",
       "    </tr>\n",
       "    <tr>\n",
       "      <th id=\"T_24cdf_level0_row2\" class=\"row_heading level0 row2\" >2</th>\n",
       "      <td id=\"T_24cdf_row2_col0\" class=\"data row2 col0\" >debt</td>\n",
       "      <td id=\"T_24cdf_row2_col1\" class=\"data row2 col1\" >0.00</td>\n",
       "      <td id=\"T_24cdf_row2_col2\" class=\"data row2 col2\" >0.00</td>\n",
       "      <td id=\"T_24cdf_row2_col3\" class=\"data row2 col3\" >829.00</td>\n",
       "      <td id=\"T_24cdf_row2_col4\" class=\"data row2 col4\" >0.00</td>\n",
       "      <td id=\"T_24cdf_row2_col5\" class=\"data row2 col5\" >0.00</td>\n",
       "      <td id=\"T_24cdf_row2_col6\" class=\"data row2 col6\" >0.00</td>\n",
       "      <td id=\"T_24cdf_row2_col7\" class=\"data row2 col7\" >829.00</td>\n",
       "    </tr>\n",
       "    <tr>\n",
       "      <th id=\"T_24cdf_level0_row3\" class=\"row_heading level0 row3\" >3</th>\n",
       "      <td id=\"T_24cdf_row3_col0\" class=\"data row3 col0\" >tech</td>\n",
       "      <td id=\"T_24cdf_row3_col1\" class=\"data row3 col1\" >0.00</td>\n",
       "      <td id=\"T_24cdf_row3_col2\" class=\"data row3 col2\" >158.00</td>\n",
       "      <td id=\"T_24cdf_row3_col3\" class=\"data row3 col3\" >0.00</td>\n",
       "      <td id=\"T_24cdf_row3_col4\" class=\"data row3 col4\" >0.00</td>\n",
       "      <td id=\"T_24cdf_row3_col5\" class=\"data row3 col5\" >488.00</td>\n",
       "      <td id=\"T_24cdf_row3_col6\" class=\"data row3 col6\" >0.00</td>\n",
       "      <td id=\"T_24cdf_row3_col7\" class=\"data row3 col7\" >646.00</td>\n",
       "    </tr>\n",
       "    <tr>\n",
       "      <th id=\"T_24cdf_level0_row4\" class=\"row_heading level0 row4\" >4</th>\n",
       "      <td id=\"T_24cdf_row4_col0\" class=\"data row4 col0\" >clothing</td>\n",
       "      <td id=\"T_24cdf_row4_col1\" class=\"data row4 col1\" >0.00</td>\n",
       "      <td id=\"T_24cdf_row4_col2\" class=\"data row4 col2\" >0.00</td>\n",
       "      <td id=\"T_24cdf_row4_col3\" class=\"data row4 col3\" >950.00</td>\n",
       "      <td id=\"T_24cdf_row4_col4\" class=\"data row4 col4\" >-818.00</td>\n",
       "      <td id=\"T_24cdf_row4_col5\" class=\"data row4 col5\" >0.00</td>\n",
       "      <td id=\"T_24cdf_row4_col6\" class=\"data row4 col6\" >0.00</td>\n",
       "      <td id=\"T_24cdf_row4_col7\" class=\"data row4 col7\" >132.00</td>\n",
       "    </tr>\n",
       "    <tr>\n",
       "      <th id=\"T_24cdf_level0_row5\" class=\"row_heading level0 row5\" >5</th>\n",
       "      <td id=\"T_24cdf_row5_col0\" class=\"data row5 col0\" >misc</td>\n",
       "      <td id=\"T_24cdf_row5_col1\" class=\"data row5 col1\" >0.00</td>\n",
       "      <td id=\"T_24cdf_row5_col2\" class=\"data row5 col2\" >0.00</td>\n",
       "      <td id=\"T_24cdf_row5_col3\" class=\"data row5 col3\" >-3.00</td>\n",
       "      <td id=\"T_24cdf_row5_col4\" class=\"data row5 col4\" >0.00</td>\n",
       "      <td id=\"T_24cdf_row5_col5\" class=\"data row5 col5\" >0.00</td>\n",
       "      <td id=\"T_24cdf_row5_col6\" class=\"data row5 col6\" >0.00</td>\n",
       "      <td id=\"T_24cdf_row5_col7\" class=\"data row5 col7\" >-3.00</td>\n",
       "    </tr>\n",
       "    <tr>\n",
       "      <th id=\"T_24cdf_level0_row6\" class=\"row_heading level0 row6\" >6</th>\n",
       "      <td id=\"T_24cdf_row6_col0\" class=\"data row6 col0\" >grocery</td>\n",
       "      <td id=\"T_24cdf_row6_col1\" class=\"data row6 col1\" >0.00</td>\n",
       "      <td id=\"T_24cdf_row6_col2\" class=\"data row6 col2\" >0.00</td>\n",
       "      <td id=\"T_24cdf_row6_col3\" class=\"data row6 col3\" >-168.00</td>\n",
       "      <td id=\"T_24cdf_row6_col4\" class=\"data row6 col4\" >0.00</td>\n",
       "      <td id=\"T_24cdf_row6_col5\" class=\"data row6 col5\" >0.00</td>\n",
       "      <td id=\"T_24cdf_row6_col6\" class=\"data row6 col6\" >0.00</td>\n",
       "      <td id=\"T_24cdf_row6_col7\" class=\"data row6 col7\" >-168.00</td>\n",
       "    </tr>\n",
       "    <tr>\n",
       "      <th id=\"T_24cdf_level0_row7\" class=\"row_heading level0 row7\" >7</th>\n",
       "      <td id=\"T_24cdf_row7_col0\" class=\"data row7 col0\" >unk</td>\n",
       "      <td id=\"T_24cdf_row7_col1\" class=\"data row7 col1\" >0.00</td>\n",
       "      <td id=\"T_24cdf_row7_col2\" class=\"data row7 col2\" >0.00</td>\n",
       "      <td id=\"T_24cdf_row7_col3\" class=\"data row7 col3\" >20.00</td>\n",
       "      <td id=\"T_24cdf_row7_col4\" class=\"data row7 col4\" >0.00</td>\n",
       "      <td id=\"T_24cdf_row7_col5\" class=\"data row7 col5\" >0.00</td>\n",
       "      <td id=\"T_24cdf_row7_col6\" class=\"data row7 col6\" >-570.00</td>\n",
       "      <td id=\"T_24cdf_row7_col7\" class=\"data row7 col7\" >-550.00</td>\n",
       "    </tr>\n",
       "    <tr>\n",
       "      <th id=\"T_24cdf_level0_row8\" class=\"row_heading level0 row8\" >8</th>\n",
       "      <td id=\"T_24cdf_row8_col0\" class=\"data row8 col0\" >utility</td>\n",
       "      <td id=\"T_24cdf_row8_col1\" class=\"data row8 col1\" >-881.00</td>\n",
       "      <td id=\"T_24cdf_row8_col2\" class=\"data row8 col2\" >0.00</td>\n",
       "      <td id=\"T_24cdf_row8_col3\" class=\"data row8 col3\" >0.00</td>\n",
       "      <td id=\"T_24cdf_row8_col4\" class=\"data row8 col4\" >0.00</td>\n",
       "      <td id=\"T_24cdf_row8_col5\" class=\"data row8 col5\" >0.00</td>\n",
       "      <td id=\"T_24cdf_row8_col6\" class=\"data row8 col6\" >0.00</td>\n",
       "      <td id=\"T_24cdf_row8_col7\" class=\"data row8 col7\" >-881.00</td>\n",
       "    </tr>\n",
       "    <tr>\n",
       "      <th id=\"T_24cdf_level0_row9\" class=\"row_heading level0 row9\" >9</th>\n",
       "      <td id=\"T_24cdf_row9_col0\" class=\"data row9 col0\" >health</td>\n",
       "      <td id=\"T_24cdf_row9_col1\" class=\"data row9 col1\" >-573.00</td>\n",
       "      <td id=\"T_24cdf_row9_col2\" class=\"data row9 col2\" >-86.00</td>\n",
       "      <td id=\"T_24cdf_row9_col3\" class=\"data row9 col3\" >0.00</td>\n",
       "      <td id=\"T_24cdf_row9_col4\" class=\"data row9 col4\" >387.00</td>\n",
       "      <td id=\"T_24cdf_row9_col5\" class=\"data row9 col5\" >0.00</td>\n",
       "      <td id=\"T_24cdf_row9_col6\" class=\"data row9 col6\" >-1,146.00</td>\n",
       "      <td id=\"T_24cdf_row9_col7\" class=\"data row9 col7\" >-1,418.00</td>\n",
       "    </tr>\n",
       "    <tr>\n",
       "      <th id=\"T_24cdf_level0_row10\" class=\"row_heading level0 row10\" >10</th>\n",
       "      <td id=\"T_24cdf_row10_col0\" class=\"data row10 col0\" >travel</td>\n",
       "      <td id=\"T_24cdf_row10_col1\" class=\"data row10 col1\" >-998.00</td>\n",
       "      <td id=\"T_24cdf_row10_col2\" class=\"data row10 col2\" >-318.00</td>\n",
       "      <td id=\"T_24cdf_row10_col3\" class=\"data row10 col3\" >-1,562.00</td>\n",
       "      <td id=\"T_24cdf_row10_col4\" class=\"data row10 col4\" >0.00</td>\n",
       "      <td id=\"T_24cdf_row10_col5\" class=\"data row10 col5\" >0.00</td>\n",
       "      <td id=\"T_24cdf_row10_col6\" class=\"data row10 col6\" >0.00</td>\n",
       "      <td id=\"T_24cdf_row10_col7\" class=\"data row10 col7\" >-2,878.00</td>\n",
       "    </tr>\n",
       "    <tr>\n",
       "      <th id=\"T_24cdf_level0_row11\" class=\"row_heading level0 row11\" >11</th>\n",
       "      <td id=\"T_24cdf_row11_col0\" class=\"data row11 col0\" >GrandTotal</td>\n",
       "      <td id=\"T_24cdf_row11_col1\" class=\"data row11 col1\" >-2,452.00</td>\n",
       "      <td id=\"T_24cdf_row11_col2\" class=\"data row11 col2\" >697.00</td>\n",
       "      <td id=\"T_24cdf_row11_col3\" class=\"data row11 col3\" >1,327.00</td>\n",
       "      <td id=\"T_24cdf_row11_col4\" class=\"data row11 col4\" >422.00</td>\n",
       "      <td id=\"T_24cdf_row11_col5\" class=\"data row11 col5\" >488.00</td>\n",
       "      <td id=\"T_24cdf_row11_col6\" class=\"data row11 col6\" >-2,620.00</td>\n",
       "      <td id=\"T_24cdf_row11_col7\" class=\"data row11 col7\" >-2,138.00</td>\n",
       "    </tr>\n",
       "  </tbody>\n",
       "</table>\n"
      ],
      "text/plain": [
       "<pandas.io.formats.style.Styler at 0x21bc4407d90>"
      ]
     },
     "metadata": {},
     "output_type": "display_data"
    }
   ],
   "source": [
    "# heatmap_time_cat(df_07days,time_column='YYYYMMDD',max_value=500,title='7 days')\n",
    "heatmap_time_cat(df_07days,time_column='YYYYMMDD',max_value=1000,title='7 days')"
   ]
  },
  {
   "cell_type": "code",
   "execution_count": 40,
   "metadata": {},
   "outputs": [
    {
     "data": {
      "text/html": [
       "<h2> 🔥 HeatMap: 30 days</h2"
      ],
      "text/plain": [
       "<IPython.core.display.HTML object>"
      ]
     },
     "metadata": {},
     "output_type": "display_data"
    },
    {
     "data": {
      "text/html": [
       "from 2022-08-23 00:00:00"
      ],
      "text/plain": [
       "<IPython.core.display.HTML object>"
      ]
     },
     "metadata": {},
     "output_type": "display_data"
    },
    {
     "data": {
      "text/html": [
       "to 2022-09-22 00:00:00"
      ],
      "text/plain": [
       "<IPython.core.display.HTML object>"
      ]
     },
     "metadata": {},
     "output_type": "display_data"
    },
    {
     "data": {
      "text/html": [
       "total -7518"
      ],
      "text/plain": [
       "<IPython.core.display.HTML object>"
      ]
     },
     "metadata": {},
     "output_type": "display_data"
    },
    {
     "data": {
      "text/html": [
       "<style type=\"text/css\">\n",
       "#T_fe323_row0_col1 {\n",
       "  background-color: #fffbb8;\n",
       "  color: #000000;\n",
       "}\n",
       "#T_fe323_row0_col2 {\n",
       "  background-color: #fed884;\n",
       "  color: #000000;\n",
       "}\n",
       "#T_fe323_row0_col3 {\n",
       "  background-color: #48ae5c;\n",
       "  color: #f1f1f1;\n",
       "}\n",
       "#T_fe323_row0_col4, #T_fe323_row2_col1, #T_fe323_row2_col5, #T_fe323_row3_col1, #T_fe323_row6_col1, #T_fe323_row7_col5, #T_fe323_row8_col1, #T_fe323_row10_col1 {\n",
       "  background-color: #feffbe;\n",
       "  color: #000000;\n",
       "}\n",
       "#T_fe323_row0_col5, #T_fe323_row1_col6 {\n",
       "  background-color: #15904c;\n",
       "  color: #f1f1f1;\n",
       "}\n",
       "#T_fe323_row0_col6, #T_fe323_row3_col4, #T_fe323_row5_col1, #T_fe323_row8_col3, #T_fe323_row9_col5, #T_fe323_row11_col1 {\n",
       "  background-color: #006837;\n",
       "  color: #f1f1f1;\n",
       "}\n",
       "#T_fe323_row1_col1 {\n",
       "  background-color: #63bc62;\n",
       "  color: #f1f1f1;\n",
       "}\n",
       "#T_fe323_row1_col2 {\n",
       "  background-color: #d5ed88;\n",
       "  color: #000000;\n",
       "}\n",
       "#T_fe323_row1_col3 {\n",
       "  background-color: #7dc765;\n",
       "  color: #000000;\n",
       "}\n",
       "#T_fe323_row1_col4, #T_fe323_row2_col2 {\n",
       "  background-color: #cfeb85;\n",
       "  color: #000000;\n",
       "}\n",
       "#T_fe323_row1_col5 {\n",
       "  background-color: #dc3b2c;\n",
       "  color: #f1f1f1;\n",
       "}\n",
       "#T_fe323_row2_col3 {\n",
       "  background-color: #16914d;\n",
       "  color: #f1f1f1;\n",
       "}\n",
       "#T_fe323_row2_col4 {\n",
       "  background-color: #f7844e;\n",
       "  color: #f1f1f1;\n",
       "}\n",
       "#T_fe323_row2_col6 {\n",
       "  background-color: #78c565;\n",
       "  color: #000000;\n",
       "}\n",
       "#T_fe323_row3_col2 {\n",
       "  background-color: #fbfdba;\n",
       "  color: #000000;\n",
       "}\n",
       "#T_fe323_row3_col3, #T_fe323_row4_col3, #T_fe323_row7_col3, #T_fe323_row7_col6, #T_fe323_row8_col4, #T_fe323_row8_col5, #T_fe323_row8_col6, #T_fe323_row9_col2, #T_fe323_row9_col4, #T_fe323_row9_col6, #T_fe323_row10_col3, #T_fe323_row10_col6, #T_fe323_row11_col2, #T_fe323_row11_col3, #T_fe323_row11_col4, #T_fe323_row11_col6 {\n",
       "  background-color: #a50026;\n",
       "  color: #f1f1f1;\n",
       "}\n",
       "#T_fe323_row3_col5 {\n",
       "  background-color: #e6f59d;\n",
       "  color: #000000;\n",
       "}\n",
       "#T_fe323_row3_col6 {\n",
       "  background-color: #abdb6d;\n",
       "  color: #000000;\n",
       "}\n",
       "#T_fe323_row4_col1 {\n",
       "  background-color: #fdb567;\n",
       "  color: #000000;\n",
       "}\n",
       "#T_fe323_row4_col2 {\n",
       "  background-color: #d1ec86;\n",
       "  color: #000000;\n",
       "}\n",
       "#T_fe323_row4_col4 {\n",
       "  background-color: #82c966;\n",
       "  color: #000000;\n",
       "}\n",
       "#T_fe323_row4_col5 {\n",
       "  background-color: #89cc67;\n",
       "  color: #000000;\n",
       "}\n",
       "#T_fe323_row4_col6 {\n",
       "  background-color: #f57748;\n",
       "  color: #f1f1f1;\n",
       "}\n",
       "#T_fe323_row5_col2 {\n",
       "  background-color: #bde379;\n",
       "  color: #000000;\n",
       "}\n",
       "#T_fe323_row5_col3 {\n",
       "  background-color: #b71126;\n",
       "  color: #f1f1f1;\n",
       "}\n",
       "#T_fe323_row5_col4 {\n",
       "  background-color: #d22b27;\n",
       "  color: #f1f1f1;\n",
       "}\n",
       "#T_fe323_row5_col5 {\n",
       "  background-color: #f67c4a;\n",
       "  color: #f1f1f1;\n",
       "}\n",
       "#T_fe323_row5_col6, #T_fe323_row6_col6 {\n",
       "  background-color: #f57245;\n",
       "  color: #f1f1f1;\n",
       "}\n",
       "#T_fe323_row6_col2, #T_fe323_row7_col1 {\n",
       "  background-color: #fffab6;\n",
       "  color: #000000;\n",
       "}\n",
       "#T_fe323_row6_col3 {\n",
       "  background-color: #c41e27;\n",
       "  color: #f1f1f1;\n",
       "}\n",
       "#T_fe323_row6_col4 {\n",
       "  background-color: #b7e075;\n",
       "  color: #000000;\n",
       "}\n",
       "#T_fe323_row6_col5 {\n",
       "  background-color: #fffebe;\n",
       "  color: #000000;\n",
       "}\n",
       "#T_fe323_row7_col2 {\n",
       "  background-color: #fba05b;\n",
       "  color: #000000;\n",
       "}\n",
       "#T_fe323_row7_col4 {\n",
       "  background-color: #07753e;\n",
       "  color: #f1f1f1;\n",
       "}\n",
       "#T_fe323_row8_col2 {\n",
       "  background-color: #fee695;\n",
       "  color: #000000;\n",
       "}\n",
       "#T_fe323_row9_col1, #T_fe323_row11_col5 {\n",
       "  background-color: #fdb163;\n",
       "  color: #000000;\n",
       "}\n",
       "#T_fe323_row9_col3 {\n",
       "  background-color: #feea9b;\n",
       "  color: #000000;\n",
       "}\n",
       "#T_fe323_row10_col2 {\n",
       "  background-color: #f99355;\n",
       "  color: #000000;\n",
       "}\n",
       "#T_fe323_row10_col4 {\n",
       "  background-color: #a70226;\n",
       "  color: #f1f1f1;\n",
       "}\n",
       "#T_fe323_row10_col5 {\n",
       "  background-color: #fee593;\n",
       "  color: #000000;\n",
       "}\n",
       "</style>\n",
       "<table id=\"T_fe323\">\n",
       "  <thead>\n",
       "    <tr>\n",
       "      <th class=\"blank level0\" >&nbsp;</th>\n",
       "      <th id=\"T_fe323_level0_col0\" class=\"col_heading level0 col0\" >Category</th>\n",
       "      <th id=\"T_fe323_level0_col1\" class=\"col_heading level0 col1\" >2022.34</th>\n",
       "      <th id=\"T_fe323_level0_col2\" class=\"col_heading level0 col2\" >2022.35</th>\n",
       "      <th id=\"T_fe323_level0_col3\" class=\"col_heading level0 col3\" >2022.36</th>\n",
       "      <th id=\"T_fe323_level0_col4\" class=\"col_heading level0 col4\" >2022.37</th>\n",
       "      <th id=\"T_fe323_level0_col5\" class=\"col_heading level0 col5\" >2022.38</th>\n",
       "      <th id=\"T_fe323_level0_col6\" class=\"col_heading level0 col6\" >Σ</th>\n",
       "    </tr>\n",
       "  </thead>\n",
       "  <tbody>\n",
       "    <tr>\n",
       "      <th id=\"T_fe323_level0_row0\" class=\"row_heading level0 row0\" >0</th>\n",
       "      <td id=\"T_fe323_row0_col0\" class=\"data row0 col0\" >debt</td>\n",
       "      <td id=\"T_fe323_row0_col1\" class=\"data row0 col1\" >-30.00</td>\n",
       "      <td id=\"T_fe323_row0_col2\" class=\"data row0 col2\" >-231.00</td>\n",
       "      <td id=\"T_fe323_row0_col3\" class=\"data row0 col3\" >677.00</td>\n",
       "      <td id=\"T_fe323_row0_col4\" class=\"data row0 col4\" >0.00</td>\n",
       "      <td id=\"T_fe323_row0_col5\" class=\"data row0 col5\" >829.00</td>\n",
       "      <td id=\"T_fe323_row0_col6\" class=\"data row0 col6\" >1,245.00</td>\n",
       "    </tr>\n",
       "    <tr>\n",
       "      <th id=\"T_fe323_level0_row1\" class=\"row_heading level0 row1\" >1</th>\n",
       "      <td id=\"T_fe323_row1_col0\" class=\"data row1 col0\" >health</td>\n",
       "      <td id=\"T_fe323_row1_col1\" class=\"data row1 col1\" >603.00</td>\n",
       "      <td id=\"T_fe323_row1_col2\" class=\"data row1 col2\" >214.00</td>\n",
       "      <td id=\"T_fe323_row1_col3\" class=\"data row1 col3\" >530.00</td>\n",
       "      <td id=\"T_fe323_row1_col4\" class=\"data row1 col4\" >242.00</td>\n",
       "      <td id=\"T_fe323_row1_col5\" class=\"data row1 col5\" >-759.00</td>\n",
       "      <td id=\"T_fe323_row1_col6\" class=\"data row1 col6\" >830.00</td>\n",
       "    </tr>\n",
       "    <tr>\n",
       "      <th id=\"T_fe323_level0_row2\" class=\"row_heading level0 row2\" >2</th>\n",
       "      <td id=\"T_fe323_row2_col0\" class=\"data row2 col0\" >utility</td>\n",
       "      <td id=\"T_fe323_row2_col1\" class=\"data row2 col1\" >0.00</td>\n",
       "      <td id=\"T_fe323_row2_col2\" class=\"data row2 col2\" >238.00</td>\n",
       "      <td id=\"T_fe323_row2_col3\" class=\"data row2 col3\" >828.00</td>\n",
       "      <td id=\"T_fe323_row2_col4\" class=\"data row2 col4\" >-524.00</td>\n",
       "      <td id=\"T_fe323_row2_col5\" class=\"data row2 col5\" >0.00</td>\n",
       "      <td id=\"T_fe323_row2_col6\" class=\"data row2 col6\" >542.00</td>\n",
       "    </tr>\n",
       "    <tr>\n",
       "      <th id=\"T_fe323_level0_row3\" class=\"row_heading level0 row3\" >3</th>\n",
       "      <td id=\"T_fe323_row3_col0\" class=\"data row3 col0\" >clothing</td>\n",
       "      <td id=\"T_fe323_row3_col1\" class=\"data row3 col1\" >0.00</td>\n",
       "      <td id=\"T_fe323_row3_col2\" class=\"data row3 col2\" >23.00</td>\n",
       "      <td id=\"T_fe323_row3_col3\" class=\"data row3 col3\" >-996.00</td>\n",
       "      <td id=\"T_fe323_row3_col4\" class=\"data row3 col4\" >1,217.00</td>\n",
       "      <td id=\"T_fe323_row3_col5\" class=\"data row3 col5\" >132.00</td>\n",
       "      <td id=\"T_fe323_row3_col6\" class=\"data row3 col6\" >376.00</td>\n",
       "    </tr>\n",
       "    <tr>\n",
       "      <th id=\"T_fe323_level0_row4\" class=\"row_heading level0 row4\" >4</th>\n",
       "      <td id=\"T_fe323_row4_col0\" class=\"data row4 col0\" >tech</td>\n",
       "      <td id=\"T_fe323_row4_col1\" class=\"data row4 col1\" >-368.00</td>\n",
       "      <td id=\"T_fe323_row4_col2\" class=\"data row4 col2\" >230.00</td>\n",
       "      <td id=\"T_fe323_row4_col3\" class=\"data row4 col3\" >-1,430.00</td>\n",
       "      <td id=\"T_fe323_row4_col4\" class=\"data row4 col4\" >510.00</td>\n",
       "      <td id=\"T_fe323_row4_col5\" class=\"data row4 col5\" >488.00</td>\n",
       "      <td id=\"T_fe323_row4_col6\" class=\"data row4 col6\" >-570.00</td>\n",
       "    </tr>\n",
       "    <tr>\n",
       "      <th id=\"T_fe323_level0_row5\" class=\"row_heading level0 row5\" >5</th>\n",
       "      <td id=\"T_fe323_row5_col0\" class=\"data row5 col0\" >unk</td>\n",
       "      <td id=\"T_fe323_row5_col1\" class=\"data row5 col1\" >1,406.00</td>\n",
       "      <td id=\"T_fe323_row5_col2\" class=\"data row5 col2\" >308.00</td>\n",
       "      <td id=\"T_fe323_row5_col3\" class=\"data row5 col3\" >-927.00</td>\n",
       "      <td id=\"T_fe323_row5_col4\" class=\"data row5 col4\" >-819.00</td>\n",
       "      <td id=\"T_fe323_row5_col5\" class=\"data row5 col5\" >-550.00</td>\n",
       "      <td id=\"T_fe323_row5_col6\" class=\"data row5 col6\" >-582.00</td>\n",
       "    </tr>\n",
       "    <tr>\n",
       "      <th id=\"T_fe323_level0_row6\" class=\"row_heading level0 row6\" >6</th>\n",
       "      <td id=\"T_fe323_row6_col0\" class=\"data row6 col0\" >misc</td>\n",
       "      <td id=\"T_fe323_row6_col1\" class=\"data row6 col1\" >0.00</td>\n",
       "      <td id=\"T_fe323_row6_col2\" class=\"data row6 col2\" >-38.00</td>\n",
       "      <td id=\"T_fe323_row6_col3\" class=\"data row6 col3\" >-873.00</td>\n",
       "      <td id=\"T_fe323_row6_col4\" class=\"data row6 col4\" >331.00</td>\n",
       "      <td id=\"T_fe323_row6_col5\" class=\"data row6 col5\" >-3.00</td>\n",
       "      <td id=\"T_fe323_row6_col6\" class=\"data row6 col6\" >-583.00</td>\n",
       "    </tr>\n",
       "    <tr>\n",
       "      <th id=\"T_fe323_level0_row7\" class=\"row_heading level0 row7\" >7</th>\n",
       "      <td id=\"T_fe323_row7_col0\" class=\"data row7 col0\" >paypal</td>\n",
       "      <td id=\"T_fe323_row7_col1\" class=\"data row7 col1\" >-37.00</td>\n",
       "      <td id=\"T_fe323_row7_col2\" class=\"data row7 col2\" >-439.00</td>\n",
       "      <td id=\"T_fe323_row7_col3\" class=\"data row7 col3\" >-1,596.00</td>\n",
       "      <td id=\"T_fe323_row7_col4\" class=\"data row7 col4\" >943.00</td>\n",
       "      <td id=\"T_fe323_row7_col5\" class=\"data row7 col5\" >0.00</td>\n",
       "      <td id=\"T_fe323_row7_col6\" class=\"data row7 col6\" >-1,129.00</td>\n",
       "    </tr>\n",
       "    <tr>\n",
       "      <th id=\"T_fe323_level0_row8\" class=\"row_heading level0 row8\" >8</th>\n",
       "      <td id=\"T_fe323_row8_col0\" class=\"data row8 col0\" >travel</td>\n",
       "      <td id=\"T_fe323_row8_col1\" class=\"data row8 col1\" >0.00</td>\n",
       "      <td id=\"T_fe323_row8_col2\" class=\"data row8 col2\" >-158.00</td>\n",
       "      <td id=\"T_fe323_row8_col3\" class=\"data row8 col3\" >1,226.00</td>\n",
       "      <td id=\"T_fe323_row8_col4\" class=\"data row8 col4\" >-1,316.00</td>\n",
       "      <td id=\"T_fe323_row8_col5\" class=\"data row8 col5\" >-1,562.00</td>\n",
       "      <td id=\"T_fe323_row8_col6\" class=\"data row8 col6\" >-1,810.00</td>\n",
       "    </tr>\n",
       "    <tr>\n",
       "      <th id=\"T_fe323_level0_row9\" class=\"row_heading level0 row9\" >9</th>\n",
       "      <td id=\"T_fe323_row9_col0\" class=\"data row9 col0\" >invest</td>\n",
       "      <td id=\"T_fe323_row9_col1\" class=\"data row9 col1\" >-390.00</td>\n",
       "      <td id=\"T_fe323_row9_col2\" class=\"data row9 col2\" >-2,256.00</td>\n",
       "      <td id=\"T_fe323_row9_col3\" class=\"data row9 col3\" >-140.00</td>\n",
       "      <td id=\"T_fe323_row9_col4\" class=\"data row9 col4\" >-1,034.00</td>\n",
       "      <td id=\"T_fe323_row9_col5\" class=\"data row9 col5\" >1,210.00</td>\n",
       "      <td id=\"T_fe323_row9_col6\" class=\"data row9 col6\" >-2,610.00</td>\n",
       "    </tr>\n",
       "    <tr>\n",
       "      <th id=\"T_fe323_level0_row10\" class=\"row_heading level0 row10\" >10</th>\n",
       "      <td id=\"T_fe323_row10_col0\" class=\"data row10 col0\" >grocery</td>\n",
       "      <td id=\"T_fe323_row10_col1\" class=\"data row10 col1\" >0.00</td>\n",
       "      <td id=\"T_fe323_row10_col2\" class=\"data row10 col2\" >-477.00</td>\n",
       "      <td id=\"T_fe323_row10_col3\" class=\"data row10 col3\" >-1,590.00</td>\n",
       "      <td id=\"T_fe323_row10_col4\" class=\"data row10 col4\" >-992.00</td>\n",
       "      <td id=\"T_fe323_row10_col5\" class=\"data row10 col5\" >-168.00</td>\n",
       "      <td id=\"T_fe323_row10_col6\" class=\"data row10 col6\" >-3,227.00</td>\n",
       "    </tr>\n",
       "    <tr>\n",
       "      <th id=\"T_fe323_level0_row11\" class=\"row_heading level0 row11\" >11</th>\n",
       "      <td id=\"T_fe323_row11_col0\" class=\"data row11 col0\" >GrandTotal</td>\n",
       "      <td id=\"T_fe323_row11_col1\" class=\"data row11 col1\" >1,184.00</td>\n",
       "      <td id=\"T_fe323_row11_col2\" class=\"data row11 col2\" >-2,586.00</td>\n",
       "      <td id=\"T_fe323_row11_col3\" class=\"data row11 col3\" >-4,291.00</td>\n",
       "      <td id=\"T_fe323_row11_col4\" class=\"data row11 col4\" >-1,442.00</td>\n",
       "      <td id=\"T_fe323_row11_col5\" class=\"data row11 col5\" >-383.00</td>\n",
       "      <td id=\"T_fe323_row11_col6\" class=\"data row11 col6\" >-7,518.00</td>\n",
       "    </tr>\n",
       "  </tbody>\n",
       "</table>\n"
      ],
      "text/plain": [
       "<pandas.io.formats.style.Styler at 0x21bc2288e20>"
      ]
     },
     "metadata": {},
     "output_type": "display_data"
    }
   ],
   "source": [
    "# heatmap_time_cat(df_30days,time_column='YYYY.W',max_value=500,title='30 days')\n",
    "heatmap_time_cat(df_30days,time_column='YYYY.W',max_value=1000,title='30 days')"
   ]
  },
  {
   "cell_type": "code",
   "execution_count": 41,
   "metadata": {},
   "outputs": [
    {
     "data": {
      "text/html": [
       "<h2> 🔥 HeatMap: 90 days</h2"
      ],
      "text/plain": [
       "<IPython.core.display.HTML object>"
      ]
     },
     "metadata": {},
     "output_type": "display_data"
    },
    {
     "data": {
      "text/html": [
       "from 2022-06-24 00:00:00"
      ],
      "text/plain": [
       "<IPython.core.display.HTML object>"
      ]
     },
     "metadata": {},
     "output_type": "display_data"
    },
    {
     "data": {
      "text/html": [
       "to 2022-09-22 00:00:00"
      ],
      "text/plain": [
       "<IPython.core.display.HTML object>"
      ]
     },
     "metadata": {},
     "output_type": "display_data"
    },
    {
     "data": {
      "text/html": [
       "total -7773"
      ],
      "text/plain": [
       "<IPython.core.display.HTML object>"
      ]
     },
     "metadata": {},
     "output_type": "display_data"
    },
    {
     "data": {
      "text/html": [
       "<style type=\"text/css\">\n",
       "#T_fc36a_row0_col1, #T_fc36a_row6_col1, #T_fc36a_row9_col1 {\n",
       "  background-color: #feffbe;\n",
       "  color: #000000;\n",
       "}\n",
       "#T_fc36a_row0_col2, #T_fc36a_row0_col3, #T_fc36a_row0_col5, #T_fc36a_row1_col2, #T_fc36a_row1_col3, #T_fc36a_row1_col5, #T_fc36a_row5_col2, #T_fc36a_row6_col4, #T_fc36a_row8_col1, #T_fc36a_row10_col2, #T_fc36a_row11_col2 {\n",
       "  background-color: #006837;\n",
       "  color: #f1f1f1;\n",
       "}\n",
       "#T_fc36a_row0_col4, #T_fc36a_row3_col5, #T_fc36a_row4_col1 {\n",
       "  background-color: #f57245;\n",
       "  color: #f1f1f1;\n",
       "}\n",
       "#T_fc36a_row1_col1, #T_fc36a_row1_col4, #T_fc36a_row5_col3, #T_fc36a_row5_col5, #T_fc36a_row6_col3, #T_fc36a_row6_col5, #T_fc36a_row7_col2, #T_fc36a_row7_col5, #T_fc36a_row8_col3, #T_fc36a_row8_col4, #T_fc36a_row8_col5, #T_fc36a_row9_col2, #T_fc36a_row9_col3, #T_fc36a_row9_col5, #T_fc36a_row10_col3, #T_fc36a_row10_col4, #T_fc36a_row10_col5, #T_fc36a_row11_col1, #T_fc36a_row11_col3, #T_fc36a_row11_col4, #T_fc36a_row11_col5 {\n",
       "  background-color: #a50026;\n",
       "  color: #f1f1f1;\n",
       "}\n",
       "#T_fc36a_row2_col1 {\n",
       "  background-color: #be1827;\n",
       "  color: #f1f1f1;\n",
       "}\n",
       "#T_fc36a_row2_col2 {\n",
       "  background-color: #15904c;\n",
       "  color: #f1f1f1;\n",
       "}\n",
       "#T_fc36a_row2_col3, #T_fc36a_row3_col2 {\n",
       "  background-color: #f7fcb4;\n",
       "  color: #000000;\n",
       "}\n",
       "#T_fc36a_row2_col4 {\n",
       "  background-color: #78c565;\n",
       "  color: #000000;\n",
       "}\n",
       "#T_fc36a_row2_col5 {\n",
       "  background-color: #7fc866;\n",
       "  color: #000000;\n",
       "}\n",
       "#T_fc36a_row3_col1 {\n",
       "  background-color: #b9e176;\n",
       "  color: #000000;\n",
       "}\n",
       "#T_fc36a_row3_col3 {\n",
       "  background-color: #fec877;\n",
       "  color: #000000;\n",
       "}\n",
       "#T_fc36a_row3_col4 {\n",
       "  background-color: #ec5c3b;\n",
       "  color: #f1f1f1;\n",
       "}\n",
       "#T_fc36a_row4_col2 {\n",
       "  background-color: #dd3d2d;\n",
       "  color: #f1f1f1;\n",
       "}\n",
       "#T_fc36a_row4_col3 {\n",
       "  background-color: #0d8044;\n",
       "  color: #f1f1f1;\n",
       "}\n",
       "#T_fc36a_row4_col4 {\n",
       "  background-color: #fba35c;\n",
       "  color: #000000;\n",
       "}\n",
       "#T_fc36a_row4_col5 {\n",
       "  background-color: #c41e27;\n",
       "  color: #f1f1f1;\n",
       "}\n",
       "#T_fc36a_row5_col1 {\n",
       "  background-color: #f67a49;\n",
       "  color: #f1f1f1;\n",
       "}\n",
       "#T_fc36a_row5_col4 {\n",
       "  background-color: #f8fcb6;\n",
       "  color: #000000;\n",
       "}\n",
       "#T_fc36a_row6_col2 {\n",
       "  background-color: #e54e35;\n",
       "  color: #f1f1f1;\n",
       "}\n",
       "#T_fc36a_row7_col1 {\n",
       "  background-color: #fed481;\n",
       "  color: #000000;\n",
       "}\n",
       "#T_fc36a_row7_col3 {\n",
       "  background-color: #feea9b;\n",
       "  color: #000000;\n",
       "}\n",
       "#T_fc36a_row7_col4 {\n",
       "  background-color: #d1ec86;\n",
       "  color: #000000;\n",
       "}\n",
       "#T_fc36a_row8_col2 {\n",
       "  background-color: #d62f27;\n",
       "  color: #f1f1f1;\n",
       "}\n",
       "#T_fc36a_row9_col4 {\n",
       "  background-color: #b1de71;\n",
       "  color: #000000;\n",
       "}\n",
       "#T_fc36a_row10_col1 {\n",
       "  background-color: #bd1726;\n",
       "  color: #f1f1f1;\n",
       "}\n",
       "</style>\n",
       "<table id=\"T_fc36a\">\n",
       "  <thead>\n",
       "    <tr>\n",
       "      <th class=\"blank level0\" >&nbsp;</th>\n",
       "      <th id=\"T_fc36a_level0_col0\" class=\"col_heading level0 col0\" >Category</th>\n",
       "      <th id=\"T_fc36a_level0_col1\" class=\"col_heading level0 col1\" >202206.0</th>\n",
       "      <th id=\"T_fc36a_level0_col2\" class=\"col_heading level0 col2\" >202207.0</th>\n",
       "      <th id=\"T_fc36a_level0_col3\" class=\"col_heading level0 col3\" >202208.0</th>\n",
       "      <th id=\"T_fc36a_level0_col4\" class=\"col_heading level0 col4\" >202209.0</th>\n",
       "      <th id=\"T_fc36a_level0_col5\" class=\"col_heading level0 col5\" >Σ</th>\n",
       "    </tr>\n",
       "  </thead>\n",
       "  <tbody>\n",
       "    <tr>\n",
       "      <th id=\"T_fc36a_level0_row0\" class=\"row_heading level0 row0\" >0</th>\n",
       "      <td id=\"T_fc36a_row0_col0\" class=\"data row0 col0\" >misc</td>\n",
       "      <td id=\"T_fc36a_row0_col1\" class=\"data row0 col1\" >0.00</td>\n",
       "      <td id=\"T_fc36a_row0_col2\" class=\"data row0 col2\" >2,870.00</td>\n",
       "      <td id=\"T_fc36a_row0_col3\" class=\"data row0 col3\" >1,950.00</td>\n",
       "      <td id=\"T_fc36a_row0_col4\" class=\"data row0 col4\" >-583.00</td>\n",
       "      <td id=\"T_fc36a_row0_col5\" class=\"data row0 col5\" >4,237.00</td>\n",
       "    </tr>\n",
       "    <tr>\n",
       "      <th id=\"T_fc36a_level0_row1\" class=\"row_heading level0 row1\" >1</th>\n",
       "      <td id=\"T_fc36a_row1_col0\" class=\"data row1 col0\" >unk</td>\n",
       "      <td id=\"T_fc36a_row1_col1\" class=\"data row1 col1\" >-2,368.00</td>\n",
       "      <td id=\"T_fc36a_row1_col2\" class=\"data row1 col2\" >2,430.00</td>\n",
       "      <td id=\"T_fc36a_row1_col3\" class=\"data row1 col3\" >3,412.00</td>\n",
       "      <td id=\"T_fc36a_row1_col4\" class=\"data row1 col4\" >-2,296.00</td>\n",
       "      <td id=\"T_fc36a_row1_col5\" class=\"data row1 col5\" >1,178.00</td>\n",
       "    </tr>\n",
       "    <tr>\n",
       "      <th id=\"T_fc36a_level0_row2\" class=\"row_heading level0 row2\" >2</th>\n",
       "      <td id=\"T_fc36a_row2_col0\" class=\"data row2 col0\" >utility</td>\n",
       "      <td id=\"T_fc36a_row2_col1\" class=\"data row2 col1\" >-895.00</td>\n",
       "      <td id=\"T_fc36a_row2_col2\" class=\"data row2 col2\" >832.00</td>\n",
       "      <td id=\"T_fc36a_row2_col3\" class=\"data row2 col3\" >43.00</td>\n",
       "      <td id=\"T_fc36a_row2_col4\" class=\"data row2 col4\" >542.00</td>\n",
       "      <td id=\"T_fc36a_row2_col5\" class=\"data row2 col5\" >522.00</td>\n",
       "    </tr>\n",
       "    <tr>\n",
       "      <th id=\"T_fc36a_level0_row3\" class=\"row_heading level0 row3\" >3</th>\n",
       "      <td id=\"T_fc36a_row3_col0\" class=\"data row3 col0\" >paypal</td>\n",
       "      <td id=\"T_fc36a_row3_col1\" class=\"data row3 col1\" >324.00</td>\n",
       "      <td id=\"T_fc36a_row3_col2\" class=\"data row3 col2\" >42.00</td>\n",
       "      <td id=\"T_fc36a_row3_col3\" class=\"data row3 col3\" >-295.00</td>\n",
       "      <td id=\"T_fc36a_row3_col4\" class=\"data row3 col4\" >-653.00</td>\n",
       "      <td id=\"T_fc36a_row3_col5\" class=\"data row3 col5\" >-582.00</td>\n",
       "    </tr>\n",
       "    <tr>\n",
       "      <th id=\"T_fc36a_level0_row4\" class=\"row_heading level0 row4\" >4</th>\n",
       "      <td id=\"T_fc36a_row4_col0\" class=\"data row4 col0\" >tech</td>\n",
       "      <td id=\"T_fc36a_row4_col1\" class=\"data row4 col1\" >-581.00</td>\n",
       "      <td id=\"T_fc36a_row4_col2\" class=\"data row4 col2\" >-756.00</td>\n",
       "      <td id=\"T_fc36a_row4_col3\" class=\"data row4 col3\" >894.00</td>\n",
       "      <td id=\"T_fc36a_row4_col4\" class=\"data row4 col4\" >-432.00</td>\n",
       "      <td id=\"T_fc36a_row4_col5\" class=\"data row4 col5\" >-875.00</td>\n",
       "    </tr>\n",
       "    <tr>\n",
       "      <th id=\"T_fc36a_level0_row5\" class=\"row_heading level0 row5\" >5</th>\n",
       "      <td id=\"T_fc36a_row5_col0\" class=\"data row5 col0\" >invest</td>\n",
       "      <td id=\"T_fc36a_row5_col1\" class=\"data row5 col1\" >-557.00</td>\n",
       "      <td id=\"T_fc36a_row5_col2\" class=\"data row5 col2\" >1,453.00</td>\n",
       "      <td id=\"T_fc36a_row5_col3\" class=\"data row5 col3\" >-2,120.00</td>\n",
       "      <td id=\"T_fc36a_row5_col4\" class=\"data row5 col4\" >36.00</td>\n",
       "      <td id=\"T_fc36a_row5_col5\" class=\"data row5 col5\" >-1,188.00</td>\n",
       "    </tr>\n",
       "    <tr>\n",
       "      <th id=\"T_fc36a_level0_row6\" class=\"row_heading level0 row6\" >6</th>\n",
       "      <td id=\"T_fc36a_row6_col0\" class=\"data row6 col0\" >debt</td>\n",
       "      <td id=\"T_fc36a_row6_col1\" class=\"data row6 col1\" >0.00</td>\n",
       "      <td id=\"T_fc36a_row6_col2\" class=\"data row6 col2\" >-699.00</td>\n",
       "      <td id=\"T_fc36a_row6_col3\" class=\"data row6 col3\" >-2,144.00</td>\n",
       "      <td id=\"T_fc36a_row6_col4\" class=\"data row6 col4\" >1,506.00</td>\n",
       "      <td id=\"T_fc36a_row6_col5\" class=\"data row6 col5\" >-1,337.00</td>\n",
       "    </tr>\n",
       "    <tr>\n",
       "      <th id=\"T_fc36a_level0_row7\" class=\"row_heading level0 row7\" >7</th>\n",
       "      <td id=\"T_fc36a_row7_col0\" class=\"data row7 col0\" >health</td>\n",
       "      <td id=\"T_fc36a_row7_col1\" class=\"data row7 col1\" >-250.00</td>\n",
       "      <td id=\"T_fc36a_row7_col2\" class=\"data row7 col2\" >-1,259.00</td>\n",
       "      <td id=\"T_fc36a_row7_col3\" class=\"data row7 col3\" >-137.00</td>\n",
       "      <td id=\"T_fc36a_row7_col4\" class=\"data row7 col4\" >227.00</td>\n",
       "      <td id=\"T_fc36a_row7_col5\" class=\"data row7 col5\" >-1,419.00</td>\n",
       "    </tr>\n",
       "    <tr>\n",
       "      <th id=\"T_fc36a_level0_row8\" class=\"row_heading level0 row8\" >8</th>\n",
       "      <td id=\"T_fc36a_row8_col0\" class=\"data row8 col0\" >travel</td>\n",
       "      <td id=\"T_fc36a_row8_col1\" class=\"data row8 col1\" >1,791.00</td>\n",
       "      <td id=\"T_fc36a_row8_col2\" class=\"data row8 col2\" >-801.00</td>\n",
       "      <td id=\"T_fc36a_row8_col3\" class=\"data row8 col3\" >-1,217.00</td>\n",
       "      <td id=\"T_fc36a_row8_col4\" class=\"data row8 col4\" >-1,652.00</td>\n",
       "      <td id=\"T_fc36a_row8_col5\" class=\"data row8 col5\" >-1,879.00</td>\n",
       "    </tr>\n",
       "    <tr>\n",
       "      <th id=\"T_fc36a_level0_row9\" class=\"row_heading level0 row9\" >9</th>\n",
       "      <td id=\"T_fc36a_row9_col0\" class=\"data row9 col0\" >clothing</td>\n",
       "      <td id=\"T_fc36a_row9_col1\" class=\"data row9 col1\" >0.00</td>\n",
       "      <td id=\"T_fc36a_row9_col2\" class=\"data row9 col2\" >-1,146.00</td>\n",
       "      <td id=\"T_fc36a_row9_col3\" class=\"data row9 col3\" >-1,399.00</td>\n",
       "      <td id=\"T_fc36a_row9_col4\" class=\"data row9 col4\" >353.00</td>\n",
       "      <td id=\"T_fc36a_row9_col5\" class=\"data row9 col5\" >-2,192.00</td>\n",
       "    </tr>\n",
       "    <tr>\n",
       "      <th id=\"T_fc36a_level0_row10\" class=\"row_heading level0 row10\" >10</th>\n",
       "      <td id=\"T_fc36a_row10_col0\" class=\"data row10 col0\" >grocery</td>\n",
       "      <td id=\"T_fc36a_row10_col1\" class=\"data row10 col1\" >-902.00</td>\n",
       "      <td id=\"T_fc36a_row10_col2\" class=\"data row10 col2\" >1,643.00</td>\n",
       "      <td id=\"T_fc36a_row10_col3\" class=\"data row10 col3\" >-2,229.00</td>\n",
       "      <td id=\"T_fc36a_row10_col4\" class=\"data row10 col4\" >-2,750.00</td>\n",
       "      <td id=\"T_fc36a_row10_col5\" class=\"data row10 col5\" >-4,238.00</td>\n",
       "    </tr>\n",
       "    <tr>\n",
       "      <th id=\"T_fc36a_level0_row11\" class=\"row_heading level0 row11\" >11</th>\n",
       "      <td id=\"T_fc36a_row11_col0\" class=\"data row11 col0\" >GrandTotal</td>\n",
       "      <td id=\"T_fc36a_row11_col1\" class=\"data row11 col1\" >-3,438.00</td>\n",
       "      <td id=\"T_fc36a_row11_col2\" class=\"data row11 col2\" >4,609.00</td>\n",
       "      <td id=\"T_fc36a_row11_col3\" class=\"data row11 col3\" >-3,242.00</td>\n",
       "      <td id=\"T_fc36a_row11_col4\" class=\"data row11 col4\" >-5,702.00</td>\n",
       "      <td id=\"T_fc36a_row11_col5\" class=\"data row11 col5\" >-7,773.00</td>\n",
       "    </tr>\n",
       "  </tbody>\n",
       "</table>\n"
      ],
      "text/plain": [
       "<pandas.io.formats.style.Styler at 0x21bc4407d90>"
      ]
     },
     "metadata": {},
     "output_type": "display_data"
    }
   ],
   "source": [
    "# heatmap_time_cat(df_90days,time_column='YYYYMM',max_value=500,title='90 days')\n",
    "heatmap_time_cat(df_90days,time_column='YYYYMM',max_value=1000,title='90 days')"
   ]
  },
  {
   "cell_type": "code",
   "execution_count": 42,
   "metadata": {},
   "outputs": [
    {
     "data": {
      "text/html": [
       "<h2> 🔥 HeatMap: Year</h2"
      ],
      "text/plain": [
       "<IPython.core.display.HTML object>"
      ]
     },
     "metadata": {},
     "output_type": "display_data"
    },
    {
     "data": {
      "text/html": [
       "from 2022-01-03 00:00:00"
      ],
      "text/plain": [
       "<IPython.core.display.HTML object>"
      ]
     },
     "metadata": {},
     "output_type": "display_data"
    },
    {
     "data": {
      "text/html": [
       "to 2022-09-22 00:00:00"
      ],
      "text/plain": [
       "<IPython.core.display.HTML object>"
      ]
     },
     "metadata": {},
     "output_type": "display_data"
    },
    {
     "data": {
      "text/html": [
       "total -34"
      ],
      "text/plain": [
       "<IPython.core.display.HTML object>"
      ]
     },
     "metadata": {},
     "output_type": "display_data"
    },
    {
     "data": {
      "text/html": [
       "<style type=\"text/css\">\n",
       "#T_60fad_row0_col1, #T_60fad_row0_col2, #T_60fad_row0_col3, #T_60fad_row0_col4, #T_60fad_row0_col5, #T_60fad_row0_col7, #T_60fad_row0_col10, #T_60fad_row1_col4, #T_60fad_row1_col7, #T_60fad_row1_col8, #T_60fad_row1_col10, #T_60fad_row2_col1, #T_60fad_row2_col3, #T_60fad_row2_col4, #T_60fad_row2_col7, #T_60fad_row2_col10, #T_60fad_row3_col1, #T_60fad_row3_col3, #T_60fad_row3_col4, #T_60fad_row3_col7, #T_60fad_row3_col8, #T_60fad_row3_col10, #T_60fad_row4_col9, #T_60fad_row9_col1, #T_60fad_row11_col1, #T_60fad_row11_col3, #T_60fad_row11_col4, #T_60fad_row11_col7 {\n",
       "  background-color: #006837;\n",
       "  color: #f1f1f1;\n",
       "}\n",
       "#T_60fad_row0_col6 {\n",
       "  background-color: #fffcba;\n",
       "  color: #000000;\n",
       "}\n",
       "#T_60fad_row0_col8, #T_60fad_row0_col9, #T_60fad_row1_col2, #T_60fad_row2_col5, #T_60fad_row2_col8, #T_60fad_row3_col5, #T_60fad_row3_col6, #T_60fad_row3_col9, #T_60fad_row4_col8, #T_60fad_row5_col7, #T_60fad_row5_col8, #T_60fad_row5_col10, #T_60fad_row6_col3, #T_60fad_row6_col5, #T_60fad_row6_col10, #T_60fad_row7_col4, #T_60fad_row7_col5, #T_60fad_row7_col10, #T_60fad_row8_col3, #T_60fad_row8_col4, #T_60fad_row8_col10, #T_60fad_row9_col5, #T_60fad_row9_col8, #T_60fad_row9_col9, #T_60fad_row9_col10, #T_60fad_row10_col3, #T_60fad_row10_col4, #T_60fad_row10_col7, #T_60fad_row10_col10, #T_60fad_row11_col5, #T_60fad_row11_col6, #T_60fad_row11_col8, #T_60fad_row11_col9 {\n",
       "  background-color: #a50026;\n",
       "  color: #f1f1f1;\n",
       "}\n",
       "#T_60fad_row1_col1, #T_60fad_row2_col9, #T_60fad_row11_col2 {\n",
       "  background-color: #f8fcb6;\n",
       "  color: #000000;\n",
       "}\n",
       "#T_60fad_row1_col3 {\n",
       "  background-color: #3ca959;\n",
       "  color: #f1f1f1;\n",
       "}\n",
       "#T_60fad_row1_col5 {\n",
       "  background-color: #fa9857;\n",
       "  color: #000000;\n",
       "}\n",
       "#T_60fad_row1_col6 {\n",
       "  background-color: #e14430;\n",
       "  color: #f1f1f1;\n",
       "}\n",
       "#T_60fad_row1_col9 {\n",
       "  background-color: #f57245;\n",
       "  color: #f1f1f1;\n",
       "}\n",
       "#T_60fad_row2_col2, #T_60fad_row9_col3 {\n",
       "  background-color: #a7d96b;\n",
       "  color: #000000;\n",
       "}\n",
       "#T_60fad_row2_col6 {\n",
       "  background-color: #c1e57b;\n",
       "  color: #000000;\n",
       "}\n",
       "#T_60fad_row3_col2, #T_60fad_row4_col2, #T_60fad_row5_col3, #T_60fad_row6_col2, #T_60fad_row7_col2, #T_60fad_row8_col2 {\n",
       "  background-color: #feffbe;\n",
       "  color: #000000;\n",
       "}\n",
       "#T_60fad_row4_col1 {\n",
       "  background-color: #2da155;\n",
       "  color: #f1f1f1;\n",
       "}\n",
       "#T_60fad_row4_col3 {\n",
       "  background-color: #e0f295;\n",
       "  color: #000000;\n",
       "}\n",
       "#T_60fad_row4_col4 {\n",
       "  background-color: #17934e;\n",
       "  color: #f1f1f1;\n",
       "}\n",
       "#T_60fad_row4_col5, #T_60fad_row6_col8, #T_60fad_row8_col7 {\n",
       "  background-color: #f7fcb4;\n",
       "  color: #000000;\n",
       "}\n",
       "#T_60fad_row4_col6 {\n",
       "  background-color: #75c465;\n",
       "  color: #000000;\n",
       "}\n",
       "#T_60fad_row4_col7 {\n",
       "  background-color: #e54e35;\n",
       "  color: #f1f1f1;\n",
       "}\n",
       "#T_60fad_row4_col10 {\n",
       "  background-color: #036e3a;\n",
       "  color: #f1f1f1;\n",
       "}\n",
       "#T_60fad_row5_col1 {\n",
       "  background-color: #f1f9ac;\n",
       "  color: #000000;\n",
       "}\n",
       "#T_60fad_row5_col2 {\n",
       "  background-color: #82c966;\n",
       "  color: #000000;\n",
       "}\n",
       "#T_60fad_row5_col4, #T_60fad_row7_col1 {\n",
       "  background-color: #ecf7a6;\n",
       "  color: #000000;\n",
       "}\n",
       "#T_60fad_row5_col5 {\n",
       "  background-color: #c5e67e;\n",
       "  color: #000000;\n",
       "}\n",
       "#T_60fad_row5_col6, #T_60fad_row10_col8 {\n",
       "  background-color: #feea9b;\n",
       "  color: #000000;\n",
       "}\n",
       "#T_60fad_row5_col9 {\n",
       "  background-color: #b1de71;\n",
       "  color: #000000;\n",
       "}\n",
       "#T_60fad_row6_col1 {\n",
       "  background-color: #c62027;\n",
       "  color: #f1f1f1;\n",
       "}\n",
       "#T_60fad_row6_col4 {\n",
       "  background-color: #199750;\n",
       "  color: #f1f1f1;\n",
       "}\n",
       "#T_60fad_row6_col6 {\n",
       "  background-color: #fff1a8;\n",
       "  color: #000000;\n",
       "}\n",
       "#T_60fad_row6_col7 {\n",
       "  background-color: #15904c;\n",
       "  color: #f1f1f1;\n",
       "}\n",
       "#T_60fad_row6_col9 {\n",
       "  background-color: #78c565;\n",
       "  color: #000000;\n",
       "}\n",
       "#T_60fad_row7_col3 {\n",
       "  background-color: #04703b;\n",
       "  color: #f1f1f1;\n",
       "}\n",
       "#T_60fad_row7_col6 {\n",
       "  background-color: #fdc574;\n",
       "  color: #000000;\n",
       "}\n",
       "#T_60fad_row7_col7 {\n",
       "  background-color: #dd3d2d;\n",
       "  color: #f1f1f1;\n",
       "}\n",
       "#T_60fad_row7_col8 {\n",
       "  background-color: #0d8044;\n",
       "  color: #f1f1f1;\n",
       "}\n",
       "#T_60fad_row7_col9 {\n",
       "  background-color: #fba35c;\n",
       "  color: #000000;\n",
       "}\n",
       "#T_60fad_row8_col1 {\n",
       "  background-color: #dff293;\n",
       "  color: #000000;\n",
       "}\n",
       "#T_60fad_row8_col5 {\n",
       "  background-color: #d9ef8b;\n",
       "  color: #000000;\n",
       "}\n",
       "#T_60fad_row8_col6 {\n",
       "  background-color: #f5fbb2;\n",
       "  color: #000000;\n",
       "}\n",
       "#T_60fad_row8_col8 {\n",
       "  background-color: #fec877;\n",
       "  color: #000000;\n",
       "}\n",
       "#T_60fad_row8_col9 {\n",
       "  background-color: #ec5c3b;\n",
       "  color: #f1f1f1;\n",
       "}\n",
       "#T_60fad_row9_col2 {\n",
       "  background-color: #fa9b58;\n",
       "  color: #000000;\n",
       "}\n",
       "#T_60fad_row9_col4 {\n",
       "  background-color: #05713c;\n",
       "  color: #f1f1f1;\n",
       "}\n",
       "#T_60fad_row9_col6 {\n",
       "  background-color: #f47044;\n",
       "  color: #f1f1f1;\n",
       "}\n",
       "#T_60fad_row9_col7 {\n",
       "  background-color: #d62f27;\n",
       "  color: #f1f1f1;\n",
       "}\n",
       "#T_60fad_row10_col1 {\n",
       "  background-color: #ab0626;\n",
       "  color: #f1f1f1;\n",
       "}\n",
       "#T_60fad_row10_col2 {\n",
       "  background-color: #de402e;\n",
       "  color: #f1f1f1;\n",
       "}\n",
       "#T_60fad_row10_col5 {\n",
       "  background-color: #07753e;\n",
       "  color: #f1f1f1;\n",
       "}\n",
       "#T_60fad_row10_col6 {\n",
       "  background-color: #9dd569;\n",
       "  color: #000000;\n",
       "}\n",
       "#T_60fad_row10_col9 {\n",
       "  background-color: #d1ec86;\n",
       "  color: #000000;\n",
       "}\n",
       "#T_60fad_row11_col10 {\n",
       "  background-color: #fffab6;\n",
       "  color: #000000;\n",
       "}\n",
       "</style>\n",
       "<table id=\"T_60fad\">\n",
       "  <thead>\n",
       "    <tr>\n",
       "      <th class=\"blank level0\" >&nbsp;</th>\n",
       "      <th id=\"T_60fad_level0_col0\" class=\"col_heading level0 col0\" >Category</th>\n",
       "      <th id=\"T_60fad_level0_col1\" class=\"col_heading level0 col1\" >202201.0</th>\n",
       "      <th id=\"T_60fad_level0_col2\" class=\"col_heading level0 col2\" >202202.0</th>\n",
       "      <th id=\"T_60fad_level0_col3\" class=\"col_heading level0 col3\" >202203.0</th>\n",
       "      <th id=\"T_60fad_level0_col4\" class=\"col_heading level0 col4\" >202204.0</th>\n",
       "      <th id=\"T_60fad_level0_col5\" class=\"col_heading level0 col5\" >202205.0</th>\n",
       "      <th id=\"T_60fad_level0_col6\" class=\"col_heading level0 col6\" >202206.0</th>\n",
       "      <th id=\"T_60fad_level0_col7\" class=\"col_heading level0 col7\" >202207.0</th>\n",
       "      <th id=\"T_60fad_level0_col8\" class=\"col_heading level0 col8\" >202208.0</th>\n",
       "      <th id=\"T_60fad_level0_col9\" class=\"col_heading level0 col9\" >202209.0</th>\n",
       "      <th id=\"T_60fad_level0_col10\" class=\"col_heading level0 col10\" >Σ</th>\n",
       "    </tr>\n",
       "  </thead>\n",
       "  <tbody>\n",
       "    <tr>\n",
       "      <th id=\"T_60fad_level0_row0\" class=\"row_heading level0 row0\" >0</th>\n",
       "      <td id=\"T_60fad_row0_col0\" class=\"data row0 col0\" >grocery</td>\n",
       "      <td id=\"T_60fad_row0_col1\" class=\"data row0 col1\" >2,046.00</td>\n",
       "      <td id=\"T_60fad_row0_col2\" class=\"data row0 col2\" >1,604.00</td>\n",
       "      <td id=\"T_60fad_row0_col3\" class=\"data row0 col3\" >1,103.00</td>\n",
       "      <td id=\"T_60fad_row0_col4\" class=\"data row0 col4\" >3,411.00</td>\n",
       "      <td id=\"T_60fad_row0_col5\" class=\"data row0 col5\" >3,306.00</td>\n",
       "      <td id=\"T_60fad_row0_col6\" class=\"data row0 col6\" >-21.00</td>\n",
       "      <td id=\"T_60fad_row0_col7\" class=\"data row0 col7\" >1,643.00</td>\n",
       "      <td id=\"T_60fad_row0_col8\" class=\"data row0 col8\" >-2,229.00</td>\n",
       "      <td id=\"T_60fad_row0_col9\" class=\"data row0 col9\" >-2,750.00</td>\n",
       "      <td id=\"T_60fad_row0_col10\" class=\"data row0 col10\" >8,113.00</td>\n",
       "    </tr>\n",
       "    <tr>\n",
       "      <th id=\"T_60fad_level0_row1\" class=\"row_heading level0 row1\" >1</th>\n",
       "      <td id=\"T_60fad_row1_col0\" class=\"data row1 col0\" >misc</td>\n",
       "      <td id=\"T_60fad_row1_col1\" class=\"data row1 col1\" >36.00</td>\n",
       "      <td id=\"T_60fad_row1_col2\" class=\"data row1 col2\" >-1,273.00</td>\n",
       "      <td id=\"T_60fad_row1_col3\" class=\"data row1 col3\" >708.00</td>\n",
       "      <td id=\"T_60fad_row1_col4\" class=\"data row1 col4\" >3,641.00</td>\n",
       "      <td id=\"T_60fad_row1_col5\" class=\"data row1 col5\" >-465.00</td>\n",
       "      <td id=\"T_60fad_row1_col6\" class=\"data row1 col6\" >-727.00</td>\n",
       "      <td id=\"T_60fad_row1_col7\" class=\"data row1 col7\" >2,870.00</td>\n",
       "      <td id=\"T_60fad_row1_col8\" class=\"data row1 col8\" >1,950.00</td>\n",
       "      <td id=\"T_60fad_row1_col9\" class=\"data row1 col9\" >-583.00</td>\n",
       "      <td id=\"T_60fad_row1_col10\" class=\"data row1 col10\" >6,157.00</td>\n",
       "    </tr>\n",
       "    <tr>\n",
       "      <th id=\"T_60fad_level0_row2\" class=\"row_heading level0 row2\" >2</th>\n",
       "      <td id=\"T_60fad_row2_col0\" class=\"data row2 col0\" >invest</td>\n",
       "      <td id=\"T_60fad_row2_col1\" class=\"data row2 col1\" >1,147.00</td>\n",
       "      <td id=\"T_60fad_row2_col2\" class=\"data row2 col2\" >398.00</td>\n",
       "      <td id=\"T_60fad_row2_col3\" class=\"data row2 col3\" >3,838.00</td>\n",
       "      <td id=\"T_60fad_row2_col4\" class=\"data row2 col4\" >1,249.00</td>\n",
       "      <td id=\"T_60fad_row2_col5\" class=\"data row2 col5\" >-1,897.00</td>\n",
       "      <td id=\"T_60fad_row2_col6\" class=\"data row2 col6\" >294.00</td>\n",
       "      <td id=\"T_60fad_row2_col7\" class=\"data row2 col7\" >1,453.00</td>\n",
       "      <td id=\"T_60fad_row2_col8\" class=\"data row2 col8\" >-2,120.00</td>\n",
       "      <td id=\"T_60fad_row2_col9\" class=\"data row2 col9\" >36.00</td>\n",
       "      <td id=\"T_60fad_row2_col10\" class=\"data row2 col10\" >4,398.00</td>\n",
       "    </tr>\n",
       "    <tr>\n",
       "      <th id=\"T_60fad_level0_row3\" class=\"row_heading level0 row3\" >3</th>\n",
       "      <td id=\"T_60fad_row3_col0\" class=\"data row3 col0\" >unk</td>\n",
       "      <td id=\"T_60fad_row3_col1\" class=\"data row3 col1\" >2,129.00</td>\n",
       "      <td id=\"T_60fad_row3_col2\" class=\"data row3 col2\" >0.00</td>\n",
       "      <td id=\"T_60fad_row3_col3\" class=\"data row3 col3\" >1,607.00</td>\n",
       "      <td id=\"T_60fad_row3_col4\" class=\"data row3 col4\" >1,476.00</td>\n",
       "      <td id=\"T_60fad_row3_col5\" class=\"data row3 col5\" >-1,948.00</td>\n",
       "      <td id=\"T_60fad_row3_col6\" class=\"data row3 col6\" >-4,213.00</td>\n",
       "      <td id=\"T_60fad_row3_col7\" class=\"data row3 col7\" >2,430.00</td>\n",
       "      <td id=\"T_60fad_row3_col8\" class=\"data row3 col8\" >3,412.00</td>\n",
       "      <td id=\"T_60fad_row3_col9\" class=\"data row3 col9\" >-2,296.00</td>\n",
       "      <td id=\"T_60fad_row3_col10\" class=\"data row3 col10\" >2,597.00</td>\n",
       "    </tr>\n",
       "    <tr>\n",
       "      <th id=\"T_60fad_level0_row4\" class=\"row_heading level0 row4\" >4</th>\n",
       "      <td id=\"T_60fad_row4_col0\" class=\"data row4 col0\" >debt</td>\n",
       "      <td id=\"T_60fad_row4_col1\" class=\"data row4 col1\" >743.00</td>\n",
       "      <td id=\"T_60fad_row4_col2\" class=\"data row4 col2\" >0.00</td>\n",
       "      <td id=\"T_60fad_row4_col3\" class=\"data row4 col3\" >162.00</td>\n",
       "      <td id=\"T_60fad_row4_col4\" class=\"data row4 col4\" >818.00</td>\n",
       "      <td id=\"T_60fad_row4_col5\" class=\"data row4 col5\" >41.00</td>\n",
       "      <td id=\"T_60fad_row4_col6\" class=\"data row4 col6\" >548.00</td>\n",
       "      <td id=\"T_60fad_row4_col7\" class=\"data row4 col7\" >-699.00</td>\n",
       "      <td id=\"T_60fad_row4_col8\" class=\"data row4 col8\" >-2,144.00</td>\n",
       "      <td id=\"T_60fad_row4_col9\" class=\"data row4 col9\" >1,506.00</td>\n",
       "      <td id=\"T_60fad_row4_col10\" class=\"data row4 col10\" >975.00</td>\n",
       "    </tr>\n",
       "    <tr>\n",
       "      <th id=\"T_60fad_level0_row5\" class=\"row_heading level0 row5\" >5</th>\n",
       "      <td id=\"T_60fad_row5_col0\" class=\"data row5 col0\" >clothing</td>\n",
       "      <td id=\"T_60fad_row5_col1\" class=\"data row5 col1\" >71.00</td>\n",
       "      <td id=\"T_60fad_row5_col2\" class=\"data row5 col2\" >508.00</td>\n",
       "      <td id=\"T_60fad_row5_col3\" class=\"data row5 col3\" >0.00</td>\n",
       "      <td id=\"T_60fad_row5_col4\" class=\"data row5 col4\" >97.00</td>\n",
       "      <td id=\"T_60fad_row5_col5\" class=\"data row5 col5\" >274.00</td>\n",
       "      <td id=\"T_60fad_row5_col6\" class=\"data row5 col6\" >-139.00</td>\n",
       "      <td id=\"T_60fad_row5_col7\" class=\"data row5 col7\" >-1,146.00</td>\n",
       "      <td id=\"T_60fad_row5_col8\" class=\"data row5 col8\" >-1,399.00</td>\n",
       "      <td id=\"T_60fad_row5_col9\" class=\"data row5 col9\" >353.00</td>\n",
       "      <td id=\"T_60fad_row5_col10\" class=\"data row5 col10\" >-1,381.00</td>\n",
       "    </tr>\n",
       "    <tr>\n",
       "      <th id=\"T_60fad_level0_row6\" class=\"row_heading level0 row6\" >6</th>\n",
       "      <td id=\"T_60fad_row6_col0\" class=\"data row6 col0\" >utility</td>\n",
       "      <td id=\"T_60fad_row6_col1\" class=\"data row6 col1\" >-865.00</td>\n",
       "      <td id=\"T_60fad_row6_col2\" class=\"data row6 col2\" >0.00</td>\n",
       "      <td id=\"T_60fad_row6_col3\" class=\"data row6 col3\" >-1,346.00</td>\n",
       "      <td id=\"T_60fad_row6_col4\" class=\"data row6 col4\" >800.00</td>\n",
       "      <td id=\"T_60fad_row6_col5\" class=\"data row6 col5\" >-1,489.00</td>\n",
       "      <td id=\"T_60fad_row6_col6\" class=\"data row6 col6\" >-88.00</td>\n",
       "      <td id=\"T_60fad_row6_col7\" class=\"data row6 col7\" >832.00</td>\n",
       "      <td id=\"T_60fad_row6_col8\" class=\"data row6 col8\" >43.00</td>\n",
       "      <td id=\"T_60fad_row6_col9\" class=\"data row6 col9\" >542.00</td>\n",
       "      <td id=\"T_60fad_row6_col10\" class=\"data row6 col10\" >-1,571.00</td>\n",
       "    </tr>\n",
       "    <tr>\n",
       "      <th id=\"T_60fad_level0_row7\" class=\"row_heading level0 row7\" >7</th>\n",
       "      <td id=\"T_60fad_row7_col0\" class=\"data row7 col0\" >tech</td>\n",
       "      <td id=\"T_60fad_row7_col1\" class=\"data row7 col1\" >97.00</td>\n",
       "      <td id=\"T_60fad_row7_col2\" class=\"data row7 col2\" >0.00</td>\n",
       "      <td id=\"T_60fad_row7_col3\" class=\"data row7 col3\" >961.00</td>\n",
       "      <td id=\"T_60fad_row7_col4\" class=\"data row7 col4\" >-2,395.00</td>\n",
       "      <td id=\"T_60fad_row7_col5\" class=\"data row7 col5\" >-1,253.00</td>\n",
       "      <td id=\"T_60fad_row7_col6\" class=\"data row7 col6\" >-307.00</td>\n",
       "      <td id=\"T_60fad_row7_col7\" class=\"data row7 col7\" >-756.00</td>\n",
       "      <td id=\"T_60fad_row7_col8\" class=\"data row7 col8\" >894.00</td>\n",
       "      <td id=\"T_60fad_row7_col9\" class=\"data row7 col9\" >-432.00</td>\n",
       "      <td id=\"T_60fad_row7_col10\" class=\"data row7 col10\" >-3,191.00</td>\n",
       "    </tr>\n",
       "    <tr>\n",
       "      <th id=\"T_60fad_level0_row8\" class=\"row_heading level0 row8\" >8</th>\n",
       "      <td id=\"T_60fad_row8_col0\" class=\"data row8 col0\" >paypal</td>\n",
       "      <td id=\"T_60fad_row8_col1\" class=\"data row8 col1\" >171.00</td>\n",
       "      <td id=\"T_60fad_row8_col2\" class=\"data row8 col2\" >0.00</td>\n",
       "      <td id=\"T_60fad_row8_col3\" class=\"data row8 col3\" >-1,580.00</td>\n",
       "      <td id=\"T_60fad_row8_col4\" class=\"data row8 col4\" >-1,336.00</td>\n",
       "      <td id=\"T_60fad_row8_col5\" class=\"data row8 col5\" >202.00</td>\n",
       "      <td id=\"T_60fad_row8_col6\" class=\"data row8 col6\" >53.00</td>\n",
       "      <td id=\"T_60fad_row8_col7\" class=\"data row8 col7\" >42.00</td>\n",
       "      <td id=\"T_60fad_row8_col8\" class=\"data row8 col8\" >-295.00</td>\n",
       "      <td id=\"T_60fad_row8_col9\" class=\"data row8 col9\" >-653.00</td>\n",
       "      <td id=\"T_60fad_row8_col10\" class=\"data row8 col10\" >-3,396.00</td>\n",
       "    </tr>\n",
       "    <tr>\n",
       "      <th id=\"T_60fad_level0_row9\" class=\"row_heading level0 row9\" >9</th>\n",
       "      <td id=\"T_60fad_row9_col0\" class=\"data row9 col0\" >travel</td>\n",
       "      <td id=\"T_60fad_row9_col1\" class=\"data row9 col1\" >1,544.00</td>\n",
       "      <td id=\"T_60fad_row9_col2\" class=\"data row9 col2\" >-455.00</td>\n",
       "      <td id=\"T_60fad_row9_col3\" class=\"data row9 col3\" >391.00</td>\n",
       "      <td id=\"T_60fad_row9_col4\" class=\"data row9 col4\" >954.00</td>\n",
       "      <td id=\"T_60fad_row9_col5\" class=\"data row9 col5\" >-3,024.00</td>\n",
       "      <td id=\"T_60fad_row9_col6\" class=\"data row9 col6\" >-591.00</td>\n",
       "      <td id=\"T_60fad_row9_col7\" class=\"data row9 col7\" >-801.00</td>\n",
       "      <td id=\"T_60fad_row9_col8\" class=\"data row9 col8\" >-1,217.00</td>\n",
       "      <td id=\"T_60fad_row9_col9\" class=\"data row9 col9\" >-1,652.00</td>\n",
       "      <td id=\"T_60fad_row9_col10\" class=\"data row9 col10\" >-4,851.00</td>\n",
       "    </tr>\n",
       "    <tr>\n",
       "      <th id=\"T_60fad_level0_row10\" class=\"row_heading level0 row10\" >10</th>\n",
       "      <td id=\"T_60fad_row10_col0\" class=\"data row10 col0\" >health</td>\n",
       "      <td id=\"T_60fad_row10_col1\" class=\"data row10 col1\" >-970.00</td>\n",
       "      <td id=\"T_60fad_row10_col2\" class=\"data row10 col2\" >-747.00</td>\n",
       "      <td id=\"T_60fad_row10_col3\" class=\"data row10 col3\" >-4,674.00</td>\n",
       "      <td id=\"T_60fad_row10_col4\" class=\"data row10 col4\" >-1,692.00</td>\n",
       "      <td id=\"T_60fad_row10_col5\" class=\"data row10 col5\" >943.00</td>\n",
       "      <td id=\"T_60fad_row10_col6\" class=\"data row10 col6\" >425.00</td>\n",
       "      <td id=\"T_60fad_row10_col7\" class=\"data row10 col7\" >-1,259.00</td>\n",
       "      <td id=\"T_60fad_row10_col8\" class=\"data row10 col8\" >-137.00</td>\n",
       "      <td id=\"T_60fad_row10_col9\" class=\"data row10 col9\" >227.00</td>\n",
       "      <td id=\"T_60fad_row10_col10\" class=\"data row10 col10\" >-7,884.00</td>\n",
       "    </tr>\n",
       "    <tr>\n",
       "      <th id=\"T_60fad_level0_row11\" class=\"row_heading level0 row11\" >11</th>\n",
       "      <td id=\"T_60fad_row11_col0\" class=\"data row11 col0\" >GrandTotal</td>\n",
       "      <td id=\"T_60fad_row11_col1\" class=\"data row11 col1\" >6,149.00</td>\n",
       "      <td id=\"T_60fad_row11_col2\" class=\"data row11 col2\" >35.00</td>\n",
       "      <td id=\"T_60fad_row11_col3\" class=\"data row11 col3\" >1,170.00</td>\n",
       "      <td id=\"T_60fad_row11_col4\" class=\"data row11 col4\" >7,023.00</td>\n",
       "      <td id=\"T_60fad_row11_col5\" class=\"data row11 col5\" >-5,310.00</td>\n",
       "      <td id=\"T_60fad_row11_col6\" class=\"data row11 col6\" >-4,766.00</td>\n",
       "      <td id=\"T_60fad_row11_col7\" class=\"data row11 col7\" >4,609.00</td>\n",
       "      <td id=\"T_60fad_row11_col8\" class=\"data row11 col8\" >-3,242.00</td>\n",
       "      <td id=\"T_60fad_row11_col9\" class=\"data row11 col9\" >-5,702.00</td>\n",
       "      <td id=\"T_60fad_row11_col10\" class=\"data row11 col10\" >-34.00</td>\n",
       "    </tr>\n",
       "  </tbody>\n",
       "</table>\n"
      ],
      "text/plain": [
       "<pandas.io.formats.style.Styler at 0x21bc2288e20>"
      ]
     },
     "metadata": {},
     "output_type": "display_data"
    }
   ],
   "source": [
    "# heatmap_time_cat(df_year,time_column='YYYYMM',max_value=500,title='Year')\n",
    "heatmap_time_cat(df_year,time_column='YYYYMM',max_value=1000,title='Year')"
   ]
  },
  {
   "cell_type": "code",
   "execution_count": 43,
   "metadata": {},
   "outputs": [],
   "source": [
    "# not working with pandas 2.0.3\n",
    "# heatmap2_year_view(df_year,title='Year_alt1')"
   ]
  },
  {
   "cell_type": "code",
   "execution_count": 44,
   "metadata": {},
   "outputs": [
    {
     "data": {
      "text/html": [
       "<h2> 🔥 HeatMap: Year_alt2</h2>"
      ],
      "text/plain": [
       "<IPython.core.display.HTML object>"
      ]
     },
     "metadata": {},
     "output_type": "display_data"
    },
    {
     "data": {
      "application/vnd.plotly.v1+json": {
       "config": {
        "plotlyServerURL": "https://plot.ly"
       },
       "data": [
        {
         "coloraxis": "coloraxis",
         "hovertemplate": "M.W: %{x}<br>DOW: %{y}<br>color: %{z}<extra></extra>",
         "name": "0",
         "texttemplate": "%{z}",
         "type": "heatmap",
         "x": [
          "01.01",
          "01.02",
          "01.03",
          "01.04",
          "02.08",
          "02.09",
          "03.09",
          "03.10",
          "03.11",
          "03.12",
          "03.13",
          "04.13",
          "04.14",
          "04.15",
          "04.16",
          "04.17",
          "05.18",
          "05.19",
          "05.20",
          "05.21",
          "05.22",
          "06.22",
          "06.23",
          "06.24",
          "06.25",
          "06.26",
          "07.26",
          "07.27",
          "07.28",
          "07.29",
          "07.30",
          "08.31",
          "08.32",
          "08.33",
          "08.34",
          "08.35",
          "09.35",
          "09.36",
          "09.37",
          "09.38"
         ],
         "xaxis": "x",
         "y": [
          "Mon",
          "Tue",
          "Wed",
          "Thu",
          "Fri"
         ],
         "yaxis": "y",
         "z": [
          [
           -452,
           545,
           0,
           1694,
           0,
           -88,
           0,
           12,
           441,
           -1058,
           -2840,
           0,
           996,
           -396,
           1130,
           1470,
           -1571,
           -4034,
           -669,
           -647,
           0,
           0,
           -2011,
           -1222,
           0,
           -3525,
           0,
           0,
           -2325,
           1350,
           1087,
           -1497,
           -2031,
           1866,
           -2322,
           -960,
           0,
           0,
           1454,
           1327
          ],
          [
           0,
           -737,
           2788,
           0,
           0,
           0,
           -84,
           0,
           -185,
           -876,
           0,
           0,
           -1806,
           850,
           -303,
           2267,
           -624,
           1212,
           -1658,
           -845,
           2801,
           0,
           1027,
           -61,
           -626,
           -385,
           0,
           1472,
           1159,
           311,
           -862,
           825,
           1308,
           -1174,
           -115,
           -467,
           0,
           -2859,
           -823,
           422
          ],
          [
           -109,
           753,
           -46,
           0,
           -747,
           0,
           1174,
           -38,
           -1802,
           970,
           619,
           0,
           943,
           919,
           554,
           213,
           0,
           1576,
           -691,
           957,
           0,
           3,
           -886,
           -927,
           1478,
           -1592,
           0,
           0,
           862,
           981,
           735,
           -227,
           -1578,
           -284,
           -164,
           -1573,
           0,
           110,
           -318,
           488
          ],
          [
           376,
           -222,
           1169,
           0,
           654,
           0,
           332,
           -268,
           -565,
           1336,
           -100,
           0,
           241,
           92,
           1462,
           -4437,
           15,
           887,
           27,
           411,
           0,
           598,
           459,
           560,
           1425,
           1677,
           0,
           0,
           1097,
           267,
           -289,
           460,
           459,
           1650,
           781,
           0,
           238,
           -2,
           -2452,
           -2620
          ],
          [
           -539,
           438,
           491,
           0,
           216,
           0,
           927,
           1784,
           392,
           999,
           0,
           998,
           1077,
           353,
           -985,
           1385,
           -206,
           -1486,
           2004,
           -2769,
           0,
           710,
           -993,
           -862,
           387,
           0,
           349,
           -409,
           -76,
           -909,
           -191,
           5,
           657,
           457,
           682,
           0,
           176,
           -1540,
           697,
           0
          ]
         ]
        }
       ],
       "layout": {
        "coloraxis": {
         "cmid": 0,
         "colorscale": [
          [
           0,
           "rgb(165,0,38)"
          ],
          [
           0.1,
           "rgb(215,48,39)"
          ],
          [
           0.2,
           "rgb(244,109,67)"
          ],
          [
           0.3,
           "rgb(253,174,97)"
          ],
          [
           0.4,
           "rgb(254,224,139)"
          ],
          [
           0.5,
           "rgb(255,255,191)"
          ],
          [
           0.6,
           "rgb(217,239,139)"
          ],
          [
           0.7,
           "rgb(166,217,106)"
          ],
          [
           0.8,
           "rgb(102,189,99)"
          ],
          [
           0.9,
           "rgb(26,152,80)"
          ],
          [
           1,
           "rgb(0,104,55)"
          ]
         ]
        },
        "height": 500,
        "margin": {
         "t": 60
        },
        "template": {
         "data": {
          "bar": [
           {
            "error_x": {
             "color": "#f2f5fa"
            },
            "error_y": {
             "color": "#f2f5fa"
            },
            "marker": {
             "line": {
              "color": "rgb(17,17,17)",
              "width": 0.5
             },
             "pattern": {
              "fillmode": "overlay",
              "size": 10,
              "solidity": 0.2
             }
            },
            "type": "bar"
           }
          ],
          "barpolar": [
           {
            "marker": {
             "line": {
              "color": "rgb(17,17,17)",
              "width": 0.5
             },
             "pattern": {
              "fillmode": "overlay",
              "size": 10,
              "solidity": 0.2
             }
            },
            "type": "barpolar"
           }
          ],
          "carpet": [
           {
            "aaxis": {
             "endlinecolor": "#A2B1C6",
             "gridcolor": "#506784",
             "linecolor": "#506784",
             "minorgridcolor": "#506784",
             "startlinecolor": "#A2B1C6"
            },
            "baxis": {
             "endlinecolor": "#A2B1C6",
             "gridcolor": "#506784",
             "linecolor": "#506784",
             "minorgridcolor": "#506784",
             "startlinecolor": "#A2B1C6"
            },
            "type": "carpet"
           }
          ],
          "choropleth": [
           {
            "colorbar": {
             "outlinewidth": 0,
             "ticks": ""
            },
            "type": "choropleth"
           }
          ],
          "contour": [
           {
            "colorbar": {
             "outlinewidth": 0,
             "ticks": ""
            },
            "colorscale": [
             [
              0,
              "#0d0887"
             ],
             [
              0.1111111111111111,
              "#46039f"
             ],
             [
              0.2222222222222222,
              "#7201a8"
             ],
             [
              0.3333333333333333,
              "#9c179e"
             ],
             [
              0.4444444444444444,
              "#bd3786"
             ],
             [
              0.5555555555555556,
              "#d8576b"
             ],
             [
              0.6666666666666666,
              "#ed7953"
             ],
             [
              0.7777777777777778,
              "#fb9f3a"
             ],
             [
              0.8888888888888888,
              "#fdca26"
             ],
             [
              1,
              "#f0f921"
             ]
            ],
            "type": "contour"
           }
          ],
          "contourcarpet": [
           {
            "colorbar": {
             "outlinewidth": 0,
             "ticks": ""
            },
            "type": "contourcarpet"
           }
          ],
          "heatmap": [
           {
            "colorbar": {
             "outlinewidth": 0,
             "ticks": ""
            },
            "colorscale": [
             [
              0,
              "#0d0887"
             ],
             [
              0.1111111111111111,
              "#46039f"
             ],
             [
              0.2222222222222222,
              "#7201a8"
             ],
             [
              0.3333333333333333,
              "#9c179e"
             ],
             [
              0.4444444444444444,
              "#bd3786"
             ],
             [
              0.5555555555555556,
              "#d8576b"
             ],
             [
              0.6666666666666666,
              "#ed7953"
             ],
             [
              0.7777777777777778,
              "#fb9f3a"
             ],
             [
              0.8888888888888888,
              "#fdca26"
             ],
             [
              1,
              "#f0f921"
             ]
            ],
            "type": "heatmap"
           }
          ],
          "heatmapgl": [
           {
            "colorbar": {
             "outlinewidth": 0,
             "ticks": ""
            },
            "colorscale": [
             [
              0,
              "#0d0887"
             ],
             [
              0.1111111111111111,
              "#46039f"
             ],
             [
              0.2222222222222222,
              "#7201a8"
             ],
             [
              0.3333333333333333,
              "#9c179e"
             ],
             [
              0.4444444444444444,
              "#bd3786"
             ],
             [
              0.5555555555555556,
              "#d8576b"
             ],
             [
              0.6666666666666666,
              "#ed7953"
             ],
             [
              0.7777777777777778,
              "#fb9f3a"
             ],
             [
              0.8888888888888888,
              "#fdca26"
             ],
             [
              1,
              "#f0f921"
             ]
            ],
            "type": "heatmapgl"
           }
          ],
          "histogram": [
           {
            "marker": {
             "pattern": {
              "fillmode": "overlay",
              "size": 10,
              "solidity": 0.2
             }
            },
            "type": "histogram"
           }
          ],
          "histogram2d": [
           {
            "colorbar": {
             "outlinewidth": 0,
             "ticks": ""
            },
            "colorscale": [
             [
              0,
              "#0d0887"
             ],
             [
              0.1111111111111111,
              "#46039f"
             ],
             [
              0.2222222222222222,
              "#7201a8"
             ],
             [
              0.3333333333333333,
              "#9c179e"
             ],
             [
              0.4444444444444444,
              "#bd3786"
             ],
             [
              0.5555555555555556,
              "#d8576b"
             ],
             [
              0.6666666666666666,
              "#ed7953"
             ],
             [
              0.7777777777777778,
              "#fb9f3a"
             ],
             [
              0.8888888888888888,
              "#fdca26"
             ],
             [
              1,
              "#f0f921"
             ]
            ],
            "type": "histogram2d"
           }
          ],
          "histogram2dcontour": [
           {
            "colorbar": {
             "outlinewidth": 0,
             "ticks": ""
            },
            "colorscale": [
             [
              0,
              "#0d0887"
             ],
             [
              0.1111111111111111,
              "#46039f"
             ],
             [
              0.2222222222222222,
              "#7201a8"
             ],
             [
              0.3333333333333333,
              "#9c179e"
             ],
             [
              0.4444444444444444,
              "#bd3786"
             ],
             [
              0.5555555555555556,
              "#d8576b"
             ],
             [
              0.6666666666666666,
              "#ed7953"
             ],
             [
              0.7777777777777778,
              "#fb9f3a"
             ],
             [
              0.8888888888888888,
              "#fdca26"
             ],
             [
              1,
              "#f0f921"
             ]
            ],
            "type": "histogram2dcontour"
           }
          ],
          "mesh3d": [
           {
            "colorbar": {
             "outlinewidth": 0,
             "ticks": ""
            },
            "type": "mesh3d"
           }
          ],
          "parcoords": [
           {
            "line": {
             "colorbar": {
              "outlinewidth": 0,
              "ticks": ""
             }
            },
            "type": "parcoords"
           }
          ],
          "pie": [
           {
            "automargin": true,
            "type": "pie"
           }
          ],
          "scatter": [
           {
            "marker": {
             "line": {
              "color": "#283442"
             }
            },
            "type": "scatter"
           }
          ],
          "scatter3d": [
           {
            "line": {
             "colorbar": {
              "outlinewidth": 0,
              "ticks": ""
             }
            },
            "marker": {
             "colorbar": {
              "outlinewidth": 0,
              "ticks": ""
             }
            },
            "type": "scatter3d"
           }
          ],
          "scattercarpet": [
           {
            "marker": {
             "colorbar": {
              "outlinewidth": 0,
              "ticks": ""
             }
            },
            "type": "scattercarpet"
           }
          ],
          "scattergeo": [
           {
            "marker": {
             "colorbar": {
              "outlinewidth": 0,
              "ticks": ""
             }
            },
            "type": "scattergeo"
           }
          ],
          "scattergl": [
           {
            "marker": {
             "line": {
              "color": "#283442"
             }
            },
            "type": "scattergl"
           }
          ],
          "scattermapbox": [
           {
            "marker": {
             "colorbar": {
              "outlinewidth": 0,
              "ticks": ""
             }
            },
            "type": "scattermapbox"
           }
          ],
          "scatterpolar": [
           {
            "marker": {
             "colorbar": {
              "outlinewidth": 0,
              "ticks": ""
             }
            },
            "type": "scatterpolar"
           }
          ],
          "scatterpolargl": [
           {
            "marker": {
             "colorbar": {
              "outlinewidth": 0,
              "ticks": ""
             }
            },
            "type": "scatterpolargl"
           }
          ],
          "scatterternary": [
           {
            "marker": {
             "colorbar": {
              "outlinewidth": 0,
              "ticks": ""
             }
            },
            "type": "scatterternary"
           }
          ],
          "surface": [
           {
            "colorbar": {
             "outlinewidth": 0,
             "ticks": ""
            },
            "colorscale": [
             [
              0,
              "#0d0887"
             ],
             [
              0.1111111111111111,
              "#46039f"
             ],
             [
              0.2222222222222222,
              "#7201a8"
             ],
             [
              0.3333333333333333,
              "#9c179e"
             ],
             [
              0.4444444444444444,
              "#bd3786"
             ],
             [
              0.5555555555555556,
              "#d8576b"
             ],
             [
              0.6666666666666666,
              "#ed7953"
             ],
             [
              0.7777777777777778,
              "#fb9f3a"
             ],
             [
              0.8888888888888888,
              "#fdca26"
             ],
             [
              1,
              "#f0f921"
             ]
            ],
            "type": "surface"
           }
          ],
          "table": [
           {
            "cells": {
             "fill": {
              "color": "#506784"
             },
             "line": {
              "color": "rgb(17,17,17)"
             }
            },
            "header": {
             "fill": {
              "color": "#2a3f5f"
             },
             "line": {
              "color": "rgb(17,17,17)"
             }
            },
            "type": "table"
           }
          ]
         },
         "layout": {
          "annotationdefaults": {
           "arrowcolor": "#f2f5fa",
           "arrowhead": 0,
           "arrowwidth": 1
          },
          "autotypenumbers": "strict",
          "coloraxis": {
           "colorbar": {
            "outlinewidth": 0,
            "ticks": ""
           }
          },
          "colorscale": {
           "diverging": [
            [
             0,
             "#8e0152"
            ],
            [
             0.1,
             "#c51b7d"
            ],
            [
             0.2,
             "#de77ae"
            ],
            [
             0.3,
             "#f1b6da"
            ],
            [
             0.4,
             "#fde0ef"
            ],
            [
             0.5,
             "#f7f7f7"
            ],
            [
             0.6,
             "#e6f5d0"
            ],
            [
             0.7,
             "#b8e186"
            ],
            [
             0.8,
             "#7fbc41"
            ],
            [
             0.9,
             "#4d9221"
            ],
            [
             1,
             "#276419"
            ]
           ],
           "sequential": [
            [
             0,
             "#0d0887"
            ],
            [
             0.1111111111111111,
             "#46039f"
            ],
            [
             0.2222222222222222,
             "#7201a8"
            ],
            [
             0.3333333333333333,
             "#9c179e"
            ],
            [
             0.4444444444444444,
             "#bd3786"
            ],
            [
             0.5555555555555556,
             "#d8576b"
            ],
            [
             0.6666666666666666,
             "#ed7953"
            ],
            [
             0.7777777777777778,
             "#fb9f3a"
            ],
            [
             0.8888888888888888,
             "#fdca26"
            ],
            [
             1,
             "#f0f921"
            ]
           ],
           "sequentialminus": [
            [
             0,
             "#0d0887"
            ],
            [
             0.1111111111111111,
             "#46039f"
            ],
            [
             0.2222222222222222,
             "#7201a8"
            ],
            [
             0.3333333333333333,
             "#9c179e"
            ],
            [
             0.4444444444444444,
             "#bd3786"
            ],
            [
             0.5555555555555556,
             "#d8576b"
            ],
            [
             0.6666666666666666,
             "#ed7953"
            ],
            [
             0.7777777777777778,
             "#fb9f3a"
            ],
            [
             0.8888888888888888,
             "#fdca26"
            ],
            [
             1,
             "#f0f921"
            ]
           ]
          },
          "colorway": [
           "#636efa",
           "#EF553B",
           "#00cc96",
           "#ab63fa",
           "#FFA15A",
           "#19d3f3",
           "#FF6692",
           "#B6E880",
           "#FF97FF",
           "#FECB52"
          ],
          "font": {
           "color": "#f2f5fa"
          },
          "geo": {
           "bgcolor": "rgb(17,17,17)",
           "lakecolor": "rgb(17,17,17)",
           "landcolor": "rgb(17,17,17)",
           "showlakes": true,
           "showland": true,
           "subunitcolor": "#506784"
          },
          "hoverlabel": {
           "align": "left"
          },
          "hovermode": "closest",
          "mapbox": {
           "style": "dark"
          },
          "paper_bgcolor": "rgb(17,17,17)",
          "plot_bgcolor": "rgb(17,17,17)",
          "polar": {
           "angularaxis": {
            "gridcolor": "#506784",
            "linecolor": "#506784",
            "ticks": ""
           },
           "bgcolor": "rgb(17,17,17)",
           "radialaxis": {
            "gridcolor": "#506784",
            "linecolor": "#506784",
            "ticks": ""
           }
          },
          "scene": {
           "xaxis": {
            "backgroundcolor": "rgb(17,17,17)",
            "gridcolor": "#506784",
            "gridwidth": 2,
            "linecolor": "#506784",
            "showbackground": true,
            "ticks": "",
            "zerolinecolor": "#C8D4E3"
           },
           "yaxis": {
            "backgroundcolor": "rgb(17,17,17)",
            "gridcolor": "#506784",
            "gridwidth": 2,
            "linecolor": "#506784",
            "showbackground": true,
            "ticks": "",
            "zerolinecolor": "#C8D4E3"
           },
           "zaxis": {
            "backgroundcolor": "rgb(17,17,17)",
            "gridcolor": "#506784",
            "gridwidth": 2,
            "linecolor": "#506784",
            "showbackground": true,
            "ticks": "",
            "zerolinecolor": "#C8D4E3"
           }
          },
          "shapedefaults": {
           "line": {
            "color": "#f2f5fa"
           }
          },
          "sliderdefaults": {
           "bgcolor": "#C8D4E3",
           "bordercolor": "rgb(17,17,17)",
           "borderwidth": 1,
           "tickwidth": 0
          },
          "ternary": {
           "aaxis": {
            "gridcolor": "#506784",
            "linecolor": "#506784",
            "ticks": ""
           },
           "baxis": {
            "gridcolor": "#506784",
            "linecolor": "#506784",
            "ticks": ""
           },
           "bgcolor": "rgb(17,17,17)",
           "caxis": {
            "gridcolor": "#506784",
            "linecolor": "#506784",
            "ticks": ""
           }
          },
          "title": {
           "x": 0.05
          },
          "updatemenudefaults": {
           "bgcolor": "#506784",
           "borderwidth": 0
          },
          "xaxis": {
           "automargin": true,
           "gridcolor": "#283442",
           "linecolor": "#506784",
           "ticks": "",
           "title": {
            "standoff": 15
           },
           "zerolinecolor": "#283442",
           "zerolinewidth": 2
          },
          "yaxis": {
           "automargin": true,
           "gridcolor": "#283442",
           "linecolor": "#506784",
           "ticks": "",
           "title": {
            "standoff": 15
           },
           "zerolinecolor": "#283442",
           "zerolinewidth": 2
          }
         }
        },
        "xaxis": {
         "anchor": "y",
         "constrain": "domain",
         "domain": [
          0,
          1
         ],
         "scaleanchor": "y",
         "side": "top",
         "title": {
          "text": "M.W"
         }
        },
        "yaxis": {
         "anchor": "x",
         "autorange": "reversed",
         "constrain": "domain",
         "domain": [
          0,
          1
         ],
         "title": {
          "text": "DOW"
         }
        }
       }
      }
     },
     "metadata": {},
     "output_type": "display_data"
    }
   ],
   "source": [
    "heatmap3_year_view(df_year,'Year_alt2')"
   ]
  },
  {
   "cell_type": "markdown",
   "metadata": {},
   "source": [
    "# 🔥🗓️ HeatCalendar"
   ]
  },
  {
   "cell_type": "code",
   "execution_count": 45,
   "metadata": {},
   "outputs": [
    {
     "data": {
      "text/plain": [
       "0"
      ]
     },
     "execution_count": 45,
     "metadata": {},
     "output_type": "execute_result"
    }
   ],
   "source": [
    "# df_year[ df_year['YYYYMMDD'] == 20231226]['Delta'].sum()\n",
    "\n",
    "df_year.query(f'YYYYMMDD == {20231226}')['Delta'].sum()\n"
   ]
  },
  {
   "cell_type": "code",
   "execution_count": 46,
   "metadata": {},
   "outputs": [
    {
     "data": {
      "text/html": [
       "<table><tr><td>2022</td><td>January</td></tr><tr><td>Mo </td><td>Tu </td><td>We </td><td>Th </td><td>Fr </td><td>Sa </td><td>Su </td></tr><tr><td style=\"height:1rem; width: 3rem; background-color:rgb(254,254,189); color:black\"><b>  <br/>0</b></td><td style=\"height:1rem; width: 3rem; background-color:rgb(254,254,189); color:black\"><b>  <br/>0</b></td><td style=\"height:1rem; width: 3rem; background-color:rgb(254,254,189); color:black\"><b>  <br/>0</b></td><td style=\"height:1rem; width: 3rem; background-color:rgb(254,254,189); color:black\"><b>  <br/>0</b></td><td style=\"height:1rem; width: 3rem; background-color:rgb(254,254,189); color:black\"><b>  <br/>0</b></td><td style=\"height:1rem; width: 3rem; background-color:rgb(254,254,189); color:black\"><b> 1<br/>0</b></td><td style=\"height:1rem; width: 3rem; background-color:rgb(254,254,189); color:black\"><b> 2<br/>0</b></td></tr><tr><td style=\"height:1rem; width: 3rem; background-color:rgb(253,222,137); color:black\"><b> 3<br/>-452</b></td><td style=\"height:1rem; width: 3rem; background-color:rgb(254,254,189); color:black\"><b> 4<br/>0</b></td><td style=\"height:1rem; width: 3rem; background-color:rgb(254,247,177); color:black\"><b> 5<br/>-109</b></td><td style=\"height:1rem; width: 3rem; background-color:rgb(222,241,147); color:black\"><b> 6<br/>376</b></td><td style=\"height:1rem; width: 3rem; background-color:rgb(253,212,129); color:black\"><b> 7<br/>-539</b></td><td style=\"height:1rem; width: 3rem; background-color:rgb(254,254,189); color:black\"><b> 8<br/>0</b></td><td style=\"height:1rem; width: 3rem; background-color:rgb(254,254,189); color:black\"><b> 9<br/>0</b></td></tr><tr><td style=\"height:1rem; width: 3rem; background-color:rgb(205,233,131); color:black\"><b>10<br/>545</b></td><td style=\"height:1rem; width: 3rem; background-color:rgb(253,190,110); color:black\"><b>11<br/>-737</b></td><td style=\"height:1rem; width: 3rem; background-color:rgb(181,223,115); color:black\"><b>12<br/>753</b></td><td style=\"height:1rem; width: 3rem; background-color:rgb(254,239,165); color:black\"><b>13<br/>-222</b></td><td style=\"height:1rem; width: 3rem; background-color:rgb(217,239,139); color:black\"><b>14<br/>438</b></td><td style=\"height:1rem; width: 3rem; background-color:rgb(254,254,189); color:black\"><b>15<br/>0</b></td><td style=\"height:1rem; width: 3rem; background-color:rgb(254,254,189); color:black\"><b>16<br/>0</b></td></tr><tr><td style=\"height:1rem; width: 3rem; background-color:rgb(254,254,189); color:black\"><b>17<br/>0</b></td><td style=\"height:1rem; width: 3rem; background-color:rgb(0,104,55); color:black\"><b>18<br/>2788</b></td><td style=\"height:1rem; width: 3rem; background-color:rgb(254,251,185); color:black\"><b>19<br/>-46</b></td><td style=\"height:1rem; width: 3rem; background-color:rgb(124,198,101); color:black\"><b>20<br/>1169</b></td><td style=\"height:1rem; width: 3rem; background-color:rgb(211,236,135); color:black\"><b>21<br/>491</b></td><td style=\"height:1rem; width: 3rem; background-color:rgb(254,254,189); color:black\"><b>22<br/>0</b></td><td style=\"height:1rem; width: 3rem; background-color:rgb(254,254,189); color:black\"><b>23<br/>0</b></td></tr><tr><td style=\"height:1rem; width: 3rem; background-color:rgb(39,158,83); color:black\"><b>24<br/>1694</b></td><td style=\"height:1rem; width: 3rem; background-color:rgb(254,254,189); color:black\"><b>25<br/>0</b></td><td style=\"height:1rem; width: 3rem; background-color:rgb(254,254,189); color:black\"><b>26<br/>0</b></td><td style=\"height:1rem; width: 3rem; background-color:rgb(254,254,189); color:black\"><b>27<br/>0</b></td><td style=\"height:1rem; width: 3rem; background-color:rgb(254,254,189); color:black\"><b>28<br/>0</b></td><td style=\"height:1rem; width: 3rem; background-color:rgb(254,254,189); color:black\"><b>29<br/>0</b></td><td style=\"height:1rem; width: 3rem; background-color:rgb(254,254,189); color:black\"><b>30<br/>0</b></td></tr><tr><td style=\"height:1rem; width: 3rem; background-color:rgb(254,254,189); color:black\"><b>31<br/>0</b></td></tr><tr></tr></table>"
      ],
      "text/plain": [
       "<IPython.core.display.HTML object>"
      ]
     },
     "metadata": {},
     "output_type": "display_data"
    },
    {
     "data": {
      "text/html": [
       "<table><tr><td>2022</td><td>February</td></tr><tr><td>Mo </td><td>Tu </td><td>We </td><td>Th </td><td>Fr </td><td>Sa </td><td>Su </td></tr><tr><td style=\"height:1rem; width: 3rem; background-color:rgb(254,254,189); color:black\"><b>  <br/>0</b></td><td style=\"height:1rem; width: 3rem; background-color:rgb(254,254,189); color:black\"><b> 1<br/>0</b></td><td style=\"height:1rem; width: 3rem; background-color:rgb(254,254,189); color:black\"><b> 2<br/>0</b></td><td style=\"height:1rem; width: 3rem; background-color:rgb(254,254,189); color:black\"><b> 3<br/>0</b></td><td style=\"height:1rem; width: 3rem; background-color:rgb(254,254,189); color:black\"><b> 4<br/>0</b></td><td style=\"height:1rem; width: 3rem; background-color:rgb(254,254,189); color:black\"><b> 5<br/>0</b></td><td style=\"height:1rem; width: 3rem; background-color:rgb(254,254,189); color:black\"><b> 6<br/>0</b></td></tr><tr><td style=\"height:1rem; width: 3rem; background-color:rgb(254,254,189); color:black\"><b> 7<br/>0</b></td><td style=\"height:1rem; width: 3rem; background-color:rgb(254,254,189); color:black\"><b> 8<br/>0</b></td><td style=\"height:1rem; width: 3rem; background-color:rgb(254,254,189); color:black\"><b> 9<br/>0</b></td><td style=\"height:1rem; width: 3rem; background-color:rgb(254,254,189); color:black\"><b>10<br/>0</b></td><td style=\"height:1rem; width: 3rem; background-color:rgb(254,254,189); color:black\"><b>11<br/>0</b></td><td style=\"height:1rem; width: 3rem; background-color:rgb(254,254,189); color:black\"><b>12<br/>0</b></td><td style=\"height:1rem; width: 3rem; background-color:rgb(254,254,189); color:black\"><b>13<br/>0</b></td></tr><tr><td style=\"height:1rem; width: 3rem; background-color:rgb(254,254,189); color:black\"><b>14<br/>0</b></td><td style=\"height:1rem; width: 3rem; background-color:rgb(254,254,189); color:black\"><b>15<br/>0</b></td><td style=\"height:1rem; width: 3rem; background-color:rgb(254,254,189); color:black\"><b>16<br/>0</b></td><td style=\"height:1rem; width: 3rem; background-color:rgb(254,254,189); color:black\"><b>17<br/>0</b></td><td style=\"height:1rem; width: 3rem; background-color:rgb(254,254,189); color:black\"><b>18<br/>0</b></td><td style=\"height:1rem; width: 3rem; background-color:rgb(254,254,189); color:black\"><b>19<br/>0</b></td><td style=\"height:1rem; width: 3rem; background-color:rgb(254,254,189); color:black\"><b>20<br/>0</b></td></tr><tr><td style=\"height:1rem; width: 3rem; background-color:rgb(254,254,189); color:black\"><b>21<br/>0</b></td><td style=\"height:1rem; width: 3rem; background-color:rgb(254,254,189); color:black\"><b>22<br/>0</b></td><td style=\"height:1rem; width: 3rem; background-color:rgb(253,188,109); color:black\"><b>23<br/>-747</b></td><td style=\"height:1rem; width: 3rem; background-color:rgb(193,228,123); color:black\"><b>24<br/>654</b></td><td style=\"height:1rem; width: 3rem; background-color:rgb(236,247,165); color:black\"><b>25<br/>216</b></td><td style=\"height:1rem; width: 3rem; background-color:rgb(254,254,189); color:black\"><b>26<br/>0</b></td><td style=\"height:1rem; width: 3rem; background-color:rgb(254,254,189); color:black\"><b>27<br/>0</b></td></tr><tr><td style=\"height:1rem; width: 3rem; background-color:rgb(254,248,179); color:black\"><b>28<br/>-88</b></td></tr><tr></tr></table>"
      ],
      "text/plain": [
       "<IPython.core.display.HTML object>"
      ]
     },
     "metadata": {},
     "output_type": "display_data"
    },
    {
     "data": {
      "text/html": [
       "<table><tr><td>2022</td><td>March</td></tr><tr><td>Mo </td><td>Tu </td><td>We </td><td>Th </td><td>Fr </td><td>Sa </td><td>Su </td></tr><tr><td style=\"height:1rem; width: 3rem; background-color:rgb(254,254,189); color:black\"><b>  <br/>0</b></td><td style=\"height:1rem; width: 3rem; background-color:rgb(254,249,181); color:black\"><b> 1<br/>-84</b></td><td style=\"height:1rem; width: 3rem; background-color:rgb(124,198,101); color:black\"><b> 2<br/>1174</b></td><td style=\"height:1rem; width: 3rem; background-color:rgb(225,242,151); color:black\"><b> 3<br/>332</b></td><td style=\"height:1rem; width: 3rem; background-color:rgb(159,214,105); color:black\"><b> 4<br/>927</b></td><td style=\"height:1rem; width: 3rem; background-color:rgb(254,254,189); color:black\"><b> 5<br/>0</b></td><td style=\"height:1rem; width: 3rem; background-color:rgb(254,254,189); color:black\"><b> 6<br/>0</b></td></tr><tr><td style=\"height:1rem; width: 3rem; background-color:rgb(254,254,189); color:black\"><b> 7<br/>12</b></td><td style=\"height:1rem; width: 3rem; background-color:rgb(254,254,189); color:black\"><b> 8<br/>0</b></td><td style=\"height:1rem; width: 3rem; background-color:rgb(254,251,185); color:black\"><b> 9<br/>-38</b></td><td style=\"height:1rem; width: 3rem; background-color:rgb(254,236,159); color:black\"><b>10<br/>-268</b></td><td style=\"height:1rem; width: 3rem; background-color:rgb(25,151,79); color:black\"><b>11<br/>1784</b></td><td style=\"height:1rem; width: 3rem; background-color:rgb(254,254,189); color:black\"><b>12<br/>0</b></td><td style=\"height:1rem; width: 3rem; background-color:rgb(254,254,189); color:black\"><b>13<br/>0</b></td></tr><tr><td style=\"height:1rem; width: 3rem; background-color:rgb(217,239,139); color:black\"><b>14<br/>441</b></td><td style=\"height:1rem; width: 3rem; background-color:rgb(254,242,169); color:black\"><b>15<br/>-185</b></td><td style=\"height:1rem; width: 3rem; background-color:rgb(212,45,38); color:black\"><b>16<br/>-1802</b></td><td style=\"height:1rem; width: 3rem; background-color:rgb(253,210,127); color:black\"><b>17<br/>-565</b></td><td style=\"height:1rem; width: 3rem; background-color:rgb(221,240,145); color:black\"><b>18<br/>392</b></td><td style=\"height:1rem; width: 3rem; background-color:rgb(254,254,189); color:black\"><b>19<br/>0</b></td><td style=\"height:1rem; width: 3rem; background-color:rgb(254,254,189); color:black\"><b>20<br/>0</b></td></tr><tr><td style=\"height:1rem; width: 3rem; background-color:rgb(249,147,84); color:black\"><b>21<br/>-1058</b></td><td style=\"height:1rem; width: 3rem; background-color:rgb(253,174,97); color:black\"><b>22<br/>-876</b></td><td style=\"height:1rem; width: 3rem; background-color:rgb(154,212,104); color:black\"><b>23<br/>970</b></td><td style=\"height:1rem; width: 3rem; background-color:rgb(99,187,98); color:black\"><b>24<br/>1336</b></td><td style=\"height:1rem; width: 3rem; background-color:rgb(149,209,104); color:black\"><b>25<br/>999</b></td><td style=\"height:1rem; width: 3rem; background-color:rgb(254,254,189); color:black\"><b>26<br/>0</b></td><td style=\"height:1rem; width: 3rem; background-color:rgb(254,254,189); color:black\"><b>27<br/>0</b></td></tr><tr><td style=\"height:1rem; width: 3rem; background-color:rgb(165,0,38); color:black\"><b>28<br/>-2840</b></td><td style=\"height:1rem; width: 3rem; background-color:rgb(254,254,189); color:black\"><b>29<br/>0</b></td><td style=\"height:1rem; width: 3rem; background-color:rgb(197,230,126); color:black\"><b>30<br/>619</b></td><td style=\"height:1rem; width: 3rem; background-color:rgb(254,248,179); color:black\"><b>31<br/>-100</b></td></tr><tr></tr></table>"
      ],
      "text/plain": [
       "<IPython.core.display.HTML object>"
      ]
     },
     "metadata": {},
     "output_type": "display_data"
    },
    {
     "data": {
      "text/html": [
       "<table><tr><td>2022</td><td>April</td></tr><tr><td>Mo </td><td>Tu </td><td>We </td><td>Th </td><td>Fr </td><td>Sa </td><td>Su </td></tr><tr><td style=\"height:1rem; width: 3rem; background-color:rgb(254,254,189); color:black\"><b>  <br/>0</b></td><td style=\"height:1rem; width: 3rem; background-color:rgb(254,254,189); color:black\"><b>  <br/>0</b></td><td style=\"height:1rem; width: 3rem; background-color:rgb(254,254,189); color:black\"><b>  <br/>0</b></td><td style=\"height:1rem; width: 3rem; background-color:rgb(254,254,189); color:black\"><b>  <br/>0</b></td><td style=\"height:1rem; width: 3rem; background-color:rgb(149,209,104); color:black\"><b> 1<br/>998</b></td><td style=\"height:1rem; width: 3rem; background-color:rgb(254,254,189); color:black\"><b> 2<br/>0</b></td><td style=\"height:1rem; width: 3rem; background-color:rgb(254,254,189); color:black\"><b> 3<br/>0</b></td></tr><tr><td style=\"height:1rem; width: 3rem; background-color:rgb(149,209,104); color:black\"><b> 4<br/>996</b></td><td style=\"height:1rem; width: 3rem; background-color:rgb(210,43,38); color:black\"><b> 5<br/>-1806</b></td><td style=\"height:1rem; width: 3rem; background-color:rgb(157,213,105); color:black\"><b> 6<br/>943</b></td><td style=\"height:1rem; width: 3rem; background-color:rgb(234,246,163); color:black\"><b> 7<br/>241</b></td><td style=\"height:1rem; width: 3rem; background-color:rgb(137,204,102); color:black\"><b> 8<br/>1077</b></td><td style=\"height:1rem; width: 3rem; background-color:rgb(254,254,189); color:black\"><b> 9<br/>0</b></td><td style=\"height:1rem; width: 3rem; background-color:rgb(254,254,189); color:black\"><b>10<br/>0</b></td></tr><tr><td style=\"height:1rem; width: 3rem; background-color:rgb(254,227,145); color:black\"><b>11<br/>-396</b></td><td style=\"height:1rem; width: 3rem; background-color:rgb(169,218,107); color:black\"><b>12<br/>850</b></td><td style=\"height:1rem; width: 3rem; background-color:rgb(159,214,105); color:black\"><b>13<br/>919</b></td><td style=\"height:1rem; width: 3rem; background-color:rgb(246,251,179); color:black\"><b>14<br/>92</b></td><td style=\"height:1rem; width: 3rem; background-color:rgb(224,242,149); color:black\"><b>15<br/>353</b></td><td style=\"height:1rem; width: 3rem; background-color:rgb(254,254,189); color:black\"><b>16<br/>0</b></td><td style=\"height:1rem; width: 3rem; background-color:rgb(254,254,189); color:black\"><b>17<br/>0</b></td></tr><tr><td style=\"height:1rem; width: 3rem; background-color:rgb(129,201,102); color:black\"><b>18<br/>1130</b></td><td style=\"height:1rem; width: 3rem; background-color:rgb(254,233,155); color:black\"><b>19<br/>-303</b></td><td style=\"height:1rem; width: 3rem; background-color:rgb(205,233,131); color:black\"><b>20<br/>554</b></td><td style=\"height:1rem; width: 3rem; background-color:rgb(78,177,93); color:black\"><b>21<br/>1462</b></td><td style=\"height:1rem; width: 3rem; background-color:rgb(251,159,90); color:black\"><b>22<br/>-985</b></td><td style=\"height:1rem; width: 3rem; background-color:rgb(254,254,189); color:black\"><b>23<br/>0</b></td><td style=\"height:1rem; width: 3rem; background-color:rgb(254,254,189); color:black\"><b>24<br/>0</b></td></tr><tr><td style=\"height:1rem; width: 3rem; background-color:rgb(78,177,93); color:black\"><b>25<br/>1470</b></td><td style=\"height:1rem; width: 3rem; background-color:rgb(0,104,55); color:black\"><b>26<br/>2267</b></td><td style=\"height:1rem; width: 3rem; background-color:rgb(236,247,165); color:black\"><b>27<br/>213</b></td><td style=\"height:1rem; width: 3rem; background-color:rgb(165,0,38); color:black\"><b>28<br/>-4437</b></td><td style=\"height:1rem; width: 3rem; background-color:rgb(93,184,96); color:black\"><b>29<br/>1385</b></td><td style=\"height:1rem; width: 3rem; background-color:rgb(254,254,189); color:black\"><b>30<br/>0</b></td></tr><tr></tr></table>"
      ],
      "text/plain": [
       "<IPython.core.display.HTML object>"
      ]
     },
     "metadata": {},
     "output_type": "display_data"
    },
    {
     "data": {
      "text/html": [
       "<table><tr><td>2022</td><td>May</td></tr><tr><td>Mo </td><td>Tu </td><td>We </td><td>Th </td><td>Fr </td><td>Sa </td><td>Su </td></tr><tr><td style=\"height:1rem; width: 3rem; background-color:rgb(254,254,189); color:black\"><b>  <br/>0</b></td><td style=\"height:1rem; width: 3rem; background-color:rgb(254,254,189); color:black\"><b>  <br/>0</b></td><td style=\"height:1rem; width: 3rem; background-color:rgb(254,254,189); color:black\"><b>  <br/>0</b></td><td style=\"height:1rem; width: 3rem; background-color:rgb(254,254,189); color:black\"><b>  <br/>0</b></td><td style=\"height:1rem; width: 3rem; background-color:rgb(254,254,189); color:black\"><b>  <br/>0</b></td><td style=\"height:1rem; width: 3rem; background-color:rgb(254,254,189); color:black\"><b>  <br/>0</b></td><td style=\"height:1rem; width: 3rem; background-color:rgb(254,254,189); color:black\"><b> 1<br/>0</b></td></tr><tr><td style=\"height:1rem; width: 3rem; background-color:rgb(228,75,51); color:black\"><b> 2<br/>-1571</b></td><td style=\"height:1rem; width: 3rem; background-color:rgb(253,202,120); color:black\"><b> 3<br/>-624</b></td><td style=\"height:1rem; width: 3rem; background-color:rgb(254,254,189); color:black\"><b> 4<br/>0</b></td><td style=\"height:1rem; width: 3rem; background-color:rgb(254,254,189); color:black\"><b> 5<br/>15</b></td><td style=\"height:1rem; width: 3rem; background-color:rgb(254,241,167); color:black\"><b> 6<br/>-206</b></td><td style=\"height:1rem; width: 3rem; background-color:rgb(254,254,189); color:black\"><b> 7<br/>0</b></td><td style=\"height:1rem; width: 3rem; background-color:rgb(254,254,189); color:black\"><b> 8<br/>0</b></td></tr><tr><td style=\"height:1rem; width: 3rem; background-color:rgb(165,0,38); color:black\"><b> 9<br/>-4034</b></td><td style=\"height:1rem; width: 3rem; background-color:rgb(119,196,100); color:black\"><b>10<br/>1212</b></td><td style=\"height:1rem; width: 3rem; background-color:rgb(60,168,88); color:black\"><b>11<br/>1576</b></td><td style=\"height:1rem; width: 3rem; background-color:rgb(164,216,105); color:black\"><b>12<br/>887</b></td><td style=\"height:1rem; width: 3rem; background-color:rgb(233,87,57); color:black\"><b>13<br/>-1486</b></td><td style=\"height:1rem; width: 3rem; background-color:rgb(254,254,189); color:black\"><b>14<br/>0</b></td><td style=\"height:1rem; width: 3rem; background-color:rgb(254,254,189); color:black\"><b>15<br/>0</b></td></tr><tr><td style=\"height:1rem; width: 3rem; background-color:rgb(253,198,117); color:black\"><b>16<br/>-669</b></td><td style=\"height:1rem; width: 3rem; background-color:rgb(222,63,46); color:black\"><b>17<br/>-1658</b></td><td style=\"height:1rem; width: 3rem; background-color:rgb(253,196,115); color:black\"><b>18<br/>-691</b></td><td style=\"height:1rem; width: 3rem; background-color:rgb(252,254,187); color:black\"><b>19<br/>27</b></td><td style=\"height:1rem; width: 3rem; background-color:rgb(12,126,66); color:black\"><b>20<br/>2004</b></td><td style=\"height:1rem; width: 3rem; background-color:rgb(254,254,189); color:black\"><b>21<br/>0</b></td><td style=\"height:1rem; width: 3rem; background-color:rgb(254,254,189); color:black\"><b>22<br/>0</b></td></tr><tr><td style=\"height:1rem; width: 3rem; background-color:rgb(253,200,119); color:black\"><b>23<br/>-647</b></td><td style=\"height:1rem; width: 3rem; background-color:rgb(253,178,101); color:black\"><b>24<br/>-845</b></td><td style=\"height:1rem; width: 3rem; background-color:rgb(154,212,104); color:black\"><b>25<br/>957</b></td><td style=\"height:1rem; width: 3rem; background-color:rgb(219,240,143); color:black\"><b>26<br/>411</b></td><td style=\"height:1rem; width: 3rem; background-color:rgb(165,0,38); color:black\"><b>27<br/>-2769</b></td><td style=\"height:1rem; width: 3rem; background-color:rgb(254,254,189); color:black\"><b>28<br/>0</b></td><td style=\"height:1rem; width: 3rem; background-color:rgb(254,254,189); color:black\"><b>29<br/>0</b></td></tr><tr><td style=\"height:1rem; width: 3rem; background-color:rgb(254,254,189); color:black\"><b>30<br/>0</b></td><td style=\"height:1rem; width: 3rem; background-color:rgb(0,104,55); color:black\"><b>31<br/>2801</b></td></tr><tr></tr></table>"
      ],
      "text/plain": [
       "<IPython.core.display.HTML object>"
      ]
     },
     "metadata": {},
     "output_type": "display_data"
    },
    {
     "data": {
      "text/html": [
       "<table><tr><td>2022</td><td>June</td></tr><tr><td>Mo </td><td>Tu </td><td>We </td><td>Th </td><td>Fr </td><td>Sa </td><td>Su </td></tr><tr><td style=\"height:1rem; width: 3rem; background-color:rgb(254,254,189); color:black\"><b>  <br/>0</b></td><td style=\"height:1rem; width: 3rem; background-color:rgb(254,254,189); color:black\"><b>  <br/>0</b></td><td style=\"height:1rem; width: 3rem; background-color:rgb(254,254,189); color:black\"><b> 1<br/>3</b></td><td style=\"height:1rem; width: 3rem; background-color:rgb(199,231,127); color:black\"><b> 2<br/>598</b></td><td style=\"height:1rem; width: 3rem; background-color:rgb(187,226,119); color:black\"><b> 3<br/>710</b></td><td style=\"height:1rem; width: 3rem; background-color:rgb(254,254,189); color:black\"><b> 4<br/>0</b></td><td style=\"height:1rem; width: 3rem; background-color:rgb(254,254,189); color:black\"><b> 5<br/>0</b></td></tr><tr><td style=\"height:1rem; width: 3rem; background-color:rgb(186,20,38); color:black\"><b> 6<br/>-2011</b></td><td style=\"height:1rem; width: 3rem; background-color:rgb(144,207,103); color:black\"><b> 7<br/>1027</b></td><td style=\"height:1rem; width: 3rem; background-color:rgb(252,172,96); color:black\"><b> 8<br/>-886</b></td><td style=\"height:1rem; width: 3rem; background-color:rgb(215,238,137); color:black\"><b> 9<br/>459</b></td><td style=\"height:1rem; width: 3rem; background-color:rgb(250,157,89); color:black\"><b>10<br/>-993</b></td><td style=\"height:1rem; width: 3rem; background-color:rgb(254,254,189); color:black\"><b>11<br/>0</b></td><td style=\"height:1rem; width: 3rem; background-color:rgb(254,254,189); color:black\"><b>12<br/>0</b></td></tr><tr><td style=\"height:1rem; width: 3rem; background-color:rgb(246,124,74); color:black\"><b>13<br/>-1222</b></td><td style=\"height:1rem; width: 3rem; background-color:rgb(254,250,183); color:black\"><b>14<br/>-61</b></td><td style=\"height:1rem; width: 3rem; background-color:rgb(252,167,94); color:black\"><b>15<br/>-927</b></td><td style=\"height:1rem; width: 3rem; background-color:rgb(203,232,129); color:black\"><b>16<br/>560</b></td><td style=\"height:1rem; width: 3rem; background-color:rgb(253,176,99); color:black\"><b>17<br/>-862</b></td><td style=\"height:1rem; width: 3rem; background-color:rgb(254,254,189); color:black\"><b>18<br/>0</b></td><td style=\"height:1rem; width: 3rem; background-color:rgb(254,254,189); color:black\"><b>19<br/>0</b></td></tr><tr><td style=\"height:1rem; width: 3rem; background-color:rgb(254,254,189); color:black\"><b>20<br/>0</b></td><td style=\"height:1rem; width: 3rem; background-color:rgb(253,202,120); color:black\"><b>21<br/>-626</b></td><td style=\"height:1rem; width: 3rem; background-color:rgb(75,175,92); color:black\"><b>22<br/>1478</b></td><td style=\"height:1rem; width: 3rem; background-color:rgb(84,180,94); color:black\"><b>23<br/>1425</b></td><td style=\"height:1rem; width: 3rem; background-color:rgb(221,240,145); color:black\"><b>24<br/>387</b></td><td style=\"height:1rem; width: 3rem; background-color:rgb(254,254,189); color:black\"><b>25<br/>0</b></td><td style=\"height:1rem; width: 3rem; background-color:rgb(254,254,189); color:black\"><b>26<br/>0</b></td></tr><tr><td style=\"height:1rem; width: 3rem; background-color:rgb(165,0,38); color:black\"><b>27<br/>-3525</b></td><td style=\"height:1rem; width: 3rem; background-color:rgb(254,227,145); color:black\"><b>28<br/>-385</b></td><td style=\"height:1rem; width: 3rem; background-color:rgb(226,73,50); color:black\"><b>29<br/>-1592</b></td><td style=\"height:1rem; width: 3rem; background-color:rgb(42,159,84); color:black\"><b>30<br/>1677</b></td></tr><tr></tr></table>"
      ],
      "text/plain": [
       "<IPython.core.display.HTML object>"
      ]
     },
     "metadata": {},
     "output_type": "display_data"
    },
    {
     "data": {
      "text/html": [
       "<table><tr><td>2022</td><td>July</td></tr><tr><td>Mo </td><td>Tu </td><td>We </td><td>Th </td><td>Fr </td><td>Sa </td><td>Su </td></tr><tr><td style=\"height:1rem; width: 3rem; background-color:rgb(254,254,189); color:black\"><b>  <br/>0</b></td><td style=\"height:1rem; width: 3rem; background-color:rgb(254,254,189); color:black\"><b>  <br/>0</b></td><td style=\"height:1rem; width: 3rem; background-color:rgb(254,254,189); color:black\"><b>  <br/>0</b></td><td style=\"height:1rem; width: 3rem; background-color:rgb(254,254,189); color:black\"><b>  <br/>0</b></td><td style=\"height:1rem; width: 3rem; background-color:rgb(224,242,149); color:black\"><b> 1<br/>349</b></td><td style=\"height:1rem; width: 3rem; background-color:rgb(254,254,189); color:black\"><b> 2<br/>0</b></td><td style=\"height:1rem; width: 3rem; background-color:rgb(254,254,189); color:black\"><b> 3<br/>0</b></td></tr><tr><td style=\"height:1rem; width: 3rem; background-color:rgb(254,254,189); color:black\"><b> 4<br/>0</b></td><td style=\"height:1rem; width: 3rem; background-color:rgb(78,177,93); color:black\"><b> 5<br/>1472</b></td><td style=\"height:1rem; width: 3rem; background-color:rgb(254,254,189); color:black\"><b> 6<br/>0</b></td><td style=\"height:1rem; width: 3rem; background-color:rgb(254,254,189); color:black\"><b> 7<br/>0</b></td><td style=\"height:1rem; width: 3rem; background-color:rgb(254,226,143); color:black\"><b> 8<br/>-409</b></td><td style=\"height:1rem; width: 3rem; background-color:rgb(254,254,189); color:black\"><b> 9<br/>0</b></td><td style=\"height:1rem; width: 3rem; background-color:rgb(254,254,189); color:black\"><b>10<br/>0</b></td></tr><tr><td style=\"height:1rem; width: 3rem; background-color:rgb(165,0,38); color:black\"><b>11<br/>-2325</b></td><td style=\"height:1rem; width: 3rem; background-color:rgb(127,199,101); color:black\"><b>12<br/>1159</b></td><td style=\"height:1rem; width: 3rem; background-color:rgb(169,218,107); color:black\"><b>13<br/>862</b></td><td style=\"height:1rem; width: 3rem; background-color:rgb(134,203,102); color:black\"><b>14<br/>1097</b></td><td style=\"height:1rem; width: 3rem; background-color:rgb(254,249,181); color:black\"><b>15<br/>-76</b></td><td style=\"height:1rem; width: 3rem; background-color:rgb(254,254,189); color:black\"><b>16<br/>0</b></td><td style=\"height:1rem; width: 3rem; background-color:rgb(254,254,189); color:black\"><b>17<br/>0</b></td></tr><tr><td style=\"height:1rem; width: 3rem; background-color:rgb(99,187,98); color:black\"><b>18<br/>1350</b></td><td style=\"height:1rem; width: 3rem; background-color:rgb(228,244,155); color:black\"><b>19<br/>311</b></td><td style=\"height:1rem; width: 3rem; background-color:rgb(152,210,104); color:black\"><b>20<br/>981</b></td><td style=\"height:1rem; width: 3rem; background-color:rgb(231,245,159); color:black\"><b>21<br/>267</b></td><td style=\"height:1rem; width: 3rem; background-color:rgb(252,170,95); color:black\"><b>22<br/>-909</b></td><td style=\"height:1rem; width: 3rem; background-color:rgb(254,254,189); color:black\"><b>23<br/>0</b></td><td style=\"height:1rem; width: 3rem; background-color:rgb(254,254,189); color:black\"><b>24<br/>0</b></td></tr><tr><td style=\"height:1rem; width: 3rem; background-color:rgb(137,204,102); color:black\"><b>25<br/>1087</b></td><td style=\"height:1rem; width: 3rem; background-color:rgb(253,176,99); color:black\"><b>26<br/>-862</b></td><td style=\"height:1rem; width: 3rem; background-color:rgb(183,224,117); color:black\"><b>27<br/>735</b></td><td style=\"height:1rem; width: 3rem; background-color:rgb(254,234,157); color:black\"><b>28<br/>-289</b></td><td style=\"height:1rem; width: 3rem; background-color:rgb(254,241,167); color:black\"><b>29<br/>-191</b></td><td style=\"height:1rem; width: 3rem; background-color:rgb(254,254,189); color:black\"><b>30<br/>0</b></td><td style=\"height:1rem; width: 3rem; background-color:rgb(254,254,189); color:black\"><b>31<br/>0</b></td></tr><tr></tr></table>"
      ],
      "text/plain": [
       "<IPython.core.display.HTML object>"
      ]
     },
     "metadata": {},
     "output_type": "display_data"
    },
    {
     "data": {
      "text/html": [
       "<table><tr><td>2022</td><td>August</td></tr><tr><td>Mo </td><td>Tu </td><td>We </td><td>Th </td><td>Fr </td><td>Sa </td><td>Su </td></tr><tr><td style=\"height:1rem; width: 3rem; background-color:rgb(232,85,56); color:black\"><b> 1<br/>-1497</b></td><td style=\"height:1rem; width: 3rem; background-color:rgb(173,220,110); color:black\"><b> 2<br/>825</b></td><td style=\"height:1rem; width: 3rem; background-color:rgb(254,238,163); color:black\"><b> 3<br/>-227</b></td><td style=\"height:1rem; width: 3rem; background-color:rgb(215,238,137); color:black\"><b> 4<br/>460</b></td><td style=\"height:1rem; width: 3rem; background-color:rgb(254,254,189); color:black\"><b> 5<br/>5</b></td><td style=\"height:1rem; width: 3rem; background-color:rgb(254,254,189); color:black\"><b> 6<br/>0</b></td><td style=\"height:1rem; width: 3rem; background-color:rgb(254,254,189); color:black\"><b> 7<br/>0</b></td></tr><tr><td style=\"height:1rem; width: 3rem; background-color:rgb(184,18,38); color:black\"><b> 8<br/>-2031</b></td><td style=\"height:1rem; width: 3rem; background-color:rgb(104,190,99); color:black\"><b> 9<br/>1308</b></td><td style=\"height:1rem; width: 3rem; background-color:rgb(226,73,50); color:black\"><b>10<br/>-1578</b></td><td style=\"height:1rem; width: 3rem; background-color:rgb(215,238,137); color:black\"><b>11<br/>459</b></td><td style=\"height:1rem; width: 3rem; background-color:rgb(193,228,123); color:black\"><b>12<br/>657</b></td><td style=\"height:1rem; width: 3rem; background-color:rgb(254,254,189); color:black\"><b>13<br/>0</b></td><td style=\"height:1rem; width: 3rem; background-color:rgb(254,254,189); color:black\"><b>14<br/>0</b></td></tr><tr><td style=\"height:1rem; width: 3rem; background-color:rgb(20,141,74); color:black\"><b>15<br/>1866</b></td><td style=\"height:1rem; width: 3rem; background-color:rgb(247,131,77); color:black\"><b>16<br/>-1174</b></td><td style=\"height:1rem; width: 3rem; background-color:rgb(254,234,157); color:black\"><b>17<br/>-284</b></td><td style=\"height:1rem; width: 3rem; background-color:rgb(45,161,84); color:black\"><b>18<br/>1650</b></td><td style=\"height:1rem; width: 3rem; background-color:rgb(215,238,137); color:black\"><b>19<br/>457</b></td><td style=\"height:1rem; width: 3rem; background-color:rgb(254,254,189); color:black\"><b>20<br/>0</b></td><td style=\"height:1rem; width: 3rem; background-color:rgb(254,254,189); color:black\"><b>21<br/>0</b></td></tr><tr><td style=\"height:1rem; width: 3rem; background-color:rgb(165,0,38); color:black\"><b>22<br/>-2322</b></td><td style=\"height:1rem; width: 3rem; background-color:rgb(254,247,177); color:black\"><b>23<br/>-115</b></td><td style=\"height:1rem; width: 3rem; background-color:rgb(254,243,171); color:black\"><b>24<br/>-164</b></td><td style=\"height:1rem; width: 3rem; background-color:rgb(177,221,113); color:black\"><b>25<br/>781</b></td><td style=\"height:1rem; width: 3rem; background-color:rgb(189,226,120); color:black\"><b>26<br/>682</b></td><td style=\"height:1rem; width: 3rem; background-color:rgb(254,254,189); color:black\"><b>27<br/>0</b></td><td style=\"height:1rem; width: 3rem; background-color:rgb(254,254,189); color:black\"><b>28<br/>0</b></td></tr><tr><td style=\"height:1rem; width: 3rem; background-color:rgb(251,162,91); color:black\"><b>29<br/>-960</b></td><td style=\"height:1rem; width: 3rem; background-color:rgb(253,222,137); color:black\"><b>30<br/>-467</b></td><td style=\"height:1rem; width: 3rem; background-color:rgb(228,75,51); color:black\"><b>31<br/>-1573</b></td></tr><tr></tr></table>"
      ],
      "text/plain": [
       "<IPython.core.display.HTML object>"
      ]
     },
     "metadata": {},
     "output_type": "display_data"
    },
    {
     "data": {
      "text/html": [
       "<table><tr><td>2022</td><td>September</td></tr><tr><td>Mo </td><td>Tu </td><td>We </td><td>Th </td><td>Fr </td><td>Sa </td><td>Su </td></tr><tr><td style=\"height:1rem; width: 3rem; background-color:rgb(254,254,189); color:black\"><b>  <br/>0</b></td><td style=\"height:1rem; width: 3rem; background-color:rgb(254,254,189); color:black\"><b>  <br/>0</b></td><td style=\"height:1rem; width: 3rem; background-color:rgb(254,254,189); color:black\"><b>  <br/>0</b></td><td style=\"height:1rem; width: 3rem; background-color:rgb(234,246,163); color:black\"><b> 1<br/>238</b></td><td style=\"height:1rem; width: 3rem; background-color:rgb(239,248,169); color:black\"><b> 2<br/>176</b></td><td style=\"height:1rem; width: 3rem; background-color:rgb(254,254,189); color:black\"><b> 3<br/>0</b></td><td style=\"height:1rem; width: 3rem; background-color:rgb(254,254,189); color:black\"><b> 4<br/>0</b></td></tr><tr><td style=\"height:1rem; width: 3rem; background-color:rgb(254,254,189); color:black\"><b> 5<br/>0</b></td><td style=\"height:1rem; width: 3rem; background-color:rgb(165,0,38); color:black\"><b> 6<br/>-2859</b></td><td style=\"height:1rem; width: 3rem; background-color:rgb(245,250,177); color:black\"><b> 7<br/>110</b></td><td style=\"height:1rem; width: 3rem; background-color:rgb(254,254,189); color:black\"><b> 8<br/>-2</b></td><td style=\"height:1rem; width: 3rem; background-color:rgb(230,80,53); color:black\"><b> 9<br/>-1540</b></td><td style=\"height:1rem; width: 3rem; background-color:rgb(254,254,189); color:black\"><b>10<br/>0</b></td><td style=\"height:1rem; width: 3rem; background-color:rgb(254,254,189); color:black\"><b>11<br/>0</b></td></tr><tr><td style=\"height:1rem; width: 3rem; background-color:rgb(81,178,93); color:black\"><b>12<br/>1454</b></td><td style=\"height:1rem; width: 3rem; background-color:rgb(253,180,102); color:black\"><b>13<br/>-823</b></td><td style=\"height:1rem; width: 3rem; background-color:rgb(254,232,153); color:black\"><b>14<br/>-318</b></td><td style=\"height:1rem; width: 3rem; background-color:rgb(165,0,38); color:black\"><b>15<br/>-2452</b></td><td style=\"height:1rem; width: 3rem; background-color:rgb(187,226,119); color:black\"><b>16<br/>697</b></td><td style=\"height:1rem; width: 3rem; background-color:rgb(254,254,189); color:black\"><b>17<br/>0</b></td><td style=\"height:1rem; width: 3rem; background-color:rgb(254,254,189); color:black\"><b>18<br/>0</b></td></tr><tr><td style=\"height:1rem; width: 3rem; background-color:rgb(102,189,99); color:black\"><b>19<br/>1327</b></td><td style=\"height:1rem; width: 3rem; background-color:rgb(218,239,141); color:black\"><b>20<br/>422</b></td><td style=\"height:1rem; width: 3rem; background-color:rgb(211,236,135); color:black\"><b>21<br/>488</b></td><td style=\"height:1rem; width: 3rem; background-color:rgb(165,0,38); color:black\"><b>22<br/>-2620</b></td><td style=\"height:1rem; width: 3rem; background-color:rgb(254,254,189); color:black\"><b>23<br/>0</b></td><td style=\"height:1rem; width: 3rem; background-color:rgb(254,254,189); color:black\"><b>24<br/>0</b></td><td style=\"height:1rem; width: 3rem; background-color:rgb(254,254,189); color:black\"><b>25<br/>0</b></td></tr><tr><td style=\"height:1rem; width: 3rem; background-color:rgb(254,254,189); color:black\"><b>26<br/>0</b></td><td style=\"height:1rem; width: 3rem; background-color:rgb(254,254,189); color:black\"><b>27<br/>0</b></td><td style=\"height:1rem; width: 3rem; background-color:rgb(254,254,189); color:black\"><b>28<br/>0</b></td><td style=\"height:1rem; width: 3rem; background-color:rgb(254,254,189); color:black\"><b>29<br/>0</b></td><td style=\"height:1rem; width: 3rem; background-color:rgb(254,254,189); color:black\"><b>30<br/>0</b></td></tr><tr></tr></table>"
      ],
      "text/plain": [
       "<IPython.core.display.HTML object>"
      ]
     },
     "metadata": {},
     "output_type": "display_data"
    },
    {
     "data": {
      "text/html": [
       "<table><tr><td>2022</td><td>October</td></tr><tr><td>Mo </td><td>Tu </td><td>We </td><td>Th </td><td>Fr </td><td>Sa </td><td>Su </td></tr><tr><td style=\"height:1rem; width: 3rem; background-color:rgb(254,254,189); color:black\"><b>  <br/>0</b></td><td style=\"height:1rem; width: 3rem; background-color:rgb(254,254,189); color:black\"><b>  <br/>0</b></td><td style=\"height:1rem; width: 3rem; background-color:rgb(254,254,189); color:black\"><b>  <br/>0</b></td><td style=\"height:1rem; width: 3rem; background-color:rgb(254,254,189); color:black\"><b>  <br/>0</b></td><td style=\"height:1rem; width: 3rem; background-color:rgb(254,254,189); color:black\"><b>  <br/>0</b></td><td style=\"height:1rem; width: 3rem; background-color:rgb(254,254,189); color:black\"><b> 1<br/>0</b></td><td style=\"height:1rem; width: 3rem; background-color:rgb(254,254,189); color:black\"><b> 2<br/>0</b></td></tr><tr><td style=\"height:1rem; width: 3rem; background-color:rgb(254,254,189); color:black\"><b> 3<br/>0</b></td><td style=\"height:1rem; width: 3rem; background-color:rgb(254,254,189); color:black\"><b> 4<br/>0</b></td><td style=\"height:1rem; width: 3rem; background-color:rgb(254,254,189); color:black\"><b> 5<br/>0</b></td><td style=\"height:1rem; width: 3rem; background-color:rgb(254,254,189); color:black\"><b> 6<br/>0</b></td><td style=\"height:1rem; width: 3rem; background-color:rgb(254,254,189); color:black\"><b> 7<br/>0</b></td><td style=\"height:1rem; width: 3rem; background-color:rgb(254,254,189); color:black\"><b> 8<br/>0</b></td><td style=\"height:1rem; width: 3rem; background-color:rgb(254,254,189); color:black\"><b> 9<br/>0</b></td></tr><tr><td style=\"height:1rem; width: 3rem; background-color:rgb(254,254,189); color:black\"><b>10<br/>0</b></td><td style=\"height:1rem; width: 3rem; background-color:rgb(254,254,189); color:black\"><b>11<br/>0</b></td><td style=\"height:1rem; width: 3rem; background-color:rgb(254,254,189); color:black\"><b>12<br/>0</b></td><td style=\"height:1rem; width: 3rem; background-color:rgb(254,254,189); color:black\"><b>13<br/>0</b></td><td style=\"height:1rem; width: 3rem; background-color:rgb(254,254,189); color:black\"><b>14<br/>0</b></td><td style=\"height:1rem; width: 3rem; background-color:rgb(254,254,189); color:black\"><b>15<br/>0</b></td><td style=\"height:1rem; width: 3rem; background-color:rgb(254,254,189); color:black\"><b>16<br/>0</b></td></tr><tr><td style=\"height:1rem; width: 3rem; background-color:rgb(254,254,189); color:black\"><b>17<br/>0</b></td><td style=\"height:1rem; width: 3rem; background-color:rgb(254,254,189); color:black\"><b>18<br/>0</b></td><td style=\"height:1rem; width: 3rem; background-color:rgb(254,254,189); color:black\"><b>19<br/>0</b></td><td style=\"height:1rem; width: 3rem; background-color:rgb(254,254,189); color:black\"><b>20<br/>0</b></td><td style=\"height:1rem; width: 3rem; background-color:rgb(254,254,189); color:black\"><b>21<br/>0</b></td><td style=\"height:1rem; width: 3rem; background-color:rgb(254,254,189); color:black\"><b>22<br/>0</b></td><td style=\"height:1rem; width: 3rem; background-color:rgb(254,254,189); color:black\"><b>23<br/>0</b></td></tr><tr><td style=\"height:1rem; width: 3rem; background-color:rgb(254,254,189); color:black\"><b>24<br/>0</b></td><td style=\"height:1rem; width: 3rem; background-color:rgb(254,254,189); color:black\"><b>25<br/>0</b></td><td style=\"height:1rem; width: 3rem; background-color:rgb(254,254,189); color:black\"><b>26<br/>0</b></td><td style=\"height:1rem; width: 3rem; background-color:rgb(254,254,189); color:black\"><b>27<br/>0</b></td><td style=\"height:1rem; width: 3rem; background-color:rgb(254,254,189); color:black\"><b>28<br/>0</b></td><td style=\"height:1rem; width: 3rem; background-color:rgb(254,254,189); color:black\"><b>29<br/>0</b></td><td style=\"height:1rem; width: 3rem; background-color:rgb(254,254,189); color:black\"><b>30<br/>0</b></td></tr><tr><td style=\"height:1rem; width: 3rem; background-color:rgb(254,254,189); color:black\"><b>31<br/>0</b></td></tr><tr></tr></table>"
      ],
      "text/plain": [
       "<IPython.core.display.HTML object>"
      ]
     },
     "metadata": {},
     "output_type": "display_data"
    },
    {
     "data": {
      "text/html": [
       "<table><tr><td>2022</td><td>November</td></tr><tr><td>Mo </td><td>Tu </td><td>We </td><td>Th </td><td>Fr </td><td>Sa </td><td>Su </td></tr><tr><td style=\"height:1rem; width: 3rem; background-color:rgb(254,254,189); color:black\"><b>  <br/>0</b></td><td style=\"height:1rem; width: 3rem; background-color:rgb(254,254,189); color:black\"><b> 1<br/>0</b></td><td style=\"height:1rem; width: 3rem; background-color:rgb(254,254,189); color:black\"><b> 2<br/>0</b></td><td style=\"height:1rem; width: 3rem; background-color:rgb(254,254,189); color:black\"><b> 3<br/>0</b></td><td style=\"height:1rem; width: 3rem; background-color:rgb(254,254,189); color:black\"><b> 4<br/>0</b></td><td style=\"height:1rem; width: 3rem; background-color:rgb(254,254,189); color:black\"><b> 5<br/>0</b></td><td style=\"height:1rem; width: 3rem; background-color:rgb(254,254,189); color:black\"><b> 6<br/>0</b></td></tr><tr><td style=\"height:1rem; width: 3rem; background-color:rgb(254,254,189); color:black\"><b> 7<br/>0</b></td><td style=\"height:1rem; width: 3rem; background-color:rgb(254,254,189); color:black\"><b> 8<br/>0</b></td><td style=\"height:1rem; width: 3rem; background-color:rgb(254,254,189); color:black\"><b> 9<br/>0</b></td><td style=\"height:1rem; width: 3rem; background-color:rgb(254,254,189); color:black\"><b>10<br/>0</b></td><td style=\"height:1rem; width: 3rem; background-color:rgb(254,254,189); color:black\"><b>11<br/>0</b></td><td style=\"height:1rem; width: 3rem; background-color:rgb(254,254,189); color:black\"><b>12<br/>0</b></td><td style=\"height:1rem; width: 3rem; background-color:rgb(254,254,189); color:black\"><b>13<br/>0</b></td></tr><tr><td style=\"height:1rem; width: 3rem; background-color:rgb(254,254,189); color:black\"><b>14<br/>0</b></td><td style=\"height:1rem; width: 3rem; background-color:rgb(254,254,189); color:black\"><b>15<br/>0</b></td><td style=\"height:1rem; width: 3rem; background-color:rgb(254,254,189); color:black\"><b>16<br/>0</b></td><td style=\"height:1rem; width: 3rem; background-color:rgb(254,254,189); color:black\"><b>17<br/>0</b></td><td style=\"height:1rem; width: 3rem; background-color:rgb(254,254,189); color:black\"><b>18<br/>0</b></td><td style=\"height:1rem; width: 3rem; background-color:rgb(254,254,189); color:black\"><b>19<br/>0</b></td><td style=\"height:1rem; width: 3rem; background-color:rgb(254,254,189); color:black\"><b>20<br/>0</b></td></tr><tr><td style=\"height:1rem; width: 3rem; background-color:rgb(254,254,189); color:black\"><b>21<br/>0</b></td><td style=\"height:1rem; width: 3rem; background-color:rgb(254,254,189); color:black\"><b>22<br/>0</b></td><td style=\"height:1rem; width: 3rem; background-color:rgb(254,254,189); color:black\"><b>23<br/>0</b></td><td style=\"height:1rem; width: 3rem; background-color:rgb(254,254,189); color:black\"><b>24<br/>0</b></td><td style=\"height:1rem; width: 3rem; background-color:rgb(254,254,189); color:black\"><b>25<br/>0</b></td><td style=\"height:1rem; width: 3rem; background-color:rgb(254,254,189); color:black\"><b>26<br/>0</b></td><td style=\"height:1rem; width: 3rem; background-color:rgb(254,254,189); color:black\"><b>27<br/>0</b></td></tr><tr><td style=\"height:1rem; width: 3rem; background-color:rgb(254,254,189); color:black\"><b>28<br/>0</b></td><td style=\"height:1rem; width: 3rem; background-color:rgb(254,254,189); color:black\"><b>29<br/>0</b></td><td style=\"height:1rem; width: 3rem; background-color:rgb(254,254,189); color:black\"><b>30<br/>0</b></td></tr><tr></tr></table>"
      ],
      "text/plain": [
       "<IPython.core.display.HTML object>"
      ]
     },
     "metadata": {},
     "output_type": "display_data"
    },
    {
     "data": {
      "text/html": [
       "<table><tr><td>2022</td><td>December</td></tr><tr><td>Mo </td><td>Tu </td><td>We </td><td>Th </td><td>Fr </td><td>Sa </td><td>Su </td></tr><tr><td style=\"height:1rem; width: 3rem; background-color:rgb(254,254,189); color:black\"><b>  <br/>0</b></td><td style=\"height:1rem; width: 3rem; background-color:rgb(254,254,189); color:black\"><b>  <br/>0</b></td><td style=\"height:1rem; width: 3rem; background-color:rgb(254,254,189); color:black\"><b>  <br/>0</b></td><td style=\"height:1rem; width: 3rem; background-color:rgb(254,254,189); color:black\"><b> 1<br/>0</b></td><td style=\"height:1rem; width: 3rem; background-color:rgb(254,254,189); color:black\"><b> 2<br/>0</b></td><td style=\"height:1rem; width: 3rem; background-color:rgb(254,254,189); color:black\"><b> 3<br/>0</b></td><td style=\"height:1rem; width: 3rem; background-color:rgb(254,254,189); color:black\"><b> 4<br/>0</b></td></tr><tr><td style=\"height:1rem; width: 3rem; background-color:rgb(254,254,189); color:black\"><b> 5<br/>0</b></td><td style=\"height:1rem; width: 3rem; background-color:rgb(254,254,189); color:black\"><b> 6<br/>0</b></td><td style=\"height:1rem; width: 3rem; background-color:rgb(254,254,189); color:black\"><b> 7<br/>0</b></td><td style=\"height:1rem; width: 3rem; background-color:rgb(254,254,189); color:black\"><b> 8<br/>0</b></td><td style=\"height:1rem; width: 3rem; background-color:rgb(254,254,189); color:black\"><b> 9<br/>0</b></td><td style=\"height:1rem; width: 3rem; background-color:rgb(254,254,189); color:black\"><b>10<br/>0</b></td><td style=\"height:1rem; width: 3rem; background-color:rgb(254,254,189); color:black\"><b>11<br/>0</b></td></tr><tr><td style=\"height:1rem; width: 3rem; background-color:rgb(254,254,189); color:black\"><b>12<br/>0</b></td><td style=\"height:1rem; width: 3rem; background-color:rgb(254,254,189); color:black\"><b>13<br/>0</b></td><td style=\"height:1rem; width: 3rem; background-color:rgb(254,254,189); color:black\"><b>14<br/>0</b></td><td style=\"height:1rem; width: 3rem; background-color:rgb(254,254,189); color:black\"><b>15<br/>0</b></td><td style=\"height:1rem; width: 3rem; background-color:rgb(254,254,189); color:black\"><b>16<br/>0</b></td><td style=\"height:1rem; width: 3rem; background-color:rgb(254,254,189); color:black\"><b>17<br/>0</b></td><td style=\"height:1rem; width: 3rem; background-color:rgb(254,254,189); color:black\"><b>18<br/>0</b></td></tr><tr><td style=\"height:1rem; width: 3rem; background-color:rgb(254,254,189); color:black\"><b>19<br/>0</b></td><td style=\"height:1rem; width: 3rem; background-color:rgb(254,254,189); color:black\"><b>20<br/>0</b></td><td style=\"height:1rem; width: 3rem; background-color:rgb(254,254,189); color:black\"><b>21<br/>0</b></td><td style=\"height:1rem; width: 3rem; background-color:rgb(254,254,189); color:black\"><b>22<br/>0</b></td><td style=\"height:1rem; width: 3rem; background-color:rgb(254,254,189); color:black\"><b>23<br/>0</b></td><td style=\"height:1rem; width: 3rem; background-color:rgb(254,254,189); color:black\"><b>24<br/>0</b></td><td style=\"height:1rem; width: 3rem; background-color:rgb(254,254,189); color:black\"><b>25<br/>0</b></td></tr><tr><td style=\"height:1rem; width: 3rem; background-color:rgb(254,254,189); color:black\"><b>26<br/>0</b></td><td style=\"height:1rem; width: 3rem; background-color:rgb(254,254,189); color:black\"><b>27<br/>0</b></td><td style=\"height:1rem; width: 3rem; background-color:rgb(254,254,189); color:black\"><b>28<br/>0</b></td><td style=\"height:1rem; width: 3rem; background-color:rgb(254,254,189); color:black\"><b>29<br/>0</b></td><td style=\"height:1rem; width: 3rem; background-color:rgb(254,254,189); color:black\"><b>30<br/>0</b></td><td style=\"height:1rem; width: 3rem; background-color:rgb(254,254,189); color:black\"><b>31<br/>0</b></td></tr><tr></tr></table>"
      ],
      "text/plain": [
       "<IPython.core.display.HTML object>"
      ]
     },
     "metadata": {},
     "output_type": "display_data"
    }
   ],
   "source": [
    "import calendar\n",
    "\n",
    "cmap = plt.get_cmap('RdYlGn')\n",
    "\n",
    "# get the largest absolute delta per day\n",
    "temp = pd.pivot_table(\n",
    "    df_year,\n",
    "    values = 'Delta',\n",
    "    index = 'YYYYMMDD',\n",
    "    aggfunc= {'Delta':sum,}\n",
    "    )\n",
    "absmax = max(abs(temp['Delta'].min()) ,temp['Delta'].max())\n",
    "absmax *= 0.5\n",
    "\n",
    "\n",
    "for mon_num in range(1,13):\n",
    "\n",
    "    m = calendar.month(this_year,mon_num)\n",
    "\n",
    "    # print(m)\n",
    "\n",
    "    mon_table = ''\n",
    "    for index,l in enumerate(m.split('\\n')):\n",
    "        if index == 0:\n",
    "            mon_table += f'<tr><td>{this_year}</td><td>{calendar.month_name[mon_num]}</td></tr>'\n",
    "        elif index == 1:\n",
    "            mon_table += f'<tr><td>Mo </td><td>Tu </td><td>We </td><td>Th </td><td>Fr </td><td>Sa </td><td>Su </td></tr>'\n",
    "        else:\n",
    "\n",
    "            wstr = ''\n",
    "            for i in range(0,len(l),3):\n",
    "                d_sum = 0\n",
    "                \n",
    "                try:\n",
    "                    year_month_day = this_year * 10000 + mon_num * 100 + int(l[i:i+2].replace(' ', ''))\n",
    "                    d_sum = df_year.query(f'YYYYMMDD == {year_month_day}')['Delta'].sum()\n",
    "                except:\n",
    "                    pass\n",
    "\n",
    "                normalized_value = (d_sum + absmax) / (absmax*2)\n",
    "                normalized_value = max(0.0, min(normalized_value, 1.0))\n",
    "                # print(normalized_value)\n",
    "                color = cmap( normalized_value )\n",
    "                # print(color)\n",
    "                r, g, b, _ = color\n",
    "                \n",
    "\n",
    "                d = l[i:i+2].replace(' ',' ')+ ''\n",
    "                wstr += f'<td style=\"height:1rem; width: 3rem; background-color:rgb({int(r*255)},{int(g*255)},{int(b*255)}); color:black\"><b>{d}<br/>{int(d_sum)}</b></td>'\n",
    "            mon_table += '<tr>' + wstr + '</tr>'\n",
    "    # print(mon_table)\n",
    "    display(HTML('<table>' + mon_table + '</table>'))\n",
    "\n",
    "\n"
   ]
  },
  {
   "cell_type": "markdown",
   "metadata": {},
   "source": [
    "# 📊 Bar-Chart"
   ]
  },
  {
   "cell_type": "code",
   "execution_count": 47,
   "metadata": {
    "jupyter": {
     "source_hidden": true
    }
   },
   "outputs": [],
   "source": [
    "def make_barchart(df,time_column,title):\n",
    "    display(HTML('<h2> 📊 Bar-Chart: ' + title + '</h2>'))\n",
    "    display(HTML('from {0}'.format(df.Date.min())))\n",
    "    display(HTML('to {0}'.format(df.Date.max())))\n",
    "    # display(HTML('total {0}'.format(df['Delta'].sum())))\n",
    "    \n",
    "    temp = df.copy() # for 3 weeks\n",
    "    temp = temp[temp['Delta'] < 0.0]\n",
    "    temp['Delta'] = abs(temp['Delta'])\n",
    "    temp = temp[temp['Delta'] != 0.0]\n",
    "\n",
    "    display(HTML('total {0}'.format(temp['Delta'].sum())))\n",
    "\n",
    "    temp[time_column] = temp[time_column].astype(float).astype(str)\n",
    "    \n",
    "    temp = pd.pivot_table(\n",
    "        temp,\n",
    "        values = 'Delta',\n",
    "        index = [time_column,'Category'],\n",
    "        aggfunc= {'Delta':sum,}\n",
    "        )\n",
    "\n",
    "    temp = temp.reset_index(drop=False)\n",
    "    temp[time_column] = temp[time_column].astype(float,errors='ignore')\n",
    "    # temp = temp.sort_values(by = time_column,ascending=True)\n",
    "\n",
    "    fig = px.bar(\n",
    "        temp,\n",
    "        y='Delta',\n",
    "        x=time_column,\n",
    "        color='Category',\n",
    "        hover_data=[time_column,'Category','Delta'],\n",
    "        template = plotly_theme,\n",
    "        # text_auto=True,\n",
    "        text = 'Category',\n",
    "        height=600,\n",
    "        )\n",
    "    \n",
    "    fig.show()\n",
    "    \n"
   ]
  },
  {
   "cell_type": "code",
   "execution_count": 48,
   "metadata": {},
   "outputs": [
    {
     "data": {
      "text/html": [
       "<h2> 📊 Bar-Chart: 7 days</h2>"
      ],
      "text/plain": [
       "<IPython.core.display.HTML object>"
      ]
     },
     "metadata": {},
     "output_type": "display_data"
    },
    {
     "data": {
      "text/html": [
       "from 2022-09-15 00:00:00"
      ],
      "text/plain": [
       "<IPython.core.display.HTML object>"
      ]
     },
     "metadata": {},
     "output_type": "display_data"
    },
    {
     "data": {
      "text/html": [
       "to 2022-09-22 00:00:00"
      ],
      "text/plain": [
       "<IPython.core.display.HTML object>"
      ]
     },
     "metadata": {},
     "output_type": "display_data"
    },
    {
     "data": {
      "text/html": [
       "total 9613"
      ],
      "text/plain": [
       "<IPython.core.display.HTML object>"
      ]
     },
     "metadata": {},
     "output_type": "display_data"
    },
    {
     "data": {
      "application/vnd.plotly.v1+json": {
       "config": {
        "plotlyServerURL": "https://plot.ly"
       },
       "data": [
        {
         "alignmentgroup": "True",
         "customdata": [
          [
           "health"
          ],
          [
           "health"
          ],
          [
           "health"
          ]
         ],
         "hovertemplate": "Category=%{customdata[0]}<br>YYYYMMDD=%{x}<br>Delta=%{y}<extra></extra>",
         "legendgroup": "health",
         "marker": {
          "color": "#636efa",
          "pattern": {
           "shape": ""
          }
         },
         "name": "health",
         "offsetgroup": "health",
         "orientation": "v",
         "showlegend": true,
         "text": [
          "health",
          "health",
          "health"
         ],
         "textposition": "auto",
         "type": "bar",
         "x": [
          20220915,
          20220916,
          20220922
         ],
         "xaxis": "x",
         "y": [
          573,
          214,
          1146
         ],
         "yaxis": "y"
        },
        {
         "alignmentgroup": "True",
         "customdata": [
          [
           "travel"
          ],
          [
           "travel"
          ],
          [
           "travel"
          ]
         ],
         "hovertemplate": "Category=%{customdata[0]}<br>YYYYMMDD=%{x}<br>Delta=%{y}<extra></extra>",
         "legendgroup": "travel",
         "marker": {
          "color": "#EF553B",
          "pattern": {
           "shape": ""
          }
         },
         "name": "travel",
         "offsetgroup": "travel",
         "orientation": "v",
         "showlegend": true,
         "text": [
          "travel",
          "travel",
          "travel"
         ],
         "textposition": "auto",
         "type": "bar",
         "x": [
          20220915,
          20220916,
          20220919
         ],
         "xaxis": "x",
         "y": [
          998,
          318,
          1655
         ],
         "yaxis": "y"
        },
        {
         "alignmentgroup": "True",
         "customdata": [
          [
           "utility"
          ]
         ],
         "hovertemplate": "Category=%{customdata[0]}<br>YYYYMMDD=%{x}<br>Delta=%{y}<extra></extra>",
         "legendgroup": "utility",
         "marker": {
          "color": "#00cc96",
          "pattern": {
           "shape": ""
          }
         },
         "name": "utility",
         "offsetgroup": "utility",
         "orientation": "v",
         "showlegend": true,
         "text": [
          "utility"
         ],
         "textposition": "auto",
         "type": "bar",
         "x": [
          20220915
         ],
         "xaxis": "x",
         "y": [
          881
         ],
         "yaxis": "y"
        },
        {
         "alignmentgroup": "True",
         "customdata": [
          [
           "grocery"
          ]
         ],
         "hovertemplate": "Category=%{customdata[0]}<br>YYYYMMDD=%{x}<br>Delta=%{y}<extra></extra>",
         "legendgroup": "grocery",
         "marker": {
          "color": "#ab63fa",
          "pattern": {
           "shape": ""
          }
         },
         "name": "grocery",
         "offsetgroup": "grocery",
         "orientation": "v",
         "showlegend": true,
         "text": [
          "grocery"
         ],
         "textposition": "auto",
         "type": "bar",
         "x": [
          20220919
         ],
         "xaxis": "x",
         "y": [
          278
         ],
         "yaxis": "y"
        },
        {
         "alignmentgroup": "True",
         "customdata": [
          [
           "invest"
          ],
          [
           "invest"
          ]
         ],
         "hovertemplate": "Category=%{customdata[0]}<br>YYYYMMDD=%{x}<br>Delta=%{y}<extra></extra>",
         "legendgroup": "invest",
         "marker": {
          "color": "#FFA15A",
          "pattern": {
           "shape": ""
          }
         },
         "name": "invest",
         "offsetgroup": "invest",
         "orientation": "v",
         "showlegend": true,
         "text": [
          "invest",
          "invest"
         ],
         "textposition": "auto",
         "type": "bar",
         "x": [
          20220919,
          20220922
         ],
         "xaxis": "x",
         "y": [
          435,
          904
         ],
         "yaxis": "y"
        },
        {
         "alignmentgroup": "True",
         "customdata": [
          [
           "misc"
          ]
         ],
         "hovertemplate": "Category=%{customdata[0]}<br>YYYYMMDD=%{x}<br>Delta=%{y}<extra></extra>",
         "legendgroup": "misc",
         "marker": {
          "color": "#19d3f3",
          "pattern": {
           "shape": ""
          }
         },
         "name": "misc",
         "offsetgroup": "misc",
         "orientation": "v",
         "showlegend": true,
         "text": [
          "misc"
         ],
         "textposition": "auto",
         "type": "bar",
         "x": [
          20220919
         ],
         "xaxis": "x",
         "y": [
          3
         ],
         "yaxis": "y"
        },
        {
         "alignmentgroup": "True",
         "customdata": [
          [
           "unk"
          ],
          [
           "unk"
          ]
         ],
         "hovertemplate": "Category=%{customdata[0]}<br>YYYYMMDD=%{x}<br>Delta=%{y}<extra></extra>",
         "legendgroup": "unk",
         "marker": {
          "color": "#FF6692",
          "pattern": {
           "shape": ""
          }
         },
         "name": "unk",
         "offsetgroup": "unk",
         "orientation": "v",
         "showlegend": true,
         "text": [
          "unk",
          "unk"
         ],
         "textposition": "auto",
         "type": "bar",
         "x": [
          20220919,
          20220922
         ],
         "xaxis": "x",
         "y": [
          820,
          570
         ],
         "yaxis": "y"
        },
        {
         "alignmentgroup": "True",
         "customdata": [
          [
           "clothing"
          ]
         ],
         "hovertemplate": "Category=%{customdata[0]}<br>YYYYMMDD=%{x}<br>Delta=%{y}<extra></extra>",
         "legendgroup": "clothing",
         "marker": {
          "color": "#B6E880",
          "pattern": {
           "shape": ""
          }
         },
         "name": "clothing",
         "offsetgroup": "clothing",
         "orientation": "v",
         "showlegend": true,
         "text": [
          "clothing"
         ],
         "textposition": "auto",
         "type": "bar",
         "x": [
          20220920
         ],
         "xaxis": "x",
         "y": [
          818
         ],
         "yaxis": "y"
        }
       ],
       "layout": {
        "barmode": "relative",
        "height": 600,
        "legend": {
         "title": {
          "text": "Category"
         },
         "tracegroupgap": 0
        },
        "margin": {
         "t": 60
        },
        "template": {
         "data": {
          "bar": [
           {
            "error_x": {
             "color": "#f2f5fa"
            },
            "error_y": {
             "color": "#f2f5fa"
            },
            "marker": {
             "line": {
              "color": "rgb(17,17,17)",
              "width": 0.5
             },
             "pattern": {
              "fillmode": "overlay",
              "size": 10,
              "solidity": 0.2
             }
            },
            "type": "bar"
           }
          ],
          "barpolar": [
           {
            "marker": {
             "line": {
              "color": "rgb(17,17,17)",
              "width": 0.5
             },
             "pattern": {
              "fillmode": "overlay",
              "size": 10,
              "solidity": 0.2
             }
            },
            "type": "barpolar"
           }
          ],
          "carpet": [
           {
            "aaxis": {
             "endlinecolor": "#A2B1C6",
             "gridcolor": "#506784",
             "linecolor": "#506784",
             "minorgridcolor": "#506784",
             "startlinecolor": "#A2B1C6"
            },
            "baxis": {
             "endlinecolor": "#A2B1C6",
             "gridcolor": "#506784",
             "linecolor": "#506784",
             "minorgridcolor": "#506784",
             "startlinecolor": "#A2B1C6"
            },
            "type": "carpet"
           }
          ],
          "choropleth": [
           {
            "colorbar": {
             "outlinewidth": 0,
             "ticks": ""
            },
            "type": "choropleth"
           }
          ],
          "contour": [
           {
            "colorbar": {
             "outlinewidth": 0,
             "ticks": ""
            },
            "colorscale": [
             [
              0,
              "#0d0887"
             ],
             [
              0.1111111111111111,
              "#46039f"
             ],
             [
              0.2222222222222222,
              "#7201a8"
             ],
             [
              0.3333333333333333,
              "#9c179e"
             ],
             [
              0.4444444444444444,
              "#bd3786"
             ],
             [
              0.5555555555555556,
              "#d8576b"
             ],
             [
              0.6666666666666666,
              "#ed7953"
             ],
             [
              0.7777777777777778,
              "#fb9f3a"
             ],
             [
              0.8888888888888888,
              "#fdca26"
             ],
             [
              1,
              "#f0f921"
             ]
            ],
            "type": "contour"
           }
          ],
          "contourcarpet": [
           {
            "colorbar": {
             "outlinewidth": 0,
             "ticks": ""
            },
            "type": "contourcarpet"
           }
          ],
          "heatmap": [
           {
            "colorbar": {
             "outlinewidth": 0,
             "ticks": ""
            },
            "colorscale": [
             [
              0,
              "#0d0887"
             ],
             [
              0.1111111111111111,
              "#46039f"
             ],
             [
              0.2222222222222222,
              "#7201a8"
             ],
             [
              0.3333333333333333,
              "#9c179e"
             ],
             [
              0.4444444444444444,
              "#bd3786"
             ],
             [
              0.5555555555555556,
              "#d8576b"
             ],
             [
              0.6666666666666666,
              "#ed7953"
             ],
             [
              0.7777777777777778,
              "#fb9f3a"
             ],
             [
              0.8888888888888888,
              "#fdca26"
             ],
             [
              1,
              "#f0f921"
             ]
            ],
            "type": "heatmap"
           }
          ],
          "heatmapgl": [
           {
            "colorbar": {
             "outlinewidth": 0,
             "ticks": ""
            },
            "colorscale": [
             [
              0,
              "#0d0887"
             ],
             [
              0.1111111111111111,
              "#46039f"
             ],
             [
              0.2222222222222222,
              "#7201a8"
             ],
             [
              0.3333333333333333,
              "#9c179e"
             ],
             [
              0.4444444444444444,
              "#bd3786"
             ],
             [
              0.5555555555555556,
              "#d8576b"
             ],
             [
              0.6666666666666666,
              "#ed7953"
             ],
             [
              0.7777777777777778,
              "#fb9f3a"
             ],
             [
              0.8888888888888888,
              "#fdca26"
             ],
             [
              1,
              "#f0f921"
             ]
            ],
            "type": "heatmapgl"
           }
          ],
          "histogram": [
           {
            "marker": {
             "pattern": {
              "fillmode": "overlay",
              "size": 10,
              "solidity": 0.2
             }
            },
            "type": "histogram"
           }
          ],
          "histogram2d": [
           {
            "colorbar": {
             "outlinewidth": 0,
             "ticks": ""
            },
            "colorscale": [
             [
              0,
              "#0d0887"
             ],
             [
              0.1111111111111111,
              "#46039f"
             ],
             [
              0.2222222222222222,
              "#7201a8"
             ],
             [
              0.3333333333333333,
              "#9c179e"
             ],
             [
              0.4444444444444444,
              "#bd3786"
             ],
             [
              0.5555555555555556,
              "#d8576b"
             ],
             [
              0.6666666666666666,
              "#ed7953"
             ],
             [
              0.7777777777777778,
              "#fb9f3a"
             ],
             [
              0.8888888888888888,
              "#fdca26"
             ],
             [
              1,
              "#f0f921"
             ]
            ],
            "type": "histogram2d"
           }
          ],
          "histogram2dcontour": [
           {
            "colorbar": {
             "outlinewidth": 0,
             "ticks": ""
            },
            "colorscale": [
             [
              0,
              "#0d0887"
             ],
             [
              0.1111111111111111,
              "#46039f"
             ],
             [
              0.2222222222222222,
              "#7201a8"
             ],
             [
              0.3333333333333333,
              "#9c179e"
             ],
             [
              0.4444444444444444,
              "#bd3786"
             ],
             [
              0.5555555555555556,
              "#d8576b"
             ],
             [
              0.6666666666666666,
              "#ed7953"
             ],
             [
              0.7777777777777778,
              "#fb9f3a"
             ],
             [
              0.8888888888888888,
              "#fdca26"
             ],
             [
              1,
              "#f0f921"
             ]
            ],
            "type": "histogram2dcontour"
           }
          ],
          "mesh3d": [
           {
            "colorbar": {
             "outlinewidth": 0,
             "ticks": ""
            },
            "type": "mesh3d"
           }
          ],
          "parcoords": [
           {
            "line": {
             "colorbar": {
              "outlinewidth": 0,
              "ticks": ""
             }
            },
            "type": "parcoords"
           }
          ],
          "pie": [
           {
            "automargin": true,
            "type": "pie"
           }
          ],
          "scatter": [
           {
            "marker": {
             "line": {
              "color": "#283442"
             }
            },
            "type": "scatter"
           }
          ],
          "scatter3d": [
           {
            "line": {
             "colorbar": {
              "outlinewidth": 0,
              "ticks": ""
             }
            },
            "marker": {
             "colorbar": {
              "outlinewidth": 0,
              "ticks": ""
             }
            },
            "type": "scatter3d"
           }
          ],
          "scattercarpet": [
           {
            "marker": {
             "colorbar": {
              "outlinewidth": 0,
              "ticks": ""
             }
            },
            "type": "scattercarpet"
           }
          ],
          "scattergeo": [
           {
            "marker": {
             "colorbar": {
              "outlinewidth": 0,
              "ticks": ""
             }
            },
            "type": "scattergeo"
           }
          ],
          "scattergl": [
           {
            "marker": {
             "line": {
              "color": "#283442"
             }
            },
            "type": "scattergl"
           }
          ],
          "scattermapbox": [
           {
            "marker": {
             "colorbar": {
              "outlinewidth": 0,
              "ticks": ""
             }
            },
            "type": "scattermapbox"
           }
          ],
          "scatterpolar": [
           {
            "marker": {
             "colorbar": {
              "outlinewidth": 0,
              "ticks": ""
             }
            },
            "type": "scatterpolar"
           }
          ],
          "scatterpolargl": [
           {
            "marker": {
             "colorbar": {
              "outlinewidth": 0,
              "ticks": ""
             }
            },
            "type": "scatterpolargl"
           }
          ],
          "scatterternary": [
           {
            "marker": {
             "colorbar": {
              "outlinewidth": 0,
              "ticks": ""
             }
            },
            "type": "scatterternary"
           }
          ],
          "surface": [
           {
            "colorbar": {
             "outlinewidth": 0,
             "ticks": ""
            },
            "colorscale": [
             [
              0,
              "#0d0887"
             ],
             [
              0.1111111111111111,
              "#46039f"
             ],
             [
              0.2222222222222222,
              "#7201a8"
             ],
             [
              0.3333333333333333,
              "#9c179e"
             ],
             [
              0.4444444444444444,
              "#bd3786"
             ],
             [
              0.5555555555555556,
              "#d8576b"
             ],
             [
              0.6666666666666666,
              "#ed7953"
             ],
             [
              0.7777777777777778,
              "#fb9f3a"
             ],
             [
              0.8888888888888888,
              "#fdca26"
             ],
             [
              1,
              "#f0f921"
             ]
            ],
            "type": "surface"
           }
          ],
          "table": [
           {
            "cells": {
             "fill": {
              "color": "#506784"
             },
             "line": {
              "color": "rgb(17,17,17)"
             }
            },
            "header": {
             "fill": {
              "color": "#2a3f5f"
             },
             "line": {
              "color": "rgb(17,17,17)"
             }
            },
            "type": "table"
           }
          ]
         },
         "layout": {
          "annotationdefaults": {
           "arrowcolor": "#f2f5fa",
           "arrowhead": 0,
           "arrowwidth": 1
          },
          "autotypenumbers": "strict",
          "coloraxis": {
           "colorbar": {
            "outlinewidth": 0,
            "ticks": ""
           }
          },
          "colorscale": {
           "diverging": [
            [
             0,
             "#8e0152"
            ],
            [
             0.1,
             "#c51b7d"
            ],
            [
             0.2,
             "#de77ae"
            ],
            [
             0.3,
             "#f1b6da"
            ],
            [
             0.4,
             "#fde0ef"
            ],
            [
             0.5,
             "#f7f7f7"
            ],
            [
             0.6,
             "#e6f5d0"
            ],
            [
             0.7,
             "#b8e186"
            ],
            [
             0.8,
             "#7fbc41"
            ],
            [
             0.9,
             "#4d9221"
            ],
            [
             1,
             "#276419"
            ]
           ],
           "sequential": [
            [
             0,
             "#0d0887"
            ],
            [
             0.1111111111111111,
             "#46039f"
            ],
            [
             0.2222222222222222,
             "#7201a8"
            ],
            [
             0.3333333333333333,
             "#9c179e"
            ],
            [
             0.4444444444444444,
             "#bd3786"
            ],
            [
             0.5555555555555556,
             "#d8576b"
            ],
            [
             0.6666666666666666,
             "#ed7953"
            ],
            [
             0.7777777777777778,
             "#fb9f3a"
            ],
            [
             0.8888888888888888,
             "#fdca26"
            ],
            [
             1,
             "#f0f921"
            ]
           ],
           "sequentialminus": [
            [
             0,
             "#0d0887"
            ],
            [
             0.1111111111111111,
             "#46039f"
            ],
            [
             0.2222222222222222,
             "#7201a8"
            ],
            [
             0.3333333333333333,
             "#9c179e"
            ],
            [
             0.4444444444444444,
             "#bd3786"
            ],
            [
             0.5555555555555556,
             "#d8576b"
            ],
            [
             0.6666666666666666,
             "#ed7953"
            ],
            [
             0.7777777777777778,
             "#fb9f3a"
            ],
            [
             0.8888888888888888,
             "#fdca26"
            ],
            [
             1,
             "#f0f921"
            ]
           ]
          },
          "colorway": [
           "#636efa",
           "#EF553B",
           "#00cc96",
           "#ab63fa",
           "#FFA15A",
           "#19d3f3",
           "#FF6692",
           "#B6E880",
           "#FF97FF",
           "#FECB52"
          ],
          "font": {
           "color": "#f2f5fa"
          },
          "geo": {
           "bgcolor": "rgb(17,17,17)",
           "lakecolor": "rgb(17,17,17)",
           "landcolor": "rgb(17,17,17)",
           "showlakes": true,
           "showland": true,
           "subunitcolor": "#506784"
          },
          "hoverlabel": {
           "align": "left"
          },
          "hovermode": "closest",
          "mapbox": {
           "style": "dark"
          },
          "paper_bgcolor": "rgb(17,17,17)",
          "plot_bgcolor": "rgb(17,17,17)",
          "polar": {
           "angularaxis": {
            "gridcolor": "#506784",
            "linecolor": "#506784",
            "ticks": ""
           },
           "bgcolor": "rgb(17,17,17)",
           "radialaxis": {
            "gridcolor": "#506784",
            "linecolor": "#506784",
            "ticks": ""
           }
          },
          "scene": {
           "xaxis": {
            "backgroundcolor": "rgb(17,17,17)",
            "gridcolor": "#506784",
            "gridwidth": 2,
            "linecolor": "#506784",
            "showbackground": true,
            "ticks": "",
            "zerolinecolor": "#C8D4E3"
           },
           "yaxis": {
            "backgroundcolor": "rgb(17,17,17)",
            "gridcolor": "#506784",
            "gridwidth": 2,
            "linecolor": "#506784",
            "showbackground": true,
            "ticks": "",
            "zerolinecolor": "#C8D4E3"
           },
           "zaxis": {
            "backgroundcolor": "rgb(17,17,17)",
            "gridcolor": "#506784",
            "gridwidth": 2,
            "linecolor": "#506784",
            "showbackground": true,
            "ticks": "",
            "zerolinecolor": "#C8D4E3"
           }
          },
          "shapedefaults": {
           "line": {
            "color": "#f2f5fa"
           }
          },
          "sliderdefaults": {
           "bgcolor": "#C8D4E3",
           "bordercolor": "rgb(17,17,17)",
           "borderwidth": 1,
           "tickwidth": 0
          },
          "ternary": {
           "aaxis": {
            "gridcolor": "#506784",
            "linecolor": "#506784",
            "ticks": ""
           },
           "baxis": {
            "gridcolor": "#506784",
            "linecolor": "#506784",
            "ticks": ""
           },
           "bgcolor": "rgb(17,17,17)",
           "caxis": {
            "gridcolor": "#506784",
            "linecolor": "#506784",
            "ticks": ""
           }
          },
          "title": {
           "x": 0.05
          },
          "updatemenudefaults": {
           "bgcolor": "#506784",
           "borderwidth": 0
          },
          "xaxis": {
           "automargin": true,
           "gridcolor": "#283442",
           "linecolor": "#506784",
           "ticks": "",
           "title": {
            "standoff": 15
           },
           "zerolinecolor": "#283442",
           "zerolinewidth": 2
          },
          "yaxis": {
           "automargin": true,
           "gridcolor": "#283442",
           "linecolor": "#506784",
           "ticks": "",
           "title": {
            "standoff": 15
           },
           "zerolinecolor": "#283442",
           "zerolinewidth": 2
          }
         }
        },
        "xaxis": {
         "anchor": "y",
         "domain": [
          0,
          1
         ],
         "title": {
          "text": "YYYYMMDD"
         }
        },
        "yaxis": {
         "anchor": "x",
         "domain": [
          0,
          1
         ],
         "title": {
          "text": "Delta"
         }
        }
       }
      }
     },
     "metadata": {},
     "output_type": "display_data"
    },
    {
     "data": {
      "text/html": [
       "<h2> 📊 Bar-Chart: 30 days</h2>"
      ],
      "text/plain": [
       "<IPython.core.display.HTML object>"
      ]
     },
     "metadata": {},
     "output_type": "display_data"
    },
    {
     "data": {
      "text/html": [
       "from 2022-08-23 00:00:00"
      ],
      "text/plain": [
       "<IPython.core.display.HTML object>"
      ]
     },
     "metadata": {},
     "output_type": "display_data"
    },
    {
     "data": {
      "text/html": [
       "to 2022-09-22 00:00:00"
      ],
      "text/plain": [
       "<IPython.core.display.HTML object>"
      ]
     },
     "metadata": {},
     "output_type": "display_data"
    },
    {
     "data": {
      "text/html": [
       "total 31991"
      ],
      "text/plain": [
       "<IPython.core.display.HTML object>"
      ]
     },
     "metadata": {},
     "output_type": "display_data"
    },
    {
     "data": {
      "application/vnd.plotly.v1+json": {
       "config": {
        "plotlyServerURL": "https://plot.ly"
       },
       "data": [
        {
         "alignmentgroup": "True",
         "customdata": [
          [
           "debt"
          ],
          [
           "debt"
          ]
         ],
         "hovertemplate": "Category=%{customdata[0]}<br>YYYY.W=%{x}<br>Delta=%{y}<extra></extra>",
         "legendgroup": "debt",
         "marker": {
          "color": "#636efa",
          "pattern": {
           "shape": ""
          }
         },
         "name": "debt",
         "offsetgroup": "debt",
         "orientation": "v",
         "showlegend": true,
         "text": [
          "debt",
          "debt"
         ],
         "textposition": "auto",
         "type": "bar",
         "x": [
          2022.34,
          2022.35
         ],
         "xaxis": "x",
         "y": [
          30,
          231
         ],
         "yaxis": "y"
        },
        {
         "alignmentgroup": "True",
         "customdata": [
          [
           "health"
          ],
          [
           "health"
          ],
          [
           "health"
          ]
         ],
         "hovertemplate": "Category=%{customdata[0]}<br>YYYY.W=%{x}<br>Delta=%{y}<extra></extra>",
         "legendgroup": "health",
         "marker": {
          "color": "#EF553B",
          "pattern": {
           "shape": ""
          }
         },
         "name": "health",
         "offsetgroup": "health",
         "orientation": "v",
         "showlegend": true,
         "text": [
          "health",
          "health",
          "health"
         ],
         "textposition": "auto",
         "type": "bar",
         "x": [
          2022.34,
          2022.37,
          2022.38
         ],
         "xaxis": "x",
         "y": [
          318,
          1588,
          1146
         ],
         "yaxis": "y"
        },
        {
         "alignmentgroup": "True",
         "customdata": [
          [
           "invest"
          ],
          [
           "invest"
          ],
          [
           "invest"
          ],
          [
           "invest"
          ],
          [
           "invest"
          ]
         ],
         "hovertemplate": "Category=%{customdata[0]}<br>YYYY.W=%{x}<br>Delta=%{y}<extra></extra>",
         "legendgroup": "invest",
         "marker": {
          "color": "#00cc96",
          "pattern": {
           "shape": ""
          }
         },
         "name": "invest",
         "offsetgroup": "invest",
         "orientation": "v",
         "showlegend": true,
         "text": [
          "invest",
          "invest",
          "invest",
          "invest",
          "invest"
         ],
         "textposition": "auto",
         "type": "bar",
         "x": [
          2022.34,
          2022.35,
          2022.36,
          2022.37,
          2022.38
         ],
         "xaxis": "x",
         "y": [
          390,
          2256,
          1578,
          1256,
          1339
         ],
         "yaxis": "y"
        },
        {
         "alignmentgroup": "True",
         "customdata": [
          [
           "paypal"
          ],
          [
           "paypal"
          ],
          [
           "paypal"
          ]
         ],
         "hovertemplate": "Category=%{customdata[0]}<br>YYYY.W=%{x}<br>Delta=%{y}<extra></extra>",
         "legendgroup": "paypal",
         "marker": {
          "color": "#ab63fa",
          "pattern": {
           "shape": ""
          }
         },
         "name": "paypal",
         "offsetgroup": "paypal",
         "orientation": "v",
         "showlegend": true,
         "text": [
          "paypal",
          "paypal",
          "paypal"
         ],
         "textposition": "auto",
         "type": "bar",
         "x": [
          2022.34,
          2022.35,
          2022.36
         ],
         "xaxis": "x",
         "y": [
          37,
          720,
          2428
         ],
         "yaxis": "y"
        },
        {
         "alignmentgroup": "True",
         "customdata": [
          [
           "tech"
          ],
          [
           "tech"
          ],
          [
           "tech"
          ]
         ],
         "hovertemplate": "Category=%{customdata[0]}<br>YYYY.W=%{x}<br>Delta=%{y}<extra></extra>",
         "legendgroup": "tech",
         "marker": {
          "color": "#FFA15A",
          "pattern": {
           "shape": ""
          }
         },
         "name": "tech",
         "offsetgroup": "tech",
         "orientation": "v",
         "showlegend": true,
         "text": [
          "tech",
          "tech",
          "tech"
         ],
         "textposition": "auto",
         "type": "bar",
         "x": [
          2022.34,
          2022.36,
          2022.37
         ],
         "xaxis": "x",
         "y": [
          368,
          1626,
          413
         ],
         "yaxis": "y"
        },
        {
         "alignmentgroup": "True",
         "customdata": [
          [
           "clothing"
          ],
          [
           "clothing"
          ],
          [
           "clothing"
          ]
         ],
         "hovertemplate": "Category=%{customdata[0]}<br>YYYY.W=%{x}<br>Delta=%{y}<extra></extra>",
         "legendgroup": "clothing",
         "marker": {
          "color": "#19d3f3",
          "pattern": {
           "shape": ""
          }
         },
         "name": "clothing",
         "offsetgroup": "clothing",
         "orientation": "v",
         "showlegend": true,
         "text": [
          "clothing",
          "clothing",
          "clothing"
         ],
         "textposition": "auto",
         "type": "bar",
         "x": [
          2022.35,
          2022.36,
          2022.38
         ],
         "xaxis": "x",
         "y": [
          646,
          996,
          818
         ],
         "yaxis": "y"
        },
        {
         "alignmentgroup": "True",
         "customdata": [
          [
           "grocery"
          ],
          [
           "grocery"
          ],
          [
           "grocery"
          ],
          [
           "grocery"
          ]
         ],
         "hovertemplate": "Category=%{customdata[0]}<br>YYYY.W=%{x}<br>Delta=%{y}<extra></extra>",
         "legendgroup": "grocery",
         "marker": {
          "color": "#FF6692",
          "pattern": {
           "shape": ""
          }
         },
         "name": "grocery",
         "offsetgroup": "grocery",
         "orientation": "v",
         "showlegend": true,
         "text": [
          "grocery",
          "grocery",
          "grocery",
          "grocery"
         ],
         "textposition": "auto",
         "type": "bar",
         "x": [
          2022.35,
          2022.36,
          2022.37,
          2022.38
         ],
         "xaxis": "x",
         "y": [
          477,
          2268,
          992,
          278
         ],
         "yaxis": "y"
        },
        {
         "alignmentgroup": "True",
         "customdata": [
          [
           "misc"
          ],
          [
           "misc"
          ],
          [
           "misc"
          ]
         ],
         "hovertemplate": "Category=%{customdata[0]}<br>YYYY.W=%{x}<br>Delta=%{y}<extra></extra>",
         "legendgroup": "misc",
         "marker": {
          "color": "#B6E880",
          "pattern": {
           "shape": ""
          }
         },
         "name": "misc",
         "offsetgroup": "misc",
         "orientation": "v",
         "showlegend": true,
         "text": [
          "misc",
          "misc",
          "misc"
         ],
         "textposition": "auto",
         "type": "bar",
         "x": [
          2022.35,
          2022.36,
          2022.38
         ],
         "xaxis": "x",
         "y": [
          38,
          873,
          3
         ],
         "yaxis": "y"
        },
        {
         "alignmentgroup": "True",
         "customdata": [
          [
           "travel"
          ],
          [
           "travel"
          ],
          [
           "travel"
          ],
          [
           "travel"
          ]
         ],
         "hovertemplate": "Category=%{customdata[0]}<br>YYYY.W=%{x}<br>Delta=%{y}<extra></extra>",
         "legendgroup": "travel",
         "marker": {
          "color": "#FF97FF",
          "pattern": {
           "shape": ""
          }
         },
         "name": "travel",
         "offsetgroup": "travel",
         "orientation": "v",
         "showlegend": true,
         "text": [
          "travel",
          "travel",
          "travel",
          "travel"
         ],
         "textposition": "auto",
         "type": "bar",
         "x": [
          2022.35,
          2022.36,
          2022.37,
          2022.38
         ],
         "xaxis": "x",
         "y": [
          782,
          307,
          1316,
          1655
         ],
         "yaxis": "y"
        },
        {
         "alignmentgroup": "True",
         "customdata": [
          [
           "unk"
          ],
          [
           "unk"
          ],
          [
           "unk"
          ],
          [
           "unk"
          ]
         ],
         "hovertemplate": "Category=%{customdata[0]}<br>YYYY.W=%{x}<br>Delta=%{y}<extra></extra>",
         "legendgroup": "unk",
         "marker": {
          "color": "#FECB52",
          "pattern": {
           "shape": ""
          }
         },
         "name": "unk",
         "offsetgroup": "unk",
         "orientation": "v",
         "showlegend": true,
         "text": [
          "unk",
          "unk",
          "unk",
          "unk"
         ],
         "textposition": "auto",
         "type": "bar",
         "x": [
          2022.35,
          2022.36,
          2022.37,
          2022.38
         ],
         "xaxis": "x",
         "y": [
          313,
          1263,
          971,
          1390
         ],
         "yaxis": "y"
        },
        {
         "alignmentgroup": "True",
         "customdata": [
          [
           "utility"
          ]
         ],
         "hovertemplate": "Category=%{customdata[0]}<br>YYYY.W=%{x}<br>Delta=%{y}<extra></extra>",
         "legendgroup": "utility",
         "marker": {
          "color": "#636efa",
          "pattern": {
           "shape": ""
          }
         },
         "name": "utility",
         "offsetgroup": "utility",
         "orientation": "v",
         "showlegend": true,
         "text": [
          "utility"
         ],
         "textposition": "auto",
         "type": "bar",
         "x": [
          2022.37
         ],
         "xaxis": "x",
         "y": [
          881
         ],
         "yaxis": "y"
        }
       ],
       "layout": {
        "barmode": "relative",
        "height": 600,
        "legend": {
         "title": {
          "text": "Category"
         },
         "tracegroupgap": 0
        },
        "margin": {
         "t": 60
        },
        "template": {
         "data": {
          "bar": [
           {
            "error_x": {
             "color": "#f2f5fa"
            },
            "error_y": {
             "color": "#f2f5fa"
            },
            "marker": {
             "line": {
              "color": "rgb(17,17,17)",
              "width": 0.5
             },
             "pattern": {
              "fillmode": "overlay",
              "size": 10,
              "solidity": 0.2
             }
            },
            "type": "bar"
           }
          ],
          "barpolar": [
           {
            "marker": {
             "line": {
              "color": "rgb(17,17,17)",
              "width": 0.5
             },
             "pattern": {
              "fillmode": "overlay",
              "size": 10,
              "solidity": 0.2
             }
            },
            "type": "barpolar"
           }
          ],
          "carpet": [
           {
            "aaxis": {
             "endlinecolor": "#A2B1C6",
             "gridcolor": "#506784",
             "linecolor": "#506784",
             "minorgridcolor": "#506784",
             "startlinecolor": "#A2B1C6"
            },
            "baxis": {
             "endlinecolor": "#A2B1C6",
             "gridcolor": "#506784",
             "linecolor": "#506784",
             "minorgridcolor": "#506784",
             "startlinecolor": "#A2B1C6"
            },
            "type": "carpet"
           }
          ],
          "choropleth": [
           {
            "colorbar": {
             "outlinewidth": 0,
             "ticks": ""
            },
            "type": "choropleth"
           }
          ],
          "contour": [
           {
            "colorbar": {
             "outlinewidth": 0,
             "ticks": ""
            },
            "colorscale": [
             [
              0,
              "#0d0887"
             ],
             [
              0.1111111111111111,
              "#46039f"
             ],
             [
              0.2222222222222222,
              "#7201a8"
             ],
             [
              0.3333333333333333,
              "#9c179e"
             ],
             [
              0.4444444444444444,
              "#bd3786"
             ],
             [
              0.5555555555555556,
              "#d8576b"
             ],
             [
              0.6666666666666666,
              "#ed7953"
             ],
             [
              0.7777777777777778,
              "#fb9f3a"
             ],
             [
              0.8888888888888888,
              "#fdca26"
             ],
             [
              1,
              "#f0f921"
             ]
            ],
            "type": "contour"
           }
          ],
          "contourcarpet": [
           {
            "colorbar": {
             "outlinewidth": 0,
             "ticks": ""
            },
            "type": "contourcarpet"
           }
          ],
          "heatmap": [
           {
            "colorbar": {
             "outlinewidth": 0,
             "ticks": ""
            },
            "colorscale": [
             [
              0,
              "#0d0887"
             ],
             [
              0.1111111111111111,
              "#46039f"
             ],
             [
              0.2222222222222222,
              "#7201a8"
             ],
             [
              0.3333333333333333,
              "#9c179e"
             ],
             [
              0.4444444444444444,
              "#bd3786"
             ],
             [
              0.5555555555555556,
              "#d8576b"
             ],
             [
              0.6666666666666666,
              "#ed7953"
             ],
             [
              0.7777777777777778,
              "#fb9f3a"
             ],
             [
              0.8888888888888888,
              "#fdca26"
             ],
             [
              1,
              "#f0f921"
             ]
            ],
            "type": "heatmap"
           }
          ],
          "heatmapgl": [
           {
            "colorbar": {
             "outlinewidth": 0,
             "ticks": ""
            },
            "colorscale": [
             [
              0,
              "#0d0887"
             ],
             [
              0.1111111111111111,
              "#46039f"
             ],
             [
              0.2222222222222222,
              "#7201a8"
             ],
             [
              0.3333333333333333,
              "#9c179e"
             ],
             [
              0.4444444444444444,
              "#bd3786"
             ],
             [
              0.5555555555555556,
              "#d8576b"
             ],
             [
              0.6666666666666666,
              "#ed7953"
             ],
             [
              0.7777777777777778,
              "#fb9f3a"
             ],
             [
              0.8888888888888888,
              "#fdca26"
             ],
             [
              1,
              "#f0f921"
             ]
            ],
            "type": "heatmapgl"
           }
          ],
          "histogram": [
           {
            "marker": {
             "pattern": {
              "fillmode": "overlay",
              "size": 10,
              "solidity": 0.2
             }
            },
            "type": "histogram"
           }
          ],
          "histogram2d": [
           {
            "colorbar": {
             "outlinewidth": 0,
             "ticks": ""
            },
            "colorscale": [
             [
              0,
              "#0d0887"
             ],
             [
              0.1111111111111111,
              "#46039f"
             ],
             [
              0.2222222222222222,
              "#7201a8"
             ],
             [
              0.3333333333333333,
              "#9c179e"
             ],
             [
              0.4444444444444444,
              "#bd3786"
             ],
             [
              0.5555555555555556,
              "#d8576b"
             ],
             [
              0.6666666666666666,
              "#ed7953"
             ],
             [
              0.7777777777777778,
              "#fb9f3a"
             ],
             [
              0.8888888888888888,
              "#fdca26"
             ],
             [
              1,
              "#f0f921"
             ]
            ],
            "type": "histogram2d"
           }
          ],
          "histogram2dcontour": [
           {
            "colorbar": {
             "outlinewidth": 0,
             "ticks": ""
            },
            "colorscale": [
             [
              0,
              "#0d0887"
             ],
             [
              0.1111111111111111,
              "#46039f"
             ],
             [
              0.2222222222222222,
              "#7201a8"
             ],
             [
              0.3333333333333333,
              "#9c179e"
             ],
             [
              0.4444444444444444,
              "#bd3786"
             ],
             [
              0.5555555555555556,
              "#d8576b"
             ],
             [
              0.6666666666666666,
              "#ed7953"
             ],
             [
              0.7777777777777778,
              "#fb9f3a"
             ],
             [
              0.8888888888888888,
              "#fdca26"
             ],
             [
              1,
              "#f0f921"
             ]
            ],
            "type": "histogram2dcontour"
           }
          ],
          "mesh3d": [
           {
            "colorbar": {
             "outlinewidth": 0,
             "ticks": ""
            },
            "type": "mesh3d"
           }
          ],
          "parcoords": [
           {
            "line": {
             "colorbar": {
              "outlinewidth": 0,
              "ticks": ""
             }
            },
            "type": "parcoords"
           }
          ],
          "pie": [
           {
            "automargin": true,
            "type": "pie"
           }
          ],
          "scatter": [
           {
            "marker": {
             "line": {
              "color": "#283442"
             }
            },
            "type": "scatter"
           }
          ],
          "scatter3d": [
           {
            "line": {
             "colorbar": {
              "outlinewidth": 0,
              "ticks": ""
             }
            },
            "marker": {
             "colorbar": {
              "outlinewidth": 0,
              "ticks": ""
             }
            },
            "type": "scatter3d"
           }
          ],
          "scattercarpet": [
           {
            "marker": {
             "colorbar": {
              "outlinewidth": 0,
              "ticks": ""
             }
            },
            "type": "scattercarpet"
           }
          ],
          "scattergeo": [
           {
            "marker": {
             "colorbar": {
              "outlinewidth": 0,
              "ticks": ""
             }
            },
            "type": "scattergeo"
           }
          ],
          "scattergl": [
           {
            "marker": {
             "line": {
              "color": "#283442"
             }
            },
            "type": "scattergl"
           }
          ],
          "scattermapbox": [
           {
            "marker": {
             "colorbar": {
              "outlinewidth": 0,
              "ticks": ""
             }
            },
            "type": "scattermapbox"
           }
          ],
          "scatterpolar": [
           {
            "marker": {
             "colorbar": {
              "outlinewidth": 0,
              "ticks": ""
             }
            },
            "type": "scatterpolar"
           }
          ],
          "scatterpolargl": [
           {
            "marker": {
             "colorbar": {
              "outlinewidth": 0,
              "ticks": ""
             }
            },
            "type": "scatterpolargl"
           }
          ],
          "scatterternary": [
           {
            "marker": {
             "colorbar": {
              "outlinewidth": 0,
              "ticks": ""
             }
            },
            "type": "scatterternary"
           }
          ],
          "surface": [
           {
            "colorbar": {
             "outlinewidth": 0,
             "ticks": ""
            },
            "colorscale": [
             [
              0,
              "#0d0887"
             ],
             [
              0.1111111111111111,
              "#46039f"
             ],
             [
              0.2222222222222222,
              "#7201a8"
             ],
             [
              0.3333333333333333,
              "#9c179e"
             ],
             [
              0.4444444444444444,
              "#bd3786"
             ],
             [
              0.5555555555555556,
              "#d8576b"
             ],
             [
              0.6666666666666666,
              "#ed7953"
             ],
             [
              0.7777777777777778,
              "#fb9f3a"
             ],
             [
              0.8888888888888888,
              "#fdca26"
             ],
             [
              1,
              "#f0f921"
             ]
            ],
            "type": "surface"
           }
          ],
          "table": [
           {
            "cells": {
             "fill": {
              "color": "#506784"
             },
             "line": {
              "color": "rgb(17,17,17)"
             }
            },
            "header": {
             "fill": {
              "color": "#2a3f5f"
             },
             "line": {
              "color": "rgb(17,17,17)"
             }
            },
            "type": "table"
           }
          ]
         },
         "layout": {
          "annotationdefaults": {
           "arrowcolor": "#f2f5fa",
           "arrowhead": 0,
           "arrowwidth": 1
          },
          "autotypenumbers": "strict",
          "coloraxis": {
           "colorbar": {
            "outlinewidth": 0,
            "ticks": ""
           }
          },
          "colorscale": {
           "diverging": [
            [
             0,
             "#8e0152"
            ],
            [
             0.1,
             "#c51b7d"
            ],
            [
             0.2,
             "#de77ae"
            ],
            [
             0.3,
             "#f1b6da"
            ],
            [
             0.4,
             "#fde0ef"
            ],
            [
             0.5,
             "#f7f7f7"
            ],
            [
             0.6,
             "#e6f5d0"
            ],
            [
             0.7,
             "#b8e186"
            ],
            [
             0.8,
             "#7fbc41"
            ],
            [
             0.9,
             "#4d9221"
            ],
            [
             1,
             "#276419"
            ]
           ],
           "sequential": [
            [
             0,
             "#0d0887"
            ],
            [
             0.1111111111111111,
             "#46039f"
            ],
            [
             0.2222222222222222,
             "#7201a8"
            ],
            [
             0.3333333333333333,
             "#9c179e"
            ],
            [
             0.4444444444444444,
             "#bd3786"
            ],
            [
             0.5555555555555556,
             "#d8576b"
            ],
            [
             0.6666666666666666,
             "#ed7953"
            ],
            [
             0.7777777777777778,
             "#fb9f3a"
            ],
            [
             0.8888888888888888,
             "#fdca26"
            ],
            [
             1,
             "#f0f921"
            ]
           ],
           "sequentialminus": [
            [
             0,
             "#0d0887"
            ],
            [
             0.1111111111111111,
             "#46039f"
            ],
            [
             0.2222222222222222,
             "#7201a8"
            ],
            [
             0.3333333333333333,
             "#9c179e"
            ],
            [
             0.4444444444444444,
             "#bd3786"
            ],
            [
             0.5555555555555556,
             "#d8576b"
            ],
            [
             0.6666666666666666,
             "#ed7953"
            ],
            [
             0.7777777777777778,
             "#fb9f3a"
            ],
            [
             0.8888888888888888,
             "#fdca26"
            ],
            [
             1,
             "#f0f921"
            ]
           ]
          },
          "colorway": [
           "#636efa",
           "#EF553B",
           "#00cc96",
           "#ab63fa",
           "#FFA15A",
           "#19d3f3",
           "#FF6692",
           "#B6E880",
           "#FF97FF",
           "#FECB52"
          ],
          "font": {
           "color": "#f2f5fa"
          },
          "geo": {
           "bgcolor": "rgb(17,17,17)",
           "lakecolor": "rgb(17,17,17)",
           "landcolor": "rgb(17,17,17)",
           "showlakes": true,
           "showland": true,
           "subunitcolor": "#506784"
          },
          "hoverlabel": {
           "align": "left"
          },
          "hovermode": "closest",
          "mapbox": {
           "style": "dark"
          },
          "paper_bgcolor": "rgb(17,17,17)",
          "plot_bgcolor": "rgb(17,17,17)",
          "polar": {
           "angularaxis": {
            "gridcolor": "#506784",
            "linecolor": "#506784",
            "ticks": ""
           },
           "bgcolor": "rgb(17,17,17)",
           "radialaxis": {
            "gridcolor": "#506784",
            "linecolor": "#506784",
            "ticks": ""
           }
          },
          "scene": {
           "xaxis": {
            "backgroundcolor": "rgb(17,17,17)",
            "gridcolor": "#506784",
            "gridwidth": 2,
            "linecolor": "#506784",
            "showbackground": true,
            "ticks": "",
            "zerolinecolor": "#C8D4E3"
           },
           "yaxis": {
            "backgroundcolor": "rgb(17,17,17)",
            "gridcolor": "#506784",
            "gridwidth": 2,
            "linecolor": "#506784",
            "showbackground": true,
            "ticks": "",
            "zerolinecolor": "#C8D4E3"
           },
           "zaxis": {
            "backgroundcolor": "rgb(17,17,17)",
            "gridcolor": "#506784",
            "gridwidth": 2,
            "linecolor": "#506784",
            "showbackground": true,
            "ticks": "",
            "zerolinecolor": "#C8D4E3"
           }
          },
          "shapedefaults": {
           "line": {
            "color": "#f2f5fa"
           }
          },
          "sliderdefaults": {
           "bgcolor": "#C8D4E3",
           "bordercolor": "rgb(17,17,17)",
           "borderwidth": 1,
           "tickwidth": 0
          },
          "ternary": {
           "aaxis": {
            "gridcolor": "#506784",
            "linecolor": "#506784",
            "ticks": ""
           },
           "baxis": {
            "gridcolor": "#506784",
            "linecolor": "#506784",
            "ticks": ""
           },
           "bgcolor": "rgb(17,17,17)",
           "caxis": {
            "gridcolor": "#506784",
            "linecolor": "#506784",
            "ticks": ""
           }
          },
          "title": {
           "x": 0.05
          },
          "updatemenudefaults": {
           "bgcolor": "#506784",
           "borderwidth": 0
          },
          "xaxis": {
           "automargin": true,
           "gridcolor": "#283442",
           "linecolor": "#506784",
           "ticks": "",
           "title": {
            "standoff": 15
           },
           "zerolinecolor": "#283442",
           "zerolinewidth": 2
          },
          "yaxis": {
           "automargin": true,
           "gridcolor": "#283442",
           "linecolor": "#506784",
           "ticks": "",
           "title": {
            "standoff": 15
           },
           "zerolinecolor": "#283442",
           "zerolinewidth": 2
          }
         }
        },
        "xaxis": {
         "anchor": "y",
         "domain": [
          0,
          1
         ],
         "title": {
          "text": "YYYY.W"
         }
        },
        "yaxis": {
         "anchor": "x",
         "domain": [
          0,
          1
         ],
         "title": {
          "text": "Delta"
         }
        }
       }
      }
     },
     "metadata": {},
     "output_type": "display_data"
    },
    {
     "data": {
      "text/html": [
       "<h2> 📊 Bar-Chart: 90 Days</h2>"
      ],
      "text/plain": [
       "<IPython.core.display.HTML object>"
      ]
     },
     "metadata": {},
     "output_type": "display_data"
    },
    {
     "data": {
      "text/html": [
       "from 2022-06-24 00:00:00"
      ],
      "text/plain": [
       "<IPython.core.display.HTML object>"
      ]
     },
     "metadata": {},
     "output_type": "display_data"
    },
    {
     "data": {
      "text/html": [
       "to 2022-09-22 00:00:00"
      ],
      "text/plain": [
       "<IPython.core.display.HTML object>"
      ]
     },
     "metadata": {},
     "output_type": "display_data"
    },
    {
     "data": {
      "text/html": [
       "total 75920"
      ],
      "text/plain": [
       "<IPython.core.display.HTML object>"
      ]
     },
     "metadata": {},
     "output_type": "display_data"
    },
    {
     "data": {
      "application/vnd.plotly.v1+json": {
       "config": {
        "plotlyServerURL": "https://plot.ly"
       },
       "data": [
        {
         "alignmentgroup": "True",
         "customdata": [
          [
           "grocery"
          ],
          [
           "grocery"
          ],
          [
           "grocery"
          ],
          [
           "grocery"
          ]
         ],
         "hovertemplate": "Category=%{customdata[0]}<br>YYYYMM=%{x}<br>Delta=%{y}<extra></extra>",
         "legendgroup": "grocery",
         "marker": {
          "color": "#636efa",
          "pattern": {
           "shape": ""
          }
         },
         "name": "grocery",
         "offsetgroup": "grocery",
         "orientation": "v",
         "showlegend": true,
         "text": [
          "grocery",
          "grocery",
          "grocery",
          "grocery"
         ],
         "textposition": "auto",
         "type": "bar",
         "x": [
          202206,
          202207,
          202208,
          202209
         ],
         "xaxis": "x",
         "y": [
          902,
          153,
          4034,
          3538
         ],
         "yaxis": "y"
        },
        {
         "alignmentgroup": "True",
         "customdata": [
          [
           "health"
          ],
          [
           "health"
          ],
          [
           "health"
          ],
          [
           "health"
          ]
         ],
         "hovertemplate": "Category=%{customdata[0]}<br>YYYYMM=%{x}<br>Delta=%{y}<extra></extra>",
         "legendgroup": "health",
         "marker": {
          "color": "#EF553B",
          "pattern": {
           "shape": ""
          }
         },
         "name": "health",
         "offsetgroup": "health",
         "orientation": "v",
         "showlegend": true,
         "text": [
          "health",
          "health",
          "health",
          "health"
         ],
         "textposition": "auto",
         "type": "bar",
         "x": [
          202206,
          202207,
          202208,
          202209
         ],
         "xaxis": "x",
         "y": [
          1063,
          3820,
          2027,
          2734
         ],
         "yaxis": "y"
        },
        {
         "alignmentgroup": "True",
         "customdata": [
          [
           "invest"
          ],
          [
           "invest"
          ],
          [
           "invest"
          ],
          [
           "invest"
          ]
         ],
         "hovertemplate": "Category=%{customdata[0]}<br>YYYYMM=%{x}<br>Delta=%{y}<extra></extra>",
         "legendgroup": "invest",
         "marker": {
          "color": "#00cc96",
          "pattern": {
           "shape": ""
          }
         },
         "name": "invest",
         "offsetgroup": "invest",
         "orientation": "v",
         "showlegend": true,
         "text": [
          "invest",
          "invest",
          "invest",
          "invest"
         ],
         "textposition": "auto",
         "type": "bar",
         "x": [
          202206,
          202207,
          202208,
          202209
         ],
         "xaxis": "x",
         "y": [
          1055,
          1517,
          6016,
          4173
         ],
         "yaxis": "y"
        },
        {
         "alignmentgroup": "True",
         "customdata": [
          [
           "tech"
          ],
          [
           "tech"
          ],
          [
           "tech"
          ],
          [
           "tech"
          ]
         ],
         "hovertemplate": "Category=%{customdata[0]}<br>YYYYMM=%{x}<br>Delta=%{y}<extra></extra>",
         "legendgroup": "tech",
         "marker": {
          "color": "#ab63fa",
          "pattern": {
           "shape": ""
          }
         },
         "name": "tech",
         "offsetgroup": "tech",
         "orientation": "v",
         "showlegend": true,
         "text": [
          "tech",
          "tech",
          "tech",
          "tech"
         ],
         "textposition": "auto",
         "type": "bar",
         "x": [
          202206,
          202207,
          202208,
          202209
         ],
         "xaxis": "x",
         "y": [
          634,
          1289,
          1602,
          2039
         ],
         "yaxis": "y"
        },
        {
         "alignmentgroup": "True",
         "customdata": [
          [
           "travel"
          ],
          [
           "travel"
          ],
          [
           "travel"
          ],
          [
           "travel"
          ]
         ],
         "hovertemplate": "Category=%{customdata[0]}<br>YYYYMM=%{x}<br>Delta=%{y}<extra></extra>",
         "legendgroup": "travel",
         "marker": {
          "color": "#FFA15A",
          "pattern": {
           "shape": ""
          }
         },
         "name": "travel",
         "offsetgroup": "travel",
         "orientation": "v",
         "showlegend": true,
         "text": [
          "travel",
          "travel",
          "travel",
          "travel"
         ],
         "textposition": "auto",
         "type": "bar",
         "x": [
          202206,
          202207,
          202208,
          202209
         ],
         "xaxis": "x",
         "y": [
          775,
          1848,
          3416,
          3278
         ],
         "yaxis": "y"
        },
        {
         "alignmentgroup": "True",
         "customdata": [
          [
           "unk"
          ],
          [
           "unk"
          ],
          [
           "unk"
          ],
          [
           "unk"
          ]
         ],
         "hovertemplate": "Category=%{customdata[0]}<br>YYYYMM=%{x}<br>Delta=%{y}<extra></extra>",
         "legendgroup": "unk",
         "marker": {
          "color": "#19d3f3",
          "pattern": {
           "shape": ""
          }
         },
         "name": "unk",
         "offsetgroup": "unk",
         "orientation": "v",
         "showlegend": true,
         "text": [
          "unk",
          "unk",
          "unk",
          "unk"
         ],
         "textposition": "auto",
         "type": "bar",
         "x": [
          202206,
          202207,
          202208,
          202209
         ],
         "xaxis": "x",
         "y": [
          2368,
          241,
          1361,
          3624
         ],
         "yaxis": "y"
        },
        {
         "alignmentgroup": "True",
         "customdata": [
          [
           "utility"
          ],
          [
           "utility"
          ],
          [
           "utility"
          ],
          [
           "utility"
          ]
         ],
         "hovertemplate": "Category=%{customdata[0]}<br>YYYYMM=%{x}<br>Delta=%{y}<extra></extra>",
         "legendgroup": "utility",
         "marker": {
          "color": "#FF6692",
          "pattern": {
           "shape": ""
          }
         },
         "name": "utility",
         "offsetgroup": "utility",
         "orientation": "v",
         "showlegend": true,
         "text": [
          "utility",
          "utility",
          "utility",
          "utility"
         ],
         "textposition": "auto",
         "type": "bar",
         "x": [
          202206,
          202207,
          202208,
          202209
         ],
         "xaxis": "x",
         "y": [
          895,
          1413,
          626,
          881
         ],
         "yaxis": "y"
        },
        {
         "alignmentgroup": "True",
         "customdata": [
          [
           "clothing"
          ],
          [
           "clothing"
          ],
          [
           "clothing"
          ]
         ],
         "hovertemplate": "Category=%{customdata[0]}<br>YYYYMM=%{x}<br>Delta=%{y}<extra></extra>",
         "legendgroup": "clothing",
         "marker": {
          "color": "#B6E880",
          "pattern": {
           "shape": ""
          }
         },
         "name": "clothing",
         "offsetgroup": "clothing",
         "orientation": "v",
         "showlegend": true,
         "text": [
          "clothing",
          "clothing",
          "clothing"
         ],
         "textposition": "auto",
         "type": "bar",
         "x": [
          202207,
          202208,
          202209
         ],
         "xaxis": "x",
         "y": [
          2354,
          2452,
          1814
         ],
         "yaxis": "y"
        },
        {
         "alignmentgroup": "True",
         "customdata": [
          [
           "debt"
          ],
          [
           "debt"
          ]
         ],
         "hovertemplate": "Category=%{customdata[0]}<br>YYYYMM=%{x}<br>Delta=%{y}<extra></extra>",
         "legendgroup": "debt",
         "marker": {
          "color": "#FF97FF",
          "pattern": {
           "shape": ""
          }
         },
         "name": "debt",
         "offsetgroup": "debt",
         "orientation": "v",
         "showlegend": true,
         "text": [
          "debt",
          "debt"
         ],
         "textposition": "auto",
         "type": "bar",
         "x": [
          202207,
          202208
         ],
         "xaxis": "x",
         "y": [
          785,
          2144
         ],
         "yaxis": "y"
        },
        {
         "alignmentgroup": "True",
         "customdata": [
          [
           "misc"
          ],
          [
           "misc"
          ],
          [
           "misc"
          ]
         ],
         "hovertemplate": "Category=%{customdata[0]}<br>YYYYMM=%{x}<br>Delta=%{y}<extra></extra>",
         "legendgroup": "misc",
         "marker": {
          "color": "#FECB52",
          "pattern": {
           "shape": ""
          }
         },
         "name": "misc",
         "offsetgroup": "misc",
         "orientation": "v",
         "showlegend": true,
         "text": [
          "misc",
          "misc",
          "misc"
         ],
         "textposition": "auto",
         "type": "bar",
         "x": [
          202207,
          202208,
          202209
         ],
         "xaxis": "x",
         "y": [
          1771,
          1862,
          914
         ],
         "yaxis": "y"
        },
        {
         "alignmentgroup": "True",
         "customdata": [
          [
           "paypal"
          ],
          [
           "paypal"
          ],
          [
           "paypal"
          ]
         ],
         "hovertemplate": "Category=%{customdata[0]}<br>YYYYMM=%{x}<br>Delta=%{y}<extra></extra>",
         "legendgroup": "paypal",
         "marker": {
          "color": "#636efa",
          "pattern": {
           "shape": ""
          }
         },
         "name": "paypal",
         "offsetgroup": "paypal",
         "orientation": "v",
         "showlegend": true,
         "text": [
          "paypal",
          "paypal",
          "paypal"
         ],
         "textposition": "auto",
         "type": "bar",
         "x": [
          202207,
          202208,
          202209
         ],
         "xaxis": "x",
         "y": [
          727,
          1347,
          2428
         ],
         "yaxis": "y"
        }
       ],
       "layout": {
        "barmode": "relative",
        "height": 600,
        "legend": {
         "title": {
          "text": "Category"
         },
         "tracegroupgap": 0
        },
        "margin": {
         "t": 60
        },
        "template": {
         "data": {
          "bar": [
           {
            "error_x": {
             "color": "#f2f5fa"
            },
            "error_y": {
             "color": "#f2f5fa"
            },
            "marker": {
             "line": {
              "color": "rgb(17,17,17)",
              "width": 0.5
             },
             "pattern": {
              "fillmode": "overlay",
              "size": 10,
              "solidity": 0.2
             }
            },
            "type": "bar"
           }
          ],
          "barpolar": [
           {
            "marker": {
             "line": {
              "color": "rgb(17,17,17)",
              "width": 0.5
             },
             "pattern": {
              "fillmode": "overlay",
              "size": 10,
              "solidity": 0.2
             }
            },
            "type": "barpolar"
           }
          ],
          "carpet": [
           {
            "aaxis": {
             "endlinecolor": "#A2B1C6",
             "gridcolor": "#506784",
             "linecolor": "#506784",
             "minorgridcolor": "#506784",
             "startlinecolor": "#A2B1C6"
            },
            "baxis": {
             "endlinecolor": "#A2B1C6",
             "gridcolor": "#506784",
             "linecolor": "#506784",
             "minorgridcolor": "#506784",
             "startlinecolor": "#A2B1C6"
            },
            "type": "carpet"
           }
          ],
          "choropleth": [
           {
            "colorbar": {
             "outlinewidth": 0,
             "ticks": ""
            },
            "type": "choropleth"
           }
          ],
          "contour": [
           {
            "colorbar": {
             "outlinewidth": 0,
             "ticks": ""
            },
            "colorscale": [
             [
              0,
              "#0d0887"
             ],
             [
              0.1111111111111111,
              "#46039f"
             ],
             [
              0.2222222222222222,
              "#7201a8"
             ],
             [
              0.3333333333333333,
              "#9c179e"
             ],
             [
              0.4444444444444444,
              "#bd3786"
             ],
             [
              0.5555555555555556,
              "#d8576b"
             ],
             [
              0.6666666666666666,
              "#ed7953"
             ],
             [
              0.7777777777777778,
              "#fb9f3a"
             ],
             [
              0.8888888888888888,
              "#fdca26"
             ],
             [
              1,
              "#f0f921"
             ]
            ],
            "type": "contour"
           }
          ],
          "contourcarpet": [
           {
            "colorbar": {
             "outlinewidth": 0,
             "ticks": ""
            },
            "type": "contourcarpet"
           }
          ],
          "heatmap": [
           {
            "colorbar": {
             "outlinewidth": 0,
             "ticks": ""
            },
            "colorscale": [
             [
              0,
              "#0d0887"
             ],
             [
              0.1111111111111111,
              "#46039f"
             ],
             [
              0.2222222222222222,
              "#7201a8"
             ],
             [
              0.3333333333333333,
              "#9c179e"
             ],
             [
              0.4444444444444444,
              "#bd3786"
             ],
             [
              0.5555555555555556,
              "#d8576b"
             ],
             [
              0.6666666666666666,
              "#ed7953"
             ],
             [
              0.7777777777777778,
              "#fb9f3a"
             ],
             [
              0.8888888888888888,
              "#fdca26"
             ],
             [
              1,
              "#f0f921"
             ]
            ],
            "type": "heatmap"
           }
          ],
          "heatmapgl": [
           {
            "colorbar": {
             "outlinewidth": 0,
             "ticks": ""
            },
            "colorscale": [
             [
              0,
              "#0d0887"
             ],
             [
              0.1111111111111111,
              "#46039f"
             ],
             [
              0.2222222222222222,
              "#7201a8"
             ],
             [
              0.3333333333333333,
              "#9c179e"
             ],
             [
              0.4444444444444444,
              "#bd3786"
             ],
             [
              0.5555555555555556,
              "#d8576b"
             ],
             [
              0.6666666666666666,
              "#ed7953"
             ],
             [
              0.7777777777777778,
              "#fb9f3a"
             ],
             [
              0.8888888888888888,
              "#fdca26"
             ],
             [
              1,
              "#f0f921"
             ]
            ],
            "type": "heatmapgl"
           }
          ],
          "histogram": [
           {
            "marker": {
             "pattern": {
              "fillmode": "overlay",
              "size": 10,
              "solidity": 0.2
             }
            },
            "type": "histogram"
           }
          ],
          "histogram2d": [
           {
            "colorbar": {
             "outlinewidth": 0,
             "ticks": ""
            },
            "colorscale": [
             [
              0,
              "#0d0887"
             ],
             [
              0.1111111111111111,
              "#46039f"
             ],
             [
              0.2222222222222222,
              "#7201a8"
             ],
             [
              0.3333333333333333,
              "#9c179e"
             ],
             [
              0.4444444444444444,
              "#bd3786"
             ],
             [
              0.5555555555555556,
              "#d8576b"
             ],
             [
              0.6666666666666666,
              "#ed7953"
             ],
             [
              0.7777777777777778,
              "#fb9f3a"
             ],
             [
              0.8888888888888888,
              "#fdca26"
             ],
             [
              1,
              "#f0f921"
             ]
            ],
            "type": "histogram2d"
           }
          ],
          "histogram2dcontour": [
           {
            "colorbar": {
             "outlinewidth": 0,
             "ticks": ""
            },
            "colorscale": [
             [
              0,
              "#0d0887"
             ],
             [
              0.1111111111111111,
              "#46039f"
             ],
             [
              0.2222222222222222,
              "#7201a8"
             ],
             [
              0.3333333333333333,
              "#9c179e"
             ],
             [
              0.4444444444444444,
              "#bd3786"
             ],
             [
              0.5555555555555556,
              "#d8576b"
             ],
             [
              0.6666666666666666,
              "#ed7953"
             ],
             [
              0.7777777777777778,
              "#fb9f3a"
             ],
             [
              0.8888888888888888,
              "#fdca26"
             ],
             [
              1,
              "#f0f921"
             ]
            ],
            "type": "histogram2dcontour"
           }
          ],
          "mesh3d": [
           {
            "colorbar": {
             "outlinewidth": 0,
             "ticks": ""
            },
            "type": "mesh3d"
           }
          ],
          "parcoords": [
           {
            "line": {
             "colorbar": {
              "outlinewidth": 0,
              "ticks": ""
             }
            },
            "type": "parcoords"
           }
          ],
          "pie": [
           {
            "automargin": true,
            "type": "pie"
           }
          ],
          "scatter": [
           {
            "marker": {
             "line": {
              "color": "#283442"
             }
            },
            "type": "scatter"
           }
          ],
          "scatter3d": [
           {
            "line": {
             "colorbar": {
              "outlinewidth": 0,
              "ticks": ""
             }
            },
            "marker": {
             "colorbar": {
              "outlinewidth": 0,
              "ticks": ""
             }
            },
            "type": "scatter3d"
           }
          ],
          "scattercarpet": [
           {
            "marker": {
             "colorbar": {
              "outlinewidth": 0,
              "ticks": ""
             }
            },
            "type": "scattercarpet"
           }
          ],
          "scattergeo": [
           {
            "marker": {
             "colorbar": {
              "outlinewidth": 0,
              "ticks": ""
             }
            },
            "type": "scattergeo"
           }
          ],
          "scattergl": [
           {
            "marker": {
             "line": {
              "color": "#283442"
             }
            },
            "type": "scattergl"
           }
          ],
          "scattermapbox": [
           {
            "marker": {
             "colorbar": {
              "outlinewidth": 0,
              "ticks": ""
             }
            },
            "type": "scattermapbox"
           }
          ],
          "scatterpolar": [
           {
            "marker": {
             "colorbar": {
              "outlinewidth": 0,
              "ticks": ""
             }
            },
            "type": "scatterpolar"
           }
          ],
          "scatterpolargl": [
           {
            "marker": {
             "colorbar": {
              "outlinewidth": 0,
              "ticks": ""
             }
            },
            "type": "scatterpolargl"
           }
          ],
          "scatterternary": [
           {
            "marker": {
             "colorbar": {
              "outlinewidth": 0,
              "ticks": ""
             }
            },
            "type": "scatterternary"
           }
          ],
          "surface": [
           {
            "colorbar": {
             "outlinewidth": 0,
             "ticks": ""
            },
            "colorscale": [
             [
              0,
              "#0d0887"
             ],
             [
              0.1111111111111111,
              "#46039f"
             ],
             [
              0.2222222222222222,
              "#7201a8"
             ],
             [
              0.3333333333333333,
              "#9c179e"
             ],
             [
              0.4444444444444444,
              "#bd3786"
             ],
             [
              0.5555555555555556,
              "#d8576b"
             ],
             [
              0.6666666666666666,
              "#ed7953"
             ],
             [
              0.7777777777777778,
              "#fb9f3a"
             ],
             [
              0.8888888888888888,
              "#fdca26"
             ],
             [
              1,
              "#f0f921"
             ]
            ],
            "type": "surface"
           }
          ],
          "table": [
           {
            "cells": {
             "fill": {
              "color": "#506784"
             },
             "line": {
              "color": "rgb(17,17,17)"
             }
            },
            "header": {
             "fill": {
              "color": "#2a3f5f"
             },
             "line": {
              "color": "rgb(17,17,17)"
             }
            },
            "type": "table"
           }
          ]
         },
         "layout": {
          "annotationdefaults": {
           "arrowcolor": "#f2f5fa",
           "arrowhead": 0,
           "arrowwidth": 1
          },
          "autotypenumbers": "strict",
          "coloraxis": {
           "colorbar": {
            "outlinewidth": 0,
            "ticks": ""
           }
          },
          "colorscale": {
           "diverging": [
            [
             0,
             "#8e0152"
            ],
            [
             0.1,
             "#c51b7d"
            ],
            [
             0.2,
             "#de77ae"
            ],
            [
             0.3,
             "#f1b6da"
            ],
            [
             0.4,
             "#fde0ef"
            ],
            [
             0.5,
             "#f7f7f7"
            ],
            [
             0.6,
             "#e6f5d0"
            ],
            [
             0.7,
             "#b8e186"
            ],
            [
             0.8,
             "#7fbc41"
            ],
            [
             0.9,
             "#4d9221"
            ],
            [
             1,
             "#276419"
            ]
           ],
           "sequential": [
            [
             0,
             "#0d0887"
            ],
            [
             0.1111111111111111,
             "#46039f"
            ],
            [
             0.2222222222222222,
             "#7201a8"
            ],
            [
             0.3333333333333333,
             "#9c179e"
            ],
            [
             0.4444444444444444,
             "#bd3786"
            ],
            [
             0.5555555555555556,
             "#d8576b"
            ],
            [
             0.6666666666666666,
             "#ed7953"
            ],
            [
             0.7777777777777778,
             "#fb9f3a"
            ],
            [
             0.8888888888888888,
             "#fdca26"
            ],
            [
             1,
             "#f0f921"
            ]
           ],
           "sequentialminus": [
            [
             0,
             "#0d0887"
            ],
            [
             0.1111111111111111,
             "#46039f"
            ],
            [
             0.2222222222222222,
             "#7201a8"
            ],
            [
             0.3333333333333333,
             "#9c179e"
            ],
            [
             0.4444444444444444,
             "#bd3786"
            ],
            [
             0.5555555555555556,
             "#d8576b"
            ],
            [
             0.6666666666666666,
             "#ed7953"
            ],
            [
             0.7777777777777778,
             "#fb9f3a"
            ],
            [
             0.8888888888888888,
             "#fdca26"
            ],
            [
             1,
             "#f0f921"
            ]
           ]
          },
          "colorway": [
           "#636efa",
           "#EF553B",
           "#00cc96",
           "#ab63fa",
           "#FFA15A",
           "#19d3f3",
           "#FF6692",
           "#B6E880",
           "#FF97FF",
           "#FECB52"
          ],
          "font": {
           "color": "#f2f5fa"
          },
          "geo": {
           "bgcolor": "rgb(17,17,17)",
           "lakecolor": "rgb(17,17,17)",
           "landcolor": "rgb(17,17,17)",
           "showlakes": true,
           "showland": true,
           "subunitcolor": "#506784"
          },
          "hoverlabel": {
           "align": "left"
          },
          "hovermode": "closest",
          "mapbox": {
           "style": "dark"
          },
          "paper_bgcolor": "rgb(17,17,17)",
          "plot_bgcolor": "rgb(17,17,17)",
          "polar": {
           "angularaxis": {
            "gridcolor": "#506784",
            "linecolor": "#506784",
            "ticks": ""
           },
           "bgcolor": "rgb(17,17,17)",
           "radialaxis": {
            "gridcolor": "#506784",
            "linecolor": "#506784",
            "ticks": ""
           }
          },
          "scene": {
           "xaxis": {
            "backgroundcolor": "rgb(17,17,17)",
            "gridcolor": "#506784",
            "gridwidth": 2,
            "linecolor": "#506784",
            "showbackground": true,
            "ticks": "",
            "zerolinecolor": "#C8D4E3"
           },
           "yaxis": {
            "backgroundcolor": "rgb(17,17,17)",
            "gridcolor": "#506784",
            "gridwidth": 2,
            "linecolor": "#506784",
            "showbackground": true,
            "ticks": "",
            "zerolinecolor": "#C8D4E3"
           },
           "zaxis": {
            "backgroundcolor": "rgb(17,17,17)",
            "gridcolor": "#506784",
            "gridwidth": 2,
            "linecolor": "#506784",
            "showbackground": true,
            "ticks": "",
            "zerolinecolor": "#C8D4E3"
           }
          },
          "shapedefaults": {
           "line": {
            "color": "#f2f5fa"
           }
          },
          "sliderdefaults": {
           "bgcolor": "#C8D4E3",
           "bordercolor": "rgb(17,17,17)",
           "borderwidth": 1,
           "tickwidth": 0
          },
          "ternary": {
           "aaxis": {
            "gridcolor": "#506784",
            "linecolor": "#506784",
            "ticks": ""
           },
           "baxis": {
            "gridcolor": "#506784",
            "linecolor": "#506784",
            "ticks": ""
           },
           "bgcolor": "rgb(17,17,17)",
           "caxis": {
            "gridcolor": "#506784",
            "linecolor": "#506784",
            "ticks": ""
           }
          },
          "title": {
           "x": 0.05
          },
          "updatemenudefaults": {
           "bgcolor": "#506784",
           "borderwidth": 0
          },
          "xaxis": {
           "automargin": true,
           "gridcolor": "#283442",
           "linecolor": "#506784",
           "ticks": "",
           "title": {
            "standoff": 15
           },
           "zerolinecolor": "#283442",
           "zerolinewidth": 2
          },
          "yaxis": {
           "automargin": true,
           "gridcolor": "#283442",
           "linecolor": "#506784",
           "ticks": "",
           "title": {
            "standoff": 15
           },
           "zerolinecolor": "#283442",
           "zerolinewidth": 2
          }
         }
        },
        "xaxis": {
         "anchor": "y",
         "domain": [
          0,
          1
         ],
         "title": {
          "text": "YYYYMM"
         }
        },
        "yaxis": {
         "anchor": "x",
         "domain": [
          0,
          1
         ],
         "title": {
          "text": "Delta"
         }
        }
       }
      }
     },
     "metadata": {},
     "output_type": "display_data"
    },
    {
     "data": {
      "text/html": [
       "<h2> 📊 Bar-Chart: Year</h2>"
      ],
      "text/plain": [
       "<IPython.core.display.HTML object>"
      ]
     },
     "metadata": {},
     "output_type": "display_data"
    },
    {
     "data": {
      "text/html": [
       "from 2022-01-03 00:00:00"
      ],
      "text/plain": [
       "<IPython.core.display.HTML object>"
      ]
     },
     "metadata": {},
     "output_type": "display_data"
    },
    {
     "data": {
      "text/html": [
       "to 2022-09-22 00:00:00"
      ],
      "text/plain": [
       "<IPython.core.display.HTML object>"
      ]
     },
     "metadata": {},
     "output_type": "display_data"
    },
    {
     "data": {
      "text/html": [
       "total 168642"
      ],
      "text/plain": [
       "<IPython.core.display.HTML object>"
      ]
     },
     "metadata": {},
     "output_type": "display_data"
    },
    {
     "data": {
      "application/vnd.plotly.v1+json": {
       "config": {
        "plotlyServerURL": "https://plot.ly"
       },
       "data": [
        {
         "alignmentgroup": "True",
         "customdata": [
          [
           "clothing"
          ],
          [
           "clothing"
          ],
          [
           "clothing"
          ],
          [
           "clothing"
          ],
          [
           "clothing"
          ],
          [
           "clothing"
          ],
          [
           "clothing"
          ],
          [
           "clothing"
          ]
         ],
         "hovertemplate": "Category=%{customdata[0]}<br>YYYYMM=%{x}<br>Delta=%{y}<extra></extra>",
         "legendgroup": "clothing",
         "marker": {
          "color": "#636efa",
          "pattern": {
           "shape": ""
          }
         },
         "name": "clothing",
         "offsetgroup": "clothing",
         "orientation": "v",
         "showlegend": true,
         "text": [
          "clothing",
          "clothing",
          "clothing",
          "clothing",
          "clothing",
          "clothing",
          "clothing",
          "clothing"
         ],
         "textposition": "auto",
         "type": "bar",
         "x": [
          202201,
          202202,
          202204,
          202205,
          202206,
          202207,
          202208,
          202209
         ],
         "xaxis": "x",
         "y": [
          975,
          55,
          906,
          1505,
          345,
          2354,
          2452,
          1814
         ],
         "yaxis": "y"
        },
        {
         "alignmentgroup": "True",
         "customdata": [
          [
           "debt"
          ],
          [
           "debt"
          ],
          [
           "debt"
          ],
          [
           "debt"
          ],
          [
           "debt"
          ],
          [
           "debt"
          ]
         ],
         "hovertemplate": "Category=%{customdata[0]}<br>YYYYMM=%{x}<br>Delta=%{y}<extra></extra>",
         "legendgroup": "debt",
         "marker": {
          "color": "#EF553B",
          "pattern": {
           "shape": ""
          }
         },
         "name": "debt",
         "offsetgroup": "debt",
         "orientation": "v",
         "showlegend": true,
         "text": [
          "debt",
          "debt",
          "debt",
          "debt",
          "debt",
          "debt"
         ],
         "textposition": "auto",
         "type": "bar",
         "x": [
          202201,
          202204,
          202205,
          202206,
          202207,
          202208
         ],
         "xaxis": "x",
         "y": [
          578,
          994,
          1832,
          1481,
          785,
          2144
         ],
         "yaxis": "y"
        },
        {
         "alignmentgroup": "True",
         "customdata": [
          [
           "health"
          ],
          [
           "health"
          ],
          [
           "health"
          ],
          [
           "health"
          ],
          [
           "health"
          ],
          [
           "health"
          ],
          [
           "health"
          ],
          [
           "health"
          ],
          [
           "health"
          ]
         ],
         "hovertemplate": "Category=%{customdata[0]}<br>YYYYMM=%{x}<br>Delta=%{y}<extra></extra>",
         "legendgroup": "health",
         "marker": {
          "color": "#00cc96",
          "pattern": {
           "shape": ""
          }
         },
         "name": "health",
         "offsetgroup": "health",
         "orientation": "v",
         "showlegend": true,
         "text": [
          "health",
          "health",
          "health",
          "health",
          "health",
          "health",
          "health",
          "health",
          "health"
         ],
         "textposition": "auto",
         "type": "bar",
         "x": [
          202201,
          202202,
          202203,
          202204,
          202205,
          202206,
          202207,
          202208,
          202209
         ],
         "xaxis": "x",
         "y": [
          970,
          747,
          7102,
          4151,
          2190,
          2291,
          3820,
          2027,
          2734
         ],
         "yaxis": "y"
        },
        {
         "alignmentgroup": "True",
         "customdata": [
          [
           "invest"
          ],
          [
           "invest"
          ],
          [
           "invest"
          ],
          [
           "invest"
          ],
          [
           "invest"
          ],
          [
           "invest"
          ],
          [
           "invest"
          ],
          [
           "invest"
          ],
          [
           "invest"
          ]
         ],
         "hovertemplate": "Category=%{customdata[0]}<br>YYYYMM=%{x}<br>Delta=%{y}<extra></extra>",
         "legendgroup": "invest",
         "marker": {
          "color": "#ab63fa",
          "pattern": {
           "shape": ""
          }
         },
         "name": "invest",
         "offsetgroup": "invest",
         "orientation": "v",
         "showlegend": true,
         "text": [
          "invest",
          "invest",
          "invest",
          "invest",
          "invest",
          "invest",
          "invest",
          "invest",
          "invest"
         ],
         "textposition": "auto",
         "type": "bar",
         "x": [
          202201,
          202202,
          202203,
          202204,
          202205,
          202206,
          202207,
          202208,
          202209
         ],
         "xaxis": "x",
         "y": [
          2228,
          767,
          1079,
          3343,
          2808,
          4217,
          1517,
          6016,
          4173
         ],
         "yaxis": "y"
        },
        {
         "alignmentgroup": "True",
         "customdata": [
          [
           "misc"
          ],
          [
           "misc"
          ],
          [
           "misc"
          ],
          [
           "misc"
          ],
          [
           "misc"
          ],
          [
           "misc"
          ],
          [
           "misc"
          ],
          [
           "misc"
          ],
          [
           "misc"
          ]
         ],
         "hovertemplate": "Category=%{customdata[0]}<br>YYYYMM=%{x}<br>Delta=%{y}<extra></extra>",
         "legendgroup": "misc",
         "marker": {
          "color": "#FFA15A",
          "pattern": {
           "shape": ""
          }
         },
         "name": "misc",
         "offsetgroup": "misc",
         "orientation": "v",
         "showlegend": true,
         "text": [
          "misc",
          "misc",
          "misc",
          "misc",
          "misc",
          "misc",
          "misc",
          "misc",
          "misc"
         ],
         "textposition": "auto",
         "type": "bar",
         "x": [
          202201,
          202202,
          202203,
          202204,
          202205,
          202206,
          202207,
          202208,
          202209
         ],
         "xaxis": "x",
         "y": [
          737,
          1927,
          524,
          1859,
          1439,
          2031,
          1771,
          1862,
          914
         ],
         "yaxis": "y"
        },
        {
         "alignmentgroup": "True",
         "customdata": [
          [
           "paypal"
          ],
          [
           "paypal"
          ],
          [
           "paypal"
          ],
          [
           "paypal"
          ],
          [
           "paypal"
          ],
          [
           "paypal"
          ],
          [
           "paypal"
          ],
          [
           "paypal"
          ]
         ],
         "hovertemplate": "Category=%{customdata[0]}<br>YYYYMM=%{x}<br>Delta=%{y}<extra></extra>",
         "legendgroup": "paypal",
         "marker": {
          "color": "#19d3f3",
          "pattern": {
           "shape": ""
          }
         },
         "name": "paypal",
         "offsetgroup": "paypal",
         "orientation": "v",
         "showlegend": true,
         "text": [
          "paypal",
          "paypal",
          "paypal",
          "paypal",
          "paypal",
          "paypal",
          "paypal",
          "paypal"
         ],
         "textposition": "auto",
         "type": "bar",
         "x": [
          202201,
          202203,
          202204,
          202205,
          202206,
          202207,
          202208,
          202209
         ],
         "xaxis": "x",
         "y": [
          801,
          1580,
          2157,
          1450,
          271,
          727,
          1347,
          2428
         ],
         "yaxis": "y"
        },
        {
         "alignmentgroup": "True",
         "customdata": [
          [
           "tech"
          ],
          [
           "tech"
          ],
          [
           "tech"
          ],
          [
           "tech"
          ],
          [
           "tech"
          ],
          [
           "tech"
          ],
          [
           "tech"
          ],
          [
           "tech"
          ]
         ],
         "hovertemplate": "Category=%{customdata[0]}<br>YYYYMM=%{x}<br>Delta=%{y}<extra></extra>",
         "legendgroup": "tech",
         "marker": {
          "color": "#FF6692",
          "pattern": {
           "shape": ""
          }
         },
         "name": "tech",
         "offsetgroup": "tech",
         "orientation": "v",
         "showlegend": true,
         "text": [
          "tech",
          "tech",
          "tech",
          "tech",
          "tech",
          "tech",
          "tech",
          "tech"
         ],
         "textposition": "auto",
         "type": "bar",
         "x": [
          202201,
          202203,
          202204,
          202205,
          202206,
          202207,
          202208,
          202209
         ],
         "xaxis": "x",
         "y": [
          755,
          1734,
          3726,
          2930,
          1808,
          1289,
          1602,
          2039
         ],
         "yaxis": "y"
        },
        {
         "alignmentgroup": "True",
         "customdata": [
          [
           "unk"
          ],
          [
           "unk"
          ],
          [
           "unk"
          ],
          [
           "unk"
          ],
          [
           "unk"
          ],
          [
           "unk"
          ],
          [
           "unk"
          ],
          [
           "unk"
          ]
         ],
         "hovertemplate": "Category=%{customdata[0]}<br>YYYYMM=%{x}<br>Delta=%{y}<extra></extra>",
         "legendgroup": "unk",
         "marker": {
          "color": "#B6E880",
          "pattern": {
           "shape": ""
          }
         },
         "name": "unk",
         "offsetgroup": "unk",
         "orientation": "v",
         "showlegend": true,
         "text": [
          "unk",
          "unk",
          "unk",
          "unk",
          "unk",
          "unk",
          "unk",
          "unk"
         ],
         "textposition": "auto",
         "type": "bar",
         "x": [
          202201,
          202203,
          202204,
          202205,
          202206,
          202207,
          202208,
          202209
         ],
         "xaxis": "x",
         "y": [
          506,
          1329,
          2925,
          4857,
          5392,
          241,
          1361,
          3624
         ],
         "yaxis": "y"
        },
        {
         "alignmentgroup": "True",
         "customdata": [
          [
           "utility"
          ],
          [
           "utility"
          ],
          [
           "utility"
          ],
          [
           "utility"
          ],
          [
           "utility"
          ],
          [
           "utility"
          ],
          [
           "utility"
          ],
          [
           "utility"
          ]
         ],
         "hovertemplate": "Category=%{customdata[0]}<br>YYYYMM=%{x}<br>Delta=%{y}<extra></extra>",
         "legendgroup": "utility",
         "marker": {
          "color": "#FF97FF",
          "pattern": {
           "shape": ""
          }
         },
         "name": "utility",
         "offsetgroup": "utility",
         "orientation": "v",
         "showlegend": true,
         "text": [
          "utility",
          "utility",
          "utility",
          "utility",
          "utility",
          "utility",
          "utility",
          "utility"
         ],
         "textposition": "auto",
         "type": "bar",
         "x": [
          202201,
          202203,
          202204,
          202205,
          202206,
          202207,
          202208,
          202209
         ],
         "xaxis": "x",
         "y": [
          882,
          1346,
          267,
          1986,
          895,
          1413,
          626,
          881
         ],
         "yaxis": "y"
        },
        {
         "alignmentgroup": "True",
         "customdata": [
          [
           "travel"
          ],
          [
           "travel"
          ],
          [
           "travel"
          ],
          [
           "travel"
          ],
          [
           "travel"
          ],
          [
           "travel"
          ],
          [
           "travel"
          ],
          [
           "travel"
          ]
         ],
         "hovertemplate": "Category=%{customdata[0]}<br>YYYYMM=%{x}<br>Delta=%{y}<extra></extra>",
         "legendgroup": "travel",
         "marker": {
          "color": "#FECB52",
          "pattern": {
           "shape": ""
          }
         },
         "name": "travel",
         "offsetgroup": "travel",
         "orientation": "v",
         "showlegend": true,
         "text": [
          "travel",
          "travel",
          "travel",
          "travel",
          "travel",
          "travel",
          "travel",
          "travel"
         ],
         "textposition": "auto",
         "type": "bar",
         "x": [
          202202,
          202203,
          202204,
          202205,
          202206,
          202207,
          202208,
          202209
         ],
         "xaxis": "x",
         "y": [
          455,
          1336,
          2130,
          3024,
          3428,
          1848,
          3416,
          3278
         ],
         "yaxis": "y"
        },
        {
         "alignmentgroup": "True",
         "customdata": [
          [
           "grocery"
          ],
          [
           "grocery"
          ],
          [
           "grocery"
          ],
          [
           "grocery"
          ],
          [
           "grocery"
          ],
          [
           "grocery"
          ],
          [
           "grocery"
          ]
         ],
         "hovertemplate": "Category=%{customdata[0]}<br>YYYYMM=%{x}<br>Delta=%{y}<extra></extra>",
         "legendgroup": "grocery",
         "marker": {
          "color": "#636efa",
          "pattern": {
           "shape": ""
          }
         },
         "name": "grocery",
         "offsetgroup": "grocery",
         "orientation": "v",
         "showlegend": true,
         "text": [
          "grocery",
          "grocery",
          "grocery",
          "grocery",
          "grocery",
          "grocery",
          "grocery"
         ],
         "textposition": "auto",
         "type": "bar",
         "x": [
          202203,
          202204,
          202205,
          202206,
          202207,
          202208,
          202209
         ],
         "xaxis": "x",
         "y": [
          314,
          1306,
          148,
          1595,
          153,
          4034,
          3538
         ],
         "yaxis": "y"
        }
       ],
       "layout": {
        "barmode": "relative",
        "height": 600,
        "legend": {
         "title": {
          "text": "Category"
         },
         "tracegroupgap": 0
        },
        "margin": {
         "t": 60
        },
        "template": {
         "data": {
          "bar": [
           {
            "error_x": {
             "color": "#f2f5fa"
            },
            "error_y": {
             "color": "#f2f5fa"
            },
            "marker": {
             "line": {
              "color": "rgb(17,17,17)",
              "width": 0.5
             },
             "pattern": {
              "fillmode": "overlay",
              "size": 10,
              "solidity": 0.2
             }
            },
            "type": "bar"
           }
          ],
          "barpolar": [
           {
            "marker": {
             "line": {
              "color": "rgb(17,17,17)",
              "width": 0.5
             },
             "pattern": {
              "fillmode": "overlay",
              "size": 10,
              "solidity": 0.2
             }
            },
            "type": "barpolar"
           }
          ],
          "carpet": [
           {
            "aaxis": {
             "endlinecolor": "#A2B1C6",
             "gridcolor": "#506784",
             "linecolor": "#506784",
             "minorgridcolor": "#506784",
             "startlinecolor": "#A2B1C6"
            },
            "baxis": {
             "endlinecolor": "#A2B1C6",
             "gridcolor": "#506784",
             "linecolor": "#506784",
             "minorgridcolor": "#506784",
             "startlinecolor": "#A2B1C6"
            },
            "type": "carpet"
           }
          ],
          "choropleth": [
           {
            "colorbar": {
             "outlinewidth": 0,
             "ticks": ""
            },
            "type": "choropleth"
           }
          ],
          "contour": [
           {
            "colorbar": {
             "outlinewidth": 0,
             "ticks": ""
            },
            "colorscale": [
             [
              0,
              "#0d0887"
             ],
             [
              0.1111111111111111,
              "#46039f"
             ],
             [
              0.2222222222222222,
              "#7201a8"
             ],
             [
              0.3333333333333333,
              "#9c179e"
             ],
             [
              0.4444444444444444,
              "#bd3786"
             ],
             [
              0.5555555555555556,
              "#d8576b"
             ],
             [
              0.6666666666666666,
              "#ed7953"
             ],
             [
              0.7777777777777778,
              "#fb9f3a"
             ],
             [
              0.8888888888888888,
              "#fdca26"
             ],
             [
              1,
              "#f0f921"
             ]
            ],
            "type": "contour"
           }
          ],
          "contourcarpet": [
           {
            "colorbar": {
             "outlinewidth": 0,
             "ticks": ""
            },
            "type": "contourcarpet"
           }
          ],
          "heatmap": [
           {
            "colorbar": {
             "outlinewidth": 0,
             "ticks": ""
            },
            "colorscale": [
             [
              0,
              "#0d0887"
             ],
             [
              0.1111111111111111,
              "#46039f"
             ],
             [
              0.2222222222222222,
              "#7201a8"
             ],
             [
              0.3333333333333333,
              "#9c179e"
             ],
             [
              0.4444444444444444,
              "#bd3786"
             ],
             [
              0.5555555555555556,
              "#d8576b"
             ],
             [
              0.6666666666666666,
              "#ed7953"
             ],
             [
              0.7777777777777778,
              "#fb9f3a"
             ],
             [
              0.8888888888888888,
              "#fdca26"
             ],
             [
              1,
              "#f0f921"
             ]
            ],
            "type": "heatmap"
           }
          ],
          "heatmapgl": [
           {
            "colorbar": {
             "outlinewidth": 0,
             "ticks": ""
            },
            "colorscale": [
             [
              0,
              "#0d0887"
             ],
             [
              0.1111111111111111,
              "#46039f"
             ],
             [
              0.2222222222222222,
              "#7201a8"
             ],
             [
              0.3333333333333333,
              "#9c179e"
             ],
             [
              0.4444444444444444,
              "#bd3786"
             ],
             [
              0.5555555555555556,
              "#d8576b"
             ],
             [
              0.6666666666666666,
              "#ed7953"
             ],
             [
              0.7777777777777778,
              "#fb9f3a"
             ],
             [
              0.8888888888888888,
              "#fdca26"
             ],
             [
              1,
              "#f0f921"
             ]
            ],
            "type": "heatmapgl"
           }
          ],
          "histogram": [
           {
            "marker": {
             "pattern": {
              "fillmode": "overlay",
              "size": 10,
              "solidity": 0.2
             }
            },
            "type": "histogram"
           }
          ],
          "histogram2d": [
           {
            "colorbar": {
             "outlinewidth": 0,
             "ticks": ""
            },
            "colorscale": [
             [
              0,
              "#0d0887"
             ],
             [
              0.1111111111111111,
              "#46039f"
             ],
             [
              0.2222222222222222,
              "#7201a8"
             ],
             [
              0.3333333333333333,
              "#9c179e"
             ],
             [
              0.4444444444444444,
              "#bd3786"
             ],
             [
              0.5555555555555556,
              "#d8576b"
             ],
             [
              0.6666666666666666,
              "#ed7953"
             ],
             [
              0.7777777777777778,
              "#fb9f3a"
             ],
             [
              0.8888888888888888,
              "#fdca26"
             ],
             [
              1,
              "#f0f921"
             ]
            ],
            "type": "histogram2d"
           }
          ],
          "histogram2dcontour": [
           {
            "colorbar": {
             "outlinewidth": 0,
             "ticks": ""
            },
            "colorscale": [
             [
              0,
              "#0d0887"
             ],
             [
              0.1111111111111111,
              "#46039f"
             ],
             [
              0.2222222222222222,
              "#7201a8"
             ],
             [
              0.3333333333333333,
              "#9c179e"
             ],
             [
              0.4444444444444444,
              "#bd3786"
             ],
             [
              0.5555555555555556,
              "#d8576b"
             ],
             [
              0.6666666666666666,
              "#ed7953"
             ],
             [
              0.7777777777777778,
              "#fb9f3a"
             ],
             [
              0.8888888888888888,
              "#fdca26"
             ],
             [
              1,
              "#f0f921"
             ]
            ],
            "type": "histogram2dcontour"
           }
          ],
          "mesh3d": [
           {
            "colorbar": {
             "outlinewidth": 0,
             "ticks": ""
            },
            "type": "mesh3d"
           }
          ],
          "parcoords": [
           {
            "line": {
             "colorbar": {
              "outlinewidth": 0,
              "ticks": ""
             }
            },
            "type": "parcoords"
           }
          ],
          "pie": [
           {
            "automargin": true,
            "type": "pie"
           }
          ],
          "scatter": [
           {
            "marker": {
             "line": {
              "color": "#283442"
             }
            },
            "type": "scatter"
           }
          ],
          "scatter3d": [
           {
            "line": {
             "colorbar": {
              "outlinewidth": 0,
              "ticks": ""
             }
            },
            "marker": {
             "colorbar": {
              "outlinewidth": 0,
              "ticks": ""
             }
            },
            "type": "scatter3d"
           }
          ],
          "scattercarpet": [
           {
            "marker": {
             "colorbar": {
              "outlinewidth": 0,
              "ticks": ""
             }
            },
            "type": "scattercarpet"
           }
          ],
          "scattergeo": [
           {
            "marker": {
             "colorbar": {
              "outlinewidth": 0,
              "ticks": ""
             }
            },
            "type": "scattergeo"
           }
          ],
          "scattergl": [
           {
            "marker": {
             "line": {
              "color": "#283442"
             }
            },
            "type": "scattergl"
           }
          ],
          "scattermapbox": [
           {
            "marker": {
             "colorbar": {
              "outlinewidth": 0,
              "ticks": ""
             }
            },
            "type": "scattermapbox"
           }
          ],
          "scatterpolar": [
           {
            "marker": {
             "colorbar": {
              "outlinewidth": 0,
              "ticks": ""
             }
            },
            "type": "scatterpolar"
           }
          ],
          "scatterpolargl": [
           {
            "marker": {
             "colorbar": {
              "outlinewidth": 0,
              "ticks": ""
             }
            },
            "type": "scatterpolargl"
           }
          ],
          "scatterternary": [
           {
            "marker": {
             "colorbar": {
              "outlinewidth": 0,
              "ticks": ""
             }
            },
            "type": "scatterternary"
           }
          ],
          "surface": [
           {
            "colorbar": {
             "outlinewidth": 0,
             "ticks": ""
            },
            "colorscale": [
             [
              0,
              "#0d0887"
             ],
             [
              0.1111111111111111,
              "#46039f"
             ],
             [
              0.2222222222222222,
              "#7201a8"
             ],
             [
              0.3333333333333333,
              "#9c179e"
             ],
             [
              0.4444444444444444,
              "#bd3786"
             ],
             [
              0.5555555555555556,
              "#d8576b"
             ],
             [
              0.6666666666666666,
              "#ed7953"
             ],
             [
              0.7777777777777778,
              "#fb9f3a"
             ],
             [
              0.8888888888888888,
              "#fdca26"
             ],
             [
              1,
              "#f0f921"
             ]
            ],
            "type": "surface"
           }
          ],
          "table": [
           {
            "cells": {
             "fill": {
              "color": "#506784"
             },
             "line": {
              "color": "rgb(17,17,17)"
             }
            },
            "header": {
             "fill": {
              "color": "#2a3f5f"
             },
             "line": {
              "color": "rgb(17,17,17)"
             }
            },
            "type": "table"
           }
          ]
         },
         "layout": {
          "annotationdefaults": {
           "arrowcolor": "#f2f5fa",
           "arrowhead": 0,
           "arrowwidth": 1
          },
          "autotypenumbers": "strict",
          "coloraxis": {
           "colorbar": {
            "outlinewidth": 0,
            "ticks": ""
           }
          },
          "colorscale": {
           "diverging": [
            [
             0,
             "#8e0152"
            ],
            [
             0.1,
             "#c51b7d"
            ],
            [
             0.2,
             "#de77ae"
            ],
            [
             0.3,
             "#f1b6da"
            ],
            [
             0.4,
             "#fde0ef"
            ],
            [
             0.5,
             "#f7f7f7"
            ],
            [
             0.6,
             "#e6f5d0"
            ],
            [
             0.7,
             "#b8e186"
            ],
            [
             0.8,
             "#7fbc41"
            ],
            [
             0.9,
             "#4d9221"
            ],
            [
             1,
             "#276419"
            ]
           ],
           "sequential": [
            [
             0,
             "#0d0887"
            ],
            [
             0.1111111111111111,
             "#46039f"
            ],
            [
             0.2222222222222222,
             "#7201a8"
            ],
            [
             0.3333333333333333,
             "#9c179e"
            ],
            [
             0.4444444444444444,
             "#bd3786"
            ],
            [
             0.5555555555555556,
             "#d8576b"
            ],
            [
             0.6666666666666666,
             "#ed7953"
            ],
            [
             0.7777777777777778,
             "#fb9f3a"
            ],
            [
             0.8888888888888888,
             "#fdca26"
            ],
            [
             1,
             "#f0f921"
            ]
           ],
           "sequentialminus": [
            [
             0,
             "#0d0887"
            ],
            [
             0.1111111111111111,
             "#46039f"
            ],
            [
             0.2222222222222222,
             "#7201a8"
            ],
            [
             0.3333333333333333,
             "#9c179e"
            ],
            [
             0.4444444444444444,
             "#bd3786"
            ],
            [
             0.5555555555555556,
             "#d8576b"
            ],
            [
             0.6666666666666666,
             "#ed7953"
            ],
            [
             0.7777777777777778,
             "#fb9f3a"
            ],
            [
             0.8888888888888888,
             "#fdca26"
            ],
            [
             1,
             "#f0f921"
            ]
           ]
          },
          "colorway": [
           "#636efa",
           "#EF553B",
           "#00cc96",
           "#ab63fa",
           "#FFA15A",
           "#19d3f3",
           "#FF6692",
           "#B6E880",
           "#FF97FF",
           "#FECB52"
          ],
          "font": {
           "color": "#f2f5fa"
          },
          "geo": {
           "bgcolor": "rgb(17,17,17)",
           "lakecolor": "rgb(17,17,17)",
           "landcolor": "rgb(17,17,17)",
           "showlakes": true,
           "showland": true,
           "subunitcolor": "#506784"
          },
          "hoverlabel": {
           "align": "left"
          },
          "hovermode": "closest",
          "mapbox": {
           "style": "dark"
          },
          "paper_bgcolor": "rgb(17,17,17)",
          "plot_bgcolor": "rgb(17,17,17)",
          "polar": {
           "angularaxis": {
            "gridcolor": "#506784",
            "linecolor": "#506784",
            "ticks": ""
           },
           "bgcolor": "rgb(17,17,17)",
           "radialaxis": {
            "gridcolor": "#506784",
            "linecolor": "#506784",
            "ticks": ""
           }
          },
          "scene": {
           "xaxis": {
            "backgroundcolor": "rgb(17,17,17)",
            "gridcolor": "#506784",
            "gridwidth": 2,
            "linecolor": "#506784",
            "showbackground": true,
            "ticks": "",
            "zerolinecolor": "#C8D4E3"
           },
           "yaxis": {
            "backgroundcolor": "rgb(17,17,17)",
            "gridcolor": "#506784",
            "gridwidth": 2,
            "linecolor": "#506784",
            "showbackground": true,
            "ticks": "",
            "zerolinecolor": "#C8D4E3"
           },
           "zaxis": {
            "backgroundcolor": "rgb(17,17,17)",
            "gridcolor": "#506784",
            "gridwidth": 2,
            "linecolor": "#506784",
            "showbackground": true,
            "ticks": "",
            "zerolinecolor": "#C8D4E3"
           }
          },
          "shapedefaults": {
           "line": {
            "color": "#f2f5fa"
           }
          },
          "sliderdefaults": {
           "bgcolor": "#C8D4E3",
           "bordercolor": "rgb(17,17,17)",
           "borderwidth": 1,
           "tickwidth": 0
          },
          "ternary": {
           "aaxis": {
            "gridcolor": "#506784",
            "linecolor": "#506784",
            "ticks": ""
           },
           "baxis": {
            "gridcolor": "#506784",
            "linecolor": "#506784",
            "ticks": ""
           },
           "bgcolor": "rgb(17,17,17)",
           "caxis": {
            "gridcolor": "#506784",
            "linecolor": "#506784",
            "ticks": ""
           }
          },
          "title": {
           "x": 0.05
          },
          "updatemenudefaults": {
           "bgcolor": "#506784",
           "borderwidth": 0
          },
          "xaxis": {
           "automargin": true,
           "gridcolor": "#283442",
           "linecolor": "#506784",
           "ticks": "",
           "title": {
            "standoff": 15
           },
           "zerolinecolor": "#283442",
           "zerolinewidth": 2
          },
          "yaxis": {
           "automargin": true,
           "gridcolor": "#283442",
           "linecolor": "#506784",
           "ticks": "",
           "title": {
            "standoff": 15
           },
           "zerolinecolor": "#283442",
           "zerolinewidth": 2
          }
         }
        },
        "xaxis": {
         "anchor": "y",
         "domain": [
          0,
          1
         ],
         "title": {
          "text": "YYYYMM"
         }
        },
        "yaxis": {
         "anchor": "x",
         "domain": [
          0,
          1
         ],
         "title": {
          "text": "Delta"
         }
        }
       }
      }
     },
     "metadata": {},
     "output_type": "display_data"
    }
   ],
   "source": [
    "\n",
    "make_barchart(df=df_07days,time_column='YYYYMMDD',title='7 days')\n",
    "make_barchart(df=df_30days,time_column='YYYY.W',title='30 days')\n",
    "make_barchart(df=df_90days,time_column='YYYYMM',title='90 Days')\n",
    "make_barchart(df=df_year,time_column='YYYYMM',title='Year')"
   ]
  },
  {
   "cell_type": "code",
   "execution_count": 49,
   "metadata": {},
   "outputs": [],
   "source": [
    "# print(*list(df_year.Category.drop_duplicates()),sep='\\n')"
   ]
  },
  {
   "cell_type": "code",
   "execution_count": 56,
   "metadata": {},
   "outputs": [
    {
     "data": {
      "text/html": [
       "<h2> 📊 Bar-Chart: Year - filtered categories (['health'])</h2>"
      ],
      "text/plain": [
       "<IPython.core.display.HTML object>"
      ]
     },
     "metadata": {},
     "output_type": "display_data"
    },
    {
     "data": {
      "text/html": [
       "from 2022-01-05 00:00:00"
      ],
      "text/plain": [
       "<IPython.core.display.HTML object>"
      ]
     },
     "metadata": {},
     "output_type": "display_data"
    },
    {
     "data": {
      "text/html": [
       "to 2022-09-22 00:00:00"
      ],
      "text/plain": [
       "<IPython.core.display.HTML object>"
      ]
     },
     "metadata": {},
     "output_type": "display_data"
    },
    {
     "data": {
      "text/html": [
       "total 26032"
      ],
      "text/plain": [
       "<IPython.core.display.HTML object>"
      ]
     },
     "metadata": {},
     "output_type": "display_data"
    },
    {
     "data": {
      "application/vnd.plotly.v1+json": {
       "config": {
        "plotlyServerURL": "https://plot.ly"
       },
       "data": [
        {
         "alignmentgroup": "True",
         "customdata": [
          [
           "health"
          ],
          [
           "health"
          ],
          [
           "health"
          ],
          [
           "health"
          ],
          [
           "health"
          ],
          [
           "health"
          ],
          [
           "health"
          ],
          [
           "health"
          ],
          [
           "health"
          ]
         ],
         "hovertemplate": "Category=%{customdata[0]}<br>YYYYMM=%{x}<br>Delta=%{y}<extra></extra>",
         "legendgroup": "health",
         "marker": {
          "color": "#636efa",
          "pattern": {
           "shape": ""
          }
         },
         "name": "health",
         "offsetgroup": "health",
         "orientation": "v",
         "showlegend": true,
         "text": [
          "health",
          "health",
          "health",
          "health",
          "health",
          "health",
          "health",
          "health",
          "health"
         ],
         "textposition": "auto",
         "type": "bar",
         "x": [
          202201,
          202202,
          202203,
          202204,
          202205,
          202206,
          202207,
          202208,
          202209
         ],
         "xaxis": "x",
         "y": [
          970,
          747,
          7102,
          4151,
          2190,
          2291,
          3820,
          2027,
          2734
         ],
         "yaxis": "y"
        }
       ],
       "layout": {
        "barmode": "relative",
        "height": 600,
        "legend": {
         "title": {
          "text": "Category"
         },
         "tracegroupgap": 0
        },
        "margin": {
         "t": 60
        },
        "template": {
         "data": {
          "bar": [
           {
            "error_x": {
             "color": "#f2f5fa"
            },
            "error_y": {
             "color": "#f2f5fa"
            },
            "marker": {
             "line": {
              "color": "rgb(17,17,17)",
              "width": 0.5
             },
             "pattern": {
              "fillmode": "overlay",
              "size": 10,
              "solidity": 0.2
             }
            },
            "type": "bar"
           }
          ],
          "barpolar": [
           {
            "marker": {
             "line": {
              "color": "rgb(17,17,17)",
              "width": 0.5
             },
             "pattern": {
              "fillmode": "overlay",
              "size": 10,
              "solidity": 0.2
             }
            },
            "type": "barpolar"
           }
          ],
          "carpet": [
           {
            "aaxis": {
             "endlinecolor": "#A2B1C6",
             "gridcolor": "#506784",
             "linecolor": "#506784",
             "minorgridcolor": "#506784",
             "startlinecolor": "#A2B1C6"
            },
            "baxis": {
             "endlinecolor": "#A2B1C6",
             "gridcolor": "#506784",
             "linecolor": "#506784",
             "minorgridcolor": "#506784",
             "startlinecolor": "#A2B1C6"
            },
            "type": "carpet"
           }
          ],
          "choropleth": [
           {
            "colorbar": {
             "outlinewidth": 0,
             "ticks": ""
            },
            "type": "choropleth"
           }
          ],
          "contour": [
           {
            "colorbar": {
             "outlinewidth": 0,
             "ticks": ""
            },
            "colorscale": [
             [
              0,
              "#0d0887"
             ],
             [
              0.1111111111111111,
              "#46039f"
             ],
             [
              0.2222222222222222,
              "#7201a8"
             ],
             [
              0.3333333333333333,
              "#9c179e"
             ],
             [
              0.4444444444444444,
              "#bd3786"
             ],
             [
              0.5555555555555556,
              "#d8576b"
             ],
             [
              0.6666666666666666,
              "#ed7953"
             ],
             [
              0.7777777777777778,
              "#fb9f3a"
             ],
             [
              0.8888888888888888,
              "#fdca26"
             ],
             [
              1,
              "#f0f921"
             ]
            ],
            "type": "contour"
           }
          ],
          "contourcarpet": [
           {
            "colorbar": {
             "outlinewidth": 0,
             "ticks": ""
            },
            "type": "contourcarpet"
           }
          ],
          "heatmap": [
           {
            "colorbar": {
             "outlinewidth": 0,
             "ticks": ""
            },
            "colorscale": [
             [
              0,
              "#0d0887"
             ],
             [
              0.1111111111111111,
              "#46039f"
             ],
             [
              0.2222222222222222,
              "#7201a8"
             ],
             [
              0.3333333333333333,
              "#9c179e"
             ],
             [
              0.4444444444444444,
              "#bd3786"
             ],
             [
              0.5555555555555556,
              "#d8576b"
             ],
             [
              0.6666666666666666,
              "#ed7953"
             ],
             [
              0.7777777777777778,
              "#fb9f3a"
             ],
             [
              0.8888888888888888,
              "#fdca26"
             ],
             [
              1,
              "#f0f921"
             ]
            ],
            "type": "heatmap"
           }
          ],
          "heatmapgl": [
           {
            "colorbar": {
             "outlinewidth": 0,
             "ticks": ""
            },
            "colorscale": [
             [
              0,
              "#0d0887"
             ],
             [
              0.1111111111111111,
              "#46039f"
             ],
             [
              0.2222222222222222,
              "#7201a8"
             ],
             [
              0.3333333333333333,
              "#9c179e"
             ],
             [
              0.4444444444444444,
              "#bd3786"
             ],
             [
              0.5555555555555556,
              "#d8576b"
             ],
             [
              0.6666666666666666,
              "#ed7953"
             ],
             [
              0.7777777777777778,
              "#fb9f3a"
             ],
             [
              0.8888888888888888,
              "#fdca26"
             ],
             [
              1,
              "#f0f921"
             ]
            ],
            "type": "heatmapgl"
           }
          ],
          "histogram": [
           {
            "marker": {
             "pattern": {
              "fillmode": "overlay",
              "size": 10,
              "solidity": 0.2
             }
            },
            "type": "histogram"
           }
          ],
          "histogram2d": [
           {
            "colorbar": {
             "outlinewidth": 0,
             "ticks": ""
            },
            "colorscale": [
             [
              0,
              "#0d0887"
             ],
             [
              0.1111111111111111,
              "#46039f"
             ],
             [
              0.2222222222222222,
              "#7201a8"
             ],
             [
              0.3333333333333333,
              "#9c179e"
             ],
             [
              0.4444444444444444,
              "#bd3786"
             ],
             [
              0.5555555555555556,
              "#d8576b"
             ],
             [
              0.6666666666666666,
              "#ed7953"
             ],
             [
              0.7777777777777778,
              "#fb9f3a"
             ],
             [
              0.8888888888888888,
              "#fdca26"
             ],
             [
              1,
              "#f0f921"
             ]
            ],
            "type": "histogram2d"
           }
          ],
          "histogram2dcontour": [
           {
            "colorbar": {
             "outlinewidth": 0,
             "ticks": ""
            },
            "colorscale": [
             [
              0,
              "#0d0887"
             ],
             [
              0.1111111111111111,
              "#46039f"
             ],
             [
              0.2222222222222222,
              "#7201a8"
             ],
             [
              0.3333333333333333,
              "#9c179e"
             ],
             [
              0.4444444444444444,
              "#bd3786"
             ],
             [
              0.5555555555555556,
              "#d8576b"
             ],
             [
              0.6666666666666666,
              "#ed7953"
             ],
             [
              0.7777777777777778,
              "#fb9f3a"
             ],
             [
              0.8888888888888888,
              "#fdca26"
             ],
             [
              1,
              "#f0f921"
             ]
            ],
            "type": "histogram2dcontour"
           }
          ],
          "mesh3d": [
           {
            "colorbar": {
             "outlinewidth": 0,
             "ticks": ""
            },
            "type": "mesh3d"
           }
          ],
          "parcoords": [
           {
            "line": {
             "colorbar": {
              "outlinewidth": 0,
              "ticks": ""
             }
            },
            "type": "parcoords"
           }
          ],
          "pie": [
           {
            "automargin": true,
            "type": "pie"
           }
          ],
          "scatter": [
           {
            "marker": {
             "line": {
              "color": "#283442"
             }
            },
            "type": "scatter"
           }
          ],
          "scatter3d": [
           {
            "line": {
             "colorbar": {
              "outlinewidth": 0,
              "ticks": ""
             }
            },
            "marker": {
             "colorbar": {
              "outlinewidth": 0,
              "ticks": ""
             }
            },
            "type": "scatter3d"
           }
          ],
          "scattercarpet": [
           {
            "marker": {
             "colorbar": {
              "outlinewidth": 0,
              "ticks": ""
             }
            },
            "type": "scattercarpet"
           }
          ],
          "scattergeo": [
           {
            "marker": {
             "colorbar": {
              "outlinewidth": 0,
              "ticks": ""
             }
            },
            "type": "scattergeo"
           }
          ],
          "scattergl": [
           {
            "marker": {
             "line": {
              "color": "#283442"
             }
            },
            "type": "scattergl"
           }
          ],
          "scattermapbox": [
           {
            "marker": {
             "colorbar": {
              "outlinewidth": 0,
              "ticks": ""
             }
            },
            "type": "scattermapbox"
           }
          ],
          "scatterpolar": [
           {
            "marker": {
             "colorbar": {
              "outlinewidth": 0,
              "ticks": ""
             }
            },
            "type": "scatterpolar"
           }
          ],
          "scatterpolargl": [
           {
            "marker": {
             "colorbar": {
              "outlinewidth": 0,
              "ticks": ""
             }
            },
            "type": "scatterpolargl"
           }
          ],
          "scatterternary": [
           {
            "marker": {
             "colorbar": {
              "outlinewidth": 0,
              "ticks": ""
             }
            },
            "type": "scatterternary"
           }
          ],
          "surface": [
           {
            "colorbar": {
             "outlinewidth": 0,
             "ticks": ""
            },
            "colorscale": [
             [
              0,
              "#0d0887"
             ],
             [
              0.1111111111111111,
              "#46039f"
             ],
             [
              0.2222222222222222,
              "#7201a8"
             ],
             [
              0.3333333333333333,
              "#9c179e"
             ],
             [
              0.4444444444444444,
              "#bd3786"
             ],
             [
              0.5555555555555556,
              "#d8576b"
             ],
             [
              0.6666666666666666,
              "#ed7953"
             ],
             [
              0.7777777777777778,
              "#fb9f3a"
             ],
             [
              0.8888888888888888,
              "#fdca26"
             ],
             [
              1,
              "#f0f921"
             ]
            ],
            "type": "surface"
           }
          ],
          "table": [
           {
            "cells": {
             "fill": {
              "color": "#506784"
             },
             "line": {
              "color": "rgb(17,17,17)"
             }
            },
            "header": {
             "fill": {
              "color": "#2a3f5f"
             },
             "line": {
              "color": "rgb(17,17,17)"
             }
            },
            "type": "table"
           }
          ]
         },
         "layout": {
          "annotationdefaults": {
           "arrowcolor": "#f2f5fa",
           "arrowhead": 0,
           "arrowwidth": 1
          },
          "autotypenumbers": "strict",
          "coloraxis": {
           "colorbar": {
            "outlinewidth": 0,
            "ticks": ""
           }
          },
          "colorscale": {
           "diverging": [
            [
             0,
             "#8e0152"
            ],
            [
             0.1,
             "#c51b7d"
            ],
            [
             0.2,
             "#de77ae"
            ],
            [
             0.3,
             "#f1b6da"
            ],
            [
             0.4,
             "#fde0ef"
            ],
            [
             0.5,
             "#f7f7f7"
            ],
            [
             0.6,
             "#e6f5d0"
            ],
            [
             0.7,
             "#b8e186"
            ],
            [
             0.8,
             "#7fbc41"
            ],
            [
             0.9,
             "#4d9221"
            ],
            [
             1,
             "#276419"
            ]
           ],
           "sequential": [
            [
             0,
             "#0d0887"
            ],
            [
             0.1111111111111111,
             "#46039f"
            ],
            [
             0.2222222222222222,
             "#7201a8"
            ],
            [
             0.3333333333333333,
             "#9c179e"
            ],
            [
             0.4444444444444444,
             "#bd3786"
            ],
            [
             0.5555555555555556,
             "#d8576b"
            ],
            [
             0.6666666666666666,
             "#ed7953"
            ],
            [
             0.7777777777777778,
             "#fb9f3a"
            ],
            [
             0.8888888888888888,
             "#fdca26"
            ],
            [
             1,
             "#f0f921"
            ]
           ],
           "sequentialminus": [
            [
             0,
             "#0d0887"
            ],
            [
             0.1111111111111111,
             "#46039f"
            ],
            [
             0.2222222222222222,
             "#7201a8"
            ],
            [
             0.3333333333333333,
             "#9c179e"
            ],
            [
             0.4444444444444444,
             "#bd3786"
            ],
            [
             0.5555555555555556,
             "#d8576b"
            ],
            [
             0.6666666666666666,
             "#ed7953"
            ],
            [
             0.7777777777777778,
             "#fb9f3a"
            ],
            [
             0.8888888888888888,
             "#fdca26"
            ],
            [
             1,
             "#f0f921"
            ]
           ]
          },
          "colorway": [
           "#636efa",
           "#EF553B",
           "#00cc96",
           "#ab63fa",
           "#FFA15A",
           "#19d3f3",
           "#FF6692",
           "#B6E880",
           "#FF97FF",
           "#FECB52"
          ],
          "font": {
           "color": "#f2f5fa"
          },
          "geo": {
           "bgcolor": "rgb(17,17,17)",
           "lakecolor": "rgb(17,17,17)",
           "landcolor": "rgb(17,17,17)",
           "showlakes": true,
           "showland": true,
           "subunitcolor": "#506784"
          },
          "hoverlabel": {
           "align": "left"
          },
          "hovermode": "closest",
          "mapbox": {
           "style": "dark"
          },
          "paper_bgcolor": "rgb(17,17,17)",
          "plot_bgcolor": "rgb(17,17,17)",
          "polar": {
           "angularaxis": {
            "gridcolor": "#506784",
            "linecolor": "#506784",
            "ticks": ""
           },
           "bgcolor": "rgb(17,17,17)",
           "radialaxis": {
            "gridcolor": "#506784",
            "linecolor": "#506784",
            "ticks": ""
           }
          },
          "scene": {
           "xaxis": {
            "backgroundcolor": "rgb(17,17,17)",
            "gridcolor": "#506784",
            "gridwidth": 2,
            "linecolor": "#506784",
            "showbackground": true,
            "ticks": "",
            "zerolinecolor": "#C8D4E3"
           },
           "yaxis": {
            "backgroundcolor": "rgb(17,17,17)",
            "gridcolor": "#506784",
            "gridwidth": 2,
            "linecolor": "#506784",
            "showbackground": true,
            "ticks": "",
            "zerolinecolor": "#C8D4E3"
           },
           "zaxis": {
            "backgroundcolor": "rgb(17,17,17)",
            "gridcolor": "#506784",
            "gridwidth": 2,
            "linecolor": "#506784",
            "showbackground": true,
            "ticks": "",
            "zerolinecolor": "#C8D4E3"
           }
          },
          "shapedefaults": {
           "line": {
            "color": "#f2f5fa"
           }
          },
          "sliderdefaults": {
           "bgcolor": "#C8D4E3",
           "bordercolor": "rgb(17,17,17)",
           "borderwidth": 1,
           "tickwidth": 0
          },
          "ternary": {
           "aaxis": {
            "gridcolor": "#506784",
            "linecolor": "#506784",
            "ticks": ""
           },
           "baxis": {
            "gridcolor": "#506784",
            "linecolor": "#506784",
            "ticks": ""
           },
           "bgcolor": "rgb(17,17,17)",
           "caxis": {
            "gridcolor": "#506784",
            "linecolor": "#506784",
            "ticks": ""
           }
          },
          "title": {
           "x": 0.05
          },
          "updatemenudefaults": {
           "bgcolor": "#506784",
           "borderwidth": 0
          },
          "xaxis": {
           "automargin": true,
           "gridcolor": "#283442",
           "linecolor": "#506784",
           "ticks": "",
           "title": {
            "standoff": 15
           },
           "zerolinecolor": "#283442",
           "zerolinewidth": 2
          },
          "yaxis": {
           "automargin": true,
           "gridcolor": "#283442",
           "linecolor": "#506784",
           "ticks": "",
           "title": {
            "standoff": 15
           },
           "zerolinecolor": "#283442",
           "zerolinewidth": 2
          }
         }
        },
        "xaxis": {
         "anchor": "y",
         "domain": [
          0,
          1
         ],
         "title": {
          "text": "YYYYMM"
         }
        },
        "yaxis": {
         "anchor": "x",
         "domain": [
          0,
          1
         ],
         "title": {
          "text": "Delta"
         }
        }
       }
      }
     },
     "metadata": {},
     "output_type": "display_data"
    }
   ],
   "source": [
    "categories = [\n",
    "    'health',\n",
    "]\n",
    "\n",
    "\n",
    "mask = df_year['Category'].isin(categories)\n",
    "temp = df_year[mask]\n",
    "title = f'Year - filtered categories ({categories})'\n",
    "make_barchart(df=temp,time_column='YYYYMM',title=title)"
   ]
  },
  {
   "cell_type": "code",
   "execution_count": 57,
   "metadata": {},
   "outputs": [
    {
     "data": {
      "text/html": [
       "<h2> 📊 Bar-Chart: Year - filtered categories (['tech'])</h2>"
      ],
      "text/plain": [
       "<IPython.core.display.HTML object>"
      ]
     },
     "metadata": {},
     "output_type": "display_data"
    },
    {
     "data": {
      "text/html": [
       "from 2022-01-03 00:00:00"
      ],
      "text/plain": [
       "<IPython.core.display.HTML object>"
      ]
     },
     "metadata": {},
     "output_type": "display_data"
    },
    {
     "data": {
      "text/html": [
       "to 2022-09-21 00:00:00"
      ],
      "text/plain": [
       "<IPython.core.display.HTML object>"
      ]
     },
     "metadata": {},
     "output_type": "display_data"
    },
    {
     "data": {
      "text/html": [
       "total 15883"
      ],
      "text/plain": [
       "<IPython.core.display.HTML object>"
      ]
     },
     "metadata": {},
     "output_type": "display_data"
    },
    {
     "data": {
      "application/vnd.plotly.v1+json": {
       "config": {
        "plotlyServerURL": "https://plot.ly"
       },
       "data": [
        {
         "alignmentgroup": "True",
         "customdata": [
          [
           "tech"
          ],
          [
           "tech"
          ],
          [
           "tech"
          ],
          [
           "tech"
          ],
          [
           "tech"
          ],
          [
           "tech"
          ],
          [
           "tech"
          ],
          [
           "tech"
          ]
         ],
         "hovertemplate": "Category=%{customdata[0]}<br>YYYYMM=%{x}<br>Delta=%{y}<extra></extra>",
         "legendgroup": "tech",
         "marker": {
          "color": "#636efa",
          "pattern": {
           "shape": ""
          }
         },
         "name": "tech",
         "offsetgroup": "tech",
         "orientation": "v",
         "showlegend": true,
         "text": [
          "tech",
          "tech",
          "tech",
          "tech",
          "tech",
          "tech",
          "tech",
          "tech"
         ],
         "textposition": "auto",
         "type": "bar",
         "x": [
          202201,
          202203,
          202204,
          202205,
          202206,
          202207,
          202208,
          202209
         ],
         "xaxis": "x",
         "y": [
          755,
          1734,
          3726,
          2930,
          1808,
          1289,
          1602,
          2039
         ],
         "yaxis": "y"
        }
       ],
       "layout": {
        "barmode": "relative",
        "height": 600,
        "legend": {
         "title": {
          "text": "Category"
         },
         "tracegroupgap": 0
        },
        "margin": {
         "t": 60
        },
        "template": {
         "data": {
          "bar": [
           {
            "error_x": {
             "color": "#f2f5fa"
            },
            "error_y": {
             "color": "#f2f5fa"
            },
            "marker": {
             "line": {
              "color": "rgb(17,17,17)",
              "width": 0.5
             },
             "pattern": {
              "fillmode": "overlay",
              "size": 10,
              "solidity": 0.2
             }
            },
            "type": "bar"
           }
          ],
          "barpolar": [
           {
            "marker": {
             "line": {
              "color": "rgb(17,17,17)",
              "width": 0.5
             },
             "pattern": {
              "fillmode": "overlay",
              "size": 10,
              "solidity": 0.2
             }
            },
            "type": "barpolar"
           }
          ],
          "carpet": [
           {
            "aaxis": {
             "endlinecolor": "#A2B1C6",
             "gridcolor": "#506784",
             "linecolor": "#506784",
             "minorgridcolor": "#506784",
             "startlinecolor": "#A2B1C6"
            },
            "baxis": {
             "endlinecolor": "#A2B1C6",
             "gridcolor": "#506784",
             "linecolor": "#506784",
             "minorgridcolor": "#506784",
             "startlinecolor": "#A2B1C6"
            },
            "type": "carpet"
           }
          ],
          "choropleth": [
           {
            "colorbar": {
             "outlinewidth": 0,
             "ticks": ""
            },
            "type": "choropleth"
           }
          ],
          "contour": [
           {
            "colorbar": {
             "outlinewidth": 0,
             "ticks": ""
            },
            "colorscale": [
             [
              0,
              "#0d0887"
             ],
             [
              0.1111111111111111,
              "#46039f"
             ],
             [
              0.2222222222222222,
              "#7201a8"
             ],
             [
              0.3333333333333333,
              "#9c179e"
             ],
             [
              0.4444444444444444,
              "#bd3786"
             ],
             [
              0.5555555555555556,
              "#d8576b"
             ],
             [
              0.6666666666666666,
              "#ed7953"
             ],
             [
              0.7777777777777778,
              "#fb9f3a"
             ],
             [
              0.8888888888888888,
              "#fdca26"
             ],
             [
              1,
              "#f0f921"
             ]
            ],
            "type": "contour"
           }
          ],
          "contourcarpet": [
           {
            "colorbar": {
             "outlinewidth": 0,
             "ticks": ""
            },
            "type": "contourcarpet"
           }
          ],
          "heatmap": [
           {
            "colorbar": {
             "outlinewidth": 0,
             "ticks": ""
            },
            "colorscale": [
             [
              0,
              "#0d0887"
             ],
             [
              0.1111111111111111,
              "#46039f"
             ],
             [
              0.2222222222222222,
              "#7201a8"
             ],
             [
              0.3333333333333333,
              "#9c179e"
             ],
             [
              0.4444444444444444,
              "#bd3786"
             ],
             [
              0.5555555555555556,
              "#d8576b"
             ],
             [
              0.6666666666666666,
              "#ed7953"
             ],
             [
              0.7777777777777778,
              "#fb9f3a"
             ],
             [
              0.8888888888888888,
              "#fdca26"
             ],
             [
              1,
              "#f0f921"
             ]
            ],
            "type": "heatmap"
           }
          ],
          "heatmapgl": [
           {
            "colorbar": {
             "outlinewidth": 0,
             "ticks": ""
            },
            "colorscale": [
             [
              0,
              "#0d0887"
             ],
             [
              0.1111111111111111,
              "#46039f"
             ],
             [
              0.2222222222222222,
              "#7201a8"
             ],
             [
              0.3333333333333333,
              "#9c179e"
             ],
             [
              0.4444444444444444,
              "#bd3786"
             ],
             [
              0.5555555555555556,
              "#d8576b"
             ],
             [
              0.6666666666666666,
              "#ed7953"
             ],
             [
              0.7777777777777778,
              "#fb9f3a"
             ],
             [
              0.8888888888888888,
              "#fdca26"
             ],
             [
              1,
              "#f0f921"
             ]
            ],
            "type": "heatmapgl"
           }
          ],
          "histogram": [
           {
            "marker": {
             "pattern": {
              "fillmode": "overlay",
              "size": 10,
              "solidity": 0.2
             }
            },
            "type": "histogram"
           }
          ],
          "histogram2d": [
           {
            "colorbar": {
             "outlinewidth": 0,
             "ticks": ""
            },
            "colorscale": [
             [
              0,
              "#0d0887"
             ],
             [
              0.1111111111111111,
              "#46039f"
             ],
             [
              0.2222222222222222,
              "#7201a8"
             ],
             [
              0.3333333333333333,
              "#9c179e"
             ],
             [
              0.4444444444444444,
              "#bd3786"
             ],
             [
              0.5555555555555556,
              "#d8576b"
             ],
             [
              0.6666666666666666,
              "#ed7953"
             ],
             [
              0.7777777777777778,
              "#fb9f3a"
             ],
             [
              0.8888888888888888,
              "#fdca26"
             ],
             [
              1,
              "#f0f921"
             ]
            ],
            "type": "histogram2d"
           }
          ],
          "histogram2dcontour": [
           {
            "colorbar": {
             "outlinewidth": 0,
             "ticks": ""
            },
            "colorscale": [
             [
              0,
              "#0d0887"
             ],
             [
              0.1111111111111111,
              "#46039f"
             ],
             [
              0.2222222222222222,
              "#7201a8"
             ],
             [
              0.3333333333333333,
              "#9c179e"
             ],
             [
              0.4444444444444444,
              "#bd3786"
             ],
             [
              0.5555555555555556,
              "#d8576b"
             ],
             [
              0.6666666666666666,
              "#ed7953"
             ],
             [
              0.7777777777777778,
              "#fb9f3a"
             ],
             [
              0.8888888888888888,
              "#fdca26"
             ],
             [
              1,
              "#f0f921"
             ]
            ],
            "type": "histogram2dcontour"
           }
          ],
          "mesh3d": [
           {
            "colorbar": {
             "outlinewidth": 0,
             "ticks": ""
            },
            "type": "mesh3d"
           }
          ],
          "parcoords": [
           {
            "line": {
             "colorbar": {
              "outlinewidth": 0,
              "ticks": ""
             }
            },
            "type": "parcoords"
           }
          ],
          "pie": [
           {
            "automargin": true,
            "type": "pie"
           }
          ],
          "scatter": [
           {
            "marker": {
             "line": {
              "color": "#283442"
             }
            },
            "type": "scatter"
           }
          ],
          "scatter3d": [
           {
            "line": {
             "colorbar": {
              "outlinewidth": 0,
              "ticks": ""
             }
            },
            "marker": {
             "colorbar": {
              "outlinewidth": 0,
              "ticks": ""
             }
            },
            "type": "scatter3d"
           }
          ],
          "scattercarpet": [
           {
            "marker": {
             "colorbar": {
              "outlinewidth": 0,
              "ticks": ""
             }
            },
            "type": "scattercarpet"
           }
          ],
          "scattergeo": [
           {
            "marker": {
             "colorbar": {
              "outlinewidth": 0,
              "ticks": ""
             }
            },
            "type": "scattergeo"
           }
          ],
          "scattergl": [
           {
            "marker": {
             "line": {
              "color": "#283442"
             }
            },
            "type": "scattergl"
           }
          ],
          "scattermapbox": [
           {
            "marker": {
             "colorbar": {
              "outlinewidth": 0,
              "ticks": ""
             }
            },
            "type": "scattermapbox"
           }
          ],
          "scatterpolar": [
           {
            "marker": {
             "colorbar": {
              "outlinewidth": 0,
              "ticks": ""
             }
            },
            "type": "scatterpolar"
           }
          ],
          "scatterpolargl": [
           {
            "marker": {
             "colorbar": {
              "outlinewidth": 0,
              "ticks": ""
             }
            },
            "type": "scatterpolargl"
           }
          ],
          "scatterternary": [
           {
            "marker": {
             "colorbar": {
              "outlinewidth": 0,
              "ticks": ""
             }
            },
            "type": "scatterternary"
           }
          ],
          "surface": [
           {
            "colorbar": {
             "outlinewidth": 0,
             "ticks": ""
            },
            "colorscale": [
             [
              0,
              "#0d0887"
             ],
             [
              0.1111111111111111,
              "#46039f"
             ],
             [
              0.2222222222222222,
              "#7201a8"
             ],
             [
              0.3333333333333333,
              "#9c179e"
             ],
             [
              0.4444444444444444,
              "#bd3786"
             ],
             [
              0.5555555555555556,
              "#d8576b"
             ],
             [
              0.6666666666666666,
              "#ed7953"
             ],
             [
              0.7777777777777778,
              "#fb9f3a"
             ],
             [
              0.8888888888888888,
              "#fdca26"
             ],
             [
              1,
              "#f0f921"
             ]
            ],
            "type": "surface"
           }
          ],
          "table": [
           {
            "cells": {
             "fill": {
              "color": "#506784"
             },
             "line": {
              "color": "rgb(17,17,17)"
             }
            },
            "header": {
             "fill": {
              "color": "#2a3f5f"
             },
             "line": {
              "color": "rgb(17,17,17)"
             }
            },
            "type": "table"
           }
          ]
         },
         "layout": {
          "annotationdefaults": {
           "arrowcolor": "#f2f5fa",
           "arrowhead": 0,
           "arrowwidth": 1
          },
          "autotypenumbers": "strict",
          "coloraxis": {
           "colorbar": {
            "outlinewidth": 0,
            "ticks": ""
           }
          },
          "colorscale": {
           "diverging": [
            [
             0,
             "#8e0152"
            ],
            [
             0.1,
             "#c51b7d"
            ],
            [
             0.2,
             "#de77ae"
            ],
            [
             0.3,
             "#f1b6da"
            ],
            [
             0.4,
             "#fde0ef"
            ],
            [
             0.5,
             "#f7f7f7"
            ],
            [
             0.6,
             "#e6f5d0"
            ],
            [
             0.7,
             "#b8e186"
            ],
            [
             0.8,
             "#7fbc41"
            ],
            [
             0.9,
             "#4d9221"
            ],
            [
             1,
             "#276419"
            ]
           ],
           "sequential": [
            [
             0,
             "#0d0887"
            ],
            [
             0.1111111111111111,
             "#46039f"
            ],
            [
             0.2222222222222222,
             "#7201a8"
            ],
            [
             0.3333333333333333,
             "#9c179e"
            ],
            [
             0.4444444444444444,
             "#bd3786"
            ],
            [
             0.5555555555555556,
             "#d8576b"
            ],
            [
             0.6666666666666666,
             "#ed7953"
            ],
            [
             0.7777777777777778,
             "#fb9f3a"
            ],
            [
             0.8888888888888888,
             "#fdca26"
            ],
            [
             1,
             "#f0f921"
            ]
           ],
           "sequentialminus": [
            [
             0,
             "#0d0887"
            ],
            [
             0.1111111111111111,
             "#46039f"
            ],
            [
             0.2222222222222222,
             "#7201a8"
            ],
            [
             0.3333333333333333,
             "#9c179e"
            ],
            [
             0.4444444444444444,
             "#bd3786"
            ],
            [
             0.5555555555555556,
             "#d8576b"
            ],
            [
             0.6666666666666666,
             "#ed7953"
            ],
            [
             0.7777777777777778,
             "#fb9f3a"
            ],
            [
             0.8888888888888888,
             "#fdca26"
            ],
            [
             1,
             "#f0f921"
            ]
           ]
          },
          "colorway": [
           "#636efa",
           "#EF553B",
           "#00cc96",
           "#ab63fa",
           "#FFA15A",
           "#19d3f3",
           "#FF6692",
           "#B6E880",
           "#FF97FF",
           "#FECB52"
          ],
          "font": {
           "color": "#f2f5fa"
          },
          "geo": {
           "bgcolor": "rgb(17,17,17)",
           "lakecolor": "rgb(17,17,17)",
           "landcolor": "rgb(17,17,17)",
           "showlakes": true,
           "showland": true,
           "subunitcolor": "#506784"
          },
          "hoverlabel": {
           "align": "left"
          },
          "hovermode": "closest",
          "mapbox": {
           "style": "dark"
          },
          "paper_bgcolor": "rgb(17,17,17)",
          "plot_bgcolor": "rgb(17,17,17)",
          "polar": {
           "angularaxis": {
            "gridcolor": "#506784",
            "linecolor": "#506784",
            "ticks": ""
           },
           "bgcolor": "rgb(17,17,17)",
           "radialaxis": {
            "gridcolor": "#506784",
            "linecolor": "#506784",
            "ticks": ""
           }
          },
          "scene": {
           "xaxis": {
            "backgroundcolor": "rgb(17,17,17)",
            "gridcolor": "#506784",
            "gridwidth": 2,
            "linecolor": "#506784",
            "showbackground": true,
            "ticks": "",
            "zerolinecolor": "#C8D4E3"
           },
           "yaxis": {
            "backgroundcolor": "rgb(17,17,17)",
            "gridcolor": "#506784",
            "gridwidth": 2,
            "linecolor": "#506784",
            "showbackground": true,
            "ticks": "",
            "zerolinecolor": "#C8D4E3"
           },
           "zaxis": {
            "backgroundcolor": "rgb(17,17,17)",
            "gridcolor": "#506784",
            "gridwidth": 2,
            "linecolor": "#506784",
            "showbackground": true,
            "ticks": "",
            "zerolinecolor": "#C8D4E3"
           }
          },
          "shapedefaults": {
           "line": {
            "color": "#f2f5fa"
           }
          },
          "sliderdefaults": {
           "bgcolor": "#C8D4E3",
           "bordercolor": "rgb(17,17,17)",
           "borderwidth": 1,
           "tickwidth": 0
          },
          "ternary": {
           "aaxis": {
            "gridcolor": "#506784",
            "linecolor": "#506784",
            "ticks": ""
           },
           "baxis": {
            "gridcolor": "#506784",
            "linecolor": "#506784",
            "ticks": ""
           },
           "bgcolor": "rgb(17,17,17)",
           "caxis": {
            "gridcolor": "#506784",
            "linecolor": "#506784",
            "ticks": ""
           }
          },
          "title": {
           "x": 0.05
          },
          "updatemenudefaults": {
           "bgcolor": "#506784",
           "borderwidth": 0
          },
          "xaxis": {
           "automargin": true,
           "gridcolor": "#283442",
           "linecolor": "#506784",
           "ticks": "",
           "title": {
            "standoff": 15
           },
           "zerolinecolor": "#283442",
           "zerolinewidth": 2
          },
          "yaxis": {
           "automargin": true,
           "gridcolor": "#283442",
           "linecolor": "#506784",
           "ticks": "",
           "title": {
            "standoff": 15
           },
           "zerolinecolor": "#283442",
           "zerolinewidth": 2
          }
         }
        },
        "xaxis": {
         "anchor": "y",
         "domain": [
          0,
          1
         ],
         "title": {
          "text": "YYYYMM"
         }
        },
        "yaxis": {
         "anchor": "x",
         "domain": [
          0,
          1
         ],
         "title": {
          "text": "Delta"
         }
        }
       }
      }
     },
     "metadata": {},
     "output_type": "display_data"
    }
   ],
   "source": [
    "categories = [\n",
    "    'tech'\n",
    "]\n",
    "\n",
    "\n",
    "mask = df_year['Category'].isin(categories)\n",
    "temp = df_year[mask]\n",
    "title = f'Year - filtered categories ({categories})'\n",
    "make_barchart(df=temp,time_column='YYYYMM',title=title)\n"
   ]
  },
  {
   "cell_type": "code",
   "execution_count": 59,
   "metadata": {},
   "outputs": [
    {
     "data": {
      "text/html": [
       "<h2> 📊 Bar-Chart: Year - filtered Location (['Hershey'])</h2>"
      ],
      "text/plain": [
       "<IPython.core.display.HTML object>"
      ]
     },
     "metadata": {},
     "output_type": "display_data"
    },
    {
     "data": {
      "text/html": [
       "from 2022-01-11 00:00:00"
      ],
      "text/plain": [
       "<IPython.core.display.HTML object>"
      ]
     },
     "metadata": {},
     "output_type": "display_data"
    },
    {
     "data": {
      "text/html": [
       "to 2022-09-19 00:00:00"
      ],
      "text/plain": [
       "<IPython.core.display.HTML object>"
      ]
     },
     "metadata": {},
     "output_type": "display_data"
    },
    {
     "data": {
      "text/html": [
       "total 6939"
      ],
      "text/plain": [
       "<IPython.core.display.HTML object>"
      ]
     },
     "metadata": {},
     "output_type": "display_data"
    },
    {
     "data": {
      "application/vnd.plotly.v1+json": {
       "config": {
        "plotlyServerURL": "https://plot.ly"
       },
       "data": [
        {
         "alignmentgroup": "True",
         "customdata": [
          [
           "misc"
          ]
         ],
         "hovertemplate": "Category=%{customdata[0]}<br>YYYYMM=%{x}<br>Delta=%{y}<extra></extra>",
         "legendgroup": "misc",
         "marker": {
          "color": "#636efa",
          "pattern": {
           "shape": ""
          }
         },
         "name": "misc",
         "offsetgroup": "misc",
         "orientation": "v",
         "showlegend": true,
         "text": [
          "misc"
         ],
         "textposition": "auto",
         "type": "bar",
         "x": [
          202201
         ],
         "xaxis": "x",
         "y": [
          737
         ],
         "yaxis": "y"
        },
        {
         "alignmentgroup": "True",
         "customdata": [
          [
           "travel"
          ],
          [
           "travel"
          ]
         ],
         "hovertemplate": "Category=%{customdata[0]}<br>YYYYMM=%{x}<br>Delta=%{y}<extra></extra>",
         "legendgroup": "travel",
         "marker": {
          "color": "#EF553B",
          "pattern": {
           "shape": ""
          }
         },
         "name": "travel",
         "offsetgroup": "travel",
         "orientation": "v",
         "showlegend": true,
         "text": [
          "travel",
          "travel"
         ],
         "textposition": "auto",
         "type": "bar",
         "x": [
          202203,
          202207
         ],
         "xaxis": "x",
         "y": [
          447,
          552
         ],
         "yaxis": "y"
        },
        {
         "alignmentgroup": "True",
         "customdata": [
          [
           "debt"
          ]
         ],
         "hovertemplate": "Category=%{customdata[0]}<br>YYYYMM=%{x}<br>Delta=%{y}<extra></extra>",
         "legendgroup": "debt",
         "marker": {
          "color": "#00cc96",
          "pattern": {
           "shape": ""
          }
         },
         "name": "debt",
         "offsetgroup": "debt",
         "orientation": "v",
         "showlegend": true,
         "text": [
          "debt"
         ],
         "textposition": "auto",
         "type": "bar",
         "x": [
          202204
         ],
         "xaxis": "x",
         "y": [
          63
         ],
         "yaxis": "y"
        },
        {
         "alignmentgroup": "True",
         "customdata": [
          [
           "tech"
          ],
          [
           "tech"
          ]
         ],
         "hovertemplate": "Category=%{customdata[0]}<br>YYYYMM=%{x}<br>Delta=%{y}<extra></extra>",
         "legendgroup": "tech",
         "marker": {
          "color": "#ab63fa",
          "pattern": {
           "shape": ""
          }
         },
         "name": "tech",
         "offsetgroup": "tech",
         "orientation": "v",
         "showlegend": true,
         "text": [
          "tech",
          "tech"
         ],
         "textposition": "auto",
         "type": "bar",
         "x": [
          202204,
          202206
         ],
         "xaxis": "x",
         "y": [
          356,
          220
         ],
         "yaxis": "y"
        },
        {
         "alignmentgroup": "True",
         "customdata": [
          [
           "unk"
          ]
         ],
         "hovertemplate": "Category=%{customdata[0]}<br>YYYYMM=%{x}<br>Delta=%{y}<extra></extra>",
         "legendgroup": "unk",
         "marker": {
          "color": "#FFA15A",
          "pattern": {
           "shape": ""
          }
         },
         "name": "unk",
         "offsetgroup": "unk",
         "orientation": "v",
         "showlegend": true,
         "text": [
          "unk"
         ],
         "textposition": "auto",
         "type": "bar",
         "x": [
          202204
         ],
         "xaxis": "x",
         "y": [
          1402
         ],
         "yaxis": "y"
        },
        {
         "alignmentgroup": "True",
         "customdata": [
          [
           "clothing"
          ]
         ],
         "hovertemplate": "Category=%{customdata[0]}<br>YYYYMM=%{x}<br>Delta=%{y}<extra></extra>",
         "legendgroup": "clothing",
         "marker": {
          "color": "#19d3f3",
          "pattern": {
           "shape": ""
          }
         },
         "name": "clothing",
         "offsetgroup": "clothing",
         "orientation": "v",
         "showlegend": true,
         "text": [
          "clothing"
         ],
         "textposition": "auto",
         "type": "bar",
         "x": [
          202205
         ],
         "xaxis": "x",
         "y": [
          691
         ],
         "yaxis": "y"
        },
        {
         "alignmentgroup": "True",
         "customdata": [
          [
           "health"
          ]
         ],
         "hovertemplate": "Category=%{customdata[0]}<br>YYYYMM=%{x}<br>Delta=%{y}<extra></extra>",
         "legendgroup": "health",
         "marker": {
          "color": "#FF6692",
          "pattern": {
           "shape": ""
          }
         },
         "name": "health",
         "offsetgroup": "health",
         "orientation": "v",
         "showlegend": true,
         "text": [
          "health"
         ],
         "textposition": "auto",
         "type": "bar",
         "x": [
          202206
         ],
         "xaxis": "x",
         "y": [
          836
         ],
         "yaxis": "y"
        },
        {
         "alignmentgroup": "True",
         "customdata": [
          [
           "invest"
          ],
          [
           "invest"
          ]
         ],
         "hovertemplate": "Category=%{customdata[0]}<br>YYYYMM=%{x}<br>Delta=%{y}<extra></extra>",
         "legendgroup": "invest",
         "marker": {
          "color": "#B6E880",
          "pattern": {
           "shape": ""
          }
         },
         "name": "invest",
         "offsetgroup": "invest",
         "orientation": "v",
         "showlegend": true,
         "text": [
          "invest",
          "invest"
         ],
         "textposition": "auto",
         "type": "bar",
         "x": [
          202207,
          202209
         ],
         "xaxis": "x",
         "y": [
          538,
          1097
         ],
         "yaxis": "y"
        }
       ],
       "layout": {
        "barmode": "relative",
        "height": 600,
        "legend": {
         "title": {
          "text": "Category"
         },
         "tracegroupgap": 0
        },
        "margin": {
         "t": 60
        },
        "template": {
         "data": {
          "bar": [
           {
            "error_x": {
             "color": "#f2f5fa"
            },
            "error_y": {
             "color": "#f2f5fa"
            },
            "marker": {
             "line": {
              "color": "rgb(17,17,17)",
              "width": 0.5
             },
             "pattern": {
              "fillmode": "overlay",
              "size": 10,
              "solidity": 0.2
             }
            },
            "type": "bar"
           }
          ],
          "barpolar": [
           {
            "marker": {
             "line": {
              "color": "rgb(17,17,17)",
              "width": 0.5
             },
             "pattern": {
              "fillmode": "overlay",
              "size": 10,
              "solidity": 0.2
             }
            },
            "type": "barpolar"
           }
          ],
          "carpet": [
           {
            "aaxis": {
             "endlinecolor": "#A2B1C6",
             "gridcolor": "#506784",
             "linecolor": "#506784",
             "minorgridcolor": "#506784",
             "startlinecolor": "#A2B1C6"
            },
            "baxis": {
             "endlinecolor": "#A2B1C6",
             "gridcolor": "#506784",
             "linecolor": "#506784",
             "minorgridcolor": "#506784",
             "startlinecolor": "#A2B1C6"
            },
            "type": "carpet"
           }
          ],
          "choropleth": [
           {
            "colorbar": {
             "outlinewidth": 0,
             "ticks": ""
            },
            "type": "choropleth"
           }
          ],
          "contour": [
           {
            "colorbar": {
             "outlinewidth": 0,
             "ticks": ""
            },
            "colorscale": [
             [
              0,
              "#0d0887"
             ],
             [
              0.1111111111111111,
              "#46039f"
             ],
             [
              0.2222222222222222,
              "#7201a8"
             ],
             [
              0.3333333333333333,
              "#9c179e"
             ],
             [
              0.4444444444444444,
              "#bd3786"
             ],
             [
              0.5555555555555556,
              "#d8576b"
             ],
             [
              0.6666666666666666,
              "#ed7953"
             ],
             [
              0.7777777777777778,
              "#fb9f3a"
             ],
             [
              0.8888888888888888,
              "#fdca26"
             ],
             [
              1,
              "#f0f921"
             ]
            ],
            "type": "contour"
           }
          ],
          "contourcarpet": [
           {
            "colorbar": {
             "outlinewidth": 0,
             "ticks": ""
            },
            "type": "contourcarpet"
           }
          ],
          "heatmap": [
           {
            "colorbar": {
             "outlinewidth": 0,
             "ticks": ""
            },
            "colorscale": [
             [
              0,
              "#0d0887"
             ],
             [
              0.1111111111111111,
              "#46039f"
             ],
             [
              0.2222222222222222,
              "#7201a8"
             ],
             [
              0.3333333333333333,
              "#9c179e"
             ],
             [
              0.4444444444444444,
              "#bd3786"
             ],
             [
              0.5555555555555556,
              "#d8576b"
             ],
             [
              0.6666666666666666,
              "#ed7953"
             ],
             [
              0.7777777777777778,
              "#fb9f3a"
             ],
             [
              0.8888888888888888,
              "#fdca26"
             ],
             [
              1,
              "#f0f921"
             ]
            ],
            "type": "heatmap"
           }
          ],
          "heatmapgl": [
           {
            "colorbar": {
             "outlinewidth": 0,
             "ticks": ""
            },
            "colorscale": [
             [
              0,
              "#0d0887"
             ],
             [
              0.1111111111111111,
              "#46039f"
             ],
             [
              0.2222222222222222,
              "#7201a8"
             ],
             [
              0.3333333333333333,
              "#9c179e"
             ],
             [
              0.4444444444444444,
              "#bd3786"
             ],
             [
              0.5555555555555556,
              "#d8576b"
             ],
             [
              0.6666666666666666,
              "#ed7953"
             ],
             [
              0.7777777777777778,
              "#fb9f3a"
             ],
             [
              0.8888888888888888,
              "#fdca26"
             ],
             [
              1,
              "#f0f921"
             ]
            ],
            "type": "heatmapgl"
           }
          ],
          "histogram": [
           {
            "marker": {
             "pattern": {
              "fillmode": "overlay",
              "size": 10,
              "solidity": 0.2
             }
            },
            "type": "histogram"
           }
          ],
          "histogram2d": [
           {
            "colorbar": {
             "outlinewidth": 0,
             "ticks": ""
            },
            "colorscale": [
             [
              0,
              "#0d0887"
             ],
             [
              0.1111111111111111,
              "#46039f"
             ],
             [
              0.2222222222222222,
              "#7201a8"
             ],
             [
              0.3333333333333333,
              "#9c179e"
             ],
             [
              0.4444444444444444,
              "#bd3786"
             ],
             [
              0.5555555555555556,
              "#d8576b"
             ],
             [
              0.6666666666666666,
              "#ed7953"
             ],
             [
              0.7777777777777778,
              "#fb9f3a"
             ],
             [
              0.8888888888888888,
              "#fdca26"
             ],
             [
              1,
              "#f0f921"
             ]
            ],
            "type": "histogram2d"
           }
          ],
          "histogram2dcontour": [
           {
            "colorbar": {
             "outlinewidth": 0,
             "ticks": ""
            },
            "colorscale": [
             [
              0,
              "#0d0887"
             ],
             [
              0.1111111111111111,
              "#46039f"
             ],
             [
              0.2222222222222222,
              "#7201a8"
             ],
             [
              0.3333333333333333,
              "#9c179e"
             ],
             [
              0.4444444444444444,
              "#bd3786"
             ],
             [
              0.5555555555555556,
              "#d8576b"
             ],
             [
              0.6666666666666666,
              "#ed7953"
             ],
             [
              0.7777777777777778,
              "#fb9f3a"
             ],
             [
              0.8888888888888888,
              "#fdca26"
             ],
             [
              1,
              "#f0f921"
             ]
            ],
            "type": "histogram2dcontour"
           }
          ],
          "mesh3d": [
           {
            "colorbar": {
             "outlinewidth": 0,
             "ticks": ""
            },
            "type": "mesh3d"
           }
          ],
          "parcoords": [
           {
            "line": {
             "colorbar": {
              "outlinewidth": 0,
              "ticks": ""
             }
            },
            "type": "parcoords"
           }
          ],
          "pie": [
           {
            "automargin": true,
            "type": "pie"
           }
          ],
          "scatter": [
           {
            "marker": {
             "line": {
              "color": "#283442"
             }
            },
            "type": "scatter"
           }
          ],
          "scatter3d": [
           {
            "line": {
             "colorbar": {
              "outlinewidth": 0,
              "ticks": ""
             }
            },
            "marker": {
             "colorbar": {
              "outlinewidth": 0,
              "ticks": ""
             }
            },
            "type": "scatter3d"
           }
          ],
          "scattercarpet": [
           {
            "marker": {
             "colorbar": {
              "outlinewidth": 0,
              "ticks": ""
             }
            },
            "type": "scattercarpet"
           }
          ],
          "scattergeo": [
           {
            "marker": {
             "colorbar": {
              "outlinewidth": 0,
              "ticks": ""
             }
            },
            "type": "scattergeo"
           }
          ],
          "scattergl": [
           {
            "marker": {
             "line": {
              "color": "#283442"
             }
            },
            "type": "scattergl"
           }
          ],
          "scattermapbox": [
           {
            "marker": {
             "colorbar": {
              "outlinewidth": 0,
              "ticks": ""
             }
            },
            "type": "scattermapbox"
           }
          ],
          "scatterpolar": [
           {
            "marker": {
             "colorbar": {
              "outlinewidth": 0,
              "ticks": ""
             }
            },
            "type": "scatterpolar"
           }
          ],
          "scatterpolargl": [
           {
            "marker": {
             "colorbar": {
              "outlinewidth": 0,
              "ticks": ""
             }
            },
            "type": "scatterpolargl"
           }
          ],
          "scatterternary": [
           {
            "marker": {
             "colorbar": {
              "outlinewidth": 0,
              "ticks": ""
             }
            },
            "type": "scatterternary"
           }
          ],
          "surface": [
           {
            "colorbar": {
             "outlinewidth": 0,
             "ticks": ""
            },
            "colorscale": [
             [
              0,
              "#0d0887"
             ],
             [
              0.1111111111111111,
              "#46039f"
             ],
             [
              0.2222222222222222,
              "#7201a8"
             ],
             [
              0.3333333333333333,
              "#9c179e"
             ],
             [
              0.4444444444444444,
              "#bd3786"
             ],
             [
              0.5555555555555556,
              "#d8576b"
             ],
             [
              0.6666666666666666,
              "#ed7953"
             ],
             [
              0.7777777777777778,
              "#fb9f3a"
             ],
             [
              0.8888888888888888,
              "#fdca26"
             ],
             [
              1,
              "#f0f921"
             ]
            ],
            "type": "surface"
           }
          ],
          "table": [
           {
            "cells": {
             "fill": {
              "color": "#506784"
             },
             "line": {
              "color": "rgb(17,17,17)"
             }
            },
            "header": {
             "fill": {
              "color": "#2a3f5f"
             },
             "line": {
              "color": "rgb(17,17,17)"
             }
            },
            "type": "table"
           }
          ]
         },
         "layout": {
          "annotationdefaults": {
           "arrowcolor": "#f2f5fa",
           "arrowhead": 0,
           "arrowwidth": 1
          },
          "autotypenumbers": "strict",
          "coloraxis": {
           "colorbar": {
            "outlinewidth": 0,
            "ticks": ""
           }
          },
          "colorscale": {
           "diverging": [
            [
             0,
             "#8e0152"
            ],
            [
             0.1,
             "#c51b7d"
            ],
            [
             0.2,
             "#de77ae"
            ],
            [
             0.3,
             "#f1b6da"
            ],
            [
             0.4,
             "#fde0ef"
            ],
            [
             0.5,
             "#f7f7f7"
            ],
            [
             0.6,
             "#e6f5d0"
            ],
            [
             0.7,
             "#b8e186"
            ],
            [
             0.8,
             "#7fbc41"
            ],
            [
             0.9,
             "#4d9221"
            ],
            [
             1,
             "#276419"
            ]
           ],
           "sequential": [
            [
             0,
             "#0d0887"
            ],
            [
             0.1111111111111111,
             "#46039f"
            ],
            [
             0.2222222222222222,
             "#7201a8"
            ],
            [
             0.3333333333333333,
             "#9c179e"
            ],
            [
             0.4444444444444444,
             "#bd3786"
            ],
            [
             0.5555555555555556,
             "#d8576b"
            ],
            [
             0.6666666666666666,
             "#ed7953"
            ],
            [
             0.7777777777777778,
             "#fb9f3a"
            ],
            [
             0.8888888888888888,
             "#fdca26"
            ],
            [
             1,
             "#f0f921"
            ]
           ],
           "sequentialminus": [
            [
             0,
             "#0d0887"
            ],
            [
             0.1111111111111111,
             "#46039f"
            ],
            [
             0.2222222222222222,
             "#7201a8"
            ],
            [
             0.3333333333333333,
             "#9c179e"
            ],
            [
             0.4444444444444444,
             "#bd3786"
            ],
            [
             0.5555555555555556,
             "#d8576b"
            ],
            [
             0.6666666666666666,
             "#ed7953"
            ],
            [
             0.7777777777777778,
             "#fb9f3a"
            ],
            [
             0.8888888888888888,
             "#fdca26"
            ],
            [
             1,
             "#f0f921"
            ]
           ]
          },
          "colorway": [
           "#636efa",
           "#EF553B",
           "#00cc96",
           "#ab63fa",
           "#FFA15A",
           "#19d3f3",
           "#FF6692",
           "#B6E880",
           "#FF97FF",
           "#FECB52"
          ],
          "font": {
           "color": "#f2f5fa"
          },
          "geo": {
           "bgcolor": "rgb(17,17,17)",
           "lakecolor": "rgb(17,17,17)",
           "landcolor": "rgb(17,17,17)",
           "showlakes": true,
           "showland": true,
           "subunitcolor": "#506784"
          },
          "hoverlabel": {
           "align": "left"
          },
          "hovermode": "closest",
          "mapbox": {
           "style": "dark"
          },
          "paper_bgcolor": "rgb(17,17,17)",
          "plot_bgcolor": "rgb(17,17,17)",
          "polar": {
           "angularaxis": {
            "gridcolor": "#506784",
            "linecolor": "#506784",
            "ticks": ""
           },
           "bgcolor": "rgb(17,17,17)",
           "radialaxis": {
            "gridcolor": "#506784",
            "linecolor": "#506784",
            "ticks": ""
           }
          },
          "scene": {
           "xaxis": {
            "backgroundcolor": "rgb(17,17,17)",
            "gridcolor": "#506784",
            "gridwidth": 2,
            "linecolor": "#506784",
            "showbackground": true,
            "ticks": "",
            "zerolinecolor": "#C8D4E3"
           },
           "yaxis": {
            "backgroundcolor": "rgb(17,17,17)",
            "gridcolor": "#506784",
            "gridwidth": 2,
            "linecolor": "#506784",
            "showbackground": true,
            "ticks": "",
            "zerolinecolor": "#C8D4E3"
           },
           "zaxis": {
            "backgroundcolor": "rgb(17,17,17)",
            "gridcolor": "#506784",
            "gridwidth": 2,
            "linecolor": "#506784",
            "showbackground": true,
            "ticks": "",
            "zerolinecolor": "#C8D4E3"
           }
          },
          "shapedefaults": {
           "line": {
            "color": "#f2f5fa"
           }
          },
          "sliderdefaults": {
           "bgcolor": "#C8D4E3",
           "bordercolor": "rgb(17,17,17)",
           "borderwidth": 1,
           "tickwidth": 0
          },
          "ternary": {
           "aaxis": {
            "gridcolor": "#506784",
            "linecolor": "#506784",
            "ticks": ""
           },
           "baxis": {
            "gridcolor": "#506784",
            "linecolor": "#506784",
            "ticks": ""
           },
           "bgcolor": "rgb(17,17,17)",
           "caxis": {
            "gridcolor": "#506784",
            "linecolor": "#506784",
            "ticks": ""
           }
          },
          "title": {
           "x": 0.05
          },
          "updatemenudefaults": {
           "bgcolor": "#506784",
           "borderwidth": 0
          },
          "xaxis": {
           "automargin": true,
           "gridcolor": "#283442",
           "linecolor": "#506784",
           "ticks": "",
           "title": {
            "standoff": 15
           },
           "zerolinecolor": "#283442",
           "zerolinewidth": 2
          },
          "yaxis": {
           "automargin": true,
           "gridcolor": "#283442",
           "linecolor": "#506784",
           "ticks": "",
           "title": {
            "standoff": 15
           },
           "zerolinecolor": "#283442",
           "zerolinewidth": 2
          }
         }
        },
        "xaxis": {
         "anchor": "y",
         "domain": [
          0,
          1
         ],
         "title": {
          "text": "YYYYMM"
         }
        },
        "yaxis": {
         "anchor": "x",
         "domain": [
          0,
          1
         ],
         "title": {
          "text": "Delta"
         }
        }
       }
      }
     },
     "metadata": {},
     "output_type": "display_data"
    }
   ],
   "source": [
    "Locations = [\n",
    "    'Hershey'\n",
    "]\n",
    "\n",
    "\n",
    "mask = df_year['Location'].isin(Locations)\n",
    "temp = df_year[mask]\n",
    "title = f'Year - filtered Location ({Locations})'\n",
    "make_barchart(df=temp,time_column='YYYYMM',title=title)"
   ]
  },
  {
   "cell_type": "markdown",
   "metadata": {},
   "source": [
    "# 📈 Line-Graph"
   ]
  },
  {
   "cell_type": "code",
   "execution_count": 60,
   "metadata": {},
   "outputs": [],
   "source": [
    "def make_linegraph(df,title):\n",
    "    display(HTML('<h2> 📈 Line-Graph: ' + title + '</h2>'))\n",
    "    display(HTML('from {0}'.format(df.Date.min())))\n",
    "    display(HTML('to {0}'.format(df.Date.max())))\n",
    "    display(HTML('total {0}'.format(df['Delta'].sum())))\n",
    "    \n",
    "    df = df.sort_values(by = 'Date',ascending=False)\n",
    "\n",
    "    fig = px.line(\n",
    "        df,\n",
    "        y='Balance',\n",
    "        x='Date',\n",
    "        hover_data=['Date','Category','Location','Delta'],\n",
    "        template = plotly_theme,\n",
    "        height=600\n",
    "    )\n",
    "    fig.show()"
   ]
  },
  {
   "cell_type": "code",
   "execution_count": 61,
   "metadata": {},
   "outputs": [
    {
     "data": {
      "text/html": [
       "<h2> 📈 Line-Graph: 7 days</h2>"
      ],
      "text/plain": [
       "<IPython.core.display.HTML object>"
      ]
     },
     "metadata": {},
     "output_type": "display_data"
    },
    {
     "data": {
      "text/html": [
       "from 2022-09-15 00:00:00"
      ],
      "text/plain": [
       "<IPython.core.display.HTML object>"
      ]
     },
     "metadata": {},
     "output_type": "display_data"
    },
    {
     "data": {
      "text/html": [
       "to 2022-09-22 00:00:00"
      ],
      "text/plain": [
       "<IPython.core.display.HTML object>"
      ]
     },
     "metadata": {},
     "output_type": "display_data"
    },
    {
     "data": {
      "text/html": [
       "total -2138"
      ],
      "text/plain": [
       "<IPython.core.display.HTML object>"
      ]
     },
     "metadata": {},
     "output_type": "display_data"
    },
    {
     "data": {
      "application/vnd.plotly.v1+json": {
       "config": {
        "plotlyServerURL": "https://plot.ly"
       },
       "data": [
        {
         "customdata": [
          [
           "health",
           "Hewlett Packard Enterprise",
           -646
          ],
          [
           "health",
           "Hewlett Packard Enterprise",
           -500
          ],
          [
           "invest",
           "Travelers",
           -904
          ],
          [
           "unk",
           "Voya Financial",
           -570
          ],
          [
           "tech",
           "Visa",
           488
          ],
          [
           "clothing",
           "Voya Financial",
           -818
          ],
          [
           "invest",
           "Tapestry",
           853
          ],
          [
           "health",
           "Sysco",
           387
          ],
          [
           "invest",
           "Visa",
           967
          ],
          [
           "travel",
           "Walmart",
           -745
          ],
          [
           "invest",
           "Omnicom Group",
           729
          ],
          [
           "debt",
           "United Continental Holdings",
           829
          ],
          [
           "travel",
           "Cognizant Technology Solutions",
           -910
          ],
          [
           "grocery",
           "Travelers",
           -278
          ],
          [
           "grocery",
           "Tapestry",
           110
          ],
          [
           "invest",
           "Hershey",
           -435
          ],
          [
           "travel",
           "Hershey",
           93
          ],
          [
           "clothing",
           "Quest Diagnostics",
           950
          ],
          [
           "unk",
           "Walmart",
           -820
          ],
          [
           "misc",
           "Delta Air Lines",
           -3
          ],
          [
           "unk",
           "TIAA",
           840
          ],
          [
           "paypal",
           "Travelers",
           943
          ],
          [
           "health",
           "Walmart",
           128
          ],
          [
           "tech",
           "Hanesbrands",
           158
          ],
          [
           "health",
           "Walmart",
           -214
          ],
          [
           "travel",
           "Walmart",
           -318
          ],
          [
           "health",
           "United Continental Holdings",
           -573
          ],
          [
           "utility",
           "Hewlett Packard Enterprise",
           -881
          ],
          [
           "travel",
           "Walmart",
           -998
          ]
         ],
         "hovertemplate": "Date=%{x}<br>Balance=%{y}<br>Category=%{customdata[0]}<br>Location=%{customdata[1]}<br>Delta=%{customdata[2]}<extra></extra>",
         "legendgroup": "",
         "line": {
          "color": "#636efa",
          "dash": "solid"
         },
         "marker": {
          "symbol": "circle"
         },
         "mode": "lines",
         "name": "",
         "orientation": "v",
         "showlegend": false,
         "type": "scatter",
         "x": [
          "2022-09-22T00:00:00",
          "2022-09-22T00:00:00",
          "2022-09-22T00:00:00",
          "2022-09-22T00:00:00",
          "2022-09-21T00:00:00",
          "2022-09-20T00:00:00",
          "2022-09-20T00:00:00",
          "2022-09-20T00:00:00",
          "2022-09-19T00:00:00",
          "2022-09-19T00:00:00",
          "2022-09-19T00:00:00",
          "2022-09-19T00:00:00",
          "2022-09-19T00:00:00",
          "2022-09-19T00:00:00",
          "2022-09-19T00:00:00",
          "2022-09-19T00:00:00",
          "2022-09-19T00:00:00",
          "2022-09-19T00:00:00",
          "2022-09-19T00:00:00",
          "2022-09-19T00:00:00",
          "2022-09-19T00:00:00",
          "2022-09-16T00:00:00",
          "2022-09-16T00:00:00",
          "2022-09-16T00:00:00",
          "2022-09-16T00:00:00",
          "2022-09-16T00:00:00",
          "2022-09-15T00:00:00",
          "2022-09-15T00:00:00",
          "2022-09-15T00:00:00"
         ],
         "xaxis": "x",
         "y": [
          1236,
          1882,
          2382,
          3286,
          3856,
          3368,
          4186,
          3333,
          2586,
          1841,
          2570,
          3399,
          2489,
          2211,
          2321,
          1886,
          1979,
          2929,
          2109,
          2106,
          2946,
          1619,
          676,
          548,
          390,
          604,
          922,
          1495,
          2376
         ],
         "yaxis": "y"
        }
       ],
       "layout": {
        "height": 600,
        "legend": {
         "tracegroupgap": 0
        },
        "margin": {
         "t": 60
        },
        "template": {
         "data": {
          "bar": [
           {
            "error_x": {
             "color": "#f2f5fa"
            },
            "error_y": {
             "color": "#f2f5fa"
            },
            "marker": {
             "line": {
              "color": "rgb(17,17,17)",
              "width": 0.5
             },
             "pattern": {
              "fillmode": "overlay",
              "size": 10,
              "solidity": 0.2
             }
            },
            "type": "bar"
           }
          ],
          "barpolar": [
           {
            "marker": {
             "line": {
              "color": "rgb(17,17,17)",
              "width": 0.5
             },
             "pattern": {
              "fillmode": "overlay",
              "size": 10,
              "solidity": 0.2
             }
            },
            "type": "barpolar"
           }
          ],
          "carpet": [
           {
            "aaxis": {
             "endlinecolor": "#A2B1C6",
             "gridcolor": "#506784",
             "linecolor": "#506784",
             "minorgridcolor": "#506784",
             "startlinecolor": "#A2B1C6"
            },
            "baxis": {
             "endlinecolor": "#A2B1C6",
             "gridcolor": "#506784",
             "linecolor": "#506784",
             "minorgridcolor": "#506784",
             "startlinecolor": "#A2B1C6"
            },
            "type": "carpet"
           }
          ],
          "choropleth": [
           {
            "colorbar": {
             "outlinewidth": 0,
             "ticks": ""
            },
            "type": "choropleth"
           }
          ],
          "contour": [
           {
            "colorbar": {
             "outlinewidth": 0,
             "ticks": ""
            },
            "colorscale": [
             [
              0,
              "#0d0887"
             ],
             [
              0.1111111111111111,
              "#46039f"
             ],
             [
              0.2222222222222222,
              "#7201a8"
             ],
             [
              0.3333333333333333,
              "#9c179e"
             ],
             [
              0.4444444444444444,
              "#bd3786"
             ],
             [
              0.5555555555555556,
              "#d8576b"
             ],
             [
              0.6666666666666666,
              "#ed7953"
             ],
             [
              0.7777777777777778,
              "#fb9f3a"
             ],
             [
              0.8888888888888888,
              "#fdca26"
             ],
             [
              1,
              "#f0f921"
             ]
            ],
            "type": "contour"
           }
          ],
          "contourcarpet": [
           {
            "colorbar": {
             "outlinewidth": 0,
             "ticks": ""
            },
            "type": "contourcarpet"
           }
          ],
          "heatmap": [
           {
            "colorbar": {
             "outlinewidth": 0,
             "ticks": ""
            },
            "colorscale": [
             [
              0,
              "#0d0887"
             ],
             [
              0.1111111111111111,
              "#46039f"
             ],
             [
              0.2222222222222222,
              "#7201a8"
             ],
             [
              0.3333333333333333,
              "#9c179e"
             ],
             [
              0.4444444444444444,
              "#bd3786"
             ],
             [
              0.5555555555555556,
              "#d8576b"
             ],
             [
              0.6666666666666666,
              "#ed7953"
             ],
             [
              0.7777777777777778,
              "#fb9f3a"
             ],
             [
              0.8888888888888888,
              "#fdca26"
             ],
             [
              1,
              "#f0f921"
             ]
            ],
            "type": "heatmap"
           }
          ],
          "heatmapgl": [
           {
            "colorbar": {
             "outlinewidth": 0,
             "ticks": ""
            },
            "colorscale": [
             [
              0,
              "#0d0887"
             ],
             [
              0.1111111111111111,
              "#46039f"
             ],
             [
              0.2222222222222222,
              "#7201a8"
             ],
             [
              0.3333333333333333,
              "#9c179e"
             ],
             [
              0.4444444444444444,
              "#bd3786"
             ],
             [
              0.5555555555555556,
              "#d8576b"
             ],
             [
              0.6666666666666666,
              "#ed7953"
             ],
             [
              0.7777777777777778,
              "#fb9f3a"
             ],
             [
              0.8888888888888888,
              "#fdca26"
             ],
             [
              1,
              "#f0f921"
             ]
            ],
            "type": "heatmapgl"
           }
          ],
          "histogram": [
           {
            "marker": {
             "pattern": {
              "fillmode": "overlay",
              "size": 10,
              "solidity": 0.2
             }
            },
            "type": "histogram"
           }
          ],
          "histogram2d": [
           {
            "colorbar": {
             "outlinewidth": 0,
             "ticks": ""
            },
            "colorscale": [
             [
              0,
              "#0d0887"
             ],
             [
              0.1111111111111111,
              "#46039f"
             ],
             [
              0.2222222222222222,
              "#7201a8"
             ],
             [
              0.3333333333333333,
              "#9c179e"
             ],
             [
              0.4444444444444444,
              "#bd3786"
             ],
             [
              0.5555555555555556,
              "#d8576b"
             ],
             [
              0.6666666666666666,
              "#ed7953"
             ],
             [
              0.7777777777777778,
              "#fb9f3a"
             ],
             [
              0.8888888888888888,
              "#fdca26"
             ],
             [
              1,
              "#f0f921"
             ]
            ],
            "type": "histogram2d"
           }
          ],
          "histogram2dcontour": [
           {
            "colorbar": {
             "outlinewidth": 0,
             "ticks": ""
            },
            "colorscale": [
             [
              0,
              "#0d0887"
             ],
             [
              0.1111111111111111,
              "#46039f"
             ],
             [
              0.2222222222222222,
              "#7201a8"
             ],
             [
              0.3333333333333333,
              "#9c179e"
             ],
             [
              0.4444444444444444,
              "#bd3786"
             ],
             [
              0.5555555555555556,
              "#d8576b"
             ],
             [
              0.6666666666666666,
              "#ed7953"
             ],
             [
              0.7777777777777778,
              "#fb9f3a"
             ],
             [
              0.8888888888888888,
              "#fdca26"
             ],
             [
              1,
              "#f0f921"
             ]
            ],
            "type": "histogram2dcontour"
           }
          ],
          "mesh3d": [
           {
            "colorbar": {
             "outlinewidth": 0,
             "ticks": ""
            },
            "type": "mesh3d"
           }
          ],
          "parcoords": [
           {
            "line": {
             "colorbar": {
              "outlinewidth": 0,
              "ticks": ""
             }
            },
            "type": "parcoords"
           }
          ],
          "pie": [
           {
            "automargin": true,
            "type": "pie"
           }
          ],
          "scatter": [
           {
            "marker": {
             "line": {
              "color": "#283442"
             }
            },
            "type": "scatter"
           }
          ],
          "scatter3d": [
           {
            "line": {
             "colorbar": {
              "outlinewidth": 0,
              "ticks": ""
             }
            },
            "marker": {
             "colorbar": {
              "outlinewidth": 0,
              "ticks": ""
             }
            },
            "type": "scatter3d"
           }
          ],
          "scattercarpet": [
           {
            "marker": {
             "colorbar": {
              "outlinewidth": 0,
              "ticks": ""
             }
            },
            "type": "scattercarpet"
           }
          ],
          "scattergeo": [
           {
            "marker": {
             "colorbar": {
              "outlinewidth": 0,
              "ticks": ""
             }
            },
            "type": "scattergeo"
           }
          ],
          "scattergl": [
           {
            "marker": {
             "line": {
              "color": "#283442"
             }
            },
            "type": "scattergl"
           }
          ],
          "scattermapbox": [
           {
            "marker": {
             "colorbar": {
              "outlinewidth": 0,
              "ticks": ""
             }
            },
            "type": "scattermapbox"
           }
          ],
          "scatterpolar": [
           {
            "marker": {
             "colorbar": {
              "outlinewidth": 0,
              "ticks": ""
             }
            },
            "type": "scatterpolar"
           }
          ],
          "scatterpolargl": [
           {
            "marker": {
             "colorbar": {
              "outlinewidth": 0,
              "ticks": ""
             }
            },
            "type": "scatterpolargl"
           }
          ],
          "scatterternary": [
           {
            "marker": {
             "colorbar": {
              "outlinewidth": 0,
              "ticks": ""
             }
            },
            "type": "scatterternary"
           }
          ],
          "surface": [
           {
            "colorbar": {
             "outlinewidth": 0,
             "ticks": ""
            },
            "colorscale": [
             [
              0,
              "#0d0887"
             ],
             [
              0.1111111111111111,
              "#46039f"
             ],
             [
              0.2222222222222222,
              "#7201a8"
             ],
             [
              0.3333333333333333,
              "#9c179e"
             ],
             [
              0.4444444444444444,
              "#bd3786"
             ],
             [
              0.5555555555555556,
              "#d8576b"
             ],
             [
              0.6666666666666666,
              "#ed7953"
             ],
             [
              0.7777777777777778,
              "#fb9f3a"
             ],
             [
              0.8888888888888888,
              "#fdca26"
             ],
             [
              1,
              "#f0f921"
             ]
            ],
            "type": "surface"
           }
          ],
          "table": [
           {
            "cells": {
             "fill": {
              "color": "#506784"
             },
             "line": {
              "color": "rgb(17,17,17)"
             }
            },
            "header": {
             "fill": {
              "color": "#2a3f5f"
             },
             "line": {
              "color": "rgb(17,17,17)"
             }
            },
            "type": "table"
           }
          ]
         },
         "layout": {
          "annotationdefaults": {
           "arrowcolor": "#f2f5fa",
           "arrowhead": 0,
           "arrowwidth": 1
          },
          "autotypenumbers": "strict",
          "coloraxis": {
           "colorbar": {
            "outlinewidth": 0,
            "ticks": ""
           }
          },
          "colorscale": {
           "diverging": [
            [
             0,
             "#8e0152"
            ],
            [
             0.1,
             "#c51b7d"
            ],
            [
             0.2,
             "#de77ae"
            ],
            [
             0.3,
             "#f1b6da"
            ],
            [
             0.4,
             "#fde0ef"
            ],
            [
             0.5,
             "#f7f7f7"
            ],
            [
             0.6,
             "#e6f5d0"
            ],
            [
             0.7,
             "#b8e186"
            ],
            [
             0.8,
             "#7fbc41"
            ],
            [
             0.9,
             "#4d9221"
            ],
            [
             1,
             "#276419"
            ]
           ],
           "sequential": [
            [
             0,
             "#0d0887"
            ],
            [
             0.1111111111111111,
             "#46039f"
            ],
            [
             0.2222222222222222,
             "#7201a8"
            ],
            [
             0.3333333333333333,
             "#9c179e"
            ],
            [
             0.4444444444444444,
             "#bd3786"
            ],
            [
             0.5555555555555556,
             "#d8576b"
            ],
            [
             0.6666666666666666,
             "#ed7953"
            ],
            [
             0.7777777777777778,
             "#fb9f3a"
            ],
            [
             0.8888888888888888,
             "#fdca26"
            ],
            [
             1,
             "#f0f921"
            ]
           ],
           "sequentialminus": [
            [
             0,
             "#0d0887"
            ],
            [
             0.1111111111111111,
             "#46039f"
            ],
            [
             0.2222222222222222,
             "#7201a8"
            ],
            [
             0.3333333333333333,
             "#9c179e"
            ],
            [
             0.4444444444444444,
             "#bd3786"
            ],
            [
             0.5555555555555556,
             "#d8576b"
            ],
            [
             0.6666666666666666,
             "#ed7953"
            ],
            [
             0.7777777777777778,
             "#fb9f3a"
            ],
            [
             0.8888888888888888,
             "#fdca26"
            ],
            [
             1,
             "#f0f921"
            ]
           ]
          },
          "colorway": [
           "#636efa",
           "#EF553B",
           "#00cc96",
           "#ab63fa",
           "#FFA15A",
           "#19d3f3",
           "#FF6692",
           "#B6E880",
           "#FF97FF",
           "#FECB52"
          ],
          "font": {
           "color": "#f2f5fa"
          },
          "geo": {
           "bgcolor": "rgb(17,17,17)",
           "lakecolor": "rgb(17,17,17)",
           "landcolor": "rgb(17,17,17)",
           "showlakes": true,
           "showland": true,
           "subunitcolor": "#506784"
          },
          "hoverlabel": {
           "align": "left"
          },
          "hovermode": "closest",
          "mapbox": {
           "style": "dark"
          },
          "paper_bgcolor": "rgb(17,17,17)",
          "plot_bgcolor": "rgb(17,17,17)",
          "polar": {
           "angularaxis": {
            "gridcolor": "#506784",
            "linecolor": "#506784",
            "ticks": ""
           },
           "bgcolor": "rgb(17,17,17)",
           "radialaxis": {
            "gridcolor": "#506784",
            "linecolor": "#506784",
            "ticks": ""
           }
          },
          "scene": {
           "xaxis": {
            "backgroundcolor": "rgb(17,17,17)",
            "gridcolor": "#506784",
            "gridwidth": 2,
            "linecolor": "#506784",
            "showbackground": true,
            "ticks": "",
            "zerolinecolor": "#C8D4E3"
           },
           "yaxis": {
            "backgroundcolor": "rgb(17,17,17)",
            "gridcolor": "#506784",
            "gridwidth": 2,
            "linecolor": "#506784",
            "showbackground": true,
            "ticks": "",
            "zerolinecolor": "#C8D4E3"
           },
           "zaxis": {
            "backgroundcolor": "rgb(17,17,17)",
            "gridcolor": "#506784",
            "gridwidth": 2,
            "linecolor": "#506784",
            "showbackground": true,
            "ticks": "",
            "zerolinecolor": "#C8D4E3"
           }
          },
          "shapedefaults": {
           "line": {
            "color": "#f2f5fa"
           }
          },
          "sliderdefaults": {
           "bgcolor": "#C8D4E3",
           "bordercolor": "rgb(17,17,17)",
           "borderwidth": 1,
           "tickwidth": 0
          },
          "ternary": {
           "aaxis": {
            "gridcolor": "#506784",
            "linecolor": "#506784",
            "ticks": ""
           },
           "baxis": {
            "gridcolor": "#506784",
            "linecolor": "#506784",
            "ticks": ""
           },
           "bgcolor": "rgb(17,17,17)",
           "caxis": {
            "gridcolor": "#506784",
            "linecolor": "#506784",
            "ticks": ""
           }
          },
          "title": {
           "x": 0.05
          },
          "updatemenudefaults": {
           "bgcolor": "#506784",
           "borderwidth": 0
          },
          "xaxis": {
           "automargin": true,
           "gridcolor": "#283442",
           "linecolor": "#506784",
           "ticks": "",
           "title": {
            "standoff": 15
           },
           "zerolinecolor": "#283442",
           "zerolinewidth": 2
          },
          "yaxis": {
           "automargin": true,
           "gridcolor": "#283442",
           "linecolor": "#506784",
           "ticks": "",
           "title": {
            "standoff": 15
           },
           "zerolinecolor": "#283442",
           "zerolinewidth": 2
          }
         }
        },
        "xaxis": {
         "anchor": "y",
         "domain": [
          0,
          1
         ],
         "title": {
          "text": "Date"
         }
        },
        "yaxis": {
         "anchor": "x",
         "domain": [
          0,
          1
         ],
         "title": {
          "text": "Balance"
         }
        }
       }
      }
     },
     "metadata": {},
     "output_type": "display_data"
    },
    {
     "data": {
      "text/html": [
       "<h2> 📈 Line-Graph: 30 days</h2>"
      ],
      "text/plain": [
       "<IPython.core.display.HTML object>"
      ]
     },
     "metadata": {},
     "output_type": "display_data"
    },
    {
     "data": {
      "text/html": [
       "from 2022-08-23 00:00:00"
      ],
      "text/plain": [
       "<IPython.core.display.HTML object>"
      ]
     },
     "metadata": {},
     "output_type": "display_data"
    },
    {
     "data": {
      "text/html": [
       "to 2022-09-22 00:00:00"
      ],
      "text/plain": [
       "<IPython.core.display.HTML object>"
      ]
     },
     "metadata": {},
     "output_type": "display_data"
    },
    {
     "data": {
      "text/html": [
       "total -7518"
      ],
      "text/plain": [
       "<IPython.core.display.HTML object>"
      ]
     },
     "metadata": {},
     "output_type": "display_data"
    },
    {
     "data": {
      "application/vnd.plotly.v1+json": {
       "config": {
        "plotlyServerURL": "https://plot.ly"
       },
       "data": [
        {
         "customdata": [
          [
           "health",
           "Hewlett Packard Enterprise",
           -646
          ],
          [
           "unk",
           "Voya Financial",
           -570
          ],
          [
           "health",
           "Hewlett Packard Enterprise",
           -500
          ],
          [
           "invest",
           "Travelers",
           -904
          ],
          [
           "tech",
           "Visa",
           488
          ],
          [
           "clothing",
           "Voya Financial",
           -818
          ],
          [
           "invest",
           "Tapestry",
           853
          ],
          [
           "health",
           "Sysco",
           387
          ],
          [
           "grocery",
           "Tapestry",
           110
          ],
          [
           "invest",
           "Visa",
           967
          ],
          [
           "travel",
           "Walmart",
           -745
          ],
          [
           "invest",
           "Omnicom Group",
           729
          ],
          [
           "debt",
           "United Continental Holdings",
           829
          ],
          [
           "travel",
           "Cognizant Technology Solutions",
           -910
          ],
          [
           "grocery",
           "Travelers",
           -278
          ],
          [
           "travel",
           "Hershey",
           93
          ],
          [
           "clothing",
           "Quest Diagnostics",
           950
          ],
          [
           "unk",
           "Walmart",
           -820
          ],
          [
           "misc",
           "Delta Air Lines",
           -3
          ],
          [
           "unk",
           "TIAA",
           840
          ],
          [
           "invest",
           "Hershey",
           -435
          ],
          [
           "paypal",
           "Travelers",
           943
          ],
          [
           "health",
           "Walmart",
           128
          ],
          [
           "tech",
           "Hanesbrands",
           158
          ],
          [
           "health",
           "Walmart",
           -214
          ],
          [
           "travel",
           "Walmart",
           -318
          ],
          [
           "travel",
           "Walmart",
           -998
          ],
          [
           "utility",
           "Hewlett Packard Enterprise",
           -881
          ],
          [
           "health",
           "United Continental Holdings",
           -573
          ],
          [
           "unk",
           "Travelers",
           53
          ],
          [
           "unk",
           "Travelers",
           -371
          ],
          [
           "grocery",
           "Travelers",
           -5
          ],
          [
           "grocery",
           "TIAA",
           -987
          ],
          [
           "tech",
           "Hanesbrands",
           -413
          ],
          [
           "misc",
           "United Continental Holdings",
           331
          ],
          [
           "clothing",
           "Voya Financial",
           251
          ],
          [
           "tech",
           "Amazon.com",
           765
          ],
          [
           "unk",
           "Tapestry",
           -600
          ],
          [
           "health",
           "Omnicom Group",
           823
          ],
          [
           "health",
           "Travelers",
           -801
          ],
          [
           "unk",
           "Sysco",
           99
          ],
          [
           "invest",
           "Entergy",
           222
          ],
          [
           "invest",
           "PPL",
           -960
          ],
          [
           "utility",
           "TIAA",
           354
          ],
          [
           "invest",
           "Hershey",
           -296
          ],
          [
           "clothing",
           "Delta Air Lines",
           966
          ],
          [
           "utility",
           "Ulta Beauty",
           3
          ],
          [
           "health",
           "Sysco",
           879
          ],
          [
           "invest",
           "TIAA",
           296
          ],
          [
           "unk",
           "Omnicom Group",
           -19
          ],
          [
           "unk",
           "Amazon.com",
           -783
          ],
          [
           "invest",
           "Hanesbrands",
           -212
          ],
          [
           "paypal",
           "United Continental Holdings",
           -822
          ],
          [
           "tech",
           "Quest Diagnostics",
           -252
          ],
          [
           "invest",
           "Omnicom Group",
           430
          ],
          [
           "clothing",
           "Voya Financial",
           -996
          ],
          [
           "tech",
           "Amazon.com",
           196
          ],
          [
           "travel",
           "Delta Air Lines",
           620
          ],
          [
           "tech",
           "Amazon.com",
           -910
          ],
          [
           "grocery",
           "Ulta Beauty",
           -651
          ],
          [
           "health",
           "Ulta Beauty",
           519
          ],
          [
           "unk",
           "CBRE Group",
           320
          ],
          [
           "paypal",
           "Travelers",
           832
          ],
          [
           "paypal",
           "Hanesbrands",
           -420
          ],
          [
           "utility",
           "United Continental Holdings",
           828
          ],
          [
           "travel",
           "Entergy",
           913
          ],
          [
           "invest",
           "Sysco",
           454
          ],
          [
           "grocery",
           "Walmart",
           -673
          ],
          [
           "grocery",
           "PPL",
           219
          ],
          [
           "debt",
           "Entergy",
           677
          ],
          [
           "invest",
           "Tapestry",
           258
          ],
          [
           "paypal",
           "PPL",
           -650
          ],
          [
           "grocery",
           "Ulta Beauty",
           459
          ],
          [
           "invest",
           "Hanesbrands",
           -1000
          ],
          [
           "invest",
           "Hershey",
           -366
          ],
          [
           "unk",
           "Ulta Beauty",
           -461
          ],
          [
           "tech",
           "Sysco",
           -464
          ],
          [
           "travel",
           "CBRE Group",
           -307
          ],
          [
           "misc",
           "Sysco",
           -873
          ],
          [
           "health",
           "Visa",
           11
          ],
          [
           "unk",
           "Visa",
           16
          ],
          [
           "paypal",
           "Ulta Beauty",
           -536
          ],
          [
           "grocery",
           "Sysco",
           -944
          ],
          [
           "misc",
           "CBRE Group",
           -38
          ],
          [
           "health",
           "TIAA",
           214
          ],
          [
           "utility",
           "TIAA",
           238
          ],
          [
           "clothing",
           "Hershey",
           46
          ],
          [
           "invest",
           "Visa",
           -951
          ],
          [
           "invest",
           "Walmart",
           -954
          ],
          [
           "paypal",
           "Hanesbrands",
           281
          ],
          [
           "invest",
           "Walmart",
           -84
          ],
          [
           "tech",
           "Quest Diagnostics",
           230
          ],
          [
           "paypal",
           "Hanesbrands",
           -141
          ],
          [
           "travel",
           "Ulta Beauty",
           169
          ],
          [
           "grocery",
           "TIAA",
           -477
          ],
          [
           "clothing",
           "Travelers",
           623
          ],
          [
           "travel",
           "Hanesbrands",
           -782
          ],
          [
           "unk",
           "Visa",
           -313
          ],
          [
           "travel",
           "Cognizant Technology Solutions",
           436
          ],
          [
           "unk",
           "Ulta Beauty",
           621
          ],
          [
           "travel",
           "Voya Financial",
           19
          ],
          [
           "clothing",
           "Amazon.com",
           -646
          ],
          [
           "paypal",
           "PPL",
           -579
          ],
          [
           "debt",
           "Omnicom Group",
           -231
          ],
          [
           "invest",
           "Amazon.com",
           -267
          ],
          [
           "invest",
           "Amazon.com",
           -390
          ],
          [
           "health",
           "Omnicom Group",
           110
          ],
          [
           "unk",
           "Travelers",
           962
          ],
          [
           "debt",
           "Walmart",
           -30
          ],
          [
           "health",
           "Delta Air Lines",
           811
          ],
          [
           "tech",
           "Hewlett Packard Enterprise",
           -368
          ],
          [
           "unk",
           "Amazon.com",
           241
          ],
          [
           "paypal",
           "TIAA",
           -37
          ],
          [
           "health",
           "Amazon.com",
           -318
          ],
          [
           "unk",
           "PPL",
           203
          ]
         ],
         "hovertemplate": "Date=%{x}<br>Balance=%{y}<br>Category=%{customdata[0]}<br>Location=%{customdata[1]}<br>Delta=%{customdata[2]}<extra></extra>",
         "legendgroup": "",
         "line": {
          "color": "#636efa",
          "dash": "solid"
         },
         "marker": {
          "symbol": "circle"
         },
         "mode": "lines",
         "name": "",
         "orientation": "v",
         "showlegend": false,
         "type": "scatter",
         "x": [
          "2022-09-22T00:00:00",
          "2022-09-22T00:00:00",
          "2022-09-22T00:00:00",
          "2022-09-22T00:00:00",
          "2022-09-21T00:00:00",
          "2022-09-20T00:00:00",
          "2022-09-20T00:00:00",
          "2022-09-20T00:00:00",
          "2022-09-19T00:00:00",
          "2022-09-19T00:00:00",
          "2022-09-19T00:00:00",
          "2022-09-19T00:00:00",
          "2022-09-19T00:00:00",
          "2022-09-19T00:00:00",
          "2022-09-19T00:00:00",
          "2022-09-19T00:00:00",
          "2022-09-19T00:00:00",
          "2022-09-19T00:00:00",
          "2022-09-19T00:00:00",
          "2022-09-19T00:00:00",
          "2022-09-19T00:00:00",
          "2022-09-16T00:00:00",
          "2022-09-16T00:00:00",
          "2022-09-16T00:00:00",
          "2022-09-16T00:00:00",
          "2022-09-16T00:00:00",
          "2022-09-15T00:00:00",
          "2022-09-15T00:00:00",
          "2022-09-15T00:00:00",
          "2022-09-14T00:00:00",
          "2022-09-14T00:00:00",
          "2022-09-13T00:00:00",
          "2022-09-13T00:00:00",
          "2022-09-13T00:00:00",
          "2022-09-13T00:00:00",
          "2022-09-13T00:00:00",
          "2022-09-12T00:00:00",
          "2022-09-12T00:00:00",
          "2022-09-12T00:00:00",
          "2022-09-12T00:00:00",
          "2022-09-12T00:00:00",
          "2022-09-12T00:00:00",
          "2022-09-12T00:00:00",
          "2022-09-12T00:00:00",
          "2022-09-12T00:00:00",
          "2022-09-12T00:00:00",
          "2022-09-12T00:00:00",
          "2022-09-12T00:00:00",
          "2022-09-09T00:00:00",
          "2022-09-09T00:00:00",
          "2022-09-09T00:00:00",
          "2022-09-09T00:00:00",
          "2022-09-09T00:00:00",
          "2022-09-08T00:00:00",
          "2022-09-08T00:00:00",
          "2022-09-08T00:00:00",
          "2022-09-08T00:00:00",
          "2022-09-08T00:00:00",
          "2022-09-07T00:00:00",
          "2022-09-07T00:00:00",
          "2022-09-07T00:00:00",
          "2022-09-07T00:00:00",
          "2022-09-07T00:00:00",
          "2022-09-06T00:00:00",
          "2022-09-06T00:00:00",
          "2022-09-06T00:00:00",
          "2022-09-06T00:00:00",
          "2022-09-06T00:00:00",
          "2022-09-06T00:00:00",
          "2022-09-06T00:00:00",
          "2022-09-06T00:00:00",
          "2022-09-06T00:00:00",
          "2022-09-06T00:00:00",
          "2022-09-06T00:00:00",
          "2022-09-06T00:00:00",
          "2022-09-06T00:00:00",
          "2022-09-06T00:00:00",
          "2022-09-06T00:00:00",
          "2022-09-06T00:00:00",
          "2022-09-06T00:00:00",
          "2022-09-06T00:00:00",
          "2022-09-06T00:00:00",
          "2022-09-06T00:00:00",
          "2022-09-02T00:00:00",
          "2022-09-02T00:00:00",
          "2022-09-01T00:00:00",
          "2022-08-31T00:00:00",
          "2022-08-31T00:00:00",
          "2022-08-31T00:00:00",
          "2022-08-31T00:00:00",
          "2022-08-31T00:00:00",
          "2022-08-31T00:00:00",
          "2022-08-31T00:00:00",
          "2022-08-30T00:00:00",
          "2022-08-30T00:00:00",
          "2022-08-30T00:00:00",
          "2022-08-30T00:00:00",
          "2022-08-29T00:00:00",
          "2022-08-29T00:00:00",
          "2022-08-29T00:00:00",
          "2022-08-29T00:00:00",
          "2022-08-29T00:00:00",
          "2022-08-29T00:00:00",
          "2022-08-29T00:00:00",
          "2022-08-29T00:00:00",
          "2022-08-26T00:00:00",
          "2022-08-26T00:00:00",
          "2022-08-26T00:00:00",
          "2022-08-25T00:00:00",
          "2022-08-25T00:00:00",
          "2022-08-24T00:00:00",
          "2022-08-24T00:00:00",
          "2022-08-24T00:00:00",
          "2022-08-23T00:00:00",
          "2022-08-23T00:00:00"
         ],
         "xaxis": "x",
         "y": [
          1236,
          3286,
          1882,
          2382,
          3856,
          3368,
          4186,
          3333,
          2321,
          2586,
          1841,
          2570,
          3399,
          2489,
          2211,
          1979,
          2929,
          2109,
          2106,
          2946,
          1886,
          1619,
          676,
          548,
          390,
          604,
          2376,
          1495,
          922,
          3745,
          3374,
          3692,
          3697,
          4684,
          5097,
          4766,
          3923,
          2804,
          3884,
          3083,
          3182,
          3404,
          2963,
          3158,
          2667,
          3633,
          3636,
          4515,
          3061,
          2765,
          2784,
          3567,
          3779,
          3785,
          4037,
          3607,
          3981,
          4601,
          4603,
          5513,
          6164,
          5645,
          5325,
          6505,
          8700,
          7872,
          6959,
          6029,
          6925,
          6706,
          9417,
          6702,
          9159,
          7590,
          9051,
          8590,
          7126,
          6819,
          5946,
          5957,
          5973,
          5437,
          4493,
          7352,
          7390,
          7176,
          6938,
          7033,
          7984,
          8938,
          8657,
          8741,
          6892,
          8511,
          8342,
          8819,
          8196,
          10701,
          10374,
          10995,
          11014,
          10055,
          9476,
          9245,
          8978,
          9938,
          10328,
          10218,
          9256,
          9286,
          8475,
          8843,
          8602,
          8639,
          8957
         ],
         "yaxis": "y"
        }
       ],
       "layout": {
        "height": 600,
        "legend": {
         "tracegroupgap": 0
        },
        "margin": {
         "t": 60
        },
        "template": {
         "data": {
          "bar": [
           {
            "error_x": {
             "color": "#f2f5fa"
            },
            "error_y": {
             "color": "#f2f5fa"
            },
            "marker": {
             "line": {
              "color": "rgb(17,17,17)",
              "width": 0.5
             },
             "pattern": {
              "fillmode": "overlay",
              "size": 10,
              "solidity": 0.2
             }
            },
            "type": "bar"
           }
          ],
          "barpolar": [
           {
            "marker": {
             "line": {
              "color": "rgb(17,17,17)",
              "width": 0.5
             },
             "pattern": {
              "fillmode": "overlay",
              "size": 10,
              "solidity": 0.2
             }
            },
            "type": "barpolar"
           }
          ],
          "carpet": [
           {
            "aaxis": {
             "endlinecolor": "#A2B1C6",
             "gridcolor": "#506784",
             "linecolor": "#506784",
             "minorgridcolor": "#506784",
             "startlinecolor": "#A2B1C6"
            },
            "baxis": {
             "endlinecolor": "#A2B1C6",
             "gridcolor": "#506784",
             "linecolor": "#506784",
             "minorgridcolor": "#506784",
             "startlinecolor": "#A2B1C6"
            },
            "type": "carpet"
           }
          ],
          "choropleth": [
           {
            "colorbar": {
             "outlinewidth": 0,
             "ticks": ""
            },
            "type": "choropleth"
           }
          ],
          "contour": [
           {
            "colorbar": {
             "outlinewidth": 0,
             "ticks": ""
            },
            "colorscale": [
             [
              0,
              "#0d0887"
             ],
             [
              0.1111111111111111,
              "#46039f"
             ],
             [
              0.2222222222222222,
              "#7201a8"
             ],
             [
              0.3333333333333333,
              "#9c179e"
             ],
             [
              0.4444444444444444,
              "#bd3786"
             ],
             [
              0.5555555555555556,
              "#d8576b"
             ],
             [
              0.6666666666666666,
              "#ed7953"
             ],
             [
              0.7777777777777778,
              "#fb9f3a"
             ],
             [
              0.8888888888888888,
              "#fdca26"
             ],
             [
              1,
              "#f0f921"
             ]
            ],
            "type": "contour"
           }
          ],
          "contourcarpet": [
           {
            "colorbar": {
             "outlinewidth": 0,
             "ticks": ""
            },
            "type": "contourcarpet"
           }
          ],
          "heatmap": [
           {
            "colorbar": {
             "outlinewidth": 0,
             "ticks": ""
            },
            "colorscale": [
             [
              0,
              "#0d0887"
             ],
             [
              0.1111111111111111,
              "#46039f"
             ],
             [
              0.2222222222222222,
              "#7201a8"
             ],
             [
              0.3333333333333333,
              "#9c179e"
             ],
             [
              0.4444444444444444,
              "#bd3786"
             ],
             [
              0.5555555555555556,
              "#d8576b"
             ],
             [
              0.6666666666666666,
              "#ed7953"
             ],
             [
              0.7777777777777778,
              "#fb9f3a"
             ],
             [
              0.8888888888888888,
              "#fdca26"
             ],
             [
              1,
              "#f0f921"
             ]
            ],
            "type": "heatmap"
           }
          ],
          "heatmapgl": [
           {
            "colorbar": {
             "outlinewidth": 0,
             "ticks": ""
            },
            "colorscale": [
             [
              0,
              "#0d0887"
             ],
             [
              0.1111111111111111,
              "#46039f"
             ],
             [
              0.2222222222222222,
              "#7201a8"
             ],
             [
              0.3333333333333333,
              "#9c179e"
             ],
             [
              0.4444444444444444,
              "#bd3786"
             ],
             [
              0.5555555555555556,
              "#d8576b"
             ],
             [
              0.6666666666666666,
              "#ed7953"
             ],
             [
              0.7777777777777778,
              "#fb9f3a"
             ],
             [
              0.8888888888888888,
              "#fdca26"
             ],
             [
              1,
              "#f0f921"
             ]
            ],
            "type": "heatmapgl"
           }
          ],
          "histogram": [
           {
            "marker": {
             "pattern": {
              "fillmode": "overlay",
              "size": 10,
              "solidity": 0.2
             }
            },
            "type": "histogram"
           }
          ],
          "histogram2d": [
           {
            "colorbar": {
             "outlinewidth": 0,
             "ticks": ""
            },
            "colorscale": [
             [
              0,
              "#0d0887"
             ],
             [
              0.1111111111111111,
              "#46039f"
             ],
             [
              0.2222222222222222,
              "#7201a8"
             ],
             [
              0.3333333333333333,
              "#9c179e"
             ],
             [
              0.4444444444444444,
              "#bd3786"
             ],
             [
              0.5555555555555556,
              "#d8576b"
             ],
             [
              0.6666666666666666,
              "#ed7953"
             ],
             [
              0.7777777777777778,
              "#fb9f3a"
             ],
             [
              0.8888888888888888,
              "#fdca26"
             ],
             [
              1,
              "#f0f921"
             ]
            ],
            "type": "histogram2d"
           }
          ],
          "histogram2dcontour": [
           {
            "colorbar": {
             "outlinewidth": 0,
             "ticks": ""
            },
            "colorscale": [
             [
              0,
              "#0d0887"
             ],
             [
              0.1111111111111111,
              "#46039f"
             ],
             [
              0.2222222222222222,
              "#7201a8"
             ],
             [
              0.3333333333333333,
              "#9c179e"
             ],
             [
              0.4444444444444444,
              "#bd3786"
             ],
             [
              0.5555555555555556,
              "#d8576b"
             ],
             [
              0.6666666666666666,
              "#ed7953"
             ],
             [
              0.7777777777777778,
              "#fb9f3a"
             ],
             [
              0.8888888888888888,
              "#fdca26"
             ],
             [
              1,
              "#f0f921"
             ]
            ],
            "type": "histogram2dcontour"
           }
          ],
          "mesh3d": [
           {
            "colorbar": {
             "outlinewidth": 0,
             "ticks": ""
            },
            "type": "mesh3d"
           }
          ],
          "parcoords": [
           {
            "line": {
             "colorbar": {
              "outlinewidth": 0,
              "ticks": ""
             }
            },
            "type": "parcoords"
           }
          ],
          "pie": [
           {
            "automargin": true,
            "type": "pie"
           }
          ],
          "scatter": [
           {
            "marker": {
             "line": {
              "color": "#283442"
             }
            },
            "type": "scatter"
           }
          ],
          "scatter3d": [
           {
            "line": {
             "colorbar": {
              "outlinewidth": 0,
              "ticks": ""
             }
            },
            "marker": {
             "colorbar": {
              "outlinewidth": 0,
              "ticks": ""
             }
            },
            "type": "scatter3d"
           }
          ],
          "scattercarpet": [
           {
            "marker": {
             "colorbar": {
              "outlinewidth": 0,
              "ticks": ""
             }
            },
            "type": "scattercarpet"
           }
          ],
          "scattergeo": [
           {
            "marker": {
             "colorbar": {
              "outlinewidth": 0,
              "ticks": ""
             }
            },
            "type": "scattergeo"
           }
          ],
          "scattergl": [
           {
            "marker": {
             "line": {
              "color": "#283442"
             }
            },
            "type": "scattergl"
           }
          ],
          "scattermapbox": [
           {
            "marker": {
             "colorbar": {
              "outlinewidth": 0,
              "ticks": ""
             }
            },
            "type": "scattermapbox"
           }
          ],
          "scatterpolar": [
           {
            "marker": {
             "colorbar": {
              "outlinewidth": 0,
              "ticks": ""
             }
            },
            "type": "scatterpolar"
           }
          ],
          "scatterpolargl": [
           {
            "marker": {
             "colorbar": {
              "outlinewidth": 0,
              "ticks": ""
             }
            },
            "type": "scatterpolargl"
           }
          ],
          "scatterternary": [
           {
            "marker": {
             "colorbar": {
              "outlinewidth": 0,
              "ticks": ""
             }
            },
            "type": "scatterternary"
           }
          ],
          "surface": [
           {
            "colorbar": {
             "outlinewidth": 0,
             "ticks": ""
            },
            "colorscale": [
             [
              0,
              "#0d0887"
             ],
             [
              0.1111111111111111,
              "#46039f"
             ],
             [
              0.2222222222222222,
              "#7201a8"
             ],
             [
              0.3333333333333333,
              "#9c179e"
             ],
             [
              0.4444444444444444,
              "#bd3786"
             ],
             [
              0.5555555555555556,
              "#d8576b"
             ],
             [
              0.6666666666666666,
              "#ed7953"
             ],
             [
              0.7777777777777778,
              "#fb9f3a"
             ],
             [
              0.8888888888888888,
              "#fdca26"
             ],
             [
              1,
              "#f0f921"
             ]
            ],
            "type": "surface"
           }
          ],
          "table": [
           {
            "cells": {
             "fill": {
              "color": "#506784"
             },
             "line": {
              "color": "rgb(17,17,17)"
             }
            },
            "header": {
             "fill": {
              "color": "#2a3f5f"
             },
             "line": {
              "color": "rgb(17,17,17)"
             }
            },
            "type": "table"
           }
          ]
         },
         "layout": {
          "annotationdefaults": {
           "arrowcolor": "#f2f5fa",
           "arrowhead": 0,
           "arrowwidth": 1
          },
          "autotypenumbers": "strict",
          "coloraxis": {
           "colorbar": {
            "outlinewidth": 0,
            "ticks": ""
           }
          },
          "colorscale": {
           "diverging": [
            [
             0,
             "#8e0152"
            ],
            [
             0.1,
             "#c51b7d"
            ],
            [
             0.2,
             "#de77ae"
            ],
            [
             0.3,
             "#f1b6da"
            ],
            [
             0.4,
             "#fde0ef"
            ],
            [
             0.5,
             "#f7f7f7"
            ],
            [
             0.6,
             "#e6f5d0"
            ],
            [
             0.7,
             "#b8e186"
            ],
            [
             0.8,
             "#7fbc41"
            ],
            [
             0.9,
             "#4d9221"
            ],
            [
             1,
             "#276419"
            ]
           ],
           "sequential": [
            [
             0,
             "#0d0887"
            ],
            [
             0.1111111111111111,
             "#46039f"
            ],
            [
             0.2222222222222222,
             "#7201a8"
            ],
            [
             0.3333333333333333,
             "#9c179e"
            ],
            [
             0.4444444444444444,
             "#bd3786"
            ],
            [
             0.5555555555555556,
             "#d8576b"
            ],
            [
             0.6666666666666666,
             "#ed7953"
            ],
            [
             0.7777777777777778,
             "#fb9f3a"
            ],
            [
             0.8888888888888888,
             "#fdca26"
            ],
            [
             1,
             "#f0f921"
            ]
           ],
           "sequentialminus": [
            [
             0,
             "#0d0887"
            ],
            [
             0.1111111111111111,
             "#46039f"
            ],
            [
             0.2222222222222222,
             "#7201a8"
            ],
            [
             0.3333333333333333,
             "#9c179e"
            ],
            [
             0.4444444444444444,
             "#bd3786"
            ],
            [
             0.5555555555555556,
             "#d8576b"
            ],
            [
             0.6666666666666666,
             "#ed7953"
            ],
            [
             0.7777777777777778,
             "#fb9f3a"
            ],
            [
             0.8888888888888888,
             "#fdca26"
            ],
            [
             1,
             "#f0f921"
            ]
           ]
          },
          "colorway": [
           "#636efa",
           "#EF553B",
           "#00cc96",
           "#ab63fa",
           "#FFA15A",
           "#19d3f3",
           "#FF6692",
           "#B6E880",
           "#FF97FF",
           "#FECB52"
          ],
          "font": {
           "color": "#f2f5fa"
          },
          "geo": {
           "bgcolor": "rgb(17,17,17)",
           "lakecolor": "rgb(17,17,17)",
           "landcolor": "rgb(17,17,17)",
           "showlakes": true,
           "showland": true,
           "subunitcolor": "#506784"
          },
          "hoverlabel": {
           "align": "left"
          },
          "hovermode": "closest",
          "mapbox": {
           "style": "dark"
          },
          "paper_bgcolor": "rgb(17,17,17)",
          "plot_bgcolor": "rgb(17,17,17)",
          "polar": {
           "angularaxis": {
            "gridcolor": "#506784",
            "linecolor": "#506784",
            "ticks": ""
           },
           "bgcolor": "rgb(17,17,17)",
           "radialaxis": {
            "gridcolor": "#506784",
            "linecolor": "#506784",
            "ticks": ""
           }
          },
          "scene": {
           "xaxis": {
            "backgroundcolor": "rgb(17,17,17)",
            "gridcolor": "#506784",
            "gridwidth": 2,
            "linecolor": "#506784",
            "showbackground": true,
            "ticks": "",
            "zerolinecolor": "#C8D4E3"
           },
           "yaxis": {
            "backgroundcolor": "rgb(17,17,17)",
            "gridcolor": "#506784",
            "gridwidth": 2,
            "linecolor": "#506784",
            "showbackground": true,
            "ticks": "",
            "zerolinecolor": "#C8D4E3"
           },
           "zaxis": {
            "backgroundcolor": "rgb(17,17,17)",
            "gridcolor": "#506784",
            "gridwidth": 2,
            "linecolor": "#506784",
            "showbackground": true,
            "ticks": "",
            "zerolinecolor": "#C8D4E3"
           }
          },
          "shapedefaults": {
           "line": {
            "color": "#f2f5fa"
           }
          },
          "sliderdefaults": {
           "bgcolor": "#C8D4E3",
           "bordercolor": "rgb(17,17,17)",
           "borderwidth": 1,
           "tickwidth": 0
          },
          "ternary": {
           "aaxis": {
            "gridcolor": "#506784",
            "linecolor": "#506784",
            "ticks": ""
           },
           "baxis": {
            "gridcolor": "#506784",
            "linecolor": "#506784",
            "ticks": ""
           },
           "bgcolor": "rgb(17,17,17)",
           "caxis": {
            "gridcolor": "#506784",
            "linecolor": "#506784",
            "ticks": ""
           }
          },
          "title": {
           "x": 0.05
          },
          "updatemenudefaults": {
           "bgcolor": "#506784",
           "borderwidth": 0
          },
          "xaxis": {
           "automargin": true,
           "gridcolor": "#283442",
           "linecolor": "#506784",
           "ticks": "",
           "title": {
            "standoff": 15
           },
           "zerolinecolor": "#283442",
           "zerolinewidth": 2
          },
          "yaxis": {
           "automargin": true,
           "gridcolor": "#283442",
           "linecolor": "#506784",
           "ticks": "",
           "title": {
            "standoff": 15
           },
           "zerolinecolor": "#283442",
           "zerolinewidth": 2
          }
         }
        },
        "xaxis": {
         "anchor": "y",
         "domain": [
          0,
          1
         ],
         "title": {
          "text": "Date"
         }
        },
        "yaxis": {
         "anchor": "x",
         "domain": [
          0,
          1
         ],
         "title": {
          "text": "Balance"
         }
        }
       }
      }
     },
     "metadata": {},
     "output_type": "display_data"
    },
    {
     "data": {
      "text/html": [
       "<h2> 📈 Line-Graph: 90 days</h2>"
      ],
      "text/plain": [
       "<IPython.core.display.HTML object>"
      ]
     },
     "metadata": {},
     "output_type": "display_data"
    },
    {
     "data": {
      "text/html": [
       "from 2022-06-24 00:00:00"
      ],
      "text/plain": [
       "<IPython.core.display.HTML object>"
      ]
     },
     "metadata": {},
     "output_type": "display_data"
    },
    {
     "data": {
      "text/html": [
       "to 2022-09-22 00:00:00"
      ],
      "text/plain": [
       "<IPython.core.display.HTML object>"
      ]
     },
     "metadata": {},
     "output_type": "display_data"
    },
    {
     "data": {
      "text/html": [
       "total -7773"
      ],
      "text/plain": [
       "<IPython.core.display.HTML object>"
      ]
     },
     "metadata": {},
     "output_type": "display_data"
    },
    {
     "data": {
      "application/vnd.plotly.v1+json": {
       "config": {
        "plotlyServerURL": "https://plot.ly"
       },
       "data": [
        {
         "customdata": [
          [
           "health",
           "Hewlett Packard Enterprise",
           -646
          ],
          [
           "unk",
           "Voya Financial",
           -570
          ],
          [
           "health",
           "Hewlett Packard Enterprise",
           -500
          ],
          [
           "invest",
           "Travelers",
           -904
          ],
          [
           "tech",
           "Visa",
           488
          ],
          [
           "clothing",
           "Voya Financial",
           -818
          ],
          [
           "invest",
           "Tapestry",
           853
          ],
          [
           "health",
           "Sysco",
           387
          ],
          [
           "grocery",
           "Travelers",
           -278
          ],
          [
           "invest",
           "Visa",
           967
          ],
          [
           "travel",
           "Walmart",
           -745
          ],
          [
           "invest",
           "Omnicom Group",
           729
          ],
          [
           "debt",
           "United Continental Holdings",
           829
          ],
          [
           "travel",
           "Cognizant Technology Solutions",
           -910
          ],
          [
           "invest",
           "Hershey",
           -435
          ],
          [
           "grocery",
           "Tapestry",
           110
          ],
          [
           "travel",
           "Hershey",
           93
          ],
          [
           "clothing",
           "Quest Diagnostics",
           950
          ],
          [
           "unk",
           "Walmart",
           -820
          ],
          [
           "misc",
           "Delta Air Lines",
           -3
          ],
          [
           "unk",
           "TIAA",
           840
          ],
          [
           "health",
           "Walmart",
           -214
          ],
          [
           "travel",
           "Walmart",
           -318
          ],
          [
           "health",
           "Walmart",
           128
          ],
          [
           "tech",
           "Hanesbrands",
           158
          ],
          [
           "paypal",
           "Travelers",
           943
          ],
          [
           "health",
           "United Continental Holdings",
           -573
          ],
          [
           "utility",
           "Hewlett Packard Enterprise",
           -881
          ],
          [
           "travel",
           "Walmart",
           -998
          ],
          [
           "unk",
           "Travelers",
           -371
          ],
          [
           "unk",
           "Travelers",
           53
          ],
          [
           "misc",
           "United Continental Holdings",
           331
          ],
          [
           "clothing",
           "Voya Financial",
           251
          ],
          [
           "tech",
           "Hanesbrands",
           -413
          ],
          [
           "grocery",
           "TIAA",
           -987
          ],
          [
           "grocery",
           "Travelers",
           -5
          ],
          [
           "utility",
           "TIAA",
           354
          ],
          [
           "health",
           "Omnicom Group",
           823
          ],
          [
           "health",
           "Travelers",
           -801
          ],
          [
           "unk",
           "Sysco",
           99
          ],
          [
           "invest",
           "Entergy",
           222
          ],
          [
           "unk",
           "Tapestry",
           -600
          ],
          [
           "utility",
           "Ulta Beauty",
           3
          ],
          [
           "tech",
           "Amazon.com",
           765
          ],
          [
           "invest",
           "Hershey",
           -296
          ],
          [
           "clothing",
           "Delta Air Lines",
           966
          ],
          [
           "health",
           "Sysco",
           879
          ],
          [
           "invest",
           "PPL",
           -960
          ],
          [
           "invest",
           "TIAA",
           296
          ],
          [
           "unk",
           "Omnicom Group",
           -19
          ],
          [
           "unk",
           "Amazon.com",
           -783
          ],
          [
           "invest",
           "Hanesbrands",
           -212
          ],
          [
           "paypal",
           "United Continental Holdings",
           -822
          ],
          [
           "tech",
           "Quest Diagnostics",
           -252
          ],
          [
           "invest",
           "Omnicom Group",
           430
          ],
          [
           "clothing",
           "Voya Financial",
           -996
          ],
          [
           "tech",
           "Amazon.com",
           196
          ],
          [
           "travel",
           "Delta Air Lines",
           620
          ],
          [
           "tech",
           "Amazon.com",
           -910
          ],
          [
           "grocery",
           "Ulta Beauty",
           -651
          ],
          [
           "health",
           "Ulta Beauty",
           519
          ],
          [
           "unk",
           "CBRE Group",
           320
          ],
          [
           "paypal",
           "Travelers",
           832
          ],
          [
           "paypal",
           "PPL",
           -650
          ],
          [
           "grocery",
           "Walmart",
           -673
          ],
          [
           "debt",
           "Entergy",
           677
          ],
          [
           "grocery",
           "PPL",
           219
          ],
          [
           "paypal",
           "Hanesbrands",
           -420
          ],
          [
           "invest",
           "Sysco",
           454
          ],
          [
           "travel",
           "Entergy",
           913
          ],
          [
           "utility",
           "United Continental Holdings",
           828
          ],
          [
           "grocery",
           "Ulta Beauty",
           459
          ],
          [
           "invest",
           "Tapestry",
           258
          ],
          [
           "invest",
           "Hershey",
           -366
          ],
          [
           "health",
           "Visa",
           11
          ],
          [
           "grocery",
           "Sysco",
           -944
          ],
          [
           "paypal",
           "Ulta Beauty",
           -536
          ],
          [
           "unk",
           "Visa",
           16
          ],
          [
           "unk",
           "Ulta Beauty",
           -461
          ],
          [
           "misc",
           "Sysco",
           -873
          ],
          [
           "tech",
           "Sysco",
           -464
          ],
          [
           "invest",
           "Hanesbrands",
           -1000
          ],
          [
           "travel",
           "CBRE Group",
           -307
          ],
          [
           "misc",
           "CBRE Group",
           -38
          ],
          [
           "health",
           "TIAA",
           214
          ],
          [
           "utility",
           "TIAA",
           238
          ],
          [
           "invest",
           "Walmart",
           -954
          ],
          [
           "tech",
           "Quest Diagnostics",
           230
          ],
          [
           "paypal",
           "Hanesbrands",
           281
          ],
          [
           "invest",
           "Walmart",
           -84
          ],
          [
           "invest",
           "Visa",
           -951
          ],
          [
           "paypal",
           "Hanesbrands",
           -141
          ],
          [
           "clothing",
           "Hershey",
           46
          ],
          [
           "clothing",
           "Travelers",
           623
          ],
          [
           "travel",
           "Hanesbrands",
           -782
          ],
          [
           "grocery",
           "TIAA",
           -477
          ],
          [
           "travel",
           "Ulta Beauty",
           169
          ],
          [
           "invest",
           "Amazon.com",
           -267
          ],
          [
           "debt",
           "Omnicom Group",
           -231
          ],
          [
           "clothing",
           "Amazon.com",
           -646
          ],
          [
           "unk",
           "Visa",
           -313
          ],
          [
           "travel",
           "Voya Financial",
           19
          ],
          [
           "unk",
           "Ulta Beauty",
           621
          ],
          [
           "travel",
           "Cognizant Technology Solutions",
           436
          ],
          [
           "paypal",
           "PPL",
           -579
          ],
          [
           "invest",
           "Amazon.com",
           -390
          ],
          [
           "health",
           "Omnicom Group",
           110
          ],
          [
           "unk",
           "Travelers",
           962
          ],
          [
           "health",
           "Delta Air Lines",
           811
          ],
          [
           "debt",
           "Walmart",
           -30
          ],
          [
           "tech",
           "Hewlett Packard Enterprise",
           -368
          ],
          [
           "paypal",
           "TIAA",
           -37
          ],
          [
           "unk",
           "Amazon.com",
           241
          ],
          [
           "health",
           "Amazon.com",
           -318
          ],
          [
           "unk",
           "PPL",
           203
          ],
          [
           "grocery",
           "Sysco",
           -905
          ],
          [
           "grocery",
           "Hewlett Packard Enterprise",
           -168
          ],
          [
           "misc",
           "Tapestry",
           207
          ],
          [
           "utility",
           "Cognizant Technology Solutions",
           147
          ],
          [
           "tech",
           "Travelers",
           -410
          ],
          [
           "invest",
           "Omnicom Group",
           759
          ],
          [
           "invest",
           "Voya Financial",
           -137
          ],
          [
           "grocery",
           "Delta Air Lines",
           -883
          ],
          [
           "grocery",
           "Visa",
           -945
          ],
          [
           "travel",
           "Amazon.com",
           -494
          ],
          [
           "invest",
           "TIAA",
           507
          ],
          [
           "health",
           "CBRE Group",
           210
          ],
          [
           "invest",
           "Entergy",
           -657
          ],
          [
           "unk",
           "Walmart",
           141
          ],
          [
           "tech",
           "TIAA",
           763
          ],
          [
           "invest",
           "Voya Financial",
           925
          ],
          [
           "grocery",
           "TIAA",
           897
          ],
          [
           "invest",
           "Cognizant Technology Solutions",
           -460
          ],
          [
           "grocery",
           "Hewlett Packard Enterprise",
           288
          ],
          [
           "paypal",
           "Omnicom Group",
           -590
          ],
          [
           "invest",
           "Delta Air Lines",
           592
          ],
          [
           "debt",
           "Ulta Beauty",
           -286
          ],
          [
           "health",
           "Omnicom Group",
           -813
          ],
          [
           "invest",
           "Travelers",
           -361
          ],
          [
           "clothing",
           "TIAA",
           384
          ],
          [
           "grocery",
           "Delta Air Lines",
           -274
          ],
          [
           "grocery",
           "Ulta Beauty",
           -211
          ],
          [
           "health",
           "Visa",
           329
          ],
          [
           "utility",
           "Entergy",
           99
          ],
          [
           "utility",
           "Ulta Beauty",
           423
          ],
          [
           "tech",
           "Tapestry",
           125
          ],
          [
           "travel",
           "United Continental Holdings",
           352
          ],
          [
           "unk",
           "Quest Diagnostics",
           -217
          ],
          [
           "unk",
           "Ulta Beauty",
           856
          ],
          [
           "misc",
           "Amazon.com",
           17
          ],
          [
           "misc",
           "Voya Financial",
           640
          ],
          [
           "unk",
           "Hewlett Packard Enterprise",
           350
          ],
          [
           "unk",
           "Sysco",
           109
          ],
          [
           "misc",
           "Omnicom Group",
           -153
          ],
          [
           "debt",
           "Cognizant Technology Solutions",
           -657
          ],
          [
           "travel",
           "Entergy",
           -710
          ],
          [
           "misc",
           "United Continental Holdings",
           -887
          ],
          [
           "tech",
           "Tapestry",
           829
          ],
          [
           "tech",
           "Hewlett Packard Enterprise",
           -243
          ],
          [
           "invest",
           "Hewlett Packard Enterprise",
           653
          ],
          [
           "unk",
           "Hewlett Packard Enterprise",
           644
          ],
          [
           "travel",
           "Delta Air Lines",
           254
          ],
          [
           "invest",
           "Hanesbrands",
           -752
          ],
          [
           "utility",
           "Visa",
           -626
          ],
          [
           "tech",
           "Cognizant Technology Solutions",
           549
          ],
          [
           "invest",
           "Tapestry",
           -179
          ],
          [
           "unk",
           "Voya Financial",
           -313
          ],
          [
           "travel",
           "Omnicom Group",
           969
          ],
          [
           "clothing",
           "Sysco",
           -823
          ],
          [
           "unk",
           "Hanesbrands",
           -34
          ],
          [
           "misc",
           "Visa",
           -822
          ],
          [
           "health",
           "Tapestry",
           -896
          ],
          [
           "misc",
           "Hanesbrands",
           901
          ],
          [
           "invest",
           "CBRE Group",
           460
          ],
          [
           "health",
           "Voya Financial",
           430
          ],
          [
           "invest",
           "TIAA",
           -657
          ],
          [
           "unk",
           "Tapestry",
           555
          ],
          [
           "paypal",
           "Ulta Beauty",
           771
          ],
          [
           "grocery",
           "Entergy",
           620
          ],
          [
           "travel",
           "Amazon.com",
           -950
          ],
          [
           "grocery",
           "Omnicom Group",
           -171
          ],
          [
           "clothing",
           "CBRE Group",
           -983
          ],
          [
           "unk",
           "TIAA",
           -484
          ],
          [
           "debt",
           "TIAA",
           -940
          ],
          [
           "misc",
           "Sysco",
           372
          ],
          [
           "misc",
           "Hewlett Packard Enterprise",
           744
          ],
          [
           "tech",
           "United Continental Holdings",
           -581
          ],
          [
           "misc",
           "Hershey",
           931
          ],
          [
           "travel",
           "Delta Air Lines",
           -480
          ],
          [
           "invest",
           "Travelers",
           -167
          ],
          [
           "unk",
           "Hershey",
           91
          ],
          [
           "travel",
           "Tapestry",
           39
          ],
          [
           "utility",
           "Entergy",
           -33
          ],
          [
           "misc",
           "Entergy",
           829
          ],
          [
           "utility",
           "Sysco",
           889
          ],
          [
           "paypal",
           "Ulta Beauty",
           -727
          ],
          [
           "travel",
           "Voya Financial",
           -363
          ],
          [
           "tech",
           "Amazon.com",
           -825
          ],
          [
           "travel",
           "Walmart",
           -199
          ],
          [
           "grocery",
           "Hanesbrands",
           -90
          ],
          [
           "clothing",
           "TIAA",
           -202
          ],
          [
           "unk",
           "United Continental Holdings",
           618
          ],
          [
           "clothing",
           "Travelers",
           319
          ],
          [
           "misc",
           "Sysco",
           -497
          ],
          [
           "debt",
           "Sysco",
           -365
          ],
          [
           "grocery",
           "Delta Air Lines",
           50
          ],
          [
           "misc",
           "TIAA",
           358
          ],
          [
           "invest",
           "Hewlett Packard Enterprise",
           594
          ],
          [
           "invest",
           "United Continental Holdings",
           690
          ],
          [
           "health",
           "Delta Air Lines",
           -605
          ],
          [
           "health",
           "Travelers",
           -409
          ],
          [
           "health",
           "Hewlett Packard Enterprise",
           -409
          ],
          [
           "unk",
           "Quest Diagnostics",
           518
          ],
          [
           "clothing",
           "TIAA",
           -609
          ],
          [
           "tech",
           "TIAA",
           83
          ],
          [
           "grocery",
           "Voya Financial",
           184
          ],
          [
           "utility",
           "Amazon.com",
           981
          ],
          [
           "invest",
           "Hershey",
           -538
          ],
          [
           "grocery",
           "Hanesbrands",
           286
          ],
          [
           "travel",
           "CBRE Group",
           -314
          ],
          [
           "invest",
           "Sysco",
           693
          ],
          [
           "misc",
           "CBRE Group",
           184
          ],
          [
           "debt",
           "CBRE Group",
           -420
          ],
          [
           "health",
           "CBRE Group",
           -843
          ],
          [
           "health",
           "Ulta Beauty",
           -674
          ],
          [
           "paypal",
           "Amazon.com",
           278
          ],
          [
           "misc",
           "Voya Financial",
           740
          ],
          [
           "health",
           "Hewlett Packard Enterprise",
           832
          ],
          [
           "health",
           "Cognizant Technology Solutions",
           -880
          ],
          [
           "paypal",
           "Quest Diagnostics",
           453
          ],
          [
           "misc",
           "Cognizant Technology Solutions",
           845
          ],
          [
           "invest",
           "Ulta Beauty",
           993
          ],
          [
           "grocery",
           "Walmart",
           26
          ],
          [
           "grocery",
           "PPL",
           370
          ],
          [
           "clothing",
           "Delta Air Lines",
           73
          ],
          [
           "utility",
           "Visa",
           -728
          ],
          [
           "misc",
           "United Continental Holdings",
           861
          ],
          [
           "utility",
           "United Continental Holdings",
           -652
          ],
          [
           "unk",
           "Walmart",
           265
          ],
          [
           "unk",
           "Travelers",
           832
          ],
          [
           "paypal",
           "PPL",
           38
          ],
          [
           "misc",
           "Ulta Beauty",
           824
          ],
          [
           "health",
           "Hewlett Packard Enterprise",
           312
          ],
          [
           "health",
           "Amazon.com",
           847
          ],
          [
           "tech",
           "Hewlett Packard Enterprise",
           450
          ],
          [
           "invest",
           "TIAA",
           -68
          ],
          [
           "debt",
           "Walmart",
           86
          ],
          [
           "invest",
           "Hewlett Packard Enterprise",
           -911
          ],
          [
           "clothing",
           "Ulta Beauty",
           -832
          ],
          [
           "tech",
           "TIAA",
           -339
          ],
          [
           "clothing",
           "Cognizant Technology Solutions",
           -711
          ],
          [
           "clothing",
           "Cognizant Technology Solutions",
           816
          ],
          [
           "misc",
           "Cognizant Technology Solutions",
           -830
          ],
          [
           "unk",
           "Sysco",
           -241
          ],
          [
           "misc",
           "PPL",
           -91
          ],
          [
           "grocery",
           "Travelers",
           -63
          ],
          [
           "utility",
           "Cognizant Technology Solutions",
           375
          ],
          [
           "tech",
           "United Continental Holdings",
           -125
          ],
          [
           "grocery",
           "Tapestry",
           880
          ],
          [
           "travel",
           "Hershey",
           -552
          ],
          [
           "health",
           "CBRE Group",
           570
          ],
          [
           "travel",
           "Cognizant Technology Solutions",
           -420
          ],
          [
           "travel",
           "CBRE Group",
           229
          ],
          [
           "travel",
           "Ulta Beauty",
           515
          ],
          [
           "misc",
           "Visa",
           -353
          ],
          [
           "unk",
           "Entergy",
           438
          ],
          [
           "travel",
           "Travelers",
           264
          ],
          [
           "travel",
           "Visa",
           676
          ],
          [
           "travel",
           "Amazon.com",
           948
          ],
          [
           "tech",
           "Delta Air Lines",
           53
          ],
          [
           "invest",
           "Delta Air Lines",
           -817
          ],
          [
           "travel",
           "Ulta Beauty",
           -775
          ],
          [
           "travel",
           "Tapestry",
           487
          ],
          [
           "tech",
           "Voya Financial",
           -634
          ],
          [
           "invest",
           "United Continental Holdings",
           -238
          ],
          [
           "utility",
           "Entergy",
           -895
          ],
          [
           "grocery",
           "PPL",
           -902
          ],
          [
           "unk",
           "Quest Diagnostics",
           -995
          ],
          [
           "paypal",
           "Hanesbrands",
           324
          ],
          [
           "health",
           "Hershey",
           -836
          ],
          [
           "health",
           "PPL",
           -227
          ],
          [
           "invest",
           "United Continental Holdings",
           498
          ],
          [
           "travel",
           "Sysco",
           455
          ],
          [
           "unk",
           "CBRE Group",
           -947
          ],
          [
           "health",
           "Amazon.com",
           813
          ],
          [
           "unk",
           "Walmart",
           -426
          ]
         ],
         "hovertemplate": "Date=%{x}<br>Balance=%{y}<br>Category=%{customdata[0]}<br>Location=%{customdata[1]}<br>Delta=%{customdata[2]}<extra></extra>",
         "legendgroup": "",
         "line": {
          "color": "#636efa",
          "dash": "solid"
         },
         "marker": {
          "symbol": "circle"
         },
         "mode": "lines",
         "name": "",
         "orientation": "v",
         "showlegend": false,
         "type": "scatter",
         "x": [
          "2022-09-22T00:00:00",
          "2022-09-22T00:00:00",
          "2022-09-22T00:00:00",
          "2022-09-22T00:00:00",
          "2022-09-21T00:00:00",
          "2022-09-20T00:00:00",
          "2022-09-20T00:00:00",
          "2022-09-20T00:00:00",
          "2022-09-19T00:00:00",
          "2022-09-19T00:00:00",
          "2022-09-19T00:00:00",
          "2022-09-19T00:00:00",
          "2022-09-19T00:00:00",
          "2022-09-19T00:00:00",
          "2022-09-19T00:00:00",
          "2022-09-19T00:00:00",
          "2022-09-19T00:00:00",
          "2022-09-19T00:00:00",
          "2022-09-19T00:00:00",
          "2022-09-19T00:00:00",
          "2022-09-19T00:00:00",
          "2022-09-16T00:00:00",
          "2022-09-16T00:00:00",
          "2022-09-16T00:00:00",
          "2022-09-16T00:00:00",
          "2022-09-16T00:00:00",
          "2022-09-15T00:00:00",
          "2022-09-15T00:00:00",
          "2022-09-15T00:00:00",
          "2022-09-14T00:00:00",
          "2022-09-14T00:00:00",
          "2022-09-13T00:00:00",
          "2022-09-13T00:00:00",
          "2022-09-13T00:00:00",
          "2022-09-13T00:00:00",
          "2022-09-13T00:00:00",
          "2022-09-12T00:00:00",
          "2022-09-12T00:00:00",
          "2022-09-12T00:00:00",
          "2022-09-12T00:00:00",
          "2022-09-12T00:00:00",
          "2022-09-12T00:00:00",
          "2022-09-12T00:00:00",
          "2022-09-12T00:00:00",
          "2022-09-12T00:00:00",
          "2022-09-12T00:00:00",
          "2022-09-12T00:00:00",
          "2022-09-12T00:00:00",
          "2022-09-09T00:00:00",
          "2022-09-09T00:00:00",
          "2022-09-09T00:00:00",
          "2022-09-09T00:00:00",
          "2022-09-09T00:00:00",
          "2022-09-08T00:00:00",
          "2022-09-08T00:00:00",
          "2022-09-08T00:00:00",
          "2022-09-08T00:00:00",
          "2022-09-08T00:00:00",
          "2022-09-07T00:00:00",
          "2022-09-07T00:00:00",
          "2022-09-07T00:00:00",
          "2022-09-07T00:00:00",
          "2022-09-07T00:00:00",
          "2022-09-06T00:00:00",
          "2022-09-06T00:00:00",
          "2022-09-06T00:00:00",
          "2022-09-06T00:00:00",
          "2022-09-06T00:00:00",
          "2022-09-06T00:00:00",
          "2022-09-06T00:00:00",
          "2022-09-06T00:00:00",
          "2022-09-06T00:00:00",
          "2022-09-06T00:00:00",
          "2022-09-06T00:00:00",
          "2022-09-06T00:00:00",
          "2022-09-06T00:00:00",
          "2022-09-06T00:00:00",
          "2022-09-06T00:00:00",
          "2022-09-06T00:00:00",
          "2022-09-06T00:00:00",
          "2022-09-06T00:00:00",
          "2022-09-06T00:00:00",
          "2022-09-06T00:00:00",
          "2022-09-02T00:00:00",
          "2022-09-02T00:00:00",
          "2022-09-01T00:00:00",
          "2022-08-31T00:00:00",
          "2022-08-31T00:00:00",
          "2022-08-31T00:00:00",
          "2022-08-31T00:00:00",
          "2022-08-31T00:00:00",
          "2022-08-31T00:00:00",
          "2022-08-31T00:00:00",
          "2022-08-30T00:00:00",
          "2022-08-30T00:00:00",
          "2022-08-30T00:00:00",
          "2022-08-30T00:00:00",
          "2022-08-29T00:00:00",
          "2022-08-29T00:00:00",
          "2022-08-29T00:00:00",
          "2022-08-29T00:00:00",
          "2022-08-29T00:00:00",
          "2022-08-29T00:00:00",
          "2022-08-29T00:00:00",
          "2022-08-29T00:00:00",
          "2022-08-26T00:00:00",
          "2022-08-26T00:00:00",
          "2022-08-26T00:00:00",
          "2022-08-25T00:00:00",
          "2022-08-25T00:00:00",
          "2022-08-24T00:00:00",
          "2022-08-24T00:00:00",
          "2022-08-24T00:00:00",
          "2022-08-23T00:00:00",
          "2022-08-23T00:00:00",
          "2022-08-22T00:00:00",
          "2022-08-22T00:00:00",
          "2022-08-22T00:00:00",
          "2022-08-22T00:00:00",
          "2022-08-22T00:00:00",
          "2022-08-22T00:00:00",
          "2022-08-22T00:00:00",
          "2022-08-22T00:00:00",
          "2022-08-22T00:00:00",
          "2022-08-22T00:00:00",
          "2022-08-22T00:00:00",
          "2022-08-19T00:00:00",
          "2022-08-19T00:00:00",
          "2022-08-19T00:00:00",
          "2022-08-19T00:00:00",
          "2022-08-18T00:00:00",
          "2022-08-18T00:00:00",
          "2022-08-18T00:00:00",
          "2022-08-18T00:00:00",
          "2022-08-17T00:00:00",
          "2022-08-17T00:00:00",
          "2022-08-17T00:00:00",
          "2022-08-16T00:00:00",
          "2022-08-16T00:00:00",
          "2022-08-15T00:00:00",
          "2022-08-15T00:00:00",
          "2022-08-15T00:00:00",
          "2022-08-15T00:00:00",
          "2022-08-15T00:00:00",
          "2022-08-15T00:00:00",
          "2022-08-15T00:00:00",
          "2022-08-15T00:00:00",
          "2022-08-15T00:00:00",
          "2022-08-15T00:00:00",
          "2022-08-12T00:00:00",
          "2022-08-12T00:00:00",
          "2022-08-11T00:00:00",
          "2022-08-11T00:00:00",
          "2022-08-10T00:00:00",
          "2022-08-10T00:00:00",
          "2022-08-10T00:00:00",
          "2022-08-10T00:00:00",
          "2022-08-10T00:00:00",
          "2022-08-09T00:00:00",
          "2022-08-09T00:00:00",
          "2022-08-09T00:00:00",
          "2022-08-09T00:00:00",
          "2022-08-08T00:00:00",
          "2022-08-08T00:00:00",
          "2022-08-08T00:00:00",
          "2022-08-08T00:00:00",
          "2022-08-08T00:00:00",
          "2022-08-08T00:00:00",
          "2022-08-08T00:00:00",
          "2022-08-08T00:00:00",
          "2022-08-08T00:00:00",
          "2022-08-05T00:00:00",
          "2022-08-05T00:00:00",
          "2022-08-04T00:00:00",
          "2022-08-03T00:00:00",
          "2022-08-03T00:00:00",
          "2022-08-02T00:00:00",
          "2022-08-02T00:00:00",
          "2022-08-02T00:00:00",
          "2022-08-02T00:00:00",
          "2022-08-02T00:00:00",
          "2022-08-01T00:00:00",
          "2022-08-01T00:00:00",
          "2022-08-01T00:00:00",
          "2022-08-01T00:00:00",
          "2022-08-01T00:00:00",
          "2022-08-01T00:00:00",
          "2022-08-01T00:00:00",
          "2022-08-01T00:00:00",
          "2022-08-01T00:00:00",
          "2022-08-01T00:00:00",
          "2022-07-29T00:00:00",
          "2022-07-29T00:00:00",
          "2022-07-29T00:00:00",
          "2022-07-29T00:00:00",
          "2022-07-29T00:00:00",
          "2022-07-29T00:00:00",
          "2022-07-29T00:00:00",
          "2022-07-28T00:00:00",
          "2022-07-28T00:00:00",
          "2022-07-27T00:00:00",
          "2022-07-27T00:00:00",
          "2022-07-27T00:00:00",
          "2022-07-26T00:00:00",
          "2022-07-26T00:00:00",
          "2022-07-25T00:00:00",
          "2022-07-25T00:00:00",
          "2022-07-25T00:00:00",
          "2022-07-25T00:00:00",
          "2022-07-25T00:00:00",
          "2022-07-22T00:00:00",
          "2022-07-22T00:00:00",
          "2022-07-22T00:00:00",
          "2022-07-22T00:00:00",
          "2022-07-21T00:00:00",
          "2022-07-21T00:00:00",
          "2022-07-20T00:00:00",
          "2022-07-19T00:00:00",
          "2022-07-19T00:00:00",
          "2022-07-19T00:00:00",
          "2022-07-19T00:00:00",
          "2022-07-19T00:00:00",
          "2022-07-18T00:00:00",
          "2022-07-18T00:00:00",
          "2022-07-18T00:00:00",
          "2022-07-18T00:00:00",
          "2022-07-18T00:00:00",
          "2022-07-18T00:00:00",
          "2022-07-18T00:00:00",
          "2022-07-18T00:00:00",
          "2022-07-18T00:00:00",
          "2022-07-18T00:00:00",
          "2022-07-18T00:00:00",
          "2022-07-15T00:00:00",
          "2022-07-15T00:00:00",
          "2022-07-15T00:00:00",
          "2022-07-15T00:00:00",
          "2022-07-15T00:00:00",
          "2022-07-14T00:00:00",
          "2022-07-14T00:00:00",
          "2022-07-13T00:00:00",
          "2022-07-13T00:00:00",
          "2022-07-12T00:00:00",
          "2022-07-12T00:00:00",
          "2022-07-11T00:00:00",
          "2022-07-11T00:00:00",
          "2022-07-11T00:00:00",
          "2022-07-11T00:00:00",
          "2022-07-11T00:00:00",
          "2022-07-11T00:00:00",
          "2022-07-11T00:00:00",
          "2022-07-08T00:00:00",
          "2022-07-08T00:00:00",
          "2022-07-08T00:00:00",
          "2022-07-08T00:00:00",
          "2022-07-08T00:00:00",
          "2022-07-05T00:00:00",
          "2022-07-05T00:00:00",
          "2022-07-05T00:00:00",
          "2022-07-05T00:00:00",
          "2022-07-05T00:00:00",
          "2022-07-05T00:00:00",
          "2022-07-05T00:00:00",
          "2022-07-05T00:00:00",
          "2022-07-01T00:00:00",
          "2022-07-01T00:00:00",
          "2022-07-01T00:00:00",
          "2022-06-30T00:00:00",
          "2022-06-30T00:00:00",
          "2022-06-30T00:00:00",
          "2022-06-29T00:00:00",
          "2022-06-29T00:00:00",
          "2022-06-28T00:00:00",
          "2022-06-28T00:00:00",
          "2022-06-28T00:00:00",
          "2022-06-27T00:00:00",
          "2022-06-27T00:00:00",
          "2022-06-27T00:00:00",
          "2022-06-27T00:00:00",
          "2022-06-27T00:00:00",
          "2022-06-27T00:00:00",
          "2022-06-27T00:00:00",
          "2022-06-27T00:00:00",
          "2022-06-27T00:00:00",
          "2022-06-24T00:00:00",
          "2022-06-24T00:00:00"
         ],
         "xaxis": "x",
         "y": [
          1236,
          3286,
          1882,
          2382,
          3856,
          3368,
          4186,
          3333,
          2211,
          2586,
          1841,
          2570,
          3399,
          2489,
          1886,
          2321,
          1979,
          2929,
          2109,
          2106,
          2946,
          390,
          604,
          676,
          548,
          1619,
          922,
          1495,
          2376,
          3374,
          3745,
          5097,
          4766,
          4684,
          3697,
          3692,
          3158,
          3884,
          3083,
          3182,
          3404,
          2804,
          3636,
          3923,
          2667,
          3633,
          4515,
          2963,
          3061,
          2765,
          2784,
          3567,
          3779,
          3785,
          4037,
          3607,
          3981,
          4601,
          4603,
          5513,
          6164,
          5645,
          5325,
          6702,
          6029,
          6706,
          6925,
          6505,
          6959,
          7872,
          8700,
          9159,
          9417,
          9051,
          5957,
          4493,
          5437,
          5973,
          8590,
          5946,
          7126,
          7590,
          6819,
          7352,
          7390,
          7176,
          7984,
          8741,
          8938,
          8657,
          7033,
          6892,
          6938,
          8819,
          8196,
          8342,
          8511,
          8978,
          9245,
          10055,
          10701,
          11014,
          10995,
          10374,
          9476,
          9938,
          10328,
          10218,
          9286,
          9256,
          8475,
          8602,
          8843,
          8639,
          8957,
          8754,
          9659,
          9827,
          9620,
          8966,
          9376,
          8617,
          8754,
          9637,
          10582,
          9473,
          10172,
          9962,
          10313,
          11076,
          10619,
          9694,
          8797,
          9257,
          8969,
          9559,
          8967,
          9253,
          10066,
          8945,
          8671,
          8460,
          8789,
          8888,
          9311,
          9436,
          10427,
          9219,
          10075,
          7921,
          8561,
          7904,
          7554,
          7445,
          7598,
          8255,
          8965,
          9852,
          8125,
          8368,
          8769,
          9023,
          8425,
          9120,
          9356,
          9177,
          8807,
          9394,
          8571,
          7715,
          7749,
          9746,
          10642,
          9741,
          9281,
          8851,
          10629,
          9454,
          10074,
          9679,
          9508,
          8683,
          9666,
          10150,
          11090,
          10718,
          9974,
          10555,
          9624,
          10104,
          10271,
          12095,
          10338,
          12056,
          11227,
          11368,
          11005,
          10180,
          10371,
          10570,
          10660,
          10862,
          10244,
          10290,
          9925,
          10787,
          10737,
          10379,
          9785,
          9095,
          9700,
          10109,
          10518,
          10000,
          10425,
          10609,
          10342,
          9361,
          9899,
          9613,
          9927,
          9234,
          7613,
          6857,
          7015,
          7293,
          8033,
          7689,
          6733,
          7212,
          9050,
          8205,
          6759,
          7491,
          7121,
          7048,
          8352,
          7700,
          7776,
          7511,
          6679,
          6641,
          5817,
          5505,
          6540,
          6004,
          6090,
          6072,
          5708,
          4658,
          4997,
          6983,
          6230,
          7060,
          7301,
          6167,
          6498,
          5795,
          6675,
          6123,
          7068,
          7163,
          7392,
          7583,
          5920,
          6273,
          5835,
          4570,
          5571,
          4623,
          4669,
          3894,
          5486,
          4999,
          5633,
          6928,
          8494,
          7499,
          7823,
          6363,
          6701,
          7199,
          6818,
          5871,
          9396,
          8583
         ],
         "yaxis": "y"
        }
       ],
       "layout": {
        "height": 600,
        "legend": {
         "tracegroupgap": 0
        },
        "margin": {
         "t": 60
        },
        "template": {
         "data": {
          "bar": [
           {
            "error_x": {
             "color": "#f2f5fa"
            },
            "error_y": {
             "color": "#f2f5fa"
            },
            "marker": {
             "line": {
              "color": "rgb(17,17,17)",
              "width": 0.5
             },
             "pattern": {
              "fillmode": "overlay",
              "size": 10,
              "solidity": 0.2
             }
            },
            "type": "bar"
           }
          ],
          "barpolar": [
           {
            "marker": {
             "line": {
              "color": "rgb(17,17,17)",
              "width": 0.5
             },
             "pattern": {
              "fillmode": "overlay",
              "size": 10,
              "solidity": 0.2
             }
            },
            "type": "barpolar"
           }
          ],
          "carpet": [
           {
            "aaxis": {
             "endlinecolor": "#A2B1C6",
             "gridcolor": "#506784",
             "linecolor": "#506784",
             "minorgridcolor": "#506784",
             "startlinecolor": "#A2B1C6"
            },
            "baxis": {
             "endlinecolor": "#A2B1C6",
             "gridcolor": "#506784",
             "linecolor": "#506784",
             "minorgridcolor": "#506784",
             "startlinecolor": "#A2B1C6"
            },
            "type": "carpet"
           }
          ],
          "choropleth": [
           {
            "colorbar": {
             "outlinewidth": 0,
             "ticks": ""
            },
            "type": "choropleth"
           }
          ],
          "contour": [
           {
            "colorbar": {
             "outlinewidth": 0,
             "ticks": ""
            },
            "colorscale": [
             [
              0,
              "#0d0887"
             ],
             [
              0.1111111111111111,
              "#46039f"
             ],
             [
              0.2222222222222222,
              "#7201a8"
             ],
             [
              0.3333333333333333,
              "#9c179e"
             ],
             [
              0.4444444444444444,
              "#bd3786"
             ],
             [
              0.5555555555555556,
              "#d8576b"
             ],
             [
              0.6666666666666666,
              "#ed7953"
             ],
             [
              0.7777777777777778,
              "#fb9f3a"
             ],
             [
              0.8888888888888888,
              "#fdca26"
             ],
             [
              1,
              "#f0f921"
             ]
            ],
            "type": "contour"
           }
          ],
          "contourcarpet": [
           {
            "colorbar": {
             "outlinewidth": 0,
             "ticks": ""
            },
            "type": "contourcarpet"
           }
          ],
          "heatmap": [
           {
            "colorbar": {
             "outlinewidth": 0,
             "ticks": ""
            },
            "colorscale": [
             [
              0,
              "#0d0887"
             ],
             [
              0.1111111111111111,
              "#46039f"
             ],
             [
              0.2222222222222222,
              "#7201a8"
             ],
             [
              0.3333333333333333,
              "#9c179e"
             ],
             [
              0.4444444444444444,
              "#bd3786"
             ],
             [
              0.5555555555555556,
              "#d8576b"
             ],
             [
              0.6666666666666666,
              "#ed7953"
             ],
             [
              0.7777777777777778,
              "#fb9f3a"
             ],
             [
              0.8888888888888888,
              "#fdca26"
             ],
             [
              1,
              "#f0f921"
             ]
            ],
            "type": "heatmap"
           }
          ],
          "heatmapgl": [
           {
            "colorbar": {
             "outlinewidth": 0,
             "ticks": ""
            },
            "colorscale": [
             [
              0,
              "#0d0887"
             ],
             [
              0.1111111111111111,
              "#46039f"
             ],
             [
              0.2222222222222222,
              "#7201a8"
             ],
             [
              0.3333333333333333,
              "#9c179e"
             ],
             [
              0.4444444444444444,
              "#bd3786"
             ],
             [
              0.5555555555555556,
              "#d8576b"
             ],
             [
              0.6666666666666666,
              "#ed7953"
             ],
             [
              0.7777777777777778,
              "#fb9f3a"
             ],
             [
              0.8888888888888888,
              "#fdca26"
             ],
             [
              1,
              "#f0f921"
             ]
            ],
            "type": "heatmapgl"
           }
          ],
          "histogram": [
           {
            "marker": {
             "pattern": {
              "fillmode": "overlay",
              "size": 10,
              "solidity": 0.2
             }
            },
            "type": "histogram"
           }
          ],
          "histogram2d": [
           {
            "colorbar": {
             "outlinewidth": 0,
             "ticks": ""
            },
            "colorscale": [
             [
              0,
              "#0d0887"
             ],
             [
              0.1111111111111111,
              "#46039f"
             ],
             [
              0.2222222222222222,
              "#7201a8"
             ],
             [
              0.3333333333333333,
              "#9c179e"
             ],
             [
              0.4444444444444444,
              "#bd3786"
             ],
             [
              0.5555555555555556,
              "#d8576b"
             ],
             [
              0.6666666666666666,
              "#ed7953"
             ],
             [
              0.7777777777777778,
              "#fb9f3a"
             ],
             [
              0.8888888888888888,
              "#fdca26"
             ],
             [
              1,
              "#f0f921"
             ]
            ],
            "type": "histogram2d"
           }
          ],
          "histogram2dcontour": [
           {
            "colorbar": {
             "outlinewidth": 0,
             "ticks": ""
            },
            "colorscale": [
             [
              0,
              "#0d0887"
             ],
             [
              0.1111111111111111,
              "#46039f"
             ],
             [
              0.2222222222222222,
              "#7201a8"
             ],
             [
              0.3333333333333333,
              "#9c179e"
             ],
             [
              0.4444444444444444,
              "#bd3786"
             ],
             [
              0.5555555555555556,
              "#d8576b"
             ],
             [
              0.6666666666666666,
              "#ed7953"
             ],
             [
              0.7777777777777778,
              "#fb9f3a"
             ],
             [
              0.8888888888888888,
              "#fdca26"
             ],
             [
              1,
              "#f0f921"
             ]
            ],
            "type": "histogram2dcontour"
           }
          ],
          "mesh3d": [
           {
            "colorbar": {
             "outlinewidth": 0,
             "ticks": ""
            },
            "type": "mesh3d"
           }
          ],
          "parcoords": [
           {
            "line": {
             "colorbar": {
              "outlinewidth": 0,
              "ticks": ""
             }
            },
            "type": "parcoords"
           }
          ],
          "pie": [
           {
            "automargin": true,
            "type": "pie"
           }
          ],
          "scatter": [
           {
            "marker": {
             "line": {
              "color": "#283442"
             }
            },
            "type": "scatter"
           }
          ],
          "scatter3d": [
           {
            "line": {
             "colorbar": {
              "outlinewidth": 0,
              "ticks": ""
             }
            },
            "marker": {
             "colorbar": {
              "outlinewidth": 0,
              "ticks": ""
             }
            },
            "type": "scatter3d"
           }
          ],
          "scattercarpet": [
           {
            "marker": {
             "colorbar": {
              "outlinewidth": 0,
              "ticks": ""
             }
            },
            "type": "scattercarpet"
           }
          ],
          "scattergeo": [
           {
            "marker": {
             "colorbar": {
              "outlinewidth": 0,
              "ticks": ""
             }
            },
            "type": "scattergeo"
           }
          ],
          "scattergl": [
           {
            "marker": {
             "line": {
              "color": "#283442"
             }
            },
            "type": "scattergl"
           }
          ],
          "scattermapbox": [
           {
            "marker": {
             "colorbar": {
              "outlinewidth": 0,
              "ticks": ""
             }
            },
            "type": "scattermapbox"
           }
          ],
          "scatterpolar": [
           {
            "marker": {
             "colorbar": {
              "outlinewidth": 0,
              "ticks": ""
             }
            },
            "type": "scatterpolar"
           }
          ],
          "scatterpolargl": [
           {
            "marker": {
             "colorbar": {
              "outlinewidth": 0,
              "ticks": ""
             }
            },
            "type": "scatterpolargl"
           }
          ],
          "scatterternary": [
           {
            "marker": {
             "colorbar": {
              "outlinewidth": 0,
              "ticks": ""
             }
            },
            "type": "scatterternary"
           }
          ],
          "surface": [
           {
            "colorbar": {
             "outlinewidth": 0,
             "ticks": ""
            },
            "colorscale": [
             [
              0,
              "#0d0887"
             ],
             [
              0.1111111111111111,
              "#46039f"
             ],
             [
              0.2222222222222222,
              "#7201a8"
             ],
             [
              0.3333333333333333,
              "#9c179e"
             ],
             [
              0.4444444444444444,
              "#bd3786"
             ],
             [
              0.5555555555555556,
              "#d8576b"
             ],
             [
              0.6666666666666666,
              "#ed7953"
             ],
             [
              0.7777777777777778,
              "#fb9f3a"
             ],
             [
              0.8888888888888888,
              "#fdca26"
             ],
             [
              1,
              "#f0f921"
             ]
            ],
            "type": "surface"
           }
          ],
          "table": [
           {
            "cells": {
             "fill": {
              "color": "#506784"
             },
             "line": {
              "color": "rgb(17,17,17)"
             }
            },
            "header": {
             "fill": {
              "color": "#2a3f5f"
             },
             "line": {
              "color": "rgb(17,17,17)"
             }
            },
            "type": "table"
           }
          ]
         },
         "layout": {
          "annotationdefaults": {
           "arrowcolor": "#f2f5fa",
           "arrowhead": 0,
           "arrowwidth": 1
          },
          "autotypenumbers": "strict",
          "coloraxis": {
           "colorbar": {
            "outlinewidth": 0,
            "ticks": ""
           }
          },
          "colorscale": {
           "diverging": [
            [
             0,
             "#8e0152"
            ],
            [
             0.1,
             "#c51b7d"
            ],
            [
             0.2,
             "#de77ae"
            ],
            [
             0.3,
             "#f1b6da"
            ],
            [
             0.4,
             "#fde0ef"
            ],
            [
             0.5,
             "#f7f7f7"
            ],
            [
             0.6,
             "#e6f5d0"
            ],
            [
             0.7,
             "#b8e186"
            ],
            [
             0.8,
             "#7fbc41"
            ],
            [
             0.9,
             "#4d9221"
            ],
            [
             1,
             "#276419"
            ]
           ],
           "sequential": [
            [
             0,
             "#0d0887"
            ],
            [
             0.1111111111111111,
             "#46039f"
            ],
            [
             0.2222222222222222,
             "#7201a8"
            ],
            [
             0.3333333333333333,
             "#9c179e"
            ],
            [
             0.4444444444444444,
             "#bd3786"
            ],
            [
             0.5555555555555556,
             "#d8576b"
            ],
            [
             0.6666666666666666,
             "#ed7953"
            ],
            [
             0.7777777777777778,
             "#fb9f3a"
            ],
            [
             0.8888888888888888,
             "#fdca26"
            ],
            [
             1,
             "#f0f921"
            ]
           ],
           "sequentialminus": [
            [
             0,
             "#0d0887"
            ],
            [
             0.1111111111111111,
             "#46039f"
            ],
            [
             0.2222222222222222,
             "#7201a8"
            ],
            [
             0.3333333333333333,
             "#9c179e"
            ],
            [
             0.4444444444444444,
             "#bd3786"
            ],
            [
             0.5555555555555556,
             "#d8576b"
            ],
            [
             0.6666666666666666,
             "#ed7953"
            ],
            [
             0.7777777777777778,
             "#fb9f3a"
            ],
            [
             0.8888888888888888,
             "#fdca26"
            ],
            [
             1,
             "#f0f921"
            ]
           ]
          },
          "colorway": [
           "#636efa",
           "#EF553B",
           "#00cc96",
           "#ab63fa",
           "#FFA15A",
           "#19d3f3",
           "#FF6692",
           "#B6E880",
           "#FF97FF",
           "#FECB52"
          ],
          "font": {
           "color": "#f2f5fa"
          },
          "geo": {
           "bgcolor": "rgb(17,17,17)",
           "lakecolor": "rgb(17,17,17)",
           "landcolor": "rgb(17,17,17)",
           "showlakes": true,
           "showland": true,
           "subunitcolor": "#506784"
          },
          "hoverlabel": {
           "align": "left"
          },
          "hovermode": "closest",
          "mapbox": {
           "style": "dark"
          },
          "paper_bgcolor": "rgb(17,17,17)",
          "plot_bgcolor": "rgb(17,17,17)",
          "polar": {
           "angularaxis": {
            "gridcolor": "#506784",
            "linecolor": "#506784",
            "ticks": ""
           },
           "bgcolor": "rgb(17,17,17)",
           "radialaxis": {
            "gridcolor": "#506784",
            "linecolor": "#506784",
            "ticks": ""
           }
          },
          "scene": {
           "xaxis": {
            "backgroundcolor": "rgb(17,17,17)",
            "gridcolor": "#506784",
            "gridwidth": 2,
            "linecolor": "#506784",
            "showbackground": true,
            "ticks": "",
            "zerolinecolor": "#C8D4E3"
           },
           "yaxis": {
            "backgroundcolor": "rgb(17,17,17)",
            "gridcolor": "#506784",
            "gridwidth": 2,
            "linecolor": "#506784",
            "showbackground": true,
            "ticks": "",
            "zerolinecolor": "#C8D4E3"
           },
           "zaxis": {
            "backgroundcolor": "rgb(17,17,17)",
            "gridcolor": "#506784",
            "gridwidth": 2,
            "linecolor": "#506784",
            "showbackground": true,
            "ticks": "",
            "zerolinecolor": "#C8D4E3"
           }
          },
          "shapedefaults": {
           "line": {
            "color": "#f2f5fa"
           }
          },
          "sliderdefaults": {
           "bgcolor": "#C8D4E3",
           "bordercolor": "rgb(17,17,17)",
           "borderwidth": 1,
           "tickwidth": 0
          },
          "ternary": {
           "aaxis": {
            "gridcolor": "#506784",
            "linecolor": "#506784",
            "ticks": ""
           },
           "baxis": {
            "gridcolor": "#506784",
            "linecolor": "#506784",
            "ticks": ""
           },
           "bgcolor": "rgb(17,17,17)",
           "caxis": {
            "gridcolor": "#506784",
            "linecolor": "#506784",
            "ticks": ""
           }
          },
          "title": {
           "x": 0.05
          },
          "updatemenudefaults": {
           "bgcolor": "#506784",
           "borderwidth": 0
          },
          "xaxis": {
           "automargin": true,
           "gridcolor": "#283442",
           "linecolor": "#506784",
           "ticks": "",
           "title": {
            "standoff": 15
           },
           "zerolinecolor": "#283442",
           "zerolinewidth": 2
          },
          "yaxis": {
           "automargin": true,
           "gridcolor": "#283442",
           "linecolor": "#506784",
           "ticks": "",
           "title": {
            "standoff": 15
           },
           "zerolinecolor": "#283442",
           "zerolinewidth": 2
          }
         }
        },
        "xaxis": {
         "anchor": "y",
         "domain": [
          0,
          1
         ],
         "title": {
          "text": "Date"
         }
        },
        "yaxis": {
         "anchor": "x",
         "domain": [
          0,
          1
         ],
         "title": {
          "text": "Balance"
         }
        }
       }
      }
     },
     "metadata": {},
     "output_type": "display_data"
    },
    {
     "data": {
      "text/html": [
       "<h2> 📈 Line-Graph: Year</h2>"
      ],
      "text/plain": [
       "<IPython.core.display.HTML object>"
      ]
     },
     "metadata": {},
     "output_type": "display_data"
    },
    {
     "data": {
      "text/html": [
       "from 2022-01-03 00:00:00"
      ],
      "text/plain": [
       "<IPython.core.display.HTML object>"
      ]
     },
     "metadata": {},
     "output_type": "display_data"
    },
    {
     "data": {
      "text/html": [
       "to 2022-09-22 00:00:00"
      ],
      "text/plain": [
       "<IPython.core.display.HTML object>"
      ]
     },
     "metadata": {},
     "output_type": "display_data"
    },
    {
     "data": {
      "text/html": [
       "total -34"
      ],
      "text/plain": [
       "<IPython.core.display.HTML object>"
      ]
     },
     "metadata": {},
     "output_type": "display_data"
    },
    {
     "data": {
      "application/vnd.plotly.v1+json": {
       "config": {
        "plotlyServerURL": "https://plot.ly"
       },
       "data": [
        {
         "customdata": [
          [
           "health",
           "Hewlett Packard Enterprise",
           -646
          ],
          [
           "unk",
           "Voya Financial",
           -570
          ],
          [
           "health",
           "Hewlett Packard Enterprise",
           -500
          ],
          [
           "invest",
           "Travelers",
           -904
          ],
          [
           "tech",
           "Visa",
           488
          ],
          [
           "clothing",
           "Voya Financial",
           -818
          ],
          [
           "invest",
           "Tapestry",
           853
          ],
          [
           "health",
           "Sysco",
           387
          ],
          [
           "invest",
           "Visa",
           967
          ],
          [
           "travel",
           "Walmart",
           -745
          ],
          [
           "invest",
           "Omnicom Group",
           729
          ],
          [
           "debt",
           "United Continental Holdings",
           829
          ],
          [
           "travel",
           "Cognizant Technology Solutions",
           -910
          ],
          [
           "grocery",
           "Travelers",
           -278
          ],
          [
           "grocery",
           "Tapestry",
           110
          ],
          [
           "invest",
           "Hershey",
           -435
          ],
          [
           "travel",
           "Hershey",
           93
          ],
          [
           "clothing",
           "Quest Diagnostics",
           950
          ],
          [
           "unk",
           "Walmart",
           -820
          ],
          [
           "misc",
           "Delta Air Lines",
           -3
          ],
          [
           "unk",
           "TIAA",
           840
          ],
          [
           "travel",
           "Walmart",
           -318
          ],
          [
           "health",
           "Walmart",
           -214
          ],
          [
           "tech",
           "Hanesbrands",
           158
          ],
          [
           "health",
           "Walmart",
           128
          ],
          [
           "paypal",
           "Travelers",
           943
          ],
          [
           "health",
           "United Continental Holdings",
           -573
          ],
          [
           "utility",
           "Hewlett Packard Enterprise",
           -881
          ],
          [
           "travel",
           "Walmart",
           -998
          ],
          [
           "unk",
           "Travelers",
           -371
          ],
          [
           "unk",
           "Travelers",
           53
          ],
          [
           "misc",
           "United Continental Holdings",
           331
          ],
          [
           "clothing",
           "Voya Financial",
           251
          ],
          [
           "grocery",
           "TIAA",
           -987
          ],
          [
           "tech",
           "Hanesbrands",
           -413
          ],
          [
           "grocery",
           "Travelers",
           -5
          ],
          [
           "health",
           "Omnicom Group",
           823
          ],
          [
           "health",
           "Travelers",
           -801
          ],
          [
           "unk",
           "Sysco",
           99
          ],
          [
           "invest",
           "Entergy",
           222
          ],
          [
           "tech",
           "Amazon.com",
           765
          ],
          [
           "unk",
           "Tapestry",
           -600
          ],
          [
           "utility",
           "TIAA",
           354
          ],
          [
           "invest",
           "Hershey",
           -296
          ],
          [
           "clothing",
           "Delta Air Lines",
           966
          ],
          [
           "utility",
           "Ulta Beauty",
           3
          ],
          [
           "health",
           "Sysco",
           879
          ],
          [
           "invest",
           "PPL",
           -960
          ],
          [
           "invest",
           "TIAA",
           296
          ],
          [
           "unk",
           "Omnicom Group",
           -19
          ],
          [
           "unk",
           "Amazon.com",
           -783
          ],
          [
           "invest",
           "Hanesbrands",
           -212
          ],
          [
           "paypal",
           "United Continental Holdings",
           -822
          ],
          [
           "tech",
           "Quest Diagnostics",
           -252
          ],
          [
           "invest",
           "Omnicom Group",
           430
          ],
          [
           "clothing",
           "Voya Financial",
           -996
          ],
          [
           "tech",
           "Amazon.com",
           196
          ],
          [
           "travel",
           "Delta Air Lines",
           620
          ],
          [
           "tech",
           "Amazon.com",
           -910
          ],
          [
           "grocery",
           "Ulta Beauty",
           -651
          ],
          [
           "health",
           "Ulta Beauty",
           519
          ],
          [
           "unk",
           "CBRE Group",
           320
          ],
          [
           "paypal",
           "Travelers",
           832
          ],
          [
           "paypal",
           "Hanesbrands",
           -420
          ],
          [
           "utility",
           "United Continental Holdings",
           828
          ],
          [
           "travel",
           "Entergy",
           913
          ],
          [
           "invest",
           "Sysco",
           454
          ],
          [
           "paypal",
           "PPL",
           -650
          ],
          [
           "grocery",
           "PPL",
           219
          ],
          [
           "debt",
           "Entergy",
           677
          ],
          [
           "grocery",
           "Walmart",
           -673
          ],
          [
           "invest",
           "Tapestry",
           258
          ],
          [
           "grocery",
           "Ulta Beauty",
           459
          ],
          [
           "grocery",
           "Sysco",
           -944
          ],
          [
           "invest",
           "Hershey",
           -366
          ],
          [
           "unk",
           "Ulta Beauty",
           -461
          ],
          [
           "invest",
           "Hanesbrands",
           -1000
          ],
          [
           "tech",
           "Sysco",
           -464
          ],
          [
           "travel",
           "CBRE Group",
           -307
          ],
          [
           "misc",
           "Sysco",
           -873
          ],
          [
           "health",
           "Visa",
           11
          ],
          [
           "unk",
           "Visa",
           16
          ],
          [
           "paypal",
           "Ulta Beauty",
           -536
          ],
          [
           "health",
           "TIAA",
           214
          ],
          [
           "misc",
           "CBRE Group",
           -38
          ],
          [
           "utility",
           "TIAA",
           238
          ],
          [
           "paypal",
           "Hanesbrands",
           -141
          ],
          [
           "invest",
           "Visa",
           -951
          ],
          [
           "invest",
           "Walmart",
           -954
          ],
          [
           "paypal",
           "Hanesbrands",
           281
          ],
          [
           "invest",
           "Walmart",
           -84
          ],
          [
           "tech",
           "Quest Diagnostics",
           230
          ],
          [
           "clothing",
           "Hershey",
           46
          ],
          [
           "travel",
           "Ulta Beauty",
           169
          ],
          [
           "grocery",
           "TIAA",
           -477
          ],
          [
           "clothing",
           "Travelers",
           623
          ],
          [
           "travel",
           "Hanesbrands",
           -782
          ],
          [
           "unk",
           "Visa",
           -313
          ],
          [
           "travel",
           "Cognizant Technology Solutions",
           436
          ],
          [
           "unk",
           "Ulta Beauty",
           621
          ],
          [
           "travel",
           "Voya Financial",
           19
          ],
          [
           "clothing",
           "Amazon.com",
           -646
          ],
          [
           "paypal",
           "PPL",
           -579
          ],
          [
           "debt",
           "Omnicom Group",
           -231
          ],
          [
           "invest",
           "Amazon.com",
           -267
          ],
          [
           "invest",
           "Amazon.com",
           -390
          ],
          [
           "health",
           "Omnicom Group",
           110
          ],
          [
           "unk",
           "Travelers",
           962
          ],
          [
           "debt",
           "Walmart",
           -30
          ],
          [
           "health",
           "Delta Air Lines",
           811
          ],
          [
           "paypal",
           "TIAA",
           -37
          ],
          [
           "tech",
           "Hewlett Packard Enterprise",
           -368
          ],
          [
           "unk",
           "Amazon.com",
           241
          ],
          [
           "health",
           "Amazon.com",
           -318
          ],
          [
           "unk",
           "PPL",
           203
          ],
          [
           "tech",
           "Travelers",
           -410
          ],
          [
           "grocery",
           "Visa",
           -945
          ],
          [
           "grocery",
           "Delta Air Lines",
           -883
          ],
          [
           "invest",
           "Voya Financial",
           -137
          ],
          [
           "invest",
           "Omnicom Group",
           759
          ],
          [
           "travel",
           "Amazon.com",
           -494
          ],
          [
           "invest",
           "TIAA",
           507
          ],
          [
           "grocery",
           "Hewlett Packard Enterprise",
           -168
          ],
          [
           "grocery",
           "Sysco",
           -905
          ],
          [
           "utility",
           "Cognizant Technology Solutions",
           147
          ],
          [
           "misc",
           "Tapestry",
           207
          ],
          [
           "unk",
           "Walmart",
           141
          ],
          [
           "health",
           "CBRE Group",
           210
          ],
          [
           "invest",
           "Entergy",
           -657
          ],
          [
           "tech",
           "TIAA",
           763
          ],
          [
           "grocery",
           "Hewlett Packard Enterprise",
           288
          ],
          [
           "invest",
           "Cognizant Technology Solutions",
           -460
          ],
          [
           "grocery",
           "TIAA",
           897
          ],
          [
           "invest",
           "Voya Financial",
           925
          ],
          [
           "invest",
           "Delta Air Lines",
           592
          ],
          [
           "debt",
           "Ulta Beauty",
           -286
          ],
          [
           "paypal",
           "Omnicom Group",
           -590
          ],
          [
           "health",
           "Omnicom Group",
           -813
          ],
          [
           "invest",
           "Travelers",
           -361
          ],
          [
           "utility",
           "Entergy",
           99
          ],
          [
           "clothing",
           "TIAA",
           384
          ],
          [
           "grocery",
           "Delta Air Lines",
           -274
          ],
          [
           "grocery",
           "Ulta Beauty",
           -211
          ],
          [
           "health",
           "Visa",
           329
          ],
          [
           "utility",
           "Ulta Beauty",
           423
          ],
          [
           "tech",
           "Tapestry",
           125
          ],
          [
           "unk",
           "Quest Diagnostics",
           -217
          ],
          [
           "unk",
           "Ulta Beauty",
           856
          ],
          [
           "travel",
           "United Continental Holdings",
           352
          ],
          [
           "misc",
           "Voya Financial",
           640
          ],
          [
           "misc",
           "Amazon.com",
           17
          ],
          [
           "unk",
           "Hewlett Packard Enterprise",
           350
          ],
          [
           "unk",
           "Sysco",
           109
          ],
          [
           "tech",
           "Tapestry",
           829
          ],
          [
           "misc",
           "United Continental Holdings",
           -887
          ],
          [
           "travel",
           "Entergy",
           -710
          ],
          [
           "debt",
           "Cognizant Technology Solutions",
           -657
          ],
          [
           "misc",
           "Omnicom Group",
           -153
          ],
          [
           "travel",
           "Delta Air Lines",
           254
          ],
          [
           "unk",
           "Hewlett Packard Enterprise",
           644
          ],
          [
           "tech",
           "Hewlett Packard Enterprise",
           -243
          ],
          [
           "invest",
           "Hewlett Packard Enterprise",
           653
          ],
          [
           "utility",
           "Visa",
           -626
          ],
          [
           "unk",
           "Voya Financial",
           -313
          ],
          [
           "invest",
           "Tapestry",
           -179
          ],
          [
           "tech",
           "Cognizant Technology Solutions",
           549
          ],
          [
           "clothing",
           "Sysco",
           -823
          ],
          [
           "invest",
           "Hanesbrands",
           -752
          ],
          [
           "unk",
           "Hanesbrands",
           -34
          ],
          [
           "travel",
           "Omnicom Group",
           969
          ],
          [
           "misc",
           "Visa",
           -822
          ],
          [
           "health",
           "Tapestry",
           -896
          ],
          [
           "misc",
           "Hanesbrands",
           901
          ],
          [
           "invest",
           "CBRE Group",
           460
          ],
          [
           "health",
           "Voya Financial",
           430
          ],
          [
           "invest",
           "TIAA",
           -657
          ],
          [
           "travel",
           "Amazon.com",
           -950
          ],
          [
           "unk",
           "Tapestry",
           555
          ],
          [
           "grocery",
           "Entergy",
           620
          ],
          [
           "paypal",
           "Ulta Beauty",
           771
          ],
          [
           "grocery",
           "Omnicom Group",
           -171
          ],
          [
           "tech",
           "United Continental Holdings",
           -581
          ],
          [
           "unk",
           "Hershey",
           91
          ],
          [
           "invest",
           "Travelers",
           -167
          ],
          [
           "travel",
           "Delta Air Lines",
           -480
          ],
          [
           "misc",
           "Hershey",
           931
          ],
          [
           "misc",
           "Hewlett Packard Enterprise",
           744
          ],
          [
           "debt",
           "TIAA",
           -940
          ],
          [
           "unk",
           "TIAA",
           -484
          ],
          [
           "clothing",
           "CBRE Group",
           -983
          ],
          [
           "misc",
           "Sysco",
           372
          ],
          [
           "travel",
           "Tapestry",
           39
          ],
          [
           "utility",
           "Entergy",
           -33
          ],
          [
           "misc",
           "Entergy",
           829
          ],
          [
           "utility",
           "Sysco",
           889
          ],
          [
           "paypal",
           "Ulta Beauty",
           -727
          ],
          [
           "travel",
           "Voya Financial",
           -363
          ],
          [
           "tech",
           "Amazon.com",
           -825
          ],
          [
           "travel",
           "Walmart",
           -199
          ],
          [
           "grocery",
           "Hanesbrands",
           -90
          ],
          [
           "clothing",
           "TIAA",
           -202
          ],
          [
           "unk",
           "United Continental Holdings",
           618
          ],
          [
           "clothing",
           "Travelers",
           319
          ],
          [
           "debt",
           "Sysco",
           -365
          ],
          [
           "misc",
           "Sysco",
           -497
          ],
          [
           "health",
           "Delta Air Lines",
           -605
          ],
          [
           "invest",
           "United Continental Holdings",
           690
          ],
          [
           "invest",
           "Hewlett Packard Enterprise",
           594
          ],
          [
           "misc",
           "TIAA",
           358
          ],
          [
           "grocery",
           "Delta Air Lines",
           50
          ],
          [
           "health",
           "Travelers",
           -409
          ],
          [
           "health",
           "Hewlett Packard Enterprise",
           -409
          ],
          [
           "unk",
           "Quest Diagnostics",
           518
          ],
          [
           "clothing",
           "TIAA",
           -609
          ],
          [
           "grocery",
           "Voya Financial",
           184
          ],
          [
           "tech",
           "TIAA",
           83
          ],
          [
           "utility",
           "Amazon.com",
           981
          ],
          [
           "invest",
           "Sysco",
           693
          ],
          [
           "misc",
           "CBRE Group",
           184
          ],
          [
           "invest",
           "Hershey",
           -538
          ],
          [
           "travel",
           "CBRE Group",
           -314
          ],
          [
           "grocery",
           "Hanesbrands",
           286
          ],
          [
           "health",
           "CBRE Group",
           -843
          ],
          [
           "health",
           "Hewlett Packard Enterprise",
           832
          ],
          [
           "health",
           "Ulta Beauty",
           -674
          ],
          [
           "paypal",
           "Amazon.com",
           278
          ],
          [
           "misc",
           "Voya Financial",
           740
          ],
          [
           "debt",
           "CBRE Group",
           -420
          ],
          [
           "health",
           "Cognizant Technology Solutions",
           -880
          ],
          [
           "paypal",
           "Quest Diagnostics",
           453
          ],
          [
           "invest",
           "Ulta Beauty",
           993
          ],
          [
           "misc",
           "Cognizant Technology Solutions",
           845
          ],
          [
           "grocery",
           "Walmart",
           26
          ],
          [
           "grocery",
           "PPL",
           370
          ],
          [
           "clothing",
           "Delta Air Lines",
           73
          ],
          [
           "utility",
           "Visa",
           -728
          ],
          [
           "misc",
           "United Continental Holdings",
           861
          ],
          [
           "utility",
           "United Continental Holdings",
           -652
          ],
          [
           "unk",
           "Walmart",
           265
          ],
          [
           "unk",
           "Travelers",
           832
          ],
          [
           "paypal",
           "PPL",
           38
          ],
          [
           "misc",
           "Ulta Beauty",
           824
          ],
          [
           "health",
           "Hewlett Packard Enterprise",
           312
          ],
          [
           "health",
           "Amazon.com",
           847
          ],
          [
           "invest",
           "Hewlett Packard Enterprise",
           -911
          ],
          [
           "invest",
           "TIAA",
           -68
          ],
          [
           "debt",
           "Walmart",
           86
          ],
          [
           "tech",
           "Hewlett Packard Enterprise",
           450
          ],
          [
           "clothing",
           "Ulta Beauty",
           -832
          ],
          [
           "tech",
           "TIAA",
           -339
          ],
          [
           "clothing",
           "Cognizant Technology Solutions",
           -711
          ],
          [
           "clothing",
           "Cognizant Technology Solutions",
           816
          ],
          [
           "misc",
           "Cognizant Technology Solutions",
           -830
          ],
          [
           "unk",
           "Sysco",
           -241
          ],
          [
           "misc",
           "PPL",
           -91
          ],
          [
           "grocery",
           "Travelers",
           -63
          ],
          [
           "utility",
           "Cognizant Technology Solutions",
           375
          ],
          [
           "tech",
           "United Continental Holdings",
           -125
          ],
          [
           "grocery",
           "Tapestry",
           880
          ],
          [
           "travel",
           "Hershey",
           -552
          ],
          [
           "health",
           "CBRE Group",
           570
          ],
          [
           "travel",
           "Cognizant Technology Solutions",
           -420
          ],
          [
           "travel",
           "CBRE Group",
           229
          ],
          [
           "travel",
           "Ulta Beauty",
           515
          ],
          [
           "misc",
           "Visa",
           -353
          ],
          [
           "unk",
           "Entergy",
           438
          ],
          [
           "travel",
           "Travelers",
           264
          ],
          [
           "tech",
           "Delta Air Lines",
           53
          ],
          [
           "travel",
           "Visa",
           676
          ],
          [
           "travel",
           "Amazon.com",
           948
          ],
          [
           "invest",
           "Delta Air Lines",
           -817
          ],
          [
           "travel",
           "Ulta Beauty",
           -775
          ],
          [
           "travel",
           "Tapestry",
           487
          ],
          [
           "tech",
           "Voya Financial",
           -634
          ],
          [
           "invest",
           "United Continental Holdings",
           -238
          ],
          [
           "health",
           "PPL",
           -227
          ],
          [
           "utility",
           "Entergy",
           -895
          ],
          [
           "grocery",
           "PPL",
           -902
          ],
          [
           "unk",
           "Quest Diagnostics",
           -995
          ],
          [
           "paypal",
           "Hanesbrands",
           324
          ],
          [
           "invest",
           "United Continental Holdings",
           498
          ],
          [
           "health",
           "Hershey",
           -836
          ],
          [
           "travel",
           "Sysco",
           455
          ],
          [
           "unk",
           "CBRE Group",
           -947
          ],
          [
           "health",
           "Amazon.com",
           813
          ],
          [
           "unk",
           "Walmart",
           -426
          ],
          [
           "invest",
           "Ulta Beauty",
           875
          ],
          [
           "grocery",
           "Tapestry",
           550
          ],
          [
           "health",
           "Hewlett Packard Enterprise",
           326
          ],
          [
           "health",
           "CBRE Group",
           547
          ],
          [
           "tech",
           "Travelers",
           381
          ],
          [
           "tech",
           "Travelers",
           224
          ],
          [
           "tech",
           "PPL",
           -73
          ],
          [
           "invest",
           "Voya Financial",
           278
          ],
          [
           "travel",
           "Hewlett Packard Enterprise",
           -998
          ],
          [
           "invest",
           "Visa",
           -669
          ],
          [
           "grocery",
           "Visa",
           -360
          ],
          [
           "grocery",
           "Cognizant Technology Solutions",
           740
          ],
          [
           "debt",
           "Cognizant Technology Solutions",
           -500
          ],
          [
           "unk",
           "Hanesbrands",
           929
          ],
          [
           "paypal",
           "Entergy",
           -271
          ],
          [
           "debt",
           "Tapestry",
           923
          ],
          [
           "invest",
           "Walmart",
           -675
          ],
          [
           "invest",
           "PPL",
           50
          ],
          [
           "travel",
           "United Continental Holdings",
           -301
          ],
          [
           "invest",
           "Sysco",
           -518
          ],
          [
           "misc",
           "TIAA",
           467
          ],
          [
           "debt",
           "Hanesbrands",
           -510
          ],
          [
           "debt",
           "Hershey",
           115
          ],
          [
           "health",
           "Voya Financial",
           508
          ],
          [
           "travel",
           "Delta Air Lines",
           271
          ],
          [
           "unk",
           "Hewlett Packard Enterprise",
           250
          ],
          [
           "tech",
           "Voya Financial",
           -584
          ],
          [
           "travel",
           "Voya Financial",
           -847
          ],
          [
           "unk",
           "Amazon.com",
           -80
          ],
          [
           "invest",
           "Quest Diagnostics",
           -634
          ],
          [
           "invest",
           "Ulta Beauty",
           573
          ],
          [
           "unk",
           "CBRE Group",
           -622
          ],
          [
           "tech",
           "Hershey",
           -220
          ],
          [
           "tech",
           "Hanesbrands",
           -86
          ],
          [
           "tech",
           "CBRE Group",
           843
          ],
          [
           "invest",
           "Sysco",
           -666
          ],
          [
           "debt",
           "Omnicom Group",
           -471
          ],
          [
           "unk",
           "Sysco",
           -660
          ],
          [
           "grocery",
           "United Continental Holdings",
           -333
          ],
          [
           "misc",
           "Entergy",
           -348
          ],
          [
           "utility",
           "Visa",
           807
          ],
          [
           "unk",
           "United Continental Holdings",
           -886
          ],
          [
           "debt",
           "TIAA",
           232
          ],
          [
           "misc",
           "Quest Diagnostics",
           795
          ],
          [
           "travel",
           "Ulta Beauty",
           -36
          ],
          [
           "misc",
           "TIAA",
           -144
          ],
          [
           "invest",
           "Omnicom Group",
           635
          ],
          [
           "health",
           "TIAA",
           -403
          ],
          [
           "invest",
           "Walmart",
           934
          ],
          [
           "unk",
           "Ulta Beauty",
           -776
          ],
          [
           "tech",
           "Hewlett Packard Enterprise",
           -211
          ],
          [
           "travel",
           "Omnicom Group",
           -471
          ],
          [
           "misc",
           "Hanesbrands",
           -895
          ],
          [
           "misc",
           "Travelers",
           -644
          ],
          [
           "invest",
           "Ulta Beauty",
           668
          ],
          [
           "misc",
           "Travelers",
           42
          ],
          [
           "health",
           "Voya Financial",
           522
          ],
          [
           "grocery",
           "CBRE Group",
           284
          ],
          [
           "health",
           "Visa",
           -825
          ],
          [
           "debt",
           "Hanesbrands",
           617
          ],
          [
           "debt",
           "Hewlett Packard Enterprise",
           142
          ],
          [
           "clothing",
           "Cognizant Technology Solutions",
           206
          ],
          [
           "clothing",
           "Travelers",
           -345
          ],
          [
           "misc",
           "TIAA",
           725
          ],
          [
           "grocery",
           "PPL",
           264
          ],
          [
           "clothing",
           "Hershey",
           837
          ],
          [
           "paypal",
           "Cognizant Technology Solutions",
           -198
          ],
          [
           "misc",
           "Walmart",
           121
          ],
          [
           "clothing",
           "Walmart",
           326
          ],
          [
           "grocery",
           "Quest Diagnostics",
           726
          ],
          [
           "tech",
           "Visa",
           -980
          ],
          [
           "tech",
           "United Continental Holdings",
           -282
          ],
          [
           "paypal",
           "Walmart",
           -986
          ],
          [
           "unk",
           "United Continental Holdings",
           -521
          ],
          [
           "invest",
           "Sysco",
           -575
          ],
          [
           "debt",
           "Amazon.com",
           986
          ],
          [
           "tech",
           "Quest Diagnostics",
           957
          ],
          [
           "travel",
           "Hanesbrands",
           -845
          ],
          [
           "invest",
           "United Continental Holdings",
           -384
          ],
          [
           "health",
           "Voya Financial",
           -97
          ],
          [
           "paypal",
           "CBRE Group",
           -266
          ],
          [
           "paypal",
           "Quest Diagnostics",
           322
          ],
          [
           "unk",
           "Hanesbrands",
           -172
          ],
          [
           "grocery",
           "Travelers",
           -89
          ],
          [
           "tech",
           "United Continental Holdings",
           704
          ],
          [
           "invest",
           "Entergy",
           284
          ],
          [
           "health",
           "United Continental Holdings",
           -949
          ],
          [
           "unk",
           "Walmart",
           998
          ],
          [
           "grocery",
           "Travelers",
           202
          ],
          [
           "grocery",
           "Sysco",
           804
          ],
          [
           "tech",
           "Omnicom Group",
           16
          ],
          [
           "unk",
           "Visa",
           11
          ],
          [
           "health",
           "Hanesbrands",
           433
          ],
          [
           "travel",
           "Visa",
           -241
          ],
          [
           "travel",
           "Visa",
           -883
          ],
          [
           "unk",
           "PPL",
           -880
          ],
          [
           "debt",
           "Hanesbrands",
           -778
          ],
          [
           "utility",
           "Omnicom Group",
           485
          ],
          [
           "invest",
           "Cognizant Technology Solutions",
           627
          ],
          [
           "unk",
           "Sysco",
           -984
          ],
          [
           "unk",
           "Omnicom Group",
           870
          ],
          [
           "invest",
           "Sysco",
           -850
          ],
          [
           "tech",
           "Sysco",
           -269
          ],
          [
           "tech",
           "Sysco",
           -548
          ],
          [
           "debt",
           "Entergy",
           -750
          ],
          [
           "unk",
           "Walmart",
           -736
          ],
          [
           "debt",
           "CBRE Group",
           887
          ],
          [
           "health",
           "Visa",
           938
          ],
          [
           "unk",
           "Tapestry",
           650
          ],
          [
           "travel",
           "Cognizant Technology Solutions",
           -12
          ],
          [
           "grocery",
           "Sysco",
           596
          ],
          [
           "clothing",
           "TIAA",
           616
          ],
          [
           "travel",
           "Cognizant Technology Solutions",
           -353
          ],
          [
           "misc",
           "United Continental Holdings",
           -910
          ],
          [
           "travel",
           "CBRE Group",
           -690
          ],
          [
           "misc",
           "United Continental Holdings",
           -529
          ],
          [
           "unk",
           "Tapestry",
           -769
          ],
          [
           "utility",
           "Tapestry",
           -965
          ],
          [
           "paypal",
           "Omnicom Group",
           377
          ],
          [
           "health",
           "Visa",
           -934
          ],
          [
           "unk",
           "CBRE Group",
           380
          ],
          [
           "health",
           "Tapestry",
           -210
          ],
          [
           "utility",
           "Travelers",
           12
          ],
          [
           "grocery",
           "Ulta Beauty",
           557
          ],
          [
           "unk",
           "Ulta Beauty",
           -795
          ],
          [
           "paypal",
           "TIAA",
           589
          ],
          [
           "misc",
           "Entergy",
           28
          ],
          [
           "utility",
           "Tapestry",
           -13
          ],
          [
           "clothing",
           "Entergy",
           -814
          ],
          [
           "utility",
           "Cognizant Technology Solutions",
           -632
          ],
          [
           "health",
           "Hanesbrands",
           822
          ],
          [
           "paypal",
           "Voya Financial",
           364
          ],
          [
           "health",
           "Tapestry",
           304
          ],
          [
           "misc",
           "Travelers",
           100
          ],
          [
           "grocery",
           "PPL",
           305
          ],
          [
           "health",
           "TIAA",
           636
          ],
          [
           "debt",
           "Travelers",
           -304
          ],
          [
           "utility",
           "Visa",
           -376
          ],
          [
           "grocery",
           "PPL",
           -59
          ],
          [
           "invest",
           "Entergy",
           -999
          ],
          [
           "clothing",
           "Hershey",
           -691
          ],
          [
           "tech",
           "TIAA",
           -851
          ],
          [
           "invest",
           "Sysco",
           -821
          ],
          [
           "travel",
           "Cognizant Technology Solutions",
           -110
          ],
          [
           "grocery",
           "Voya Financial",
           12
          ],
          [
           "health",
           "Ulta Beauty",
           751
          ],
          [
           "misc",
           "Ulta Beauty",
           384
          ],
          [
           "misc",
           "Voya Financial",
           551
          ],
          [
           "unk",
           "United Continental Holdings",
           609
          ],
          [
           "grocery",
           "Travelers",
           380
          ],
          [
           "paypal",
           "Delta Air Lines",
           205
          ],
          [
           "health",
           "Amazon.com",
           -981
          ],
          [
           "grocery",
           "Amazon.com",
           -75
          ],
          [
           "grocery",
           "Omnicom Group",
           480
          ],
          [
           "travel",
           "Sysco",
           -222
          ],
          [
           "health",
           "Delta Air Lines",
           -453
          ],
          [
           "unk",
           "Voya Financial",
           616
          ],
          [
           "unk",
           "Hershey",
           -415
          ],
          [
           "tech",
           "TIAA",
           -990
          ],
          [
           "invest",
           "Tapestry",
           -265
          ],
          [
           "unk",
           "United Continental Holdings",
           -919
          ],
          [
           "clothing",
           "Omnicom Group",
           -870
          ],
          [
           "unk",
           "Delta Air Lines",
           68
          ],
          [
           "unk",
           "Hershey",
           -987
          ],
          [
           "debt",
           "Quest Diagnostics",
           830
          ],
          [
           "grocery",
           "Voya Financial",
           664
          ],
          [
           "travel",
           "Entergy",
           -980
          ],
          [
           "misc",
           "Travelers",
           -264
          ],
          [
           "health",
           "Voya Financial",
           -42
          ],
          [
           "debt",
           "Hershey",
           -63
          ],
          [
           "paypal",
           "Amazon.com",
           68
          ],
          [
           "debt",
           "United Continental Holdings",
           669
          ],
          [
           "misc",
           "Voya Financial",
           663
          ],
          [
           "misc",
           "Hewlett Packard Enterprise",
           117
          ],
          [
           "unk",
           "Quest Diagnostics",
           818
          ],
          [
           "clothing",
           "Voya Financial",
           694
          ],
          [
           "invest",
           "Amazon.com",
           834
          ],
          [
           "health",
           "Tapestry",
           227
          ],
          [
           "tech",
           "Travelers",
           347
          ],
          [
           "invest",
           "Travelers",
           253
          ],
          [
           "tech",
           "Ulta Beauty",
           -809
          ],
          [
           "debt",
           "CBRE Group",
           -293
          ],
          [
           "utility",
           "Ulta Beauty",
           -267
          ],
          [
           "misc",
           "Quest Diagnostics",
           520
          ],
          [
           "clothing",
           "Cognizant Technology Solutions",
           -36
          ],
          [
           "unk",
           "Travelers",
           -604
          ],
          [
           "paypal",
           "Visa",
           -793
          ],
          [
           "misc",
           "Entergy",
           412
          ],
          [
           "paypal",
           "Hershey",
           548
          ],
          [
           "unk",
           "Quest Diagnostics",
           605
          ],
          [
           "clothing",
           "Entergy",
           309
          ],
          [
           "invest",
           "PPL",
           469
          ],
          [
           "travel",
           "Ulta Beauty",
           381
          ],
          [
           "misc",
           "Quest Diagnostics",
           -296
          ],
          [
           "debt",
           "Tapestry",
           -638
          ],
          [
           "utility",
           "Hershey",
           211
          ],
          [
           "travel",
           "Hanesbrands",
           385
          ],
          [
           "grocery",
           "Travelers",
           -881
          ],
          [
           "travel",
           "PPL",
           620
          ],
          [
           "tech",
           "Hershey",
           -356
          ],
          [
           "grocery",
           "Hershey",
           693
          ],
          [
           "utility",
           "Omnicom Group",
           378
          ],
          [
           "invest",
           "Voya Financial",
           415
          ],
          [
           "grocery",
           "Travelers",
           288
          ],
          [
           "paypal",
           "Quest Diagnostics",
           -413
          ],
          [
           "utility",
           "Omnicom Group",
           478
          ],
          [
           "invest",
           "Visa",
           -437
          ],
          [
           "debt",
           "Amazon.com",
           272
          ],
          [
           "misc",
           "Quest Diagnostics",
           589
          ],
          [
           "misc",
           "CBRE Group",
           -332
          ],
          [
           "travel",
           "Quest Diagnostics",
           919
          ],
          [
           "invest",
           "Sysco",
           650
          ],
          [
           "unk",
           "Hanesbrands",
           887
          ],
          [
           "misc",
           "TIAA",
           -687
          ],
          [
           "health",
           "Amazon.com",
           -847
          ],
          [
           "paypal",
           "Sysco",
           -951
          ],
          [
           "misc",
           "PPL",
           963
          ],
          [
           "invest",
           "Ulta Beauty",
           -647
          ],
          [
           "health",
           "Hewlett Packard Enterprise",
           -881
          ],
          [
           "grocery",
           "Cognizant Technology Solutions",
           -350
          ],
          [
           "misc",
           "Quest Diagnostics",
           -279
          ],
          [
           "health",
           "Walmart",
           863
          ],
          [
           "tech",
           "Amazon.com",
           24
          ],
          [
           "tech",
           "United Continental Holdings",
           173
          ],
          [
           "unk",
           "Travelers",
           563
          ],
          [
           "invest",
           "CBRE Group",
           973
          ],
          [
           "grocery",
           "Hanesbrands",
           841
          ],
          [
           "debt",
           "Amazon.com",
           41
          ],
          [
           "tech",
           "Quest Diagnostics",
           195
          ],
          [
           "misc",
           "Ulta Beauty",
           358
          ],
          [
           "travel",
           "Visa",
           -818
          ],
          [
           "grocery",
           "Cognizant Technology Solutions",
           701
          ],
          [
           "misc",
           "United Continental Holdings",
           943
          ],
          [
           "health",
           "Hewlett Packard Enterprise",
           -947
          ],
          [
           "health",
           "Hanesbrands",
           618
          ],
          [
           "invest",
           "TIAA",
           -729
          ],
          [
           "tech",
           "Tapestry",
           -748
          ],
          [
           "unk",
           "Entergy",
           235
          ],
          [
           "tech",
           "Sysco",
           592
          ],
          [
           "grocery",
           "Hanesbrands",
           658
          ],
          [
           "misc",
           "Quest Diagnostics",
           -1
          ],
          [
           "tech",
           "Tapestry",
           -823
          ],
          [
           "travel",
           "Delta Air Lines",
           779
          ],
          [
           "invest",
           "PPL",
           -444
          ],
          [
           "invest",
           "Hershey",
           998
          ],
          [
           "paypal",
           "Sysco",
           -675
          ],
          [
           "unk",
           "TIAA",
           897
          ],
          [
           "health",
           "Travelers",
           -322
          ],
          [
           "misc",
           "Omnicom Group",
           906
          ],
          [
           "utility",
           "Quest Diagnostics",
           -287
          ],
          [
           "health",
           "CBRE Group",
           -994
          ],
          [
           "unk",
           "Walmart",
           -575
          ],
          [
           "invest",
           "Hewlett Packard Enterprise",
           -818
          ],
          [
           "health",
           "PPL",
           -453
          ],
          [
           "invest",
           "Omnicom Group",
           999
          ],
          [
           "invest",
           "Visa",
           799
          ],
          [
           "tech",
           "Amazon.com",
           537
          ],
          [
           "health",
           "United Continental Holdings",
           970
          ],
          [
           "tech",
           "CBRE Group",
           -78
          ],
          [
           "tech",
           "Hewlett Packard Enterprise",
           -450
          ],
          [
           "travel",
           "Walmart",
           -413
          ],
          [
           "health",
           "Hewlett Packard Enterprise",
           206
          ],
          [
           "grocery",
           "Visa",
           -141
          ],
          [
           "health",
           "Cognizant Technology Solutions",
           -67
          ],
          [
           "health",
           "Visa",
           -373
          ],
          [
           "unk",
           "Walmart",
           -250
          ],
          [
           "invest",
           "CBRE Group",
           494
          ],
          [
           "health",
           "Ulta Beauty",
           -771
          ],
          [
           "unk",
           "Tapestry",
           -504
          ],
          [
           "unk",
           "CBRE Group",
           413
          ],
          [
           "misc",
           "Hanesbrands",
           245
          ],
          [
           "health",
           "Hershey",
           270
          ],
          [
           "health",
           "Walmart",
           -977
          ],
          [
           "travel",
           "Cognizant Technology Solutions",
           849
          ],
          [
           "travel",
           "Travelers",
           5
          ],
          [
           "tech",
           "TIAA",
           -565
          ],
          [
           "grocery",
           "Quest Diagnostics",
           19
          ],
          [
           "invest",
           "Voya Financial",
           -261
          ],
          [
           "paypal",
           "Voya Financial",
           -646
          ],
          [
           "health",
           "Walmart",
           -914
          ],
          [
           "health",
           "Hanesbrands",
           -734
          ],
          [
           "travel",
           "Entergy",
           549
          ],
          [
           "health",
           "United Continental Holdings",
           -615
          ],
          [
           "invest",
           "Entergy",
           482
          ],
          [
           "tech",
           "PPL",
           -69
          ],
          [
           "health",
           "Voya Financial",
           -844
          ],
          [
           "grocery",
           "Cognizant Technology Solutions",
           -173
          ],
          [
           "invest",
           "Hershey",
           913
          ],
          [
           "grocery",
           "Amazon.com",
           477
          ],
          [
           "grocery",
           "United Continental Holdings",
           217
          ],
          [
           "grocery",
           "TIAA",
           53
          ],
          [
           "unk",
           "Hanesbrands",
           678
          ],
          [
           "travel",
           "Hershey",
           324
          ],
          [
           "debt",
           "Walmart",
           162
          ],
          [
           "invest",
           "Hewlett Packard Enterprise",
           620
          ],
          [
           "utility",
           "Tapestry",
           -268
          ],
          [
           "health",
           "Voya Financial",
           -38
          ],
          [
           "travel",
           "CBRE Group",
           -476
          ],
          [
           "paypal",
           "Visa",
           -259
          ],
          [
           "grocery",
           "PPL",
           651
          ],
          [
           "health",
           "Cognizant Technology Solutions",
           714
          ],
          [
           "utility",
           "United Continental Holdings",
           -791
          ],
          [
           "unk",
           "Travelers",
           173
          ],
          [
           "invest",
           "Hanesbrands",
           276
          ],
          [
           "tech",
           "PPL",
           651
          ],
          [
           "misc",
           "Walmart",
           81
          ],
          [
           "unk",
           "Tapestry",
           775
          ],
          [
           "misc",
           "Walmart",
           -524
          ],
          [
           "tech",
           "Hewlett Packard Enterprise",
           925
          ],
          [
           "tech",
           "United Continental Holdings",
           -85
          ],
          [
           "invest",
           "Voya Financial",
           334
          ],
          [
           "tech",
           "Tapestry",
           582
          ],
          [
           "health",
           "Ulta Beauty",
           268
          ],
          [
           "travel",
           "Hershey",
           -447
          ],
          [
           "tech",
           "Cognizant Technology Solutions",
           -487
          ],
          [
           "grocery",
           "Travelers",
           684
          ],
          [
           "invest",
           "Quest Diagnostics",
           251
          ],
          [
           "clothing",
           "Delta Air Lines",
           -55
          ],
          [
           "misc",
           "Entergy",
           -968
          ],
          [
           "travel",
           "Visa",
           -455
          ],
          [
           "invest",
           "Quest Diagnostics",
           -767
          ],
          [
           "misc",
           "Amazon.com",
           -959
          ],
          [
           "invest",
           "Hanesbrands",
           914
          ],
          [
           "clothing",
           "Delta Air Lines",
           563
          ],
          [
           "grocery",
           "Walmart",
           920
          ],
          [
           "misc",
           "Entergy",
           654
          ],
          [
           "health",
           "Ulta Beauty",
           -747
          ],
          [
           "invest",
           "CBRE Group",
           -527
          ],
          [
           "invest",
           "Voya Financial",
           -995
          ],
          [
           "grocery",
           "Entergy",
           869
          ],
          [
           "utility",
           "Travelers",
           -198
          ],
          [
           "invest",
           "Travelers",
           902
          ],
          [
           "invest",
           "PPL",
           762
          ],
          [
           "unk",
           "Cognizant Technology Solutions",
           881
          ],
          [
           "debt",
           "United Continental Holdings",
           -578
          ],
          [
           "unk",
           "Hanesbrands",
           810
          ],
          [
           "misc",
           "Walmart",
           259
          ],
          [
           "travel",
           "Travelers",
           784
          ],
          [
           "debt",
           "Hewlett Packard Enterprise",
           653
          ],
          [
           "invest",
           "Delta Air Lines",
           -268
          ],
          [
           "travel",
           "Delta Air Lines",
           276
          ],
          [
           "paypal",
           "Amazon.com",
           -322
          ],
          [
           "grocery",
           "Delta Air Lines",
           181
          ],
          [
           "grocery",
           "Omnicom Group",
           62
          ],
          [
           "debt",
           "Ulta Beauty",
           47
          ],
          [
           "invest",
           "Quest Diagnostics",
           776
          ],
          [
           "paypal",
           "Hershey",
           972
          ],
          [
           "invest",
           "Tapestry",
           33
          ],
          [
           "utility",
           "Voya Financial",
           17
          ],
          [
           "misc",
           "CBRE Group",
           148
          ],
          [
           "invest",
           "TIAA",
           68
          ],
          [
           "travel",
           "Cognizant Technology Solutions",
           484
          ],
          [
           "unk",
           "Quest Diagnostics",
           944
          ],
          [
           "unk",
           "PPL",
           -506
          ],
          [
           "health",
           "Omnicom Group",
           -77
          ],
          [
           "clothing",
           "Ulta Beauty",
           293
          ],
          [
           "invest",
           "Voya Financial",
           -438
          ],
          [
           "clothing",
           "Travelers",
           753
          ],
          [
           "misc",
           "Hershey",
           -737
          ],
          [
           "tech",
           "Amazon.com",
           -755
          ],
          [
           "misc",
           "Amazon.com",
           366
          ],
          [
           "grocery",
           "Voya Financial",
           934
          ],
          [
           "debt",
           "Hanesbrands",
           245
          ],
          [
           "health",
           "Cognizant Technology Solutions",
           -784
          ],
          [
           "invest",
           "Omnicom Group",
           376
          ],
          [
           "health",
           "Omnicom Group",
           -109
          ],
          [
           "invest",
           "TIAA",
           458
          ],
          [
           "utility",
           "TIAA",
           -684
          ],
          [
           "paypal",
           "PPL",
           -479
          ],
          [
           "clothing",
           "Hanesbrands",
           -975
          ],
          [
           "debt",
           "Voya Financial",
           376
          ],
          [
           "tech",
           "Visa",
           852
          ]
         ],
         "hovertemplate": "Date=%{x}<br>Balance=%{y}<br>Category=%{customdata[0]}<br>Location=%{customdata[1]}<br>Delta=%{customdata[2]}<extra></extra>",
         "legendgroup": "",
         "line": {
          "color": "#636efa",
          "dash": "solid"
         },
         "marker": {
          "symbol": "circle"
         },
         "mode": "lines",
         "name": "",
         "orientation": "v",
         "showlegend": false,
         "type": "scatter",
         "x": [
          "2022-09-22T00:00:00",
          "2022-09-22T00:00:00",
          "2022-09-22T00:00:00",
          "2022-09-22T00:00:00",
          "2022-09-21T00:00:00",
          "2022-09-20T00:00:00",
          "2022-09-20T00:00:00",
          "2022-09-20T00:00:00",
          "2022-09-19T00:00:00",
          "2022-09-19T00:00:00",
          "2022-09-19T00:00:00",
          "2022-09-19T00:00:00",
          "2022-09-19T00:00:00",
          "2022-09-19T00:00:00",
          "2022-09-19T00:00:00",
          "2022-09-19T00:00:00",
          "2022-09-19T00:00:00",
          "2022-09-19T00:00:00",
          "2022-09-19T00:00:00",
          "2022-09-19T00:00:00",
          "2022-09-19T00:00:00",
          "2022-09-16T00:00:00",
          "2022-09-16T00:00:00",
          "2022-09-16T00:00:00",
          "2022-09-16T00:00:00",
          "2022-09-16T00:00:00",
          "2022-09-15T00:00:00",
          "2022-09-15T00:00:00",
          "2022-09-15T00:00:00",
          "2022-09-14T00:00:00",
          "2022-09-14T00:00:00",
          "2022-09-13T00:00:00",
          "2022-09-13T00:00:00",
          "2022-09-13T00:00:00",
          "2022-09-13T00:00:00",
          "2022-09-13T00:00:00",
          "2022-09-12T00:00:00",
          "2022-09-12T00:00:00",
          "2022-09-12T00:00:00",
          "2022-09-12T00:00:00",
          "2022-09-12T00:00:00",
          "2022-09-12T00:00:00",
          "2022-09-12T00:00:00",
          "2022-09-12T00:00:00",
          "2022-09-12T00:00:00",
          "2022-09-12T00:00:00",
          "2022-09-12T00:00:00",
          "2022-09-12T00:00:00",
          "2022-09-09T00:00:00",
          "2022-09-09T00:00:00",
          "2022-09-09T00:00:00",
          "2022-09-09T00:00:00",
          "2022-09-09T00:00:00",
          "2022-09-08T00:00:00",
          "2022-09-08T00:00:00",
          "2022-09-08T00:00:00",
          "2022-09-08T00:00:00",
          "2022-09-08T00:00:00",
          "2022-09-07T00:00:00",
          "2022-09-07T00:00:00",
          "2022-09-07T00:00:00",
          "2022-09-07T00:00:00",
          "2022-09-07T00:00:00",
          "2022-09-06T00:00:00",
          "2022-09-06T00:00:00",
          "2022-09-06T00:00:00",
          "2022-09-06T00:00:00",
          "2022-09-06T00:00:00",
          "2022-09-06T00:00:00",
          "2022-09-06T00:00:00",
          "2022-09-06T00:00:00",
          "2022-09-06T00:00:00",
          "2022-09-06T00:00:00",
          "2022-09-06T00:00:00",
          "2022-09-06T00:00:00",
          "2022-09-06T00:00:00",
          "2022-09-06T00:00:00",
          "2022-09-06T00:00:00",
          "2022-09-06T00:00:00",
          "2022-09-06T00:00:00",
          "2022-09-06T00:00:00",
          "2022-09-06T00:00:00",
          "2022-09-06T00:00:00",
          "2022-09-02T00:00:00",
          "2022-09-02T00:00:00",
          "2022-09-01T00:00:00",
          "2022-08-31T00:00:00",
          "2022-08-31T00:00:00",
          "2022-08-31T00:00:00",
          "2022-08-31T00:00:00",
          "2022-08-31T00:00:00",
          "2022-08-31T00:00:00",
          "2022-08-31T00:00:00",
          "2022-08-30T00:00:00",
          "2022-08-30T00:00:00",
          "2022-08-30T00:00:00",
          "2022-08-30T00:00:00",
          "2022-08-29T00:00:00",
          "2022-08-29T00:00:00",
          "2022-08-29T00:00:00",
          "2022-08-29T00:00:00",
          "2022-08-29T00:00:00",
          "2022-08-29T00:00:00",
          "2022-08-29T00:00:00",
          "2022-08-29T00:00:00",
          "2022-08-26T00:00:00",
          "2022-08-26T00:00:00",
          "2022-08-26T00:00:00",
          "2022-08-25T00:00:00",
          "2022-08-25T00:00:00",
          "2022-08-24T00:00:00",
          "2022-08-24T00:00:00",
          "2022-08-24T00:00:00",
          "2022-08-23T00:00:00",
          "2022-08-23T00:00:00",
          "2022-08-22T00:00:00",
          "2022-08-22T00:00:00",
          "2022-08-22T00:00:00",
          "2022-08-22T00:00:00",
          "2022-08-22T00:00:00",
          "2022-08-22T00:00:00",
          "2022-08-22T00:00:00",
          "2022-08-22T00:00:00",
          "2022-08-22T00:00:00",
          "2022-08-22T00:00:00",
          "2022-08-22T00:00:00",
          "2022-08-19T00:00:00",
          "2022-08-19T00:00:00",
          "2022-08-19T00:00:00",
          "2022-08-19T00:00:00",
          "2022-08-18T00:00:00",
          "2022-08-18T00:00:00",
          "2022-08-18T00:00:00",
          "2022-08-18T00:00:00",
          "2022-08-17T00:00:00",
          "2022-08-17T00:00:00",
          "2022-08-17T00:00:00",
          "2022-08-16T00:00:00",
          "2022-08-16T00:00:00",
          "2022-08-15T00:00:00",
          "2022-08-15T00:00:00",
          "2022-08-15T00:00:00",
          "2022-08-15T00:00:00",
          "2022-08-15T00:00:00",
          "2022-08-15T00:00:00",
          "2022-08-15T00:00:00",
          "2022-08-15T00:00:00",
          "2022-08-15T00:00:00",
          "2022-08-15T00:00:00",
          "2022-08-12T00:00:00",
          "2022-08-12T00:00:00",
          "2022-08-11T00:00:00",
          "2022-08-11T00:00:00",
          "2022-08-10T00:00:00",
          "2022-08-10T00:00:00",
          "2022-08-10T00:00:00",
          "2022-08-10T00:00:00",
          "2022-08-10T00:00:00",
          "2022-08-09T00:00:00",
          "2022-08-09T00:00:00",
          "2022-08-09T00:00:00",
          "2022-08-09T00:00:00",
          "2022-08-08T00:00:00",
          "2022-08-08T00:00:00",
          "2022-08-08T00:00:00",
          "2022-08-08T00:00:00",
          "2022-08-08T00:00:00",
          "2022-08-08T00:00:00",
          "2022-08-08T00:00:00",
          "2022-08-08T00:00:00",
          "2022-08-08T00:00:00",
          "2022-08-05T00:00:00",
          "2022-08-05T00:00:00",
          "2022-08-04T00:00:00",
          "2022-08-03T00:00:00",
          "2022-08-03T00:00:00",
          "2022-08-02T00:00:00",
          "2022-08-02T00:00:00",
          "2022-08-02T00:00:00",
          "2022-08-02T00:00:00",
          "2022-08-02T00:00:00",
          "2022-08-01T00:00:00",
          "2022-08-01T00:00:00",
          "2022-08-01T00:00:00",
          "2022-08-01T00:00:00",
          "2022-08-01T00:00:00",
          "2022-08-01T00:00:00",
          "2022-08-01T00:00:00",
          "2022-08-01T00:00:00",
          "2022-08-01T00:00:00",
          "2022-08-01T00:00:00",
          "2022-07-29T00:00:00",
          "2022-07-29T00:00:00",
          "2022-07-29T00:00:00",
          "2022-07-29T00:00:00",
          "2022-07-29T00:00:00",
          "2022-07-29T00:00:00",
          "2022-07-29T00:00:00",
          "2022-07-28T00:00:00",
          "2022-07-28T00:00:00",
          "2022-07-27T00:00:00",
          "2022-07-27T00:00:00",
          "2022-07-27T00:00:00",
          "2022-07-26T00:00:00",
          "2022-07-26T00:00:00",
          "2022-07-25T00:00:00",
          "2022-07-25T00:00:00",
          "2022-07-25T00:00:00",
          "2022-07-25T00:00:00",
          "2022-07-25T00:00:00",
          "2022-07-22T00:00:00",
          "2022-07-22T00:00:00",
          "2022-07-22T00:00:00",
          "2022-07-22T00:00:00",
          "2022-07-21T00:00:00",
          "2022-07-21T00:00:00",
          "2022-07-20T00:00:00",
          "2022-07-19T00:00:00",
          "2022-07-19T00:00:00",
          "2022-07-19T00:00:00",
          "2022-07-19T00:00:00",
          "2022-07-19T00:00:00",
          "2022-07-18T00:00:00",
          "2022-07-18T00:00:00",
          "2022-07-18T00:00:00",
          "2022-07-18T00:00:00",
          "2022-07-18T00:00:00",
          "2022-07-18T00:00:00",
          "2022-07-18T00:00:00",
          "2022-07-18T00:00:00",
          "2022-07-18T00:00:00",
          "2022-07-18T00:00:00",
          "2022-07-18T00:00:00",
          "2022-07-15T00:00:00",
          "2022-07-15T00:00:00",
          "2022-07-15T00:00:00",
          "2022-07-15T00:00:00",
          "2022-07-15T00:00:00",
          "2022-07-14T00:00:00",
          "2022-07-14T00:00:00",
          "2022-07-13T00:00:00",
          "2022-07-13T00:00:00",
          "2022-07-12T00:00:00",
          "2022-07-12T00:00:00",
          "2022-07-11T00:00:00",
          "2022-07-11T00:00:00",
          "2022-07-11T00:00:00",
          "2022-07-11T00:00:00",
          "2022-07-11T00:00:00",
          "2022-07-11T00:00:00",
          "2022-07-11T00:00:00",
          "2022-07-08T00:00:00",
          "2022-07-08T00:00:00",
          "2022-07-08T00:00:00",
          "2022-07-08T00:00:00",
          "2022-07-08T00:00:00",
          "2022-07-05T00:00:00",
          "2022-07-05T00:00:00",
          "2022-07-05T00:00:00",
          "2022-07-05T00:00:00",
          "2022-07-05T00:00:00",
          "2022-07-05T00:00:00",
          "2022-07-05T00:00:00",
          "2022-07-05T00:00:00",
          "2022-07-01T00:00:00",
          "2022-07-01T00:00:00",
          "2022-07-01T00:00:00",
          "2022-06-30T00:00:00",
          "2022-06-30T00:00:00",
          "2022-06-30T00:00:00",
          "2022-06-29T00:00:00",
          "2022-06-29T00:00:00",
          "2022-06-28T00:00:00",
          "2022-06-28T00:00:00",
          "2022-06-28T00:00:00",
          "2022-06-27T00:00:00",
          "2022-06-27T00:00:00",
          "2022-06-27T00:00:00",
          "2022-06-27T00:00:00",
          "2022-06-27T00:00:00",
          "2022-06-27T00:00:00",
          "2022-06-27T00:00:00",
          "2022-06-27T00:00:00",
          "2022-06-27T00:00:00",
          "2022-06-24T00:00:00",
          "2022-06-24T00:00:00",
          "2022-06-23T00:00:00",
          "2022-06-23T00:00:00",
          "2022-06-22T00:00:00",
          "2022-06-22T00:00:00",
          "2022-06-22T00:00:00",
          "2022-06-22T00:00:00",
          "2022-06-21T00:00:00",
          "2022-06-21T00:00:00",
          "2022-06-21T00:00:00",
          "2022-06-21T00:00:00",
          "2022-06-21T00:00:00",
          "2022-06-21T00:00:00",
          "2022-06-21T00:00:00",
          "2022-06-21T00:00:00",
          "2022-06-21T00:00:00",
          "2022-06-21T00:00:00",
          "2022-06-21T00:00:00",
          "2022-06-21T00:00:00",
          "2022-06-17T00:00:00",
          "2022-06-17T00:00:00",
          "2022-06-17T00:00:00",
          "2022-06-17T00:00:00",
          "2022-06-16T00:00:00",
          "2022-06-16T00:00:00",
          "2022-06-16T00:00:00",
          "2022-06-16T00:00:00",
          "2022-06-16T00:00:00",
          "2022-06-15T00:00:00",
          "2022-06-15T00:00:00",
          "2022-06-14T00:00:00",
          "2022-06-14T00:00:00",
          "2022-06-13T00:00:00",
          "2022-06-13T00:00:00",
          "2022-06-13T00:00:00",
          "2022-06-13T00:00:00",
          "2022-06-13T00:00:00",
          "2022-06-13T00:00:00",
          "2022-06-10T00:00:00",
          "2022-06-10T00:00:00",
          "2022-06-09T00:00:00",
          "2022-06-09T00:00:00",
          "2022-06-08T00:00:00",
          "2022-06-07T00:00:00",
          "2022-06-07T00:00:00",
          "2022-06-06T00:00:00",
          "2022-06-06T00:00:00",
          "2022-06-06T00:00:00",
          "2022-06-06T00:00:00",
          "2022-06-06T00:00:00",
          "2022-06-06T00:00:00",
          "2022-06-06T00:00:00",
          "2022-06-06T00:00:00",
          "2022-06-06T00:00:00",
          "2022-06-06T00:00:00",
          "2022-06-03T00:00:00",
          "2022-06-03T00:00:00",
          "2022-06-02T00:00:00",
          "2022-06-02T00:00:00",
          "2022-06-02T00:00:00",
          "2022-06-02T00:00:00",
          "2022-06-01T00:00:00",
          "2022-06-01T00:00:00",
          "2022-06-01T00:00:00",
          "2022-05-31T00:00:00",
          "2022-05-31T00:00:00",
          "2022-05-31T00:00:00",
          "2022-05-31T00:00:00",
          "2022-05-31T00:00:00",
          "2022-05-31T00:00:00",
          "2022-05-31T00:00:00",
          "2022-05-27T00:00:00",
          "2022-05-27T00:00:00",
          "2022-05-27T00:00:00",
          "2022-05-27T00:00:00",
          "2022-05-26T00:00:00",
          "2022-05-26T00:00:00",
          "2022-05-25T00:00:00",
          "2022-05-24T00:00:00",
          "2022-05-23T00:00:00",
          "2022-05-23T00:00:00",
          "2022-05-23T00:00:00",
          "2022-05-23T00:00:00",
          "2022-05-23T00:00:00",
          "2022-05-23T00:00:00",
          "2022-05-23T00:00:00",
          "2022-05-23T00:00:00",
          "2022-05-23T00:00:00",
          "2022-05-20T00:00:00",
          "2022-05-20T00:00:00",
          "2022-05-20T00:00:00",
          "2022-05-19T00:00:00",
          "2022-05-19T00:00:00",
          "2022-05-18T00:00:00",
          "2022-05-18T00:00:00",
          "2022-05-18T00:00:00",
          "2022-05-17T00:00:00",
          "2022-05-17T00:00:00",
          "2022-05-16T00:00:00",
          "2022-05-16T00:00:00",
          "2022-05-16T00:00:00",
          "2022-05-16T00:00:00",
          "2022-05-16T00:00:00",
          "2022-05-16T00:00:00",
          "2022-05-16T00:00:00",
          "2022-05-13T00:00:00",
          "2022-05-13T00:00:00",
          "2022-05-12T00:00:00",
          "2022-05-11T00:00:00",
          "2022-05-11T00:00:00",
          "2022-05-11T00:00:00",
          "2022-05-10T00:00:00",
          "2022-05-10T00:00:00",
          "2022-05-09T00:00:00",
          "2022-05-09T00:00:00",
          "2022-05-09T00:00:00",
          "2022-05-09T00:00:00",
          "2022-05-09T00:00:00",
          "2022-05-09T00:00:00",
          "2022-05-09T00:00:00",
          "2022-05-09T00:00:00",
          "2022-05-09T00:00:00",
          "2022-05-09T00:00:00",
          "2022-05-09T00:00:00",
          "2022-05-09T00:00:00",
          "2022-05-06T00:00:00",
          "2022-05-06T00:00:00",
          "2022-05-05T00:00:00",
          "2022-05-05T00:00:00",
          "2022-05-03T00:00:00",
          "2022-05-03T00:00:00",
          "2022-05-03T00:00:00",
          "2022-05-02T00:00:00",
          "2022-05-02T00:00:00",
          "2022-05-02T00:00:00",
          "2022-05-02T00:00:00",
          "2022-05-02T00:00:00",
          "2022-05-02T00:00:00",
          "2022-05-02T00:00:00",
          "2022-05-02T00:00:00",
          "2022-05-02T00:00:00",
          "2022-05-02T00:00:00",
          "2022-05-02T00:00:00",
          "2022-04-29T00:00:00",
          "2022-04-29T00:00:00",
          "2022-04-29T00:00:00",
          "2022-04-29T00:00:00",
          "2022-04-29T00:00:00",
          "2022-04-29T00:00:00",
          "2022-04-29T00:00:00",
          "2022-04-29T00:00:00",
          "2022-04-29T00:00:00",
          "2022-04-29T00:00:00",
          "2022-04-29T00:00:00",
          "2022-04-29T00:00:00",
          "2022-04-28T00:00:00",
          "2022-04-28T00:00:00",
          "2022-04-28T00:00:00",
          "2022-04-28T00:00:00",
          "2022-04-28T00:00:00",
          "2022-04-28T00:00:00",
          "2022-04-28T00:00:00",
          "2022-04-28T00:00:00",
          "2022-04-28T00:00:00",
          "2022-04-28T00:00:00",
          "2022-04-27T00:00:00",
          "2022-04-27T00:00:00",
          "2022-04-27T00:00:00",
          "2022-04-27T00:00:00",
          "2022-04-27T00:00:00",
          "2022-04-27T00:00:00",
          "2022-04-27T00:00:00",
          "2022-04-26T00:00:00",
          "2022-04-26T00:00:00",
          "2022-04-26T00:00:00",
          "2022-04-26T00:00:00",
          "2022-04-25T00:00:00",
          "2022-04-25T00:00:00",
          "2022-04-25T00:00:00",
          "2022-04-25T00:00:00",
          "2022-04-25T00:00:00",
          "2022-04-25T00:00:00",
          "2022-04-25T00:00:00",
          "2022-04-25T00:00:00",
          "2022-04-25T00:00:00",
          "2022-04-25T00:00:00",
          "2022-04-22T00:00:00",
          "2022-04-22T00:00:00",
          "2022-04-22T00:00:00",
          "2022-04-21T00:00:00",
          "2022-04-21T00:00:00",
          "2022-04-21T00:00:00",
          "2022-04-20T00:00:00",
          "2022-04-20T00:00:00",
          "2022-04-20T00:00:00",
          "2022-04-19T00:00:00",
          "2022-04-19T00:00:00",
          "2022-04-19T00:00:00",
          "2022-04-19T00:00:00",
          "2022-04-19T00:00:00",
          "2022-04-18T00:00:00",
          "2022-04-18T00:00:00",
          "2022-04-18T00:00:00",
          "2022-04-18T00:00:00",
          "2022-04-15T00:00:00",
          "2022-04-15T00:00:00",
          "2022-04-15T00:00:00",
          "2022-04-14T00:00:00",
          "2022-04-14T00:00:00",
          "2022-04-14T00:00:00",
          "2022-04-14T00:00:00",
          "2022-04-13T00:00:00",
          "2022-04-12T00:00:00",
          "2022-04-12T00:00:00",
          "2022-04-12T00:00:00",
          "2022-04-11T00:00:00",
          "2022-04-11T00:00:00",
          "2022-04-11T00:00:00",
          "2022-04-11T00:00:00",
          "2022-04-11T00:00:00",
          "2022-04-11T00:00:00",
          "2022-04-11T00:00:00",
          "2022-04-11T00:00:00",
          "2022-04-11T00:00:00",
          "2022-04-11T00:00:00",
          "2022-04-11T00:00:00",
          "2022-04-11T00:00:00",
          "2022-04-08T00:00:00",
          "2022-04-08T00:00:00",
          "2022-04-08T00:00:00",
          "2022-04-07T00:00:00",
          "2022-04-07T00:00:00",
          "2022-04-07T00:00:00",
          "2022-04-06T00:00:00",
          "2022-04-05T00:00:00",
          "2022-04-05T00:00:00",
          "2022-04-05T00:00:00",
          "2022-04-05T00:00:00",
          "2022-04-04T00:00:00",
          "2022-04-04T00:00:00",
          "2022-04-04T00:00:00",
          "2022-04-04T00:00:00",
          "2022-04-04T00:00:00",
          "2022-04-04T00:00:00",
          "2022-04-04T00:00:00",
          "2022-04-01T00:00:00",
          "2022-03-31T00:00:00",
          "2022-03-31T00:00:00",
          "2022-03-31T00:00:00",
          "2022-03-30T00:00:00",
          "2022-03-30T00:00:00",
          "2022-03-28T00:00:00",
          "2022-03-28T00:00:00",
          "2022-03-28T00:00:00",
          "2022-03-28T00:00:00",
          "2022-03-25T00:00:00",
          "2022-03-24T00:00:00",
          "2022-03-24T00:00:00",
          "2022-03-23T00:00:00",
          "2022-03-22T00:00:00",
          "2022-03-22T00:00:00",
          "2022-03-22T00:00:00",
          "2022-03-22T00:00:00",
          "2022-03-22T00:00:00",
          "2022-03-21T00:00:00",
          "2022-03-21T00:00:00",
          "2022-03-21T00:00:00",
          "2022-03-21T00:00:00",
          "2022-03-21T00:00:00",
          "2022-03-21T00:00:00",
          "2022-03-21T00:00:00",
          "2022-03-18T00:00:00",
          "2022-03-18T00:00:00",
          "2022-03-18T00:00:00",
          "2022-03-18T00:00:00",
          "2022-03-18T00:00:00",
          "2022-03-17T00:00:00",
          "2022-03-16T00:00:00",
          "2022-03-16T00:00:00",
          "2022-03-16T00:00:00",
          "2022-03-16T00:00:00",
          "2022-03-15T00:00:00",
          "2022-03-15T00:00:00",
          "2022-03-14T00:00:00",
          "2022-03-14T00:00:00",
          "2022-03-14T00:00:00",
          "2022-03-14T00:00:00",
          "2022-03-14T00:00:00",
          "2022-03-14T00:00:00",
          "2022-03-14T00:00:00",
          "2022-03-14T00:00:00",
          "2022-03-14T00:00:00",
          "2022-03-11T00:00:00",
          "2022-03-11T00:00:00",
          "2022-03-11T00:00:00",
          "2022-03-11T00:00:00",
          "2022-03-10T00:00:00",
          "2022-03-09T00:00:00",
          "2022-03-07T00:00:00",
          "2022-03-07T00:00:00",
          "2022-03-07T00:00:00",
          "2022-03-07T00:00:00",
          "2022-03-07T00:00:00",
          "2022-03-07T00:00:00",
          "2022-03-04T00:00:00",
          "2022-03-04T00:00:00",
          "2022-03-03T00:00:00",
          "2022-03-03T00:00:00",
          "2022-03-03T00:00:00",
          "2022-03-02T00:00:00",
          "2022-03-02T00:00:00",
          "2022-03-02T00:00:00",
          "2022-03-01T00:00:00",
          "2022-03-01T00:00:00",
          "2022-03-01T00:00:00",
          "2022-03-01T00:00:00",
          "2022-02-28T00:00:00",
          "2022-02-28T00:00:00",
          "2022-02-28T00:00:00",
          "2022-02-28T00:00:00",
          "2022-02-25T00:00:00",
          "2022-02-25T00:00:00",
          "2022-02-25T00:00:00",
          "2022-02-25T00:00:00",
          "2022-02-25T00:00:00",
          "2022-02-25T00:00:00",
          "2022-02-24T00:00:00",
          "2022-02-23T00:00:00",
          "2022-01-24T00:00:00",
          "2022-01-24T00:00:00",
          "2022-01-24T00:00:00",
          "2022-01-24T00:00:00",
          "2022-01-24T00:00:00",
          "2022-01-24T00:00:00",
          "2022-01-24T00:00:00",
          "2022-01-21T00:00:00",
          "2022-01-21T00:00:00",
          "2022-01-21T00:00:00",
          "2022-01-20T00:00:00",
          "2022-01-20T00:00:00",
          "2022-01-20T00:00:00",
          "2022-01-19T00:00:00",
          "2022-01-19T00:00:00",
          "2022-01-18T00:00:00",
          "2022-01-18T00:00:00",
          "2022-01-18T00:00:00",
          "2022-01-18T00:00:00",
          "2022-01-18T00:00:00",
          "2022-01-18T00:00:00",
          "2022-01-18T00:00:00",
          "2022-01-18T00:00:00",
          "2022-01-18T00:00:00",
          "2022-01-18T00:00:00",
          "2022-01-14T00:00:00",
          "2022-01-14T00:00:00",
          "2022-01-13T00:00:00",
          "2022-01-13T00:00:00",
          "2022-01-13T00:00:00",
          "2022-01-12T00:00:00",
          "2022-01-11T00:00:00",
          "2022-01-10T00:00:00",
          "2022-01-10T00:00:00",
          "2022-01-10T00:00:00",
          "2022-01-07T00:00:00",
          "2022-01-07T00:00:00",
          "2022-01-06T00:00:00",
          "2022-01-05T00:00:00",
          "2022-01-03T00:00:00",
          "2022-01-03T00:00:00",
          "2022-01-03T00:00:00",
          "2022-01-03T00:00:00",
          "2022-01-03T00:00:00",
          "2022-01-03T00:00:00"
         ],
         "xaxis": "x",
         "y": [
          1236,
          3286,
          1882,
          2382,
          3856,
          3368,
          4186,
          3333,
          2586,
          1841,
          2570,
          3399,
          2489,
          2211,
          2321,
          1886,
          1979,
          2929,
          2109,
          2106,
          2946,
          604,
          390,
          548,
          676,
          1619,
          922,
          1495,
          2376,
          3374,
          3745,
          5097,
          4766,
          3697,
          4684,
          3692,
          3884,
          3083,
          3182,
          3404,
          3923,
          2804,
          3158,
          2667,
          3633,
          3636,
          4515,
          2963,
          3061,
          2765,
          2784,
          3567,
          3779,
          3785,
          4037,
          3607,
          3981,
          4601,
          4603,
          5513,
          6164,
          5645,
          5325,
          6505,
          8700,
          7872,
          6959,
          6702,
          6925,
          6706,
          6029,
          9417,
          9159,
          4493,
          9051,
          8590,
          7590,
          7126,
          6819,
          5946,
          5957,
          5973,
          5437,
          7390,
          7352,
          7176,
          6892,
          7033,
          7984,
          8938,
          8657,
          8741,
          6938,
          8511,
          8342,
          8819,
          8196,
          10701,
          10374,
          10995,
          11014,
          10055,
          9476,
          9245,
          8978,
          9938,
          10328,
          10218,
          9256,
          9286,
          8602,
          8475,
          8843,
          8639,
          8957,
          8966,
          9637,
          8754,
          8617,
          9376,
          10582,
          9473,
          9659,
          8754,
          9620,
          9827,
          10313,
          10172,
          9962,
          11076,
          9257,
          8797,
          9694,
          10619,
          9559,
          8967,
          8969,
          9253,
          10066,
          8888,
          8945,
          8671,
          8460,
          8789,
          9311,
          9436,
          9219,
          10075,
          10427,
          8561,
          7921,
          7904,
          7554,
          9852,
          8965,
          8255,
          7598,
          7445,
          9023,
          8769,
          8125,
          8368,
          9120,
          8807,
          9177,
          9356,
          8571,
          8425,
          7715,
          9394,
          7749,
          9746,
          10642,
          9741,
          9281,
          8851,
          9679,
          10629,
          10074,
          9454,
          9508,
          9974,
          10271,
          10104,
          9624,
          10555,
          10718,
          10150,
          9666,
          8683,
          11090,
          12095,
          10338,
          12056,
          11227,
          11368,
          11005,
          10180,
          10371,
          10570,
          10660,
          10862,
          10244,
          9925,
          10290,
          9095,
          9785,
          10379,
          10737,
          10787,
          9700,
          10109,
          10518,
          10000,
          10609,
          10425,
          10342,
          9927,
          9234,
          9361,
          9613,
          9899,
          6857,
          7689,
          7015,
          7293,
          8033,
          7613,
          6733,
          7212,
          8205,
          9050,
          6759,
          7491,
          7121,
          7048,
          8352,
          7700,
          7776,
          7511,
          6679,
          6641,
          5817,
          5505,
          6072,
          6004,
          6090,
          6540,
          5708,
          4658,
          4997,
          6983,
          6230,
          7060,
          7301,
          6167,
          6498,
          5795,
          6675,
          6123,
          7068,
          7163,
          7392,
          7583,
          5920,
          6273,
          5835,
          4623,
          4570,
          5571,
          4669,
          3894,
          5486,
          4999,
          5633,
          6701,
          6928,
          8494,
          7499,
          7823,
          7199,
          6363,
          6818,
          5871,
          9396,
          8583,
          9009,
          8134,
          6979,
          6653,
          7584,
          7203,
          5650,
          7010,
          6012,
          5343,
          5723,
          6083,
          5150,
          6079,
          5808,
          6731,
          6056,
          6106,
          6732,
          7033,
          7551,
          7084,
          7657,
          7542,
          8178,
          7907,
          7594,
          7034,
          7881,
          7961,
          8595,
          8316,
          9024,
          8938,
          9159,
          8493,
          8022,
          9244,
          9904,
          10237,
          10585,
          9778,
          9869,
          10664,
          12634,
          11504,
          12139,
          11736,
          12670,
          9637,
          12423,
          10413,
          11528,
          10884,
          11606,
          11648,
          10938,
          10416,
          10132,
          10957,
          10340,
          10198,
          9992,
          9164,
          7602,
          8439,
          7338,
          9285,
          9611,
          10337,
          9043,
          10023,
          7536,
          8522,
          10305,
          10880,
          9894,
          8937,
          9782,
          10166,
          10263,
          10529,
          10207,
          10379,
          10468,
          9764,
          9480,
          9423,
          10429,
          10227,
          8414,
          8425,
          8398,
          7965,
          8206,
          9089,
          9969,
          11544,
          12043,
          11059,
          10747,
          10694,
          10425,
          9877,
          11416,
          12166,
          12902,
          12015,
          11089,
          11077,
          10439,
          9843,
          10567,
          12908,
          12218,
          11689,
          10920,
          9045,
          10944,
          10010,
          9425,
          9215,
          9227,
          13818,
          12672,
          13261,
          13467,
          13439,
          13262,
          12630,
          13452,
          16416,
          15951,
          16051,
          16356,
          14076,
          16052,
          16040,
          15981,
          14982,
          14291,
          13440,
          13441,
          13331,
          13343,
          14094,
          14478,
          15029,
          15638,
          15442,
          15647,
          14657,
          15062,
          15137,
          14262,
          14484,
          14937,
          15308,
          15723,
          16713,
          16978,
          17897,
          18767,
          14321,
          19000,
          19150,
          18170,
          18694,
          18958,
          18699,
          18762,
          18486,
          17817,
          17154,
          17037,
          15443,
          16277,
          16504,
          16851,
          17104,
          16295,
          15966,
          15699,
          16219,
          16259,
          14749,
          15353,
          16146,
          14820,
          15734,
          15129,
          14568,
          14099,
          14272,
          13718,
          14356,
          14145,
          13760,
          14641,
          13228,
          13584,
          14021,
          13643,
          12891,
          12603,
          13016,
          12009,
          12281,
          12870,
          12538,
          12446,
          11527,
          10877,
          9990,
          10677,
          11524,
          12475,
          11512,
          12159,
          13040,
          13390,
          13669,
          12806,
          12782,
          12609,
          12046,
          10837,
          10878,
          11073,
          9996,
          9638,
          10456,
          9755,
          10289,
          11236,
          9560,
          8812,
          10618,
          10383,
          9791,
          9133,
          9134,
          9957,
          9178,
          9622,
          8946,
          9621,
          8624,
          8724,
          7818,
          8105,
          9099,
          9674,
          10492,
          10945,
          9409,
          9946,
          8610,
          7640,
          7718,
          8168,
          8581,
          8375,
          9507,
          9134,
          8884,
          9378,
          9020,
          8516,
          9791,
          9574,
          9329,
          9059,
          10036,
          9187,
          9182,
          9747,
          9728,
          9989,
          10635,
          11549,
          12283,
          10436,
          10074,
          11051,
          9592,
          11120,
          10987,
          11734,
          11204,
          11257,
          10511,
          9833,
          11293,
          11131,
          9509,
          9777,
          9815,
          10291,
          10377,
          9726,
          9012,
          10550,
          9803,
          9527,
          8876,
          8795,
          8020,
          8210,
          7285,
          8544,
          7857,
          7275,
          7007,
          7370,
          7454,
          6770,
          6519,
          6574,
          5145,
          6559,
          5600,
          6622,
          5708,
          7542,
          7326,
          6672,
          5198,
          4203,
          5072,
          5776,
          5974,
          7419,
          6657,
          5725,
          6303,
          5493,
          5234,
          4450,
          3797,
          4065,
          3789,
          3361,
          2357,
          2404,
          3180,
          2295,
          3394,
          3895,
          4043,
          4111,
          3878,
          1323,
          379,
          885,
          962,
          669,
          1107,
          354,
          -209,
          1091,
          725,
          546,
          301,
          1085,
          709,
          818,
          360,
          1044,
          1523,
          2498,
          2122
         ],
         "yaxis": "y"
        }
       ],
       "layout": {
        "height": 600,
        "legend": {
         "tracegroupgap": 0
        },
        "margin": {
         "t": 60
        },
        "template": {
         "data": {
          "bar": [
           {
            "error_x": {
             "color": "#f2f5fa"
            },
            "error_y": {
             "color": "#f2f5fa"
            },
            "marker": {
             "line": {
              "color": "rgb(17,17,17)",
              "width": 0.5
             },
             "pattern": {
              "fillmode": "overlay",
              "size": 10,
              "solidity": 0.2
             }
            },
            "type": "bar"
           }
          ],
          "barpolar": [
           {
            "marker": {
             "line": {
              "color": "rgb(17,17,17)",
              "width": 0.5
             },
             "pattern": {
              "fillmode": "overlay",
              "size": 10,
              "solidity": 0.2
             }
            },
            "type": "barpolar"
           }
          ],
          "carpet": [
           {
            "aaxis": {
             "endlinecolor": "#A2B1C6",
             "gridcolor": "#506784",
             "linecolor": "#506784",
             "minorgridcolor": "#506784",
             "startlinecolor": "#A2B1C6"
            },
            "baxis": {
             "endlinecolor": "#A2B1C6",
             "gridcolor": "#506784",
             "linecolor": "#506784",
             "minorgridcolor": "#506784",
             "startlinecolor": "#A2B1C6"
            },
            "type": "carpet"
           }
          ],
          "choropleth": [
           {
            "colorbar": {
             "outlinewidth": 0,
             "ticks": ""
            },
            "type": "choropleth"
           }
          ],
          "contour": [
           {
            "colorbar": {
             "outlinewidth": 0,
             "ticks": ""
            },
            "colorscale": [
             [
              0,
              "#0d0887"
             ],
             [
              0.1111111111111111,
              "#46039f"
             ],
             [
              0.2222222222222222,
              "#7201a8"
             ],
             [
              0.3333333333333333,
              "#9c179e"
             ],
             [
              0.4444444444444444,
              "#bd3786"
             ],
             [
              0.5555555555555556,
              "#d8576b"
             ],
             [
              0.6666666666666666,
              "#ed7953"
             ],
             [
              0.7777777777777778,
              "#fb9f3a"
             ],
             [
              0.8888888888888888,
              "#fdca26"
             ],
             [
              1,
              "#f0f921"
             ]
            ],
            "type": "contour"
           }
          ],
          "contourcarpet": [
           {
            "colorbar": {
             "outlinewidth": 0,
             "ticks": ""
            },
            "type": "contourcarpet"
           }
          ],
          "heatmap": [
           {
            "colorbar": {
             "outlinewidth": 0,
             "ticks": ""
            },
            "colorscale": [
             [
              0,
              "#0d0887"
             ],
             [
              0.1111111111111111,
              "#46039f"
             ],
             [
              0.2222222222222222,
              "#7201a8"
             ],
             [
              0.3333333333333333,
              "#9c179e"
             ],
             [
              0.4444444444444444,
              "#bd3786"
             ],
             [
              0.5555555555555556,
              "#d8576b"
             ],
             [
              0.6666666666666666,
              "#ed7953"
             ],
             [
              0.7777777777777778,
              "#fb9f3a"
             ],
             [
              0.8888888888888888,
              "#fdca26"
             ],
             [
              1,
              "#f0f921"
             ]
            ],
            "type": "heatmap"
           }
          ],
          "heatmapgl": [
           {
            "colorbar": {
             "outlinewidth": 0,
             "ticks": ""
            },
            "colorscale": [
             [
              0,
              "#0d0887"
             ],
             [
              0.1111111111111111,
              "#46039f"
             ],
             [
              0.2222222222222222,
              "#7201a8"
             ],
             [
              0.3333333333333333,
              "#9c179e"
             ],
             [
              0.4444444444444444,
              "#bd3786"
             ],
             [
              0.5555555555555556,
              "#d8576b"
             ],
             [
              0.6666666666666666,
              "#ed7953"
             ],
             [
              0.7777777777777778,
              "#fb9f3a"
             ],
             [
              0.8888888888888888,
              "#fdca26"
             ],
             [
              1,
              "#f0f921"
             ]
            ],
            "type": "heatmapgl"
           }
          ],
          "histogram": [
           {
            "marker": {
             "pattern": {
              "fillmode": "overlay",
              "size": 10,
              "solidity": 0.2
             }
            },
            "type": "histogram"
           }
          ],
          "histogram2d": [
           {
            "colorbar": {
             "outlinewidth": 0,
             "ticks": ""
            },
            "colorscale": [
             [
              0,
              "#0d0887"
             ],
             [
              0.1111111111111111,
              "#46039f"
             ],
             [
              0.2222222222222222,
              "#7201a8"
             ],
             [
              0.3333333333333333,
              "#9c179e"
             ],
             [
              0.4444444444444444,
              "#bd3786"
             ],
             [
              0.5555555555555556,
              "#d8576b"
             ],
             [
              0.6666666666666666,
              "#ed7953"
             ],
             [
              0.7777777777777778,
              "#fb9f3a"
             ],
             [
              0.8888888888888888,
              "#fdca26"
             ],
             [
              1,
              "#f0f921"
             ]
            ],
            "type": "histogram2d"
           }
          ],
          "histogram2dcontour": [
           {
            "colorbar": {
             "outlinewidth": 0,
             "ticks": ""
            },
            "colorscale": [
             [
              0,
              "#0d0887"
             ],
             [
              0.1111111111111111,
              "#46039f"
             ],
             [
              0.2222222222222222,
              "#7201a8"
             ],
             [
              0.3333333333333333,
              "#9c179e"
             ],
             [
              0.4444444444444444,
              "#bd3786"
             ],
             [
              0.5555555555555556,
              "#d8576b"
             ],
             [
              0.6666666666666666,
              "#ed7953"
             ],
             [
              0.7777777777777778,
              "#fb9f3a"
             ],
             [
              0.8888888888888888,
              "#fdca26"
             ],
             [
              1,
              "#f0f921"
             ]
            ],
            "type": "histogram2dcontour"
           }
          ],
          "mesh3d": [
           {
            "colorbar": {
             "outlinewidth": 0,
             "ticks": ""
            },
            "type": "mesh3d"
           }
          ],
          "parcoords": [
           {
            "line": {
             "colorbar": {
              "outlinewidth": 0,
              "ticks": ""
             }
            },
            "type": "parcoords"
           }
          ],
          "pie": [
           {
            "automargin": true,
            "type": "pie"
           }
          ],
          "scatter": [
           {
            "marker": {
             "line": {
              "color": "#283442"
             }
            },
            "type": "scatter"
           }
          ],
          "scatter3d": [
           {
            "line": {
             "colorbar": {
              "outlinewidth": 0,
              "ticks": ""
             }
            },
            "marker": {
             "colorbar": {
              "outlinewidth": 0,
              "ticks": ""
             }
            },
            "type": "scatter3d"
           }
          ],
          "scattercarpet": [
           {
            "marker": {
             "colorbar": {
              "outlinewidth": 0,
              "ticks": ""
             }
            },
            "type": "scattercarpet"
           }
          ],
          "scattergeo": [
           {
            "marker": {
             "colorbar": {
              "outlinewidth": 0,
              "ticks": ""
             }
            },
            "type": "scattergeo"
           }
          ],
          "scattergl": [
           {
            "marker": {
             "line": {
              "color": "#283442"
             }
            },
            "type": "scattergl"
           }
          ],
          "scattermapbox": [
           {
            "marker": {
             "colorbar": {
              "outlinewidth": 0,
              "ticks": ""
             }
            },
            "type": "scattermapbox"
           }
          ],
          "scatterpolar": [
           {
            "marker": {
             "colorbar": {
              "outlinewidth": 0,
              "ticks": ""
             }
            },
            "type": "scatterpolar"
           }
          ],
          "scatterpolargl": [
           {
            "marker": {
             "colorbar": {
              "outlinewidth": 0,
              "ticks": ""
             }
            },
            "type": "scatterpolargl"
           }
          ],
          "scatterternary": [
           {
            "marker": {
             "colorbar": {
              "outlinewidth": 0,
              "ticks": ""
             }
            },
            "type": "scatterternary"
           }
          ],
          "surface": [
           {
            "colorbar": {
             "outlinewidth": 0,
             "ticks": ""
            },
            "colorscale": [
             [
              0,
              "#0d0887"
             ],
             [
              0.1111111111111111,
              "#46039f"
             ],
             [
              0.2222222222222222,
              "#7201a8"
             ],
             [
              0.3333333333333333,
              "#9c179e"
             ],
             [
              0.4444444444444444,
              "#bd3786"
             ],
             [
              0.5555555555555556,
              "#d8576b"
             ],
             [
              0.6666666666666666,
              "#ed7953"
             ],
             [
              0.7777777777777778,
              "#fb9f3a"
             ],
             [
              0.8888888888888888,
              "#fdca26"
             ],
             [
              1,
              "#f0f921"
             ]
            ],
            "type": "surface"
           }
          ],
          "table": [
           {
            "cells": {
             "fill": {
              "color": "#506784"
             },
             "line": {
              "color": "rgb(17,17,17)"
             }
            },
            "header": {
             "fill": {
              "color": "#2a3f5f"
             },
             "line": {
              "color": "rgb(17,17,17)"
             }
            },
            "type": "table"
           }
          ]
         },
         "layout": {
          "annotationdefaults": {
           "arrowcolor": "#f2f5fa",
           "arrowhead": 0,
           "arrowwidth": 1
          },
          "autotypenumbers": "strict",
          "coloraxis": {
           "colorbar": {
            "outlinewidth": 0,
            "ticks": ""
           }
          },
          "colorscale": {
           "diverging": [
            [
             0,
             "#8e0152"
            ],
            [
             0.1,
             "#c51b7d"
            ],
            [
             0.2,
             "#de77ae"
            ],
            [
             0.3,
             "#f1b6da"
            ],
            [
             0.4,
             "#fde0ef"
            ],
            [
             0.5,
             "#f7f7f7"
            ],
            [
             0.6,
             "#e6f5d0"
            ],
            [
             0.7,
             "#b8e186"
            ],
            [
             0.8,
             "#7fbc41"
            ],
            [
             0.9,
             "#4d9221"
            ],
            [
             1,
             "#276419"
            ]
           ],
           "sequential": [
            [
             0,
             "#0d0887"
            ],
            [
             0.1111111111111111,
             "#46039f"
            ],
            [
             0.2222222222222222,
             "#7201a8"
            ],
            [
             0.3333333333333333,
             "#9c179e"
            ],
            [
             0.4444444444444444,
             "#bd3786"
            ],
            [
             0.5555555555555556,
             "#d8576b"
            ],
            [
             0.6666666666666666,
             "#ed7953"
            ],
            [
             0.7777777777777778,
             "#fb9f3a"
            ],
            [
             0.8888888888888888,
             "#fdca26"
            ],
            [
             1,
             "#f0f921"
            ]
           ],
           "sequentialminus": [
            [
             0,
             "#0d0887"
            ],
            [
             0.1111111111111111,
             "#46039f"
            ],
            [
             0.2222222222222222,
             "#7201a8"
            ],
            [
             0.3333333333333333,
             "#9c179e"
            ],
            [
             0.4444444444444444,
             "#bd3786"
            ],
            [
             0.5555555555555556,
             "#d8576b"
            ],
            [
             0.6666666666666666,
             "#ed7953"
            ],
            [
             0.7777777777777778,
             "#fb9f3a"
            ],
            [
             0.8888888888888888,
             "#fdca26"
            ],
            [
             1,
             "#f0f921"
            ]
           ]
          },
          "colorway": [
           "#636efa",
           "#EF553B",
           "#00cc96",
           "#ab63fa",
           "#FFA15A",
           "#19d3f3",
           "#FF6692",
           "#B6E880",
           "#FF97FF",
           "#FECB52"
          ],
          "font": {
           "color": "#f2f5fa"
          },
          "geo": {
           "bgcolor": "rgb(17,17,17)",
           "lakecolor": "rgb(17,17,17)",
           "landcolor": "rgb(17,17,17)",
           "showlakes": true,
           "showland": true,
           "subunitcolor": "#506784"
          },
          "hoverlabel": {
           "align": "left"
          },
          "hovermode": "closest",
          "mapbox": {
           "style": "dark"
          },
          "paper_bgcolor": "rgb(17,17,17)",
          "plot_bgcolor": "rgb(17,17,17)",
          "polar": {
           "angularaxis": {
            "gridcolor": "#506784",
            "linecolor": "#506784",
            "ticks": ""
           },
           "bgcolor": "rgb(17,17,17)",
           "radialaxis": {
            "gridcolor": "#506784",
            "linecolor": "#506784",
            "ticks": ""
           }
          },
          "scene": {
           "xaxis": {
            "backgroundcolor": "rgb(17,17,17)",
            "gridcolor": "#506784",
            "gridwidth": 2,
            "linecolor": "#506784",
            "showbackground": true,
            "ticks": "",
            "zerolinecolor": "#C8D4E3"
           },
           "yaxis": {
            "backgroundcolor": "rgb(17,17,17)",
            "gridcolor": "#506784",
            "gridwidth": 2,
            "linecolor": "#506784",
            "showbackground": true,
            "ticks": "",
            "zerolinecolor": "#C8D4E3"
           },
           "zaxis": {
            "backgroundcolor": "rgb(17,17,17)",
            "gridcolor": "#506784",
            "gridwidth": 2,
            "linecolor": "#506784",
            "showbackground": true,
            "ticks": "",
            "zerolinecolor": "#C8D4E3"
           }
          },
          "shapedefaults": {
           "line": {
            "color": "#f2f5fa"
           }
          },
          "sliderdefaults": {
           "bgcolor": "#C8D4E3",
           "bordercolor": "rgb(17,17,17)",
           "borderwidth": 1,
           "tickwidth": 0
          },
          "ternary": {
           "aaxis": {
            "gridcolor": "#506784",
            "linecolor": "#506784",
            "ticks": ""
           },
           "baxis": {
            "gridcolor": "#506784",
            "linecolor": "#506784",
            "ticks": ""
           },
           "bgcolor": "rgb(17,17,17)",
           "caxis": {
            "gridcolor": "#506784",
            "linecolor": "#506784",
            "ticks": ""
           }
          },
          "title": {
           "x": 0.05
          },
          "updatemenudefaults": {
           "bgcolor": "#506784",
           "borderwidth": 0
          },
          "xaxis": {
           "automargin": true,
           "gridcolor": "#283442",
           "linecolor": "#506784",
           "ticks": "",
           "title": {
            "standoff": 15
           },
           "zerolinecolor": "#283442",
           "zerolinewidth": 2
          },
          "yaxis": {
           "automargin": true,
           "gridcolor": "#283442",
           "linecolor": "#506784",
           "ticks": "",
           "title": {
            "standoff": 15
           },
           "zerolinecolor": "#283442",
           "zerolinewidth": 2
          }
         }
        },
        "xaxis": {
         "anchor": "y",
         "domain": [
          0,
          1
         ],
         "title": {
          "text": "Date"
         }
        },
        "yaxis": {
         "anchor": "x",
         "domain": [
          0,
          1
         ],
         "title": {
          "text": "Balance"
         }
        }
       }
      }
     },
     "metadata": {},
     "output_type": "display_data"
    }
   ],
   "source": [
    "make_linegraph(df_07days,'7 days')\n",
    "make_linegraph(df_30days,'30 days')\n",
    "make_linegraph(df_90days,'90 days')\n",
    "make_linegraph(df_year,'Year')"
   ]
  },
  {
   "cell_type": "markdown",
   "metadata": {},
   "source": [
    "# 📈 Scatter-Graph"
   ]
  },
  {
   "cell_type": "code",
   "execution_count": 62,
   "metadata": {},
   "outputs": [],
   "source": [
    "def make_scattergraph(df,title):\n",
    "    display(HTML('<h2> 📈 Scatter-Graph: ' + title + '</h2>'))\n",
    "    display(HTML('from {0}'.format(df.Date.min())))\n",
    "    display(HTML('to {0}'.format(df.Date.max())))\n",
    "    # display(HTML('total {0}'.format(df['Delta'].sum())))\n",
    "\n",
    "    temp = df.copy() # for 3 weeks\n",
    "    temp = temp[temp['Delta'] < 0.0]\n",
    "    temp['Delta'] = abs(temp['Delta'])\n",
    "    temp = temp[temp['Delta'] != 0.0]\n",
    "\n",
    "    display(HTML('total {0}'.format(df['Delta'].sum())))\n",
    "    \n",
    "    temp['size'] = 0.0\n",
    "    temp['size'] = temp['Delta']\n",
    "    # temp.loc[temp['size'] >= 1000,'size'] = 1000\n",
    "    # temp.loc[temp['size'] < 1,'size'] = 1\n",
    "    \n",
    "\n",
    "    # display(temp)\n",
    "    \n",
    "    fig = px.scatter(\n",
    "        temp,\n",
    "        y='Balance',\n",
    "        x='Date',\n",
    "        size='size',\n",
    "        color='Category',\n",
    "        # color='Delta',\n",
    "        hover_data=['Date','Category','Location','Delta'],\n",
    "        template = plotly_theme,\n",
    "        height=1000,\n",
    "        size_max=100,\n",
    "        opacity=0.80,\n",
    "    )\n",
    "    \n",
    "    fig.update_traces(\n",
    "        marker=dict(\n",
    "        # size=12,\n",
    "        line=dict(\n",
    "            width=1,\n",
    "            color='white',\n",
    "            )\n",
    "        ),\n",
    "        selector=dict(mode='markers')\n",
    "    )\n",
    "    \n",
    "    fig.show()"
   ]
  },
  {
   "cell_type": "code",
   "execution_count": 63,
   "metadata": {},
   "outputs": [
    {
     "data": {
      "text/html": [
       "<h2> 📈 Scatter-Graph: 7 days</h2>"
      ],
      "text/plain": [
       "<IPython.core.display.HTML object>"
      ]
     },
     "metadata": {},
     "output_type": "display_data"
    },
    {
     "data": {
      "text/html": [
       "from 2022-09-15 00:00:00"
      ],
      "text/plain": [
       "<IPython.core.display.HTML object>"
      ]
     },
     "metadata": {},
     "output_type": "display_data"
    },
    {
     "data": {
      "text/html": [
       "to 2022-09-22 00:00:00"
      ],
      "text/plain": [
       "<IPython.core.display.HTML object>"
      ]
     },
     "metadata": {},
     "output_type": "display_data"
    },
    {
     "data": {
      "text/html": [
       "total -2138"
      ],
      "text/plain": [
       "<IPython.core.display.HTML object>"
      ]
     },
     "metadata": {},
     "output_type": "display_data"
    },
    {
     "data": {
      "application/vnd.plotly.v1+json": {
       "config": {
        "plotlyServerURL": "https://plot.ly"
       },
       "data": [
        {
         "customdata": [
          [
           "health",
           "Hewlett Packard Enterprise",
           646
          ],
          [
           "health",
           "Hewlett Packard Enterprise",
           500
          ],
          [
           "health",
           "Walmart",
           214
          ],
          [
           "health",
           "United Continental Holdings",
           573
          ]
         ],
         "hovertemplate": "Category=%{customdata[0]}<br>Date=%{x}<br>Balance=%{y}<br>size=%{marker.size}<br>Location=%{customdata[1]}<br>Delta=%{customdata[2]}<extra></extra>",
         "legendgroup": "health",
         "marker": {
          "color": "#636efa",
          "line": {
           "color": "white",
           "width": 1
          },
          "opacity": 0.8,
          "size": [
           646,
           500,
           214,
           573
          ],
          "sizemode": "area",
          "sizeref": 0.0998,
          "symbol": "circle"
         },
         "mode": "markers",
         "name": "health",
         "orientation": "v",
         "showlegend": true,
         "type": "scatter",
         "x": [
          "2022-09-22T00:00:00",
          "2022-09-22T00:00:00",
          "2022-09-16T00:00:00",
          "2022-09-15T00:00:00"
         ],
         "xaxis": "x",
         "y": [
          1236,
          1882,
          390,
          922
         ],
         "yaxis": "y"
        },
        {
         "customdata": [
          [
           "invest",
           "Travelers",
           904
          ],
          [
           "invest",
           "Hershey",
           435
          ]
         ],
         "hovertemplate": "Category=%{customdata[0]}<br>Date=%{x}<br>Balance=%{y}<br>size=%{marker.size}<br>Location=%{customdata[1]}<br>Delta=%{customdata[2]}<extra></extra>",
         "legendgroup": "invest",
         "marker": {
          "color": "#EF553B",
          "line": {
           "color": "white",
           "width": 1
          },
          "opacity": 0.8,
          "size": [
           904,
           435
          ],
          "sizemode": "area",
          "sizeref": 0.0998,
          "symbol": "circle"
         },
         "mode": "markers",
         "name": "invest",
         "orientation": "v",
         "showlegend": true,
         "type": "scatter",
         "x": [
          "2022-09-22T00:00:00",
          "2022-09-19T00:00:00"
         ],
         "xaxis": "x",
         "y": [
          2382,
          1886
         ],
         "yaxis": "y"
        },
        {
         "customdata": [
          [
           "unk",
           "Voya Financial",
           570
          ],
          [
           "unk",
           "Walmart",
           820
          ]
         ],
         "hovertemplate": "Category=%{customdata[0]}<br>Date=%{x}<br>Balance=%{y}<br>size=%{marker.size}<br>Location=%{customdata[1]}<br>Delta=%{customdata[2]}<extra></extra>",
         "legendgroup": "unk",
         "marker": {
          "color": "#00cc96",
          "line": {
           "color": "white",
           "width": 1
          },
          "opacity": 0.8,
          "size": [
           570,
           820
          ],
          "sizemode": "area",
          "sizeref": 0.0998,
          "symbol": "circle"
         },
         "mode": "markers",
         "name": "unk",
         "orientation": "v",
         "showlegend": true,
         "type": "scatter",
         "x": [
          "2022-09-22T00:00:00",
          "2022-09-19T00:00:00"
         ],
         "xaxis": "x",
         "y": [
          3286,
          2109
         ],
         "yaxis": "y"
        },
        {
         "customdata": [
          [
           "clothing",
           "Voya Financial",
           818
          ]
         ],
         "hovertemplate": "Category=%{customdata[0]}<br>Date=%{x}<br>Balance=%{y}<br>size=%{marker.size}<br>Location=%{customdata[1]}<br>Delta=%{customdata[2]}<extra></extra>",
         "legendgroup": "clothing",
         "marker": {
          "color": "#ab63fa",
          "line": {
           "color": "white",
           "width": 1
          },
          "opacity": 0.8,
          "size": [
           818
          ],
          "sizemode": "area",
          "sizeref": 0.0998,
          "symbol": "circle"
         },
         "mode": "markers",
         "name": "clothing",
         "orientation": "v",
         "showlegend": true,
         "type": "scatter",
         "x": [
          "2022-09-20T00:00:00"
         ],
         "xaxis": "x",
         "y": [
          3368
         ],
         "yaxis": "y"
        },
        {
         "customdata": [
          [
           "misc",
           "Delta Air Lines",
           3
          ]
         ],
         "hovertemplate": "Category=%{customdata[0]}<br>Date=%{x}<br>Balance=%{y}<br>size=%{marker.size}<br>Location=%{customdata[1]}<br>Delta=%{customdata[2]}<extra></extra>",
         "legendgroup": "misc",
         "marker": {
          "color": "#FFA15A",
          "line": {
           "color": "white",
           "width": 1
          },
          "opacity": 0.8,
          "size": [
           3
          ],
          "sizemode": "area",
          "sizeref": 0.0998,
          "symbol": "circle"
         },
         "mode": "markers",
         "name": "misc",
         "orientation": "v",
         "showlegend": true,
         "type": "scatter",
         "x": [
          "2022-09-19T00:00:00"
         ],
         "xaxis": "x",
         "y": [
          2106
         ],
         "yaxis": "y"
        },
        {
         "customdata": [
          [
           "grocery",
           "Travelers",
           278
          ]
         ],
         "hovertemplate": "Category=%{customdata[0]}<br>Date=%{x}<br>Balance=%{y}<br>size=%{marker.size}<br>Location=%{customdata[1]}<br>Delta=%{customdata[2]}<extra></extra>",
         "legendgroup": "grocery",
         "marker": {
          "color": "#19d3f3",
          "line": {
           "color": "white",
           "width": 1
          },
          "opacity": 0.8,
          "size": [
           278
          ],
          "sizemode": "area",
          "sizeref": 0.0998,
          "symbol": "circle"
         },
         "mode": "markers",
         "name": "grocery",
         "orientation": "v",
         "showlegend": true,
         "type": "scatter",
         "x": [
          "2022-09-19T00:00:00"
         ],
         "xaxis": "x",
         "y": [
          2211
         ],
         "yaxis": "y"
        },
        {
         "customdata": [
          [
           "travel",
           "Cognizant Technology Solutions",
           910
          ],
          [
           "travel",
           "Walmart",
           745
          ],
          [
           "travel",
           "Walmart",
           318
          ],
          [
           "travel",
           "Walmart",
           998
          ]
         ],
         "hovertemplate": "Category=%{customdata[0]}<br>Date=%{x}<br>Balance=%{y}<br>size=%{marker.size}<br>Location=%{customdata[1]}<br>Delta=%{customdata[2]}<extra></extra>",
         "legendgroup": "travel",
         "marker": {
          "color": "#FF6692",
          "line": {
           "color": "white",
           "width": 1
          },
          "opacity": 0.8,
          "size": [
           910,
           745,
           318,
           998
          ],
          "sizemode": "area",
          "sizeref": 0.0998,
          "symbol": "circle"
         },
         "mode": "markers",
         "name": "travel",
         "orientation": "v",
         "showlegend": true,
         "type": "scatter",
         "x": [
          "2022-09-19T00:00:00",
          "2022-09-19T00:00:00",
          "2022-09-16T00:00:00",
          "2022-09-15T00:00:00"
         ],
         "xaxis": "x",
         "y": [
          2489,
          1841,
          604,
          2376
         ],
         "yaxis": "y"
        },
        {
         "customdata": [
          [
           "utility",
           "Hewlett Packard Enterprise",
           881
          ]
         ],
         "hovertemplate": "Category=%{customdata[0]}<br>Date=%{x}<br>Balance=%{y}<br>size=%{marker.size}<br>Location=%{customdata[1]}<br>Delta=%{customdata[2]}<extra></extra>",
         "legendgroup": "utility",
         "marker": {
          "color": "#B6E880",
          "line": {
           "color": "white",
           "width": 1
          },
          "opacity": 0.8,
          "size": [
           881
          ],
          "sizemode": "area",
          "sizeref": 0.0998,
          "symbol": "circle"
         },
         "mode": "markers",
         "name": "utility",
         "orientation": "v",
         "showlegend": true,
         "type": "scatter",
         "x": [
          "2022-09-15T00:00:00"
         ],
         "xaxis": "x",
         "y": [
          1495
         ],
         "yaxis": "y"
        }
       ],
       "layout": {
        "height": 1000,
        "legend": {
         "itemsizing": "constant",
         "title": {
          "text": "Category"
         },
         "tracegroupgap": 0
        },
        "margin": {
         "t": 60
        },
        "template": {
         "data": {
          "bar": [
           {
            "error_x": {
             "color": "#f2f5fa"
            },
            "error_y": {
             "color": "#f2f5fa"
            },
            "marker": {
             "line": {
              "color": "rgb(17,17,17)",
              "width": 0.5
             },
             "pattern": {
              "fillmode": "overlay",
              "size": 10,
              "solidity": 0.2
             }
            },
            "type": "bar"
           }
          ],
          "barpolar": [
           {
            "marker": {
             "line": {
              "color": "rgb(17,17,17)",
              "width": 0.5
             },
             "pattern": {
              "fillmode": "overlay",
              "size": 10,
              "solidity": 0.2
             }
            },
            "type": "barpolar"
           }
          ],
          "carpet": [
           {
            "aaxis": {
             "endlinecolor": "#A2B1C6",
             "gridcolor": "#506784",
             "linecolor": "#506784",
             "minorgridcolor": "#506784",
             "startlinecolor": "#A2B1C6"
            },
            "baxis": {
             "endlinecolor": "#A2B1C6",
             "gridcolor": "#506784",
             "linecolor": "#506784",
             "minorgridcolor": "#506784",
             "startlinecolor": "#A2B1C6"
            },
            "type": "carpet"
           }
          ],
          "choropleth": [
           {
            "colorbar": {
             "outlinewidth": 0,
             "ticks": ""
            },
            "type": "choropleth"
           }
          ],
          "contour": [
           {
            "colorbar": {
             "outlinewidth": 0,
             "ticks": ""
            },
            "colorscale": [
             [
              0,
              "#0d0887"
             ],
             [
              0.1111111111111111,
              "#46039f"
             ],
             [
              0.2222222222222222,
              "#7201a8"
             ],
             [
              0.3333333333333333,
              "#9c179e"
             ],
             [
              0.4444444444444444,
              "#bd3786"
             ],
             [
              0.5555555555555556,
              "#d8576b"
             ],
             [
              0.6666666666666666,
              "#ed7953"
             ],
             [
              0.7777777777777778,
              "#fb9f3a"
             ],
             [
              0.8888888888888888,
              "#fdca26"
             ],
             [
              1,
              "#f0f921"
             ]
            ],
            "type": "contour"
           }
          ],
          "contourcarpet": [
           {
            "colorbar": {
             "outlinewidth": 0,
             "ticks": ""
            },
            "type": "contourcarpet"
           }
          ],
          "heatmap": [
           {
            "colorbar": {
             "outlinewidth": 0,
             "ticks": ""
            },
            "colorscale": [
             [
              0,
              "#0d0887"
             ],
             [
              0.1111111111111111,
              "#46039f"
             ],
             [
              0.2222222222222222,
              "#7201a8"
             ],
             [
              0.3333333333333333,
              "#9c179e"
             ],
             [
              0.4444444444444444,
              "#bd3786"
             ],
             [
              0.5555555555555556,
              "#d8576b"
             ],
             [
              0.6666666666666666,
              "#ed7953"
             ],
             [
              0.7777777777777778,
              "#fb9f3a"
             ],
             [
              0.8888888888888888,
              "#fdca26"
             ],
             [
              1,
              "#f0f921"
             ]
            ],
            "type": "heatmap"
           }
          ],
          "heatmapgl": [
           {
            "colorbar": {
             "outlinewidth": 0,
             "ticks": ""
            },
            "colorscale": [
             [
              0,
              "#0d0887"
             ],
             [
              0.1111111111111111,
              "#46039f"
             ],
             [
              0.2222222222222222,
              "#7201a8"
             ],
             [
              0.3333333333333333,
              "#9c179e"
             ],
             [
              0.4444444444444444,
              "#bd3786"
             ],
             [
              0.5555555555555556,
              "#d8576b"
             ],
             [
              0.6666666666666666,
              "#ed7953"
             ],
             [
              0.7777777777777778,
              "#fb9f3a"
             ],
             [
              0.8888888888888888,
              "#fdca26"
             ],
             [
              1,
              "#f0f921"
             ]
            ],
            "type": "heatmapgl"
           }
          ],
          "histogram": [
           {
            "marker": {
             "pattern": {
              "fillmode": "overlay",
              "size": 10,
              "solidity": 0.2
             }
            },
            "type": "histogram"
           }
          ],
          "histogram2d": [
           {
            "colorbar": {
             "outlinewidth": 0,
             "ticks": ""
            },
            "colorscale": [
             [
              0,
              "#0d0887"
             ],
             [
              0.1111111111111111,
              "#46039f"
             ],
             [
              0.2222222222222222,
              "#7201a8"
             ],
             [
              0.3333333333333333,
              "#9c179e"
             ],
             [
              0.4444444444444444,
              "#bd3786"
             ],
             [
              0.5555555555555556,
              "#d8576b"
             ],
             [
              0.6666666666666666,
              "#ed7953"
             ],
             [
              0.7777777777777778,
              "#fb9f3a"
             ],
             [
              0.8888888888888888,
              "#fdca26"
             ],
             [
              1,
              "#f0f921"
             ]
            ],
            "type": "histogram2d"
           }
          ],
          "histogram2dcontour": [
           {
            "colorbar": {
             "outlinewidth": 0,
             "ticks": ""
            },
            "colorscale": [
             [
              0,
              "#0d0887"
             ],
             [
              0.1111111111111111,
              "#46039f"
             ],
             [
              0.2222222222222222,
              "#7201a8"
             ],
             [
              0.3333333333333333,
              "#9c179e"
             ],
             [
              0.4444444444444444,
              "#bd3786"
             ],
             [
              0.5555555555555556,
              "#d8576b"
             ],
             [
              0.6666666666666666,
              "#ed7953"
             ],
             [
              0.7777777777777778,
              "#fb9f3a"
             ],
             [
              0.8888888888888888,
              "#fdca26"
             ],
             [
              1,
              "#f0f921"
             ]
            ],
            "type": "histogram2dcontour"
           }
          ],
          "mesh3d": [
           {
            "colorbar": {
             "outlinewidth": 0,
             "ticks": ""
            },
            "type": "mesh3d"
           }
          ],
          "parcoords": [
           {
            "line": {
             "colorbar": {
              "outlinewidth": 0,
              "ticks": ""
             }
            },
            "type": "parcoords"
           }
          ],
          "pie": [
           {
            "automargin": true,
            "type": "pie"
           }
          ],
          "scatter": [
           {
            "marker": {
             "line": {
              "color": "#283442"
             }
            },
            "type": "scatter"
           }
          ],
          "scatter3d": [
           {
            "line": {
             "colorbar": {
              "outlinewidth": 0,
              "ticks": ""
             }
            },
            "marker": {
             "colorbar": {
              "outlinewidth": 0,
              "ticks": ""
             }
            },
            "type": "scatter3d"
           }
          ],
          "scattercarpet": [
           {
            "marker": {
             "colorbar": {
              "outlinewidth": 0,
              "ticks": ""
             }
            },
            "type": "scattercarpet"
           }
          ],
          "scattergeo": [
           {
            "marker": {
             "colorbar": {
              "outlinewidth": 0,
              "ticks": ""
             }
            },
            "type": "scattergeo"
           }
          ],
          "scattergl": [
           {
            "marker": {
             "line": {
              "color": "#283442"
             }
            },
            "type": "scattergl"
           }
          ],
          "scattermapbox": [
           {
            "marker": {
             "colorbar": {
              "outlinewidth": 0,
              "ticks": ""
             }
            },
            "type": "scattermapbox"
           }
          ],
          "scatterpolar": [
           {
            "marker": {
             "colorbar": {
              "outlinewidth": 0,
              "ticks": ""
             }
            },
            "type": "scatterpolar"
           }
          ],
          "scatterpolargl": [
           {
            "marker": {
             "colorbar": {
              "outlinewidth": 0,
              "ticks": ""
             }
            },
            "type": "scatterpolargl"
           }
          ],
          "scatterternary": [
           {
            "marker": {
             "colorbar": {
              "outlinewidth": 0,
              "ticks": ""
             }
            },
            "type": "scatterternary"
           }
          ],
          "surface": [
           {
            "colorbar": {
             "outlinewidth": 0,
             "ticks": ""
            },
            "colorscale": [
             [
              0,
              "#0d0887"
             ],
             [
              0.1111111111111111,
              "#46039f"
             ],
             [
              0.2222222222222222,
              "#7201a8"
             ],
             [
              0.3333333333333333,
              "#9c179e"
             ],
             [
              0.4444444444444444,
              "#bd3786"
             ],
             [
              0.5555555555555556,
              "#d8576b"
             ],
             [
              0.6666666666666666,
              "#ed7953"
             ],
             [
              0.7777777777777778,
              "#fb9f3a"
             ],
             [
              0.8888888888888888,
              "#fdca26"
             ],
             [
              1,
              "#f0f921"
             ]
            ],
            "type": "surface"
           }
          ],
          "table": [
           {
            "cells": {
             "fill": {
              "color": "#506784"
             },
             "line": {
              "color": "rgb(17,17,17)"
             }
            },
            "header": {
             "fill": {
              "color": "#2a3f5f"
             },
             "line": {
              "color": "rgb(17,17,17)"
             }
            },
            "type": "table"
           }
          ]
         },
         "layout": {
          "annotationdefaults": {
           "arrowcolor": "#f2f5fa",
           "arrowhead": 0,
           "arrowwidth": 1
          },
          "autotypenumbers": "strict",
          "coloraxis": {
           "colorbar": {
            "outlinewidth": 0,
            "ticks": ""
           }
          },
          "colorscale": {
           "diverging": [
            [
             0,
             "#8e0152"
            ],
            [
             0.1,
             "#c51b7d"
            ],
            [
             0.2,
             "#de77ae"
            ],
            [
             0.3,
             "#f1b6da"
            ],
            [
             0.4,
             "#fde0ef"
            ],
            [
             0.5,
             "#f7f7f7"
            ],
            [
             0.6,
             "#e6f5d0"
            ],
            [
             0.7,
             "#b8e186"
            ],
            [
             0.8,
             "#7fbc41"
            ],
            [
             0.9,
             "#4d9221"
            ],
            [
             1,
             "#276419"
            ]
           ],
           "sequential": [
            [
             0,
             "#0d0887"
            ],
            [
             0.1111111111111111,
             "#46039f"
            ],
            [
             0.2222222222222222,
             "#7201a8"
            ],
            [
             0.3333333333333333,
             "#9c179e"
            ],
            [
             0.4444444444444444,
             "#bd3786"
            ],
            [
             0.5555555555555556,
             "#d8576b"
            ],
            [
             0.6666666666666666,
             "#ed7953"
            ],
            [
             0.7777777777777778,
             "#fb9f3a"
            ],
            [
             0.8888888888888888,
             "#fdca26"
            ],
            [
             1,
             "#f0f921"
            ]
           ],
           "sequentialminus": [
            [
             0,
             "#0d0887"
            ],
            [
             0.1111111111111111,
             "#46039f"
            ],
            [
             0.2222222222222222,
             "#7201a8"
            ],
            [
             0.3333333333333333,
             "#9c179e"
            ],
            [
             0.4444444444444444,
             "#bd3786"
            ],
            [
             0.5555555555555556,
             "#d8576b"
            ],
            [
             0.6666666666666666,
             "#ed7953"
            ],
            [
             0.7777777777777778,
             "#fb9f3a"
            ],
            [
             0.8888888888888888,
             "#fdca26"
            ],
            [
             1,
             "#f0f921"
            ]
           ]
          },
          "colorway": [
           "#636efa",
           "#EF553B",
           "#00cc96",
           "#ab63fa",
           "#FFA15A",
           "#19d3f3",
           "#FF6692",
           "#B6E880",
           "#FF97FF",
           "#FECB52"
          ],
          "font": {
           "color": "#f2f5fa"
          },
          "geo": {
           "bgcolor": "rgb(17,17,17)",
           "lakecolor": "rgb(17,17,17)",
           "landcolor": "rgb(17,17,17)",
           "showlakes": true,
           "showland": true,
           "subunitcolor": "#506784"
          },
          "hoverlabel": {
           "align": "left"
          },
          "hovermode": "closest",
          "mapbox": {
           "style": "dark"
          },
          "paper_bgcolor": "rgb(17,17,17)",
          "plot_bgcolor": "rgb(17,17,17)",
          "polar": {
           "angularaxis": {
            "gridcolor": "#506784",
            "linecolor": "#506784",
            "ticks": ""
           },
           "bgcolor": "rgb(17,17,17)",
           "radialaxis": {
            "gridcolor": "#506784",
            "linecolor": "#506784",
            "ticks": ""
           }
          },
          "scene": {
           "xaxis": {
            "backgroundcolor": "rgb(17,17,17)",
            "gridcolor": "#506784",
            "gridwidth": 2,
            "linecolor": "#506784",
            "showbackground": true,
            "ticks": "",
            "zerolinecolor": "#C8D4E3"
           },
           "yaxis": {
            "backgroundcolor": "rgb(17,17,17)",
            "gridcolor": "#506784",
            "gridwidth": 2,
            "linecolor": "#506784",
            "showbackground": true,
            "ticks": "",
            "zerolinecolor": "#C8D4E3"
           },
           "zaxis": {
            "backgroundcolor": "rgb(17,17,17)",
            "gridcolor": "#506784",
            "gridwidth": 2,
            "linecolor": "#506784",
            "showbackground": true,
            "ticks": "",
            "zerolinecolor": "#C8D4E3"
           }
          },
          "shapedefaults": {
           "line": {
            "color": "#f2f5fa"
           }
          },
          "sliderdefaults": {
           "bgcolor": "#C8D4E3",
           "bordercolor": "rgb(17,17,17)",
           "borderwidth": 1,
           "tickwidth": 0
          },
          "ternary": {
           "aaxis": {
            "gridcolor": "#506784",
            "linecolor": "#506784",
            "ticks": ""
           },
           "baxis": {
            "gridcolor": "#506784",
            "linecolor": "#506784",
            "ticks": ""
           },
           "bgcolor": "rgb(17,17,17)",
           "caxis": {
            "gridcolor": "#506784",
            "linecolor": "#506784",
            "ticks": ""
           }
          },
          "title": {
           "x": 0.05
          },
          "updatemenudefaults": {
           "bgcolor": "#506784",
           "borderwidth": 0
          },
          "xaxis": {
           "automargin": true,
           "gridcolor": "#283442",
           "linecolor": "#506784",
           "ticks": "",
           "title": {
            "standoff": 15
           },
           "zerolinecolor": "#283442",
           "zerolinewidth": 2
          },
          "yaxis": {
           "automargin": true,
           "gridcolor": "#283442",
           "linecolor": "#506784",
           "ticks": "",
           "title": {
            "standoff": 15
           },
           "zerolinecolor": "#283442",
           "zerolinewidth": 2
          }
         }
        },
        "xaxis": {
         "anchor": "y",
         "domain": [
          0,
          1
         ],
         "title": {
          "text": "Date"
         }
        },
        "yaxis": {
         "anchor": "x",
         "domain": [
          0,
          1
         ],
         "title": {
          "text": "Balance"
         }
        }
       }
      }
     },
     "metadata": {},
     "output_type": "display_data"
    },
    {
     "data": {
      "text/html": [
       "<h2> 📈 Scatter-Graph: 30 days</h2>"
      ],
      "text/plain": [
       "<IPython.core.display.HTML object>"
      ]
     },
     "metadata": {},
     "output_type": "display_data"
    },
    {
     "data": {
      "text/html": [
       "from 2022-08-23 00:00:00"
      ],
      "text/plain": [
       "<IPython.core.display.HTML object>"
      ]
     },
     "metadata": {},
     "output_type": "display_data"
    },
    {
     "data": {
      "text/html": [
       "to 2022-09-22 00:00:00"
      ],
      "text/plain": [
       "<IPython.core.display.HTML object>"
      ]
     },
     "metadata": {},
     "output_type": "display_data"
    },
    {
     "data": {
      "text/html": [
       "total -7518"
      ],
      "text/plain": [
       "<IPython.core.display.HTML object>"
      ]
     },
     "metadata": {},
     "output_type": "display_data"
    },
    {
     "data": {
      "application/vnd.plotly.v1+json": {
       "config": {
        "plotlyServerURL": "https://plot.ly"
       },
       "data": [
        {
         "customdata": [
          [
           "health",
           "Hewlett Packard Enterprise",
           646
          ],
          [
           "health",
           "Hewlett Packard Enterprise",
           500
          ],
          [
           "health",
           "Walmart",
           214
          ],
          [
           "health",
           "United Continental Holdings",
           573
          ],
          [
           "health",
           "Travelers",
           801
          ],
          [
           "health",
           "Amazon.com",
           318
          ]
         ],
         "hovertemplate": "Category=%{customdata[0]}<br>Date=%{x}<br>Balance=%{y}<br>size=%{marker.size}<br>Location=%{customdata[1]}<br>Delta=%{customdata[2]}<extra></extra>",
         "legendgroup": "health",
         "marker": {
          "color": "#636efa",
          "line": {
           "color": "white",
           "width": 1
          },
          "opacity": 0.8,
          "size": [
           646,
           500,
           214,
           573,
           801,
           318
          ],
          "sizemode": "area",
          "sizeref": 0.1,
          "symbol": "circle"
         },
         "mode": "markers",
         "name": "health",
         "orientation": "v",
         "showlegend": true,
         "type": "scatter",
         "x": [
          "2022-09-22T00:00:00",
          "2022-09-22T00:00:00",
          "2022-09-16T00:00:00",
          "2022-09-15T00:00:00",
          "2022-09-12T00:00:00",
          "2022-08-23T00:00:00"
         ],
         "xaxis": "x",
         "y": [
          1236,
          1882,
          390,
          922,
          3083,
          8639
         ],
         "yaxis": "y"
        },
        {
         "customdata": [
          [
           "invest",
           "Travelers",
           904
          ],
          [
           "invest",
           "Hershey",
           435
          ],
          [
           "invest",
           "Hershey",
           296
          ],
          [
           "invest",
           "PPL",
           960
          ],
          [
           "invest",
           "Hanesbrands",
           212
          ],
          [
           "invest",
           "Hanesbrands",
           1000
          ],
          [
           "invest",
           "Hershey",
           366
          ],
          [
           "invest",
           "Visa",
           951
          ],
          [
           "invest",
           "Walmart",
           954
          ],
          [
           "invest",
           "Walmart",
           84
          ],
          [
           "invest",
           "Amazon.com",
           267
          ],
          [
           "invest",
           "Amazon.com",
           390
          ]
         ],
         "hovertemplate": "Category=%{customdata[0]}<br>Date=%{x}<br>Balance=%{y}<br>size=%{marker.size}<br>Location=%{customdata[1]}<br>Delta=%{customdata[2]}<extra></extra>",
         "legendgroup": "invest",
         "marker": {
          "color": "#EF553B",
          "line": {
           "color": "white",
           "width": 1
          },
          "opacity": 0.8,
          "size": [
           904,
           435,
           296,
           960,
           212,
           1000,
           366,
           951,
           954,
           84,
           267,
           390
          ],
          "sizemode": "area",
          "sizeref": 0.1,
          "symbol": "circle"
         },
         "mode": "markers",
         "name": "invest",
         "orientation": "v",
         "showlegend": true,
         "type": "scatter",
         "x": [
          "2022-09-22T00:00:00",
          "2022-09-19T00:00:00",
          "2022-09-12T00:00:00",
          "2022-09-12T00:00:00",
          "2022-09-09T00:00:00",
          "2022-09-06T00:00:00",
          "2022-09-06T00:00:00",
          "2022-08-31T00:00:00",
          "2022-08-31T00:00:00",
          "2022-08-31T00:00:00",
          "2022-08-29T00:00:00",
          "2022-08-26T00:00:00"
         ],
         "xaxis": "x",
         "y": [
          2382,
          1886,
          2667,
          2963,
          3567,
          7590,
          9051,
          7033,
          7984,
          8657,
          8978,
          9938
         ],
         "yaxis": "y"
        },
        {
         "customdata": [
          [
           "unk",
           "Voya Financial",
           570
          ],
          [
           "unk",
           "Walmart",
           820
          ],
          [
           "unk",
           "Travelers",
           371
          ],
          [
           "unk",
           "Tapestry",
           600
          ],
          [
           "unk",
           "Omnicom Group",
           19
          ],
          [
           "unk",
           "Amazon.com",
           783
          ],
          [
           "unk",
           "Ulta Beauty",
           461
          ],
          [
           "unk",
           "Visa",
           313
          ]
         ],
         "hovertemplate": "Category=%{customdata[0]}<br>Date=%{x}<br>Balance=%{y}<br>size=%{marker.size}<br>Location=%{customdata[1]}<br>Delta=%{customdata[2]}<extra></extra>",
         "legendgroup": "unk",
         "marker": {
          "color": "#00cc96",
          "line": {
           "color": "white",
           "width": 1
          },
          "opacity": 0.8,
          "size": [
           570,
           820,
           371,
           600,
           19,
           783,
           461,
           313
          ],
          "sizemode": "area",
          "sizeref": 0.1,
          "symbol": "circle"
         },
         "mode": "markers",
         "name": "unk",
         "orientation": "v",
         "showlegend": true,
         "type": "scatter",
         "x": [
          "2022-09-22T00:00:00",
          "2022-09-19T00:00:00",
          "2022-09-14T00:00:00",
          "2022-09-12T00:00:00",
          "2022-09-09T00:00:00",
          "2022-09-09T00:00:00",
          "2022-09-06T00:00:00",
          "2022-08-29T00:00:00"
         ],
         "xaxis": "x",
         "y": [
          3286,
          2109,
          3374,
          2804,
          2765,
          2784,
          8590,
          10701
         ],
         "yaxis": "y"
        },
        {
         "customdata": [
          [
           "clothing",
           "Voya Financial",
           818
          ],
          [
           "clothing",
           "Voya Financial",
           996
          ],
          [
           "clothing",
           "Amazon.com",
           646
          ]
         ],
         "hovertemplate": "Category=%{customdata[0]}<br>Date=%{x}<br>Balance=%{y}<br>size=%{marker.size}<br>Location=%{customdata[1]}<br>Delta=%{customdata[2]}<extra></extra>",
         "legendgroup": "clothing",
         "marker": {
          "color": "#ab63fa",
          "line": {
           "color": "white",
           "width": 1
          },
          "opacity": 0.8,
          "size": [
           818,
           996,
           646
          ],
          "sizemode": "area",
          "sizeref": 0.1,
          "symbol": "circle"
         },
         "mode": "markers",
         "name": "clothing",
         "orientation": "v",
         "showlegend": true,
         "type": "scatter",
         "x": [
          "2022-09-20T00:00:00",
          "2022-09-08T00:00:00",
          "2022-08-29T00:00:00"
         ],
         "xaxis": "x",
         "y": [
          3368,
          3607,
          10055
         ],
         "yaxis": "y"
        },
        {
         "customdata": [
          [
           "misc",
           "Delta Air Lines",
           3
          ],
          [
           "misc",
           "Sysco",
           873
          ],
          [
           "misc",
           "CBRE Group",
           38
          ]
         ],
         "hovertemplate": "Category=%{customdata[0]}<br>Date=%{x}<br>Balance=%{y}<br>size=%{marker.size}<br>Location=%{customdata[1]}<br>Delta=%{customdata[2]}<extra></extra>",
         "legendgroup": "misc",
         "marker": {
          "color": "#FFA15A",
          "line": {
           "color": "white",
           "width": 1
          },
          "opacity": 0.8,
          "size": [
           3,
           873,
           38
          ],
          "sizemode": "area",
          "sizeref": 0.1,
          "symbol": "circle"
         },
         "mode": "markers",
         "name": "misc",
         "orientation": "v",
         "showlegend": true,
         "type": "scatter",
         "x": [
          "2022-09-19T00:00:00",
          "2022-09-06T00:00:00",
          "2022-09-02T00:00:00"
         ],
         "xaxis": "x",
         "y": [
          2106,
          5946,
          7352
         ],
         "yaxis": "y"
        },
        {
         "customdata": [
          [
           "grocery",
           "Travelers",
           278
          ],
          [
           "grocery",
           "Travelers",
           5
          ],
          [
           "grocery",
           "TIAA",
           987
          ],
          [
           "grocery",
           "Ulta Beauty",
           651
          ],
          [
           "grocery",
           "Sysco",
           944
          ],
          [
           "grocery",
           "Walmart",
           673
          ],
          [
           "grocery",
           "TIAA",
           477
          ]
         ],
         "hovertemplate": "Category=%{customdata[0]}<br>Date=%{x}<br>Balance=%{y}<br>size=%{marker.size}<br>Location=%{customdata[1]}<br>Delta=%{customdata[2]}<extra></extra>",
         "legendgroup": "grocery",
         "marker": {
          "color": "#19d3f3",
          "line": {
           "color": "white",
           "width": 1
          },
          "opacity": 0.8,
          "size": [
           278,
           5,
           987,
           651,
           944,
           673,
           477
          ],
          "sizemode": "area",
          "sizeref": 0.1,
          "symbol": "circle"
         },
         "mode": "markers",
         "name": "grocery",
         "orientation": "v",
         "showlegend": true,
         "type": "scatter",
         "x": [
          "2022-09-19T00:00:00",
          "2022-09-13T00:00:00",
          "2022-09-13T00:00:00",
          "2022-09-07T00:00:00",
          "2022-09-06T00:00:00",
          "2022-09-06T00:00:00",
          "2022-08-30T00:00:00"
         ],
         "xaxis": "x",
         "y": [
          2211,
          3692,
          3697,
          5513,
          4493,
          6029,
          8342
         ],
         "yaxis": "y"
        },
        {
         "customdata": [
          [
           "travel",
           "Cognizant Technology Solutions",
           910
          ],
          [
           "travel",
           "Walmart",
           745
          ],
          [
           "travel",
           "Walmart",
           318
          ],
          [
           "travel",
           "Walmart",
           998
          ],
          [
           "travel",
           "CBRE Group",
           307
          ],
          [
           "travel",
           "Hanesbrands",
           782
          ]
         ],
         "hovertemplate": "Category=%{customdata[0]}<br>Date=%{x}<br>Balance=%{y}<br>size=%{marker.size}<br>Location=%{customdata[1]}<br>Delta=%{customdata[2]}<extra></extra>",
         "legendgroup": "travel",
         "marker": {
          "color": "#FF6692",
          "line": {
           "color": "white",
           "width": 1
          },
          "opacity": 0.8,
          "size": [
           910,
           745,
           318,
           998,
           307,
           782
          ],
          "sizemode": "area",
          "sizeref": 0.1,
          "symbol": "circle"
         },
         "mode": "markers",
         "name": "travel",
         "orientation": "v",
         "showlegend": true,
         "type": "scatter",
         "x": [
          "2022-09-19T00:00:00",
          "2022-09-19T00:00:00",
          "2022-09-16T00:00:00",
          "2022-09-15T00:00:00",
          "2022-09-06T00:00:00",
          "2022-08-30T00:00:00"
         ],
         "xaxis": "x",
         "y": [
          2489,
          1841,
          604,
          2376,
          6819,
          8196
         ],
         "yaxis": "y"
        },
        {
         "customdata": [
          [
           "utility",
           "Hewlett Packard Enterprise",
           881
          ]
         ],
         "hovertemplate": "Category=%{customdata[0]}<br>Date=%{x}<br>Balance=%{y}<br>size=%{marker.size}<br>Location=%{customdata[1]}<br>Delta=%{customdata[2]}<extra></extra>",
         "legendgroup": "utility",
         "marker": {
          "color": "#B6E880",
          "line": {
           "color": "white",
           "width": 1
          },
          "opacity": 0.8,
          "size": [
           881
          ],
          "sizemode": "area",
          "sizeref": 0.1,
          "symbol": "circle"
         },
         "mode": "markers",
         "name": "utility",
         "orientation": "v",
         "showlegend": true,
         "type": "scatter",
         "x": [
          "2022-09-15T00:00:00"
         ],
         "xaxis": "x",
         "y": [
          1495
         ],
         "yaxis": "y"
        },
        {
         "customdata": [
          [
           "tech",
           "Hanesbrands",
           413
          ],
          [
           "tech",
           "Quest Diagnostics",
           252
          ],
          [
           "tech",
           "Amazon.com",
           910
          ],
          [
           "tech",
           "Sysco",
           464
          ],
          [
           "tech",
           "Hewlett Packard Enterprise",
           368
          ]
         ],
         "hovertemplate": "Category=%{customdata[0]}<br>Date=%{x}<br>Balance=%{y}<br>size=%{marker.size}<br>Location=%{customdata[1]}<br>Delta=%{customdata[2]}<extra></extra>",
         "legendgroup": "tech",
         "marker": {
          "color": "#FF97FF",
          "line": {
           "color": "white",
           "width": 1
          },
          "opacity": 0.8,
          "size": [
           413,
           252,
           910,
           464,
           368
          ],
          "sizemode": "area",
          "sizeref": 0.1,
          "symbol": "circle"
         },
         "mode": "markers",
         "name": "tech",
         "orientation": "v",
         "showlegend": true,
         "type": "scatter",
         "x": [
          "2022-09-13T00:00:00",
          "2022-09-08T00:00:00",
          "2022-09-07T00:00:00",
          "2022-09-06T00:00:00",
          "2022-08-24T00:00:00"
         ],
         "xaxis": "x",
         "y": [
          4684,
          3785,
          4603,
          7126,
          8475
         ],
         "yaxis": "y"
        },
        {
         "customdata": [
          [
           "paypal",
           "United Continental Holdings",
           822
          ],
          [
           "paypal",
           "Ulta Beauty",
           536
          ],
          [
           "paypal",
           "Hanesbrands",
           420
          ],
          [
           "paypal",
           "PPL",
           650
          ],
          [
           "paypal",
           "Hanesbrands",
           141
          ],
          [
           "paypal",
           "PPL",
           579
          ],
          [
           "paypal",
           "TIAA",
           37
          ]
         ],
         "hovertemplate": "Category=%{customdata[0]}<br>Date=%{x}<br>Balance=%{y}<br>size=%{marker.size}<br>Location=%{customdata[1]}<br>Delta=%{customdata[2]}<extra></extra>",
         "legendgroup": "paypal",
         "marker": {
          "color": "#FECB52",
          "line": {
           "color": "white",
           "width": 1
          },
          "opacity": 0.8,
          "size": [
           822,
           536,
           420,
           650,
           141,
           579,
           37
          ],
          "sizemode": "area",
          "sizeref": 0.1,
          "symbol": "circle"
         },
         "mode": "markers",
         "name": "paypal",
         "orientation": "v",
         "showlegend": true,
         "type": "scatter",
         "x": [
          "2022-09-09T00:00:00",
          "2022-09-06T00:00:00",
          "2022-09-06T00:00:00",
          "2022-09-06T00:00:00",
          "2022-08-31T00:00:00",
          "2022-08-29T00:00:00",
          "2022-08-24T00:00:00"
         ],
         "xaxis": "x",
         "y": [
          3779,
          5437,
          6505,
          6702,
          6892,
          9476,
          8602
         ],
         "yaxis": "y"
        },
        {
         "customdata": [
          [
           "debt",
           "Omnicom Group",
           231
          ],
          [
           "debt",
           "Walmart",
           30
          ]
         ],
         "hovertemplate": "Category=%{customdata[0]}<br>Date=%{x}<br>Balance=%{y}<br>size=%{marker.size}<br>Location=%{customdata[1]}<br>Delta=%{customdata[2]}<extra></extra>",
         "legendgroup": "debt",
         "marker": {
          "color": "#636efa",
          "line": {
           "color": "white",
           "width": 1
          },
          "opacity": 0.8,
          "size": [
           231,
           30
          ],
          "sizemode": "area",
          "sizeref": 0.1,
          "symbol": "circle"
         },
         "mode": "markers",
         "name": "debt",
         "orientation": "v",
         "showlegend": true,
         "type": "scatter",
         "x": [
          "2022-08-29T00:00:00",
          "2022-08-25T00:00:00"
         ],
         "xaxis": "x",
         "y": [
          9245,
          9256
         ],
         "yaxis": "y"
        }
       ],
       "layout": {
        "height": 1000,
        "legend": {
         "itemsizing": "constant",
         "title": {
          "text": "Category"
         },
         "tracegroupgap": 0
        },
        "margin": {
         "t": 60
        },
        "template": {
         "data": {
          "bar": [
           {
            "error_x": {
             "color": "#f2f5fa"
            },
            "error_y": {
             "color": "#f2f5fa"
            },
            "marker": {
             "line": {
              "color": "rgb(17,17,17)",
              "width": 0.5
             },
             "pattern": {
              "fillmode": "overlay",
              "size": 10,
              "solidity": 0.2
             }
            },
            "type": "bar"
           }
          ],
          "barpolar": [
           {
            "marker": {
             "line": {
              "color": "rgb(17,17,17)",
              "width": 0.5
             },
             "pattern": {
              "fillmode": "overlay",
              "size": 10,
              "solidity": 0.2
             }
            },
            "type": "barpolar"
           }
          ],
          "carpet": [
           {
            "aaxis": {
             "endlinecolor": "#A2B1C6",
             "gridcolor": "#506784",
             "linecolor": "#506784",
             "minorgridcolor": "#506784",
             "startlinecolor": "#A2B1C6"
            },
            "baxis": {
             "endlinecolor": "#A2B1C6",
             "gridcolor": "#506784",
             "linecolor": "#506784",
             "minorgridcolor": "#506784",
             "startlinecolor": "#A2B1C6"
            },
            "type": "carpet"
           }
          ],
          "choropleth": [
           {
            "colorbar": {
             "outlinewidth": 0,
             "ticks": ""
            },
            "type": "choropleth"
           }
          ],
          "contour": [
           {
            "colorbar": {
             "outlinewidth": 0,
             "ticks": ""
            },
            "colorscale": [
             [
              0,
              "#0d0887"
             ],
             [
              0.1111111111111111,
              "#46039f"
             ],
             [
              0.2222222222222222,
              "#7201a8"
             ],
             [
              0.3333333333333333,
              "#9c179e"
             ],
             [
              0.4444444444444444,
              "#bd3786"
             ],
             [
              0.5555555555555556,
              "#d8576b"
             ],
             [
              0.6666666666666666,
              "#ed7953"
             ],
             [
              0.7777777777777778,
              "#fb9f3a"
             ],
             [
              0.8888888888888888,
              "#fdca26"
             ],
             [
              1,
              "#f0f921"
             ]
            ],
            "type": "contour"
           }
          ],
          "contourcarpet": [
           {
            "colorbar": {
             "outlinewidth": 0,
             "ticks": ""
            },
            "type": "contourcarpet"
           }
          ],
          "heatmap": [
           {
            "colorbar": {
             "outlinewidth": 0,
             "ticks": ""
            },
            "colorscale": [
             [
              0,
              "#0d0887"
             ],
             [
              0.1111111111111111,
              "#46039f"
             ],
             [
              0.2222222222222222,
              "#7201a8"
             ],
             [
              0.3333333333333333,
              "#9c179e"
             ],
             [
              0.4444444444444444,
              "#bd3786"
             ],
             [
              0.5555555555555556,
              "#d8576b"
             ],
             [
              0.6666666666666666,
              "#ed7953"
             ],
             [
              0.7777777777777778,
              "#fb9f3a"
             ],
             [
              0.8888888888888888,
              "#fdca26"
             ],
             [
              1,
              "#f0f921"
             ]
            ],
            "type": "heatmap"
           }
          ],
          "heatmapgl": [
           {
            "colorbar": {
             "outlinewidth": 0,
             "ticks": ""
            },
            "colorscale": [
             [
              0,
              "#0d0887"
             ],
             [
              0.1111111111111111,
              "#46039f"
             ],
             [
              0.2222222222222222,
              "#7201a8"
             ],
             [
              0.3333333333333333,
              "#9c179e"
             ],
             [
              0.4444444444444444,
              "#bd3786"
             ],
             [
              0.5555555555555556,
              "#d8576b"
             ],
             [
              0.6666666666666666,
              "#ed7953"
             ],
             [
              0.7777777777777778,
              "#fb9f3a"
             ],
             [
              0.8888888888888888,
              "#fdca26"
             ],
             [
              1,
              "#f0f921"
             ]
            ],
            "type": "heatmapgl"
           }
          ],
          "histogram": [
           {
            "marker": {
             "pattern": {
              "fillmode": "overlay",
              "size": 10,
              "solidity": 0.2
             }
            },
            "type": "histogram"
           }
          ],
          "histogram2d": [
           {
            "colorbar": {
             "outlinewidth": 0,
             "ticks": ""
            },
            "colorscale": [
             [
              0,
              "#0d0887"
             ],
             [
              0.1111111111111111,
              "#46039f"
             ],
             [
              0.2222222222222222,
              "#7201a8"
             ],
             [
              0.3333333333333333,
              "#9c179e"
             ],
             [
              0.4444444444444444,
              "#bd3786"
             ],
             [
              0.5555555555555556,
              "#d8576b"
             ],
             [
              0.6666666666666666,
              "#ed7953"
             ],
             [
              0.7777777777777778,
              "#fb9f3a"
             ],
             [
              0.8888888888888888,
              "#fdca26"
             ],
             [
              1,
              "#f0f921"
             ]
            ],
            "type": "histogram2d"
           }
          ],
          "histogram2dcontour": [
           {
            "colorbar": {
             "outlinewidth": 0,
             "ticks": ""
            },
            "colorscale": [
             [
              0,
              "#0d0887"
             ],
             [
              0.1111111111111111,
              "#46039f"
             ],
             [
              0.2222222222222222,
              "#7201a8"
             ],
             [
              0.3333333333333333,
              "#9c179e"
             ],
             [
              0.4444444444444444,
              "#bd3786"
             ],
             [
              0.5555555555555556,
              "#d8576b"
             ],
             [
              0.6666666666666666,
              "#ed7953"
             ],
             [
              0.7777777777777778,
              "#fb9f3a"
             ],
             [
              0.8888888888888888,
              "#fdca26"
             ],
             [
              1,
              "#f0f921"
             ]
            ],
            "type": "histogram2dcontour"
           }
          ],
          "mesh3d": [
           {
            "colorbar": {
             "outlinewidth": 0,
             "ticks": ""
            },
            "type": "mesh3d"
           }
          ],
          "parcoords": [
           {
            "line": {
             "colorbar": {
              "outlinewidth": 0,
              "ticks": ""
             }
            },
            "type": "parcoords"
           }
          ],
          "pie": [
           {
            "automargin": true,
            "type": "pie"
           }
          ],
          "scatter": [
           {
            "marker": {
             "line": {
              "color": "#283442"
             }
            },
            "type": "scatter"
           }
          ],
          "scatter3d": [
           {
            "line": {
             "colorbar": {
              "outlinewidth": 0,
              "ticks": ""
             }
            },
            "marker": {
             "colorbar": {
              "outlinewidth": 0,
              "ticks": ""
             }
            },
            "type": "scatter3d"
           }
          ],
          "scattercarpet": [
           {
            "marker": {
             "colorbar": {
              "outlinewidth": 0,
              "ticks": ""
             }
            },
            "type": "scattercarpet"
           }
          ],
          "scattergeo": [
           {
            "marker": {
             "colorbar": {
              "outlinewidth": 0,
              "ticks": ""
             }
            },
            "type": "scattergeo"
           }
          ],
          "scattergl": [
           {
            "marker": {
             "line": {
              "color": "#283442"
             }
            },
            "type": "scattergl"
           }
          ],
          "scattermapbox": [
           {
            "marker": {
             "colorbar": {
              "outlinewidth": 0,
              "ticks": ""
             }
            },
            "type": "scattermapbox"
           }
          ],
          "scatterpolar": [
           {
            "marker": {
             "colorbar": {
              "outlinewidth": 0,
              "ticks": ""
             }
            },
            "type": "scatterpolar"
           }
          ],
          "scatterpolargl": [
           {
            "marker": {
             "colorbar": {
              "outlinewidth": 0,
              "ticks": ""
             }
            },
            "type": "scatterpolargl"
           }
          ],
          "scatterternary": [
           {
            "marker": {
             "colorbar": {
              "outlinewidth": 0,
              "ticks": ""
             }
            },
            "type": "scatterternary"
           }
          ],
          "surface": [
           {
            "colorbar": {
             "outlinewidth": 0,
             "ticks": ""
            },
            "colorscale": [
             [
              0,
              "#0d0887"
             ],
             [
              0.1111111111111111,
              "#46039f"
             ],
             [
              0.2222222222222222,
              "#7201a8"
             ],
             [
              0.3333333333333333,
              "#9c179e"
             ],
             [
              0.4444444444444444,
              "#bd3786"
             ],
             [
              0.5555555555555556,
              "#d8576b"
             ],
             [
              0.6666666666666666,
              "#ed7953"
             ],
             [
              0.7777777777777778,
              "#fb9f3a"
             ],
             [
              0.8888888888888888,
              "#fdca26"
             ],
             [
              1,
              "#f0f921"
             ]
            ],
            "type": "surface"
           }
          ],
          "table": [
           {
            "cells": {
             "fill": {
              "color": "#506784"
             },
             "line": {
              "color": "rgb(17,17,17)"
             }
            },
            "header": {
             "fill": {
              "color": "#2a3f5f"
             },
             "line": {
              "color": "rgb(17,17,17)"
             }
            },
            "type": "table"
           }
          ]
         },
         "layout": {
          "annotationdefaults": {
           "arrowcolor": "#f2f5fa",
           "arrowhead": 0,
           "arrowwidth": 1
          },
          "autotypenumbers": "strict",
          "coloraxis": {
           "colorbar": {
            "outlinewidth": 0,
            "ticks": ""
           }
          },
          "colorscale": {
           "diverging": [
            [
             0,
             "#8e0152"
            ],
            [
             0.1,
             "#c51b7d"
            ],
            [
             0.2,
             "#de77ae"
            ],
            [
             0.3,
             "#f1b6da"
            ],
            [
             0.4,
             "#fde0ef"
            ],
            [
             0.5,
             "#f7f7f7"
            ],
            [
             0.6,
             "#e6f5d0"
            ],
            [
             0.7,
             "#b8e186"
            ],
            [
             0.8,
             "#7fbc41"
            ],
            [
             0.9,
             "#4d9221"
            ],
            [
             1,
             "#276419"
            ]
           ],
           "sequential": [
            [
             0,
             "#0d0887"
            ],
            [
             0.1111111111111111,
             "#46039f"
            ],
            [
             0.2222222222222222,
             "#7201a8"
            ],
            [
             0.3333333333333333,
             "#9c179e"
            ],
            [
             0.4444444444444444,
             "#bd3786"
            ],
            [
             0.5555555555555556,
             "#d8576b"
            ],
            [
             0.6666666666666666,
             "#ed7953"
            ],
            [
             0.7777777777777778,
             "#fb9f3a"
            ],
            [
             0.8888888888888888,
             "#fdca26"
            ],
            [
             1,
             "#f0f921"
            ]
           ],
           "sequentialminus": [
            [
             0,
             "#0d0887"
            ],
            [
             0.1111111111111111,
             "#46039f"
            ],
            [
             0.2222222222222222,
             "#7201a8"
            ],
            [
             0.3333333333333333,
             "#9c179e"
            ],
            [
             0.4444444444444444,
             "#bd3786"
            ],
            [
             0.5555555555555556,
             "#d8576b"
            ],
            [
             0.6666666666666666,
             "#ed7953"
            ],
            [
             0.7777777777777778,
             "#fb9f3a"
            ],
            [
             0.8888888888888888,
             "#fdca26"
            ],
            [
             1,
             "#f0f921"
            ]
           ]
          },
          "colorway": [
           "#636efa",
           "#EF553B",
           "#00cc96",
           "#ab63fa",
           "#FFA15A",
           "#19d3f3",
           "#FF6692",
           "#B6E880",
           "#FF97FF",
           "#FECB52"
          ],
          "font": {
           "color": "#f2f5fa"
          },
          "geo": {
           "bgcolor": "rgb(17,17,17)",
           "lakecolor": "rgb(17,17,17)",
           "landcolor": "rgb(17,17,17)",
           "showlakes": true,
           "showland": true,
           "subunitcolor": "#506784"
          },
          "hoverlabel": {
           "align": "left"
          },
          "hovermode": "closest",
          "mapbox": {
           "style": "dark"
          },
          "paper_bgcolor": "rgb(17,17,17)",
          "plot_bgcolor": "rgb(17,17,17)",
          "polar": {
           "angularaxis": {
            "gridcolor": "#506784",
            "linecolor": "#506784",
            "ticks": ""
           },
           "bgcolor": "rgb(17,17,17)",
           "radialaxis": {
            "gridcolor": "#506784",
            "linecolor": "#506784",
            "ticks": ""
           }
          },
          "scene": {
           "xaxis": {
            "backgroundcolor": "rgb(17,17,17)",
            "gridcolor": "#506784",
            "gridwidth": 2,
            "linecolor": "#506784",
            "showbackground": true,
            "ticks": "",
            "zerolinecolor": "#C8D4E3"
           },
           "yaxis": {
            "backgroundcolor": "rgb(17,17,17)",
            "gridcolor": "#506784",
            "gridwidth": 2,
            "linecolor": "#506784",
            "showbackground": true,
            "ticks": "",
            "zerolinecolor": "#C8D4E3"
           },
           "zaxis": {
            "backgroundcolor": "rgb(17,17,17)",
            "gridcolor": "#506784",
            "gridwidth": 2,
            "linecolor": "#506784",
            "showbackground": true,
            "ticks": "",
            "zerolinecolor": "#C8D4E3"
           }
          },
          "shapedefaults": {
           "line": {
            "color": "#f2f5fa"
           }
          },
          "sliderdefaults": {
           "bgcolor": "#C8D4E3",
           "bordercolor": "rgb(17,17,17)",
           "borderwidth": 1,
           "tickwidth": 0
          },
          "ternary": {
           "aaxis": {
            "gridcolor": "#506784",
            "linecolor": "#506784",
            "ticks": ""
           },
           "baxis": {
            "gridcolor": "#506784",
            "linecolor": "#506784",
            "ticks": ""
           },
           "bgcolor": "rgb(17,17,17)",
           "caxis": {
            "gridcolor": "#506784",
            "linecolor": "#506784",
            "ticks": ""
           }
          },
          "title": {
           "x": 0.05
          },
          "updatemenudefaults": {
           "bgcolor": "#506784",
           "borderwidth": 0
          },
          "xaxis": {
           "automargin": true,
           "gridcolor": "#283442",
           "linecolor": "#506784",
           "ticks": "",
           "title": {
            "standoff": 15
           },
           "zerolinecolor": "#283442",
           "zerolinewidth": 2
          },
          "yaxis": {
           "automargin": true,
           "gridcolor": "#283442",
           "linecolor": "#506784",
           "ticks": "",
           "title": {
            "standoff": 15
           },
           "zerolinecolor": "#283442",
           "zerolinewidth": 2
          }
         }
        },
        "xaxis": {
         "anchor": "y",
         "domain": [
          0,
          1
         ],
         "title": {
          "text": "Date"
         }
        },
        "yaxis": {
         "anchor": "x",
         "domain": [
          0,
          1
         ],
         "title": {
          "text": "Balance"
         }
        }
       }
      }
     },
     "metadata": {},
     "output_type": "display_data"
    },
    {
     "data": {
      "text/html": [
       "<h2> 📈 Scatter-Graph: 90 days</h2>"
      ],
      "text/plain": [
       "<IPython.core.display.HTML object>"
      ]
     },
     "metadata": {},
     "output_type": "display_data"
    },
    {
     "data": {
      "text/html": [
       "from 2022-06-24 00:00:00"
      ],
      "text/plain": [
       "<IPython.core.display.HTML object>"
      ]
     },
     "metadata": {},
     "output_type": "display_data"
    },
    {
     "data": {
      "text/html": [
       "to 2022-09-22 00:00:00"
      ],
      "text/plain": [
       "<IPython.core.display.HTML object>"
      ]
     },
     "metadata": {},
     "output_type": "display_data"
    },
    {
     "data": {
      "text/html": [
       "total -7773"
      ],
      "text/plain": [
       "<IPython.core.display.HTML object>"
      ]
     },
     "metadata": {},
     "output_type": "display_data"
    },
    {
     "data": {
      "application/vnd.plotly.v1+json": {
       "config": {
        "plotlyServerURL": "https://plot.ly"
       },
       "data": [
        {
         "customdata": [
          [
           "health",
           "Hewlett Packard Enterprise",
           646
          ],
          [
           "health",
           "Hewlett Packard Enterprise",
           500
          ],
          [
           "health",
           "Walmart",
           214
          ],
          [
           "health",
           "United Continental Holdings",
           573
          ],
          [
           "health",
           "Travelers",
           801
          ],
          [
           "health",
           "Amazon.com",
           318
          ],
          [
           "health",
           "Omnicom Group",
           813
          ],
          [
           "health",
           "Tapestry",
           896
          ],
          [
           "health",
           "Delta Air Lines",
           605
          ],
          [
           "health",
           "Travelers",
           409
          ],
          [
           "health",
           "Hewlett Packard Enterprise",
           409
          ],
          [
           "health",
           "Cognizant Technology Solutions",
           880
          ],
          [
           "health",
           "Ulta Beauty",
           674
          ],
          [
           "health",
           "CBRE Group",
           843
          ],
          [
           "health",
           "Hershey",
           836
          ],
          [
           "health",
           "PPL",
           227
          ]
         ],
         "hovertemplate": "Category=%{customdata[0]}<br>Date=%{x}<br>Balance=%{y}<br>size=%{marker.size}<br>Location=%{customdata[1]}<br>Delta=%{customdata[2]}<extra></extra>",
         "legendgroup": "health",
         "marker": {
          "color": "#636efa",
          "line": {
           "color": "white",
           "width": 1
          },
          "opacity": 0.8,
          "size": [
           646,
           500,
           214,
           573,
           801,
           318,
           813,
           896,
           605,
           409,
           409,
           880,
           674,
           843,
           836,
           227
          ],
          "sizemode": "area",
          "sizeref": 0.1,
          "symbol": "circle"
         },
         "mode": "markers",
         "name": "health",
         "orientation": "v",
         "showlegend": true,
         "type": "scatter",
         "x": [
          "2022-09-22T00:00:00",
          "2022-09-22T00:00:00",
          "2022-09-16T00:00:00",
          "2022-09-15T00:00:00",
          "2022-09-12T00:00:00",
          "2022-08-23T00:00:00",
          "2022-08-16T00:00:00",
          "2022-08-05T00:00:00",
          "2022-07-25T00:00:00",
          "2022-07-22T00:00:00",
          "2022-07-22T00:00:00",
          "2022-07-18T00:00:00",
          "2022-07-18T00:00:00",
          "2022-07-18T00:00:00",
          "2022-06-27T00:00:00",
          "2022-06-27T00:00:00"
         ],
         "xaxis": "x",
         "y": [
          1236,
          1882,
          390,
          922,
          3083,
          8639,
          9253,
          9746,
          9095,
          9700,
          10109,
          6733,
          7015,
          6857,
          6363,
          6701
         ],
         "yaxis": "y"
        },
        {
         "customdata": [
          [
           "invest",
           "Travelers",
           904
          ],
          [
           "invest",
           "Hershey",
           435
          ],
          [
           "invest",
           "Hershey",
           296
          ],
          [
           "invest",
           "PPL",
           960
          ],
          [
           "invest",
           "Hanesbrands",
           212
          ],
          [
           "invest",
           "Hanesbrands",
           1000
          ],
          [
           "invest",
           "Hershey",
           366
          ],
          [
           "invest",
           "Visa",
           951
          ],
          [
           "invest",
           "Walmart",
           954
          ],
          [
           "invest",
           "Walmart",
           84
          ],
          [
           "invest",
           "Amazon.com",
           267
          ],
          [
           "invest",
           "Amazon.com",
           390
          ],
          [
           "invest",
           "Voya Financial",
           137
          ],
          [
           "invest",
           "Entergy",
           657
          ],
          [
           "invest",
           "Cognizant Technology Solutions",
           460
          ],
          [
           "invest",
           "Travelers",
           361
          ],
          [
           "invest",
           "Hanesbrands",
           752
          ],
          [
           "invest",
           "Tapestry",
           179
          ],
          [
           "invest",
           "TIAA",
           657
          ],
          [
           "invest",
           "Travelers",
           167
          ],
          [
           "invest",
           "Hershey",
           538
          ],
          [
           "invest",
           "TIAA",
           68
          ],
          [
           "invest",
           "Hewlett Packard Enterprise",
           911
          ],
          [
           "invest",
           "Delta Air Lines",
           817
          ],
          [
           "invest",
           "United Continental Holdings",
           238
          ]
         ],
         "hovertemplate": "Category=%{customdata[0]}<br>Date=%{x}<br>Balance=%{y}<br>size=%{marker.size}<br>Location=%{customdata[1]}<br>Delta=%{customdata[2]}<extra></extra>",
         "legendgroup": "invest",
         "marker": {
          "color": "#EF553B",
          "line": {
           "color": "white",
           "width": 1
          },
          "opacity": 0.8,
          "size": [
           904,
           435,
           296,
           960,
           212,
           1000,
           366,
           951,
           954,
           84,
           267,
           390,
           137,
           657,
           460,
           361,
           752,
           179,
           657,
           167,
           538,
           68,
           911,
           817,
           238
          ],
          "sizemode": "area",
          "sizeref": 0.1,
          "symbol": "circle"
         },
         "mode": "markers",
         "name": "invest",
         "orientation": "v",
         "showlegend": true,
         "type": "scatter",
         "x": [
          "2022-09-22T00:00:00",
          "2022-09-19T00:00:00",
          "2022-09-12T00:00:00",
          "2022-09-12T00:00:00",
          "2022-09-09T00:00:00",
          "2022-09-06T00:00:00",
          "2022-09-06T00:00:00",
          "2022-08-31T00:00:00",
          "2022-08-31T00:00:00",
          "2022-08-31T00:00:00",
          "2022-08-29T00:00:00",
          "2022-08-26T00:00:00",
          "2022-08-22T00:00:00",
          "2022-08-19T00:00:00",
          "2022-08-18T00:00:00",
          "2022-08-16T00:00:00",
          "2022-08-08T00:00:00",
          "2022-08-08T00:00:00",
          "2022-08-03T00:00:00",
          "2022-08-01T00:00:00",
          "2022-07-19T00:00:00",
          "2022-07-11T00:00:00",
          "2022-07-11T00:00:00",
          "2022-06-29T00:00:00",
          "2022-06-28T00:00:00"
         ],
         "xaxis": "x",
         "y": [
          2382,
          1886,
          2667,
          2963,
          3567,
          7590,
          9051,
          7033,
          7984,
          8657,
          8978,
          9938,
          8617,
          9962,
          8797,
          10066,
          8425,
          9177,
          8851,
          10104,
          9361,
          6004,
          6072,
          4669,
          5633
         ],
         "yaxis": "y"
        },
        {
         "customdata": [
          [
           "unk",
           "Voya Financial",
           570
          ],
          [
           "unk",
           "Walmart",
           820
          ],
          [
           "unk",
           "Travelers",
           371
          ],
          [
           "unk",
           "Tapestry",
           600
          ],
          [
           "unk",
           "Omnicom Group",
           19
          ],
          [
           "unk",
           "Amazon.com",
           783
          ],
          [
           "unk",
           "Ulta Beauty",
           461
          ],
          [
           "unk",
           "Visa",
           313
          ],
          [
           "unk",
           "Quest Diagnostics",
           217
          ],
          [
           "unk",
           "Hanesbrands",
           34
          ],
          [
           "unk",
           "Voya Financial",
           313
          ],
          [
           "unk",
           "TIAA",
           484
          ],
          [
           "unk",
           "Sysco",
           241
          ],
          [
           "unk",
           "CBRE Group",
           947
          ],
          [
           "unk",
           "Quest Diagnostics",
           995
          ],
          [
           "unk",
           "Walmart",
           426
          ]
         ],
         "hovertemplate": "Category=%{customdata[0]}<br>Date=%{x}<br>Balance=%{y}<br>size=%{marker.size}<br>Location=%{customdata[1]}<br>Delta=%{customdata[2]}<extra></extra>",
         "legendgroup": "unk",
         "marker": {
          "color": "#00cc96",
          "line": {
           "color": "white",
           "width": 1
          },
          "opacity": 0.8,
          "size": [
           570,
           820,
           371,
           600,
           19,
           783,
           461,
           313,
           217,
           34,
           313,
           484,
           241,
           947,
           995,
           426
          ],
          "sizemode": "area",
          "sizeref": 0.1,
          "symbol": "circle"
         },
         "mode": "markers",
         "name": "unk",
         "orientation": "v",
         "showlegend": true,
         "type": "scatter",
         "x": [
          "2022-09-22T00:00:00",
          "2022-09-19T00:00:00",
          "2022-09-14T00:00:00",
          "2022-09-12T00:00:00",
          "2022-09-09T00:00:00",
          "2022-09-09T00:00:00",
          "2022-09-06T00:00:00",
          "2022-08-29T00:00:00",
          "2022-08-15T00:00:00",
          "2022-08-08T00:00:00",
          "2022-08-08T00:00:00",
          "2022-08-01T00:00:00",
          "2022-07-08T00:00:00",
          "2022-06-27T00:00:00",
          "2022-06-27T00:00:00",
          "2022-06-24T00:00:00"
         ],
         "xaxis": "x",
         "y": [
          3286,
          2109,
          3374,
          2804,
          2765,
          2784,
          8590,
          10701,
          9219,
          7715,
          8807,
          9666,
          7060,
          5871,
          7499,
          8583
         ],
         "yaxis": "y"
        },
        {
         "customdata": [
          [
           "clothing",
           "Voya Financial",
           818
          ],
          [
           "clothing",
           "Voya Financial",
           996
          ],
          [
           "clothing",
           "Amazon.com",
           646
          ],
          [
           "clothing",
           "Sysco",
           823
          ],
          [
           "clothing",
           "CBRE Group",
           983
          ],
          [
           "clothing",
           "TIAA",
           202
          ],
          [
           "clothing",
           "TIAA",
           609
          ],
          [
           "clothing",
           "Cognizant Technology Solutions",
           711
          ],
          [
           "clothing",
           "Ulta Beauty",
           832
          ]
         ],
         "hovertemplate": "Category=%{customdata[0]}<br>Date=%{x}<br>Balance=%{y}<br>size=%{marker.size}<br>Location=%{customdata[1]}<br>Delta=%{customdata[2]}<extra></extra>",
         "legendgroup": "clothing",
         "marker": {
          "color": "#ab63fa",
          "line": {
           "color": "white",
           "width": 1
          },
          "opacity": 0.8,
          "size": [
           818,
           996,
           646,
           823,
           983,
           202,
           609,
           711,
           832
          ],
          "sizemode": "area",
          "sizeref": 0.1,
          "symbol": "circle"
         },
         "mode": "markers",
         "name": "clothing",
         "orientation": "v",
         "showlegend": true,
         "type": "scatter",
         "x": [
          "2022-09-20T00:00:00",
          "2022-09-08T00:00:00",
          "2022-08-29T00:00:00",
          "2022-08-08T00:00:00",
          "2022-08-01T00:00:00",
          "2022-07-27T00:00:00",
          "2022-07-22T00:00:00",
          "2022-07-11T00:00:00",
          "2022-07-11T00:00:00"
         ],
         "xaxis": "x",
         "y": [
          3368,
          3607,
          10055,
          8571,
          8683,
          10660,
          10000,
          4997,
          5708
         ],
         "yaxis": "y"
        },
        {
         "customdata": [
          [
           "misc",
           "Delta Air Lines",
           3
          ],
          [
           "misc",
           "Sysco",
           873
          ],
          [
           "misc",
           "CBRE Group",
           38
          ],
          [
           "misc",
           "Omnicom Group",
           153
          ],
          [
           "misc",
           "United Continental Holdings",
           887
          ],
          [
           "misc",
           "Visa",
           822
          ],
          [
           "misc",
           "Sysco",
           497
          ],
          [
           "misc",
           "Cognizant Technology Solutions",
           830
          ],
          [
           "misc",
           "PPL",
           91
          ],
          [
           "misc",
           "Visa",
           353
          ]
         ],
         "hovertemplate": "Category=%{customdata[0]}<br>Date=%{x}<br>Balance=%{y}<br>size=%{marker.size}<br>Location=%{customdata[1]}<br>Delta=%{customdata[2]}<extra></extra>",
         "legendgroup": "misc",
         "marker": {
          "color": "#FFA15A",
          "line": {
           "color": "white",
           "width": 1
          },
          "opacity": 0.8,
          "size": [
           3,
           873,
           38,
           153,
           887,
           822,
           497,
           830,
           91,
           353
          ],
          "sizemode": "area",
          "sizeref": 0.1,
          "symbol": "circle"
         },
         "mode": "markers",
         "name": "misc",
         "orientation": "v",
         "showlegend": true,
         "type": "scatter",
         "x": [
          "2022-09-19T00:00:00",
          "2022-09-06T00:00:00",
          "2022-09-02T00:00:00",
          "2022-08-10T00:00:00",
          "2022-08-10T00:00:00",
          "2022-08-08T00:00:00",
          "2022-07-26T00:00:00",
          "2022-07-08T00:00:00",
          "2022-07-08T00:00:00",
          "2022-07-01T00:00:00"
         ],
         "xaxis": "x",
         "y": [
          2106,
          5946,
          7352,
          7445,
          8965,
          7749,
          10290,
          6230,
          7301,
          5920
         ],
         "yaxis": "y"
        },
        {
         "customdata": [
          [
           "grocery",
           "Travelers",
           278
          ],
          [
           "grocery",
           "Travelers",
           5
          ],
          [
           "grocery",
           "TIAA",
           987
          ],
          [
           "grocery",
           "Ulta Beauty",
           651
          ],
          [
           "grocery",
           "Sysco",
           944
          ],
          [
           "grocery",
           "Walmart",
           673
          ],
          [
           "grocery",
           "TIAA",
           477
          ],
          [
           "grocery",
           "Sysco",
           905
          ],
          [
           "grocery",
           "Hewlett Packard Enterprise",
           168
          ],
          [
           "grocery",
           "Delta Air Lines",
           883
          ],
          [
           "grocery",
           "Visa",
           945
          ],
          [
           "grocery",
           "Ulta Beauty",
           211
          ],
          [
           "grocery",
           "Delta Air Lines",
           274
          ],
          [
           "grocery",
           "Omnicom Group",
           171
          ],
          [
           "grocery",
           "Hanesbrands",
           90
          ],
          [
           "grocery",
           "Travelers",
           63
          ],
          [
           "grocery",
           "PPL",
           902
          ]
         ],
         "hovertemplate": "Category=%{customdata[0]}<br>Date=%{x}<br>Balance=%{y}<br>size=%{marker.size}<br>Location=%{customdata[1]}<br>Delta=%{customdata[2]}<extra></extra>",
         "legendgroup": "grocery",
         "marker": {
          "color": "#19d3f3",
          "line": {
           "color": "white",
           "width": 1
          },
          "opacity": 0.8,
          "size": [
           278,
           5,
           987,
           651,
           944,
           673,
           477,
           905,
           168,
           883,
           945,
           211,
           274,
           171,
           90,
           63,
           902
          ],
          "sizemode": "area",
          "sizeref": 0.1,
          "symbol": "circle"
         },
         "mode": "markers",
         "name": "grocery",
         "orientation": "v",
         "showlegend": true,
         "type": "scatter",
         "x": [
          "2022-09-19T00:00:00",
          "2022-09-13T00:00:00",
          "2022-09-13T00:00:00",
          "2022-09-07T00:00:00",
          "2022-09-06T00:00:00",
          "2022-09-06T00:00:00",
          "2022-08-30T00:00:00",
          "2022-08-22T00:00:00",
          "2022-08-22T00:00:00",
          "2022-08-22T00:00:00",
          "2022-08-22T00:00:00",
          "2022-08-15T00:00:00",
          "2022-08-15T00:00:00",
          "2022-08-02T00:00:00",
          "2022-07-28T00:00:00",
          "2022-07-08T00:00:00",
          "2022-06-27T00:00:00"
         ],
         "xaxis": "x",
         "y": [
          2211,
          3692,
          3697,
          5513,
          4493,
          6029,
          8342,
          8754,
          9659,
          8754,
          9637,
          8460,
          8671,
          9508,
          10570,
          6167,
          8494
         ],
         "yaxis": "y"
        },
        {
         "customdata": [
          [
           "travel",
           "Cognizant Technology Solutions",
           910
          ],
          [
           "travel",
           "Walmart",
           745
          ],
          [
           "travel",
           "Walmart",
           318
          ],
          [
           "travel",
           "Walmart",
           998
          ],
          [
           "travel",
           "CBRE Group",
           307
          ],
          [
           "travel",
           "Hanesbrands",
           782
          ],
          [
           "travel",
           "Amazon.com",
           494
          ],
          [
           "travel",
           "Entergy",
           710
          ],
          [
           "travel",
           "Amazon.com",
           950
          ],
          [
           "travel",
           "Delta Air Lines",
           480
          ],
          [
           "travel",
           "Voya Financial",
           363
          ],
          [
           "travel",
           "Walmart",
           199
          ],
          [
           "travel",
           "CBRE Group",
           314
          ],
          [
           "travel",
           "Cognizant Technology Solutions",
           420
          ],
          [
           "travel",
           "Hershey",
           552
          ],
          [
           "travel",
           "Ulta Beauty",
           775
          ]
         ],
         "hovertemplate": "Category=%{customdata[0]}<br>Date=%{x}<br>Balance=%{y}<br>size=%{marker.size}<br>Location=%{customdata[1]}<br>Delta=%{customdata[2]}<extra></extra>",
         "legendgroup": "travel",
         "marker": {
          "color": "#FF6692",
          "line": {
           "color": "white",
           "width": 1
          },
          "opacity": 0.8,
          "size": [
           910,
           745,
           318,
           998,
           307,
           782,
           494,
           710,
           950,
           480,
           363,
           199,
           314,
           420,
           552,
           775
          ],
          "sizemode": "area",
          "sizeref": 0.1,
          "symbol": "circle"
         },
         "mode": "markers",
         "name": "travel",
         "orientation": "v",
         "showlegend": true,
         "type": "scatter",
         "x": [
          "2022-09-19T00:00:00",
          "2022-09-19T00:00:00",
          "2022-09-16T00:00:00",
          "2022-09-15T00:00:00",
          "2022-09-06T00:00:00",
          "2022-08-30T00:00:00",
          "2022-08-22T00:00:00",
          "2022-08-10T00:00:00",
          "2022-08-02T00:00:00",
          "2022-08-01T00:00:00",
          "2022-07-29T00:00:00",
          "2022-07-28T00:00:00",
          "2022-07-19T00:00:00",
          "2022-07-05T00:00:00",
          "2022-07-05T00:00:00",
          "2022-06-29T00:00:00"
         ],
         "xaxis": "x",
         "y": [
          2489,
          1841,
          604,
          2376,
          6819,
          8196,
          10582,
          8255,
          9679,
          9624,
          11005,
          10371,
          9613,
          7163,
          6123,
          3894
         ],
         "yaxis": "y"
        },
        {
         "customdata": [
          [
           "utility",
           "Hewlett Packard Enterprise",
           881
          ],
          [
           "utility",
           "Visa",
           626
          ],
          [
           "utility",
           "Entergy",
           33
          ],
          [
           "utility",
           "United Continental Holdings",
           652
          ],
          [
           "utility",
           "Visa",
           728
          ],
          [
           "utility",
           "Entergy",
           895
          ]
         ],
         "hovertemplate": "Category=%{customdata[0]}<br>Date=%{x}<br>Balance=%{y}<br>size=%{marker.size}<br>Location=%{customdata[1]}<br>Delta=%{customdata[2]}<extra></extra>",
         "legendgroup": "utility",
         "marker": {
          "color": "#B6E880",
          "line": {
           "color": "white",
           "width": 1
          },
          "opacity": 0.8,
          "size": [
           881,
           626,
           33,
           652,
           728,
           895
          ],
          "sizemode": "area",
          "sizeref": 0.1,
          "symbol": "circle"
         },
         "mode": "markers",
         "name": "utility",
         "orientation": "v",
         "showlegend": true,
         "type": "scatter",
         "x": [
          "2022-09-15T00:00:00",
          "2022-08-08T00:00:00",
          "2022-07-29T00:00:00",
          "2022-07-15T00:00:00",
          "2022-07-15T00:00:00",
          "2022-06-27T00:00:00"
         ],
         "xaxis": "x",
         "y": [
          1495,
          9120,
          10338,
          7700,
          7048,
          6928
         ],
         "yaxis": "y"
        },
        {
         "customdata": [
          [
           "tech",
           "Hanesbrands",
           413
          ],
          [
           "tech",
           "Quest Diagnostics",
           252
          ],
          [
           "tech",
           "Amazon.com",
           910
          ],
          [
           "tech",
           "Sysco",
           464
          ],
          [
           "tech",
           "Hewlett Packard Enterprise",
           368
          ],
          [
           "tech",
           "Travelers",
           410
          ],
          [
           "tech",
           "Hewlett Packard Enterprise",
           243
          ],
          [
           "tech",
           "United Continental Holdings",
           581
          ],
          [
           "tech",
           "Amazon.com",
           825
          ],
          [
           "tech",
           "TIAA",
           339
          ],
          [
           "tech",
           "United Continental Holdings",
           125
          ],
          [
           "tech",
           "Voya Financial",
           634
          ]
         ],
         "hovertemplate": "Category=%{customdata[0]}<br>Date=%{x}<br>Balance=%{y}<br>size=%{marker.size}<br>Location=%{customdata[1]}<br>Delta=%{customdata[2]}<extra></extra>",
         "legendgroup": "tech",
         "marker": {
          "color": "#FF97FF",
          "line": {
           "color": "white",
           "width": 1
          },
          "opacity": 0.8,
          "size": [
           413,
           252,
           910,
           464,
           368,
           410,
           243,
           581,
           825,
           339,
           125,
           634
          ],
          "sizemode": "area",
          "sizeref": 0.1,
          "symbol": "circle"
         },
         "mode": "markers",
         "name": "tech",
         "orientation": "v",
         "showlegend": true,
         "type": "scatter",
         "x": [
          "2022-09-13T00:00:00",
          "2022-09-08T00:00:00",
          "2022-09-07T00:00:00",
          "2022-09-06T00:00:00",
          "2022-08-24T00:00:00",
          "2022-08-22T00:00:00",
          "2022-08-09T00:00:00",
          "2022-08-01T00:00:00",
          "2022-07-29T00:00:00",
          "2022-07-11T00:00:00",
          "2022-07-05T00:00:00",
          "2022-06-28T00:00:00"
         ],
         "xaxis": "x",
         "y": [
          4684,
          3785,
          4603,
          7126,
          8475,
          8966,
          8125,
          9974,
          10180,
          4658,
          5795,
          4999
         ],
         "yaxis": "y"
        },
        {
         "customdata": [
          [
           "paypal",
           "United Continental Holdings",
           822
          ],
          [
           "paypal",
           "Ulta Beauty",
           536
          ],
          [
           "paypal",
           "Hanesbrands",
           420
          ],
          [
           "paypal",
           "PPL",
           650
          ],
          [
           "paypal",
           "Hanesbrands",
           141
          ],
          [
           "paypal",
           "PPL",
           579
          ],
          [
           "paypal",
           "TIAA",
           37
          ],
          [
           "paypal",
           "Omnicom Group",
           590
          ],
          [
           "paypal",
           "Ulta Beauty",
           727
          ]
         ],
         "hovertemplate": "Category=%{customdata[0]}<br>Date=%{x}<br>Balance=%{y}<br>size=%{marker.size}<br>Location=%{customdata[1]}<br>Delta=%{customdata[2]}<extra></extra>",
         "legendgroup": "paypal",
         "marker": {
          "color": "#FECB52",
          "line": {
           "color": "white",
           "width": 1
          },
          "opacity": 0.8,
          "size": [
           822,
           536,
           420,
           650,
           141,
           579,
           37,
           590,
           727
          ],
          "sizemode": "area",
          "sizeref": 0.1,
          "symbol": "circle"
         },
         "mode": "markers",
         "name": "paypal",
         "orientation": "v",
         "showlegend": true,
         "type": "scatter",
         "x": [
          "2022-09-09T00:00:00",
          "2022-09-06T00:00:00",
          "2022-09-06T00:00:00",
          "2022-09-06T00:00:00",
          "2022-08-31T00:00:00",
          "2022-08-29T00:00:00",
          "2022-08-24T00:00:00",
          "2022-08-17T00:00:00",
          "2022-07-29T00:00:00"
         ],
         "xaxis": "x",
         "y": [
          3779,
          5437,
          6505,
          6702,
          6892,
          9476,
          8602,
          8969,
          11368
         ],
         "yaxis": "y"
        },
        {
         "customdata": [
          [
           "debt",
           "Omnicom Group",
           231
          ],
          [
           "debt",
           "Walmart",
           30
          ],
          [
           "debt",
           "Ulta Beauty",
           286
          ],
          [
           "debt",
           "Cognizant Technology Solutions",
           657
          ],
          [
           "debt",
           "TIAA",
           940
          ],
          [
           "debt",
           "Sysco",
           365
          ],
          [
           "debt",
           "CBRE Group",
           420
          ]
         ],
         "hovertemplate": "Category=%{customdata[0]}<br>Date=%{x}<br>Balance=%{y}<br>size=%{marker.size}<br>Location=%{customdata[1]}<br>Delta=%{customdata[2]}<extra></extra>",
         "legendgroup": "debt",
         "marker": {
          "color": "#636efa",
          "line": {
           "color": "white",
           "width": 1
          },
          "opacity": 0.8,
          "size": [
           231,
           30,
           286,
           657,
           940,
           365,
           420
          ],
          "sizemode": "area",
          "sizeref": 0.1,
          "symbol": "circle"
         },
         "mode": "markers",
         "name": "debt",
         "orientation": "v",
         "showlegend": true,
         "type": "scatter",
         "x": [
          "2022-08-29T00:00:00",
          "2022-08-25T00:00:00",
          "2022-08-17T00:00:00",
          "2022-08-10T00:00:00",
          "2022-08-01T00:00:00",
          "2022-07-26T00:00:00",
          "2022-07-18T00:00:00"
         ],
         "xaxis": "x",
         "y": [
          9245,
          9256,
          8967,
          7598,
          10150,
          9925,
          7613
         ],
         "yaxis": "y"
        }
       ],
       "layout": {
        "height": 1000,
        "legend": {
         "itemsizing": "constant",
         "title": {
          "text": "Category"
         },
         "tracegroupgap": 0
        },
        "margin": {
         "t": 60
        },
        "template": {
         "data": {
          "bar": [
           {
            "error_x": {
             "color": "#f2f5fa"
            },
            "error_y": {
             "color": "#f2f5fa"
            },
            "marker": {
             "line": {
              "color": "rgb(17,17,17)",
              "width": 0.5
             },
             "pattern": {
              "fillmode": "overlay",
              "size": 10,
              "solidity": 0.2
             }
            },
            "type": "bar"
           }
          ],
          "barpolar": [
           {
            "marker": {
             "line": {
              "color": "rgb(17,17,17)",
              "width": 0.5
             },
             "pattern": {
              "fillmode": "overlay",
              "size": 10,
              "solidity": 0.2
             }
            },
            "type": "barpolar"
           }
          ],
          "carpet": [
           {
            "aaxis": {
             "endlinecolor": "#A2B1C6",
             "gridcolor": "#506784",
             "linecolor": "#506784",
             "minorgridcolor": "#506784",
             "startlinecolor": "#A2B1C6"
            },
            "baxis": {
             "endlinecolor": "#A2B1C6",
             "gridcolor": "#506784",
             "linecolor": "#506784",
             "minorgridcolor": "#506784",
             "startlinecolor": "#A2B1C6"
            },
            "type": "carpet"
           }
          ],
          "choropleth": [
           {
            "colorbar": {
             "outlinewidth": 0,
             "ticks": ""
            },
            "type": "choropleth"
           }
          ],
          "contour": [
           {
            "colorbar": {
             "outlinewidth": 0,
             "ticks": ""
            },
            "colorscale": [
             [
              0,
              "#0d0887"
             ],
             [
              0.1111111111111111,
              "#46039f"
             ],
             [
              0.2222222222222222,
              "#7201a8"
             ],
             [
              0.3333333333333333,
              "#9c179e"
             ],
             [
              0.4444444444444444,
              "#bd3786"
             ],
             [
              0.5555555555555556,
              "#d8576b"
             ],
             [
              0.6666666666666666,
              "#ed7953"
             ],
             [
              0.7777777777777778,
              "#fb9f3a"
             ],
             [
              0.8888888888888888,
              "#fdca26"
             ],
             [
              1,
              "#f0f921"
             ]
            ],
            "type": "contour"
           }
          ],
          "contourcarpet": [
           {
            "colorbar": {
             "outlinewidth": 0,
             "ticks": ""
            },
            "type": "contourcarpet"
           }
          ],
          "heatmap": [
           {
            "colorbar": {
             "outlinewidth": 0,
             "ticks": ""
            },
            "colorscale": [
             [
              0,
              "#0d0887"
             ],
             [
              0.1111111111111111,
              "#46039f"
             ],
             [
              0.2222222222222222,
              "#7201a8"
             ],
             [
              0.3333333333333333,
              "#9c179e"
             ],
             [
              0.4444444444444444,
              "#bd3786"
             ],
             [
              0.5555555555555556,
              "#d8576b"
             ],
             [
              0.6666666666666666,
              "#ed7953"
             ],
             [
              0.7777777777777778,
              "#fb9f3a"
             ],
             [
              0.8888888888888888,
              "#fdca26"
             ],
             [
              1,
              "#f0f921"
             ]
            ],
            "type": "heatmap"
           }
          ],
          "heatmapgl": [
           {
            "colorbar": {
             "outlinewidth": 0,
             "ticks": ""
            },
            "colorscale": [
             [
              0,
              "#0d0887"
             ],
             [
              0.1111111111111111,
              "#46039f"
             ],
             [
              0.2222222222222222,
              "#7201a8"
             ],
             [
              0.3333333333333333,
              "#9c179e"
             ],
             [
              0.4444444444444444,
              "#bd3786"
             ],
             [
              0.5555555555555556,
              "#d8576b"
             ],
             [
              0.6666666666666666,
              "#ed7953"
             ],
             [
              0.7777777777777778,
              "#fb9f3a"
             ],
             [
              0.8888888888888888,
              "#fdca26"
             ],
             [
              1,
              "#f0f921"
             ]
            ],
            "type": "heatmapgl"
           }
          ],
          "histogram": [
           {
            "marker": {
             "pattern": {
              "fillmode": "overlay",
              "size": 10,
              "solidity": 0.2
             }
            },
            "type": "histogram"
           }
          ],
          "histogram2d": [
           {
            "colorbar": {
             "outlinewidth": 0,
             "ticks": ""
            },
            "colorscale": [
             [
              0,
              "#0d0887"
             ],
             [
              0.1111111111111111,
              "#46039f"
             ],
             [
              0.2222222222222222,
              "#7201a8"
             ],
             [
              0.3333333333333333,
              "#9c179e"
             ],
             [
              0.4444444444444444,
              "#bd3786"
             ],
             [
              0.5555555555555556,
              "#d8576b"
             ],
             [
              0.6666666666666666,
              "#ed7953"
             ],
             [
              0.7777777777777778,
              "#fb9f3a"
             ],
             [
              0.8888888888888888,
              "#fdca26"
             ],
             [
              1,
              "#f0f921"
             ]
            ],
            "type": "histogram2d"
           }
          ],
          "histogram2dcontour": [
           {
            "colorbar": {
             "outlinewidth": 0,
             "ticks": ""
            },
            "colorscale": [
             [
              0,
              "#0d0887"
             ],
             [
              0.1111111111111111,
              "#46039f"
             ],
             [
              0.2222222222222222,
              "#7201a8"
             ],
             [
              0.3333333333333333,
              "#9c179e"
             ],
             [
              0.4444444444444444,
              "#bd3786"
             ],
             [
              0.5555555555555556,
              "#d8576b"
             ],
             [
              0.6666666666666666,
              "#ed7953"
             ],
             [
              0.7777777777777778,
              "#fb9f3a"
             ],
             [
              0.8888888888888888,
              "#fdca26"
             ],
             [
              1,
              "#f0f921"
             ]
            ],
            "type": "histogram2dcontour"
           }
          ],
          "mesh3d": [
           {
            "colorbar": {
             "outlinewidth": 0,
             "ticks": ""
            },
            "type": "mesh3d"
           }
          ],
          "parcoords": [
           {
            "line": {
             "colorbar": {
              "outlinewidth": 0,
              "ticks": ""
             }
            },
            "type": "parcoords"
           }
          ],
          "pie": [
           {
            "automargin": true,
            "type": "pie"
           }
          ],
          "scatter": [
           {
            "marker": {
             "line": {
              "color": "#283442"
             }
            },
            "type": "scatter"
           }
          ],
          "scatter3d": [
           {
            "line": {
             "colorbar": {
              "outlinewidth": 0,
              "ticks": ""
             }
            },
            "marker": {
             "colorbar": {
              "outlinewidth": 0,
              "ticks": ""
             }
            },
            "type": "scatter3d"
           }
          ],
          "scattercarpet": [
           {
            "marker": {
             "colorbar": {
              "outlinewidth": 0,
              "ticks": ""
             }
            },
            "type": "scattercarpet"
           }
          ],
          "scattergeo": [
           {
            "marker": {
             "colorbar": {
              "outlinewidth": 0,
              "ticks": ""
             }
            },
            "type": "scattergeo"
           }
          ],
          "scattergl": [
           {
            "marker": {
             "line": {
              "color": "#283442"
             }
            },
            "type": "scattergl"
           }
          ],
          "scattermapbox": [
           {
            "marker": {
             "colorbar": {
              "outlinewidth": 0,
              "ticks": ""
             }
            },
            "type": "scattermapbox"
           }
          ],
          "scatterpolar": [
           {
            "marker": {
             "colorbar": {
              "outlinewidth": 0,
              "ticks": ""
             }
            },
            "type": "scatterpolar"
           }
          ],
          "scatterpolargl": [
           {
            "marker": {
             "colorbar": {
              "outlinewidth": 0,
              "ticks": ""
             }
            },
            "type": "scatterpolargl"
           }
          ],
          "scatterternary": [
           {
            "marker": {
             "colorbar": {
              "outlinewidth": 0,
              "ticks": ""
             }
            },
            "type": "scatterternary"
           }
          ],
          "surface": [
           {
            "colorbar": {
             "outlinewidth": 0,
             "ticks": ""
            },
            "colorscale": [
             [
              0,
              "#0d0887"
             ],
             [
              0.1111111111111111,
              "#46039f"
             ],
             [
              0.2222222222222222,
              "#7201a8"
             ],
             [
              0.3333333333333333,
              "#9c179e"
             ],
             [
              0.4444444444444444,
              "#bd3786"
             ],
             [
              0.5555555555555556,
              "#d8576b"
             ],
             [
              0.6666666666666666,
              "#ed7953"
             ],
             [
              0.7777777777777778,
              "#fb9f3a"
             ],
             [
              0.8888888888888888,
              "#fdca26"
             ],
             [
              1,
              "#f0f921"
             ]
            ],
            "type": "surface"
           }
          ],
          "table": [
           {
            "cells": {
             "fill": {
              "color": "#506784"
             },
             "line": {
              "color": "rgb(17,17,17)"
             }
            },
            "header": {
             "fill": {
              "color": "#2a3f5f"
             },
             "line": {
              "color": "rgb(17,17,17)"
             }
            },
            "type": "table"
           }
          ]
         },
         "layout": {
          "annotationdefaults": {
           "arrowcolor": "#f2f5fa",
           "arrowhead": 0,
           "arrowwidth": 1
          },
          "autotypenumbers": "strict",
          "coloraxis": {
           "colorbar": {
            "outlinewidth": 0,
            "ticks": ""
           }
          },
          "colorscale": {
           "diverging": [
            [
             0,
             "#8e0152"
            ],
            [
             0.1,
             "#c51b7d"
            ],
            [
             0.2,
             "#de77ae"
            ],
            [
             0.3,
             "#f1b6da"
            ],
            [
             0.4,
             "#fde0ef"
            ],
            [
             0.5,
             "#f7f7f7"
            ],
            [
             0.6,
             "#e6f5d0"
            ],
            [
             0.7,
             "#b8e186"
            ],
            [
             0.8,
             "#7fbc41"
            ],
            [
             0.9,
             "#4d9221"
            ],
            [
             1,
             "#276419"
            ]
           ],
           "sequential": [
            [
             0,
             "#0d0887"
            ],
            [
             0.1111111111111111,
             "#46039f"
            ],
            [
             0.2222222222222222,
             "#7201a8"
            ],
            [
             0.3333333333333333,
             "#9c179e"
            ],
            [
             0.4444444444444444,
             "#bd3786"
            ],
            [
             0.5555555555555556,
             "#d8576b"
            ],
            [
             0.6666666666666666,
             "#ed7953"
            ],
            [
             0.7777777777777778,
             "#fb9f3a"
            ],
            [
             0.8888888888888888,
             "#fdca26"
            ],
            [
             1,
             "#f0f921"
            ]
           ],
           "sequentialminus": [
            [
             0,
             "#0d0887"
            ],
            [
             0.1111111111111111,
             "#46039f"
            ],
            [
             0.2222222222222222,
             "#7201a8"
            ],
            [
             0.3333333333333333,
             "#9c179e"
            ],
            [
             0.4444444444444444,
             "#bd3786"
            ],
            [
             0.5555555555555556,
             "#d8576b"
            ],
            [
             0.6666666666666666,
             "#ed7953"
            ],
            [
             0.7777777777777778,
             "#fb9f3a"
            ],
            [
             0.8888888888888888,
             "#fdca26"
            ],
            [
             1,
             "#f0f921"
            ]
           ]
          },
          "colorway": [
           "#636efa",
           "#EF553B",
           "#00cc96",
           "#ab63fa",
           "#FFA15A",
           "#19d3f3",
           "#FF6692",
           "#B6E880",
           "#FF97FF",
           "#FECB52"
          ],
          "font": {
           "color": "#f2f5fa"
          },
          "geo": {
           "bgcolor": "rgb(17,17,17)",
           "lakecolor": "rgb(17,17,17)",
           "landcolor": "rgb(17,17,17)",
           "showlakes": true,
           "showland": true,
           "subunitcolor": "#506784"
          },
          "hoverlabel": {
           "align": "left"
          },
          "hovermode": "closest",
          "mapbox": {
           "style": "dark"
          },
          "paper_bgcolor": "rgb(17,17,17)",
          "plot_bgcolor": "rgb(17,17,17)",
          "polar": {
           "angularaxis": {
            "gridcolor": "#506784",
            "linecolor": "#506784",
            "ticks": ""
           },
           "bgcolor": "rgb(17,17,17)",
           "radialaxis": {
            "gridcolor": "#506784",
            "linecolor": "#506784",
            "ticks": ""
           }
          },
          "scene": {
           "xaxis": {
            "backgroundcolor": "rgb(17,17,17)",
            "gridcolor": "#506784",
            "gridwidth": 2,
            "linecolor": "#506784",
            "showbackground": true,
            "ticks": "",
            "zerolinecolor": "#C8D4E3"
           },
           "yaxis": {
            "backgroundcolor": "rgb(17,17,17)",
            "gridcolor": "#506784",
            "gridwidth": 2,
            "linecolor": "#506784",
            "showbackground": true,
            "ticks": "",
            "zerolinecolor": "#C8D4E3"
           },
           "zaxis": {
            "backgroundcolor": "rgb(17,17,17)",
            "gridcolor": "#506784",
            "gridwidth": 2,
            "linecolor": "#506784",
            "showbackground": true,
            "ticks": "",
            "zerolinecolor": "#C8D4E3"
           }
          },
          "shapedefaults": {
           "line": {
            "color": "#f2f5fa"
           }
          },
          "sliderdefaults": {
           "bgcolor": "#C8D4E3",
           "bordercolor": "rgb(17,17,17)",
           "borderwidth": 1,
           "tickwidth": 0
          },
          "ternary": {
           "aaxis": {
            "gridcolor": "#506784",
            "linecolor": "#506784",
            "ticks": ""
           },
           "baxis": {
            "gridcolor": "#506784",
            "linecolor": "#506784",
            "ticks": ""
           },
           "bgcolor": "rgb(17,17,17)",
           "caxis": {
            "gridcolor": "#506784",
            "linecolor": "#506784",
            "ticks": ""
           }
          },
          "title": {
           "x": 0.05
          },
          "updatemenudefaults": {
           "bgcolor": "#506784",
           "borderwidth": 0
          },
          "xaxis": {
           "automargin": true,
           "gridcolor": "#283442",
           "linecolor": "#506784",
           "ticks": "",
           "title": {
            "standoff": 15
           },
           "zerolinecolor": "#283442",
           "zerolinewidth": 2
          },
          "yaxis": {
           "automargin": true,
           "gridcolor": "#283442",
           "linecolor": "#506784",
           "ticks": "",
           "title": {
            "standoff": 15
           },
           "zerolinecolor": "#283442",
           "zerolinewidth": 2
          }
         }
        },
        "xaxis": {
         "anchor": "y",
         "domain": [
          0,
          1
         ],
         "title": {
          "text": "Date"
         }
        },
        "yaxis": {
         "anchor": "x",
         "domain": [
          0,
          1
         ],
         "title": {
          "text": "Balance"
         }
        }
       }
      }
     },
     "metadata": {},
     "output_type": "display_data"
    },
    {
     "data": {
      "text/html": [
       "<h2> 📈 Scatter-Graph: Year</h2>"
      ],
      "text/plain": [
       "<IPython.core.display.HTML object>"
      ]
     },
     "metadata": {},
     "output_type": "display_data"
    },
    {
     "data": {
      "text/html": [
       "from 2022-01-03 00:00:00"
      ],
      "text/plain": [
       "<IPython.core.display.HTML object>"
      ]
     },
     "metadata": {},
     "output_type": "display_data"
    },
    {
     "data": {
      "text/html": [
       "to 2022-09-22 00:00:00"
      ],
      "text/plain": [
       "<IPython.core.display.HTML object>"
      ]
     },
     "metadata": {},
     "output_type": "display_data"
    },
    {
     "data": {
      "text/html": [
       "total -34"
      ],
      "text/plain": [
       "<IPython.core.display.HTML object>"
      ]
     },
     "metadata": {},
     "output_type": "display_data"
    },
    {
     "data": {
      "application/vnd.plotly.v1+json": {
       "config": {
        "plotlyServerURL": "https://plot.ly"
       },
       "data": [
        {
         "customdata": [
          [
           "health",
           "Hewlett Packard Enterprise",
           646
          ],
          [
           "health",
           "Hewlett Packard Enterprise",
           500
          ],
          [
           "health",
           "Walmart",
           214
          ],
          [
           "health",
           "United Continental Holdings",
           573
          ],
          [
           "health",
           "Travelers",
           801
          ],
          [
           "health",
           "Amazon.com",
           318
          ],
          [
           "health",
           "Omnicom Group",
           813
          ],
          [
           "health",
           "Tapestry",
           896
          ],
          [
           "health",
           "Delta Air Lines",
           605
          ],
          [
           "health",
           "Travelers",
           409
          ],
          [
           "health",
           "Hewlett Packard Enterprise",
           409
          ],
          [
           "health",
           "Cognizant Technology Solutions",
           880
          ],
          [
           "health",
           "Ulta Beauty",
           674
          ],
          [
           "health",
           "CBRE Group",
           843
          ],
          [
           "health",
           "Hershey",
           836
          ],
          [
           "health",
           "PPL",
           227
          ],
          [
           "health",
           "TIAA",
           403
          ],
          [
           "health",
           "Visa",
           825
          ],
          [
           "health",
           "Voya Financial",
           97
          ],
          [
           "health",
           "United Continental Holdings",
           949
          ],
          [
           "health",
           "Tapestry",
           210
          ],
          [
           "health",
           "Visa",
           934
          ],
          [
           "health",
           "Amazon.com",
           981
          ],
          [
           "health",
           "Delta Air Lines",
           453
          ],
          [
           "health",
           "Voya Financial",
           42
          ],
          [
           "health",
           "Amazon.com",
           847
          ],
          [
           "health",
           "Hewlett Packard Enterprise",
           881
          ],
          [
           "health",
           "Hewlett Packard Enterprise",
           947
          ],
          [
           "health",
           "Travelers",
           322
          ],
          [
           "health",
           "CBRE Group",
           994
          ],
          [
           "health",
           "PPL",
           453
          ],
          [
           "health",
           "Ulta Beauty",
           771
          ],
          [
           "health",
           "Visa",
           373
          ],
          [
           "health",
           "Cognizant Technology Solutions",
           67
          ],
          [
           "health",
           "Walmart",
           977
          ],
          [
           "health",
           "Walmart",
           914
          ],
          [
           "health",
           "Hanesbrands",
           734
          ],
          [
           "health",
           "Voya Financial",
           844
          ],
          [
           "health",
           "United Continental Holdings",
           615
          ],
          [
           "health",
           "Voya Financial",
           38
          ],
          [
           "health",
           "Ulta Beauty",
           747
          ],
          [
           "health",
           "Omnicom Group",
           77
          ],
          [
           "health",
           "Cognizant Technology Solutions",
           784
          ],
          [
           "health",
           "Omnicom Group",
           109
          ]
         ],
         "hovertemplate": "Category=%{customdata[0]}<br>Date=%{x}<br>Balance=%{y}<br>size=%{marker.size}<br>Location=%{customdata[1]}<br>Delta=%{customdata[2]}<extra></extra>",
         "legendgroup": "health",
         "marker": {
          "color": "#636efa",
          "line": {
           "color": "white",
           "width": 1
          },
          "opacity": 0.8,
          "size": [
           646,
           500,
           214,
           573,
           801,
           318,
           813,
           896,
           605,
           409,
           409,
           880,
           674,
           843,
           836,
           227,
           403,
           825,
           97,
           949,
           210,
           934,
           981,
           453,
           42,
           847,
           881,
           947,
           322,
           994,
           453,
           771,
           373,
           67,
           977,
           914,
           734,
           844,
           615,
           38,
           747,
           77,
           784,
           109
          ],
          "sizemode": "area",
          "sizeref": 0.1,
          "symbol": "circle"
         },
         "mode": "markers",
         "name": "health",
         "orientation": "v",
         "showlegend": true,
         "type": "scatter",
         "x": [
          "2022-09-22T00:00:00",
          "2022-09-22T00:00:00",
          "2022-09-16T00:00:00",
          "2022-09-15T00:00:00",
          "2022-09-12T00:00:00",
          "2022-08-23T00:00:00",
          "2022-08-16T00:00:00",
          "2022-08-05T00:00:00",
          "2022-07-25T00:00:00",
          "2022-07-22T00:00:00",
          "2022-07-22T00:00:00",
          "2022-07-18T00:00:00",
          "2022-07-18T00:00:00",
          "2022-07-18T00:00:00",
          "2022-06-27T00:00:00",
          "2022-06-27T00:00:00",
          "2022-06-06T00:00:00",
          "2022-06-02T00:00:00",
          "2022-05-23T00:00:00",
          "2022-05-23T00:00:00",
          "2022-05-09T00:00:00",
          "2022-05-09T00:00:00",
          "2022-04-29T00:00:00",
          "2022-04-28T00:00:00",
          "2022-04-27T00:00:00",
          "2022-04-11T00:00:00",
          "2022-04-11T00:00:00",
          "2022-04-05T00:00:00",
          "2022-03-31T00:00:00",
          "2022-03-28T00:00:00",
          "2022-03-28T00:00:00",
          "2022-03-21T00:00:00",
          "2022-03-21T00:00:00",
          "2022-03-21T00:00:00",
          "2022-03-18T00:00:00",
          "2022-03-16T00:00:00",
          "2022-03-15T00:00:00",
          "2022-03-14T00:00:00",
          "2022-03-14T00:00:00",
          "2022-03-09T00:00:00",
          "2022-02-23T00:00:00",
          "2022-01-13T00:00:00",
          "2022-01-07T00:00:00",
          "2022-01-05T00:00:00"
         ],
         "xaxis": "x",
         "y": [
          1236,
          1882,
          390,
          922,
          3083,
          8639,
          9253,
          9746,
          9095,
          9700,
          10109,
          6733,
          7015,
          6857,
          6363,
          6701,
          11736,
          10132,
          10166,
          9480,
          9215,
          10010,
          14657,
          14484,
          18958,
          10677,
          12159,
          10289,
          8624,
          8105,
          10492,
          9020,
          9134,
          9507,
          9059,
          10635,
          11549,
          9592,
          10436,
          9777,
          6672,
          885,
          301,
          709
         ],
         "yaxis": "y"
        },
        {
         "customdata": [
          [
           "invest",
           "Travelers",
           904
          ],
          [
           "invest",
           "Hershey",
           435
          ],
          [
           "invest",
           "Hershey",
           296
          ],
          [
           "invest",
           "PPL",
           960
          ],
          [
           "invest",
           "Hanesbrands",
           212
          ],
          [
           "invest",
           "Hanesbrands",
           1000
          ],
          [
           "invest",
           "Hershey",
           366
          ],
          [
           "invest",
           "Visa",
           951
          ],
          [
           "invest",
           "Walmart",
           954
          ],
          [
           "invest",
           "Walmart",
           84
          ],
          [
           "invest",
           "Amazon.com",
           267
          ],
          [
           "invest",
           "Amazon.com",
           390
          ],
          [
           "invest",
           "Voya Financial",
           137
          ],
          [
           "invest",
           "Entergy",
           657
          ],
          [
           "invest",
           "Cognizant Technology Solutions",
           460
          ],
          [
           "invest",
           "Travelers",
           361
          ],
          [
           "invest",
           "Hanesbrands",
           752
          ],
          [
           "invest",
           "Tapestry",
           179
          ],
          [
           "invest",
           "TIAA",
           657
          ],
          [
           "invest",
           "Travelers",
           167
          ],
          [
           "invest",
           "Hershey",
           538
          ],
          [
           "invest",
           "TIAA",
           68
          ],
          [
           "invest",
           "Hewlett Packard Enterprise",
           911
          ],
          [
           "invest",
           "Delta Air Lines",
           817
          ],
          [
           "invest",
           "United Continental Holdings",
           238
          ],
          [
           "invest",
           "Walmart",
           675
          ],
          [
           "invest",
           "Visa",
           669
          ],
          [
           "invest",
           "Sysco",
           518
          ],
          [
           "invest",
           "Quest Diagnostics",
           634
          ],
          [
           "invest",
           "Sysco",
           666
          ],
          [
           "invest",
           "Sysco",
           575
          ],
          [
           "invest",
           "United Continental Holdings",
           384
          ],
          [
           "invest",
           "Sysco",
           850
          ],
          [
           "invest",
           "Entergy",
           999
          ],
          [
           "invest",
           "Sysco",
           821
          ],
          [
           "invest",
           "Tapestry",
           265
          ],
          [
           "invest",
           "Visa",
           437
          ],
          [
           "invest",
           "Ulta Beauty",
           647
          ],
          [
           "invest",
           "TIAA",
           729
          ],
          [
           "invest",
           "PPL",
           444
          ],
          [
           "invest",
           "Hewlett Packard Enterprise",
           818
          ],
          [
           "invest",
           "Voya Financial",
           261
          ],
          [
           "invest",
           "Quest Diagnostics",
           767
          ],
          [
           "invest",
           "Voya Financial",
           995
          ],
          [
           "invest",
           "CBRE Group",
           527
          ],
          [
           "invest",
           "Delta Air Lines",
           268
          ],
          [
           "invest",
           "Voya Financial",
           438
          ]
         ],
         "hovertemplate": "Category=%{customdata[0]}<br>Date=%{x}<br>Balance=%{y}<br>size=%{marker.size}<br>Location=%{customdata[1]}<br>Delta=%{customdata[2]}<extra></extra>",
         "legendgroup": "invest",
         "marker": {
          "color": "#EF553B",
          "line": {
           "color": "white",
           "width": 1
          },
          "opacity": 0.8,
          "size": [
           904,
           435,
           296,
           960,
           212,
           1000,
           366,
           951,
           954,
           84,
           267,
           390,
           137,
           657,
           460,
           361,
           752,
           179,
           657,
           167,
           538,
           68,
           911,
           817,
           238,
           675,
           669,
           518,
           634,
           666,
           575,
           384,
           850,
           999,
           821,
           265,
           437,
           647,
           729,
           444,
           818,
           261,
           767,
           995,
           527,
           268,
           438
          ],
          "sizemode": "area",
          "sizeref": 0.1,
          "symbol": "circle"
         },
         "mode": "markers",
         "name": "invest",
         "orientation": "v",
         "showlegend": true,
         "type": "scatter",
         "x": [
          "2022-09-22T00:00:00",
          "2022-09-19T00:00:00",
          "2022-09-12T00:00:00",
          "2022-09-12T00:00:00",
          "2022-09-09T00:00:00",
          "2022-09-06T00:00:00",
          "2022-09-06T00:00:00",
          "2022-08-31T00:00:00",
          "2022-08-31T00:00:00",
          "2022-08-31T00:00:00",
          "2022-08-29T00:00:00",
          "2022-08-26T00:00:00",
          "2022-08-22T00:00:00",
          "2022-08-19T00:00:00",
          "2022-08-18T00:00:00",
          "2022-08-16T00:00:00",
          "2022-08-08T00:00:00",
          "2022-08-08T00:00:00",
          "2022-08-03T00:00:00",
          "2022-08-01T00:00:00",
          "2022-07-19T00:00:00",
          "2022-07-11T00:00:00",
          "2022-07-11T00:00:00",
          "2022-06-29T00:00:00",
          "2022-06-28T00:00:00",
          "2022-06-21T00:00:00",
          "2022-06-21T00:00:00",
          "2022-06-17T00:00:00",
          "2022-06-14T00:00:00",
          "2022-06-13T00:00:00",
          "2022-05-26T00:00:00",
          "2022-05-23T00:00:00",
          "2022-05-16T00:00:00",
          "2022-05-02T00:00:00",
          "2022-04-29T00:00:00",
          "2022-04-28T00:00:00",
          "2022-04-14T00:00:00",
          "2022-04-11T00:00:00",
          "2022-04-05T00:00:00",
          "2022-04-04T00:00:00",
          "2022-03-28T00:00:00",
          "2022-03-16T00:00:00",
          "2022-02-25T00:00:00",
          "2022-01-24T00:00:00",
          "2022-01-24T00:00:00",
          "2022-01-20T00:00:00",
          "2022-01-13T00:00:00"
         ],
         "xaxis": "x",
         "y": [
          2382,
          1886,
          2667,
          2963,
          3567,
          7590,
          9051,
          7033,
          7984,
          8657,
          8978,
          9938,
          8617,
          9962,
          8797,
          10066,
          8425,
          9177,
          8851,
          10104,
          9361,
          6004,
          6072,
          4669,
          5633,
          6056,
          5343,
          7033,
          7961,
          8493,
          10305,
          9782,
          10694,
          14982,
          13441,
          16713,
          12009,
          11512,
          9560,
          9178,
          9674,
          9728,
          6559,
          4203,
          5198,
          3797,
          669
         ],
         "yaxis": "y"
        },
        {
         "customdata": [
          [
           "unk",
           "Voya Financial",
           570
          ],
          [
           "unk",
           "Walmart",
           820
          ],
          [
           "unk",
           "Travelers",
           371
          ],
          [
           "unk",
           "Tapestry",
           600
          ],
          [
           "unk",
           "Omnicom Group",
           19
          ],
          [
           "unk",
           "Amazon.com",
           783
          ],
          [
           "unk",
           "Ulta Beauty",
           461
          ],
          [
           "unk",
           "Visa",
           313
          ],
          [
           "unk",
           "Quest Diagnostics",
           217
          ],
          [
           "unk",
           "Hanesbrands",
           34
          ],
          [
           "unk",
           "Voya Financial",
           313
          ],
          [
           "unk",
           "TIAA",
           484
          ],
          [
           "unk",
           "Sysco",
           241
          ],
          [
           "unk",
           "CBRE Group",
           947
          ],
          [
           "unk",
           "Quest Diagnostics",
           995
          ],
          [
           "unk",
           "Walmart",
           426
          ],
          [
           "unk",
           "Amazon.com",
           80
          ],
          [
           "unk",
           "CBRE Group",
           622
          ],
          [
           "unk",
           "Sysco",
           660
          ],
          [
           "unk",
           "United Continental Holdings",
           886
          ],
          [
           "unk",
           "Ulta Beauty",
           776
          ],
          [
           "unk",
           "United Continental Holdings",
           521
          ],
          [
           "unk",
           "Hanesbrands",
           172
          ],
          [
           "unk",
           "PPL",
           880
          ],
          [
           "unk",
           "Sysco",
           984
          ],
          [
           "unk",
           "Walmart",
           736
          ],
          [
           "unk",
           "Tapestry",
           769
          ],
          [
           "unk",
           "Ulta Beauty",
           795
          ],
          [
           "unk",
           "Hershey",
           987
          ],
          [
           "unk",
           "Hershey",
           415
          ],
          [
           "unk",
           "United Continental Holdings",
           919
          ],
          [
           "unk",
           "Travelers",
           604
          ],
          [
           "unk",
           "Walmart",
           575
          ],
          [
           "unk",
           "Tapestry",
           504
          ],
          [
           "unk",
           "Walmart",
           250
          ],
          [
           "unk",
           "PPL",
           506
          ]
         ],
         "hovertemplate": "Category=%{customdata[0]}<br>Date=%{x}<br>Balance=%{y}<br>size=%{marker.size}<br>Location=%{customdata[1]}<br>Delta=%{customdata[2]}<extra></extra>",
         "legendgroup": "unk",
         "marker": {
          "color": "#00cc96",
          "line": {
           "color": "white",
           "width": 1
          },
          "opacity": 0.8,
          "size": [
           570,
           820,
           371,
           600,
           19,
           783,
           461,
           313,
           217,
           34,
           313,
           484,
           241,
           947,
           995,
           426,
           80,
           622,
           660,
           886,
           776,
           521,
           172,
           880,
           984,
           736,
           769,
           795,
           987,
           415,
           919,
           604,
           575,
           504,
           250,
           506
          ],
          "sizemode": "area",
          "sizeref": 0.1,
          "symbol": "circle"
         },
         "mode": "markers",
         "name": "unk",
         "orientation": "v",
         "showlegend": true,
         "type": "scatter",
         "x": [
          "2022-09-22T00:00:00",
          "2022-09-19T00:00:00",
          "2022-09-14T00:00:00",
          "2022-09-12T00:00:00",
          "2022-09-09T00:00:00",
          "2022-09-09T00:00:00",
          "2022-09-06T00:00:00",
          "2022-08-29T00:00:00",
          "2022-08-15T00:00:00",
          "2022-08-08T00:00:00",
          "2022-08-08T00:00:00",
          "2022-08-01T00:00:00",
          "2022-07-08T00:00:00",
          "2022-06-27T00:00:00",
          "2022-06-27T00:00:00",
          "2022-06-24T00:00:00",
          "2022-06-15T00:00:00",
          "2022-06-13T00:00:00",
          "2022-06-10T00:00:00",
          "2022-06-08T00:00:00",
          "2022-06-06T00:00:00",
          "2022-05-27T00:00:00",
          "2022-05-23T00:00:00",
          "2022-05-17T00:00:00",
          "2022-05-16T00:00:00",
          "2022-05-13T00:00:00",
          "2022-05-09T00:00:00",
          "2022-05-06T00:00:00",
          "2022-04-28T00:00:00",
          "2022-04-28T00:00:00",
          "2022-04-28T00:00:00",
          "2022-04-22T00:00:00",
          "2022-03-28T00:00:00",
          "2022-03-21T00:00:00",
          "2022-03-21T00:00:00",
          "2022-01-14T00:00:00"
         ],
         "xaxis": "x",
         "y": [
          3286,
          2109,
          3374,
          2804,
          2765,
          2784,
          8590,
          10701,
          9219,
          7715,
          8807,
          9666,
          7060,
          5871,
          7499,
          8583,
          7881,
          8316,
          9244,
          9778,
          9637,
          8522,
          10207,
          9089,
          11059,
          12166,
          10920,
          12672,
          14321,
          15308,
          16978,
          14749,
          9099,
          8516,
          8884,
          379
         ],
         "yaxis": "y"
        },
        {
         "customdata": [
          [
           "clothing",
           "Voya Financial",
           818
          ],
          [
           "clothing",
           "Voya Financial",
           996
          ],
          [
           "clothing",
           "Amazon.com",
           646
          ],
          [
           "clothing",
           "Sysco",
           823
          ],
          [
           "clothing",
           "CBRE Group",
           983
          ],
          [
           "clothing",
           "TIAA",
           202
          ],
          [
           "clothing",
           "TIAA",
           609
          ],
          [
           "clothing",
           "Cognizant Technology Solutions",
           711
          ],
          [
           "clothing",
           "Ulta Beauty",
           832
          ],
          [
           "clothing",
           "Travelers",
           345
          ],
          [
           "clothing",
           "Entergy",
           814
          ],
          [
           "clothing",
           "Hershey",
           691
          ],
          [
           "clothing",
           "Omnicom Group",
           870
          ],
          [
           "clothing",
           "Cognizant Technology Solutions",
           36
          ],
          [
           "clothing",
           "Delta Air Lines",
           55
          ],
          [
           "clothing",
           "Hanesbrands",
           975
          ]
         ],
         "hovertemplate": "Category=%{customdata[0]}<br>Date=%{x}<br>Balance=%{y}<br>size=%{marker.size}<br>Location=%{customdata[1]}<br>Delta=%{customdata[2]}<extra></extra>",
         "legendgroup": "clothing",
         "marker": {
          "color": "#ab63fa",
          "line": {
           "color": "white",
           "width": 1
          },
          "opacity": 0.8,
          "size": [
           818,
           996,
           646,
           823,
           983,
           202,
           609,
           711,
           832,
           345,
           814,
           691,
           870,
           36,
           55,
           975
          ],
          "sizemode": "area",
          "sizeref": 0.1,
          "symbol": "circle"
         },
         "mode": "markers",
         "name": "clothing",
         "orientation": "v",
         "showlegend": true,
         "type": "scatter",
         "x": [
          "2022-09-20T00:00:00",
          "2022-09-08T00:00:00",
          "2022-08-29T00:00:00",
          "2022-08-08T00:00:00",
          "2022-08-01T00:00:00",
          "2022-07-27T00:00:00",
          "2022-07-22T00:00:00",
          "2022-07-11T00:00:00",
          "2022-07-11T00:00:00",
          "2022-06-01T00:00:00",
          "2022-05-03T00:00:00",
          "2022-05-02T00:00:00",
          "2022-04-28T00:00:00",
          "2022-04-25T00:00:00",
          "2022-02-28T00:00:00",
          "2022-01-03T00:00:00"
         ],
         "xaxis": "x",
         "y": [
          3368,
          3607,
          10055,
          8571,
          8683,
          10660,
          10000,
          4997,
          5708,
          9992,
          13262,
          14291,
          17897,
          16259,
          6519,
          1523
         ],
         "yaxis": "y"
        },
        {
         "customdata": [
          [
           "misc",
           "Delta Air Lines",
           3
          ],
          [
           "misc",
           "Sysco",
           873
          ],
          [
           "misc",
           "CBRE Group",
           38
          ],
          [
           "misc",
           "Omnicom Group",
           153
          ],
          [
           "misc",
           "United Continental Holdings",
           887
          ],
          [
           "misc",
           "Visa",
           822
          ],
          [
           "misc",
           "Sysco",
           497
          ],
          [
           "misc",
           "Cognizant Technology Solutions",
           830
          ],
          [
           "misc",
           "PPL",
           91
          ],
          [
           "misc",
           "Visa",
           353
          ],
          [
           "misc",
           "Entergy",
           348
          ],
          [
           "misc",
           "Travelers",
           644
          ],
          [
           "misc",
           "Hanesbrands",
           895
          ],
          [
           "misc",
           "TIAA",
           144
          ],
          [
           "misc",
           "United Continental Holdings",
           529
          ],
          [
           "misc",
           "United Continental Holdings",
           910
          ],
          [
           "misc",
           "Travelers",
           264
          ],
          [
           "misc",
           "Quest Diagnostics",
           296
          ],
          [
           "misc",
           "CBRE Group",
           332
          ],
          [
           "misc",
           "TIAA",
           687
          ],
          [
           "misc",
           "Quest Diagnostics",
           279
          ],
          [
           "misc",
           "Quest Diagnostics",
           1
          ],
          [
           "misc",
           "Walmart",
           524
          ],
          [
           "misc",
           "Entergy",
           968
          ],
          [
           "misc",
           "Amazon.com",
           959
          ],
          [
           "misc",
           "Hershey",
           737
          ]
         ],
         "hovertemplate": "Category=%{customdata[0]}<br>Date=%{x}<br>Balance=%{y}<br>size=%{marker.size}<br>Location=%{customdata[1]}<br>Delta=%{customdata[2]}<extra></extra>",
         "legendgroup": "misc",
         "marker": {
          "color": "#FFA15A",
          "line": {
           "color": "white",
           "width": 1
          },
          "opacity": 0.8,
          "size": [
           3,
           873,
           38,
           153,
           887,
           822,
           497,
           830,
           91,
           353,
           348,
           644,
           895,
           144,
           529,
           910,
           264,
           296,
           332,
           687,
           279,
           1,
           524,
           968,
           959,
           737
          ],
          "sizemode": "area",
          "sizeref": 0.1,
          "symbol": "circle"
         },
         "mode": "markers",
         "name": "misc",
         "orientation": "v",
         "showlegend": true,
         "type": "scatter",
         "x": [
          "2022-09-19T00:00:00",
          "2022-09-06T00:00:00",
          "2022-09-02T00:00:00",
          "2022-08-10T00:00:00",
          "2022-08-10T00:00:00",
          "2022-08-08T00:00:00",
          "2022-07-26T00:00:00",
          "2022-07-08T00:00:00",
          "2022-07-08T00:00:00",
          "2022-07-01T00:00:00",
          "2022-06-09T00:00:00",
          "2022-06-06T00:00:00",
          "2022-06-06T00:00:00",
          "2022-06-06T00:00:00",
          "2022-05-09T00:00:00",
          "2022-05-09T00:00:00",
          "2022-04-27T00:00:00",
          "2022-04-20T00:00:00",
          "2022-04-14T00:00:00",
          "2022-04-12T00:00:00",
          "2022-04-11T00:00:00",
          "2022-04-04T00:00:00",
          "2022-03-03T00:00:00",
          "2022-02-28T00:00:00",
          "2022-02-25T00:00:00",
          "2022-01-11T00:00:00"
         ],
         "xaxis": "x",
         "y": [
          2106,
          5946,
          7352,
          7445,
          8965,
          7749,
          10290,
          6230,
          7301,
          5920,
          10237,
          10884,
          11528,
          11504,
          11689,
          12908,
          18694,
          14272,
          12538,
          9990,
          13390,
          9133,
          8020,
          6574,
          5600,
          354
         ],
         "yaxis": "y"
        },
        {
         "customdata": [
          [
           "grocery",
           "Travelers",
           278
          ],
          [
           "grocery",
           "Travelers",
           5
          ],
          [
           "grocery",
           "TIAA",
           987
          ],
          [
           "grocery",
           "Ulta Beauty",
           651
          ],
          [
           "grocery",
           "Sysco",
           944
          ],
          [
           "grocery",
           "Walmart",
           673
          ],
          [
           "grocery",
           "TIAA",
           477
          ],
          [
           "grocery",
           "Sysco",
           905
          ],
          [
           "grocery",
           "Hewlett Packard Enterprise",
           168
          ],
          [
           "grocery",
           "Delta Air Lines",
           883
          ],
          [
           "grocery",
           "Visa",
           945
          ],
          [
           "grocery",
           "Ulta Beauty",
           211
          ],
          [
           "grocery",
           "Delta Air Lines",
           274
          ],
          [
           "grocery",
           "Omnicom Group",
           171
          ],
          [
           "grocery",
           "Hanesbrands",
           90
          ],
          [
           "grocery",
           "Travelers",
           63
          ],
          [
           "grocery",
           "PPL",
           902
          ],
          [
           "grocery",
           "Visa",
           360
          ],
          [
           "grocery",
           "United Continental Holdings",
           333
          ],
          [
           "grocery",
           "Travelers",
           89
          ],
          [
           "grocery",
           "PPL",
           59
          ],
          [
           "grocery",
           "Amazon.com",
           75
          ],
          [
           "grocery",
           "Travelers",
           881
          ],
          [
           "grocery",
           "Cognizant Technology Solutions",
           350
          ],
          [
           "grocery",
           "Visa",
           141
          ],
          [
           "grocery",
           "Cognizant Technology Solutions",
           173
          ]
         ],
         "hovertemplate": "Category=%{customdata[0]}<br>Date=%{x}<br>Balance=%{y}<br>size=%{marker.size}<br>Location=%{customdata[1]}<br>Delta=%{customdata[2]}<extra></extra>",
         "legendgroup": "grocery",
         "marker": {
          "color": "#19d3f3",
          "line": {
           "color": "white",
           "width": 1
          },
          "opacity": 0.8,
          "size": [
           278,
           5,
           987,
           651,
           944,
           673,
           477,
           905,
           168,
           883,
           945,
           211,
           274,
           171,
           90,
           63,
           902,
           360,
           333,
           89,
           59,
           75,
           881,
           350,
           141,
           173
          ],
          "sizemode": "area",
          "sizeref": 0.1,
          "symbol": "circle"
         },
         "mode": "markers",
         "name": "grocery",
         "orientation": "v",
         "showlegend": true,
         "type": "scatter",
         "x": [
          "2022-09-19T00:00:00",
          "2022-09-13T00:00:00",
          "2022-09-13T00:00:00",
          "2022-09-07T00:00:00",
          "2022-09-06T00:00:00",
          "2022-09-06T00:00:00",
          "2022-08-30T00:00:00",
          "2022-08-22T00:00:00",
          "2022-08-22T00:00:00",
          "2022-08-22T00:00:00",
          "2022-08-22T00:00:00",
          "2022-08-15T00:00:00",
          "2022-08-15T00:00:00",
          "2022-08-02T00:00:00",
          "2022-07-28T00:00:00",
          "2022-07-08T00:00:00",
          "2022-06-27T00:00:00",
          "2022-06-21T00:00:00",
          "2022-06-10T00:00:00",
          "2022-05-23T00:00:00",
          "2022-05-02T00:00:00",
          "2022-04-29T00:00:00",
          "2022-04-19T00:00:00",
          "2022-04-11T00:00:00",
          "2022-03-22T00:00:00",
          "2022-03-14T00:00:00"
         ],
         "xaxis": "x",
         "y": [
          2211,
          3692,
          3697,
          5513,
          4493,
          6029,
          8342,
          8754,
          9659,
          8754,
          9637,
          8460,
          8671,
          9508,
          10570,
          6167,
          8494,
          5723,
          9904,
          10379,
          15981,
          15062,
          13760,
          13040,
          8375,
          11120
         ],
         "yaxis": "y"
        },
        {
         "customdata": [
          [
           "travel",
           "Cognizant Technology Solutions",
           910
          ],
          [
           "travel",
           "Walmart",
           745
          ],
          [
           "travel",
           "Walmart",
           318
          ],
          [
           "travel",
           "Walmart",
           998
          ],
          [
           "travel",
           "CBRE Group",
           307
          ],
          [
           "travel",
           "Hanesbrands",
           782
          ],
          [
           "travel",
           "Amazon.com",
           494
          ],
          [
           "travel",
           "Entergy",
           710
          ],
          [
           "travel",
           "Amazon.com",
           950
          ],
          [
           "travel",
           "Delta Air Lines",
           480
          ],
          [
           "travel",
           "Voya Financial",
           363
          ],
          [
           "travel",
           "Walmart",
           199
          ],
          [
           "travel",
           "CBRE Group",
           314
          ],
          [
           "travel",
           "Cognizant Technology Solutions",
           420
          ],
          [
           "travel",
           "Hershey",
           552
          ],
          [
           "travel",
           "Ulta Beauty",
           775
          ],
          [
           "travel",
           "Hewlett Packard Enterprise",
           998
          ],
          [
           "travel",
           "United Continental Holdings",
           301
          ],
          [
           "travel",
           "Voya Financial",
           847
          ],
          [
           "travel",
           "Omnicom Group",
           471
          ],
          [
           "travel",
           "Ulta Beauty",
           36
          ],
          [
           "travel",
           "Hanesbrands",
           845
          ],
          [
           "travel",
           "Visa",
           241
          ],
          [
           "travel",
           "Visa",
           883
          ],
          [
           "travel",
           "Cognizant Technology Solutions",
           12
          ],
          [
           "travel",
           "Cognizant Technology Solutions",
           353
          ],
          [
           "travel",
           "CBRE Group",
           690
          ],
          [
           "travel",
           "Cognizant Technology Solutions",
           110
          ],
          [
           "travel",
           "Sysco",
           222
          ],
          [
           "travel",
           "Entergy",
           980
          ],
          [
           "travel",
           "Visa",
           818
          ],
          [
           "travel",
           "Walmart",
           413
          ],
          [
           "travel",
           "CBRE Group",
           476
          ],
          [
           "travel",
           "Hershey",
           447
          ],
          [
           "travel",
           "Visa",
           455
          ]
         ],
         "hovertemplate": "Category=%{customdata[0]}<br>Date=%{x}<br>Balance=%{y}<br>size=%{marker.size}<br>Location=%{customdata[1]}<br>Delta=%{customdata[2]}<extra></extra>",
         "legendgroup": "travel",
         "marker": {
          "color": "#FF6692",
          "line": {
           "color": "white",
           "width": 1
          },
          "opacity": 0.8,
          "size": [
           910,
           745,
           318,
           998,
           307,
           782,
           494,
           710,
           950,
           480,
           363,
           199,
           314,
           420,
           552,
           775,
           998,
           301,
           847,
           471,
           36,
           845,
           241,
           883,
           12,
           353,
           690,
           110,
           222,
           980,
           818,
           413,
           476,
           447,
           455
          ],
          "sizemode": "area",
          "sizeref": 0.1,
          "symbol": "circle"
         },
         "mode": "markers",
         "name": "travel",
         "orientation": "v",
         "showlegend": true,
         "type": "scatter",
         "x": [
          "2022-09-19T00:00:00",
          "2022-09-19T00:00:00",
          "2022-09-16T00:00:00",
          "2022-09-15T00:00:00",
          "2022-09-06T00:00:00",
          "2022-08-30T00:00:00",
          "2022-08-22T00:00:00",
          "2022-08-10T00:00:00",
          "2022-08-02T00:00:00",
          "2022-08-01T00:00:00",
          "2022-07-29T00:00:00",
          "2022-07-28T00:00:00",
          "2022-07-19T00:00:00",
          "2022-07-05T00:00:00",
          "2022-07-05T00:00:00",
          "2022-06-29T00:00:00",
          "2022-06-21T00:00:00",
          "2022-06-17T00:00:00",
          "2022-06-15T00:00:00",
          "2022-06-06T00:00:00",
          "2022-06-06T00:00:00",
          "2022-05-24T00:00:00",
          "2022-05-18T00:00:00",
          "2022-05-18T00:00:00",
          "2022-05-11T00:00:00",
          "2022-05-09T00:00:00",
          "2022-05-09T00:00:00",
          "2022-04-29T00:00:00",
          "2022-04-28T00:00:00",
          "2022-04-27T00:00:00",
          "2022-04-07T00:00:00",
          "2022-03-22T00:00:00",
          "2022-03-07T00:00:00",
          "2022-03-01T00:00:00",
          "2022-02-25T00:00:00"
         ],
         "xaxis": "x",
         "y": [
          2489,
          1841,
          604,
          2376,
          6819,
          8196,
          10582,
          8255,
          9679,
          9624,
          11005,
          10371,
          9613,
          7163,
          6123,
          3894,
          6012,
          6732,
          7034,
          10413,
          12634,
          8937,
          7965,
          8206,
          11077,
          10567,
          12218,
          13331,
          14262,
          18170,
          9638,
          8168,
          9815,
          7007,
          5145
         ],
         "yaxis": "y"
        },
        {
         "customdata": [
          [
           "utility",
           "Hewlett Packard Enterprise",
           881
          ],
          [
           "utility",
           "Visa",
           626
          ],
          [
           "utility",
           "Entergy",
           33
          ],
          [
           "utility",
           "United Continental Holdings",
           652
          ],
          [
           "utility",
           "Visa",
           728
          ],
          [
           "utility",
           "Entergy",
           895
          ],
          [
           "utility",
           "Tapestry",
           965
          ],
          [
           "utility",
           "Tapestry",
           13
          ],
          [
           "utility",
           "Cognizant Technology Solutions",
           632
          ],
          [
           "utility",
           "Visa",
           376
          ],
          [
           "utility",
           "Ulta Beauty",
           267
          ],
          [
           "utility",
           "Quest Diagnostics",
           287
          ],
          [
           "utility",
           "Tapestry",
           268
          ],
          [
           "utility",
           "United Continental Holdings",
           791
          ],
          [
           "utility",
           "Travelers",
           198
          ],
          [
           "utility",
           "TIAA",
           684
          ]
         ],
         "hovertemplate": "Category=%{customdata[0]}<br>Date=%{x}<br>Balance=%{y}<br>size=%{marker.size}<br>Location=%{customdata[1]}<br>Delta=%{customdata[2]}<extra></extra>",
         "legendgroup": "utility",
         "marker": {
          "color": "#B6E880",
          "line": {
           "color": "white",
           "width": 1
          },
          "opacity": 0.8,
          "size": [
           881,
           626,
           33,
           652,
           728,
           895,
           965,
           13,
           632,
           376,
           267,
           287,
           268,
           791,
           198,
           684
          ],
          "sizemode": "area",
          "sizeref": 0.1,
          "symbol": "circle"
         },
         "mode": "markers",
         "name": "utility",
         "orientation": "v",
         "showlegend": true,
         "type": "scatter",
         "x": [
          "2022-09-15T00:00:00",
          "2022-08-08T00:00:00",
          "2022-07-29T00:00:00",
          "2022-07-15T00:00:00",
          "2022-07-15T00:00:00",
          "2022-06-27T00:00:00",
          "2022-05-09T00:00:00",
          "2022-05-05T00:00:00",
          "2022-05-03T00:00:00",
          "2022-05-02T00:00:00",
          "2022-04-25T00:00:00",
          "2022-03-30T00:00:00",
          "2022-03-10T00:00:00",
          "2022-03-07T00:00:00",
          "2022-01-24T00:00:00",
          "2022-01-03T00:00:00"
         ],
         "xaxis": "x",
         "y": [
          1495,
          9120,
          10338,
          7700,
          7048,
          6928,
          9045,
          13439,
          12630,
          16040,
          15699,
          7818,
          9509,
          9012,
          5776,
          360
         ],
         "yaxis": "y"
        },
        {
         "customdata": [
          [
           "tech",
           "Hanesbrands",
           413
          ],
          [
           "tech",
           "Quest Diagnostics",
           252
          ],
          [
           "tech",
           "Amazon.com",
           910
          ],
          [
           "tech",
           "Sysco",
           464
          ],
          [
           "tech",
           "Hewlett Packard Enterprise",
           368
          ],
          [
           "tech",
           "Travelers",
           410
          ],
          [
           "tech",
           "Hewlett Packard Enterprise",
           243
          ],
          [
           "tech",
           "United Continental Holdings",
           581
          ],
          [
           "tech",
           "Amazon.com",
           825
          ],
          [
           "tech",
           "TIAA",
           339
          ],
          [
           "tech",
           "United Continental Holdings",
           125
          ],
          [
           "tech",
           "Voya Financial",
           634
          ],
          [
           "tech",
           "PPL",
           73
          ],
          [
           "tech",
           "Voya Financial",
           584
          ],
          [
           "tech",
           "Hanesbrands",
           86
          ],
          [
           "tech",
           "Hershey",
           220
          ],
          [
           "tech",
           "Hewlett Packard Enterprise",
           211
          ],
          [
           "tech",
           "Visa",
           980
          ],
          [
           "tech",
           "United Continental Holdings",
           282
          ],
          [
           "tech",
           "Sysco",
           548
          ],
          [
           "tech",
           "Sysco",
           269
          ],
          [
           "tech",
           "TIAA",
           851
          ],
          [
           "tech",
           "TIAA",
           990
          ],
          [
           "tech",
           "Ulta Beauty",
           809
          ],
          [
           "tech",
           "Hershey",
           356
          ],
          [
           "tech",
           "Tapestry",
           748
          ],
          [
           "tech",
           "Tapestry",
           823
          ],
          [
           "tech",
           "CBRE Group",
           78
          ],
          [
           "tech",
           "Hewlett Packard Enterprise",
           450
          ],
          [
           "tech",
           "TIAA",
           565
          ],
          [
           "tech",
           "PPL",
           69
          ],
          [
           "tech",
           "United Continental Holdings",
           85
          ],
          [
           "tech",
           "Cognizant Technology Solutions",
           487
          ],
          [
           "tech",
           "Amazon.com",
           755
          ]
         ],
         "hovertemplate": "Category=%{customdata[0]}<br>Date=%{x}<br>Balance=%{y}<br>size=%{marker.size}<br>Location=%{customdata[1]}<br>Delta=%{customdata[2]}<extra></extra>",
         "legendgroup": "tech",
         "marker": {
          "color": "#FF97FF",
          "line": {
           "color": "white",
           "width": 1
          },
          "opacity": 0.8,
          "size": [
           413,
           252,
           910,
           464,
           368,
           410,
           243,
           581,
           825,
           339,
           125,
           634,
           73,
           584,
           86,
           220,
           211,
           980,
           282,
           548,
           269,
           851,
           990,
           809,
           356,
           748,
           823,
           78,
           450,
           565,
           69,
           85,
           487,
           755
          ],
          "sizemode": "area",
          "sizeref": 0.1,
          "symbol": "circle"
         },
         "mode": "markers",
         "name": "tech",
         "orientation": "v",
         "showlegend": true,
         "type": "scatter",
         "x": [
          "2022-09-13T00:00:00",
          "2022-09-08T00:00:00",
          "2022-09-07T00:00:00",
          "2022-09-06T00:00:00",
          "2022-08-24T00:00:00",
          "2022-08-22T00:00:00",
          "2022-08-09T00:00:00",
          "2022-08-01T00:00:00",
          "2022-07-29T00:00:00",
          "2022-07-11T00:00:00",
          "2022-07-05T00:00:00",
          "2022-06-28T00:00:00",
          "2022-06-21T00:00:00",
          "2022-06-16T00:00:00",
          "2022-06-13T00:00:00",
          "2022-06-13T00:00:00",
          "2022-06-06T00:00:00",
          "2022-05-27T00:00:00",
          "2022-05-27T00:00:00",
          "2022-05-16T00:00:00",
          "2022-05-16T00:00:00",
          "2022-05-02T00:00:00",
          "2022-04-28T00:00:00",
          "2022-04-25T00:00:00",
          "2022-04-18T00:00:00",
          "2022-04-05T00:00:00",
          "2022-04-04T00:00:00",
          "2022-03-22T00:00:00",
          "2022-03-22T00:00:00",
          "2022-03-17T00:00:00",
          "2022-03-14T00:00:00",
          "2022-03-02T00:00:00",
          "2022-03-01T00:00:00",
          "2022-01-10T00:00:00"
         ],
         "xaxis": "x",
         "y": [
          4684,
          3785,
          4603,
          7126,
          8475,
          8966,
          8125,
          9974,
          10180,
          4658,
          5795,
          4999,
          5650,
          7594,
          8938,
          9024,
          12423,
          9043,
          10023,
          9877,
          10425,
          13440,
          15723,
          16295,
          13228,
          8812,
          9134,
          7640,
          7718,
          9182,
          11051,
          7285,
          7370,
          -209
         ],
         "yaxis": "y"
        },
        {
         "customdata": [
          [
           "paypal",
           "United Continental Holdings",
           822
          ],
          [
           "paypal",
           "Ulta Beauty",
           536
          ],
          [
           "paypal",
           "Hanesbrands",
           420
          ],
          [
           "paypal",
           "PPL",
           650
          ],
          [
           "paypal",
           "Hanesbrands",
           141
          ],
          [
           "paypal",
           "PPL",
           579
          ],
          [
           "paypal",
           "TIAA",
           37
          ],
          [
           "paypal",
           "Omnicom Group",
           590
          ],
          [
           "paypal",
           "Ulta Beauty",
           727
          ],
          [
           "paypal",
           "Entergy",
           271
          ],
          [
           "paypal",
           "Cognizant Technology Solutions",
           198
          ],
          [
           "paypal",
           "Walmart",
           986
          ],
          [
           "paypal",
           "CBRE Group",
           266
          ],
          [
           "paypal",
           "Visa",
           793
          ],
          [
           "paypal",
           "Quest Diagnostics",
           413
          ],
          [
           "paypal",
           "Sysco",
           951
          ],
          [
           "paypal",
           "Sysco",
           675
          ],
          [
           "paypal",
           "Voya Financial",
           646
          ],
          [
           "paypal",
           "Visa",
           259
          ],
          [
           "paypal",
           "Amazon.com",
           322
          ],
          [
           "paypal",
           "PPL",
           479
          ]
         ],
         "hovertemplate": "Category=%{customdata[0]}<br>Date=%{x}<br>Balance=%{y}<br>size=%{marker.size}<br>Location=%{customdata[1]}<br>Delta=%{customdata[2]}<extra></extra>",
         "legendgroup": "paypal",
         "marker": {
          "color": "#FECB52",
          "line": {
           "color": "white",
           "width": 1
          },
          "opacity": 0.8,
          "size": [
           822,
           536,
           420,
           650,
           141,
           579,
           37,
           590,
           727,
           271,
           198,
           986,
           266,
           793,
           413,
           951,
           675,
           646,
           259,
           322,
           479
          ],
          "sizemode": "area",
          "sizeref": 0.1,
          "symbol": "circle"
         },
         "mode": "markers",
         "name": "paypal",
         "orientation": "v",
         "showlegend": true,
         "type": "scatter",
         "x": [
          "2022-09-09T00:00:00",
          "2022-09-06T00:00:00",
          "2022-09-06T00:00:00",
          "2022-09-06T00:00:00",
          "2022-08-31T00:00:00",
          "2022-08-29T00:00:00",
          "2022-08-24T00:00:00",
          "2022-08-17T00:00:00",
          "2022-07-29T00:00:00",
          "2022-06-21T00:00:00",
          "2022-05-31T00:00:00",
          "2022-05-27T00:00:00",
          "2022-05-23T00:00:00",
          "2022-04-22T00:00:00",
          "2022-04-15T00:00:00",
          "2022-04-11T00:00:00",
          "2022-03-31T00:00:00",
          "2022-03-16T00:00:00",
          "2022-03-07T00:00:00",
          "2022-01-19T00:00:00",
          "2022-01-03T00:00:00"
         ],
         "xaxis": "x",
         "y": [
          3779,
          5437,
          6505,
          6702,
          6892,
          9476,
          8602,
          8969,
          11368,
          5808,
          7338,
          7536,
          10263,
          15353,
          12603,
          11524,
          8946,
          9989,
          10291,
          3789,
          1044
         ],
         "yaxis": "y"
        },
        {
         "customdata": [
          [
           "debt",
           "Omnicom Group",
           231
          ],
          [
           "debt",
           "Walmart",
           30
          ],
          [
           "debt",
           "Ulta Beauty",
           286
          ],
          [
           "debt",
           "Cognizant Technology Solutions",
           657
          ],
          [
           "debt",
           "TIAA",
           940
          ],
          [
           "debt",
           "Sysco",
           365
          ],
          [
           "debt",
           "CBRE Group",
           420
          ],
          [
           "debt",
           "Cognizant Technology Solutions",
           500
          ],
          [
           "debt",
           "Hanesbrands",
           510
          ],
          [
           "debt",
           "Omnicom Group",
           471
          ],
          [
           "debt",
           "Hanesbrands",
           778
          ],
          [
           "debt",
           "Entergy",
           750
          ],
          [
           "debt",
           "Travelers",
           304
          ],
          [
           "debt",
           "Hershey",
           63
          ],
          [
           "debt",
           "CBRE Group",
           293
          ],
          [
           "debt",
           "Tapestry",
           638
          ],
          [
           "debt",
           "United Continental Holdings",
           578
          ]
         ],
         "hovertemplate": "Category=%{customdata[0]}<br>Date=%{x}<br>Balance=%{y}<br>size=%{marker.size}<br>Location=%{customdata[1]}<br>Delta=%{customdata[2]}<extra></extra>",
         "legendgroup": "debt",
         "marker": {
          "color": "#636efa",
          "line": {
           "color": "white",
           "width": 1
          },
          "opacity": 0.8,
          "size": [
           231,
           30,
           286,
           657,
           940,
           365,
           420,
           500,
           510,
           471,
           778,
           750,
           304,
           63,
           293,
           638,
           578
          ],
          "sizemode": "area",
          "sizeref": 0.1,
          "symbol": "circle"
         },
         "mode": "markers",
         "name": "debt",
         "orientation": "v",
         "showlegend": true,
         "type": "scatter",
         "x": [
          "2022-08-29T00:00:00",
          "2022-08-25T00:00:00",
          "2022-08-17T00:00:00",
          "2022-08-10T00:00:00",
          "2022-08-01T00:00:00",
          "2022-07-26T00:00:00",
          "2022-07-18T00:00:00",
          "2022-06-21T00:00:00",
          "2022-06-17T00:00:00",
          "2022-06-13T00:00:00",
          "2022-05-17T00:00:00",
          "2022-05-13T00:00:00",
          "2022-05-02T00:00:00",
          "2022-04-27T00:00:00",
          "2022-04-25T00:00:00",
          "2022-04-19T00:00:00",
          "2022-01-21T00:00:00"
         ],
         "xaxis": "x",
         "y": [
          9245,
          9256,
          8967,
          7598,
          10150,
          9925,
          7613,
          5150,
          7084,
          8022,
          9969,
          11416,
          16052,
          18699,
          15966,
          13718,
          5725
         ],
         "yaxis": "y"
        }
       ],
       "layout": {
        "height": 1000,
        "legend": {
         "itemsizing": "constant",
         "title": {
          "text": "Category"
         },
         "tracegroupgap": 0
        },
        "margin": {
         "t": 60
        },
        "template": {
         "data": {
          "bar": [
           {
            "error_x": {
             "color": "#f2f5fa"
            },
            "error_y": {
             "color": "#f2f5fa"
            },
            "marker": {
             "line": {
              "color": "rgb(17,17,17)",
              "width": 0.5
             },
             "pattern": {
              "fillmode": "overlay",
              "size": 10,
              "solidity": 0.2
             }
            },
            "type": "bar"
           }
          ],
          "barpolar": [
           {
            "marker": {
             "line": {
              "color": "rgb(17,17,17)",
              "width": 0.5
             },
             "pattern": {
              "fillmode": "overlay",
              "size": 10,
              "solidity": 0.2
             }
            },
            "type": "barpolar"
           }
          ],
          "carpet": [
           {
            "aaxis": {
             "endlinecolor": "#A2B1C6",
             "gridcolor": "#506784",
             "linecolor": "#506784",
             "minorgridcolor": "#506784",
             "startlinecolor": "#A2B1C6"
            },
            "baxis": {
             "endlinecolor": "#A2B1C6",
             "gridcolor": "#506784",
             "linecolor": "#506784",
             "minorgridcolor": "#506784",
             "startlinecolor": "#A2B1C6"
            },
            "type": "carpet"
           }
          ],
          "choropleth": [
           {
            "colorbar": {
             "outlinewidth": 0,
             "ticks": ""
            },
            "type": "choropleth"
           }
          ],
          "contour": [
           {
            "colorbar": {
             "outlinewidth": 0,
             "ticks": ""
            },
            "colorscale": [
             [
              0,
              "#0d0887"
             ],
             [
              0.1111111111111111,
              "#46039f"
             ],
             [
              0.2222222222222222,
              "#7201a8"
             ],
             [
              0.3333333333333333,
              "#9c179e"
             ],
             [
              0.4444444444444444,
              "#bd3786"
             ],
             [
              0.5555555555555556,
              "#d8576b"
             ],
             [
              0.6666666666666666,
              "#ed7953"
             ],
             [
              0.7777777777777778,
              "#fb9f3a"
             ],
             [
              0.8888888888888888,
              "#fdca26"
             ],
             [
              1,
              "#f0f921"
             ]
            ],
            "type": "contour"
           }
          ],
          "contourcarpet": [
           {
            "colorbar": {
             "outlinewidth": 0,
             "ticks": ""
            },
            "type": "contourcarpet"
           }
          ],
          "heatmap": [
           {
            "colorbar": {
             "outlinewidth": 0,
             "ticks": ""
            },
            "colorscale": [
             [
              0,
              "#0d0887"
             ],
             [
              0.1111111111111111,
              "#46039f"
             ],
             [
              0.2222222222222222,
              "#7201a8"
             ],
             [
              0.3333333333333333,
              "#9c179e"
             ],
             [
              0.4444444444444444,
              "#bd3786"
             ],
             [
              0.5555555555555556,
              "#d8576b"
             ],
             [
              0.6666666666666666,
              "#ed7953"
             ],
             [
              0.7777777777777778,
              "#fb9f3a"
             ],
             [
              0.8888888888888888,
              "#fdca26"
             ],
             [
              1,
              "#f0f921"
             ]
            ],
            "type": "heatmap"
           }
          ],
          "heatmapgl": [
           {
            "colorbar": {
             "outlinewidth": 0,
             "ticks": ""
            },
            "colorscale": [
             [
              0,
              "#0d0887"
             ],
             [
              0.1111111111111111,
              "#46039f"
             ],
             [
              0.2222222222222222,
              "#7201a8"
             ],
             [
              0.3333333333333333,
              "#9c179e"
             ],
             [
              0.4444444444444444,
              "#bd3786"
             ],
             [
              0.5555555555555556,
              "#d8576b"
             ],
             [
              0.6666666666666666,
              "#ed7953"
             ],
             [
              0.7777777777777778,
              "#fb9f3a"
             ],
             [
              0.8888888888888888,
              "#fdca26"
             ],
             [
              1,
              "#f0f921"
             ]
            ],
            "type": "heatmapgl"
           }
          ],
          "histogram": [
           {
            "marker": {
             "pattern": {
              "fillmode": "overlay",
              "size": 10,
              "solidity": 0.2
             }
            },
            "type": "histogram"
           }
          ],
          "histogram2d": [
           {
            "colorbar": {
             "outlinewidth": 0,
             "ticks": ""
            },
            "colorscale": [
             [
              0,
              "#0d0887"
             ],
             [
              0.1111111111111111,
              "#46039f"
             ],
             [
              0.2222222222222222,
              "#7201a8"
             ],
             [
              0.3333333333333333,
              "#9c179e"
             ],
             [
              0.4444444444444444,
              "#bd3786"
             ],
             [
              0.5555555555555556,
              "#d8576b"
             ],
             [
              0.6666666666666666,
              "#ed7953"
             ],
             [
              0.7777777777777778,
              "#fb9f3a"
             ],
             [
              0.8888888888888888,
              "#fdca26"
             ],
             [
              1,
              "#f0f921"
             ]
            ],
            "type": "histogram2d"
           }
          ],
          "histogram2dcontour": [
           {
            "colorbar": {
             "outlinewidth": 0,
             "ticks": ""
            },
            "colorscale": [
             [
              0,
              "#0d0887"
             ],
             [
              0.1111111111111111,
              "#46039f"
             ],
             [
              0.2222222222222222,
              "#7201a8"
             ],
             [
              0.3333333333333333,
              "#9c179e"
             ],
             [
              0.4444444444444444,
              "#bd3786"
             ],
             [
              0.5555555555555556,
              "#d8576b"
             ],
             [
              0.6666666666666666,
              "#ed7953"
             ],
             [
              0.7777777777777778,
              "#fb9f3a"
             ],
             [
              0.8888888888888888,
              "#fdca26"
             ],
             [
              1,
              "#f0f921"
             ]
            ],
            "type": "histogram2dcontour"
           }
          ],
          "mesh3d": [
           {
            "colorbar": {
             "outlinewidth": 0,
             "ticks": ""
            },
            "type": "mesh3d"
           }
          ],
          "parcoords": [
           {
            "line": {
             "colorbar": {
              "outlinewidth": 0,
              "ticks": ""
             }
            },
            "type": "parcoords"
           }
          ],
          "pie": [
           {
            "automargin": true,
            "type": "pie"
           }
          ],
          "scatter": [
           {
            "marker": {
             "line": {
              "color": "#283442"
             }
            },
            "type": "scatter"
           }
          ],
          "scatter3d": [
           {
            "line": {
             "colorbar": {
              "outlinewidth": 0,
              "ticks": ""
             }
            },
            "marker": {
             "colorbar": {
              "outlinewidth": 0,
              "ticks": ""
             }
            },
            "type": "scatter3d"
           }
          ],
          "scattercarpet": [
           {
            "marker": {
             "colorbar": {
              "outlinewidth": 0,
              "ticks": ""
             }
            },
            "type": "scattercarpet"
           }
          ],
          "scattergeo": [
           {
            "marker": {
             "colorbar": {
              "outlinewidth": 0,
              "ticks": ""
             }
            },
            "type": "scattergeo"
           }
          ],
          "scattergl": [
           {
            "marker": {
             "line": {
              "color": "#283442"
             }
            },
            "type": "scattergl"
           }
          ],
          "scattermapbox": [
           {
            "marker": {
             "colorbar": {
              "outlinewidth": 0,
              "ticks": ""
             }
            },
            "type": "scattermapbox"
           }
          ],
          "scatterpolar": [
           {
            "marker": {
             "colorbar": {
              "outlinewidth": 0,
              "ticks": ""
             }
            },
            "type": "scatterpolar"
           }
          ],
          "scatterpolargl": [
           {
            "marker": {
             "colorbar": {
              "outlinewidth": 0,
              "ticks": ""
             }
            },
            "type": "scatterpolargl"
           }
          ],
          "scatterternary": [
           {
            "marker": {
             "colorbar": {
              "outlinewidth": 0,
              "ticks": ""
             }
            },
            "type": "scatterternary"
           }
          ],
          "surface": [
           {
            "colorbar": {
             "outlinewidth": 0,
             "ticks": ""
            },
            "colorscale": [
             [
              0,
              "#0d0887"
             ],
             [
              0.1111111111111111,
              "#46039f"
             ],
             [
              0.2222222222222222,
              "#7201a8"
             ],
             [
              0.3333333333333333,
              "#9c179e"
             ],
             [
              0.4444444444444444,
              "#bd3786"
             ],
             [
              0.5555555555555556,
              "#d8576b"
             ],
             [
              0.6666666666666666,
              "#ed7953"
             ],
             [
              0.7777777777777778,
              "#fb9f3a"
             ],
             [
              0.8888888888888888,
              "#fdca26"
             ],
             [
              1,
              "#f0f921"
             ]
            ],
            "type": "surface"
           }
          ],
          "table": [
           {
            "cells": {
             "fill": {
              "color": "#506784"
             },
             "line": {
              "color": "rgb(17,17,17)"
             }
            },
            "header": {
             "fill": {
              "color": "#2a3f5f"
             },
             "line": {
              "color": "rgb(17,17,17)"
             }
            },
            "type": "table"
           }
          ]
         },
         "layout": {
          "annotationdefaults": {
           "arrowcolor": "#f2f5fa",
           "arrowhead": 0,
           "arrowwidth": 1
          },
          "autotypenumbers": "strict",
          "coloraxis": {
           "colorbar": {
            "outlinewidth": 0,
            "ticks": ""
           }
          },
          "colorscale": {
           "diverging": [
            [
             0,
             "#8e0152"
            ],
            [
             0.1,
             "#c51b7d"
            ],
            [
             0.2,
             "#de77ae"
            ],
            [
             0.3,
             "#f1b6da"
            ],
            [
             0.4,
             "#fde0ef"
            ],
            [
             0.5,
             "#f7f7f7"
            ],
            [
             0.6,
             "#e6f5d0"
            ],
            [
             0.7,
             "#b8e186"
            ],
            [
             0.8,
             "#7fbc41"
            ],
            [
             0.9,
             "#4d9221"
            ],
            [
             1,
             "#276419"
            ]
           ],
           "sequential": [
            [
             0,
             "#0d0887"
            ],
            [
             0.1111111111111111,
             "#46039f"
            ],
            [
             0.2222222222222222,
             "#7201a8"
            ],
            [
             0.3333333333333333,
             "#9c179e"
            ],
            [
             0.4444444444444444,
             "#bd3786"
            ],
            [
             0.5555555555555556,
             "#d8576b"
            ],
            [
             0.6666666666666666,
             "#ed7953"
            ],
            [
             0.7777777777777778,
             "#fb9f3a"
            ],
            [
             0.8888888888888888,
             "#fdca26"
            ],
            [
             1,
             "#f0f921"
            ]
           ],
           "sequentialminus": [
            [
             0,
             "#0d0887"
            ],
            [
             0.1111111111111111,
             "#46039f"
            ],
            [
             0.2222222222222222,
             "#7201a8"
            ],
            [
             0.3333333333333333,
             "#9c179e"
            ],
            [
             0.4444444444444444,
             "#bd3786"
            ],
            [
             0.5555555555555556,
             "#d8576b"
            ],
            [
             0.6666666666666666,
             "#ed7953"
            ],
            [
             0.7777777777777778,
             "#fb9f3a"
            ],
            [
             0.8888888888888888,
             "#fdca26"
            ],
            [
             1,
             "#f0f921"
            ]
           ]
          },
          "colorway": [
           "#636efa",
           "#EF553B",
           "#00cc96",
           "#ab63fa",
           "#FFA15A",
           "#19d3f3",
           "#FF6692",
           "#B6E880",
           "#FF97FF",
           "#FECB52"
          ],
          "font": {
           "color": "#f2f5fa"
          },
          "geo": {
           "bgcolor": "rgb(17,17,17)",
           "lakecolor": "rgb(17,17,17)",
           "landcolor": "rgb(17,17,17)",
           "showlakes": true,
           "showland": true,
           "subunitcolor": "#506784"
          },
          "hoverlabel": {
           "align": "left"
          },
          "hovermode": "closest",
          "mapbox": {
           "style": "dark"
          },
          "paper_bgcolor": "rgb(17,17,17)",
          "plot_bgcolor": "rgb(17,17,17)",
          "polar": {
           "angularaxis": {
            "gridcolor": "#506784",
            "linecolor": "#506784",
            "ticks": ""
           },
           "bgcolor": "rgb(17,17,17)",
           "radialaxis": {
            "gridcolor": "#506784",
            "linecolor": "#506784",
            "ticks": ""
           }
          },
          "scene": {
           "xaxis": {
            "backgroundcolor": "rgb(17,17,17)",
            "gridcolor": "#506784",
            "gridwidth": 2,
            "linecolor": "#506784",
            "showbackground": true,
            "ticks": "",
            "zerolinecolor": "#C8D4E3"
           },
           "yaxis": {
            "backgroundcolor": "rgb(17,17,17)",
            "gridcolor": "#506784",
            "gridwidth": 2,
            "linecolor": "#506784",
            "showbackground": true,
            "ticks": "",
            "zerolinecolor": "#C8D4E3"
           },
           "zaxis": {
            "backgroundcolor": "rgb(17,17,17)",
            "gridcolor": "#506784",
            "gridwidth": 2,
            "linecolor": "#506784",
            "showbackground": true,
            "ticks": "",
            "zerolinecolor": "#C8D4E3"
           }
          },
          "shapedefaults": {
           "line": {
            "color": "#f2f5fa"
           }
          },
          "sliderdefaults": {
           "bgcolor": "#C8D4E3",
           "bordercolor": "rgb(17,17,17)",
           "borderwidth": 1,
           "tickwidth": 0
          },
          "ternary": {
           "aaxis": {
            "gridcolor": "#506784",
            "linecolor": "#506784",
            "ticks": ""
           },
           "baxis": {
            "gridcolor": "#506784",
            "linecolor": "#506784",
            "ticks": ""
           },
           "bgcolor": "rgb(17,17,17)",
           "caxis": {
            "gridcolor": "#506784",
            "linecolor": "#506784",
            "ticks": ""
           }
          },
          "title": {
           "x": 0.05
          },
          "updatemenudefaults": {
           "bgcolor": "#506784",
           "borderwidth": 0
          },
          "xaxis": {
           "automargin": true,
           "gridcolor": "#283442",
           "linecolor": "#506784",
           "ticks": "",
           "title": {
            "standoff": 15
           },
           "zerolinecolor": "#283442",
           "zerolinewidth": 2
          },
          "yaxis": {
           "automargin": true,
           "gridcolor": "#283442",
           "linecolor": "#506784",
           "ticks": "",
           "title": {
            "standoff": 15
           },
           "zerolinecolor": "#283442",
           "zerolinewidth": 2
          }
         }
        },
        "xaxis": {
         "anchor": "y",
         "domain": [
          0,
          1
         ],
         "title": {
          "text": "Date"
         }
        },
        "yaxis": {
         "anchor": "x",
         "domain": [
          0,
          1
         ],
         "title": {
          "text": "Balance"
         }
        }
       }
      }
     },
     "metadata": {},
     "output_type": "display_data"
    }
   ],
   "source": [
    "make_scattergraph(df_07days,'7 days')\n",
    "make_scattergraph(df_30days,'30 days')\n",
    "make_scattergraph(df_90days,'90 days')\n",
    "make_scattergraph(df_year,'Year')"
   ]
  }
 ],
 "metadata": {
  "kernelspec": {
   "display_name": "Python 3 (ipykernel)",
   "language": "python",
   "name": "python3"
  },
  "language_info": {
   "codemirror_mode": {
    "name": "ipython",
    "version": 3
   },
   "file_extension": ".py",
   "mimetype": "text/x-python",
   "name": "python",
   "nbconvert_exporter": "python",
   "pygments_lexer": "ipython3",
   "version": "3.10.11"
  },
  "toc": {
   "base_numbering": 1,
   "nav_menu": {},
   "number_sections": true,
   "sideBar": true,
   "skip_h1_title": false,
   "title_cell": "Table of Contents",
   "title_sidebar": "Contents",
   "toc_cell": false,
   "toc_position": {},
   "toc_section_display": true,
   "toc_window_display": true
  },
  "toc-autonumbering": true,
  "toc-showmarkdowntxt": false,
  "toc-showtags": false,
  "vscode": {
   "interpreter": {
    "hash": "ba401c8fead7b31efa1c6b942bd436f5b93f4709a586b10d2df538aa33993432"
   }
  }
 },
 "nbformat": 4,
 "nbformat_minor": 4
}
